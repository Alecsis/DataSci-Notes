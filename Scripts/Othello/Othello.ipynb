{
  "nbformat": 4,
  "nbformat_minor": 0,
  "metadata": {
    "colab": {
      "name": "Othello.ipynb",
      "provenance": [],
      "collapsed_sections": []
    },
    "kernelspec": {
      "name": "python3",
      "display_name": "Python 3"
    },
    "accelerator": "GPU"
  },
  "cells": [
    {
      "cell_type": "markdown",
      "metadata": {
        "id": "fO65ShnIQfwU"
      },
      "source": [
        "# Othello reinforcement learning"
      ]
    },
    {
      "cell_type": "markdown",
      "metadata": {
        "id": "-KZQg7mdQZl7"
      },
      "source": [
        "## Installation and module imports"
      ]
    },
    {
      "cell_type": "code",
      "metadata": {
        "id": "wWjmBmTMg9Qe"
      },
      "source": [
        "import os\n",
        "#assert os.environ['COLAB_TPU_ADDR'], 'Make sure to select TPU from Edit > Notebook settings > Hardware accelerator'"
      ],
      "execution_count": 28,
      "outputs": []
    },
    {
      "cell_type": "code",
      "metadata": {
        "id": "KlZsGHJUg_xT"
      },
      "source": [
        "#!pip install cloud-tpu-client==0.10 https://storage.googleapis.com/tpu-pytorch/wheels/torch_xla-1.7-cp36-cp36m-linux_x86_64.whl"
      ],
      "execution_count": 29,
      "outputs": []
    },
    {
      "cell_type": "code",
      "metadata": {
        "id": "3uL_l-o0MN82"
      },
      "source": [
        "!pip install torch===1.7.0 torchvision===0.8.1 torchaudio===0.7.0 -f https://download.pytorch.org/whl/torch_stable.html\n",
        "!pip install numpy jupyterlab matplotlib pandas scikit-learn"
      ],
      "execution_count": null,
      "outputs": []
    },
    {
      "cell_type": "code",
      "metadata": {
        "id": "EhzhOR2TLJbX",
        "colab": {
          "base_uri": "https://localhost:8080/"
        },
        "outputId": "54663b52-7618-4ff5-affd-339bd28f578f"
      },
      "source": [
        "import torch\n",
        "import torch.nn as nn\n",
        "import torch.nn.functional as F\n",
        "\n",
        "#import torch_xla\n",
        "#import torch_xla.core.xla_model as xm\n",
        "\n",
        "import numpy as np\n",
        "import matplotlib.pyplot as plt\n",
        "\n",
        "from PIL import Image, ImageDraw\n",
        "from IPython.display import display # to display images\n",
        "\n",
        "import math\n",
        "import random\n",
        "import numpy as np\n",
        "\n",
        "from enum import Enum\n",
        "\n",
        "%matplotlib inline\n",
        "\n",
        "device = torch.device(\"cuda:0\" if torch.cuda.is_available() else \"cpu\")\n",
        "# Creates a random tensor on xla:1 (a Cloud TPU core)\n",
        "#device = xm.xla_device()\n",
        "if torch.cuda.device_count():\n",
        "    print(torch.cuda.get_device_name(0))\n",
        "else:\n",
        "    print(\"No GPU\")"
      ],
      "execution_count": 31,
      "outputs": [
        {
          "output_type": "stream",
          "text": [
            "No GPU\n"
          ],
          "name": "stdout"
        }
      ]
    },
    {
      "cell_type": "markdown",
      "metadata": {
        "id": "bPsBxOITQn6I"
      },
      "source": [
        "## Othello implementation"
      ]
    },
    {
      "cell_type": "code",
      "metadata": {
        "id": "qVot3K6EQUmJ"
      },
      "source": [
        "class Signal(Enum):\n",
        "    BEGIN_GAME = 1,\n",
        "    VALID_MOVE = 2,\n",
        "    ILLEGAL_MOVE = 3,\n",
        "    GAME_OVER = 4\n",
        "\n",
        "\n",
        "class Board():\n",
        "    \"\"\"\n",
        "    Othello is a 8x8 grid\n",
        "    [Black ; empty; White] -> [-1; 0; 1]\n",
        "    \"\"\"\n",
        "\n",
        "    def __init__(self):\n",
        "        self.player = 1 # White first\n",
        "        self.state = np.zeros((8, 8), dtype=int) # Grid representation\n",
        "        self.memory = [] # To undo moves\n",
        "        self.reset() # Clear & populates central cells\n",
        "\n",
        "    def reset(self):\n",
        "        self.state = np.zeros((8, 8), dtype=int)\n",
        "        self.set_cell(3, 3, 1)\n",
        "        self.set_cell(4, 4, 1)\n",
        "        self.set_cell(3, 4, -1)\n",
        "        self.set_cell(4, 3, -1)\n",
        "        self.player = 1 # White first\n",
        "        begin_signal = Signal.BEGIN_GAME\n",
        "        self.memory = [(np.copy(self.state), begin_signal)]\n",
        "        return self.get_observation(), begin_signal\n",
        "    \n",
        "    def get_cell(self, c, l):\n",
        "        return self.state[c, l]\n",
        "\n",
        "    def set_cell(self, c, l, val):\n",
        "        self.state[c, l] = val\n",
        "    \n",
        "    def flip_cell(self, c, l):\n",
        "        self.state[c, l] = -self.state[c, l]\n",
        "\n",
        "    def step(self, action):\n",
        "        # Save state in memory\n",
        "        self.memory.append((np.copy(self.state), self.player))\n",
        "        result_signal = self.do(action)\n",
        "        return self.get_observation(), result_signal\n",
        "    \n",
        "    def do(self, action) -> Signal:\n",
        "        # If player skip turn when he could move\n",
        "        if action == None:\n",
        "            if self.can_player_move():\n",
        "                return Signal.ILLEGAL_MOVE\n",
        "            else:\n",
        "                self.changes_player()\n",
        "                return Signal.VALID_MOVE\n",
        "        # Player didn't skip turn, get coordinates\n",
        "        (c, l) = action\n",
        "        # Check if player didn't move on an occupied cell\n",
        "        if self.get_cell(c, l) != 0:\n",
        "            return Signal.ILLEGAL_MOVE\n",
        "        # Get nb of cells flipped by the action\n",
        "        flips = []\n",
        "        for (di, dj) in [(0, 1), (1, 1), (1, 0), (1, -1), (0, -1), (-1, -1), (-1, 0), (-1, 1)]:\n",
        "            flips += self.get_flips_in_dir(c, l, di, dj)\n",
        "        # If flips is empty then the move is useless and qualified illegal\n",
        "        if len(flips) == 0:\n",
        "            return Signal.ILLEGAL_MOVE\n",
        "        # If flips is not empty, apply and flip tokens \n",
        "        self.set_cell(c, l, self.player)\n",
        "        for (c, l) in flips:\n",
        "            self.flip_cell(c, l)\n",
        "        # Il none of the players can move, game is over\n",
        "        self.changes_player()\n",
        "        if not self.can_player_move():\n",
        "            self.changes_player()\n",
        "            if not self.can_player_move():\n",
        "                return Signal.GAME_OVER\n",
        "        # If everything is good then send valid signal\n",
        "        return Signal.VALID_MOVE\n",
        "    \n",
        "    def undo(self):\n",
        "        if len(self.memory) != 0:\n",
        "            (state, player) = self.memory.pop()\n",
        "            self.player = player\n",
        "            self.state = state\n",
        "\n",
        "    def changes_player(self):\n",
        "        # Changes the token color (Black 1 or White -1)\n",
        "        self.player = -self.player\n",
        "    \n",
        "    def can_player_move(self):\n",
        "        actions = self.get_possible_actions()\n",
        "        return len(actions) != 0\n",
        "\n",
        "    def get_possible_actions(self):\n",
        "        # For each empty cell, compute if any move can flip tokens\n",
        "        # If move is valid, add coordinates (c, l) in [actions]\n",
        "        actions = []\n",
        "        for c in range(8):\n",
        "            for l in range(8):\n",
        "                if self.get_cell(c, l) == 0:\n",
        "                    for (di, dj) in [(0, 1), (1, 1), (1, 0), (1, -1), (0, -1), (-1, -1), (-1, 0), (-1, 1)]:\n",
        "                        _flips = self.get_flips_in_dir(c, l, di, dj)\n",
        "                        if len(_flips) != 0:\n",
        "                            actions.append((c, l))\n",
        "        return actions\n",
        "    \n",
        "    def sample(self):\n",
        "        # Randomly choose in possible actions\n",
        "        actions = self.get_possible_actions()\n",
        "        if len(actions) == 0:\n",
        "            return None\n",
        "        # return actions[0]\n",
        "        return random.choice(actions)\n",
        "\n",
        "    def get_flips_in_dir(self, c, l, di, dj):\n",
        "        # Move a step forward in the direction\n",
        "        c += di\n",
        "        l += dj\n",
        "        # Compute the list of (c, l) to flip\n",
        "        flips = []\n",
        "        while c >= 0 and c < 8 and l >= 0 and l < 8:\n",
        "            cell_id = self.get_cell(c, l)\n",
        "            if cell_id == -self.player:\n",
        "                flips.append((c, l)) # Possible flip\n",
        "            elif cell_id == self.player:\n",
        "                return flips\n",
        "            else:\n",
        "                return []\n",
        "            # Move forward\n",
        "            c += di\n",
        "            l += dj\n",
        "        return []\n",
        "\n",
        "    def get_winner(self):\n",
        "        white = self.get_white_score()\n",
        "        black = self.get_black_score()\n",
        "        if white > black:\n",
        "            return 1\n",
        "        elif white < black:\n",
        "            return -1\n",
        "        else:\n",
        "            return 0\n",
        "    \n",
        "    def get_observation(self):\n",
        "        observation = np.zeros((2, 8, 8), dtype=int)\n",
        "        observation[0] = (self.state == 1)\n",
        "        observation[1] = (self.state == -1)\n",
        "        return observation\n",
        "    \n",
        "    def render(self, state=None):\n",
        "        if not state:\n",
        "            state = self.state\n",
        "        print(\"---\" * 8)\n",
        "        for l in range(8):\n",
        "            line = \"\"\n",
        "            for c in range(8):\n",
        "                cell_id = state[c, l]\n",
        "                if cell_id == 1:\n",
        "                    line += \"X\\t\"\n",
        "                elif cell_id == -1:\n",
        "                    line += \"O\\t\"\n",
        "                else:\n",
        "                    line += f\".\\t\"\n",
        "                    # line += f\"{c+8*l}\\t\"\n",
        "            print(line)\n",
        "        print(\"---\" * 8)\n",
        "\n",
        "    def get_white_score(self):\n",
        "        white = (self.state == 1).sum()\n",
        "        return white\n",
        "\n",
        "    def get_black_score(self):\n",
        "        black = (self.state == -1).sum()\n",
        "        return black        "
      ],
      "execution_count": 32,
      "outputs": []
    },
    {
      "cell_type": "markdown",
      "metadata": {
        "id": "32N42afrQtPQ"
      },
      "source": [
        "## Helpers"
      ]
    },
    {
      "cell_type": "code",
      "metadata": {
        "id": "fOC50kOjZ0C5"
      },
      "source": [
        "def encode_action(a):\n",
        "    if a == 64:\n",
        "        return None\n",
        "    else:\n",
        "        i = a % 8\n",
        "        j = a // 8\n",
        "        return (i, j)"
      ],
      "execution_count": 33,
      "outputs": []
    },
    {
      "cell_type": "code",
      "metadata": {
        "id": "keBU_ivePhLP"
      },
      "source": [
        "def game_over_from_signal(signal: Signal, board: Board):\n",
        "    game_over = signal in [Signal.GAME_OVER, Signal.ILLEGAL_MOVE]\n",
        "    return game_over"
      ],
      "execution_count": 34,
      "outputs": []
    },
    {
      "cell_type": "code",
      "metadata": {
        "id": "suJdRckDPksQ"
      },
      "source": [
        "def render_q(q: list, s = 1):\n",
        "    dimension = (128, 128)\n",
        "    max_negative = np.min([np.min(q), 0])\n",
        "    max_positive = np.max([np.max(q), 0])\n",
        "    image = Image.new('RGBA', dimension, (255,255,225,255))\n",
        "    draw = ImageDraw.Draw(image)\n",
        "    draw.rectangle([(0, 0), (128, 128)], fill=(255,255,255,255))\n",
        "    y = 0\n",
        "    i = 0\n",
        "    for l in range(8):\n",
        "        x = 0\n",
        "        for c in range(8):\n",
        "            xy = [(x + 1, y + 1), (x + 14, y + 14)]\n",
        "            r = q[i]\n",
        "            if r > 0:\n",
        "                a = min(255, max(0, int(r * s * 255)))\n",
        "                # a = int(r / max_positive * 255)\n",
        "                color = (0, 0, 255, a)\n",
        "            elif r < 0:\n",
        "                a = min(255, max(0, int(-r * s * 255)))\n",
        "                # a = int(r / max_negative * 255)\n",
        "                color = (255, 0, 0, a)\n",
        "            draw.rectangle(xy, fill=color)\n",
        "            x += 16\n",
        "            i += 1\n",
        "        y += 16\n",
        "    display(image)\n",
        "\n",
        "def render_qs(qs: list, s = 1):\n",
        "    n_columns = max(1, min(len(qs), 8))\n",
        "    n_rows = max(1, len(qs) // n_columns)\n",
        "\n",
        "    cell_size = 16\n",
        "    n_cells = 8\n",
        "    padding  = cell_size\n",
        "    unit_size = 128\n",
        "\n",
        "    total_height = (unit_size + padding) * n_rows - padding\n",
        "    total_width = (unit_size + padding) * n_columns - padding\n",
        "    image = Image.new('RGBA', (total_width, total_height), (255,255,255,0))\n",
        "\n",
        "    draw = ImageDraw.Draw(image)\n",
        "    draw.rectangle([(0, 0), (total_width, total_height)], fill=(255,255,255,0))\n",
        "\n",
        "    y = 0\n",
        "    k = 0\n",
        "    for row in range(n_rows):\n",
        "        x = 0\n",
        "        for column in range(n_columns):\n",
        "            yy = y\n",
        "            i = 0\n",
        "            for l in range(n_cells):\n",
        "                xx = x\n",
        "                for c in range(n_cells):\n",
        "                    xxyy = [(xx + 1, yy + 1), (xx + cell_size - 2, yy + cell_size - 2)]\n",
        "                    r = qs[k][i]\n",
        "                    if r > 0:\n",
        "                        a = min(255, max(0, int(r * s * 255)))\n",
        "                        color = (0, 0, 255, a)\n",
        "                    elif r < 0:\n",
        "                        a = min(255, max(0, int(-r * s * 255)))\n",
        "                        color = (255, 0, 0, a)\n",
        "                    draw.rectangle(xxyy, fill=color)\n",
        "                    xx += 16\n",
        "                    i += 1\n",
        "                yy += 16\n",
        "            x += unit_size + padding\n",
        "            k += 1\n",
        "        y += unit_size + padding\n",
        "    display(image)"
      ],
      "execution_count": 35,
      "outputs": []
    },
    {
      "cell_type": "markdown",
      "metadata": {
        "id": "gAeIgqtKSyst"
      },
      "source": [
        "## Model"
      ]
    },
    {
      "cell_type": "code",
      "metadata": {
        "id": "HMftnl3QS7Qq"
      },
      "source": [
        "class Model(nn.Module):\n",
        "    def __init__(self):\n",
        "        super(Model, self).__init__()\n",
        "        # Input (2, 8, 8,) # 2*8*8 = 128\n",
        "        # Output (65,)\n",
        "        self.input_layer = nn.Linear(128, 2048)\n",
        "        self.hidden_layer_1 = nn.Linear(2048, 1024)\n",
        "        self.hidden_layer_2 = nn.Linear(1024, 512)\n",
        "        self.hidden_layer_3 = nn.Linear(512, 256)\n",
        "        self.hidden_layer_4 = nn.Linear(256, 128)\n",
        "        self.output_layer = nn.Linear(128, 65)\n",
        "\n",
        "    def forward(self, x):\n",
        "        x = x.view(-1, self.num_flat_features(x))\n",
        "        x = F.tanh(self.input_layer(x))\n",
        "        x = F.tanh(self.hidden_layer_1(x))\n",
        "        x = F.tanh(self.hidden_layer_2(x))\n",
        "        x = F.tanh(self.hidden_layer_3(x))\n",
        "        x = F.tanh(self.hidden_layer_4(x))\n",
        "        output = F.tanh(self.output_layer(x))\n",
        "        return output\n",
        "\n",
        "    def num_flat_features(self, x):\n",
        "        size = x.size()[1:]  # all dimensions except the batch dimension\n",
        "        num_features = 1\n",
        "        for s in size:\n",
        "            num_features *= s\n",
        "        return num_features"
      ],
      "execution_count": 82,
      "outputs": []
    },
    {
      "cell_type": "markdown",
      "metadata": {
        "id": "y6zda9G1QxjA"
      },
      "source": [
        "## Training"
      ]
    },
    {
      "cell_type": "code",
      "metadata": {
        "colab": {
          "base_uri": "https://localhost:8080/",
          "height": 1000
        },
        "id": "-iPUwS23lwvy",
        "outputId": "5d18b8d2-df8f-4cf8-afef-0d8c15250d41"
      },
      "source": [
        "# Game board\n",
        "board = Board()\n",
        "\n",
        "# Neural net\n",
        "model = Model()\n",
        "model.to(device)\n",
        "learning_rate = 1e-4\n",
        "criterion = torch.nn.MSELoss()\n",
        "optimizer = torch.optim.Adam(model.parameters(), lr=learning_rate)\n",
        "\n",
        "# History and batch\n",
        "batch = []\n",
        "batch_size = 16\n",
        "\n",
        "# Sample Q before learning\n",
        "print(\"Before learning:\")\n",
        "s, sig = board.reset()\n",
        "Q = model(torch.tensor(s, dtype=torch.float).unsqueeze(0).to(device))\n",
        "render_q(Q.to(\"cpu\").tolist()[0], s=10)\n",
        "\n",
        "def add_to_batch(s, iQmax, r, n_s, done):\n",
        "    batch.append((s, iQmax, r, n_s, done))\n",
        "    if len(batch) > batch_size:\n",
        "        batch.pop(0)\n",
        "\n",
        "def train_on_batch():\n",
        "    inputs = torch.zeros(batch_size, 2, 8, 8).to(device) # All states\n",
        "    target_Qs = torch.zeros(batch_size, 65).to(device) # All corrected Qs with rewards\n",
        "    # Populate Qs and target_Qs tensors\n",
        "    for i, (s, iQmax, r, n_s, done) in enumerate(batch):\n",
        "        Qs = model(torch.tensor(s, dtype=torch.float).unsqueeze(0).to(device))\n",
        "        target_Qs[i] = Qs\n",
        "        if done:\n",
        "            target_Qs[i, iQmax] = r\n",
        "        else:\n",
        "            Qn_s = model(torch.tensor(n_s, dtype=torch.float).unsqueeze(0).to(device))\n",
        "            target_Qs[i, iQmax] = r + 0.1 * (0.9 * torch.max(Qn_s) - torch.max(Qs))\n",
        "        target_Qs = torch.clip(target_Qs, -3, 3) # Clamp to avoid grad boom\n",
        "    model.train() # Switch on train mode\n",
        "    Qs = model(torch.tensor(inputs, dtype=torch.float).to(device)) # Q\n",
        "    loss = criterion(target_Qs.to(device), Qs) # Compute difference between Q and target Q\n",
        "    optimizer.zero_grad() # Reset gradients to perform backprop\n",
        "    loss.backward() # Backprop\n",
        "    optimizer.step() # Apply changes\n",
        "\n",
        "def summary():\n",
        "    Qs = []\n",
        "    done = False\n",
        "    s, sig = board.reset()\n",
        "    actions = []\n",
        "    while not done:\n",
        "        Q = model(torch.tensor(s, dtype=torch.float).unsqueeze(0).to(device)).to(\"cpu\")\n",
        "        Qs.append(Q.tolist()[0])\n",
        "        iQmax = torch.argmax(Q).item()\n",
        "        white_a = encode_action(iQmax)\n",
        "        actions.append(white_a)\n",
        "        s, sig = board.step(white_a)\n",
        "        done = sig in [Signal.GAME_OVER, Signal.ILLEGAL_MOVE]\n",
        "        if done:\n",
        "            break\n",
        "        black_a = board.sample()\n",
        "        actions.append(black_a)\n",
        "        s, sig = board.step(black_a)\n",
        "        done = sig in [Signal.GAME_OVER, Signal.ILLEGAL_MOVE]\n",
        "    render_qs(Qs, s = 1)\n",
        "    print(np.mean(Qs[0]))\n",
        "    return actions\n",
        "\n",
        "n_epochs = 4096\n",
        "# Epsilon exp decreasing - one eps per #move played up to 32 moves\n",
        "epsilon_start = 0.99\n",
        "epsilon_end = 0.01\n",
        "epsilon_decay = 128\n",
        "epsilons = [epsilon_start] * 32\n",
        "\n",
        "for i in range(n_epochs):\n",
        "    # Reset board\n",
        "    done = False\n",
        "    length = 0\n",
        "    s, sig = board.reset()\n",
        "    actions = [] # keep track of played actions to reward worse when replay\n",
        "\n",
        "    while not done:\n",
        "        # Produce action\n",
        "        a = None\n",
        "        if random.random() < epsilons[length]:\n",
        "            iQmax = random.randint(0, 64)\n",
        "            a = encode_action(iQmax)\n",
        "        else:\n",
        "            Q = model(torch.tensor(s, dtype=torch.float).unsqueeze(0).to(device))\n",
        "            iQmax = torch.argmax(Q).item()\n",
        "            a = encode_action(iQmax)\n",
        "\n",
        "        # Play the action on the board\n",
        "        n_s, sig = board.step(a)\n",
        "        \n",
        "        # Get reward and game over\n",
        "        done = sig in [Signal.GAME_OVER, Signal.ILLEGAL_MOVE]\n",
        "        r = 0\n",
        "        if sig is Signal.ILLEGAL_MOVE:\n",
        "            r = -0.1\n",
        "        elif sig is Signal.VALID_MOVE:\n",
        "            r = 1 + length\n",
        "        actions.append(a)\n",
        "        \n",
        "        if not done:\n",
        "            epsilons[length] = epsilon_end + (epsilon_start - epsilon_end) * math.exp(-1. * i / epsilon_decay)\n",
        "            a = board.sample()\n",
        "            actions.append(a)\n",
        "            n_s, sig = board.step(a)\n",
        "            done = sig in [Signal.GAME_OVER, Signal.ILLEGAL_MOVE]\n",
        "\n",
        "        # Learn\n",
        "        add_to_batch(s, iQmax, r, n_s, done)\n",
        "        train_on_batch()\n",
        "\n",
        "        length += 1\n",
        "\n",
        "    # Sample Q after learning\n",
        "    if i % 16 == 15:\n",
        "        print(f\"After {i + 1} steps: {summary()}\")\n",
        "        print(f\"Epsilons {(np.floor(100 * np.array(epsilons))).tolist()}\")\n",
        "        \n"
      ],
      "execution_count": null,
      "outputs": [
        {
          "output_type": "stream",
          "text": [
            "Before learning:\n"
          ],
          "name": "stdout"
        },
        {
          "output_type": "stream",
          "text": [
            "/usr/local/lib/python3.6/dist-packages/torch/nn/functional.py:1628: UserWarning: nn.functional.tanh is deprecated. Use torch.tanh instead.\n",
            "  warnings.warn(\"nn.functional.tanh is deprecated. Use torch.tanh instead.\")\n"
          ],
          "name": "stderr"
        },
        {
          "output_type": "display_data",
          "data": {
            "image/png": "[encoded data removed]",
            "text/plain": [
              "<PIL.Image.Image image mode=RGBA size=128x128 at 0x7FB14A960048>"
            ]
          },
          "metadata": {
            "tags": []
          }
        },
        {
          "output_type": "stream",
          "text": [
            "/usr/local/lib/python3.6/dist-packages/ipykernel_launcher.py:40: UserWarning: To copy construct from a tensor, it is recommended to use sourceTensor.clone().detach() or sourceTensor.clone().detach().requires_grad_(True), rather than torch.tensor(sourceTensor).\n"
          ],
          "name": "stderr"
        },
        {
          "output_type": "display_data",
          "data": {
            "image/png": "[encoded data removed]",
            "text/plain": [
              "<PIL.Image.Image image mode=RGBA size=272x128 at 0x7FB14A960048>"
            ]
          },
          "metadata": {
            "tags": []
          }
        },
        {
          "output_type": "stream",
          "text": [
            "-0.00533892803807528\n",
            "After 16 steps: [(3, 5), (2, 3), (3, 5)]\n",
            "Epsilons [88.0, 99.0, 99.0, 99.0, 99.0, 99.0, 99.0, 99.0, 99.0, 99.0, 99.0, 99.0, 99.0, 99.0, 99.0, 99.0, 99.0, 99.0, 99.0, 99.0, 99.0, 99.0, 99.0, 99.0, 99.0, 99.0, 99.0, 99.0, 99.0, 99.0, 99.0, 99.0]\n"
          ],
          "name": "stdout"
        },
        {
          "output_type": "display_data",
          "data": {
            "image/png": "[encoded data removed]",
            "text/plain": [
              "<PIL.Image.Image image mode=RGBA size=272x128 at 0x7FB14A960048>"
            ]
          },
          "metadata": {
            "tags": []
          }
        },
        {
          "output_type": "stream",
          "text": [
            "-0.0018556041356462699\n",
            "After 32 steps: [(3, 5), (2, 5), (3, 5)]\n",
            "Epsilons [78.0, 79.0, 99.0, 99.0, 99.0, 99.0, 99.0, 99.0, 99.0, 99.0, 99.0, 99.0, 99.0, 99.0, 99.0, 99.0, 99.0, 99.0, 99.0, 99.0, 99.0, 99.0, 99.0, 99.0, 99.0, 99.0, 99.0, 99.0, 99.0, 99.0, 99.0, 99.0]\n"
          ],
          "name": "stdout"
        },
        {
          "output_type": "display_data",
          "data": {
            "image/png": "[encoded data removed]",
            "text/plain": [
              "<PIL.Image.Image image mode=RGBA size=128x128 at 0x7FB14A960048>"
            ]
          },
          "metadata": {
            "tags": []
          }
        },
        {
          "output_type": "stream",
          "text": [
            "0.03968470154168944\n",
            "After 48 steps: [(1, 2)]\n",
            "Epsilons [69.0, 79.0, 99.0, 99.0, 99.0, 99.0, 99.0, 99.0, 99.0, 99.0, 99.0, 99.0, 99.0, 99.0, 99.0, 99.0, 99.0, 99.0, 99.0, 99.0, 99.0, 99.0, 99.0, 99.0, 99.0, 99.0, 99.0, 99.0, 99.0, 99.0, 99.0, 99.0]\n"
          ],
          "name": "stdout"
        },
        {
          "output_type": "display_data",
          "data": {
            "image/png": "[encoded data removed]",
            "text/plain": [
              "<PIL.Image.Image image mode=RGBA size=272x128 at 0x7FB14A960048>"
            ]
          },
          "metadata": {
            "tags": []
          }
        },
        {
          "output_type": "stream",
          "text": [
            "-0.03294232327920886\n",
            "After 64 steps: [(5, 3), (5, 4), (5, 3)]\n",
            "Epsilons [60.0, 79.0, 99.0, 99.0, 99.0, 99.0, 99.0, 99.0, 99.0, 99.0, 99.0, 99.0, 99.0, 99.0, 99.0, 99.0, 99.0, 99.0, 99.0, 99.0, 99.0, 99.0, 99.0, 99.0, 99.0, 99.0, 99.0, 99.0, 99.0, 99.0, 99.0, 99.0]\n"
          ],
          "name": "stdout"
        },
        {
          "output_type": "display_data",
          "data": {
            "image/png": "[encoded data removed]",
            "text/plain": [
              "<PIL.Image.Image image mode=RGBA size=272x128 at 0x7FB14A960048>"
            ]
          },
          "metadata": {
            "tags": []
          }
        },
        {
          "output_type": "stream",
          "text": [
            "-0.007483118108043877\n",
            "After 80 steps: [(5, 3), (3, 2), (3, 3)]\n",
            "Epsilons [53.0, 79.0, 99.0, 99.0, 99.0, 99.0, 99.0, 99.0, 99.0, 99.0, 99.0, 99.0, 99.0, 99.0, 99.0, 99.0, 99.0, 99.0, 99.0, 99.0, 99.0, 99.0, 99.0, 99.0, 99.0, 99.0, 99.0, 99.0, 99.0, 99.0, 99.0, 99.0]\n"
          ],
          "name": "stdout"
        },
        {
          "output_type": "display_data",
          "data": {
            "image/png": "[encoded data removed]",
            "text/plain": [
              "<PIL.Image.Image image mode=RGBA size=272x128 at 0x7FB14A960048>"
            ]
          },
          "metadata": {
            "tags": []
          }
        },
        {
          "output_type": "stream",
          "text": [
            "-0.025260117248846935\n",
            "After 96 steps: [(3, 5), (2, 5), (3, 5)]\n",
            "Epsilons [48.0, 51.0, 99.0, 99.0, 99.0, 99.0, 99.0, 99.0, 99.0, 99.0, 99.0, 99.0, 99.0, 99.0, 99.0, 99.0, 99.0, 99.0, 99.0, 99.0, 99.0, 99.0, 99.0, 99.0, 99.0, 99.0, 99.0, 99.0, 99.0, 99.0, 99.0, 99.0]\n"
          ],
          "name": "stdout"
        },
        {
          "output_type": "display_data",
          "data": {
            "image/png": "[encoded data removed]",
            "text/plain": [
              "<PIL.Image.Image image mode=RGBA size=272x128 at 0x7FB14A960048>"
            ]
          },
          "metadata": {
            "tags": []
          }
        },
        {
          "output_type": "stream",
          "text": [
            "-0.010467907086086388\n",
            "After 112 steps: [(3, 5), (4, 5), (3, 6)]\n",
            "Epsilons [42.0, 51.0, 99.0, 99.0, 99.0, 99.0, 99.0, 99.0, 99.0, 99.0, 99.0, 99.0, 99.0, 99.0, 99.0, 99.0, 99.0, 99.0, 99.0, 99.0, 99.0, 99.0, 99.0, 99.0, 99.0, 99.0, 99.0, 99.0, 99.0, 99.0, 99.0, 99.0]\n"
          ],
          "name": "stdout"
        },
        {
          "output_type": "display_data",
          "data": {
            "image/png": "[encoded data removed]",
            "text/plain": [
              "<PIL.Image.Image image mode=RGBA size=272x128 at 0x7FB14A960048>"
            ]
          },
          "metadata": {
            "tags": []
          }
        },
        {
          "output_type": "stream",
          "text": [
            "-0.01760553759880937\n",
            "After 128 steps: [(3, 5), (2, 5), (3, 3)]\n",
            "Epsilons [37.0, 51.0, 99.0, 99.0, 99.0, 99.0, 99.0, 99.0, 99.0, 99.0, 99.0, 99.0, 99.0, 99.0, 99.0, 99.0, 99.0, 99.0, 99.0, 99.0, 99.0, 99.0, 99.0, 99.0, 99.0, 99.0, 99.0, 99.0, 99.0, 99.0, 99.0, 99.0]\n"
          ],
          "name": "stdout"
        },
        {
          "output_type": "display_data",
          "data": {
            "image/png": "[encoded data removed]",
            "text/plain": [
              "<PIL.Image.Image image mode=RGBA size=272x128 at 0x7FB14A960048>"
            ]
          },
          "metadata": {
            "tags": []
          }
        },
        {
          "output_type": "stream",
          "text": [
            "-0.022239175213214297\n",
            "After 144 steps: [(3, 5), (2, 3), (1, 5)]\n",
            "Epsilons [33.0, 33.0, 99.0, 99.0, 99.0, 99.0, 99.0, 99.0, 99.0, 99.0, 99.0, 99.0, 99.0, 99.0, 99.0, 99.0, 99.0, 99.0, 99.0, 99.0, 99.0, 99.0, 99.0, 99.0, 99.0, 99.0, 99.0, 99.0, 99.0, 99.0, 99.0, 99.0]\n"
          ],
          "name": "stdout"
        },
        {
          "output_type": "display_data",
          "data": {
            "image/png": "[encoded data removed]",
            "text/plain": [
              "<PIL.Image.Image image mode=RGBA size=128x128 at 0x7FB14A960048>"
            ]
          },
          "metadata": {
            "tags": []
          }
        },
        {
          "output_type": "stream",
          "text": [
            "-0.009425576138668335\n",
            "After 160 steps: [(2, 2)]\n",
            "Epsilons [31.0, 33.0, 99.0, 99.0, 99.0, 99.0, 99.0, 99.0, 99.0, 99.0, 99.0, 99.0, 99.0, 99.0, 99.0, 99.0, 99.0, 99.0, 99.0, 99.0, 99.0, 99.0, 99.0, 99.0, 99.0, 99.0, 99.0, 99.0, 99.0, 99.0, 99.0, 99.0]\n"
          ],
          "name": "stdout"
        },
        {
          "output_type": "display_data",
          "data": {
            "image/png": "[encoded data removed]",
            "text/plain": [
              "<PIL.Image.Image image mode=RGBA size=128x128 at 0x7FB14A960048>"
            ]
          },
          "metadata": {
            "tags": []
          }
        },
        {
          "output_type": "stream",
          "text": [
            "-0.0138863805663557\n",
            "After 176 steps: [(2, 5)]\n",
            "Epsilons [26.0, 26.0, 99.0, 99.0, 99.0, 99.0, 99.0, 99.0, 99.0, 99.0, 99.0, 99.0, 99.0, 99.0, 99.0, 99.0, 99.0, 99.0, 99.0, 99.0, 99.0, 99.0, 99.0, 99.0, 99.0, 99.0, 99.0, 99.0, 99.0, 99.0, 99.0, 99.0]\n"
          ],
          "name": "stdout"
        },
        {
          "output_type": "display_data",
          "data": {
            "image/png": "[encoded data removed]",
            "text/plain": [
              "<PIL.Image.Image image mode=RGBA size=272x128 at 0x7FB14A960048>"
            ]
          },
          "metadata": {
            "tags": []
          }
        },
        {
          "output_type": "stream",
          "text": [
            "-0.011918674889378823\n",
            "After 192 steps: [(5, 3), (5, 4), (0, 4)]\n",
            "Epsilons [23.0, 26.0, 99.0, 99.0, 99.0, 99.0, 99.0, 99.0, 99.0, 99.0, 99.0, 99.0, 99.0, 99.0, 99.0, 99.0, 99.0, 99.0, 99.0, 99.0, 99.0, 99.0, 99.0, 99.0, 99.0, 99.0, 99.0, 99.0, 99.0, 99.0, 99.0, 99.0]\n"
          ],
          "name": "stdout"
        },
        {
          "output_type": "display_data",
          "data": {
            "image/png": "[encoded data removed]",
            "text/plain": [
              "<PIL.Image.Image image mode=RGBA size=272x128 at 0x7FB14A960048>"
            ]
          },
          "metadata": {
            "tags": []
          }
        },
        {
          "output_type": "stream",
          "text": [
            "-0.004877198888705327\n",
            "After 208 steps: [(2, 4), (2, 3), (2, 4)]\n",
            "Epsilons [20.0, 22.0, 99.0, 99.0, 99.0, 99.0, 99.0, 99.0, 99.0, 99.0, 99.0, 99.0, 99.0, 99.0, 99.0, 99.0, 99.0, 99.0, 99.0, 99.0, 99.0, 99.0, 99.0, 99.0, 99.0, 99.0, 99.0, 99.0, 99.0, 99.0, 99.0, 99.0]\n"
          ],
          "name": "stdout"
        },
        {
          "output_type": "display_data",
          "data": {
            "image/png": "[encoded data removed]",
            "text/plain": [
              "<PIL.Image.Image image mode=RGBA size=128x128 at 0x7FB14A960048>"
            ]
          },
          "metadata": {
            "tags": []
          }
        },
        {
          "output_type": "stream",
          "text": [
            "-0.003574511675665585\n",
            "After 224 steps: [(3, 2)]\n",
            "Epsilons [18.0, 18.0, 99.0, 99.0, 99.0, 99.0, 99.0, 99.0, 99.0, 99.0, 99.0, 99.0, 99.0, 99.0, 99.0, 99.0, 99.0, 99.0, 99.0, 99.0, 99.0, 99.0, 99.0, 99.0, 99.0, 99.0, 99.0, 99.0, 99.0, 99.0, 99.0, 99.0]\n"
          ],
          "name": "stdout"
        },
        {
          "output_type": "display_data",
          "data": {
            "image/png": "[encoded data removed]",
            "text/plain": [
              "<PIL.Image.Image image mode=RGBA size=272x128 at 0x7FB14A960048>"
            ]
          },
          "metadata": {
            "tags": []
          }
        },
        {
          "output_type": "stream",
          "text": [
            "-0.020220634982419702\n",
            "After 240 steps: [(4, 2), (3, 2), (4, 2)]\n",
            "Epsilons [16.0, 18.0, 99.0, 99.0, 99.0, 99.0, 99.0, 99.0, 99.0, 99.0, 99.0, 99.0, 99.0, 99.0, 99.0, 99.0, 99.0, 99.0, 99.0, 99.0, 99.0, 99.0, 99.0, 99.0, 99.0, 99.0, 99.0, 99.0, 99.0, 99.0, 99.0, 99.0]\n"
          ],
          "name": "stdout"
        },
        {
          "output_type": "display_data",
          "data": {
            "image/png": "[encoded data removed]",
            "text/plain": [
              "<PIL.Image.Image image mode=RGBA size=272x128 at 0x7FB14A960048>"
            ]
          },
          "metadata": {
            "tags": []
          }
        },
        {
          "output_type": "stream",
          "text": [
            "-0.019426130167602633\n",
            "After 256 steps: [(4, 2), (5, 2), (4, 2)]\n",
            "Epsilons [14.0, 14.0, 99.0, 99.0, 99.0, 99.0, 99.0, 99.0, 99.0, 99.0, 99.0, 99.0, 99.0, 99.0, 99.0, 99.0, 99.0, 99.0, 99.0, 99.0, 99.0, 99.0, 99.0, 99.0, 99.0, 99.0, 99.0, 99.0, 99.0, 99.0, 99.0, 99.0]\n"
          ],
          "name": "stdout"
        },
        {
          "output_type": "display_data",
          "data": {
            "image/png": "[encoded data removed]",
            "text/plain": [
              "<PIL.Image.Image image mode=RGBA size=272x128 at 0x7FB14A960048>"
            ]
          },
          "metadata": {
            "tags": []
          }
        },
        {
          "output_type": "stream",
          "text": [
            "-0.0063196341363856426\n",
            "After 272 steps: [(3, 5), (2, 3), (4, 5)]\n",
            "Epsilons [13.0, 14.0, 99.0, 99.0, 99.0, 99.0, 99.0, 99.0, 99.0, 99.0, 99.0, 99.0, 99.0, 99.0, 99.0, 99.0, 99.0, 99.0, 99.0, 99.0, 99.0, 99.0, 99.0, 99.0, 99.0, 99.0, 99.0, 99.0, 99.0, 99.0, 99.0, 99.0]\n"
          ],
          "name": "stdout"
        },
        {
          "output_type": "display_data",
          "data": {
            "image/png": "[encoded data removed]",
            "text/plain": [
              "<PIL.Image.Image image mode=RGBA size=272x128 at 0x7FB14A960048>"
            ]
          },
          "metadata": {
            "tags": []
          }
        },
        {
          "output_type": "stream",
          "text": [
            "0.01224251514336524\n",
            "After 288 steps: [(3, 5), (4, 5), (7, 3)]\n",
            "Epsilons [11.0, 14.0, 99.0, 99.0, 99.0, 99.0, 99.0, 99.0, 99.0, 99.0, 99.0, 99.0, 99.0, 99.0, 99.0, 99.0, 99.0, 99.0, 99.0, 99.0, 99.0, 99.0, 99.0, 99.0, 99.0, 99.0, 99.0, 99.0, 99.0, 99.0, 99.0, 99.0]\n"
          ],
          "name": "stdout"
        },
        {
          "output_type": "display_data",
          "data": {
            "image/png": "[encoded data removed]",
            "text/plain": [
              "<PIL.Image.Image image mode=RGBA size=272x128 at 0x7FB14A960048>"
            ]
          },
          "metadata": {
            "tags": []
          }
        },
        {
          "output_type": "stream",
          "text": [
            "0.006921714714889486\n",
            "After 304 steps: [(3, 5), (4, 5), (1, 7)]\n",
            "Epsilons [10.0, 14.0, 99.0, 99.0, 99.0, 99.0, 99.0, 99.0, 99.0, 99.0, 99.0, 99.0, 99.0, 99.0, 99.0, 99.0, 99.0, 99.0, 99.0, 99.0, 99.0, 99.0, 99.0, 99.0, 99.0, 99.0, 99.0, 99.0, 99.0, 99.0, 99.0, 99.0]\n"
          ],
          "name": "stdout"
        },
        {
          "output_type": "display_data",
          "data": {
            "image/png": "[encoded data removed]",
            "text/plain": [
              "<PIL.Image.Image image mode=RGBA size=272x128 at 0x7FB14A960048>"
            ]
          },
          "metadata": {
            "tags": []
          }
        },
        {
          "output_type": "stream",
          "text": [
            "0.007817261506212302\n",
            "After 320 steps: [(3, 5), (4, 5), (1, 3)]\n",
            "Epsilons [9.0, 14.0, 99.0, 99.0, 99.0, 99.0, 99.0, 99.0, 99.0, 99.0, 99.0, 99.0, 99.0, 99.0, 99.0, 99.0, 99.0, 99.0, 99.0, 99.0, 99.0, 99.0, 99.0, 99.0, 99.0, 99.0, 99.0, 99.0, 99.0, 99.0, 99.0, 99.0]\n"
          ],
          "name": "stdout"
        },
        {
          "output_type": "display_data",
          "data": {
            "image/png": "[encoded data removed]",
            "text/plain": [
              "<PIL.Image.Image image mode=RGBA size=416x128 at 0x7FB14A960048>"
            ]
          },
          "metadata": {
            "tags": []
          }
        },
        {
          "output_type": "stream",
          "text": [
            "-0.0018661858048290014\n",
            "After 336 steps: [(3, 5), (2, 3), (4, 2), (3, 6), (3, 3)]\n",
            "Epsilons [8.0, 14.0, 99.0, 99.0, 99.0, 99.0, 99.0, 99.0, 99.0, 99.0, 99.0, 99.0, 99.0, 99.0, 99.0, 99.0, 99.0, 99.0, 99.0, 99.0, 99.0, 99.0, 99.0, 99.0, 99.0, 99.0, 99.0, 99.0, 99.0, 99.0, 99.0, 99.0]\n"
          ],
          "name": "stdout"
        },
        {
          "output_type": "display_data",
          "data": {
            "image/png": "[encoded data removed]",
            "text/plain": [
              "<PIL.Image.Image image mode=RGBA size=272x128 at 0x7FB14A960048>"
            ]
          },
          "metadata": {
            "tags": []
          }
        },
        {
          "output_type": "stream",
          "text": [
            "-0.0008716276811005977\n",
            "After 352 steps: [(3, 5), (4, 5), (6, 7)]\n",
            "Epsilons [7.0, 14.0, 99.0, 99.0, 99.0, 99.0, 99.0, 99.0, 99.0, 99.0, 99.0, 99.0, 99.0, 99.0, 99.0, 99.0, 99.0, 99.0, 99.0, 99.0, 99.0, 99.0, 99.0, 99.0, 99.0, 99.0, 99.0, 99.0, 99.0, 99.0, 99.0, 99.0]\n"
          ],
          "name": "stdout"
        },
        {
          "output_type": "display_data",
          "data": {
            "image/png": "[encoded data removed]",
            "text/plain": [
              "<PIL.Image.Image image mode=RGBA size=272x128 at 0x7FB14A960048>"
            ]
          },
          "metadata": {
            "tags": []
          }
        },
        {
          "output_type": "stream",
          "text": [
            "-0.025556827139539214\n",
            "After 368 steps: [(3, 5), (4, 5), (3, 6)]\n",
            "Epsilons [6.0, 14.0, 99.0, 99.0, 99.0, 99.0, 99.0, 99.0, 99.0, 99.0, 99.0, 99.0, 99.0, 99.0, 99.0, 99.0, 99.0, 99.0, 99.0, 99.0, 99.0, 99.0, 99.0, 99.0, 99.0, 99.0, 99.0, 99.0, 99.0, 99.0, 99.0, 99.0]\n"
          ],
          "name": "stdout"
        },
        {
          "output_type": "display_data",
          "data": {
            "image/png": "[encoded data removed]",
            "text/plain": [
              "<PIL.Image.Image image mode=RGBA size=416x128 at 0x7FB14A960048>"
            ]
          },
          "metadata": {
            "tags": []
          }
        },
        {
          "output_type": "stream",
          "text": [
            "0.005635531139201843\n",
            "After 384 steps: [(3, 5), (4, 5), (5, 3), (2, 5), (2, 0)]\n",
            "Epsilons [5.0, 6.0, 99.0, 99.0, 99.0, 99.0, 99.0, 99.0, 99.0, 99.0, 99.0, 99.0, 99.0, 99.0, 99.0, 99.0, 99.0, 99.0, 99.0, 99.0, 99.0, 99.0, 99.0, 99.0, 99.0, 99.0, 99.0, 99.0, 99.0, 99.0, 99.0, 99.0]\n"
          ],
          "name": "stdout"
        },
        {
          "output_type": "display_data",
          "data": {
            "image/png": "[encoded data removed]",
            "text/plain": [
              "<PIL.Image.Image image mode=RGBA size=128x128 at 0x7FB14A960048>"
            ]
          },
          "metadata": {
            "tags": []
          }
        },
        {
          "output_type": "stream",
          "text": [
            "0.08487614468635561\n",
            "After 400 steps: [(5, 5)]\n",
            "Epsilons [5.0, 5.0, 99.0, 99.0, 99.0, 99.0, 99.0, 99.0, 99.0, 99.0, 99.0, 99.0, 99.0, 99.0, 99.0, 99.0, 99.0, 99.0, 99.0, 99.0, 99.0, 99.0, 99.0, 99.0, 99.0, 99.0, 99.0, 99.0, 99.0, 99.0, 99.0, 99.0]\n"
          ],
          "name": "stdout"
        },
        {
          "output_type": "display_data",
          "data": {
            "image/png": "[encoded data removed]",
            "text/plain": [
              "<PIL.Image.Image image mode=RGBA size=128x128 at 0x7FB14A960048>"
            ]
          },
          "metadata": {
            "tags": []
          }
        },
        {
          "output_type": "stream",
          "text": [
            "-0.10653795299048607\n",
            "After 416 steps: [(3, 4)]\n",
            "Epsilons [5.0, 5.0, 99.0, 99.0, 99.0, 99.0, 99.0, 99.0, 99.0, 99.0, 99.0, 99.0, 99.0, 99.0, 99.0, 99.0, 99.0, 99.0, 99.0, 99.0, 99.0, 99.0, 99.0, 99.0, 99.0, 99.0, 99.0, 99.0, 99.0, 99.0, 99.0, 99.0]\n"
          ],
          "name": "stdout"
        },
        {
          "output_type": "display_data",
          "data": {
            "image/png": "[encoded data removed]",
            "text/plain": [
              "<PIL.Image.Image image mode=RGBA size=272x128 at 0x7FB14A960048>"
            ]
          },
          "metadata": {
            "tags": []
          }
        },
        {
          "output_type": "stream",
          "text": [
            "-0.042028643022506286\n",
            "After 432 steps: [(2, 4), (2, 5), (2, 4)]\n",
            "Epsilons [4.0, 5.0, 99.0, 99.0, 99.0, 99.0, 99.0, 99.0, 99.0, 99.0, 99.0, 99.0, 99.0, 99.0, 99.0, 99.0, 99.0, 99.0, 99.0, 99.0, 99.0, 99.0, 99.0, 99.0, 99.0, 99.0, 99.0, 99.0, 99.0, 99.0, 99.0, 99.0]\n"
          ],
          "name": "stdout"
        },
        {
          "output_type": "display_data",
          "data": {
            "image/png": "[encoded data removed]",
            "text/plain": [
              "<PIL.Image.Image image mode=RGBA size=416x128 at 0x7FB14A960048>"
            ]
          },
          "metadata": {
            "tags": []
          }
        },
        {
          "output_type": "stream",
          "text": [
            "-0.018137826247570606\n",
            "After 448 steps: [(2, 4), (2, 5), (5, 3), (1, 4), (3, 1)]\n",
            "Epsilons [3.0, 5.0, 99.0, 99.0, 99.0, 99.0, 99.0, 99.0, 99.0, 99.0, 99.0, 99.0, 99.0, 99.0, 99.0, 99.0, 99.0, 99.0, 99.0, 99.0, 99.0, 99.0, 99.0, 99.0, 99.0, 99.0, 99.0, 99.0, 99.0, 99.0, 99.0, 99.0]\n"
          ],
          "name": "stdout"
        },
        {
          "output_type": "display_data",
          "data": {
            "image/png": "[encoded data removed]",
            "text/plain": [
              "<PIL.Image.Image image mode=RGBA size=272x128 at 0x7FB14A960048>"
            ]
          },
          "metadata": {
            "tags": []
          }
        },
        {
          "output_type": "stream",
          "text": [
            "-0.03452045801274765\n",
            "After 464 steps: [(2, 4), (4, 5), (4, 7)]\n",
            "Epsilons [3.0, 5.0, 99.0, 99.0, 99.0, 99.0, 99.0, 99.0, 99.0, 99.0, 99.0, 99.0, 99.0, 99.0, 99.0, 99.0, 99.0, 99.0, 99.0, 99.0, 99.0, 99.0, 99.0, 99.0, 99.0, 99.0, 99.0, 99.0, 99.0, 99.0, 99.0, 99.0]\n"
          ],
          "name": "stdout"
        },
        {
          "output_type": "display_data",
          "data": {
            "image/png": "[encoded data removed]",
            "text/plain": [
              "<PIL.Image.Image image mode=RGBA size=272x128 at 0x7FB14A960048>"
            ]
          },
          "metadata": {
            "tags": []
          }
        },
        {
          "output_type": "stream",
          "text": [
            "-0.047676584801564996\n",
            "After 480 steps: [(2, 4), (2, 5), (2, 4)]\n",
            "Epsilons [3.0, 5.0, 99.0, 99.0, 99.0, 99.0, 99.0, 99.0, 99.0, 99.0, 99.0, 99.0, 99.0, 99.0, 99.0, 99.0, 99.0, 99.0, 99.0, 99.0, 99.0, 99.0, 99.0, 99.0, 99.0, 99.0, 99.0, 99.0, 99.0, 99.0, 99.0, 99.0]\n"
          ],
          "name": "stdout"
        },
        {
          "output_type": "display_data",
          "data": {
            "image/png": "[encoded data removed]",
            "text/plain": [
              "<PIL.Image.Image image mode=RGBA size=272x128 at 0x7FB14A960048>"
            ]
          },
          "metadata": {
            "tags": []
          }
        },
        {
          "output_type": "stream",
          "text": [
            "-0.04720268630458472\n",
            "After 496 steps: [(2, 4), (2, 3), (3, 7)]\n",
            "Epsilons [3.0, 5.0, 99.0, 99.0, 99.0, 99.0, 99.0, 99.0, 99.0, 99.0, 99.0, 99.0, 99.0, 99.0, 99.0, 99.0, 99.0, 99.0, 99.0, 99.0, 99.0, 99.0, 99.0, 99.0, 99.0, 99.0, 99.0, 99.0, 99.0, 99.0, 99.0, 99.0]\n"
          ],
          "name": "stdout"
        },
        {
          "output_type": "display_data",
          "data": {
            "image/png": "[encoded data removed]",
            "text/plain": [
              "<PIL.Image.Image image mode=RGBA size=272x128 at 0x7FB14A960048>"
            ]
          },
          "metadata": {
            "tags": []
          }
        },
        {
          "output_type": "stream",
          "text": [
            "-0.06987655961241286\n",
            "After 512 steps: [(2, 4), (4, 5), (3, 6)]\n",
            "Epsilons [2.0, 5.0, 99.0, 99.0, 99.0, 99.0, 99.0, 99.0, 99.0, 99.0, 99.0, 99.0, 99.0, 99.0, 99.0, 99.0, 99.0, 99.0, 99.0, 99.0, 99.0, 99.0, 99.0, 99.0, 99.0, 99.0, 99.0, 99.0, 99.0, 99.0, 99.0, 99.0]\n"
          ],
          "name": "stdout"
        },
        {
          "output_type": "display_data",
          "data": {
            "image/png": "[encoded data removed]",
            "text/plain": [
              "<PIL.Image.Image image mode=RGBA size=272x128 at 0x7FB14A960048>"
            ]
          },
          "metadata": {
            "tags": []
          }
        },
        {
          "output_type": "stream",
          "text": [
            "-0.08264946346887603\n",
            "After 528 steps: [(2, 4), (2, 5), (3, 2)]\n",
            "Epsilons [2.0, 5.0, 99.0, 99.0, 99.0, 99.0, 99.0, 99.0, 99.0, 99.0, 99.0, 99.0, 99.0, 99.0, 99.0, 99.0, 99.0, 99.0, 99.0, 99.0, 99.0, 99.0, 99.0, 99.0, 99.0, 99.0, 99.0, 99.0, 99.0, 99.0, 99.0, 99.0]\n"
          ],
          "name": "stdout"
        },
        {
          "output_type": "display_data",
          "data": {
            "image/png": "[encoded data removed]",
            "text/plain": [
              "<PIL.Image.Image image mode=RGBA size=272x128 at 0x7FB14A960048>"
            ]
          },
          "metadata": {
            "tags": []
          }
        },
        {
          "output_type": "stream",
          "text": [
            "-0.07253780346363783\n",
            "After 544 steps: [(2, 4), (2, 5), (2, 4)]\n",
            "Epsilons [2.0, 5.0, 99.0, 99.0, 99.0, 99.0, 99.0, 99.0, 99.0, 99.0, 99.0, 99.0, 99.0, 99.0, 99.0, 99.0, 99.0, 99.0, 99.0, 99.0, 99.0, 99.0, 99.0, 99.0, 99.0, 99.0, 99.0, 99.0, 99.0, 99.0, 99.0, 99.0]\n"
          ],
          "name": "stdout"
        },
        {
          "output_type": "display_data",
          "data": {
            "image/png": "[encoded data removed]",
            "text/plain": [
              "<PIL.Image.Image image mode=RGBA size=272x128 at 0x7FB14A960048>"
            ]
          },
          "metadata": {
            "tags": []
          }
        },
        {
          "output_type": "stream",
          "text": [
            "-0.09612458851188421\n",
            "After 560 steps: [(2, 4), (2, 5), (6, 4)]\n",
            "Epsilons [2.0, 5.0, 99.0, 99.0, 99.0, 99.0, 99.0, 99.0, 99.0, 99.0, 99.0, 99.0, 99.0, 99.0, 99.0, 99.0, 99.0, 99.0, 99.0, 99.0, 99.0, 99.0, 99.0, 99.0, 99.0, 99.0, 99.0, 99.0, 99.0, 99.0, 99.0, 99.0]\n"
          ],
          "name": "stdout"
        }
      ]
    }
  ]
}