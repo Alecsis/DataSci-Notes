{
 "metadata": {
  "language_info": {
   "codemirror_mode": {
    "name": "ipython",
    "version": 3
   },
   "file_extension": ".py",
   "mimetype": "text/x-python",
   "name": "python",
   "nbconvert_exporter": "python",
   "pygments_lexer": "ipython3",
   "version": "3.8.6-final"
  },
  "orig_nbformat": 2,
  "kernelspec": {
   "name": "python3",
   "display_name": "Python 3"
  }
 },
 "nbformat": 4,
 "nbformat_minor": 2,
 "cells": [
  {
   "source": [
    "# Training d'un agent Othello"
   ],
   "cell_type": "markdown",
   "metadata": {}
  },
  {
   "source": [
    "## Importation des modules"
   ],
   "cell_type": "markdown",
   "metadata": {}
  },
  {
   "cell_type": "code",
   "execution_count": 9,
   "metadata": {},
   "outputs": [],
   "source": [
    "from Board import Board, Signal\n",
    "from Agent import Memory, Model, encode_action\n",
    "\n",
    "import torch\n",
    "import torch.nn as nn\n",
    "import torch.nn.functional as F\n",
    "\n",
    "import numpy as np\n",
    "import matplotlib.pyplot as plt\n",
    "\n",
    "from PIL import Image, ImageDraw\n",
    "from IPython.display import display # to display images\n",
    "\n",
    "import math\n",
    "import random\n",
    "import numpy as np\n",
    "\n",
    "%matplotlib inline\n",
    "\n",
    "device = torch.device(\"cuda:0\" if torch.cuda.is_available() else \"cpu\")"
   ]
  },
  {
   "source": [
    "## Définition d'un mmodèle de réseau de neurones"
   ],
   "cell_type": "markdown",
   "metadata": {}
  },
  {
   "cell_type": "code",
   "execution_count": 2,
   "metadata": {},
   "outputs": [],
   "source": [
    "class Model(nn.Module):\n",
    "\n",
    "    def __init__(self):\n",
    "        super(Model, self).__init__()\n",
    "        # Input (2, 8, 8,)\n",
    "        # Output (65,)\n",
    "        self.input_layer = nn.Linear(128, 128)\n",
    "        self.hidden_layer_1 = nn.Linear(128, 128)\n",
    "        self.hidden_layer_2 = nn.Linear(128, 128)\n",
    "        self.hidden_layer_3 = nn.Linear(128, 128)\n",
    "        self.hidden_layer_4 = nn.Linear(128, 128)\n",
    "        self.hidden_layer_5 = nn.Linear(128, 128)\n",
    "        # self.hidden_layer_6 = nn.Linear(128, 128)\n",
    "        # self.hidden_layer_7 = nn.Linear(128, 128)\n",
    "        # self.hidden_layer_8 = nn.Linear(128, 128)\n",
    "        # self.hidden_layer_9 = nn.Linear(128, 128)\n",
    "        # self.hidden_layer_10 = nn.Linear(128, 128)\n",
    "        # self.hidden_layer_11 = nn.Linear(128, 128)\n",
    "        # self.input_layer = nn.Conv2d(2, 128, 3, padding=1)\n",
    "        # self.hidden_layer_1 = nn.Conv2d(128, 128, 3, padding=1)\n",
    "        # self.hidden_layer_2 = nn.Conv2d(128, 128, 3, padding=1)\n",
    "        # self.hidden_layer_3 = nn.Conv2d(128, 128, 3, padding=1)\n",
    "        # self.hidden_layer_4 = nn.Conv2d(128, 128, 3, padding=1)\n",
    "        # self.hidden_layer_5 = nn.Linear(128*8*8, 128*8)\n",
    "        # self.hidden_layer_6 = nn.Linear(128*8, 128)\n",
    "        self.output_layer = nn.Linear(128, 65)\n",
    "\n",
    "    def forward(self, x):\n",
    "        x = x.view(-1, self.num_flat_features(x))\n",
    "        x = F.relu(self.input_layer(x))\n",
    "        x = F.relu(self.hidden_layer_1(x))\n",
    "        x = F.relu(self.hidden_layer_2(x))\n",
    "        x = F.relu(self.hidden_layer_3(x))\n",
    "        x = F.relu(self.hidden_layer_4(x))\n",
    "        x = F.relu(self.hidden_layer_5(x))\n",
    "        # x = F.relu(self.hidden_layer_6(x))\n",
    "        # x = F.relu(self.hidden_layer_7(x))\n",
    "        # x = F.relu(self.hidden_layer_8(x))\n",
    "        # x = F.relu(self.hidden_layer_9(x))\n",
    "        # x = F.relu(self.hidden_layer_10(x))\n",
    "        # x = F.relu(self.hidden_layer_11(x))\n",
    "        output = self.output_layer(x)\n",
    "        return output\n",
    "    \n",
    "    def num_flat_features(self, x):\n",
    "        size = x.size()[1:]  # all dimensions except the batch dimension\n",
    "        num_features = 1\n",
    "        for s in size:\n",
    "            num_features *= s\n",
    "        return num_features"
   ]
  },
  {
   "cell_type": "code",
   "execution_count": 3,
   "metadata": {},
   "outputs": [],
   "source": [
    "def reward_from_signal(signal: Signal, board: Board):\n",
    "    reward = 0\n",
    "    if signal is Signal.ILLEGAL_MOVE:\n",
    "            reward = -1\n",
    "    elif signal is Signal.VALID_MOVE:\n",
    "        reward = 1\n",
    "    else: # Game over\n",
    "        winner = board.get_winner()\n",
    "        if winner == 1: # White\n",
    "            reward = 100\n",
    "        elif winner == -1: # Black\n",
    "            reward = -100\n",
    "        else: # Draw\n",
    "            reward = -50\n",
    "    return reward\n",
    "\n",
    "def game_over_from_signal(signal: Signal, board: Board):\n",
    "    game_over = signal in [Signal.GAME_OVER, Signal.ILLEGAL_MOVE]\n",
    "    return game_over"
   ]
  },
  {
   "source": [
    "## Méthode de visualisation des q_matrix"
   ],
   "cell_type": "markdown",
   "metadata": {}
  },
  {
   "cell_type": "code",
   "execution_count": 4,
   "metadata": {},
   "outputs": [],
   "source": [
    "def render_q(q: list):\n",
    "    dimension = (128, 128)\n",
    "    max_negative = np.min([np.min(q), 0])\n",
    "    max_positive = np.max([np.max(q), 0])\n",
    "    image = Image.new('RGBA', dimension, (255,255,225,255))\n",
    "    draw = ImageDraw.Draw(image)\n",
    "    y = 0\n",
    "    i = 0\n",
    "    for l in range(8):\n",
    "        x = 0\n",
    "        for c in range(8):\n",
    "            xy = [(x + 1, y + 1), (x + 14, y + 14)]\n",
    "            r = q[i]\n",
    "            if r > 0:\n",
    "                # a = min(255, max(0, int(r * 1 * 255)))\n",
    "                a = int(r / max_positive * 255)\n",
    "                color = (0,0,255,a)\n",
    "                draw.rectangle(xy, fill=color)\n",
    "            elif r < 0:\n",
    "                # a = min(255, max(0, int(-r * 1 * 255)))\n",
    "                a = int(r / max_negative * 255)\n",
    "                color = (255,0,0,a)\n",
    "                draw.rectangle(xy, fill=color)\n",
    "            x += 16\n",
    "            i += 1\n",
    "        y += 16\n",
    "    display(image)"
   ]
  },
  {
   "source": [
    "## Premiere étape : apprentissage d'un seul coup"
   ],
   "cell_type": "markdown",
   "metadata": {}
  },
  {
   "cell_type": "code",
   "execution_count": 106,
   "metadata": {},
   "outputs": [
    {
     "output_type": "stream",
     "name": "stdout",
     "text": [
      "Q_matrix of initial state, before training:\n"
     ]
    },
    {
     "output_type": "display_data",
     "data": {
      "text/plain": "<PIL.Image.Image image mode=RGBA size=128x128 at 0x1CD235F2760>",
      "image/png": "[encoded data removed]"
     },
     "metadata": {}
    },
    {
     "output_type": "stream",
     "name": "stdout",
     "text": [
      "Target Q matrix:\n"
     ]
    },
    {
     "output_type": "display_data",
     "data": {
      "text/plain": "<PIL.Image.Image image mode=RGBA size=128x128 at 0x1CCD4689BE0>",
      "image/png": "[encoded data removed]"
     },
     "metadata": {}
    },
    {
     "output_type": "stream",
     "name": "stdout",
     "text": [
      "Q_matrix of initial state, after training:\n"
     ]
    },
    {
     "output_type": "display_data",
     "data": {
      "text/plain": "<PIL.Image.Image image mode=RGBA size=128x128 at 0x1CD235F2AC0>",
      "image/png": "[encoded data removed]"
     },
     "metadata": {}
    }
   ],
   "source": [
    "# New model\n",
    "board = Board()\n",
    "model = Model()\n",
    "learning_rate = 0.3\n",
    "criterion = torch.nn.MSELoss()\n",
    "optimizer = torch.optim.SGD(model.parameters(), lr=learning_rate)\n",
    "\n",
    "# Get initial state from the board\n",
    "initial_s, signal = board.reset()\n",
    "initial_s = torch.tensor(initial_s, dtype=torch.float).unsqueeze(0)\n",
    "\n",
    "# Predict an action\n",
    "a_scores = model(initial_s)\n",
    "a = torch.argmax(a_scores).item()\n",
    "encoded_a = encode_action(a)\n",
    "\n",
    "# Perform the action in the game\n",
    "s, signal = board.step(encoded_a)\n",
    "next_s = torch.tensor(s, dtype=torch.float).unsqueeze(0)\n",
    "\n",
    "# Process the signal\n",
    "r = reward_from_signal(signal, board)\n",
    "done = game_over_from_signal(signal, board)\n",
    "\n",
    "# Q Learning\n",
    "target_q = torch.zeros((65,), dtype=torch.float)\n",
    "\n",
    "# Add the reward and action\n",
    "target_q[a] = r\n",
    "\n",
    "# Render model before the training\n",
    "print(\"Q_matrix of initial state, before training:\")\n",
    "q_pred = model(torch.tensor(initial_s, dtype=torch.float))\n",
    "render_q(q_pred.tolist()[0])\n",
    "\n",
    "# Toggle on train mode\n",
    "model.train()\n",
    "\n",
    "for i in range(16):\n",
    "    # Compute loss on the difference between model output and target_q\n",
    "    q_pred = model(torch.tensor(initial_s, dtype=torch.float))\n",
    "    loss = criterion(torch.tensor(target_q, dtype=torch.float), q_pred)\n",
    "\n",
    "    # Let the optimizer do the backprop\n",
    "    optimizer.zero_grad()\n",
    "    loss.backward()\n",
    "    optimizer.step()\n",
    "\n",
    "print(\"Target Q matrix:\")\n",
    "render_q(target_q.tolist())\n",
    "\n",
    "# Render model after the training\n",
    "print(\"Q_matrix of initial state, after training:\")\n",
    "q_pred = model(torch.tensor(initial_s, dtype=torch.float))\n",
    "render_q(q_pred.tolist()[0])"
   ]
  },
  {
   "source": [
    "## Deuxième étape : apprentissage du premier état avec historique"
   ],
   "cell_type": "markdown",
   "metadata": {}
  },
  {
   "cell_type": "code",
   "execution_count": 18,
   "metadata": {},
   "outputs": [
    {
     "output_type": "stream",
     "name": "stdout",
     "text": [
      "Q_matrix of initial state, before training:\n"
     ]
    },
    {
     "output_type": "display_data",
     "data": {
      "text/plain": "<PIL.Image.Image image mode=RGBA size=128x128 at 0x1CC89361610>",
      "image/png": "[encoded data removed]"
     },
     "metadata": {}
    },
    {
     "output_type": "stream",
     "name": "stdout",
     "text": [
      "Target Q matrix:\n"
     ]
    },
    {
     "output_type": "display_data",
     "data": {
      "text/plain": "<PIL.Image.Image image mode=RGBA size=128x128 at 0x1CC8937BBE0>",
      "image/png": "[encoded data removed]"
     },
     "metadata": {}
    },
    {
     "output_type": "stream",
     "name": "stdout",
     "text": [
      "Q_matrix of initial state, after training:\n"
     ]
    },
    {
     "output_type": "display_data",
     "data": {
      "text/plain": "<PIL.Image.Image image mode=RGBA size=128x128 at 0x1CC8937BBE0>",
      "image/png": "[encoded data removed]"
     },
     "metadata": {}
    }
   ],
   "source": [
    "# New model\n",
    "board = Board()\n",
    "model = Model()\n",
    "learning_rate = 0.3\n",
    "criterion = torch.nn.MSELoss()\n",
    "optimizer = torch.optim.SGD(model.parameters(), lr=learning_rate)\n",
    "\n",
    "# Render model before the training\n",
    "print(\"Q_matrix of initial state, before training:\")\n",
    "q_pred = model(torch.tensor(initial_s, dtype=torch.float))\n",
    "render_q(q_pred.tolist()[0])\n",
    "\n",
    "# (Action, Reward) container for each action\n",
    "history = []\n",
    "\n",
    "# Populating the history with every possible move\n",
    "for i_action in range(65):\n",
    "    # Reset the board\n",
    "    board.reset()\n",
    "\n",
    "    # Predict an action\n",
    "    a = i_action\n",
    "    encoded_a = encode_action(a)\n",
    "\n",
    "    # Perform the action in the game\n",
    "    s, signal = board.step(encoded_a)\n",
    "\n",
    "    # Process the signal\n",
    "    r = reward_from_signal(signal, board)\n",
    "\n",
    "    # Add the record to history\n",
    "    history.append((a, r))\n",
    "\n",
    "# Q Learning matrix for the initial state\n",
    "target_q = torch.zeros((65,), dtype=torch.float)\n",
    "\n",
    "# Add the reward and action for each game in history\n",
    "# NOTE: ça overwrite si y'a plusieurs valeurs\n",
    "for (a, r) in history:\n",
    "    target_q[a] = r\n",
    "\n",
    "print(\"Target Q matrix:\")\n",
    "render_q(target_q.tolist())\n",
    "\n",
    "# Toggle on train mode\n",
    "model.train()\n",
    "\n",
    "for i_batch in range(1):\n",
    "    # Compute loss on the difference between model output and target_q\n",
    "    q_pred = model(torch.tensor(initial_s, dtype=torch.float))\n",
    "    loss = criterion(torch.tensor(target_q, dtype=torch.float), q_pred)\n",
    "\n",
    "    # Let the optimizer do the backprop\n",
    "    optimizer.zero_grad()\n",
    "    loss.backward()\n",
    "    optimizer.step()\n",
    "\n",
    "# Render model after the training\n",
    "print(f\"Q_matrix of initial state, after training:\")\n",
    "q_pred = model(torch.tensor(initial_s, dtype=torch.float))\n",
    "render_q(q_pred.tolist()[0])"
   ]
  },
  {
   "source": [
    "## Troisième étape : à combien de coup est-ce que l'agent \"comprend\" le premier état ?"
   ],
   "cell_type": "markdown",
   "metadata": {}
  },
  {
   "cell_type": "code",
   "execution_count": 19,
   "metadata": {},
   "outputs": [
    {
     "output_type": "stream",
     "name": "stdout",
     "text": [
      "Target Q matrix: step 1\n"
     ]
    },
    {
     "output_type": "display_data",
     "data": {
      "text/plain": "<PIL.Image.Image image mode=RGBA size=128x128 at 0x1CCA4E80A30>",
      "image/png": "[encoded data removed]"
     },
     "metadata": {}
    },
    {
     "output_type": "stream",
     "name": "stdout",
     "text": [
      "Q_matrix of initial state, after training: step 1\n"
     ]
    },
    {
     "output_type": "display_data",
     "data": {
      "text/plain": "<PIL.Image.Image image mode=RGBA size=128x128 at 0x1CCA4E80100>",
      "image/png": "[encoded data removed]"
     },
     "metadata": {}
    },
    {
     "output_type": "stream",
     "name": "stdout",
     "text": [
      "Target Q matrix: step 11\n"
     ]
    },
    {
     "output_type": "display_data",
     "data": {
      "text/plain": "<PIL.Image.Image image mode=RGBA size=128x128 at 0x1CCA4E80280>",
      "image/png": "[encoded data removed]"
     },
     "metadata": {}
    },
    {
     "output_type": "stream",
     "name": "stdout",
     "text": [
      "Q_matrix of initial state, after training: step 11\n"
     ]
    },
    {
     "output_type": "display_data",
     "data": {
      "text/plain": "<PIL.Image.Image image mode=RGBA size=128x128 at 0x1CCA4E80A30>",
      "image/png": "[encoded data removed]"
     },
     "metadata": {}
    },
    {
     "output_type": "stream",
     "name": "stdout",
     "text": [
      "Target Q matrix: step 21\n"
     ]
    },
    {
     "output_type": "display_data",
     "data": {
      "text/plain": "<PIL.Image.Image image mode=RGBA size=128x128 at 0x1CCA4E80100>",
      "image/png": "[encoded data removed]"
     },
     "metadata": {}
    },
    {
     "output_type": "stream",
     "name": "stdout",
     "text": [
      "Q_matrix of initial state, after training: step 21\n"
     ]
    },
    {
     "output_type": "display_data",
     "data": {
      "text/plain": "<PIL.Image.Image image mode=RGBA size=128x128 at 0x1CCA4E80100>",
      "image/png": "[encoded data removed]"
     },
     "metadata": {}
    },
    {
     "output_type": "stream",
     "name": "stdout",
     "text": [
      "Target Q matrix: step 31\n"
     ]
    },
    {
     "output_type": "display_data",
     "data": {
      "text/plain": "<PIL.Image.Image image mode=RGBA size=128x128 at 0x1CCA4E80A30>",
      "image/png": "[encoded data removed]"
     },
     "metadata": {}
    },
    {
     "output_type": "stream",
     "name": "stdout",
     "text": [
      "Q_matrix of initial state, after training: step 31\n"
     ]
    },
    {
     "output_type": "display_data",
     "data": {
      "text/plain": "<PIL.Image.Image image mode=RGBA size=128x128 at 0x1CCA4E80100>",
      "image/png": "[encoded data removed]"
     },
     "metadata": {}
    },
    {
     "output_type": "stream",
     "name": "stdout",
     "text": [
      "Target Q matrix: step 41\n"
     ]
    },
    {
     "output_type": "display_data",
     "data": {
      "text/plain": "<PIL.Image.Image image mode=RGBA size=128x128 at 0x1CCA4E4EA30>",
      "image/png": "[encoded data removed]"
     },
     "metadata": {}
    },
    {
     "output_type": "stream",
     "name": "stdout",
     "text": [
      "Q_matrix of initial state, after training: step 41\n"
     ]
    },
    {
     "output_type": "display_data",
     "data": {
      "text/plain": "<PIL.Image.Image image mode=RGBA size=128x128 at 0x1CCA4E80100>",
      "image/png": "[encoded data removed]"
     },
     "metadata": {}
    },
    {
     "output_type": "stream",
     "name": "stdout",
     "text": [
      "Target Q matrix: step 51\n"
     ]
    },
    {
     "output_type": "display_data",
     "data": {
      "text/plain": "<PIL.Image.Image image mode=RGBA size=128x128 at 0x1CCA4E4EE20>",
      "image/png": "[encoded data removed]"
     },
     "metadata": {}
    },
    {
     "output_type": "stream",
     "name": "stdout",
     "text": [
      "Q_matrix of initial state, after training: step 51\n"
     ]
    },
    {
     "output_type": "display_data",
     "data": {
      "text/plain": "<PIL.Image.Image image mode=RGBA size=128x128 at 0x1CCA4E4EA30>",
      "image/png": "[encoded data removed]"
     },
     "metadata": {}
    },
    {
     "output_type": "stream",
     "name": "stdout",
     "text": [
      "Target Q matrix: step 61\n"
     ]
    },
    {
     "output_type": "display_data",
     "data": {
      "text/plain": "<PIL.Image.Image image mode=RGBA size=128x128 at 0x1CCA4E80100>",
      "image/png": "[encoded data removed]"
     },
     "metadata": {}
    },
    {
     "output_type": "stream",
     "name": "stdout",
     "text": [
      "Q_matrix of initial state, after training: step 61\n"
     ]
    },
    {
     "output_type": "display_data",
     "data": {
      "text/plain": "<PIL.Image.Image image mode=RGBA size=128x128 at 0x1CCA4E4EE20>",
      "image/png": "[encoded data removed]"
     },
     "metadata": {}
    },
    {
     "output_type": "stream",
     "name": "stdout",
     "text": [
      "Target Q matrix: step 71\n"
     ]
    },
    {
     "output_type": "display_data",
     "data": {
      "text/plain": "<PIL.Image.Image image mode=RGBA size=128x128 at 0x1CCA4E4EA30>",
      "image/png": "[encoded data removed]"
     },
     "metadata": {}
    },
    {
     "output_type": "stream",
     "name": "stdout",
     "text": [
      "Q_matrix of initial state, after training: step 71\n"
     ]
    },
    {
     "output_type": "display_data",
     "data": {
      "text/plain": "<PIL.Image.Image image mode=RGBA size=128x128 at 0x1CCA4E4EE20>",
      "image/png": "[encoded data removed]"
     },
     "metadata": {}
    },
    {
     "output_type": "stream",
     "name": "stdout",
     "text": [
      "Target Q matrix: step 81\n"
     ]
    },
    {
     "output_type": "display_data",
     "data": {
      "text/plain": "<PIL.Image.Image image mode=RGBA size=128x128 at 0x1CCA4E4E8B0>",
      "image/png": "[encoded data removed]"
     },
     "metadata": {}
    },
    {
     "output_type": "stream",
     "name": "stdout",
     "text": [
      "Q_matrix of initial state, after training: step 81\n"
     ]
    },
    {
     "output_type": "display_data",
     "data": {
      "text/plain": "<PIL.Image.Image image mode=RGBA size=128x128 at 0x1CCA4E4EA30>",
      "image/png": "[encoded data removed]"
     },
     "metadata": {}
    },
    {
     "output_type": "stream",
     "name": "stdout",
     "text": [
      "Target Q matrix: step 91\n"
     ]
    },
    {
     "output_type": "display_data",
     "data": {
      "text/plain": "<PIL.Image.Image image mode=RGBA size=128x128 at 0x1CCA4E80100>",
      "image/png": "[encoded data removed]"
     },
     "metadata": {}
    },
    {
     "output_type": "stream",
     "name": "stdout",
     "text": [
      "Q_matrix of initial state, after training: step 91\n"
     ]
    },
    {
     "output_type": "display_data",
     "data": {
      "text/plain": "<PIL.Image.Image image mode=RGBA size=128x128 at 0x1CCA4E4E460>",
      "image/png": "[encoded data removed]"
     },
     "metadata": {}
    },
    {
     "output_type": "stream",
     "name": "stdout",
     "text": [
      "Target Q matrix: step 101\n"
     ]
    },
    {
     "output_type": "display_data",
     "data": {
      "text/plain": "<PIL.Image.Image image mode=RGBA size=128x128 at 0x1CCA4E4EA30>",
      "image/png": "[encoded data removed]"
     },
     "metadata": {}
    },
    {
     "output_type": "stream",
     "name": "stdout",
     "text": [
      "Q_matrix of initial state, after training: step 101\n"
     ]
    },
    {
     "output_type": "display_data",
     "data": {
      "text/plain": "<PIL.Image.Image image mode=RGBA size=128x128 at 0x1CCA4E4E8B0>",
      "image/png": "[encoded data removed]"
     },
     "metadata": {}
    },
    {
     "output_type": "stream",
     "name": "stdout",
     "text": [
      "Target Q matrix: step 111\n"
     ]
    },
    {
     "output_type": "display_data",
     "data": {
      "text/plain": "<PIL.Image.Image image mode=RGBA size=128x128 at 0x1CCA4E80100>",
      "image/png": "[encoded data removed]"
     },
     "metadata": {}
    },
    {
     "output_type": "stream",
     "name": "stdout",
     "text": [
      "Q_matrix of initial state, after training: step 111\n"
     ]
    },
    {
     "output_type": "display_data",
     "data": {
      "text/plain": "<PIL.Image.Image image mode=RGBA size=128x128 at 0x1CCA4E4E8B0>",
      "image/png": "[encoded data removed]"
     },
     "metadata": {}
    },
    {
     "output_type": "stream",
     "name": "stdout",
     "text": [
      "Target Q matrix: step 121\n"
     ]
    },
    {
     "output_type": "display_data",
     "data": {
      "text/plain": "<PIL.Image.Image image mode=RGBA size=128x128 at 0x1CCA4E4EE20>",
      "image/png": "[encoded data removed]"
     },
     "metadata": {}
    },
    {
     "output_type": "stream",
     "name": "stdout",
     "text": [
      "Q_matrix of initial state, after training: step 121\n"
     ]
    },
    {
     "output_type": "display_data",
     "data": {
      "text/plain": "<PIL.Image.Image image mode=RGBA size=128x128 at 0x1CCA4E4EA90>",
      "image/png": "[encoded data removed]"
     },
     "metadata": {}
    },
    {
     "output_type": "stream",
     "name": "stdout",
     "text": [
      "Target Q matrix: step 131\n"
     ]
    },
    {
     "output_type": "display_data",
     "data": {
      "text/plain": "<PIL.Image.Image image mode=RGBA size=128x128 at 0x1CCA4E4EA90>",
      "image/png": "[encoded data removed]"
     },
     "metadata": {}
    },
    {
     "output_type": "stream",
     "name": "stdout",
     "text": [
      "Q_matrix of initial state, after training: step 131\n"
     ]
    },
    {
     "output_type": "display_data",
     "data": {
      "text/plain": "<PIL.Image.Image image mode=RGBA size=128x128 at 0x1CCA4E4EE20>",
      "image/png": "[encoded data removed]"
     },
     "metadata": {}
    },
    {
     "output_type": "stream",
     "name": "stdout",
     "text": [
      "Target Q matrix: step 141\n"
     ]
    },
    {
     "output_type": "display_data",
     "data": {
      "text/plain": "<PIL.Image.Image image mode=RGBA size=128x128 at 0x1CCA4E4E8B0>",
      "image/png": "[encoded data removed]"
     },
     "metadata": {}
    },
    {
     "output_type": "stream",
     "name": "stdout",
     "text": [
      "Q_matrix of initial state, after training: step 141\n"
     ]
    },
    {
     "output_type": "display_data",
     "data": {
      "text/plain": "<PIL.Image.Image image mode=RGBA size=128x128 at 0x1CCA4E4EE20>",
      "image/png": "[encoded data removed]"
     },
     "metadata": {}
    },
    {
     "output_type": "stream",
     "name": "stdout",
     "text": [
      "Target Q matrix: step 151\n"
     ]
    },
    {
     "output_type": "display_data",
     "data": {
      "text/plain": "<PIL.Image.Image image mode=RGBA size=128x128 at 0x1CCA4E4E8B0>",
      "image/png": "[encoded data removed]"
     },
     "metadata": {}
    },
    {
     "output_type": "stream",
     "name": "stdout",
     "text": [
      "Q_matrix of initial state, after training: step 151\n"
     ]
    },
    {
     "output_type": "display_data",
     "data": {
      "text/plain": "<PIL.Image.Image image mode=RGBA size=128x128 at 0x1CCA4E4EE20>",
      "image/png": "[encoded data removed]"
     },
     "metadata": {}
    },
    {
     "output_type": "stream",
     "name": "stdout",
     "text": [
      "Target Q matrix: step 161\n"
     ]
    },
    {
     "output_type": "display_data",
     "data": {
      "text/plain": "<PIL.Image.Image image mode=RGBA size=128x128 at 0x1CCA4E4EA30>",
      "image/png": "[encoded data removed]"
     },
     "metadata": {}
    },
    {
     "output_type": "stream",
     "name": "stdout",
     "text": [
      "Q_matrix of initial state, after training: step 161\n"
     ]
    },
    {
     "output_type": "display_data",
     "data": {
      "text/plain": "<PIL.Image.Image image mode=RGBA size=128x128 at 0x1CCA4E4EA90>",
      "image/png": "[encoded data removed]"
     },
     "metadata": {}
    },
    {
     "output_type": "stream",
     "name": "stdout",
     "text": [
      "Target Q matrix: step 171\n"
     ]
    },
    {
     "output_type": "display_data",
     "data": {
      "text/plain": "<PIL.Image.Image image mode=RGBA size=128x128 at 0x1CCA4E4EE20>",
      "image/png": "[encoded data removed]"
     },
     "metadata": {}
    },
    {
     "output_type": "stream",
     "name": "stdout",
     "text": [
      "Q_matrix of initial state, after training: step 171\n"
     ]
    },
    {
     "output_type": "display_data",
     "data": {
      "text/plain": "<PIL.Image.Image image mode=RGBA size=128x128 at 0x1CCA4E4EA90>",
      "image/png": "[encoded data removed]"
     },
     "metadata": {}
    },
    {
     "output_type": "stream",
     "name": "stdout",
     "text": [
      "Target Q matrix: step 181\n"
     ]
    },
    {
     "output_type": "display_data",
     "data": {
      "text/plain": "<PIL.Image.Image image mode=RGBA size=128x128 at 0x1CCA4E4E8B0>",
      "image/png": "[encoded data removed]"
     },
     "metadata": {}
    },
    {
     "output_type": "stream",
     "name": "stdout",
     "text": [
      "Q_matrix of initial state, after training: step 181\n"
     ]
    },
    {
     "output_type": "display_data",
     "data": {
      "text/plain": "<PIL.Image.Image image mode=RGBA size=128x128 at 0x1CCA4E4EA90>",
      "image/png": "[encoded data removed]"
     },
     "metadata": {}
    },
    {
     "output_type": "stream",
     "name": "stdout",
     "text": [
      "Target Q matrix: step 191\n"
     ]
    },
    {
     "output_type": "display_data",
     "data": {
      "text/plain": "<PIL.Image.Image image mode=RGBA size=128x128 at 0x1CCA4E80100>",
      "image/png": "[encoded data removed]"
     },
     "metadata": {}
    },
    {
     "output_type": "stream",
     "name": "stdout",
     "text": [
      "Q_matrix of initial state, after training: step 191\n"
     ]
    },
    {
     "output_type": "display_data",
     "data": {
      "text/plain": "<PIL.Image.Image image mode=RGBA size=128x128 at 0x1CCA4E4EA90>",
      "image/png": "[encoded data removed]"
     },
     "metadata": {}
    },
    {
     "output_type": "stream",
     "name": "stdout",
     "text": [
      "Target Q matrix: step 201\n"
     ]
    },
    {
     "output_type": "display_data",
     "data": {
      "text/plain": "<PIL.Image.Image image mode=RGBA size=128x128 at 0x1CCA4E80100>",
      "image/png": "[encoded data removed]"
     },
     "metadata": {}
    },
    {
     "output_type": "stream",
     "name": "stdout",
     "text": [
      "Q_matrix of initial state, after training: step 201\n"
     ]
    },
    {
     "output_type": "display_data",
     "data": {
      "text/plain": "<PIL.Image.Image image mode=RGBA size=128x128 at 0x1CCA4E4EA30>",
      "image/png": "[encoded data removed]"
     },
     "metadata": {}
    },
    {
     "output_type": "stream",
     "name": "stdout",
     "text": [
      "Target Q matrix: step 211\n"
     ]
    },
    {
     "output_type": "display_data",
     "data": {
      "text/plain": "<PIL.Image.Image image mode=RGBA size=128x128 at 0x1CCA4E4EE20>",
      "image/png": "[encoded data removed]"
     },
     "metadata": {}
    },
    {
     "output_type": "stream",
     "name": "stdout",
     "text": [
      "Q_matrix of initial state, after training: step 211\n"
     ]
    },
    {
     "output_type": "display_data",
     "data": {
      "text/plain": "<PIL.Image.Image image mode=RGBA size=128x128 at 0x1CCA4E4E8B0>",
      "image/png": "[encoded data removed]"
     },
     "metadata": {}
    },
    {
     "output_type": "stream",
     "name": "stdout",
     "text": [
      "Target Q matrix: step 221\n"
     ]
    },
    {
     "output_type": "display_data",
     "data": {
      "text/plain": "<PIL.Image.Image image mode=RGBA size=128x128 at 0x1CCA4E4EE20>",
      "image/png": "[encoded data removed]"
     },
     "metadata": {}
    },
    {
     "output_type": "stream",
     "name": "stdout",
     "text": [
      "Q_matrix of initial state, after training: step 221\n"
     ]
    },
    {
     "output_type": "display_data",
     "data": {
      "text/plain": "<PIL.Image.Image image mode=RGBA size=128x128 at 0x1CCA4E4EA30>",
      "image/png": "[encoded data removed]"
     },
     "metadata": {}
    }
   ],
   "source": [
    "# New model\n",
    "board = Board()\n",
    "model = Model()\n",
    "learning_rate = 0.3\n",
    "batch_size = 32\n",
    "n_epochs = 256 # On aura pas joué tous les coups mais OK\n",
    "max_history = 64\n",
    "criterion = torch.nn.MSELoss()\n",
    "optimizer = torch.optim.SGD(model.parameters(), lr=learning_rate)\n",
    "\n",
    "# (Action, Reward) container for each action\n",
    "history = []\n",
    "\n",
    "# Populating the history with every possible move\n",
    "for i_epoch in range(n_epochs):\n",
    "    # Reset the board\n",
    "    initial_s, _ = board.reset()\n",
    "    initial_s = torch.tensor(initial_s, dtype=torch.float).unsqueeze(0)\n",
    "\n",
    "    # Play a random action\n",
    "    a = torch.randint(0, 65, (1,)).item()\n",
    "    encoded_a = encode_action(a)\n",
    "\n",
    "    # Perform the action in the game\n",
    "    s, signal = board.step(encoded_a)\n",
    "\n",
    "    # Process the signal\n",
    "    r = reward_from_signal(signal, board)\n",
    "\n",
    "    # Add the record to history\n",
    "    history.append((a, r))\n",
    "\n",
    "    # Continue playing if we don't have enough moves to learn in the history\n",
    "    if len(history) <= batch_size:\n",
    "        continue\n",
    "\n",
    "    # Keep history the wanted size removing first element in list\n",
    "        if len(history) > max_history:\n",
    "            history.pop(0)\n",
    "\n",
    "    # Add the reward and action for each game in history\n",
    "    # NOTE: ça overwrite si y'a plusieurs valeurs, donc batch_size devrait être < 65\n",
    "    # TODO: moyenne des valeurs ? pas d'overwrite ?\n",
    "    targets = torch.zeros(batch_size, 65)\n",
    "    inputs = torch.zeros(batch_size, 2, 8, 8)\n",
    "    for i_batch, (a, r) in enumerate(random.sample(history, batch_size)):\n",
    "        # Q Learning matrix for the initial state\n",
    "        # NOTE: Je pense qu'il faudrait partir de la prédiction du modèle\n",
    "        # et y ajouter les rewards, les cases où il y a 0 peuvent peut-être\n",
    "        # poser problème\n",
    "        target_q = torch.zeros((65,), dtype=torch.float)#model(initial_s).view(-1)# torch.zeros((65,), dtype=torch.float)\n",
    "        target_q[a] = r\n",
    "        targets[i_batch] = target_q\n",
    "        inputs[i_batch] = initial_s\n",
    "\n",
    "    # Toggle on train mode\n",
    "    model.train()\n",
    "\n",
    "    # for i_batch in range(4):\n",
    "    # Compute loss on the difference between model output and target_q\n",
    "    inputs = torch.tensor(inputs)\n",
    "    targets = torch.tensor(targets)\n",
    "    q_pred = model(inputs)        \n",
    "    q_pred = torch.clip(q_pred, -3, 3)\n",
    "    loss = criterion(targets, q_pred)\n",
    "\n",
    "    # Let the optimizer do the backprop\n",
    "    optimizer.zero_grad()\n",
    "    loss.backward()\n",
    "    optimizer.step()\n",
    "\n",
    "    if (i_epoch - batch_size) % 10 == 0:\n",
    "        print(f\"Target Q matrix: step {i_epoch - batch_size + 1}\")\n",
    "        render_q(target_q.tolist())\n",
    "\n",
    "        print(f\"Q_matrix of initial state, after training: step {i_epoch - batch_size + 1}\")\n",
    "        q_pred = model(torch.tensor(initial_s, dtype=torch.float))\n",
    "        render_q(q_pred.tolist()[0])"
   ]
  },
  {
   "source": [
    "## Etape 4 : mouvements futurs et epsilon"
   ],
   "cell_type": "markdown",
   "metadata": {}
  },
  {
   "cell_type": "code",
   "execution_count": 15,
   "metadata": {
    "tags": []
   },
   "outputs": [
    {
     "output_type": "stream",
     "name": "stdout",
     "text": [
      "Epoch 0 \t reward: -0.5 \t length 1 \t mean_length 1.0 \t epsilon 0.9\n",
      "Epoch 1 \t reward: -0.5 \t length 1 \t mean_length 1.0 \t epsilon 0.89\n",
      "Epoch 2 \t reward: -0.5 \t length 1 \t mean_length 1.0 \t epsilon 0.89\n",
      "Epoch 3 \t reward: -0.5 \t length 1 \t mean_length 1.0 \t epsilon 0.89\n",
      "Epoch 4 \t reward: -0.5 \t length 1 \t mean_length 1.0 \t epsilon 0.89\n",
      "Epoch 5 \t reward: -0.5 \t length 1 \t mean_length 1.0 \t epsilon 0.89\n",
      "Epoch 6 \t reward: -0.5 \t length 1 \t mean_length 1.0 \t epsilon 0.89\n",
      "Epoch 7 \t reward: -0.5 \t length 1 \t mean_length 1.0 \t epsilon 0.89\n",
      "Epoch 8 \t reward: -0.5 \t length 1 \t mean_length 1.0 \t epsilon 0.89\n",
      "Epoch 9 \t reward: -0.5 \t length 1 \t mean_length 1.0 \t epsilon 0.89\n",
      "Epoch 10 \t reward: -0.5 \t length 1 \t mean_length 1.0 \t epsilon 0.89\n",
      "Epoch 11 \t reward: -0.5 \t length 1 \t mean_length 1.0 \t epsilon 0.89\n",
      "Epoch 12 \t reward: -0.5 \t length 1 \t mean_length 1.0 \t epsilon 0.89\n",
      "Epoch 13 \t reward: -0.5 \t length 1 \t mean_length 1.0 \t epsilon 0.88\n",
      "Epoch 14 \t reward: -0.5 \t length 1 \t mean_length 1.0 \t epsilon 0.88\n",
      "Epoch 15 \t reward: -0.5 \t length 1 \t mean_length 1.0 \t epsilon 0.88\n",
      "Epoch 16 \t reward: -0.5 \t length 1 \t mean_length 1.0 \t epsilon 0.88\n",
      "Epoch 17 \t reward: -0.5 \t length 1 \t mean_length 1.0 \t epsilon 0.88\n",
      "Epoch 18 \t reward: -0.5 \t length 1 \t mean_length 1.0 \t epsilon 0.88\n",
      "Epoch 19 \t reward: -0.5 \t length 1 \t mean_length 1.0 \t epsilon 0.88\n",
      "Epoch 20 \t reward: -0.5 \t length 1 \t mean_length 1.0 \t epsilon 0.88\n",
      "Epoch 21 \t reward: -0.5 \t length 1 \t mean_length 1.0 \t epsilon 0.88\n",
      "Epoch 22 \t reward: -0.5 \t length 1 \t mean_length 1.0 \t epsilon 0.88\n",
      "Epoch 23 \t reward: -0.5 \t length 1 \t mean_length 1.0 \t epsilon 0.88\n",
      "Epoch 24 \t reward: -0.5 \t length 1 \t mean_length 1.0 \t epsilon 0.88\n",
      "Epoch 25 \t reward: -0.5 \t length 1 \t mean_length 1.0 \t epsilon 0.87\n",
      "Epoch 26 \t reward: -0.5 \t length 1 \t mean_length 1.0 \t epsilon 0.87\n",
      "Epoch 27 \t reward: -0.5 \t length 1 \t mean_length 1.0 \t epsilon 0.87\n",
      "Epoch 28 \t reward: -0.5 \t length 1 \t mean_length 1.0 \t epsilon 0.87\n",
      "Epoch 29 \t reward: -0.5 \t length 1 \t mean_length 1.0 \t epsilon 0.87\n",
      "Epoch 30 \t reward: -0.5 \t length 1 \t mean_length 1.0 \t epsilon 0.87\n",
      "Epoch 31 \t reward: -0.5 \t length 1 \t mean_length 1.0 \t epsilon 0.87\n",
      "Epoch 32 \t reward: -0.5 \t length 1 \t mean_length 1.0 \t epsilon 0.87\n",
      "Epoch 33 \t reward: -0.5 \t length 1 \t mean_length 1.0 \t epsilon 0.87\n",
      "Epoch 34 \t reward: -0.5 \t length 1 \t mean_length 1.0 \t epsilon 0.87\n",
      "Epoch 35 \t reward: -0.5 \t length 1 \t mean_length 1.0 \t epsilon 0.87\n",
      "Epoch 36 \t reward: -0.5 \t length 1 \t mean_length 1.0 \t epsilon 0.87\n",
      "Epoch 37 \t reward: -0.5 \t length 1 \t mean_length 1.0 \t epsilon 0.86\n",
      "Epoch 38 \t reward: -0.5 \t length 1 \t mean_length 1.0 \t epsilon 0.86\n",
      "Epoch 39 \t reward: -0.5 \t length 1 \t mean_length 1.0 \t epsilon 0.86\n",
      "Epoch 40 \t reward: 1.5 \t length 2 \t mean_length 1.02 \t epsilon 0.86\n",
      "Epoch 41 \t reward: -0.5 \t length 1 \t mean_length 1.02 \t epsilon 0.86\n",
      "Epoch 42 \t reward: -0.5 \t length 1 \t mean_length 1.02 \t epsilon 0.86\n",
      "Epoch 43 \t reward: -0.5 \t length 1 \t mean_length 1.02 \t epsilon 0.86\n",
      "Epoch 44 \t reward: -0.5 \t length 1 \t mean_length 1.02 \t epsilon 0.86\n",
      "Epoch 45 \t reward: -0.5 \t length 1 \t mean_length 1.02 \t epsilon 0.86\n",
      "Epoch 46 \t reward: -0.5 \t length 1 \t mean_length 1.02 \t epsilon 0.86\n",
      "Epoch 47 \t reward: -0.5 \t length 1 \t mean_length 1.02 \t epsilon 0.86\n",
      "Epoch 48 \t reward: -0.5 \t length 1 \t mean_length 1.02 \t epsilon 0.86\n",
      "Epoch 49 \t reward: 1.5 \t length 2 \t mean_length 1.04 \t epsilon 0.86\n",
      "Epoch 50 \t reward: -0.5 \t length 1 \t mean_length 1.03 \t epsilon 0.85\n",
      "Epoch 51 \t reward: -0.5 \t length 1 \t mean_length 1.04 \t epsilon 0.85\n",
      "Epoch 52 \t reward: -0.5 \t length 1 \t mean_length 1.03 \t epsilon 0.85\n",
      "Epoch 53 \t reward: -0.5 \t length 1 \t mean_length 1.04 \t epsilon 0.85\n",
      "Epoch 54 \t reward: -0.5 \t length 1 \t mean_length 1.03 \t epsilon 0.85\n",
      "Epoch 55 \t reward: -0.5 \t length 1 \t mean_length 1.04 \t epsilon 0.85\n",
      "Epoch 56 \t reward: -0.5 \t length 1 \t mean_length 1.03 \t epsilon 0.85\n",
      "Epoch 57 \t reward: -0.5 \t length 1 \t mean_length 1.04 \t epsilon 0.85\n",
      "Epoch 58 \t reward: -0.5 \t length 1 \t mean_length 1.03 \t epsilon 0.85\n",
      "Epoch 59 \t reward: -0.5 \t length 1 \t mean_length 1.04 \t epsilon 0.85\n",
      "Epoch 60 \t reward: -0.5 \t length 1 \t mean_length 1.03 \t epsilon 0.85\n",
      "Epoch 61 \t reward: 1.5 \t length 2 \t mean_length 1.04 \t epsilon 0.85\n",
      "Epoch 62 \t reward: -0.5 \t length 1 \t mean_length 1.03 \t epsilon 0.85\n",
      "Epoch 63 \t reward: -0.5 \t length 1 \t mean_length 1.04 \t epsilon 0.84\n",
      "Epoch 64 \t reward: -0.5 \t length 1 \t mean_length 1.03 \t epsilon 0.84\n",
      "Epoch 65 \t reward: -0.5 \t length 1 \t mean_length 1.04 \t epsilon 0.84\n",
      "Epoch 66 \t reward: -0.5 \t length 1 \t mean_length 1.03 \t epsilon 0.84\n",
      "Epoch 67 \t reward: -0.5 \t length 1 \t mean_length 1.04 \t epsilon 0.84\n",
      "Epoch 68 \t reward: -0.5 \t length 1 \t mean_length 1.03 \t epsilon 0.84\n",
      "Epoch 69 \t reward: -0.5 \t length 1 \t mean_length 1.04 \t epsilon 0.84\n",
      "Epoch 70 \t reward: -0.5 \t length 1 \t mean_length 1.03 \t epsilon 0.84\n",
      "Epoch 71 \t reward: -0.5 \t length 1 \t mean_length 1.04 \t epsilon 0.84\n",
      "Epoch 72 \t reward: -0.5 \t length 1 \t mean_length 1.03 \t epsilon 0.84\n",
      "Epoch 73 \t reward: -0.5 \t length 1 \t mean_length 1.04 \t epsilon 0.84\n",
      "Epoch 74 \t reward: -0.5 \t length 1 \t mean_length 1.03 \t epsilon 0.84\n",
      "Epoch 75 \t reward: 1.5 \t length 2 \t mean_length 1.04 \t epsilon 0.83\n",
      "Epoch 76 \t reward: -0.5 \t length 1 \t mean_length 1.03 \t epsilon 0.83\n",
      "Epoch 77 \t reward: -0.5 \t length 1 \t mean_length 1.04 \t epsilon 0.83\n",
      "Epoch 78 \t reward: -0.5 \t length 1 \t mean_length 1.03 \t epsilon 0.83\n",
      "Epoch 79 \t reward: -0.5 \t length 1 \t mean_length 1.04 \t epsilon 0.83\n",
      "Epoch 80 \t reward: -0.5 \t length 1 \t mean_length 1.03 \t epsilon 0.83\n",
      "Epoch 81 \t reward: -0.5 \t length 1 \t mean_length 1.04 \t epsilon 0.83\n",
      "Epoch 82 \t reward: 1.5 \t length 2 \t mean_length 1.05 \t epsilon 0.83\n",
      "Epoch 83 \t reward: -0.5 \t length 1 \t mean_length 1.06 \t epsilon 0.83\n",
      "Epoch 84 \t reward: -0.5 \t length 1 \t mean_length 1.05 \t epsilon 0.83\n",
      "Epoch 85 \t reward: 1.5 \t length 2 \t mean_length 1.06 \t epsilon 0.83\n",
      "Epoch 86 \t reward: -0.5 \t length 1 \t mean_length 1.05 \t epsilon 0.83\n",
      "Epoch 87 \t reward: -0.5 \t length 1 \t mean_length 1.06 \t epsilon 0.83\n",
      "Epoch 88 \t reward: -0.5 \t length 1 \t mean_length 1.05 \t epsilon 0.83\n",
      "Epoch 89 \t reward: -0.5 \t length 1 \t mean_length 1.06 \t epsilon 0.82\n",
      "Epoch 90 \t reward: -0.5 \t length 1 \t mean_length 1.05 \t epsilon 0.82\n",
      "Epoch 91 \t reward: -0.5 \t length 1 \t mean_length 1.06 \t epsilon 0.82\n",
      "Epoch 92 \t reward: -0.5 \t length 1 \t mean_length 1.05 \t epsilon 0.82\n",
      "Epoch 93 \t reward: 1.5 \t length 2 \t mean_length 1.06 \t epsilon 0.82\n",
      "Epoch 94 \t reward: -0.5 \t length 1 \t mean_length 1.05 \t epsilon 0.82\n",
      "Epoch 95 \t reward: -0.5 \t length 1 \t mean_length 1.06 \t epsilon 0.82\n",
      "Epoch 96 \t reward: -0.5 \t length 1 \t mean_length 1.05 \t epsilon 0.82\n",
      "Epoch 97 \t reward: -0.5 \t length 1 \t mean_length 1.06 \t epsilon 0.82\n",
      "Epoch 98 \t reward: -0.5 \t length 1 \t mean_length 1.05 \t epsilon 0.82\n",
      "Epoch 99 \t reward: -0.5 \t length 1 \t mean_length 1.06 \t epsilon 0.82\n",
      "Epoch 100 \t reward: -0.5 \t length 1 \t mean_length 1.05 \t epsilon 0.82\n",
      "Epoch 101 \t reward: -0.5 \t length 1 \t mean_length 1.06 \t epsilon 0.82\n",
      "Epoch 102 \t reward: -0.5 \t length 1 \t mean_length 1.05 \t epsilon 0.81\n",
      "Epoch 103 \t reward: -0.5 \t length 1 \t mean_length 1.06 \t epsilon 0.81\n",
      "Epoch 104 \t reward: -0.5 \t length 1 \t mean_length 1.05 \t epsilon 0.81\n",
      "Epoch 105 \t reward: -0.5 \t length 1 \t mean_length 1.06 \t epsilon 0.81\n",
      "Epoch 106 \t reward: -0.5 \t length 1 \t mean_length 1.05 \t epsilon 0.81\n",
      "Epoch 107 \t reward: -0.5 \t length 1 \t mean_length 1.06 \t epsilon 0.81\n",
      "Epoch 108 \t reward: -0.5 \t length 1 \t mean_length 1.05 \t epsilon 0.81\n",
      "Epoch 109 \t reward: -0.5 \t length 1 \t mean_length 1.06 \t epsilon 0.81\n",
      "Epoch 110 \t reward: -0.5 \t length 1 \t mean_length 1.05 \t epsilon 0.81\n",
      "Epoch 111 \t reward: -0.5 \t length 1 \t mean_length 1.06 \t epsilon 0.81\n",
      "Epoch 112 \t reward: -0.5 \t length 1 \t mean_length 1.05 \t epsilon 0.81\n",
      "Epoch 113 \t reward: -0.5 \t length 1 \t mean_length 1.06 \t epsilon 0.81\n",
      "Epoch 114 \t reward: -0.5 \t length 1 \t mean_length 1.05 \t epsilon 0.81\n",
      "Epoch 115 \t reward: -0.5 \t length 1 \t mean_length 1.06 \t epsilon 0.8\n",
      "Epoch 116 \t reward: -0.5 \t length 1 \t mean_length 1.05 \t epsilon 0.8\n",
      "Epoch 117 \t reward: -0.5 \t length 1 \t mean_length 1.06 \t epsilon 0.8\n",
      "Epoch 118 \t reward: -0.5 \t length 1 \t mean_length 1.05 \t epsilon 0.8\n",
      "Epoch 119 \t reward: -0.5 \t length 1 \t mean_length 1.06 \t epsilon 0.8\n",
      "Epoch 120 \t reward: 1.5 \t length 2 \t mean_length 1.07 \t epsilon 0.8\n",
      "Epoch 121 \t reward: -0.5 \t length 1 \t mean_length 1.08 \t epsilon 0.8\n",
      "Epoch 122 \t reward: -0.5 \t length 1 \t mean_length 1.07 \t epsilon 0.8\n",
      "Epoch 123 \t reward: -0.5 \t length 1 \t mean_length 1.08 \t epsilon 0.8\n",
      "Epoch 124 \t reward: -0.5 \t length 1 \t mean_length 1.07 \t epsilon 0.8\n",
      "Epoch 125 \t reward: -0.5 \t length 1 \t mean_length 1.08 \t epsilon 0.8\n",
      "Epoch 126 \t reward: -0.5 \t length 1 \t mean_length 1.07 \t epsilon 0.8\n",
      "Epoch 127 \t reward: -0.5 \t length 1 \t mean_length 1.08 \t epsilon 0.8\n",
      "Epoch 128 \t reward: -0.5 \t length 1 \t mean_length 1.07 \t epsilon 0.8\n",
      "Epoch 129 \t reward: -0.5 \t length 1 \t mean_length 1.08 \t epsilon 0.79\n",
      "Q_matrix of initial state, after training: step 1\n"
     ]
    },
    {
     "output_type": "display_data",
     "data": {
      "text/plain": "<PIL.Image.Image image mode=RGBA size=128x128 at 0x1978F671A60>",
      "image/png": "[encoded data removed]"
     },
     "metadata": {}
    },
    {
     "output_type": "stream",
     "name": "stdout",
     "text": [
      "42\n",
      "Epoch 130 \t reward: -0.5 \t length 1 \t mean_length 1.07 \t epsilon 0.79\n",
      "Epoch 131 \t reward: -0.5 \t length 1 \t mean_length 1.06 \t epsilon 0.79\n",
      "Epoch 132 \t reward: -0.5 \t length 1 \t mean_length 1.05 \t epsilon 0.79\n",
      "Epoch 133 \t reward: -0.5 \t length 1 \t mean_length 1.06 \t epsilon 0.79\n",
      "Epoch 134 \t reward: -0.5 \t length 1 \t mean_length 1.05 \t epsilon 0.79\n",
      "Epoch 135 \t reward: -0.5 \t length 1 \t mean_length 1.06 \t epsilon 0.79\n",
      "Epoch 136 \t reward: -0.5 \t length 1 \t mean_length 1.05 \t epsilon 0.79\n",
      "Epoch 137 \t reward: -0.5 \t length 1 \t mean_length 1.06 \t epsilon 0.79\n",
      "Epoch 138 \t reward: -0.5 \t length 1 \t mean_length 1.05 \t epsilon 0.79\n",
      "Epoch 139 \t reward: -0.5 \t length 1 \t mean_length 1.06 \t epsilon 0.79\n",
      "Epoch 140 \t reward: -0.5 \t length 1 \t mean_length 1.05 \t epsilon 0.79\n",
      "Epoch 141 \t reward: -0.5 \t length 1 \t mean_length 1.06 \t epsilon 0.79\n",
      "Epoch 142 \t reward: -0.5 \t length 1 \t mean_length 1.05 \t epsilon 0.78\n",
      "Epoch 143 \t reward: 1.5 \t length 2 \t mean_length 1.06 \t epsilon 0.78\n",
      "Epoch 144 \t reward: -0.5 \t length 1 \t mean_length 1.05 \t epsilon 0.78\n",
      "Epoch 145 \t reward: -0.5 \t length 1 \t mean_length 1.06 \t epsilon 0.78\n",
      "Epoch 146 \t reward: -0.5 \t length 1 \t mean_length 1.05 \t epsilon 0.78\n",
      "Epoch 147 \t reward: -0.5 \t length 1 \t mean_length 1.06 \t epsilon 0.78\n",
      "Epoch 148 \t reward: -0.5 \t length 1 \t mean_length 1.05 \t epsilon 0.78\n",
      "Epoch 149 \t reward: -0.5 \t length 1 \t mean_length 1.04 \t epsilon 0.78\n",
      "Epoch 150 \t reward: -0.5 \t length 1 \t mean_length 1.03 \t epsilon 0.78\n",
      "Epoch 151 \t reward: -0.5 \t length 1 \t mean_length 1.04 \t epsilon 0.78\n",
      "Epoch 152 \t reward: -0.5 \t length 1 \t mean_length 1.03 \t epsilon 0.78\n",
      "Epoch 153 \t reward: -0.5 \t length 1 \t mean_length 1.04 \t epsilon 0.78\n",
      "Epoch 154 \t reward: -0.5 \t length 1 \t mean_length 1.03 \t epsilon 0.78\n",
      "Epoch 155 \t reward: -0.5 \t length 1 \t mean_length 1.04 \t epsilon 0.78\n",
      "Epoch 156 \t reward: 1.5 \t length 2 \t mean_length 1.05 \t epsilon 0.77\n",
      "Epoch 157 \t reward: -0.5 \t length 1 \t mean_length 1.06 \t epsilon 0.77\n",
      "Epoch 158 \t reward: -0.5 \t length 1 \t mean_length 1.05 \t epsilon 0.77\n",
      "Epoch 159 \t reward: -0.5 \t length 1 \t mean_length 1.06 \t epsilon 0.77\n",
      "Epoch 160 \t reward: -0.5 \t length 1 \t mean_length 1.05 \t epsilon 0.77\n",
      "Epoch 161 \t reward: -0.5 \t length 1 \t mean_length 1.06 \t epsilon 0.77\n",
      "Epoch 162 \t reward: -0.5 \t length 1 \t mean_length 1.05 \t epsilon 0.77\n",
      "Epoch 163 \t reward: 1.5 \t length 2 \t mean_length 1.06 \t epsilon 0.77\n",
      "Epoch 164 \t reward: -0.5 \t length 1 \t mean_length 1.05 \t epsilon 0.77\n",
      "Epoch 165 \t reward: -0.5 \t length 1 \t mean_length 1.06 \t epsilon 0.77\n",
      "Epoch 166 \t reward: -0.5 \t length 1 \t mean_length 1.05 \t epsilon 0.77\n",
      "Epoch 167 \t reward: -0.5 \t length 1 \t mean_length 1.06 \t epsilon 0.77\n",
      "Epoch 168 \t reward: -0.5 \t length 1 \t mean_length 1.05 \t epsilon 0.77\n",
      "Epoch 169 \t reward: -0.5 \t length 1 \t mean_length 1.06 \t epsilon 0.77\n",
      "Epoch 170 \t reward: -0.5 \t length 1 \t mean_length 1.05 \t epsilon 0.76\n",
      "Epoch 171 \t reward: -0.5 \t length 1 \t mean_length 1.06 \t epsilon 0.76\n",
      "Epoch 172 \t reward: -0.5 \t length 1 \t mean_length 1.05 \t epsilon 0.76\n",
      "Epoch 173 \t reward: -0.5 \t length 1 \t mean_length 1.06 \t epsilon 0.76\n",
      "Epoch 174 \t reward: -0.5 \t length 1 \t mean_length 1.05 \t epsilon 0.76\n",
      "Epoch 175 \t reward: -0.5 \t length 1 \t mean_length 1.06 \t epsilon 0.76\n",
      "Epoch 176 \t reward: -0.5 \t length 1 \t mean_length 1.05 \t epsilon 0.76\n",
      "Epoch 177 \t reward: -0.5 \t length 1 \t mean_length 1.06 \t epsilon 0.76\n",
      "Epoch 178 \t reward: -0.5 \t length 1 \t mean_length 1.05 \t epsilon 0.76\n",
      "Epoch 179 \t reward: -0.5 \t length 1 \t mean_length 1.06 \t epsilon 0.76\n",
      "Epoch 180 \t reward: -0.5 \t length 1 \t mean_length 1.05 \t epsilon 0.76\n",
      "Epoch 181 \t reward: -0.5 \t length 1 \t mean_length 1.06 \t epsilon 0.76\n",
      "Epoch 182 \t reward: -0.5 \t length 1 \t mean_length 1.05 \t epsilon 0.76\n",
      "Epoch 183 \t reward: -0.5 \t length 1 \t mean_length 1.04 \t epsilon 0.76\n",
      "Epoch 184 \t reward: 1.5 \t length 2 \t mean_length 1.05 \t epsilon 0.76\n",
      "Epoch 185 \t reward: -0.5 \t length 1 \t mean_length 1.06 \t epsilon 0.75\n",
      "Epoch 186 \t reward: -0.5 \t length 1 \t mean_length 1.05 \t epsilon 0.75\n",
      "Epoch 187 \t reward: -0.5 \t length 1 \t mean_length 1.06 \t epsilon 0.75\n",
      "Epoch 188 \t reward: -0.5 \t length 1 \t mean_length 1.05 \t epsilon 0.75\n",
      "Epoch 189 \t reward: -0.5 \t length 1 \t mean_length 1.06 \t epsilon 0.75\n",
      "Epoch 190 \t reward: -0.5 \t length 1 \t mean_length 1.05 \t epsilon 0.75\n",
      "Epoch 191 \t reward: -0.5 \t length 1 \t mean_length 1.06 \t epsilon 0.75\n",
      "Epoch 192 \t reward: -0.5 \t length 1 \t mean_length 1.05 \t epsilon 0.75\n",
      "Epoch 193 \t reward: -0.5 \t length 1 \t mean_length 1.06 \t epsilon 0.75\n",
      "Epoch 194 \t reward: -0.5 \t length 1 \t mean_length 1.05 \t epsilon 0.75\n",
      "Epoch 195 \t reward: -0.5 \t length 1 \t mean_length 1.06 \t epsilon 0.75\n",
      "Epoch 196 \t reward: -0.5 \t length 1 \t mean_length 1.05 \t epsilon 0.75\n",
      "Epoch 197 \t reward: -0.5 \t length 1 \t mean_length 1.06 \t epsilon 0.75\n",
      "Epoch 198 \t reward: -0.5 \t length 1 \t mean_length 1.05 \t epsilon 0.75\n",
      "Epoch 199 \t reward: -0.5 \t length 1 \t mean_length 1.06 \t epsilon 0.74\n",
      "Epoch 200 \t reward: -0.5 \t length 1 \t mean_length 1.05 \t epsilon 0.74\n",
      "Epoch 201 \t reward: -0.5 \t length 1 \t mean_length 1.06 \t epsilon 0.74\n",
      "Epoch 202 \t reward: -0.5 \t length 1 \t mean_length 1.05 \t epsilon 0.74\n",
      "Epoch 203 \t reward: -0.5 \t length 1 \t mean_length 1.06 \t epsilon 0.74\n",
      "Epoch 204 \t reward: -0.5 \t length 1 \t mean_length 1.05 \t epsilon 0.74\n",
      "Epoch 205 \t reward: 1.5 \t length 2 \t mean_length 1.06 \t epsilon 0.74\n",
      "Epoch 206 \t reward: -0.5 \t length 1 \t mean_length 1.05 \t epsilon 0.74\n",
      "Epoch 207 \t reward: -0.5 \t length 1 \t mean_length 1.06 \t epsilon 0.74\n",
      "Epoch 208 \t reward: -0.5 \t length 1 \t mean_length 1.05 \t epsilon 0.74\n",
      "Epoch 209 \t reward: -0.5 \t length 1 \t mean_length 1.06 \t epsilon 0.74\n",
      "Epoch 210 \t reward: -0.5 \t length 1 \t mean_length 1.05 \t epsilon 0.74\n",
      "Epoch 211 \t reward: -0.5 \t length 1 \t mean_length 1.06 \t epsilon 0.74\n",
      "Epoch 212 \t reward: -0.5 \t length 1 \t mean_length 1.05 \t epsilon 0.74\n",
      "Epoch 213 \t reward: -0.5 \t length 1 \t mean_length 1.06 \t epsilon 0.74\n",
      "Epoch 214 \t reward: -0.5 \t length 1 \t mean_length 1.05 \t epsilon 0.73\n",
      "Epoch 215 \t reward: -0.5 \t length 1 \t mean_length 1.06 \t epsilon 0.73\n",
      "Epoch 216 \t reward: -0.5 \t length 1 \t mean_length 1.05 \t epsilon 0.73\n",
      "Epoch 217 \t reward: -0.5 \t length 1 \t mean_length 1.06 \t epsilon 0.73\n",
      "Epoch 218 \t reward: -0.5 \t length 1 \t mean_length 1.05 \t epsilon 0.73\n",
      "Epoch 219 \t reward: -0.5 \t length 1 \t mean_length 1.06 \t epsilon 0.73\n",
      "Epoch 220 \t reward: -0.5 \t length 1 \t mean_length 1.05 \t epsilon 0.73\n",
      "Epoch 221 \t reward: -0.5 \t length 1 \t mean_length 1.04 \t epsilon 0.73\n",
      "Epoch 222 \t reward: -0.5 \t length 1 \t mean_length 1.03 \t epsilon 0.73\n",
      "Epoch 223 \t reward: -0.5 \t length 1 \t mean_length 1.04 \t epsilon 0.73\n",
      "Epoch 224 \t reward: -0.5 \t length 1 \t mean_length 1.03 \t epsilon 0.73\n",
      "Epoch 225 \t reward: -0.5 \t length 1 \t mean_length 1.04 \t epsilon 0.73\n",
      "Epoch 226 \t reward: -0.5 \t length 1 \t mean_length 1.03 \t epsilon 0.73\n",
      "Epoch 227 \t reward: -0.5 \t length 1 \t mean_length 1.04 \t epsilon 0.73\n",
      "Epoch 228 \t reward: -0.5 \t length 1 \t mean_length 1.03 \t epsilon 0.73\n",
      "Epoch 229 \t reward: -0.5 \t length 1 \t mean_length 1.04 \t epsilon 0.72\n",
      "Q_matrix of initial state, after training: step 101\n"
     ]
    },
    {
     "output_type": "display_data",
     "data": {
      "text/plain": "<PIL.Image.Image image mode=RGBA size=128x128 at 0x1978F671A60>",
      "image/png": "[encoded data removed]"
     },
     "metadata": {}
    },
    {
     "output_type": "stream",
     "name": "stdout",
     "text": [
      "17\n",
      "Epoch 230 \t reward: -0.5 \t length 1 \t mean_length 1.03 \t epsilon 0.72\n",
      "Epoch 231 \t reward: -0.5 \t length 1 \t mean_length 1.04 \t epsilon 0.72\n",
      "Epoch 232 \t reward: -0.5 \t length 1 \t mean_length 1.03 \t epsilon 0.72\n",
      "Epoch 233 \t reward: -0.5 \t length 1 \t mean_length 1.04 \t epsilon 0.72\n",
      "Epoch 234 \t reward: -0.5 \t length 1 \t mean_length 1.03 \t epsilon 0.72\n",
      "Epoch 235 \t reward: -0.5 \t length 1 \t mean_length 1.04 \t epsilon 0.72\n",
      "Epoch 236 \t reward: -0.5 \t length 1 \t mean_length 1.03 \t epsilon 0.72\n",
      "Epoch 237 \t reward: -0.5 \t length 1 \t mean_length 1.04 \t epsilon 0.72\n",
      "Epoch 238 \t reward: -0.5 \t length 1 \t mean_length 1.03 \t epsilon 0.72\n",
      "Epoch 239 \t reward: -0.5 \t length 1 \t mean_length 1.04 \t epsilon 0.72\n",
      "Epoch 240 \t reward: -0.5 \t length 1 \t mean_length 1.03 \t epsilon 0.72\n",
      "Epoch 241 \t reward: -0.5 \t length 1 \t mean_length 1.04 \t epsilon 0.72\n",
      "Epoch 242 \t reward: -0.5 \t length 1 \t mean_length 1.03 \t epsilon 0.72\n",
      "Epoch 243 \t reward: -0.5 \t length 1 \t mean_length 1.04 \t epsilon 0.72\n",
      "Epoch 244 \t reward: -0.5 \t length 1 \t mean_length 1.03 \t epsilon 0.71\n",
      "Epoch 245 \t reward: -0.5 \t length 1 \t mean_length 1.04 \t epsilon 0.71\n",
      "Epoch 246 \t reward: -0.5 \t length 1 \t mean_length 1.03 \t epsilon 0.71\n",
      "Epoch 247 \t reward: -0.5 \t length 1 \t mean_length 1.04 \t epsilon 0.71\n",
      "Epoch 248 \t reward: -0.5 \t length 1 \t mean_length 1.03 \t epsilon 0.71\n",
      "Epoch 249 \t reward: -0.5 \t length 1 \t mean_length 1.04 \t epsilon 0.71\n",
      "Epoch 250 \t reward: -0.5 \t length 1 \t mean_length 1.03 \t epsilon 0.71\n",
      "Epoch 251 \t reward: -0.5 \t length 1 \t mean_length 1.04 \t epsilon 0.71\n",
      "Epoch 252 \t reward: -0.5 \t length 1 \t mean_length 1.03 \t epsilon 0.71\n",
      "Epoch 253 \t reward: -0.5 \t length 1 \t mean_length 1.04 \t epsilon 0.71\n",
      "Epoch 254 \t reward: -0.5 \t length 1 \t mean_length 1.03 \t epsilon 0.71\n",
      "Epoch 255 \t reward: -0.5 \t length 1 \t mean_length 1.04 \t epsilon 0.71\n",
      "Epoch 256 \t reward: -0.5 \t length 1 \t mean_length 1.03 \t epsilon 0.71\n",
      "Epoch 257 \t reward: 1.5 \t length 2 \t mean_length 1.02 \t epsilon 0.71\n",
      "Epoch 258 \t reward: -0.5 \t length 1 \t mean_length 1.01 \t epsilon 0.71\n",
      "Epoch 259 \t reward: -0.5 \t length 1 \t mean_length 1.02 \t epsilon 0.71\n",
      "Epoch 260 \t reward: -0.5 \t length 1 \t mean_length 1.01 \t epsilon 0.7\n",
      "Epoch 261 \t reward: -0.5 \t length 1 \t mean_length 1.02 \t epsilon 0.7\n",
      "Epoch 262 \t reward: -0.5 \t length 1 \t mean_length 1.01 \t epsilon 0.7\n",
      "Epoch 263 \t reward: -0.5 \t length 1 \t mean_length 1.02 \t epsilon 0.7\n",
      "Epoch 264 \t reward: -0.5 \t length 1 \t mean_length 1.01 \t epsilon 0.7\n",
      "Epoch 265 \t reward: -0.5 \t length 1 \t mean_length 1.02 \t epsilon 0.7\n",
      "Epoch 266 \t reward: -0.5 \t length 1 \t mean_length 1.01 \t epsilon 0.7\n",
      "Epoch 267 \t reward: -0.5 \t length 1 \t mean_length 1.02 \t epsilon 0.7\n",
      "Epoch 268 \t reward: -0.5 \t length 1 \t mean_length 1.01 \t epsilon 0.7\n",
      "Epoch 269 \t reward: -0.5 \t length 1 \t mean_length 1.02 \t epsilon 0.7\n",
      "Epoch 270 \t reward: -0.5 \t length 1 \t mean_length 1.01 \t epsilon 0.7\n",
      "Epoch 271 \t reward: -0.5 \t length 1 \t mean_length 1.02 \t epsilon 0.7\n",
      "Epoch 272 \t reward: -0.5 \t length 1 \t mean_length 1.01 \t epsilon 0.7\n",
      "Epoch 273 \t reward: -0.5 \t length 1 \t mean_length 1.02 \t epsilon 0.7\n",
      "Epoch 274 \t reward: -0.5 \t length 1 \t mean_length 1.01 \t epsilon 0.7\n",
      "Epoch 275 \t reward: -0.5 \t length 1 \t mean_length 1.02 \t epsilon 0.69\n",
      "Epoch 276 \t reward: -0.5 \t length 1 \t mean_length 1.01 \t epsilon 0.69\n",
      "Epoch 277 \t reward: -0.5 \t length 1 \t mean_length 1.02 \t epsilon 0.69\n",
      "Epoch 278 \t reward: -0.5 \t length 1 \t mean_length 1.01 \t epsilon 0.69\n",
      "Epoch 279 \t reward: -0.5 \t length 1 \t mean_length 1.02 \t epsilon 0.69\n",
      "Epoch 280 \t reward: -0.5 \t length 1 \t mean_length 1.01 \t epsilon 0.69\n",
      "Epoch 281 \t reward: -0.5 \t length 1 \t mean_length 1.02 \t epsilon 0.69\n",
      "Epoch 282 \t reward: -0.5 \t length 1 \t mean_length 1.01 \t epsilon 0.69\n",
      "Epoch 283 \t reward: -0.5 \t length 1 \t mean_length 1.02 \t epsilon 0.69\n",
      "Epoch 284 \t reward: -0.5 \t length 1 \t mean_length 1.01 \t epsilon 0.69\n",
      "Epoch 285 \t reward: -0.5 \t length 1 \t mean_length 1.0 \t epsilon 0.69\n",
      "Epoch 286 \t reward: -0.5 \t length 1 \t mean_length 1.0 \t epsilon 0.69\n",
      "Epoch 287 \t reward: -0.5 \t length 1 \t mean_length 1.0 \t epsilon 0.69\n",
      "Epoch 288 \t reward: -0.5 \t length 1 \t mean_length 1.0 \t epsilon 0.69\n",
      "Epoch 289 \t reward: -0.5 \t length 1 \t mean_length 1.0 \t epsilon 0.69\n",
      "Epoch 290 \t reward: -0.5 \t length 1 \t mean_length 1.0 \t epsilon 0.69\n",
      "Epoch 291 \t reward: -0.5 \t length 1 \t mean_length 1.0 \t epsilon 0.68\n",
      "Epoch 292 \t reward: -0.5 \t length 1 \t mean_length 1.0 \t epsilon 0.68\n",
      "Epoch 293 \t reward: -0.5 \t length 1 \t mean_length 1.0 \t epsilon 0.68\n",
      "Epoch 294 \t reward: -0.5 \t length 1 \t mean_length 1.0 \t epsilon 0.68\n",
      "Epoch 295 \t reward: -0.5 \t length 1 \t mean_length 1.0 \t epsilon 0.68\n",
      "Epoch 296 \t reward: -0.5 \t length 1 \t mean_length 1.0 \t epsilon 0.68\n",
      "Epoch 297 \t reward: -0.5 \t length 1 \t mean_length 1.0 \t epsilon 0.68\n",
      "Epoch 298 \t reward: -0.5 \t length 1 \t mean_length 1.0 \t epsilon 0.68\n",
      "Epoch 299 \t reward: -0.5 \t length 1 \t mean_length 1.0 \t epsilon 0.68\n",
      "Epoch 300 \t reward: -0.5 \t length 1 \t mean_length 1.0 \t epsilon 0.68\n",
      "Epoch 301 \t reward: -0.5 \t length 1 \t mean_length 1.0 \t epsilon 0.68\n",
      "Epoch 302 \t reward: -0.5 \t length 1 \t mean_length 1.0 \t epsilon 0.68\n",
      "Epoch 303 \t reward: -0.5 \t length 1 \t mean_length 1.0 \t epsilon 0.68\n",
      "Epoch 304 \t reward: -0.5 \t length 1 \t mean_length 1.0 \t epsilon 0.68\n",
      "Epoch 305 \t reward: -0.5 \t length 1 \t mean_length 1.0 \t epsilon 0.68\n",
      "Epoch 306 \t reward: -0.5 \t length 1 \t mean_length 1.0 \t epsilon 0.68\n",
      "Epoch 307 \t reward: -0.5 \t length 1 \t mean_length 1.0 \t epsilon 0.67\n",
      "Epoch 308 \t reward: -0.5 \t length 1 \t mean_length 1.0 \t epsilon 0.67\n",
      "Epoch 309 \t reward: -0.5 \t length 1 \t mean_length 1.0 \t epsilon 0.67\n",
      "Epoch 310 \t reward: -0.5 \t length 1 \t mean_length 1.0 \t epsilon 0.67\n",
      "Epoch 311 \t reward: -0.5 \t length 1 \t mean_length 1.0 \t epsilon 0.67\n",
      "Epoch 312 \t reward: -0.5 \t length 1 \t mean_length 1.0 \t epsilon 0.67\n",
      "Epoch 313 \t reward: -0.5 \t length 1 \t mean_length 1.0 \t epsilon 0.67\n",
      "Epoch 314 \t reward: -0.5 \t length 1 \t mean_length 1.0 \t epsilon 0.67\n",
      "Epoch 315 \t reward: -0.5 \t length 1 \t mean_length 1.0 \t epsilon 0.67\n",
      "Epoch 316 \t reward: -0.5 \t length 1 \t mean_length 1.0 \t epsilon 0.67\n",
      "Epoch 317 \t reward: -0.5 \t length 1 \t mean_length 1.0 \t epsilon 0.67\n",
      "Epoch 318 \t reward: -0.5 \t length 1 \t mean_length 1.0 \t epsilon 0.67\n",
      "Epoch 319 \t reward: -0.5 \t length 1 \t mean_length 1.0 \t epsilon 0.67\n",
      "Epoch 320 \t reward: -0.5 \t length 1 \t mean_length 1.0 \t epsilon 0.67\n",
      "Epoch 321 \t reward: -0.5 \t length 1 \t mean_length 1.0 \t epsilon 0.67\n",
      "Epoch 322 \t reward: -0.5 \t length 1 \t mean_length 1.0 \t epsilon 0.67\n",
      "Epoch 323 \t reward: -0.5 \t length 1 \t mean_length 1.0 \t epsilon 0.67\n",
      "Epoch 324 \t reward: -0.5 \t length 1 \t mean_length 1.0 \t epsilon 0.66\n",
      "Epoch 325 \t reward: -0.5 \t length 1 \t mean_length 1.0 \t epsilon 0.66\n",
      "Epoch 326 \t reward: -0.5 \t length 1 \t mean_length 1.0 \t epsilon 0.66\n",
      "Epoch 327 \t reward: -0.5 \t length 1 \t mean_length 1.0 \t epsilon 0.66\n",
      "Epoch 328 \t reward: -0.5 \t length 1 \t mean_length 1.0 \t epsilon 0.66\n",
      "Epoch 329 \t reward: -0.5 \t length 1 \t mean_length 1.0 \t epsilon 0.66\n",
      "Q_matrix of initial state, after training: step 201\n"
     ]
    },
    {
     "output_type": "display_data",
     "data": {
      "text/plain": "<PIL.Image.Image image mode=RGBA size=128x128 at 0x1978F6719D0>",
      "image/png": "[encoded data removed]"
     },
     "metadata": {}
    },
    {
     "output_type": "stream",
     "name": "stdout",
     "text": [
      "23\n",
      "Epoch 330 \t reward: -0.5 \t length 1 \t mean_length 1.0 \t epsilon 0.66\n",
      "Epoch 331 \t reward: -0.5 \t length 1 \t mean_length 1.0 \t epsilon 0.66\n",
      "Epoch 332 \t reward: -0.5 \t length 1 \t mean_length 1.0 \t epsilon 0.66\n",
      "Epoch 333 \t reward: -0.5 \t length 1 \t mean_length 1.0 \t epsilon 0.66\n",
      "Epoch 334 \t reward: -0.5 \t length 1 \t mean_length 1.0 \t epsilon 0.66\n",
      "Epoch 335 \t reward: -0.5 \t length 1 \t mean_length 1.0 \t epsilon 0.66\n",
      "Epoch 336 \t reward: -0.5 \t length 1 \t mean_length 1.0 \t epsilon 0.66\n",
      "Epoch 337 \t reward: -0.5 \t length 1 \t mean_length 1.0 \t epsilon 0.66\n",
      "Epoch 338 \t reward: -0.5 \t length 1 \t mean_length 1.0 \t epsilon 0.66\n",
      "Epoch 339 \t reward: -0.5 \t length 1 \t mean_length 1.0 \t epsilon 0.66\n",
      "Epoch 340 \t reward: -0.5 \t length 1 \t mean_length 1.0 \t epsilon 0.65\n",
      "Epoch 341 \t reward: -0.5 \t length 1 \t mean_length 1.0 \t epsilon 0.65\n",
      "Epoch 342 \t reward: -0.5 \t length 1 \t mean_length 1.0 \t epsilon 0.65\n",
      "Epoch 343 \t reward: -0.5 \t length 1 \t mean_length 1.0 \t epsilon 0.65\n",
      "Epoch 344 \t reward: -0.5 \t length 1 \t mean_length 1.0 \t epsilon 0.65\n",
      "Epoch 345 \t reward: -0.5 \t length 1 \t mean_length 1.0 \t epsilon 0.65\n",
      "Epoch 346 \t reward: -0.5 \t length 1 \t mean_length 1.0 \t epsilon 0.65\n",
      "Epoch 347 \t reward: -0.5 \t length 1 \t mean_length 1.0 \t epsilon 0.65\n",
      "Epoch 348 \t reward: -0.5 \t length 1 \t mean_length 1.0 \t epsilon 0.65\n",
      "Epoch 349 \t reward: -0.5 \t length 1 \t mean_length 1.0 \t epsilon 0.65\n",
      "Epoch 350 \t reward: -0.5 \t length 1 \t mean_length 1.0 \t epsilon 0.65\n",
      "Epoch 351 \t reward: -0.5 \t length 1 \t mean_length 1.0 \t epsilon 0.65\n",
      "Epoch 352 \t reward: 1.5 \t length 2 \t mean_length 1.01 \t epsilon 0.65\n",
      "Epoch 353 \t reward: -0.5 \t length 1 \t mean_length 1.02 \t epsilon 0.65\n",
      "Epoch 354 \t reward: -0.5 \t length 1 \t mean_length 1.01 \t epsilon 0.65\n",
      "Epoch 355 \t reward: -0.5 \t length 1 \t mean_length 1.02 \t epsilon 0.65\n",
      "Epoch 356 \t reward: -0.5 \t length 1 \t mean_length 1.01 \t epsilon 0.65\n",
      "Epoch 357 \t reward: -0.5 \t length 1 \t mean_length 1.02 \t epsilon 0.64\n",
      "Epoch 358 \t reward: -0.5 \t length 1 \t mean_length 1.01 \t epsilon 0.64\n",
      "Epoch 359 \t reward: -0.5 \t length 1 \t mean_length 1.02 \t epsilon 0.64\n",
      "Epoch 360 \t reward: -0.5 \t length 1 \t mean_length 1.01 \t epsilon 0.64\n",
      "Epoch 361 \t reward: -0.5 \t length 1 \t mean_length 1.02 \t epsilon 0.64\n",
      "Epoch 362 \t reward: -0.5 \t length 1 \t mean_length 1.01 \t epsilon 0.64\n",
      "Epoch 363 \t reward: -0.5 \t length 1 \t mean_length 1.02 \t epsilon 0.64\n",
      "Epoch 364 \t reward: -0.5 \t length 1 \t mean_length 1.01 \t epsilon 0.64\n",
      "Epoch 365 \t reward: -0.5 \t length 1 \t mean_length 1.02 \t epsilon 0.64\n",
      "Epoch 366 \t reward: -0.5 \t length 1 \t mean_length 1.01 \t epsilon 0.64\n",
      "Epoch 367 \t reward: -0.5 \t length 1 \t mean_length 1.02 \t epsilon 0.64\n",
      "Epoch 368 \t reward: -0.5 \t length 1 \t mean_length 1.01 \t epsilon 0.64\n",
      "Epoch 369 \t reward: -0.5 \t length 1 \t mean_length 1.02 \t epsilon 0.64\n",
      "Epoch 370 \t reward: -0.5 \t length 1 \t mean_length 1.01 \t epsilon 0.64\n",
      "Epoch 371 \t reward: -0.5 \t length 1 \t mean_length 1.02 \t epsilon 0.64\n",
      "Epoch 372 \t reward: 1.5 \t length 2 \t mean_length 1.03 \t epsilon 0.64\n",
      "Epoch 373 \t reward: -0.5 \t length 1 \t mean_length 1.04 \t epsilon 0.64\n",
      "Epoch 374 \t reward: -0.5 \t length 1 \t mean_length 1.03 \t epsilon 0.63\n",
      "Epoch 375 \t reward: 1.5 \t length 2 \t mean_length 1.04 \t epsilon 0.63\n",
      "Epoch 376 \t reward: -0.5 \t length 1 \t mean_length 1.03 \t epsilon 0.63\n",
      "Epoch 377 \t reward: -0.5 \t length 1 \t mean_length 1.04 \t epsilon 0.63\n",
      "Epoch 378 \t reward: -0.5 \t length 1 \t mean_length 1.03 \t epsilon 0.63\n",
      "Epoch 379 \t reward: -0.5 \t length 1 \t mean_length 1.04 \t epsilon 0.63\n",
      "Epoch 380 \t reward: 1.5 \t length 2 \t mean_length 1.05 \t epsilon 0.63\n",
      "Epoch 381 \t reward: -0.5 \t length 1 \t mean_length 1.06 \t epsilon 0.63\n",
      "Epoch 382 \t reward: -0.5 \t length 1 \t mean_length 1.05 \t epsilon 0.63\n",
      "Epoch 383 \t reward: -0.5 \t length 1 \t mean_length 1.06 \t epsilon 0.63\n",
      "Epoch 384 \t reward: 1.5 \t length 2 \t mean_length 1.07 \t epsilon 0.63\n",
      "Epoch 385 \t reward: -0.5 \t length 1 \t mean_length 1.08 \t epsilon 0.63\n",
      "Epoch 386 \t reward: 1.5 \t length 2 \t mean_length 1.09 \t epsilon 0.63\n",
      "Epoch 387 \t reward: 1.5 \t length 2 \t mean_length 1.1 \t epsilon 0.63\n",
      "Epoch 388 \t reward: -0.5 \t length 1 \t mean_length 1.09 \t epsilon 0.63\n",
      "Epoch 389 \t reward: 1.5 \t length 2 \t mean_length 1.1 \t epsilon 0.63\n",
      "Epoch 390 \t reward: -0.5 \t length 1 \t mean_length 1.09 \t epsilon 0.63\n",
      "Epoch 391 \t reward: -0.5 \t length 1 \t mean_length 1.1 \t epsilon 0.63\n",
      "Epoch 392 \t reward: 1.5 \t length 2 \t mean_length 1.11 \t epsilon 0.62\n",
      "Epoch 393 \t reward: -0.5 \t length 1 \t mean_length 1.12 \t epsilon 0.62\n",
      "Epoch 394 \t reward: -0.5 \t length 1 \t mean_length 1.11 \t epsilon 0.62\n",
      "Epoch 395 \t reward: -0.5 \t length 1 \t mean_length 1.12 \t epsilon 0.62\n",
      "Epoch 396 \t reward: 1.5 \t length 2 \t mean_length 1.13 \t epsilon 0.62\n",
      "Epoch 397 \t reward: -0.5 \t length 1 \t mean_length 1.13 \t epsilon 0.62\n",
      "Epoch 398 \t reward: -0.5 \t length 1 \t mean_length 1.13 \t epsilon 0.62\n",
      "Epoch 399 \t reward: -0.5 \t length 1 \t mean_length 1.13 \t epsilon 0.62\n",
      "Epoch 400 \t reward: 1.5 \t length 2 \t mean_length 1.15 \t epsilon 0.62\n",
      "Epoch 401 \t reward: -0.5 \t length 1 \t mean_length 1.15 \t epsilon 0.62\n",
      "Epoch 402 \t reward: -0.5 \t length 1 \t mean_length 1.15 \t epsilon 0.62\n",
      "Epoch 403 \t reward: 1.5 \t length 2 \t mean_length 1.15 \t epsilon 0.62\n",
      "Epoch 404 \t reward: -0.5 \t length 1 \t mean_length 1.15 \t epsilon 0.62\n",
      "Epoch 405 \t reward: 1.5 \t length 2 \t mean_length 1.15 \t epsilon 0.62\n",
      "Epoch 406 \t reward: -0.5 \t length 1 \t mean_length 1.15 \t epsilon 0.62\n",
      "Epoch 407 \t reward: -0.5 \t length 1 \t mean_length 1.15 \t epsilon 0.62\n",
      "Epoch 408 \t reward: 1.5 \t length 2 \t mean_length 1.17 \t epsilon 0.62\n",
      "Epoch 409 \t reward: -0.5 \t length 1 \t mean_length 1.18 \t epsilon 0.62\n",
      "Epoch 410 \t reward: -0.5 \t length 1 \t mean_length 1.17 \t epsilon 0.61\n",
      "Epoch 411 \t reward: -0.5 \t length 1 \t mean_length 1.18 \t epsilon 0.61\n",
      "Epoch 412 \t reward: 1.5 \t length 2 \t mean_length 1.19 \t epsilon 0.61\n",
      "Epoch 413 \t reward: 1.5 \t length 2 \t mean_length 1.2 \t epsilon 0.61\n",
      "Epoch 414 \t reward: -0.5 \t length 1 \t mean_length 1.19 \t epsilon 0.61\n",
      "Epoch 415 \t reward: 1.5 \t length 2 \t mean_length 1.2 \t epsilon 0.61\n",
      "Epoch 416 \t reward: 1.5 \t length 2 \t mean_length 1.21 \t epsilon 0.61\n",
      "Epoch 417 \t reward: -0.5 \t length 1 \t mean_length 1.22 \t epsilon 0.61\n",
      "Epoch 418 \t reward: 1.5 \t length 2 \t mean_length 1.23 \t epsilon 0.61\n",
      "Epoch 419 \t reward: 1.5 \t length 2 \t mean_length 1.24 \t epsilon 0.61\n",
      "Epoch 420 \t reward: -0.5 \t length 1 \t mean_length 1.23 \t epsilon 0.61\n",
      "Epoch 421 \t reward: 1.5 \t length 2 \t mean_length 1.24 \t epsilon 0.61\n",
      "Epoch 422 \t reward: -0.5 \t length 1 \t mean_length 1.23 \t epsilon 0.61\n",
      "Epoch 423 \t reward: -0.5 \t length 1 \t mean_length 1.24 \t epsilon 0.61\n",
      "Epoch 424 \t reward: 1.5 \t length 2 \t mean_length 1.25 \t epsilon 0.61\n",
      "Epoch 425 \t reward: -0.5 \t length 1 \t mean_length 1.26 \t epsilon 0.61\n",
      "Epoch 426 \t reward: 1.5 \t length 2 \t mean_length 1.27 \t epsilon 0.61\n",
      "Epoch 427 \t reward: -0.5 \t length 1 \t mean_length 1.28 \t epsilon 0.61\n",
      "Epoch 428 \t reward: -0.5 \t length 1 \t mean_length 1.27 \t epsilon 0.6\n",
      "Epoch 429 \t reward: -0.5 \t length 1 \t mean_length 1.28 \t epsilon 0.6\n",
      "Q_matrix of initial state, after training: step 301\n"
     ]
    },
    {
     "output_type": "display_data",
     "data": {
      "text/plain": "<PIL.Image.Image image mode=RGBA size=128x128 at 0x1978F671C70>",
      "image/png": "[encoded data removed]"
     },
     "metadata": {}
    },
    {
     "output_type": "stream",
     "name": "stdout",
     "text": [
      "29\n"
     ]
    },
    {
     "output_type": "display_data",
     "data": {
      "text/plain": "<PIL.Image.Image image mode=RGBA size=128x128 at 0x1978F671C70>",
      "image/png": "[encoded data removed]"
     },
     "metadata": {}
    },
    {
     "output_type": "stream",
     "name": "stdout",
     "text": [
      "-------------\n"
     ]
    },
    {
     "output_type": "display_data",
     "data": {
      "text/plain": "<PIL.Image.Image image mode=RGBA size=128x128 at 0x1978F6718B0>",
      "image/png": "[encoded data removed]"
     },
     "metadata": {}
    },
    {
     "output_type": "stream",
     "name": "stdout",
     "text": [
      "29\n",
      "Epoch 430 \t reward: -0.5 \t length 1 \t mean_length 1.27 \t epsilon 0.6\n",
      "Epoch 431 \t reward: 1.5 \t length 2 \t mean_length 1.28 \t epsilon 0.6\n",
      "Epoch 432 \t reward: -0.5 \t length 1 \t mean_length 1.27 \t epsilon 0.6\n",
      "Epoch 433 \t reward: -0.5 \t length 1 \t mean_length 1.28 \t epsilon 0.6\n",
      "Epoch 434 \t reward: 1.5 \t length 2 \t mean_length 1.29 \t epsilon 0.6\n",
      "Epoch 435 \t reward: -0.5 \t length 1 \t mean_length 1.3 \t epsilon 0.6\n",
      "Epoch 436 \t reward: 1.5 \t length 2 \t mean_length 1.31 \t epsilon 0.6\n",
      "Epoch 437 \t reward: -0.5 \t length 1 \t mean_length 1.32 \t epsilon 0.6\n",
      "Epoch 438 \t reward: 1.5 \t length 2 \t mean_length 1.33 \t epsilon 0.6\n",
      "Epoch 439 \t reward: 1.5 \t length 2 \t mean_length 1.34 \t epsilon 0.6\n",
      "Epoch 440 \t reward: -0.5 \t length 1 \t mean_length 1.33 \t epsilon 0.6\n",
      "Epoch 441 \t reward: 1.5 \t length 2 \t mean_length 1.34 \t epsilon 0.6\n",
      "Epoch 442 \t reward: 1.5 \t length 2 \t mean_length 1.35 \t epsilon 0.6\n",
      "Epoch 443 \t reward: -0.5 \t length 1 \t mean_length 1.36 \t epsilon 0.6\n",
      "Epoch 444 \t reward: -0.5 \t length 1 \t mean_length 1.35 \t epsilon 0.6\n",
      "Epoch 445 \t reward: -0.5 \t length 1 \t mean_length 1.36 \t epsilon 0.6\n",
      "Epoch 446 \t reward: -0.5 \t length 1 \t mean_length 1.35 \t epsilon 0.59\n",
      "Epoch 447 \t reward: 1.5 \t length 2 \t mean_length 1.36 \t epsilon 0.59\n",
      "Epoch 448 \t reward: -0.5 \t length 1 \t mean_length 1.35 \t epsilon 0.59\n",
      "Epoch 449 \t reward: 1.5 \t length 2 \t mean_length 1.36 \t epsilon 0.59\n",
      "Epoch 450 \t reward: -0.5 \t length 1 \t mean_length 1.35 \t epsilon 0.59\n",
      "Epoch 451 \t reward: -0.5 \t length 1 \t mean_length 1.36 \t epsilon 0.59\n",
      "Epoch 452 \t reward: -0.5 \t length 1 \t mean_length 1.35 \t epsilon 0.59\n",
      "Epoch 453 \t reward: 4.0 \t length 3 \t mean_length 1.34 \t epsilon 0.59\n",
      "Epoch 454 \t reward: 1.5 \t length 2 \t mean_length 1.35 \t epsilon 0.59\n",
      "Epoch 455 \t reward: -0.5 \t length 1 \t mean_length 1.36 \t epsilon 0.59\n",
      "Epoch 456 \t reward: -0.5 \t length 1 \t mean_length 1.35 \t epsilon 0.59\n",
      "Epoch 457 \t reward: 1.5 \t length 2 \t mean_length 1.36 \t epsilon 0.59\n",
      "Epoch 458 \t reward: -0.5 \t length 1 \t mean_length 1.35 \t epsilon 0.59\n",
      "Epoch 459 \t reward: -0.5 \t length 1 \t mean_length 1.36 \t epsilon 0.59\n",
      "Epoch 460 \t reward: -0.5 \t length 1 \t mean_length 1.35 \t epsilon 0.59\n",
      "Epoch 461 \t reward: -0.5 \t length 1 \t mean_length 1.36 \t epsilon 0.59\n",
      "Epoch 462 \t reward: -0.5 \t length 1 \t mean_length 1.35 \t epsilon 0.59\n",
      "Epoch 463 \t reward: -0.5 \t length 1 \t mean_length 1.36 \t epsilon 0.59\n",
      "Epoch 464 \t reward: 1.5 \t length 2 \t mean_length 1.37 \t epsilon 0.59\n",
      "Epoch 465 \t reward: -0.5 \t length 1 \t mean_length 1.38 \t epsilon 0.58\n",
      "Epoch 466 \t reward: 1.5 \t length 2 \t mean_length 1.39 \t epsilon 0.58\n",
      "Epoch 467 \t reward: -0.5 \t length 1 \t mean_length 1.4 \t epsilon 0.58\n",
      "Epoch 468 \t reward: -0.5 \t length 1 \t mean_length 1.39 \t epsilon 0.58\n",
      "Epoch 469 \t reward: -0.5 \t length 1 \t mean_length 1.4 \t epsilon 0.58\n",
      "Epoch 470 \t reward: 1.5 \t length 2 \t mean_length 1.41 \t epsilon 0.58\n",
      "Epoch 471 \t reward: -0.5 \t length 1 \t mean_length 1.42 \t epsilon 0.58\n",
      "Epoch 472 \t reward: -0.5 \t length 1 \t mean_length 1.41 \t epsilon 0.58\n",
      "Epoch 473 \t reward: -0.5 \t length 1 \t mean_length 1.4 \t epsilon 0.58\n",
      "Epoch 474 \t reward: 1.5 \t length 2 \t mean_length 1.41 \t epsilon 0.58\n",
      "Epoch 475 \t reward: -0.5 \t length 1 \t mean_length 1.42 \t epsilon 0.58\n",
      "Epoch 476 \t reward: -0.5 \t length 1 \t mean_length 1.41 \t epsilon 0.58\n",
      "Epoch 477 \t reward: -0.5 \t length 1 \t mean_length 1.42 \t epsilon 0.58\n",
      "Epoch 478 \t reward: -0.5 \t length 1 \t mean_length 1.41 \t epsilon 0.58\n",
      "Epoch 479 \t reward: 1.5 \t length 2 \t mean_length 1.42 \t epsilon 0.58\n",
      "Epoch 480 \t reward: -0.5 \t length 1 \t mean_length 1.41 \t epsilon 0.58\n",
      "Epoch 481 \t reward: -0.5 \t length 1 \t mean_length 1.4 \t epsilon 0.58\n",
      "Epoch 482 \t reward: 1.5 \t length 2 \t mean_length 1.41 \t epsilon 0.58\n",
      "Epoch 483 \t reward: -0.5 \t length 1 \t mean_length 1.42 \t epsilon 0.58\n",
      "Epoch 484 \t reward: -0.5 \t length 1 \t mean_length 1.41 \t epsilon 0.57\n",
      "Epoch 485 \t reward: -0.5 \t length 1 \t mean_length 1.4 \t epsilon 0.57\n",
      "Epoch 486 \t reward: 1.5 \t length 2 \t mean_length 1.41 \t epsilon 0.57\n",
      "Epoch 487 \t reward: 1.5 \t length 2 \t mean_length 1.4 \t epsilon 0.57\n",
      "Epoch 488 \t reward: 1.5 \t length 2 \t mean_length 1.41 \t epsilon 0.57\n",
      "Epoch 489 \t reward: 1.5 \t length 2 \t mean_length 1.42 \t epsilon 0.57\n",
      "Epoch 490 \t reward: 1.5 \t length 2 \t mean_length 1.43 \t epsilon 0.57\n",
      "Epoch 491 \t reward: 1.5 \t length 2 \t mean_length 1.44 \t epsilon 0.57\n",
      "Epoch 492 \t reward: -0.5 \t length 1 \t mean_length 1.43 \t epsilon 0.57\n",
      "Epoch 493 \t reward: -0.5 \t length 1 \t mean_length 1.42 \t epsilon 0.57\n",
      "Epoch 494 \t reward: 1.5 \t length 2 \t mean_length 1.43 \t epsilon 0.57\n",
      "Epoch 495 \t reward: -0.5 \t length 1 \t mean_length 1.44 \t epsilon 0.57\n",
      "Epoch 496 \t reward: -0.5 \t length 1 \t mean_length 1.43 \t epsilon 0.57\n",
      "Epoch 497 \t reward: -0.5 \t length 1 \t mean_length 1.42 \t epsilon 0.57\n",
      "Epoch 498 \t reward: -0.5 \t length 1 \t mean_length 1.41 \t epsilon 0.57\n",
      "Epoch 499 \t reward: -0.5 \t length 1 \t mean_length 1.42 \t epsilon 0.57\n",
      "Epoch 500 \t reward: 1.5 \t length 2 \t mean_length 1.43 \t epsilon 0.57\n",
      "Epoch 501 \t reward: -0.5 \t length 1 \t mean_length 1.42 \t epsilon 0.57\n",
      "Epoch 502 \t reward: -0.5 \t length 1 \t mean_length 1.41 \t epsilon 0.57\n",
      "Epoch 503 \t reward: -0.5 \t length 1 \t mean_length 1.42 \t epsilon 0.57\n",
      "Epoch 504 \t reward: 1.5 \t length 2 \t mean_length 1.43 \t epsilon 0.56\n",
      "Epoch 505 \t reward: -0.5 \t length 1 \t mean_length 1.44 \t epsilon 0.56\n",
      "Epoch 506 \t reward: -0.5 \t length 1 \t mean_length 1.43 \t epsilon 0.56\n",
      "Epoch 507 \t reward: 1.5 \t length 2 \t mean_length 1.44 \t epsilon 0.56\n",
      "Epoch 508 \t reward: -0.5 \t length 1 \t mean_length 1.43 \t epsilon 0.56\n",
      "Epoch 509 \t reward: -0.5 \t length 1 \t mean_length 1.42 \t epsilon 0.56\n",
      "Epoch 510 \t reward: -0.5 \t length 1 \t mean_length 1.41 \t epsilon 0.56\n",
      "Epoch 511 \t reward: 1.5 \t length 2 \t mean_length 1.42 \t epsilon 0.56\n",
      "Epoch 512 \t reward: 1.5 \t length 2 \t mean_length 1.43 \t epsilon 0.56\n",
      "Epoch 513 \t reward: 1.5 \t length 2 \t mean_length 1.42 \t epsilon 0.56\n",
      "Epoch 514 \t reward: 1.5 \t length 2 \t mean_length 1.43 \t epsilon 0.56\n",
      "Epoch 515 \t reward: 1.5 \t length 2 \t mean_length 1.44 \t epsilon 0.56\n",
      "Epoch 516 \t reward: -0.5 \t length 1 \t mean_length 1.43 \t epsilon 0.56\n",
      "Epoch 517 \t reward: -0.5 \t length 1 \t mean_length 1.42 \t epsilon 0.56\n",
      "Epoch 518 \t reward: 1.5 \t length 2 \t mean_length 1.43 \t epsilon 0.56\n",
      "Epoch 519 \t reward: 1.5 \t length 2 \t mean_length 1.42 \t epsilon 0.56\n",
      "Epoch 520 \t reward: 4.0 \t length 3 \t mean_length 1.45 \t epsilon 0.56\n",
      "Epoch 521 \t reward: 1.5 \t length 2 \t mean_length 1.46 \t epsilon 0.56\n",
      "Epoch 522 \t reward: 1.5 \t length 2 \t mean_length 1.47 \t epsilon 0.56\n",
      "Epoch 523 \t reward: -0.5 \t length 1 \t mean_length 1.48 \t epsilon 0.56\n",
      "Epoch 524 \t reward: 1.5 \t length 2 \t mean_length 1.49 \t epsilon 0.55\n",
      "Epoch 525 \t reward: -0.5 \t length 1 \t mean_length 1.48 \t epsilon 0.55\n",
      "Epoch 526 \t reward: -0.5 \t length 1 \t mean_length 1.47 \t epsilon 0.55\n",
      "Epoch 527 \t reward: -0.5 \t length 1 \t mean_length 1.46 \t epsilon 0.55\n",
      "Epoch 528 \t reward: 1.5 \t length 2 \t mean_length 1.47 \t epsilon 0.55\n",
      "Epoch 529 \t reward: 1.5 \t length 2 \t mean_length 1.48 \t epsilon 0.55\n",
      "Q_matrix of initial state, after training: step 401\n"
     ]
    },
    {
     "output_type": "display_data",
     "data": {
      "text/plain": "<PIL.Image.Image image mode=RGBA size=128x128 at 0x1978F6718B0>",
      "image/png": "[encoded data removed]"
     },
     "metadata": {}
    },
    {
     "output_type": "stream",
     "name": "stdout",
     "text": [
      "34\n"
     ]
    },
    {
     "output_type": "display_data",
     "data": {
      "text/plain": "<PIL.Image.Image image mode=RGBA size=128x128 at 0x1978F671BE0>",
      "image/png": "[encoded data removed]"
     },
     "metadata": {}
    },
    {
     "output_type": "stream",
     "name": "stdout",
     "text": [
      "-------------\n"
     ]
    },
    {
     "output_type": "display_data",
     "data": {
      "text/plain": "<PIL.Image.Image image mode=RGBA size=128x128 at 0x1978F671940>",
      "image/png": "[encoded data removed]"
     },
     "metadata": {}
    },
    {
     "output_type": "stream",
     "name": "stdout",
     "text": [
      "34\n",
      "Epoch 530 \t reward: 1.5 \t length 2 \t mean_length 1.49 \t epsilon 0.55\n",
      "Epoch 531 \t reward: -0.5 \t length 1 \t mean_length 1.5 \t epsilon 0.55\n",
      "Epoch 532 \t reward: -0.5 \t length 1 \t mean_length 1.49 \t epsilon 0.55\n",
      "Epoch 533 \t reward: 1.5 \t length 2 \t mean_length 1.5 \t epsilon 0.55\n",
      "Epoch 534 \t reward: -0.5 \t length 1 \t mean_length 1.49 \t epsilon 0.55\n",
      "Epoch 535 \t reward: -0.5 \t length 1 \t mean_length 1.48 \t epsilon 0.55\n",
      "Epoch 536 \t reward: -0.5 \t length 1 \t mean_length 1.47 \t epsilon 0.55\n",
      "Epoch 537 \t reward: 1.5 \t length 2 \t mean_length 1.46 \t epsilon 0.55\n",
      "Epoch 538 \t reward: 1.5 \t length 2 \t mean_length 1.47 \t epsilon 0.55\n",
      "Epoch 539 \t reward: 4.0 \t length 3 \t mean_length 1.46 \t epsilon 0.55\n",
      "Epoch 540 \t reward: -0.5 \t length 1 \t mean_length 1.45 \t epsilon 0.55\n",
      "Epoch 541 \t reward: -0.5 \t length 1 \t mean_length 1.46 \t epsilon 0.55\n",
      "Epoch 542 \t reward: 1.5 \t length 2 \t mean_length 1.47 \t epsilon 0.55\n",
      "Epoch 543 \t reward: -0.5 \t length 1 \t mean_length 1.46 \t epsilon 0.55\n",
      "Epoch 544 \t reward: 1.5 \t length 2 \t mean_length 1.47 \t epsilon 0.54\n",
      "Epoch 545 \t reward: -0.5 \t length 1 \t mean_length 1.48 \t epsilon 0.54\n",
      "Epoch 546 \t reward: 1.5 \t length 2 \t mean_length 1.49 \t epsilon 0.54\n",
      "Epoch 547 \t reward: 1.5 \t length 2 \t mean_length 1.5 \t epsilon 0.54\n",
      "Epoch 548 \t reward: 1.5 \t length 2 \t mean_length 1.5 \t epsilon 0.54\n",
      "Epoch 549 \t reward: 1.5 \t length 2 \t mean_length 1.52 \t epsilon 0.54\n",
      "Epoch 550 \t reward: 1.5 \t length 2 \t mean_length 1.52 \t epsilon 0.54\n",
      "Epoch 551 \t reward: 1.5 \t length 2 \t mean_length 1.54 \t epsilon 0.54\n",
      "Epoch 552 \t reward: 1.5 \t length 2 \t mean_length 1.54 \t epsilon 0.54\n",
      "Epoch 553 \t reward: 1.5 \t length 2 \t mean_length 1.56 \t epsilon 0.54\n",
      "Epoch 554 \t reward: -0.5 \t length 1 \t mean_length 1.54 \t epsilon 0.54\n",
      "Epoch 555 \t reward: 1.5 \t length 2 \t mean_length 1.54 \t epsilon 0.54\n",
      "Epoch 556 \t reward: -0.5 \t length 1 \t mean_length 1.52 \t epsilon 0.54\n",
      "Epoch 557 \t reward: 1.5 \t length 2 \t mean_length 1.54 \t epsilon 0.54\n",
      "Epoch 558 \t reward: 1.5 \t length 2 \t mean_length 1.54 \t epsilon 0.54\n",
      "Epoch 559 \t reward: 4.0 \t length 3 \t mean_length 1.56 \t epsilon 0.54\n",
      "Epoch 560 \t reward: 1.5 \t length 2 \t mean_length 1.56 \t epsilon 0.54\n",
      "Epoch 561 \t reward: -0.5 \t length 1 \t mean_length 1.58 \t epsilon 0.54\n",
      "Epoch 562 \t reward: 1.5 \t length 2 \t mean_length 1.58 \t epsilon 0.54\n",
      "Epoch 563 \t reward: 1.5 \t length 2 \t mean_length 1.6 \t epsilon 0.54\n",
      "Epoch 564 \t reward: -0.5 \t length 1 \t mean_length 1.58 \t epsilon 0.54\n",
      "Epoch 565 \t reward: -0.5 \t length 1 \t mean_length 1.58 \t epsilon 0.53\n",
      "Epoch 566 \t reward: 1.5 \t length 2 \t mean_length 1.58 \t epsilon 0.53\n",
      "Epoch 567 \t reward: 1.5 \t length 2 \t mean_length 1.58 \t epsilon 0.53\n",
      "Epoch 568 \t reward: 1.5 \t length 2 \t mean_length 1.58 \t epsilon 0.53\n",
      "Epoch 569 \t reward: 1.5 \t length 2 \t mean_length 1.6 \t epsilon 0.53\n",
      "Epoch 570 \t reward: -0.5 \t length 1 \t mean_length 1.58 \t epsilon 0.53\n",
      "Epoch 571 \t reward: -0.5 \t length 1 \t mean_length 1.58 \t epsilon 0.53\n",
      "Epoch 572 \t reward: 1.5 \t length 2 \t mean_length 1.58 \t epsilon 0.53\n",
      "Epoch 573 \t reward: -0.5 \t length 1 \t mean_length 1.6 \t epsilon 0.53\n",
      "Epoch 574 \t reward: -0.5 \t length 1 \t mean_length 1.58 \t epsilon 0.53\n",
      "Epoch 575 \t reward: 1.5 \t length 2 \t mean_length 1.58 \t epsilon 0.53\n",
      "Epoch 576 \t reward: -0.5 \t length 1 \t mean_length 1.56 \t epsilon 0.53\n",
      "Epoch 577 \t reward: -0.5 \t length 1 \t mean_length 1.58 \t epsilon 0.53\n",
      "Epoch 578 \t reward: 4.0 \t length 3 \t mean_length 1.6 \t epsilon 0.53\n",
      "Epoch 579 \t reward: 1.5 \t length 2 \t mean_length 1.62 \t epsilon 0.53\n",
      "Epoch 580 \t reward: -0.5 \t length 1 \t mean_length 1.6 \t epsilon 0.53\n",
      "Epoch 581 \t reward: -0.5 \t length 1 \t mean_length 1.62 \t epsilon 0.53\n",
      "Epoch 582 \t reward: 1.5 \t length 2 \t mean_length 1.62 \t epsilon 0.53\n",
      "Epoch 583 \t reward: -0.5 \t length 1 \t mean_length 1.62 \t epsilon 0.53\n",
      "Epoch 584 \t reward: 1.5 \t length 2 \t mean_length 1.62 \t epsilon 0.53\n",
      "Epoch 585 \t reward: 1.5 \t length 2 \t mean_length 1.64 \t epsilon 0.53\n",
      "Epoch 586 \t reward: 1.5 \t length 2 \t mean_length 1.64 \t epsilon 0.52\n",
      "Epoch 587 \t reward: -0.5 \t length 1 \t mean_length 1.64 \t epsilon 0.52\n",
      "Epoch 588 \t reward: -0.5 \t length 1 \t mean_length 1.62 \t epsilon 0.52\n",
      "Epoch 589 \t reward: 1.5 \t length 2 \t mean_length 1.62 \t epsilon 0.52\n",
      "Epoch 590 \t reward: 1.5 \t length 2 \t mean_length 1.62 \t epsilon 0.52\n",
      "Epoch 591 \t reward: -0.5 \t length 1 \t mean_length 1.62 \t epsilon 0.52\n",
      "Epoch 592 \t reward: 1.5 \t length 2 \t mean_length 1.62 \t epsilon 0.52\n",
      "Epoch 593 \t reward: -0.5 \t length 1 \t mean_length 1.64 \t epsilon 0.52\n",
      "Epoch 594 \t reward: -0.5 \t length 1 \t mean_length 1.62 \t epsilon 0.52\n",
      "Epoch 595 \t reward: 4.0 \t length 3 \t mean_length 1.62 \t epsilon 0.52\n",
      "Epoch 596 \t reward: 1.5 \t length 2 \t mean_length 1.62 \t epsilon 0.52\n",
      "Epoch 597 \t reward: -0.5 \t length 1 \t mean_length 1.64 \t epsilon 0.52\n",
      "Epoch 598 \t reward: -0.5 \t length 1 \t mean_length 1.62 \t epsilon 0.52\n",
      "Epoch 599 \t reward: 1.5 \t length 2 \t mean_length 1.64 \t epsilon 0.52\n",
      "Epoch 600 \t reward: 1.5 \t length 2 \t mean_length 1.64 \t epsilon 0.52\n",
      "Epoch 601 \t reward: 1.5 \t length 2 \t mean_length 1.64 \t epsilon 0.52\n",
      "Epoch 602 \t reward: -0.5 \t length 1 \t mean_length 1.62 \t epsilon 0.52\n",
      "Epoch 603 \t reward: -0.5 \t length 1 \t mean_length 1.64 \t epsilon 0.52\n",
      "Epoch 604 \t reward: -0.5 \t length 1 \t mean_length 1.62 \t epsilon 0.52\n",
      "Epoch 605 \t reward: 1.5 \t length 2 \t mean_length 1.62 \t epsilon 0.52\n",
      "Epoch 606 \t reward: 1.5 \t length 2 \t mean_length 1.62 \t epsilon 0.52\n",
      "Epoch 607 \t reward: 1.5 \t length 2 \t mean_length 1.64 \t epsilon 0.51\n",
      "Epoch 608 \t reward: -0.5 \t length 1 \t mean_length 1.62 \t epsilon 0.51\n",
      "Epoch 609 \t reward: -0.5 \t length 1 \t mean_length 1.64 \t epsilon 0.51\n",
      "Epoch 610 \t reward: 1.5 \t length 2 \t mean_length 1.64 \t epsilon 0.51\n",
      "Epoch 611 \t reward: -0.5 \t length 1 \t mean_length 1.66 \t epsilon 0.51\n",
      "Epoch 612 \t reward: -0.5 \t length 1 \t mean_length 1.64 \t epsilon 0.51\n",
      "Epoch 613 \t reward: 1.5 \t length 2 \t mean_length 1.64 \t epsilon 0.51\n",
      "Epoch 614 \t reward: 1.5 \t length 2 \t mean_length 1.64 \t epsilon 0.51\n",
      "Epoch 615 \t reward: 1.5 \t length 2 \t mean_length 1.64 \t epsilon 0.51\n",
      "Epoch 616 \t reward: 4.0 \t length 3 \t mean_length 1.66 \t epsilon 0.51\n",
      "Epoch 617 \t reward: -0.5 \t length 1 \t mean_length 1.68 \t epsilon 0.51\n",
      "Epoch 618 \t reward: -0.5 \t length 1 \t mean_length 1.66 \t epsilon 0.51\n",
      "Epoch 619 \t reward: -0.5 \t length 1 \t mean_length 1.66 \t epsilon 0.51\n",
      "Epoch 620 \t reward: -0.5 \t length 1 \t mean_length 1.64 \t epsilon 0.51\n",
      "Epoch 621 \t reward: -0.5 \t length 1 \t mean_length 1.62 \t epsilon 0.51\n",
      "Epoch 622 \t reward: 1.5 \t length 2 \t mean_length 1.62 \t epsilon 0.51\n",
      "Epoch 623 \t reward: 1.5 \t length 2 \t mean_length 1.62 \t epsilon 0.51\n",
      "Epoch 624 \t reward: 1.5 \t length 2 \t mean_length 1.62 \t epsilon 0.51\n",
      "Epoch 625 \t reward: 1.5 \t length 2 \t mean_length 1.62 \t epsilon 0.51\n",
      "Epoch 626 \t reward: -0.5 \t length 1 \t mean_length 1.6 \t epsilon 0.51\n",
      "Epoch 627 \t reward: -0.5 \t length 1 \t mean_length 1.62 \t epsilon 0.51\n",
      "Epoch 628 \t reward: 1.5 \t length 2 \t mean_length 1.62 \t epsilon 0.51\n",
      "Epoch 629 \t reward: 1.5 \t length 2 \t mean_length 1.62 \t epsilon 0.5\n",
      "Q_matrix of initial state, after training: step 501\n"
     ]
    },
    {
     "output_type": "display_data",
     "data": {
      "text/plain": "<PIL.Image.Image image mode=RGBA size=128x128 at 0x1978F671EE0>",
      "image/png": "[encoded data removed]"
     },
     "metadata": {}
    },
    {
     "output_type": "stream",
     "name": "stdout",
     "text": [
      "34\n"
     ]
    },
    {
     "output_type": "display_data",
     "data": {
      "text/plain": "<PIL.Image.Image image mode=RGBA size=128x128 at 0x1978F671580>",
      "image/png": "[encoded data removed]"
     },
     "metadata": {}
    },
    {
     "output_type": "stream",
     "name": "stdout",
     "text": [
      "-------------\n"
     ]
    },
    {
     "output_type": "display_data",
     "data": {
      "text/plain": "<PIL.Image.Image image mode=RGBA size=128x128 at 0x1978F671610>",
      "image/png": "[encoded data removed]"
     },
     "metadata": {}
    },
    {
     "output_type": "stream",
     "name": "stdout",
     "text": [
      "34\n",
      "Epoch 630 \t reward: 1.5 \t length 2 \t mean_length 1.62 \t epsilon 0.5\n",
      "Epoch 631 \t reward: -0.5 \t length 1 \t mean_length 1.62 \t epsilon 0.5\n",
      "Epoch 632 \t reward: 1.5 \t length 2 \t mean_length 1.62 \t epsilon 0.5\n",
      "Epoch 633 \t reward: 1.5 \t length 2 \t mean_length 1.64 \t epsilon 0.5\n",
      "Epoch 634 \t reward: -0.5 \t length 1 \t mean_length 1.62 \t epsilon 0.5\n",
      "Epoch 635 \t reward: 1.5 \t length 2 \t mean_length 1.64 \t epsilon 0.5\n",
      "Epoch 636 \t reward: -0.5 \t length 1 \t mean_length 1.62 \t epsilon 0.5\n",
      "Epoch 637 \t reward: -0.5 \t length 1 \t mean_length 1.64 \t epsilon 0.5\n",
      "Epoch 638 \t reward: 1.5 \t length 2 \t mean_length 1.64 \t epsilon 0.5\n",
      "Epoch 639 \t reward: -0.5 \t length 1 \t mean_length 1.64 \t epsilon 0.5\n",
      "Epoch 640 \t reward: 1.5 \t length 2 \t mean_length 1.64 \t epsilon 0.5\n",
      "Epoch 641 \t reward: 1.5 \t length 2 \t mean_length 1.66 \t epsilon 0.5\n",
      "Epoch 642 \t reward: -0.5 \t length 1 \t mean_length 1.64 \t epsilon 0.5\n",
      "Epoch 643 \t reward: -0.5 \t length 1 \t mean_length 1.64 \t epsilon 0.5\n",
      "Epoch 644 \t reward: 1.5 \t length 2 \t mean_length 1.64 \t epsilon 0.5\n",
      "Epoch 645 \t reward: 1.5 \t length 2 \t mean_length 1.64 \t epsilon 0.5\n",
      "Epoch 646 \t reward: -0.5 \t length 1 \t mean_length 1.62 \t epsilon 0.5\n",
      "Epoch 647 \t reward: -0.5 \t length 1 \t mean_length 1.62 \t epsilon 0.5\n",
      "Epoch 648 \t reward: 1.5 \t length 2 \t mean_length 1.62 \t epsilon 0.5\n",
      "Epoch 649 \t reward: 1.5 \t length 2 \t mean_length 1.62 \t epsilon 0.5\n",
      "Epoch 650 \t reward: -0.5 \t length 1 \t mean_length 1.6 \t epsilon 0.5\n",
      "Epoch 651 \t reward: 1.5 \t length 2 \t mean_length 1.6 \t epsilon 0.5\n",
      "Epoch 652 \t reward: -0.5 \t length 1 \t mean_length 1.58 \t epsilon 0.49\n",
      "Epoch 653 \t reward: 1.5 \t length 2 \t mean_length 1.58 \t epsilon 0.49\n",
      "Epoch 654 \t reward: -0.5 \t length 1 \t mean_length 1.56 \t epsilon 0.49\n",
      "Epoch 655 \t reward: 4.0 \t length 3 \t mean_length 1.58 \t epsilon 0.49\n",
      "Epoch 656 \t reward: 1.5 \t length 2 \t mean_length 1.58 \t epsilon 0.49\n",
      "Epoch 657 \t reward: 4.0 \t length 3 \t mean_length 1.6 \t epsilon 0.49\n",
      "Epoch 658 \t reward: -0.5 \t length 1 \t mean_length 1.58 \t epsilon 0.49\n",
      "Epoch 659 \t reward: 1.5 \t length 2 \t mean_length 1.58 \t epsilon 0.49\n",
      "Epoch 660 \t reward: -0.5 \t length 1 \t mean_length 1.56 \t epsilon 0.49\n",
      "Epoch 661 \t reward: 1.5 \t length 2 \t mean_length 1.56 \t epsilon 0.49\n",
      "Epoch 662 \t reward: -0.5 \t length 1 \t mean_length 1.54 \t epsilon 0.49\n",
      "Epoch 663 \t reward: -0.5 \t length 1 \t mean_length 1.54 \t epsilon 0.49\n",
      "Epoch 664 \t reward: 1.5 \t length 2 \t mean_length 1.54 \t epsilon 0.49\n",
      "Epoch 665 \t reward: -0.5 \t length 1 \t mean_length 1.56 \t epsilon 0.49\n",
      "Epoch 666 \t reward: 1.5 \t length 2 \t mean_length 1.56 \t epsilon 0.49\n",
      "Epoch 667 \t reward: -0.5 \t length 1 \t mean_length 1.56 \t epsilon 0.49\n",
      "Epoch 668 \t reward: 1.5 \t length 2 \t mean_length 1.56 \t epsilon 0.49\n",
      "Epoch 669 \t reward: 1.5 \t length 2 \t mean_length 1.56 \t epsilon 0.49\n",
      "Epoch 670 \t reward: -0.5 \t length 1 \t mean_length 1.54 \t epsilon 0.49\n",
      "Epoch 671 \t reward: 1.5 \t length 2 \t mean_length 1.56 \t epsilon 0.49\n",
      "Epoch 672 \t reward: -0.5 \t length 1 \t mean_length 1.54 \t epsilon 0.49\n",
      "Epoch 673 \t reward: -0.5 \t length 1 \t mean_length 1.54 \t epsilon 0.49\n",
      "Epoch 674 \t reward: 1.5 \t length 2 \t mean_length 1.54 \t epsilon 0.49\n",
      "Epoch 675 \t reward: 1.5 \t length 2 \t mean_length 1.56 \t epsilon 0.48\n",
      "Epoch 676 \t reward: 1.5 \t length 2 \t mean_length 1.56 \t epsilon 0.48\n",
      "Epoch 677 \t reward: -0.5 \t length 1 \t mean_length 1.58 \t epsilon 0.48\n",
      "Epoch 678 \t reward: 1.5 \t length 2 \t mean_length 1.58 \t epsilon 0.48\n",
      "Epoch 679 \t reward: 1.5 \t length 2 \t mean_length 1.56 \t epsilon 0.48\n",
      "Epoch 680 \t reward: -0.5 \t length 1 \t mean_length 1.54 \t epsilon 0.48\n",
      "Epoch 681 \t reward: 1.5 \t length 2 \t mean_length 1.56 \t epsilon 0.48\n",
      "Epoch 682 \t reward: 1.5 \t length 2 \t mean_length 1.56 \t epsilon 0.48\n",
      "Epoch 683 \t reward: 1.5 \t length 2 \t mean_length 1.56 \t epsilon 0.48\n",
      "Epoch 684 \t reward: -0.5 \t length 1 \t mean_length 1.54 \t epsilon 0.48\n",
      "Epoch 685 \t reward: -0.5 \t length 1 \t mean_length 1.54 \t epsilon 0.48\n",
      "Epoch 686 \t reward: 1.5 \t length 2 \t mean_length 1.54 \t epsilon 0.48\n",
      "Epoch 687 \t reward: -0.5 \t length 1 \t mean_length 1.54 \t epsilon 0.48\n",
      "Epoch 688 \t reward: 1.5 \t length 2 \t mean_length 1.54 \t epsilon 0.48\n",
      "Epoch 689 \t reward: -0.5 \t length 1 \t mean_length 1.56 \t epsilon 0.48\n",
      "Epoch 690 \t reward: -0.5 \t length 1 \t mean_length 1.54 \t epsilon 0.48\n",
      "Epoch 691 \t reward: 1.5 \t length 2 \t mean_length 1.54 \t epsilon 0.48\n",
      "Epoch 692 \t reward: -0.5 \t length 1 \t mean_length 1.52 \t epsilon 0.48\n",
      "Epoch 693 \t reward: -0.5 \t length 1 \t mean_length 1.52 \t epsilon 0.48\n",
      "Epoch 694 \t reward: -0.5 \t length 1 \t mean_length 1.5 \t epsilon 0.48\n",
      "Epoch 695 \t reward: -0.5 \t length 1 \t mean_length 1.52 \t epsilon 0.48\n",
      "Epoch 696 \t reward: 1.5 \t length 2 \t mean_length 1.52 \t epsilon 0.48\n",
      "Epoch 697 \t reward: 1.5 \t length 2 \t mean_length 1.52 \t epsilon 0.48\n",
      "Epoch 698 \t reward: -0.5 \t length 1 \t mean_length 1.5 \t epsilon 0.47\n",
      "Epoch 699 \t reward: 1.5 \t length 2 \t mean_length 1.52 \t epsilon 0.47\n",
      "Epoch 700 \t reward: 4.0 \t length 3 \t mean_length 1.54 \t epsilon 0.47\n",
      "Epoch 701 \t reward: -0.5 \t length 1 \t mean_length 1.54 \t epsilon 0.47\n",
      "Epoch 702 \t reward: -0.5 \t length 1 \t mean_length 1.52 \t epsilon 0.47\n",
      "Epoch 703 \t reward: 4.0 \t length 3 \t mean_length 1.54 \t epsilon 0.47\n",
      "Epoch 704 \t reward: -0.5 \t length 1 \t mean_length 1.52 \t epsilon 0.47\n",
      "Epoch 705 \t reward: 1.5 \t length 2 \t mean_length 1.54 \t epsilon 0.47\n",
      "Epoch 706 \t reward: 1.5 \t length 2 \t mean_length 1.54 \t epsilon 0.47\n",
      "Epoch 707 \t reward: -0.5 \t length 1 \t mean_length 1.54 \t epsilon 0.47\n",
      "Epoch 708 \t reward: 1.5 \t length 2 \t mean_length 1.54 \t epsilon 0.47\n",
      "Epoch 709 \t reward: 1.5 \t length 2 \t mean_length 1.56 \t epsilon 0.47\n",
      "Epoch 710 \t reward: -0.5 \t length 1 \t mean_length 1.54 \t epsilon 0.47\n",
      "Epoch 711 \t reward: -0.5 \t length 1 \t mean_length 1.54 \t epsilon 0.47\n",
      "Epoch 712 \t reward: 1.5 \t length 2 \t mean_length 1.54 \t epsilon 0.47\n",
      "Epoch 713 \t reward: 4.0 \t length 3 \t mean_length 1.56 \t epsilon 0.47\n",
      "Epoch 714 \t reward: 1.5 \t length 2 \t mean_length 1.56 \t epsilon 0.47\n",
      "Epoch 715 \t reward: -0.5 \t length 1 \t mean_length 1.56 \t epsilon 0.47\n",
      "Epoch 716 \t reward: -0.5 \t length 1 \t mean_length 1.54 \t epsilon 0.47\n",
      "Epoch 717 \t reward: 1.5 \t length 2 \t mean_length 1.52 \t epsilon 0.47\n",
      "Epoch 718 \t reward: 1.5 \t length 2 \t mean_length 1.52 \t epsilon 0.47\n",
      "Epoch 719 \t reward: 1.5 \t length 2 \t mean_length 1.54 \t epsilon 0.47\n",
      "Epoch 720 \t reward: -0.5 \t length 1 \t mean_length 1.52 \t epsilon 0.47\n",
      "Epoch 721 \t reward: -0.5 \t length 1 \t mean_length 1.54 \t epsilon 0.47\n",
      "Epoch 722 \t reward: 4.0 \t length 3 \t mean_length 1.56 \t epsilon 0.46\n",
      "Epoch 723 \t reward: 1.5 \t length 2 \t mean_length 1.56 \t epsilon 0.46\n",
      "Epoch 724 \t reward: -0.5 \t length 1 \t mean_length 1.54 \t epsilon 0.46\n",
      "Epoch 725 \t reward: 1.5 \t length 2 \t mean_length 1.54 \t epsilon 0.46\n",
      "Epoch 726 \t reward: 1.5 \t length 2 \t mean_length 1.54 \t epsilon 0.46\n",
      "Epoch 727 \t reward: 4.0 \t length 3 \t mean_length 1.56 \t epsilon 0.46\n",
      "Epoch 728 \t reward: -0.5 \t length 1 \t mean_length 1.54 \t epsilon 0.46\n",
      "Epoch 729 \t reward: 1.5 \t length 2 \t mean_length 1.54 \t epsilon 0.46\n",
      "Q_matrix of initial state, after training: step 601\n"
     ]
    },
    {
     "output_type": "display_data",
     "data": {
      "text/plain": "<PIL.Image.Image image mode=RGBA size=128x128 at 0x1978F671580>",
      "image/png": "[encoded data removed]"
     },
     "metadata": {}
    },
    {
     "output_type": "stream",
     "name": "stdout",
     "text": [
      "34\n"
     ]
    },
    {
     "output_type": "display_data",
     "data": {
      "text/plain": "<PIL.Image.Image image mode=RGBA size=128x128 at 0x1978F6719D0>",
      "image/png": "[encoded data removed]"
     },
     "metadata": {}
    },
    {
     "output_type": "stream",
     "name": "stdout",
     "text": [
      "-------------\n"
     ]
    },
    {
     "output_type": "display_data",
     "data": {
      "text/plain": "<PIL.Image.Image image mode=RGBA size=128x128 at 0x1978F671CA0>",
      "image/png": "[encoded data removed]"
     },
     "metadata": {}
    },
    {
     "output_type": "stream",
     "name": "stdout",
     "text": [
      "34\n",
      "Epoch 730 \t reward: -0.5 \t length 1 \t mean_length 1.52 \t epsilon 0.46\n",
      "Epoch 731 \t reward: 1.5 \t length 2 \t mean_length 1.52 \t epsilon 0.46\n",
      "Epoch 732 \t reward: 1.5 \t length 2 \t mean_length 1.52 \t epsilon 0.46\n",
      "Epoch 733 \t reward: 1.5 \t length 2 \t mean_length 1.52 \t epsilon 0.46\n",
      "Epoch 734 \t reward: 1.5 \t length 2 \t mean_length 1.52 \t epsilon 0.46\n",
      "Epoch 735 \t reward: -0.5 \t length 1 \t mean_length 1.54 \t epsilon 0.46\n",
      "Epoch 736 \t reward: -0.5 \t length 1 \t mean_length 1.52 \t epsilon 0.46\n",
      "Epoch 737 \t reward: 1.5 \t length 2 \t mean_length 1.54 \t epsilon 0.46\n",
      "Epoch 738 \t reward: 1.5 \t length 2 \t mean_length 1.54 \t epsilon 0.46\n",
      "Epoch 739 \t reward: 4.0 \t length 3 \t mean_length 1.54 \t epsilon 0.46\n",
      "Epoch 740 \t reward: -0.5 \t length 1 \t mean_length 1.52 \t epsilon 0.46\n",
      "Epoch 741 \t reward: -0.5 \t length 1 \t mean_length 1.52 \t epsilon 0.46\n",
      "Epoch 742 \t reward: 1.5 \t length 2 \t mean_length 1.52 \t epsilon 0.46\n",
      "Epoch 743 \t reward: -0.5 \t length 1 \t mean_length 1.54 \t epsilon 0.46\n",
      "Epoch 744 \t reward: -0.5 \t length 1 \t mean_length 1.52 \t epsilon 0.46\n",
      "Epoch 745 \t reward: 1.5 \t length 2 \t mean_length 1.52 \t epsilon 0.46\n",
      "Epoch 746 \t reward: 1.5 \t length 2 \t mean_length 1.52 \t epsilon 0.46\n",
      "Epoch 747 \t reward: -0.5 \t length 1 \t mean_length 1.54 \t epsilon 0.45\n",
      "Epoch 748 \t reward: -0.5 \t length 1 \t mean_length 1.52 \t epsilon 0.45\n",
      "Epoch 749 \t reward: 1.5 \t length 2 \t mean_length 1.52 \t epsilon 0.45\n",
      "Epoch 750 \t reward: 4.0 \t length 3 \t mean_length 1.54 \t epsilon 0.45\n",
      "Epoch 751 \t reward: 1.5 \t length 2 \t mean_length 1.56 \t epsilon 0.45\n",
      "Epoch 752 \t reward: 1.5 \t length 2 \t mean_length 1.56 \t epsilon 0.45\n",
      "Epoch 753 \t reward: 1.5 \t length 2 \t mean_length 1.58 \t epsilon 0.45\n",
      "Epoch 754 \t reward: 1.5 \t length 2 \t mean_length 1.58 \t epsilon 0.45\n",
      "Epoch 755 \t reward: -0.5 \t length 1 \t mean_length 1.6 \t epsilon 0.45\n",
      "Epoch 756 \t reward: -0.5 \t length 1 \t mean_length 1.58 \t epsilon 0.45\n",
      "Epoch 757 \t reward: 1.5 \t length 2 \t mean_length 1.58 \t epsilon 0.45\n",
      "Epoch 758 \t reward: 4.0 \t length 3 \t mean_length 1.6 \t epsilon 0.45\n",
      "Epoch 759 \t reward: 1.5 \t length 2 \t mean_length 1.62 \t epsilon 0.45\n",
      "Epoch 760 \t reward: 1.5 \t length 2 \t mean_length 1.62 \t epsilon 0.45\n",
      "Epoch 761 \t reward: -0.5 \t length 1 \t mean_length 1.64 \t epsilon 0.45\n",
      "Epoch 762 \t reward: -0.5 \t length 1 \t mean_length 1.62 \t epsilon 0.45\n",
      "Epoch 763 \t reward: 1.5 \t length 2 \t mean_length 1.64 \t epsilon 0.45\n",
      "Epoch 764 \t reward: -0.5 \t length 1 \t mean_length 1.62 \t epsilon 0.45\n",
      "Epoch 765 \t reward: -0.5 \t length 1 \t mean_length 1.62 \t epsilon 0.45\n",
      "Epoch 766 \t reward: 1.5 \t length 2 \t mean_length 1.62 \t epsilon 0.45\n",
      "Epoch 767 \t reward: 1.5 \t length 2 \t mean_length 1.62 \t epsilon 0.45\n",
      "Epoch 768 \t reward: 1.5 \t length 2 \t mean_length 1.62 \t epsilon 0.45\n",
      "Epoch 769 \t reward: -0.5 \t length 1 \t mean_length 1.62 \t epsilon 0.45\n",
      "Epoch 770 \t reward: -0.5 \t length 1 \t mean_length 1.6 \t epsilon 0.45\n",
      "Epoch 771 \t reward: -0.5 \t length 1 \t mean_length 1.62 \t epsilon 0.45\n",
      "Epoch 772 \t reward: -0.5 \t length 1 \t mean_length 1.6 \t epsilon 0.44\n",
      "Epoch 773 \t reward: 1.5 \t length 2 \t mean_length 1.62 \t epsilon 0.44\n",
      "Epoch 774 \t reward: 1.5 \t length 2 \t mean_length 1.62 \t epsilon 0.44\n",
      "Epoch 775 \t reward: -0.5 \t length 1 \t mean_length 1.62 \t epsilon 0.44\n",
      "Epoch 776 \t reward: 1.5 \t length 2 \t mean_length 1.62 \t epsilon 0.44\n",
      "Epoch 777 \t reward: -0.5 \t length 1 \t mean_length 1.62 \t epsilon 0.44\n",
      "Epoch 778 \t reward: 1.5 \t length 2 \t mean_length 1.62 \t epsilon 0.44\n",
      "Epoch 779 \t reward: -0.5 \t length 1 \t mean_length 1.62 \t epsilon 0.44\n",
      "Epoch 780 \t reward: 4.0 \t length 3 \t mean_length 1.64 \t epsilon 0.44\n",
      "Epoch 781 \t reward: -0.5 \t length 1 \t mean_length 1.66 \t epsilon 0.44\n",
      "Epoch 782 \t reward: 1.5 \t length 2 \t mean_length 1.66 \t epsilon 0.44\n",
      "Epoch 783 \t reward: 1.5 \t length 2 \t mean_length 1.66 \t epsilon 0.44\n",
      "Epoch 784 \t reward: -0.5 \t length 1 \t mean_length 1.64 \t epsilon 0.44\n",
      "Epoch 785 \t reward: -0.5 \t length 1 \t mean_length 1.66 \t epsilon 0.44\n",
      "Epoch 786 \t reward: 1.5 \t length 2 \t mean_length 1.66 \t epsilon 0.44\n",
      "Epoch 787 \t reward: -0.5 \t length 1 \t mean_length 1.66 \t epsilon 0.44\n",
      "Epoch 788 \t reward: 1.5 \t length 2 \t mean_length 1.66 \t epsilon 0.44\n",
      "Epoch 789 \t reward: -0.5 \t length 1 \t mean_length 1.66 \t epsilon 0.44\n",
      "Epoch 790 \t reward: 1.5 \t length 2 \t mean_length 1.66 \t epsilon 0.44\n",
      "Epoch 791 \t reward: 4.0 \t length 3 \t mean_length 1.68 \t epsilon 0.44\n",
      "Epoch 792 \t reward: -0.5 \t length 1 \t mean_length 1.66 \t epsilon 0.44\n",
      "Epoch 793 \t reward: 1.5 \t length 2 \t mean_length 1.68 \t epsilon 0.44\n",
      "Epoch 794 \t reward: -0.5 \t length 1 \t mean_length 1.66 \t epsilon 0.44\n",
      "Epoch 795 \t reward: 1.5 \t length 2 \t mean_length 1.68 \t epsilon 0.44\n",
      "Epoch 796 \t reward: -0.5 \t length 1 \t mean_length 1.66 \t epsilon 0.44\n",
      "Epoch 797 \t reward: -0.5 \t length 1 \t mean_length 1.66 \t epsilon 0.44\n",
      "Epoch 798 \t reward: 1.5 \t length 2 \t mean_length 1.66 \t epsilon 0.43\n",
      "Epoch 799 \t reward: 4.0 \t length 3 \t mean_length 1.68 \t epsilon 0.43\n",
      "Epoch 800 \t reward: -0.5 \t length 1 \t mean_length 1.66 \t epsilon 0.43\n",
      "Epoch 801 \t reward: 4.0 \t length 3 \t mean_length 1.64 \t epsilon 0.43\n",
      "Epoch 802 \t reward: 1.5 \t length 2 \t mean_length 1.64 \t epsilon 0.43\n",
      "Epoch 803 \t reward: 1.5 \t length 2 \t mean_length 1.66 \t epsilon 0.43\n",
      "Epoch 804 \t reward: -0.5 \t length 1 \t mean_length 1.64 \t epsilon 0.43\n",
      "Epoch 805 \t reward: 1.5 \t length 2 \t mean_length 1.66 \t epsilon 0.43\n",
      "Epoch 806 \t reward: 1.5 \t length 2 \t mean_length 1.66 \t epsilon 0.43\n",
      "Epoch 807 \t reward: -0.5 \t length 1 \t mean_length 1.66 \t epsilon 0.43\n",
      "Epoch 808 \t reward: 1.5 \t length 2 \t mean_length 1.66 \t epsilon 0.43\n",
      "Epoch 809 \t reward: 1.5 \t length 2 \t mean_length 1.66 \t epsilon 0.43\n",
      "Epoch 810 \t reward: 1.5 \t length 2 \t mean_length 1.66 \t epsilon 0.43\n",
      "Epoch 811 \t reward: 1.5 \t length 2 \t mean_length 1.68 \t epsilon 0.43\n",
      "Epoch 812 \t reward: 1.5 \t length 2 \t mean_length 1.68 \t epsilon 0.43\n",
      "Epoch 813 \t reward: 1.5 \t length 2 \t mean_length 1.68 \t epsilon 0.43\n",
      "Epoch 814 \t reward: -0.5 \t length 1 \t mean_length 1.66 \t epsilon 0.43\n",
      "Epoch 815 \t reward: 1.5 \t length 2 \t mean_length 1.66 \t epsilon 0.43\n",
      "Epoch 816 \t reward: -0.5 \t length 1 \t mean_length 1.64 \t epsilon 0.43\n",
      "Epoch 817 \t reward: -0.5 \t length 1 \t mean_length 1.66 \t epsilon 0.43\n",
      "Epoch 818 \t reward: 1.5 \t length 2 \t mean_length 1.66 \t epsilon 0.43\n",
      "Epoch 819 \t reward: 1.5 \t length 2 \t mean_length 1.66 \t epsilon 0.43\n",
      "Epoch 820 \t reward: 1.5 \t length 2 \t mean_length 1.66 \t epsilon 0.43\n",
      "Epoch 821 \t reward: 1.5 \t length 2 \t mean_length 1.68 \t epsilon 0.43\n",
      "Epoch 822 \t reward: 1.5 \t length 2 \t mean_length 1.68 \t epsilon 0.43\n",
      "Epoch 823 \t reward: -0.5 \t length 1 \t mean_length 1.66 \t epsilon 0.43\n",
      "Epoch 824 \t reward: 1.5 \t length 2 \t mean_length 1.66 \t epsilon 0.43\n",
      "Epoch 825 \t reward: 1.5 \t length 2 \t mean_length 1.68 \t epsilon 0.42\n",
      "Epoch 826 \t reward: 1.5 \t length 2 \t mean_length 1.68 \t epsilon 0.42\n",
      "Epoch 827 \t reward: 1.5 \t length 2 \t mean_length 1.68 \t epsilon 0.42\n",
      "Epoch 828 \t reward: 1.5 \t length 2 \t mean_length 1.68 \t epsilon 0.42\n",
      "Epoch 829 \t reward: 4.0 \t length 3 \t mean_length 1.7 \t epsilon 0.42\n",
      "Q_matrix of initial state, after training: step 701\n"
     ]
    },
    {
     "output_type": "display_data",
     "data": {
      "text/plain": "<PIL.Image.Image image mode=RGBA size=128x128 at 0x1978F671EE0>",
      "image/png": "[encoded data removed]"
     },
     "metadata": {}
    },
    {
     "output_type": "stream",
     "name": "stdout",
     "text": [
      "34\n"
     ]
    },
    {
     "output_type": "display_data",
     "data": {
      "text/plain": "<PIL.Image.Image image mode=RGBA size=128x128 at 0x1978F671820>",
      "image/png": "[encoded data removed]"
     },
     "metadata": {}
    },
    {
     "output_type": "stream",
     "name": "stdout",
     "text": [
      "-------------\n"
     ]
    },
    {
     "output_type": "display_data",
     "data": {
      "text/plain": "<PIL.Image.Image image mode=RGBA size=128x128 at 0x1978F6719D0>",
      "image/png": "[encoded data removed]"
     },
     "metadata": {}
    },
    {
     "output_type": "stream",
     "name": "stdout",
     "text": [
      "34\n",
      "Epoch 830 \t reward: -0.5 \t length 1 \t mean_length 1.68 \t epsilon 0.42\n",
      "Epoch 831 \t reward: 1.5 \t length 2 \t mean_length 1.7 \t epsilon 0.42\n",
      "Epoch 832 \t reward: 1.5 \t length 2 \t mean_length 1.7 \t epsilon 0.42\n",
      "Epoch 833 \t reward: 1.5 \t length 2 \t mean_length 1.7 \t epsilon 0.42\n",
      "Epoch 834 \t reward: 1.5 \t length 2 \t mean_length 1.7 \t epsilon 0.42\n",
      "Epoch 835 \t reward: 1.5 \t length 2 \t mean_length 1.7 \t epsilon 0.42\n",
      "Epoch 836 \t reward: -0.5 \t length 1 \t mean_length 1.68 \t epsilon 0.42\n",
      "Epoch 837 \t reward: 1.5 \t length 2 \t mean_length 1.7 \t epsilon 0.42\n",
      "Epoch 838 \t reward: -0.5 \t length 1 \t mean_length 1.68 \t epsilon 0.42\n",
      "Epoch 839 \t reward: -0.5 \t length 1 \t mean_length 1.68 \t epsilon 0.42\n",
      "Epoch 840 \t reward: 4.0 \t length 3 \t mean_length 1.7 \t epsilon 0.42\n",
      "Epoch 841 \t reward: 1.5 \t length 2 \t mean_length 1.72 \t epsilon 0.42\n",
      "Epoch 842 \t reward: 1.5 \t length 2 \t mean_length 1.72 \t epsilon 0.42\n",
      "Epoch 843 \t reward: 1.5 \t length 2 \t mean_length 1.72 \t epsilon 0.42\n",
      "Epoch 844 \t reward: 1.5 \t length 2 \t mean_length 1.72 \t epsilon 0.42\n",
      "Epoch 845 \t reward: 4.0 \t length 3 \t mean_length 1.74 \t epsilon 0.42\n",
      "Epoch 846 \t reward: 1.5 \t length 2 \t mean_length 1.74 \t epsilon 0.42\n",
      "Epoch 847 \t reward: 1.5 \t length 2 \t mean_length 1.74 \t epsilon 0.42\n",
      "Epoch 848 \t reward: 1.5 \t length 2 \t mean_length 1.74 \t epsilon 0.42\n",
      "Epoch 849 \t reward: 1.5 \t length 2 \t mean_length 1.76 \t epsilon 0.42\n",
      "Epoch 850 \t reward: 1.5 \t length 2 \t mean_length 1.76 \t epsilon 0.42\n",
      "Epoch 851 \t reward: 1.5 \t length 2 \t mean_length 1.74 \t epsilon 0.42\n",
      "Epoch 852 \t reward: -0.5 \t length 1 \t mean_length 1.72 \t epsilon 0.41\n",
      "Epoch 853 \t reward: -0.5 \t length 1 \t mean_length 1.72 \t epsilon 0.41\n",
      "Epoch 854 \t reward: -0.5 \t length 1 \t mean_length 1.7 \t epsilon 0.41\n",
      "Epoch 855 \t reward: 1.5 \t length 2 \t mean_length 1.7 \t epsilon 0.41\n",
      "Epoch 856 \t reward: 1.5 \t length 2 \t mean_length 1.7 \t epsilon 0.41\n",
      "Epoch 857 \t reward: -0.5 \t length 1 \t mean_length 1.72 \t epsilon 0.41\n",
      "Epoch 858 \t reward: -0.5 \t length 1 \t mean_length 1.7 \t epsilon 0.41\n",
      "Epoch 859 \t reward: -0.5 \t length 1 \t mean_length 1.68 \t epsilon 0.41\n",
      "Epoch 860 \t reward: 4.0 \t length 3 \t mean_length 1.7 \t epsilon 0.41\n",
      "Epoch 861 \t reward: 1.5 \t length 2 \t mean_length 1.7 \t epsilon 0.41\n",
      "Epoch 862 \t reward: 1.5 \t length 2 \t mean_length 1.7 \t epsilon 0.41\n",
      "Epoch 863 \t reward: -0.5 \t length 1 \t mean_length 1.72 \t epsilon 0.41\n",
      "Epoch 864 \t reward: 1.5 \t length 2 \t mean_length 1.72 \t epsilon 0.41\n",
      "Epoch 865 \t reward: 1.5 \t length 2 \t mean_length 1.74 \t epsilon 0.41\n",
      "Epoch 866 \t reward: 4.0 \t length 3 \t mean_length 1.76 \t epsilon 0.41\n",
      "Epoch 867 \t reward: 1.5 \t length 2 \t mean_length 1.76 \t epsilon 0.41\n",
      "Epoch 868 \t reward: -0.5 \t length 1 \t mean_length 1.74 \t epsilon 0.41\n",
      "Epoch 869 \t reward: 1.5 \t length 2 \t mean_length 1.74 \t epsilon 0.41\n",
      "Epoch 870 \t reward: 1.5 \t length 2 \t mean_length 1.74 \t epsilon 0.41\n",
      "Epoch 871 \t reward: 1.5 \t length 2 \t mean_length 1.76 \t epsilon 0.41\n",
      "Epoch 872 \t reward: 1.5 \t length 2 \t mean_length 1.76 \t epsilon 0.41\n",
      "Epoch 873 \t reward: -0.5 \t length 1 \t mean_length 1.78 \t epsilon 0.41\n",
      "Epoch 874 \t reward: -0.5 \t length 1 \t mean_length 1.76 \t epsilon 0.41\n",
      "Epoch 875 \t reward: 1.5 \t length 2 \t mean_length 1.76 \t epsilon 0.41\n",
      "Epoch 876 \t reward: 1.5 \t length 2 \t mean_length 1.76 \t epsilon 0.41\n",
      "Epoch 877 \t reward: -0.5 \t length 1 \t mean_length 1.76 \t epsilon 0.41\n",
      "Epoch 878 \t reward: -0.5 \t length 1 \t mean_length 1.74 \t epsilon 0.41\n",
      "Epoch 879 \t reward: -0.5 \t length 1 \t mean_length 1.74 \t epsilon 0.41\n",
      "Epoch 880 \t reward: 1.5 \t length 2 \t mean_length 1.74 \t epsilon 0.4\n",
      "Epoch 881 \t reward: 1.5 \t length 2 \t mean_length 1.72 \t epsilon 0.4\n",
      "Epoch 882 \t reward: 1.5 \t length 2 \t mean_length 1.72 \t epsilon 0.4\n",
      "Epoch 883 \t reward: -0.5 \t length 1 \t mean_length 1.72 \t epsilon 0.4\n",
      "Epoch 884 \t reward: 4.0 \t length 3 \t mean_length 1.74 \t epsilon 0.4\n",
      "Epoch 885 \t reward: 4.0 \t length 3 \t mean_length 1.76 \t epsilon 0.4\n",
      "Epoch 886 \t reward: 1.5 \t length 2 \t mean_length 1.76 \t epsilon 0.4\n",
      "Epoch 887 \t reward: 4.0 \t length 3 \t mean_length 1.76 \t epsilon 0.4\n",
      "Epoch 888 \t reward: -0.5 \t length 1 \t mean_length 1.74 \t epsilon 0.4\n",
      "Epoch 889 \t reward: 1.5 \t length 2 \t mean_length 1.74 \t epsilon 0.4\n",
      "Epoch 890 \t reward: 4.0 \t length 3 \t mean_length 1.76 \t epsilon 0.4\n",
      "Epoch 891 \t reward: -0.5 \t length 1 \t mean_length 1.76 \t epsilon 0.4\n",
      "Epoch 892 \t reward: 1.5 \t length 2 \t mean_length 1.76 \t epsilon 0.4\n",
      "Epoch 893 \t reward: 1.5 \t length 2 \t mean_length 1.78 \t epsilon 0.4\n",
      "Epoch 894 \t reward: 1.5 \t length 2 \t mean_length 1.78 \t epsilon 0.4\n",
      "Epoch 895 \t reward: 1.5 \t length 2 \t mean_length 1.8 \t epsilon 0.4\n",
      "Epoch 896 \t reward: 1.5 \t length 2 \t mean_length 1.8 \t epsilon 0.4\n",
      "Epoch 897 \t reward: 1.5 \t length 2 \t mean_length 1.82 \t epsilon 0.4\n",
      "Epoch 898 \t reward: -0.5 \t length 1 \t mean_length 1.8 \t epsilon 0.4\n",
      "Epoch 899 \t reward: 1.5 \t length 2 \t mean_length 1.8 \t epsilon 0.4\n",
      "Epoch 900 \t reward: -0.5 \t length 1 \t mean_length 1.78 \t epsilon 0.4\n",
      "Epoch 901 \t reward: 1.5 \t length 2 \t mean_length 1.8 \t epsilon 0.4\n",
      "Epoch 902 \t reward: 1.5 \t length 2 \t mean_length 1.8 \t epsilon 0.4\n",
      "Epoch 903 \t reward: 1.5 \t length 2 \t mean_length 1.8 \t epsilon 0.4\n",
      "Epoch 904 \t reward: -0.5 \t length 1 \t mean_length 1.78 \t epsilon 0.4\n",
      "Epoch 905 \t reward: 1.5 \t length 2 \t mean_length 1.8 \t epsilon 0.4\n",
      "Epoch 906 \t reward: 1.5 \t length 2 \t mean_length 1.8 \t epsilon 0.4\n",
      "Epoch 907 \t reward: 1.5 \t length 2 \t mean_length 1.8 \t epsilon 0.4\n",
      "Epoch 908 \t reward: -0.5 \t length 1 \t mean_length 1.78 \t epsilon 0.4\n",
      "Epoch 909 \t reward: -0.5 \t length 1 \t mean_length 1.78 \t epsilon 0.39\n",
      "Epoch 910 \t reward: 1.5 \t length 2 \t mean_length 1.78 \t epsilon 0.39\n",
      "Epoch 911 \t reward: -0.5 \t length 1 \t mean_length 1.78 \t epsilon 0.39\n",
      "Epoch 912 \t reward: -0.5 \t length 1 \t mean_length 1.76 \t epsilon 0.39\n",
      "Epoch 913 \t reward: 1.5 \t length 2 \t mean_length 1.76 \t epsilon 0.39\n",
      "Epoch 914 \t reward: -0.5 \t length 1 \t mean_length 1.74 \t epsilon 0.39\n",
      "Epoch 915 \t reward: 1.5 \t length 2 \t mean_length 1.76 \t epsilon 0.39\n",
      "Epoch 916 \t reward: -0.5 \t length 1 \t mean_length 1.74 \t epsilon 0.39\n",
      "Epoch 917 \t reward: 4.0 \t length 3 \t mean_length 1.76 \t epsilon 0.39\n",
      "Epoch 918 \t reward: 1.5 \t length 2 \t mean_length 1.76 \t epsilon 0.39\n",
      "Epoch 919 \t reward: 1.5 \t length 2 \t mean_length 1.76 \t epsilon 0.39\n",
      "Epoch 920 \t reward: 1.5 \t length 2 \t mean_length 1.76 \t epsilon 0.39\n",
      "Epoch 921 \t reward: -0.5 \t length 1 \t mean_length 1.76 \t epsilon 0.39\n",
      "Epoch 922 \t reward: 1.5 \t length 2 \t mean_length 1.76 \t epsilon 0.39\n",
      "Epoch 923 \t reward: 1.5 \t length 2 \t mean_length 1.76 \t epsilon 0.39\n",
      "Epoch 924 \t reward: -0.5 \t length 1 \t mean_length 1.74 \t epsilon 0.39\n",
      "Epoch 925 \t reward: 1.5 \t length 2 \t mean_length 1.74 \t epsilon 0.39\n",
      "Epoch 926 \t reward: 4.0 \t length 3 \t mean_length 1.76 \t epsilon 0.39\n",
      "Epoch 927 \t reward: 4.0 \t length 3 \t mean_length 1.76 \t epsilon 0.39\n",
      "Epoch 928 \t reward: 1.5 \t length 2 \t mean_length 1.76 \t epsilon 0.39\n",
      "Epoch 929 \t reward: -0.5 \t length 1 \t mean_length 1.76 \t epsilon 0.39\n",
      "Q_matrix of initial state, after training: step 801\n"
     ]
    },
    {
     "output_type": "display_data",
     "data": {
      "text/plain": "<PIL.Image.Image image mode=RGBA size=128x128 at 0x1978F671970>",
      "image/png": "[encoded data removed]"
     },
     "metadata": {}
    },
    {
     "output_type": "stream",
     "name": "stdout",
     "text": [
      "34\n"
     ]
    },
    {
     "output_type": "display_data",
     "data": {
      "text/plain": "<PIL.Image.Image image mode=RGBA size=128x128 at 0x1978F671520>",
      "image/png": "[encoded data removed]"
     },
     "metadata": {}
    },
    {
     "output_type": "stream",
     "name": "stdout",
     "text": [
      "-------------\n"
     ]
    },
    {
     "output_type": "display_data",
     "data": {
      "text/plain": "<PIL.Image.Image image mode=RGBA size=128x128 at 0x1978F671610>",
      "image/png": "[encoded data removed]"
     },
     "metadata": {}
    },
    {
     "output_type": "stream",
     "name": "stdout",
     "text": [
      "20\n",
      "Epoch 930 \t reward: -0.5 \t length 1 \t mean_length 1.74 \t epsilon 0.39\n",
      "Epoch 931 \t reward: -0.5 \t length 1 \t mean_length 1.76 \t epsilon 0.39\n",
      "Epoch 932 \t reward: -0.5 \t length 1 \t mean_length 1.74 \t epsilon 0.39\n",
      "Epoch 933 \t reward: -0.5 \t length 1 \t mean_length 1.74 \t epsilon 0.39\n",
      "Epoch 934 \t reward: 1.5 \t length 2 \t mean_length 1.74 \t epsilon 0.39\n",
      "Epoch 935 \t reward: -0.5 \t length 1 \t mean_length 1.74 \t epsilon 0.39\n",
      "Epoch 936 \t reward: 1.5 \t length 2 \t mean_length 1.74 \t epsilon 0.39\n",
      "Epoch 937 \t reward: 4.0 \t length 3 \t mean_length 1.76 \t epsilon 0.39\n",
      "Epoch 938 \t reward: 1.5 \t length 2 \t mean_length 1.76 \t epsilon 0.39\n",
      "Epoch 939 \t reward: 1.5 \t length 2 \t mean_length 1.78 \t epsilon 0.38\n",
      "Epoch 940 \t reward: 1.5 \t length 2 \t mean_length 1.78 \t epsilon 0.38\n",
      "Epoch 941 \t reward: 1.5 \t length 2 \t mean_length 1.76 \t epsilon 0.38\n",
      "Epoch 942 \t reward: 4.0 \t length 3 \t mean_length 1.78 \t epsilon 0.38\n",
      "Epoch 943 \t reward: 1.5 \t length 2 \t mean_length 1.78 \t epsilon 0.38\n",
      "Epoch 944 \t reward: -0.5 \t length 1 \t mean_length 1.76 \t epsilon 0.38\n",
      "Epoch 945 \t reward: 1.5 \t length 2 \t mean_length 1.76 \t epsilon 0.38\n",
      "Epoch 946 \t reward: 1.5 \t length 2 \t mean_length 1.76 \t epsilon 0.38\n",
      "Epoch 947 \t reward: 1.5 \t length 2 \t mean_length 1.76 \t epsilon 0.38\n",
      "Epoch 948 \t reward: 1.5 \t length 2 \t mean_length 1.76 \t epsilon 0.38\n",
      "Epoch 949 \t reward: 1.5 \t length 2 \t mean_length 1.76 \t epsilon 0.38\n",
      "Epoch 950 \t reward: -0.5 \t length 1 \t mean_length 1.74 \t epsilon 0.38\n",
      "Epoch 951 \t reward: 1.5 \t length 2 \t mean_length 1.74 \t epsilon 0.38\n",
      "Epoch 952 \t reward: -0.5 \t length 1 \t mean_length 1.72 \t epsilon 0.38\n",
      "Epoch 953 \t reward: 4.0 \t length 3 \t mean_length 1.74 \t epsilon 0.38\n",
      "Epoch 954 \t reward: 1.5 \t length 2 \t mean_length 1.74 \t epsilon 0.38\n",
      "Epoch 955 \t reward: 1.5 \t length 2 \t mean_length 1.76 \t epsilon 0.38\n",
      "Epoch 956 \t reward: 1.5 \t length 2 \t mean_length 1.76 \t epsilon 0.38\n",
      "Epoch 957 \t reward: -0.5 \t length 1 \t mean_length 1.76 \t epsilon 0.38\n",
      "Epoch 958 \t reward: 1.5 \t length 2 \t mean_length 1.76 \t epsilon 0.38\n",
      "Epoch 959 \t reward: 1.5 \t length 2 \t mean_length 1.78 \t epsilon 0.38\n",
      "Epoch 960 \t reward: 1.5 \t length 2 \t mean_length 1.78 \t epsilon 0.38\n",
      "Epoch 961 \t reward: 4.0 \t length 3 \t mean_length 1.76 \t epsilon 0.38\n",
      "Epoch 962 \t reward: -0.5 \t length 1 \t mean_length 1.74 \t epsilon 0.38\n",
      "Epoch 963 \t reward: -0.5 \t length 1 \t mean_length 1.74 \t epsilon 0.38\n",
      "Epoch 964 \t reward: 1.5 \t length 2 \t mean_length 1.74 \t epsilon 0.38\n",
      "Epoch 965 \t reward: -0.5 \t length 1 \t mean_length 1.74 \t epsilon 0.38\n",
      "Epoch 966 \t reward: 1.5 \t length 2 \t mean_length 1.74 \t epsilon 0.38\n",
      "Epoch 967 \t reward: 1.5 \t length 2 \t mean_length 1.72 \t epsilon 0.38\n",
      "Epoch 968 \t reward: 1.5 \t length 2 \t mean_length 1.72 \t epsilon 0.38\n",
      "Epoch 969 \t reward: -0.5 \t length 1 \t mean_length 1.74 \t epsilon 0.37\n",
      "Epoch 970 \t reward: -0.5 \t length 1 \t mean_length 1.72 \t epsilon 0.37\n",
      "Epoch 971 \t reward: 4.0 \t length 3 \t mean_length 1.72 \t epsilon 0.37\n",
      "Epoch 972 \t reward: -0.5 \t length 1 \t mean_length 1.7 \t epsilon 0.37\n",
      "Epoch 973 \t reward: -0.5 \t length 1 \t mean_length 1.7 \t epsilon 0.37\n",
      "Epoch 974 \t reward: 1.5 \t length 2 \t mean_length 1.7 \t epsilon 0.37\n",
      "Epoch 975 \t reward: 4.0 \t length 3 \t mean_length 1.72 \t epsilon 0.37\n",
      "Epoch 976 \t reward: 1.5 \t length 2 \t mean_length 1.72 \t epsilon 0.37\n",
      "Epoch 977 \t reward: 1.5 \t length 2 \t mean_length 1.72 \t epsilon 0.37\n",
      "Epoch 978 \t reward: -0.5 \t length 1 \t mean_length 1.7 \t epsilon 0.37\n",
      "Epoch 979 \t reward: 1.5 \t length 2 \t mean_length 1.72 \t epsilon 0.37\n",
      "Epoch 980 \t reward: -0.5 \t length 1 \t mean_length 1.7 \t epsilon 0.37\n",
      "Epoch 981 \t reward: -0.5 \t length 1 \t mean_length 1.7 \t epsilon 0.37\n",
      "Epoch 982 \t reward: -0.5 \t length 1 \t mean_length 1.68 \t epsilon 0.37\n",
      "Epoch 983 \t reward: 1.5 \t length 2 \t mean_length 1.68 \t epsilon 0.37\n",
      "Epoch 984 \t reward: 1.5 \t length 2 \t mean_length 1.68 \t epsilon 0.37\n",
      "Epoch 985 \t reward: -0.5 \t length 1 \t mean_length 1.66 \t epsilon 0.37\n",
      "Epoch 986 \t reward: 4.0 \t length 3 \t mean_length 1.68 \t epsilon 0.37\n",
      "Epoch 987 \t reward: 1.5 \t length 2 \t mean_length 1.68 \t epsilon 0.37\n",
      "Epoch 988 \t reward: 1.5 \t length 2 \t mean_length 1.68 \t epsilon 0.37\n",
      "Epoch 989 \t reward: -0.5 \t length 1 \t mean_length 1.7 \t epsilon 0.37\n",
      "Epoch 990 \t reward: -0.5 \t length 1 \t mean_length 1.68 \t epsilon 0.37\n",
      "Epoch 991 \t reward: 4.0 \t length 3 \t mean_length 1.66 \t epsilon 0.37\n",
      "Epoch 992 \t reward: 4.0 \t length 3 \t mean_length 1.68 \t epsilon 0.37\n",
      "Epoch 993 \t reward: 1.5 \t length 2 \t mean_length 1.68 \t epsilon 0.37\n",
      "Epoch 994 \t reward: -0.5 \t length 1 \t mean_length 1.66 \t epsilon 0.37\n",
      "Epoch 995 \t reward: 4.0 \t length 3 \t mean_length 1.66 \t epsilon 0.37\n",
      "Epoch 996 \t reward: -0.5 \t length 1 \t mean_length 1.64 \t epsilon 0.37\n",
      "Epoch 997 \t reward: -0.5 \t length 1 \t mean_length 1.64 \t epsilon 0.37\n",
      "Epoch 998 \t reward: -0.5 \t length 1 \t mean_length 1.62 \t epsilon 0.37\n",
      "Epoch 999 \t reward: 1.5 \t length 2 \t mean_length 1.64 \t epsilon 0.37\n",
      "Epoch 1000 \t reward: 1.5 \t length 2 \t mean_length 1.64 \t epsilon 0.37\n",
      "Epoch 1001 \t reward: -0.5 \t length 1 \t mean_length 1.66 \t epsilon 0.36\n",
      "Epoch 1002 \t reward: -0.5 \t length 1 \t mean_length 1.64 \t epsilon 0.36\n",
      "Epoch 1003 \t reward: -0.5 \t length 1 \t mean_length 1.64 \t epsilon 0.36\n",
      "Epoch 1004 \t reward: 1.5 \t length 2 \t mean_length 1.64 \t epsilon 0.36\n",
      "Epoch 1005 \t reward: 1.5 \t length 2 \t mean_length 1.66 \t epsilon 0.36\n",
      "Epoch 1006 \t reward: 4.0 \t length 3 \t mean_length 1.68 \t epsilon 0.36\n",
      "Epoch 1007 \t reward: 1.5 \t length 2 \t mean_length 1.68 \t epsilon 0.36\n",
      "Epoch 1008 \t reward: -0.5 \t length 1 \t mean_length 1.66 \t epsilon 0.36\n",
      "Epoch 1009 \t reward: -0.5 \t length 1 \t mean_length 1.68 \t epsilon 0.36\n",
      "Epoch 1010 \t reward: 1.5 \t length 2 \t mean_length 1.68 \t epsilon 0.36\n",
      "Epoch 1011 \t reward: 1.5 \t length 2 \t mean_length 1.68 \t epsilon 0.36\n",
      "Epoch 1012 \t reward: 1.5 \t length 2 \t mean_length 1.68 \t epsilon 0.36\n",
      "Epoch 1013 \t reward: 1.5 \t length 2 \t mean_length 1.7 \t epsilon 0.36\n",
      "Epoch 1014 \t reward: -0.5 \t length 1 \t mean_length 1.68 \t epsilon 0.36\n",
      "Epoch 1015 \t reward: -0.5 \t length 1 \t mean_length 1.7 \t epsilon 0.36\n",
      "Epoch 1016 \t reward: 1.5 \t length 2 \t mean_length 1.7 \t epsilon 0.36\n",
      "Epoch 1017 \t reward: 1.5 \t length 2 \t mean_length 1.72 \t epsilon 0.36\n",
      "Epoch 1018 \t reward: 1.5 \t length 2 \t mean_length 1.72 \t epsilon 0.36\n",
      "Epoch 1019 \t reward: 4.0 \t length 3 \t mean_length 1.72 \t epsilon 0.36\n",
      "Epoch 1020 \t reward: 1.5 \t length 2 \t mean_length 1.72 \t epsilon 0.36\n",
      "Epoch 1021 \t reward: -0.5 \t length 1 \t mean_length 1.72 \t epsilon 0.36\n",
      "Epoch 1022 \t reward: 4.0 \t length 3 \t mean_length 1.74 \t epsilon 0.36\n",
      "Epoch 1023 \t reward: 1.5 \t length 2 \t mean_length 1.74 \t epsilon 0.36\n",
      "Epoch 1024 \t reward: 4.0 \t length 3 \t mean_length 1.76 \t epsilon 0.36\n",
      "Epoch 1025 \t reward: 1.5 \t length 2 \t mean_length 1.78 \t epsilon 0.36\n",
      "Epoch 1026 \t reward: -0.5 \t length 1 \t mean_length 1.76 \t epsilon 0.36\n",
      "Epoch 1027 \t reward: -0.5 \t length 1 \t mean_length 1.74 \t epsilon 0.36\n",
      "Epoch 1028 \t reward: 1.5 \t length 2 \t mean_length 1.74 \t epsilon 0.36\n",
      "Epoch 1029 \t reward: -0.5 \t length 1 \t mean_length 1.74 \t epsilon 0.36\n",
      "Q_matrix of initial state, after training: step 901\n"
     ]
    },
    {
     "output_type": "display_data",
     "data": {
      "text/plain": "<PIL.Image.Image image mode=RGBA size=128x128 at 0x1978F671610>",
      "image/png": "[encoded data removed]"
     },
     "metadata": {}
    },
    {
     "output_type": "stream",
     "name": "stdout",
     "text": [
      "34\n"
     ]
    },
    {
     "output_type": "display_data",
     "data": {
      "text/plain": "<PIL.Image.Image image mode=RGBA size=128x128 at 0x1978F671E50>",
      "image/png": "[encoded data removed]"
     },
     "metadata": {}
    },
    {
     "output_type": "stream",
     "name": "stdout",
     "text": [
      "-------------\n"
     ]
    },
    {
     "output_type": "display_data",
     "data": {
      "text/plain": "<PIL.Image.Image image mode=RGBA size=128x128 at 0x1978F671820>",
      "image/png": "[encoded data removed]"
     },
     "metadata": {}
    },
    {
     "output_type": "stream",
     "name": "stdout",
     "text": [
      "34\n",
      "Epoch 1030 \t reward: 1.5 \t length 2 \t mean_length 1.74 \t epsilon 0.36\n",
      "Epoch 1031 \t reward: -0.5 \t length 1 \t mean_length 1.76 \t epsilon 0.36\n",
      "Epoch 1032 \t reward: 1.5 \t length 2 \t mean_length 1.76 \t epsilon 0.36\n",
      "Epoch 1033 \t reward: 1.5 \t length 2 \t mean_length 1.78 \t epsilon 0.35\n",
      "Epoch 1034 \t reward: 1.5 \t length 2 \t mean_length 1.78 \t epsilon 0.35\n",
      "Epoch 1035 \t reward: 1.5 \t length 2 \t mean_length 1.78 \t epsilon 0.35\n",
      "Epoch 1036 \t reward: 1.5 \t length 2 \t mean_length 1.78 \t epsilon 0.35\n",
      "Epoch 1037 \t reward: 1.5 \t length 2 \t mean_length 1.78 \t epsilon 0.35\n",
      "Epoch 1038 \t reward: 1.5 \t length 2 \t mean_length 1.78 \t epsilon 0.35\n",
      "Epoch 1039 \t reward: 1.5 \t length 2 \t mean_length 1.78 \t epsilon 0.35\n",
      "Epoch 1040 \t reward: -0.5 \t length 1 \t mean_length 1.76 \t epsilon 0.35\n",
      "Epoch 1041 \t reward: -0.5 \t length 1 \t mean_length 1.76 \t epsilon 0.35\n",
      "Epoch 1042 \t reward: 1.5 \t length 2 \t mean_length 1.76 \t epsilon 0.35\n",
      "Epoch 1043 \t reward: 1.5 \t length 2 \t mean_length 1.74 \t epsilon 0.35\n",
      "Epoch 1044 \t reward: 4.0 \t length 3 \t mean_length 1.76 \t epsilon 0.35\n",
      "Epoch 1045 \t reward: 1.5 \t length 2 \t mean_length 1.78 \t epsilon 0.35\n",
      "Epoch 1046 \t reward: -0.5 \t length 1 \t mean_length 1.76 \t epsilon 0.35\n",
      "Epoch 1047 \t reward: 4.0 \t length 3 \t mean_length 1.76 \t epsilon 0.35\n",
      "Epoch 1048 \t reward: 1.5 \t length 2 \t mean_length 1.76 \t epsilon 0.35\n",
      "Epoch 1049 \t reward: 1.5 \t length 2 \t mean_length 1.76 \t epsilon 0.35\n",
      "Epoch 1050 \t reward: 1.5 \t length 2 \t mean_length 1.76 \t epsilon 0.35\n",
      "Epoch 1051 \t reward: 1.5 \t length 2 \t mean_length 1.78 \t epsilon 0.35\n",
      "Epoch 1052 \t reward: 1.5 \t length 2 \t mean_length 1.78 \t epsilon 0.35\n",
      "Epoch 1053 \t reward: 1.5 \t length 2 \t mean_length 1.8 \t epsilon 0.35\n",
      "Epoch 1054 \t reward: 1.5 \t length 2 \t mean_length 1.8 \t epsilon 0.35\n",
      "Epoch 1055 \t reward: 1.5 \t length 2 \t mean_length 1.8 \t epsilon 0.35\n",
      "Epoch 1056 \t reward: 1.5 \t length 2 \t mean_length 1.8 \t epsilon 0.35\n",
      "Epoch 1057 \t reward: -0.5 \t length 1 \t mean_length 1.8 \t epsilon 0.35\n",
      "Epoch 1058 \t reward: 1.5 \t length 2 \t mean_length 1.8 \t epsilon 0.35\n",
      "Epoch 1059 \t reward: 1.5 \t length 2 \t mean_length 1.8 \t epsilon 0.35\n",
      "Epoch 1060 \t reward: 1.5 \t length 2 \t mean_length 1.8 \t epsilon 0.35\n",
      "Epoch 1061 \t reward: -0.5 \t length 1 \t mean_length 1.8 \t epsilon 0.35\n",
      "Epoch 1062 \t reward: -0.5 \t length 1 \t mean_length 1.78 \t epsilon 0.35\n",
      "Epoch 1063 \t reward: 1.5 \t length 2 \t mean_length 1.8 \t epsilon 0.35\n",
      "Epoch 1064 \t reward: 1.5 \t length 2 \t mean_length 1.8 \t epsilon 0.35\n",
      "Epoch 1065 \t reward: 1.5 \t length 2 \t mean_length 1.8 \t epsilon 0.35\n",
      "Epoch 1066 \t reward: 4.0 \t length 3 \t mean_length 1.82 \t epsilon 0.35\n",
      "Epoch 1067 \t reward: -0.5 \t length 1 \t mean_length 1.82 \t epsilon 0.34\n",
      "Epoch 1068 \t reward: 4.0 \t length 3 \t mean_length 1.84 \t epsilon 0.34\n",
      "Epoch 1069 \t reward: 1.5 \t length 2 \t mean_length 1.84 \t epsilon 0.34\n",
      "Epoch 1070 \t reward: -0.5 \t length 1 \t mean_length 1.82 \t epsilon 0.34\n",
      "Epoch 1071 \t reward: 4.0 \t length 3 \t mean_length 1.84 \t epsilon 0.34\n",
      "Epoch 1072 \t reward: -0.5 \t length 1 \t mean_length 1.82 \t epsilon 0.34\n",
      "Epoch 1073 \t reward: -0.5 \t length 1 \t mean_length 1.84 \t epsilon 0.34\n",
      "Epoch 1074 \t reward: -0.5 \t length 1 \t mean_length 1.82 \t epsilon 0.34\n",
      "Epoch 1075 \t reward: -0.5 \t length 1 \t mean_length 1.82 \t epsilon 0.34\n",
      "Epoch 1076 \t reward: 4.0 \t length 3 \t mean_length 1.84 \t epsilon 0.34\n",
      "Epoch 1077 \t reward: 1.5 \t length 2 \t mean_length 1.84 \t epsilon 0.34\n",
      "Epoch 1078 \t reward: 1.5 \t length 2 \t mean_length 1.84 \t epsilon 0.34\n",
      "Epoch 1079 \t reward: -0.5 \t length 1 \t mean_length 1.86 \t epsilon 0.34\n",
      "Epoch 1080 \t reward: 1.5 \t length 2 \t mean_length 1.86 \t epsilon 0.34\n",
      "Epoch 1081 \t reward: 1.5 \t length 2 \t mean_length 1.88 \t epsilon 0.34\n",
      "Epoch 1082 \t reward: -0.5 \t length 1 \t mean_length 1.86 \t epsilon 0.34\n",
      "Epoch 1083 \t reward: 1.5 \t length 2 \t mean_length 1.88 \t epsilon 0.34\n",
      "Epoch 1084 \t reward: -0.5 \t length 1 \t mean_length 1.86 \t epsilon 0.34\n",
      "Epoch 1085 \t reward: 1.5 \t length 2 \t mean_length 1.86 \t epsilon 0.34\n",
      "Epoch 1086 \t reward: 1.5 \t length 2 \t mean_length 1.86 \t epsilon 0.34\n",
      "Epoch 1087 \t reward: -0.5 \t length 1 \t mean_length 1.84 \t epsilon 0.34\n",
      "Epoch 1088 \t reward: -0.5 \t length 1 \t mean_length 1.82 \t epsilon 0.34\n",
      "Epoch 1089 \t reward: -0.5 \t length 1 \t mean_length 1.82 \t epsilon 0.34\n",
      "Epoch 1090 \t reward: -0.5 \t length 1 \t mean_length 1.8 \t epsilon 0.34\n",
      "Epoch 1091 \t reward: 1.5 \t length 2 \t mean_length 1.82 \t epsilon 0.34\n",
      "Epoch 1092 \t reward: -0.5 \t length 1 \t mean_length 1.8 \t epsilon 0.34\n",
      "Epoch 1093 \t reward: -0.5 \t length 1 \t mean_length 1.78 \t epsilon 0.34\n",
      "Epoch 1094 \t reward: 1.5 \t length 2 \t mean_length 1.78 \t epsilon 0.34\n",
      "Epoch 1095 \t reward: -0.5 \t length 1 \t mean_length 1.8 \t epsilon 0.34\n",
      "Epoch 1096 \t reward: -0.5 \t length 1 \t mean_length 1.78 \t epsilon 0.34\n",
      "Epoch 1097 \t reward: -0.5 \t length 1 \t mean_length 1.8 \t epsilon 0.34\n",
      "Epoch 1098 \t reward: -0.5 \t length 1 \t mean_length 1.78 \t epsilon 0.34\n",
      "Epoch 1099 \t reward: 1.5 \t length 2 \t mean_length 1.8 \t epsilon 0.34\n",
      "Epoch 1100 \t reward: -0.5 \t length 1 \t mean_length 1.78 \t epsilon 0.34\n",
      "Epoch 1101 \t reward: 1.5 \t length 2 \t mean_length 1.78 \t epsilon 0.34\n",
      "Epoch 1102 \t reward: 1.5 \t length 2 \t mean_length 1.78 \t epsilon 0.33\n",
      "Epoch 1103 \t reward: 4.0 \t length 3 \t mean_length 1.8 \t epsilon 0.33\n",
      "Epoch 1104 \t reward: 1.5 \t length 2 \t mean_length 1.8 \t epsilon 0.33\n",
      "Epoch 1105 \t reward: 1.5 \t length 2 \t mean_length 1.8 \t epsilon 0.33\n",
      "Epoch 1106 \t reward: 1.5 \t length 2 \t mean_length 1.8 \t epsilon 0.33\n",
      "Epoch 1107 \t reward: -0.5 \t length 1 \t mean_length 1.78 \t epsilon 0.33\n",
      "Epoch 1108 \t reward: -0.5 \t length 1 \t mean_length 1.76 \t epsilon 0.33\n",
      "Epoch 1109 \t reward: -0.5 \t length 1 \t mean_length 1.78 \t epsilon 0.33\n",
      "Epoch 1110 \t reward: -0.5 \t length 1 \t mean_length 1.76 \t epsilon 0.33\n",
      "Epoch 1111 \t reward: 1.5 \t length 2 \t mean_length 1.76 \t epsilon 0.33\n",
      "Epoch 1112 \t reward: 1.5 \t length 2 \t mean_length 1.76 \t epsilon 0.33\n",
      "Epoch 1113 \t reward: 4.0 \t length 3 \t mean_length 1.76 \t epsilon 0.33\n",
      "Epoch 1114 \t reward: 1.5 \t length 2 \t mean_length 1.76 \t epsilon 0.33\n",
      "Epoch 1115 \t reward: 1.5 \t length 2 \t mean_length 1.78 \t epsilon 0.33\n",
      "Epoch 1116 \t reward: 1.5 \t length 2 \t mean_length 1.78 \t epsilon 0.33\n",
      "Epoch 1117 \t reward: 4.0 \t length 3 \t mean_length 1.78 \t epsilon 0.33\n",
      "Epoch 1118 \t reward: -0.5 \t length 1 \t mean_length 1.76 \t epsilon 0.33\n",
      "Epoch 1119 \t reward: 1.5 \t length 2 \t mean_length 1.76 \t epsilon 0.33\n",
      "Epoch 1120 \t reward: 1.5 \t length 2 \t mean_length 1.76 \t epsilon 0.33\n",
      "Epoch 1121 \t reward: 1.5 \t length 2 \t mean_length 1.76 \t epsilon 0.33\n",
      "Epoch 1122 \t reward: -0.5 \t length 1 \t mean_length 1.74 \t epsilon 0.33\n",
      "Epoch 1123 \t reward: -0.5 \t length 1 \t mean_length 1.72 \t epsilon 0.33\n",
      "Epoch 1124 \t reward: 4.0 \t length 3 \t mean_length 1.74 \t epsilon 0.33\n",
      "Epoch 1125 \t reward: 1.5 \t length 2 \t mean_length 1.72 \t epsilon 0.33\n",
      "Epoch 1126 \t reward: -0.5 \t length 1 \t mean_length 1.7 \t epsilon 0.33\n",
      "Epoch 1127 \t reward: 1.5 \t length 2 \t mean_length 1.72 \t epsilon 0.33\n",
      "Epoch 1128 \t reward: 4.0 \t length 3 \t mean_length 1.74 \t epsilon 0.33\n",
      "Epoch 1129 \t reward: 1.5 \t length 2 \t mean_length 1.74 \t epsilon 0.33\n",
      "Q_matrix of initial state, after training: step 1001\n"
     ]
    },
    {
     "output_type": "display_data",
     "data": {
      "text/plain": "<PIL.Image.Image image mode=RGBA size=128x128 at 0x1978F671760>",
      "image/png": "[encoded data removed]"
     },
     "metadata": {}
    },
    {
     "output_type": "stream",
     "name": "stdout",
     "text": [
      "34\n"
     ]
    },
    {
     "output_type": "display_data",
     "data": {
      "text/plain": "<PIL.Image.Image image mode=RGBA size=128x128 at 0x1978F671820>",
      "image/png": "[encoded data removed]"
     },
     "metadata": {}
    },
    {
     "output_type": "stream",
     "name": "stdout",
     "text": [
      "-------------\n"
     ]
    },
    {
     "output_type": "display_data",
     "data": {
      "text/plain": "<PIL.Image.Image image mode=RGBA size=128x128 at 0x1978F671580>",
      "image/png": "[encoded data removed]"
     },
     "metadata": {}
    },
    {
     "output_type": "stream",
     "name": "stdout",
     "text": [
      "20\n",
      "Epoch 1130 \t reward: 10.5 \t length 5 \t mean_length 1.8 \t epsilon 0.33\n",
      "Epoch 1131 \t reward: -0.5 \t length 1 \t mean_length 1.8 \t epsilon 0.33\n",
      "Epoch 1132 \t reward: -0.5 \t length 1 \t mean_length 1.78 \t epsilon 0.33\n",
      "Epoch 1133 \t reward: 1.5 \t length 2 \t mean_length 1.78 \t epsilon 0.33\n",
      "Epoch 1134 \t reward: -0.5 \t length 1 \t mean_length 1.76 \t epsilon 0.33\n",
      "Epoch 1135 \t reward: 1.5 \t length 2 \t mean_length 1.76 \t epsilon 0.33\n",
      "Epoch 1136 \t reward: 1.5 \t length 2 \t mean_length 1.76 \t epsilon 0.33\n",
      "Epoch 1137 \t reward: 1.5 \t length 2 \t mean_length 1.76 \t epsilon 0.33\n",
      "Epoch 1138 \t reward: 1.5 \t length 2 \t mean_length 1.76 \t epsilon 0.32\n",
      "Epoch 1139 \t reward: 1.5 \t length 2 \t mean_length 1.76 \t epsilon 0.32\n",
      "Epoch 1140 \t reward: 4.0 \t length 3 \t mean_length 1.78 \t epsilon 0.32\n",
      "Epoch 1141 \t reward: 4.0 \t length 3 \t mean_length 1.8 \t epsilon 0.32\n",
      "Epoch 1142 \t reward: 1.5 \t length 2 \t mean_length 1.8 \t epsilon 0.32\n",
      "Epoch 1143 \t reward: 4.0 \t length 3 \t mean_length 1.8 \t epsilon 0.32\n",
      "Epoch 1144 \t reward: 1.5 \t length 2 \t mean_length 1.8 \t epsilon 0.32\n",
      "Epoch 1145 \t reward: -0.5 \t length 1 \t mean_length 1.78 \t epsilon 0.32\n",
      "Epoch 1146 \t reward: 4.0 \t length 3 \t mean_length 1.8 \t epsilon 0.32\n",
      "Epoch 1147 \t reward: -0.5 \t length 1 \t mean_length 1.82 \t epsilon 0.32\n",
      "Epoch 1148 \t reward: 4.0 \t length 3 \t mean_length 1.84 \t epsilon 0.32\n",
      "Epoch 1149 \t reward: -0.5 \t length 1 \t mean_length 1.84 \t epsilon 0.32\n",
      "Epoch 1150 \t reward: 7.0 \t length 4 \t mean_length 1.88 \t epsilon 0.32\n",
      "Epoch 1151 \t reward: 1.5 \t length 2 \t mean_length 1.88 \t epsilon 0.32\n",
      "Epoch 1152 \t reward: -0.5 \t length 1 \t mean_length 1.86 \t epsilon 0.32\n",
      "Epoch 1153 \t reward: 1.5 \t length 2 \t mean_length 1.86 \t epsilon 0.32\n",
      "Epoch 1154 \t reward: 1.5 \t length 2 \t mean_length 1.86 \t epsilon 0.32\n",
      "Epoch 1155 \t reward: 1.5 \t length 2 \t mean_length 1.86 \t epsilon 0.32\n",
      "Epoch 1156 \t reward: 1.5 \t length 2 \t mean_length 1.86 \t epsilon 0.32\n",
      "Epoch 1157 \t reward: 1.5 \t length 2 \t mean_length 1.86 \t epsilon 0.32\n",
      "Epoch 1158 \t reward: -0.5 \t length 1 \t mean_length 1.84 \t epsilon 0.32\n",
      "Epoch 1159 \t reward: 4.0 \t length 3 \t mean_length 1.84 \t epsilon 0.32\n",
      "Epoch 1160 \t reward: -0.5 \t length 1 \t mean_length 1.82 \t epsilon 0.32\n",
      "Epoch 1161 \t reward: 4.0 \t length 3 \t mean_length 1.82 \t epsilon 0.32\n",
      "Epoch 1162 \t reward: -0.5 \t length 1 \t mean_length 1.8 \t epsilon 0.32\n",
      "Epoch 1163 \t reward: 4.0 \t length 3 \t mean_length 1.82 \t epsilon 0.32\n",
      "Epoch 1164 \t reward: 1.5 \t length 2 \t mean_length 1.82 \t epsilon 0.32\n",
      "Epoch 1165 \t reward: 1.5 \t length 2 \t mean_length 1.82 \t epsilon 0.32\n",
      "Epoch 1166 \t reward: 1.5 \t length 2 \t mean_length 1.82 \t epsilon 0.32\n",
      "Epoch 1167 \t reward: -0.5 \t length 1 \t mean_length 1.8 \t epsilon 0.32\n",
      "Epoch 1168 \t reward: 1.5 \t length 2 \t mean_length 1.8 \t epsilon 0.32\n",
      "Epoch 1169 \t reward: 1.5 \t length 2 \t mean_length 1.78 \t epsilon 0.32\n",
      "Epoch 1170 \t reward: 1.5 \t length 2 \t mean_length 1.78 \t epsilon 0.32\n",
      "Epoch 1171 \t reward: 1.5 \t length 2 \t mean_length 1.8 \t epsilon 0.32\n",
      "Epoch 1172 \t reward: 1.5 \t length 2 \t mean_length 1.8 \t epsilon 0.32\n",
      "Epoch 1173 \t reward: 4.0 \t length 3 \t mean_length 1.82 \t epsilon 0.32\n",
      "Epoch 1174 \t reward: -0.5 \t length 1 \t mean_length 1.8 \t epsilon 0.32\n",
      "Epoch 1175 \t reward: 4.0 \t length 3 \t mean_length 1.82 \t epsilon 0.31\n",
      "Epoch 1176 \t reward: 4.0 \t length 3 \t mean_length 1.84 \t epsilon 0.31\n",
      "Epoch 1177 \t reward: 1.5 \t length 2 \t mean_length 1.82 \t epsilon 0.31\n",
      "Epoch 1178 \t reward: 1.5 \t length 2 \t mean_length 1.82 \t epsilon 0.31\n",
      "Epoch 1179 \t reward: 4.0 \t length 3 \t mean_length 1.82 \t epsilon 0.31\n",
      "Epoch 1180 \t reward: 4.0 \t length 3 \t mean_length 1.84 \t epsilon 0.31\n",
      "Epoch 1181 \t reward: -0.5 \t length 1 \t mean_length 1.84 \t epsilon 0.31\n",
      "Epoch 1182 \t reward: 1.5 \t length 2 \t mean_length 1.84 \t epsilon 0.31\n",
      "Epoch 1183 \t reward: 1.5 \t length 2 \t mean_length 1.86 \t epsilon 0.31\n",
      "Epoch 1184 \t reward: -0.5 \t length 1 \t mean_length 1.84 \t epsilon 0.31\n",
      "Epoch 1185 \t reward: -0.5 \t length 1 \t mean_length 1.86 \t epsilon 0.31\n",
      "Epoch 1186 \t reward: 4.0 \t length 3 \t mean_length 1.88 \t epsilon 0.31\n",
      "Epoch 1187 \t reward: 4.0 \t length 3 \t mean_length 1.88 \t epsilon 0.31\n",
      "Epoch 1188 \t reward: 1.5 \t length 2 \t mean_length 1.88 \t epsilon 0.31\n",
      "Epoch 1189 \t reward: 4.0 \t length 3 \t mean_length 1.9 \t epsilon 0.31\n",
      "Epoch 1190 \t reward: 1.5 \t length 2 \t mean_length 1.9 \t epsilon 0.31\n",
      "Epoch 1191 \t reward: 4.0 \t length 3 \t mean_length 1.92 \t epsilon 0.31\n",
      "Epoch 1192 \t reward: 7.0 \t length 4 \t mean_length 1.96 \t epsilon 0.31\n",
      "Epoch 1193 \t reward: 4.0 \t length 3 \t mean_length 1.98 \t epsilon 0.31\n",
      "Epoch 1194 \t reward: 1.5 \t length 2 \t mean_length 1.98 \t epsilon 0.31\n",
      "Epoch 1195 \t reward: 1.5 \t length 2 \t mean_length 1.98 \t epsilon 0.31\n",
      "Epoch 1196 \t reward: -0.5 \t length 1 \t mean_length 1.96 \t epsilon 0.31\n",
      "Epoch 1197 \t reward: -0.5 \t length 1 \t mean_length 1.98 \t epsilon 0.31\n",
      "Epoch 1198 \t reward: 4.0 \t length 3 \t mean_length 2.0 \t epsilon 0.31\n",
      "Epoch 1199 \t reward: 4.0 \t length 3 \t mean_length 2.02 \t epsilon 0.31\n",
      "Epoch 1200 \t reward: 4.0 \t length 3 \t mean_length 2.03 \t epsilon 0.31\n",
      "Epoch 1201 \t reward: 4.0 \t length 3 \t mean_length 2.06 \t epsilon 0.31\n",
      "Epoch 1202 \t reward: 4.0 \t length 3 \t mean_length 2.07 \t epsilon 0.31\n",
      "Epoch 1203 \t reward: -0.5 \t length 1 \t mean_length 2.08 \t epsilon 0.31\n",
      "Epoch 1204 \t reward: 1.5 \t length 2 \t mean_length 2.07 \t epsilon 0.31\n",
      "Epoch 1205 \t reward: -0.5 \t length 1 \t mean_length 2.08 \t epsilon 0.31\n",
      "Epoch 1206 \t reward: 1.5 \t length 2 \t mean_length 2.07 \t epsilon 0.31\n",
      "Epoch 1207 \t reward: 4.0 \t length 3 \t mean_length 2.08 \t epsilon 0.31\n",
      "Epoch 1208 \t reward: 1.5 \t length 2 \t mean_length 2.07 \t epsilon 0.31\n",
      "Epoch 1209 \t reward: 4.0 \t length 3 \t mean_length 2.1 \t epsilon 0.31\n",
      "Epoch 1210 \t reward: 4.0 \t length 3 \t mean_length 2.11 \t epsilon 0.31\n",
      "Epoch 1211 \t reward: 1.5 \t length 2 \t mean_length 2.14 \t epsilon 0.31\n",
      "Epoch 1212 \t reward: -0.5 \t length 1 \t mean_length 2.11 \t epsilon 0.31\n",
      "Epoch 1213 \t reward: 1.5 \t length 2 \t mean_length 2.12 \t epsilon 0.3\n",
      "Epoch 1214 \t reward: 1.5 \t length 2 \t mean_length 2.11 \t epsilon 0.3\n",
      "Epoch 1215 \t reward: 1.5 \t length 2 \t mean_length 2.12 \t epsilon 0.3\n",
      "Epoch 1216 \t reward: 4.0 \t length 3 \t mean_length 2.13 \t epsilon 0.3\n",
      "Epoch 1217 \t reward: -0.5 \t length 1 \t mean_length 2.14 \t epsilon 0.3\n",
      "Epoch 1218 \t reward: 1.5 \t length 2 \t mean_length 2.13 \t epsilon 0.3\n",
      "Epoch 1219 \t reward: 1.5 \t length 2 \t mean_length 2.16 \t epsilon 0.3\n",
      "Epoch 1220 \t reward: 10.5 \t length 5 \t mean_length 2.21 \t epsilon 0.3\n",
      "Epoch 1221 \t reward: 1.5 \t length 2 \t mean_length 2.22 \t epsilon 0.3\n",
      "Epoch 1222 \t reward: -0.5 \t length 1 \t mean_length 2.19 \t epsilon 0.3\n",
      "Epoch 1223 \t reward: -0.5 \t length 1 \t mean_length 2.22 \t epsilon 0.3\n",
      "Epoch 1224 \t reward: 1.5 \t length 2 \t mean_length 2.21 \t epsilon 0.3\n",
      "Epoch 1225 \t reward: -0.5 \t length 1 \t mean_length 2.2 \t epsilon 0.3\n",
      "Epoch 1226 \t reward: 1.5 \t length 2 \t mean_length 2.19 \t epsilon 0.3\n",
      "Epoch 1227 \t reward: 4.0 \t length 3 \t mean_length 2.22 \t epsilon 0.3\n",
      "Epoch 1228 \t reward: 4.0 \t length 3 \t mean_length 2.23 \t epsilon 0.3\n",
      "Epoch 1229 \t reward: 4.0 \t length 3 \t mean_length 2.22 \t epsilon 0.3\n",
      "Q_matrix of initial state, after training: step 1101\n"
     ]
    },
    {
     "output_type": "display_data",
     "data": {
      "text/plain": "<PIL.Image.Image image mode=RGBA size=128x128 at 0x1978F671970>",
      "image/png": "[encoded data removed]"
     },
     "metadata": {}
    },
    {
     "output_type": "stream",
     "name": "stdout",
     "text": [
      "34\n"
     ]
    },
    {
     "output_type": "display_data",
     "data": {
      "text/plain": "<PIL.Image.Image image mode=RGBA size=128x128 at 0x1978F671520>",
      "image/png": "[encoded data removed]"
     },
     "metadata": {}
    },
    {
     "output_type": "stream",
     "name": "stdout",
     "text": [
      "-------------\n"
     ]
    },
    {
     "output_type": "display_data",
     "data": {
      "text/plain": "<PIL.Image.Image image mode=RGBA size=128x128 at 0x1978FC3FAC0>",
      "image/png": "[encoded data removed]"
     },
     "metadata": {}
    },
    {
     "output_type": "stream",
     "name": "stdout",
     "text": [
      "20\n",
      "Epoch 1230 \t reward: 1.5 \t length 2 \t mean_length 2.21 \t epsilon 0.3\n",
      "Epoch 1231 \t reward: 1.5 \t length 2 \t mean_length 2.16 \t epsilon 0.3\n",
      "Epoch 1232 \t reward: 1.5 \t length 2 \t mean_length 2.15 \t epsilon 0.3\n",
      "Epoch 1233 \t reward: 1.5 \t length 2 \t mean_length 2.18 \t epsilon 0.3\n",
      "Epoch 1234 \t reward: -0.5 \t length 1 \t mean_length 2.15 \t epsilon 0.3\n",
      "Epoch 1235 \t reward: 1.5 \t length 2 \t mean_length 2.18 \t epsilon 0.3\n",
      "Epoch 1236 \t reward: 1.5 \t length 2 \t mean_length 2.17 \t epsilon 0.3\n",
      "Epoch 1237 \t reward: 1.5 \t length 2 \t mean_length 2.18 \t epsilon 0.3\n",
      "Epoch 1238 \t reward: 4.0 \t length 3 \t mean_length 2.19 \t epsilon 0.3\n",
      "Epoch 1239 \t reward: 1.5 \t length 2 \t mean_length 2.2 \t epsilon 0.3\n",
      "Epoch 1240 \t reward: 4.0 \t length 3 \t mean_length 2.21 \t epsilon 0.3\n",
      "Epoch 1241 \t reward: 1.5 \t length 2 \t mean_length 2.2 \t epsilon 0.3\n",
      "Epoch 1242 \t reward: 4.0 \t length 3 \t mean_length 2.21 \t epsilon 0.3\n",
      "Epoch 1243 \t reward: 4.0 \t length 3 \t mean_length 2.22 \t epsilon 0.3\n",
      "Epoch 1244 \t reward: 1.5 \t length 2 \t mean_length 2.21 \t epsilon 0.3\n",
      "Epoch 1245 \t reward: -0.5 \t length 1 \t mean_length 2.22 \t epsilon 0.3\n",
      "Epoch 1246 \t reward: -0.5 \t length 1 \t mean_length 2.19 \t epsilon 0.3\n",
      "Epoch 1247 \t reward: -0.5 \t length 1 \t mean_length 2.18 \t epsilon 0.3\n",
      "Epoch 1248 \t reward: 4.0 \t length 3 \t mean_length 2.19 \t epsilon 0.3\n",
      "Epoch 1249 \t reward: -0.5 \t length 1 \t mean_length 2.18 \t epsilon 0.3\n",
      "Epoch 1250 \t reward: 1.5 \t length 2 \t mean_length 2.17 \t epsilon 0.3\n",
      "Epoch 1251 \t reward: 4.0 \t length 3 \t mean_length 2.14 \t epsilon 0.3\n",
      "Epoch 1252 \t reward: 4.0 \t length 3 \t mean_length 2.15 \t epsilon 0.3\n",
      "Epoch 1253 \t reward: 4.0 \t length 3 \t mean_length 2.18 \t epsilon 0.3\n",
      "Epoch 1254 \t reward: 1.5 \t length 2 \t mean_length 2.17 \t epsilon 0.29\n",
      "Epoch 1255 \t reward: 4.0 \t length 3 \t mean_length 2.18 \t epsilon 0.29\n",
      "Epoch 1256 \t reward: -0.5 \t length 1 \t mean_length 2.15 \t epsilon 0.29\n",
      "Epoch 1257 \t reward: -0.5 \t length 1 \t mean_length 2.16 \t epsilon 0.29\n",
      "Epoch 1258 \t reward: 4.0 \t length 3 \t mean_length 2.17 \t epsilon 0.29\n",
      "Epoch 1259 \t reward: 4.0 \t length 3 \t mean_length 2.2 \t epsilon 0.29\n",
      "Epoch 1260 \t reward: 4.0 \t length 3 \t mean_length 2.21 \t epsilon 0.29\n",
      "Epoch 1261 \t reward: 1.5 \t length 2 \t mean_length 2.24 \t epsilon 0.29\n",
      "Epoch 1262 \t reward: 1.5 \t length 2 \t mean_length 2.23 \t epsilon 0.29\n",
      "Epoch 1263 \t reward: -0.5 \t length 1 \t mean_length 2.25 \t epsilon 0.29\n",
      "Epoch 1264 \t reward: 1.5 \t length 2 \t mean_length 2.25 \t epsilon 0.29\n",
      "Epoch 1265 \t reward: 4.0 \t length 3 \t mean_length 2.25 \t epsilon 0.29\n",
      "Epoch 1266 \t reward: -0.5 \t length 1 \t mean_length 2.23 \t epsilon 0.29\n",
      "Epoch 1267 \t reward: 1.5 \t length 2 \t mean_length 2.24 \t epsilon 0.29\n",
      "Epoch 1268 \t reward: 1.5 \t length 2 \t mean_length 2.23 \t epsilon 0.29\n",
      "Epoch 1269 \t reward: -0.5 \t length 1 \t mean_length 2.24 \t epsilon 0.29\n",
      "Epoch 1270 \t reward: 1.5 \t length 2 \t mean_length 2.23 \t epsilon 0.29\n",
      "Epoch 1271 \t reward: -0.5 \t length 1 \t mean_length 2.24 \t epsilon 0.29\n",
      "Epoch 1272 \t reward: 1.5 \t length 2 \t mean_length 2.23 \t epsilon 0.29\n",
      "Epoch 1273 \t reward: 1.5 \t length 2 \t mean_length 2.24 \t epsilon 0.29\n",
      "Epoch 1274 \t reward: 1.5 \t length 2 \t mean_length 2.23 \t epsilon 0.29\n",
      "Epoch 1275 \t reward: 1.5 \t length 2 \t mean_length 2.25 \t epsilon 0.29\n",
      "Epoch 1276 \t reward: 4.0 \t length 3 \t mean_length 2.27 \t epsilon 0.29\n",
      "Epoch 1277 \t reward: 1.5 \t length 2 \t mean_length 2.25 \t epsilon 0.29\n",
      "Epoch 1278 \t reward: 1.5 \t length 2 \t mean_length 2.25 \t epsilon 0.29\n",
      "Epoch 1279 \t reward: 4.0 \t length 3 \t mean_length 2.25 \t epsilon 0.29\n",
      "Epoch 1280 \t reward: 4.0 \t length 3 \t mean_length 2.27 \t epsilon 0.29\n",
      "Epoch 1281 \t reward: 4.0 \t length 3 \t mean_length 2.25 \t epsilon 0.29\n",
      "Epoch 1282 \t reward: -0.5 \t length 1 \t mean_length 2.23 \t epsilon 0.29\n",
      "Epoch 1283 \t reward: 1.5 \t length 2 \t mean_length 2.24 \t epsilon 0.29\n",
      "Epoch 1284 \t reward: 1.5 \t length 2 \t mean_length 2.23 \t epsilon 0.29\n",
      "Epoch 1285 \t reward: 1.5 \t length 2 \t mean_length 2.25 \t epsilon 0.29\n",
      "Epoch 1286 \t reward: -0.5 \t length 1 \t mean_length 2.23 \t epsilon 0.29\n",
      "Epoch 1287 \t reward: 1.5 \t length 2 \t mean_length 2.22 \t epsilon 0.29\n",
      "Epoch 1288 \t reward: 4.0 \t length 3 \t mean_length 2.23 \t epsilon 0.29\n",
      "Epoch 1289 \t reward: 1.5 \t length 2 \t mean_length 2.24 \t epsilon 0.29\n",
      "Epoch 1290 \t reward: 1.5 \t length 2 \t mean_length 2.23 \t epsilon 0.29\n",
      "Epoch 1291 \t reward: -0.5 \t length 1 \t mean_length 2.24 \t epsilon 0.29\n",
      "Epoch 1292 \t reward: 1.5 \t length 2 \t mean_length 2.23 \t epsilon 0.29\n",
      "Epoch 1293 \t reward: 4.0 \t length 3 \t mean_length 2.2 \t epsilon 0.29\n",
      "Epoch 1294 \t reward: -0.5 \t length 1 \t mean_length 2.17 \t epsilon 0.29\n",
      "Epoch 1295 \t reward: -0.5 \t length 1 \t mean_length 2.18 \t epsilon 0.28\n",
      "Epoch 1296 \t reward: 4.0 \t length 3 \t mean_length 2.19 \t epsilon 0.28\n",
      "Epoch 1297 \t reward: 1.5 \t length 2 \t mean_length 2.22 \t epsilon 0.28\n",
      "Epoch 1298 \t reward: 1.5 \t length 2 \t mean_length 2.21 \t epsilon 0.28\n",
      "Epoch 1299 \t reward: 1.5 \t length 2 \t mean_length 2.2 \t epsilon 0.28\n",
      "Epoch 1300 \t reward: -0.5 \t length 1 \t mean_length 2.17 \t epsilon 0.28\n",
      "Epoch 1301 \t reward: 4.0 \t length 3 \t mean_length 2.16 \t epsilon 0.28\n",
      "Epoch 1302 \t reward: 4.0 \t length 3 \t mean_length 2.17 \t epsilon 0.28\n",
      "Epoch 1303 \t reward: -0.5 \t length 1 \t mean_length 2.16 \t epsilon 0.28\n",
      "Epoch 1304 \t reward: 4.0 \t length 3 \t mean_length 2.17 \t epsilon 0.28\n",
      "Epoch 1305 \t reward: 1.5 \t length 2 \t mean_length 2.18 \t epsilon 0.28\n",
      "Epoch 1306 \t reward: -0.5 \t length 1 \t mean_length 2.15 \t epsilon 0.28\n",
      "Epoch 1307 \t reward: -0.5 \t length 1 \t mean_length 2.16 \t epsilon 0.28\n",
      "Epoch 1308 \t reward: 4.0 \t length 3 \t mean_length 2.17 \t epsilon 0.28\n",
      "Epoch 1309 \t reward: 4.0 \t length 3 \t mean_length 2.18 \t epsilon 0.28\n",
      "Epoch 1310 \t reward: -0.5 \t length 1 \t mean_length 2.15 \t epsilon 0.28\n",
      "Epoch 1311 \t reward: 4.0 \t length 3 \t mean_length 2.14 \t epsilon 0.28\n",
      "Epoch 1312 \t reward: 1.5 \t length 2 \t mean_length 2.13 \t epsilon 0.28\n",
      "Epoch 1313 \t reward: -0.5 \t length 1 \t mean_length 2.16 \t epsilon 0.28\n",
      "Epoch 1314 \t reward: 1.5 \t length 2 \t mean_length 2.15 \t epsilon 0.28\n",
      "Epoch 1315 \t reward: 1.5 \t length 2 \t mean_length 2.16 \t epsilon 0.28\n",
      "Epoch 1316 \t reward: -0.5 \t length 1 \t mean_length 2.13 \t epsilon 0.28\n",
      "Epoch 1317 \t reward: -0.5 \t length 1 \t mean_length 2.12 \t epsilon 0.28\n",
      "Epoch 1318 \t reward: 4.0 \t length 3 \t mean_length 2.13 \t epsilon 0.28\n",
      "Epoch 1319 \t reward: 4.0 \t length 3 \t mean_length 2.14 \t epsilon 0.28\n",
      "Epoch 1320 \t reward: 1.5 \t length 2 \t mean_length 2.13 \t epsilon 0.28\n",
      "Epoch 1321 \t reward: 1.5 \t length 2 \t mean_length 2.08 \t epsilon 0.28\n",
      "Epoch 1322 \t reward: -0.5 \t length 1 \t mean_length 2.05 \t epsilon 0.28\n",
      "Epoch 1323 \t reward: -0.5 \t length 1 \t mean_length 2.08 \t epsilon 0.28\n",
      "Epoch 1324 \t reward: 1.5 \t length 2 \t mean_length 2.07 \t epsilon 0.28\n",
      "Epoch 1325 \t reward: 4.0 \t length 3 \t mean_length 2.08 \t epsilon 0.28\n",
      "Epoch 1326 \t reward: 1.5 \t length 2 \t mean_length 2.07 \t epsilon 0.28\n",
      "Epoch 1327 \t reward: 1.5 \t length 2 \t mean_length 2.08 \t epsilon 0.28\n",
      "Epoch 1328 \t reward: 1.5 \t length 2 \t mean_length 2.07 \t epsilon 0.28\n",
      "Epoch 1329 \t reward: -0.5 \t length 1 \t mean_length 2.06 \t epsilon 0.28\n",
      "Q_matrix of initial state, after training: step 1201\n"
     ]
    },
    {
     "output_type": "display_data",
     "data": {
      "text/plain": "<PIL.Image.Image image mode=RGBA size=128x128 at 0x1978F6719D0>",
      "image/png": "[encoded data removed]"
     },
     "metadata": {}
    },
    {
     "output_type": "stream",
     "name": "stdout",
     "text": [
      "34\n"
     ]
    },
    {
     "output_type": "display_data",
     "data": {
      "text/plain": "<PIL.Image.Image image mode=RGBA size=128x128 at 0x1978F6719D0>",
      "image/png": "[encoded data removed]"
     },
     "metadata": {}
    },
    {
     "output_type": "stream",
     "name": "stdout",
     "text": [
      "-------------\n"
     ]
    },
    {
     "output_type": "display_data",
     "data": {
      "text/plain": "<PIL.Image.Image image mode=RGBA size=128x128 at 0x1978F671B80>",
      "image/png": "[encoded data removed]"
     },
     "metadata": {}
    },
    {
     "output_type": "stream",
     "name": "stdout",
     "text": [
      "20\n",
      "Epoch 1330 \t reward: 1.5 \t length 2 \t mean_length 2.05 \t epsilon 0.28\n",
      "Epoch 1331 \t reward: 1.5 \t length 2 \t mean_length 2.06 \t epsilon 0.28\n",
      "Epoch 1332 \t reward: 1.5 \t length 2 \t mean_length 2.05 \t epsilon 0.28\n",
      "Epoch 1333 \t reward: 4.0 \t length 3 \t mean_length 2.06 \t epsilon 0.28\n",
      "Epoch 1334 \t reward: -0.5 \t length 1 \t mean_length 2.03 \t epsilon 0.28\n",
      "Epoch 1335 \t reward: 4.0 \t length 3 \t mean_length 2.06 \t epsilon 0.28\n",
      "Epoch 1336 \t reward: 1.5 \t length 2 \t mean_length 2.05 \t epsilon 0.28\n",
      "Epoch 1337 \t reward: -0.5 \t length 1 \t mean_length 2.06 \t epsilon 0.28\n",
      "Epoch 1338 \t reward: 1.5 \t length 2 \t mean_length 2.05 \t epsilon 0.28\n",
      "Epoch 1339 \t reward: 4.0 \t length 3 \t mean_length 2.04 \t epsilon 0.27\n",
      "Epoch 1340 \t reward: 4.0 \t length 3 \t mean_length 2.05 \t epsilon 0.27\n",
      "Epoch 1341 \t reward: 4.0 \t length 3 \t mean_length 2.04 \t epsilon 0.27\n",
      "Epoch 1342 \t reward: 1.5 \t length 2 \t mean_length 2.03 \t epsilon 0.27\n",
      "Epoch 1343 \t reward: 1.5 \t length 2 \t mean_length 2.02 \t epsilon 0.27\n",
      "Epoch 1344 \t reward: 1.5 \t length 2 \t mean_length 2.01 \t epsilon 0.27\n",
      "Epoch 1345 \t reward: -0.5 \t length 1 \t mean_length 2.02 \t epsilon 0.27\n",
      "Epoch 1346 \t reward: 1.5 \t length 2 \t mean_length 2.01 \t epsilon 0.27\n",
      "Epoch 1347 \t reward: 4.0 \t length 3 \t mean_length 2.04 \t epsilon 0.27\n",
      "Epoch 1348 \t reward: 1.5 \t length 2 \t mean_length 2.03 \t epsilon 0.27\n",
      "Epoch 1349 \t reward: 4.0 \t length 3 \t mean_length 2.02 \t epsilon 0.27\n",
      "Epoch 1350 \t reward: 4.0 \t length 3 \t mean_length 2.03 \t epsilon 0.27\n",
      "Epoch 1351 \t reward: 1.5 \t length 2 \t mean_length 2.04 \t epsilon 0.27\n",
      "Epoch 1352 \t reward: 4.0 \t length 3 \t mean_length 2.05 \t epsilon 0.27\n",
      "Epoch 1353 \t reward: 1.5 \t length 2 \t mean_length 2.04 \t epsilon 0.27\n",
      "Epoch 1354 \t reward: 4.0 \t length 3 \t mean_length 2.05 \t epsilon 0.27\n",
      "Epoch 1355 \t reward: 1.5 \t length 2 \t mean_length 2.06 \t epsilon 0.27\n",
      "Epoch 1356 \t reward: -0.5 \t length 1 \t mean_length 2.03 \t epsilon 0.27\n",
      "Epoch 1357 \t reward: -0.5 \t length 1 \t mean_length 2.06 \t epsilon 0.27\n",
      "Epoch 1358 \t reward: -0.5 \t length 1 \t mean_length 2.03 \t epsilon 0.27\n",
      "Epoch 1359 \t reward: 4.0 \t length 3 \t mean_length 2.02 \t epsilon 0.27\n",
      "Epoch 1360 \t reward: 4.0 \t length 3 \t mean_length 2.03 \t epsilon 0.27\n",
      "Epoch 1361 \t reward: 1.5 \t length 2 \t mean_length 2.02 \t epsilon 0.27\n",
      "Epoch 1362 \t reward: 1.5 \t length 2 \t mean_length 2.01 \t epsilon 0.27\n",
      "Epoch 1363 \t reward: 4.0 \t length 3 \t mean_length 2.02 \t epsilon 0.27\n",
      "Epoch 1364 \t reward: 7.0 \t length 4 \t mean_length 2.05 \t epsilon 0.27\n",
      "Epoch 1365 \t reward: 7.0 \t length 4 \t mean_length 2.06 \t epsilon 0.27\n",
      "Epoch 1366 \t reward: 4.0 \t length 3 \t mean_length 2.07 \t epsilon 0.27\n",
      "Epoch 1367 \t reward: 1.5 \t length 2 \t mean_length 2.1 \t epsilon 0.27\n",
      "Epoch 1368 \t reward: 4.0 \t length 3 \t mean_length 2.11 \t epsilon 0.27\n",
      "Epoch 1369 \t reward: 4.0 \t length 3 \t mean_length 2.12 \t epsilon 0.27\n",
      "Epoch 1370 \t reward: 4.0 \t length 3 \t mean_length 2.13 \t epsilon 0.27\n",
      "Epoch 1371 \t reward: 1.5 \t length 2 \t mean_length 2.14 \t epsilon 0.27\n",
      "Epoch 1372 \t reward: 4.0 \t length 3 \t mean_length 2.15 \t epsilon 0.27\n",
      "Epoch 1373 \t reward: 4.0 \t length 3 \t mean_length 2.16 \t epsilon 0.27\n",
      "Epoch 1374 \t reward: 4.0 \t length 3 \t mean_length 2.17 \t epsilon 0.27\n",
      "Epoch 1375 \t reward: 1.5 \t length 2 \t mean_length 2.18 \t epsilon 0.27\n",
      "Epoch 1376 \t reward: 4.0 \t length 3 \t mean_length 2.19 \t epsilon 0.27\n",
      "Epoch 1377 \t reward: 4.0 \t length 3 \t mean_length 2.18 \t epsilon 0.27\n",
      "Epoch 1378 \t reward: 4.0 \t length 3 \t mean_length 2.19 \t epsilon 0.27\n",
      "Epoch 1379 \t reward: 1.5 \t length 2 \t mean_length 2.2 \t epsilon 0.27\n",
      "Epoch 1380 \t reward: 4.0 \t length 3 \t mean_length 2.21 \t epsilon 0.27\n",
      "Epoch 1381 \t reward: 4.0 \t length 3 \t mean_length 2.2 \t epsilon 0.27\n",
      "Epoch 1382 \t reward: 4.0 \t length 3 \t mean_length 2.21 \t epsilon 0.27\n",
      "Epoch 1383 \t reward: -0.5 \t length 1 \t mean_length 2.24 \t epsilon 0.27\n",
      "Epoch 1384 \t reward: 4.0 \t length 3 \t mean_length 2.25 \t epsilon 0.27\n",
      "Epoch 1385 \t reward: 1.5 \t length 2 \t mean_length 2.25 \t epsilon 0.26\n",
      "Epoch 1386 \t reward: 4.0 \t length 3 \t mean_length 2.27 \t epsilon 0.26\n",
      "Epoch 1387 \t reward: 4.0 \t length 3 \t mean_length 2.29 \t epsilon 0.26\n",
      "Epoch 1388 \t reward: 1.5 \t length 2 \t mean_length 2.29 \t epsilon 0.26\n",
      "Epoch 1389 \t reward: 4.0 \t length 3 \t mean_length 2.27 \t epsilon 0.26\n",
      "Epoch 1390 \t reward: 1.5 \t length 2 \t mean_length 2.27 \t epsilon 0.26\n",
      "Epoch 1391 \t reward: 4.0 \t length 3 \t mean_length 2.27 \t epsilon 0.26\n",
      "Epoch 1392 \t reward: 1.5 \t length 2 \t mean_length 2.27 \t epsilon 0.26\n",
      "Epoch 1393 \t reward: 4.0 \t length 3 \t mean_length 2.27 \t epsilon 0.26\n",
      "Epoch 1394 \t reward: 1.5 \t length 2 \t mean_length 2.27 \t epsilon 0.26\n",
      "Epoch 1395 \t reward: -0.5 \t length 1 \t mean_length 2.29 \t epsilon 0.26\n",
      "Epoch 1396 \t reward: 1.5 \t length 2 \t mean_length 2.29 \t epsilon 0.26\n",
      "Epoch 1397 \t reward: 1.5 \t length 2 \t mean_length 2.27 \t epsilon 0.26\n",
      "Epoch 1398 \t reward: 4.0 \t length 3 \t mean_length 2.29 \t epsilon 0.26\n",
      "Epoch 1399 \t reward: -0.5 \t length 1 \t mean_length 2.29 \t epsilon 0.26\n",
      "Epoch 1400 \t reward: -0.5 \t length 1 \t mean_length 2.27 \t epsilon 0.26\n",
      "Epoch 1401 \t reward: 1.5 \t length 2 \t mean_length 2.29 \t epsilon 0.26\n",
      "Epoch 1402 \t reward: 4.0 \t length 3 \t mean_length 2.31 \t epsilon 0.26\n",
      "Epoch 1403 \t reward: 4.0 \t length 3 \t mean_length 2.29 \t epsilon 0.26\n",
      "Epoch 1404 \t reward: 1.5 \t length 2 \t mean_length 2.29 \t epsilon 0.26\n",
      "Epoch 1405 \t reward: 7.0 \t length 4 \t mean_length 2.27 \t epsilon 0.26\n",
      "Epoch 1406 \t reward: 4.0 \t length 3 \t mean_length 2.29 \t epsilon 0.26\n",
      "Epoch 1407 \t reward: -0.5 \t length 1 \t mean_length 2.31 \t epsilon 0.26\n",
      "Epoch 1408 \t reward: 4.0 \t length 3 \t mean_length 2.33 \t epsilon 0.26\n",
      "Epoch 1409 \t reward: 4.0 \t length 3 \t mean_length 2.31 \t epsilon 0.26\n",
      "Epoch 1410 \t reward: 1.5 \t length 2 \t mean_length 2.31 \t epsilon 0.26\n",
      "Epoch 1411 \t reward: -0.5 \t length 1 \t mean_length 2.34 \t epsilon 0.26\n",
      "Epoch 1412 \t reward: 1.5 \t length 2 \t mean_length 2.33 \t epsilon 0.26\n",
      "Epoch 1413 \t reward: 4.0 \t length 3 \t mean_length 2.34 \t epsilon 0.26\n",
      "Epoch 1414 \t reward: 4.0 \t length 3 \t mean_length 2.35 \t epsilon 0.26\n",
      "Epoch 1415 \t reward: 4.0 \t length 3 \t mean_length 2.36 \t epsilon 0.26\n",
      "Epoch 1416 \t reward: 4.0 \t length 3 \t mean_length 2.37 \t epsilon 0.26\n",
      "Epoch 1417 \t reward: 4.0 \t length 3 \t mean_length 2.4 \t epsilon 0.26\n",
      "Epoch 1418 \t reward: -0.5 \t length 1 \t mean_length 2.37 \t epsilon 0.26\n",
      "Epoch 1419 \t reward: 4.0 \t length 3 \t mean_length 2.36 \t epsilon 0.26\n",
      "Epoch 1420 \t reward: 1.5 \t length 2 \t mean_length 2.35 \t epsilon 0.26\n",
      "Epoch 1421 \t reward: -0.5 \t length 1 \t mean_length 2.36 \t epsilon 0.26\n",
      "Epoch 1422 \t reward: -0.5 \t length 1 \t mean_length 2.33 \t epsilon 0.26\n",
      "Epoch 1423 \t reward: 1.5 \t length 2 \t mean_length 2.36 \t epsilon 0.26\n",
      "Epoch 1424 \t reward: 4.0 \t length 3 \t mean_length 2.37 \t epsilon 0.26\n",
      "Epoch 1425 \t reward: -0.5 \t length 1 \t mean_length 2.38 \t epsilon 0.26\n",
      "Epoch 1426 \t reward: -0.5 \t length 1 \t mean_length 2.35 \t epsilon 0.26\n",
      "Epoch 1427 \t reward: -0.5 \t length 1 \t mean_length 2.36 \t epsilon 0.26\n",
      "Epoch 1428 \t reward: 4.0 \t length 3 \t mean_length 2.37 \t epsilon 0.26\n",
      "Epoch 1429 \t reward: -0.5 \t length 1 \t mean_length 2.38 \t epsilon 0.26\n",
      "Q_matrix of initial state, after training: step 1301\n"
     ]
    },
    {
     "output_type": "display_data",
     "data": {
      "text/plain": "<PIL.Image.Image image mode=RGBA size=128x128 at 0x1978F671CA0>",
      "image/png": "[encoded data removed]"
     },
     "metadata": {}
    },
    {
     "output_type": "stream",
     "name": "stdout",
     "text": [
      "34\n"
     ]
    },
    {
     "output_type": "display_data",
     "data": {
      "text/plain": "<PIL.Image.Image image mode=RGBA size=128x128 at 0x1978F671AC0>",
      "image/png": "[encoded data removed]"
     },
     "metadata": {}
    },
    {
     "output_type": "stream",
     "name": "stdout",
     "text": [
      "-------------\n"
     ]
    },
    {
     "output_type": "display_data",
     "data": {
      "text/plain": "<PIL.Image.Image image mode=RGBA size=128x128 at 0x1978F671820>",
      "image/png": "[encoded data removed]"
     },
     "metadata": {}
    },
    {
     "output_type": "stream",
     "name": "stdout",
     "text": [
      "20\n",
      "Epoch 1430 \t reward: -0.5 \t length 1 \t mean_length 2.35 \t epsilon 0.26\n",
      "Epoch 1431 \t reward: 1.5 \t length 2 \t mean_length 2.36 \t epsilon 0.26\n",
      "Epoch 1432 \t reward: -0.5 \t length 1 \t mean_length 2.33 \t epsilon 0.25\n",
      "Epoch 1433 \t reward: -0.5 \t length 1 \t mean_length 2.34 \t epsilon 0.25\n",
      "Epoch 1434 \t reward: 1.5 \t length 2 \t mean_length 2.33 \t epsilon 0.25\n",
      "Epoch 1435 \t reward: -0.5 \t length 1 \t mean_length 2.36 \t epsilon 0.25\n",
      "Epoch 1436 \t reward: 4.0 \t length 3 \t mean_length 2.37 \t epsilon 0.25\n",
      "Epoch 1437 \t reward: 4.0 \t length 3 \t mean_length 2.38 \t epsilon 0.25\n",
      "Epoch 1438 \t reward: 4.0 \t length 3 \t mean_length 2.39 \t epsilon 0.25\n",
      "Epoch 1439 \t reward: 4.0 \t length 3 \t mean_length 2.4 \t epsilon 0.25\n",
      "Epoch 1440 \t reward: 4.0 \t length 3 \t mean_length 2.41 \t epsilon 0.25\n",
      "Epoch 1441 \t reward: -0.5 \t length 1 \t mean_length 2.4 \t epsilon 0.25\n",
      "Epoch 1442 \t reward: 7.0 \t length 4 \t mean_length 2.43 \t epsilon 0.25\n",
      "Epoch 1443 \t reward: -0.5 \t length 1 \t mean_length 2.44 \t epsilon 0.25\n",
      "Epoch 1444 \t reward: 4.0 \t length 3 \t mean_length 2.45 \t epsilon 0.25\n",
      "Epoch 1445 \t reward: -0.5 \t length 1 \t mean_length 2.46 \t epsilon 0.25\n",
      "Epoch 1446 \t reward: 7.0 \t length 4 \t mean_length 2.49 \t epsilon 0.25\n",
      "Epoch 1447 \t reward: 4.0 \t length 3 \t mean_length 2.5 \t epsilon 0.25\n",
      "Epoch 1448 \t reward: 7.0 \t length 4 \t mean_length 2.52 \t epsilon 0.25\n",
      "Epoch 1449 \t reward: 4.0 \t length 3 \t mean_length 2.54 \t epsilon 0.25\n",
      "Epoch 1450 \t reward: 1.5 \t length 2 \t mean_length 2.52 \t epsilon 0.25\n",
      "Epoch 1451 \t reward: -0.5 \t length 1 \t mean_length 2.52 \t epsilon 0.25\n",
      "Epoch 1452 \t reward: -0.5 \t length 1 \t mean_length 2.49 \t epsilon 0.25\n",
      "Epoch 1453 \t reward: 4.0 \t length 3 \t mean_length 2.48 \t epsilon 0.25\n",
      "Epoch 1454 \t reward: 1.5 \t length 2 \t mean_length 2.47 \t epsilon 0.25\n",
      "Epoch 1455 \t reward: 4.0 \t length 3 \t mean_length 2.46 \t epsilon 0.25\n",
      "Epoch 1456 \t reward: 4.0 \t length 3 \t mean_length 2.47 \t epsilon 0.25\n",
      "Epoch 1457 \t reward: 1.5 \t length 2 \t mean_length 2.5 \t epsilon 0.25\n",
      "Epoch 1458 \t reward: 4.0 \t length 3 \t mean_length 2.5 \t epsilon 0.25\n",
      "Epoch 1459 \t reward: 1.5 \t length 2 \t mean_length 2.54 \t epsilon 0.25\n",
      "Epoch 1460 \t reward: 1.5 \t length 2 \t mean_length 2.52 \t epsilon 0.25\n",
      "Epoch 1461 \t reward: 4.0 \t length 3 \t mean_length 2.52 \t epsilon 0.25\n",
      "Epoch 1462 \t reward: -0.5 \t length 1 \t mean_length 2.49 \t epsilon 0.25\n",
      "Epoch 1463 \t reward: 4.0 \t length 3 \t mean_length 2.5 \t epsilon 0.25\n",
      "Epoch 1464 \t reward: 7.0 \t length 4 \t mean_length 2.52 \t epsilon 0.25\n",
      "Epoch 1465 \t reward: 1.5 \t length 2 \t mean_length 2.5 \t epsilon 0.25\n",
      "Epoch 1466 \t reward: -0.5 \t length 1 \t mean_length 2.47 \t epsilon 0.25\n",
      "Epoch 1467 \t reward: 1.5 \t length 2 \t mean_length 2.46 \t epsilon 0.25\n",
      "Epoch 1468 \t reward: -0.5 \t length 1 \t mean_length 2.43 \t epsilon 0.25\n",
      "Epoch 1469 \t reward: 4.0 \t length 3 \t mean_length 2.42 \t epsilon 0.25\n",
      "Epoch 1470 \t reward: -0.5 \t length 1 \t mean_length 2.39 \t epsilon 0.25\n",
      "Epoch 1471 \t reward: 1.5 \t length 2 \t mean_length 2.38 \t epsilon 0.25\n",
      "Epoch 1472 \t reward: 1.5 \t length 2 \t mean_length 2.37 \t epsilon 0.25\n",
      "Epoch 1473 \t reward: 1.5 \t length 2 \t mean_length 2.36 \t epsilon 0.25\n",
      "Epoch 1474 \t reward: 4.0 \t length 3 \t mean_length 2.37 \t epsilon 0.25\n",
      "Epoch 1475 \t reward: 4.0 \t length 3 \t mean_length 2.36 \t epsilon 0.25\n",
      "Epoch 1476 \t reward: 1.5 \t length 2 \t mean_length 2.35 \t epsilon 0.25\n",
      "Epoch 1477 \t reward: 4.0 \t length 3 \t mean_length 2.34 \t epsilon 0.25\n",
      "Epoch 1478 \t reward: 4.0 \t length 3 \t mean_length 2.35 \t epsilon 0.25\n",
      "Epoch 1479 \t reward: 1.5 \t length 2 \t mean_length 2.34 \t epsilon 0.25\n",
      "Epoch 1480 \t reward: 4.0 \t length 3 \t mean_length 2.35 \t epsilon 0.25\n",
      "Epoch 1481 \t reward: 1.5 \t length 2 \t mean_length 2.34 \t epsilon 0.25\n",
      "Epoch 1482 \t reward: -0.5 \t length 1 \t mean_length 2.31 \t epsilon 0.24\n",
      "Epoch 1483 \t reward: 4.0 \t length 3 \t mean_length 2.29 \t epsilon 0.24\n",
      "Epoch 1484 \t reward: -0.5 \t length 1 \t mean_length 2.27 \t epsilon 0.24\n",
      "Epoch 1485 \t reward: 4.0 \t length 3 \t mean_length 2.25 \t epsilon 0.24\n",
      "Epoch 1486 \t reward: 7.0 \t length 4 \t mean_length 2.29 \t epsilon 0.24\n",
      "Epoch 1487 \t reward: 4.0 \t length 3 \t mean_length 2.27 \t epsilon 0.24\n",
      "Epoch 1488 \t reward: 4.0 \t length 3 \t mean_length 2.29 \t epsilon 0.24\n",
      "Epoch 1489 \t reward: 1.5 \t length 2 \t mean_length 2.29 \t epsilon 0.24\n",
      "Epoch 1490 \t reward: -0.5 \t length 1 \t mean_length 2.27 \t epsilon 0.24\n",
      "Epoch 1491 \t reward: -0.5 \t length 1 \t mean_length 2.27 \t epsilon 0.24\n",
      "Epoch 1492 \t reward: 1.5 \t length 2 \t mean_length 2.27 \t epsilon 0.24\n",
      "Epoch 1493 \t reward: 4.0 \t length 3 \t mean_length 2.27 \t epsilon 0.24\n",
      "Epoch 1494 \t reward: 4.0 \t length 3 \t mean_length 2.29 \t epsilon 0.24\n",
      "Epoch 1495 \t reward: 4.0 \t length 3 \t mean_length 2.29 \t epsilon 0.24\n",
      "Epoch 1496 \t reward: 1.5 \t length 2 \t mean_length 2.29 \t epsilon 0.24\n",
      "Epoch 1497 \t reward: -0.5 \t length 1 \t mean_length 2.29 \t epsilon 0.24\n",
      "Epoch 1498 \t reward: 4.0 \t length 3 \t mean_length 2.31 \t epsilon 0.24\n",
      "Epoch 1499 \t reward: -0.5 \t length 1 \t mean_length 2.29 \t epsilon 0.24\n",
      "Epoch 1500 \t reward: 4.0 \t length 3 \t mean_length 2.31 \t epsilon 0.24\n",
      "Epoch 1501 \t reward: 1.5 \t length 2 \t mean_length 2.34 \t epsilon 0.24\n",
      "Epoch 1502 \t reward: 4.0 \t length 3 \t mean_length 2.35 \t epsilon 0.24\n",
      "Epoch 1503 \t reward: 4.0 \t length 3 \t mean_length 2.34 \t epsilon 0.24\n",
      "Epoch 1504 \t reward: 4.0 \t length 3 \t mean_length 2.35 \t epsilon 0.24\n",
      "Epoch 1505 \t reward: 4.0 \t length 3 \t mean_length 2.36 \t epsilon 0.24\n",
      "Epoch 1506 \t reward: 4.0 \t length 3 \t mean_length 2.37 \t epsilon 0.24\n",
      "Epoch 1507 \t reward: 4.0 \t length 3 \t mean_length 2.36 \t epsilon 0.24\n",
      "Epoch 1508 \t reward: 1.5 \t length 2 \t mean_length 2.35 \t epsilon 0.24\n",
      "Epoch 1509 \t reward: -0.5 \t length 1 \t mean_length 2.34 \t epsilon 0.24\n",
      "Epoch 1510 \t reward: -0.5 \t length 1 \t mean_length 2.31 \t epsilon 0.24\n",
      "Epoch 1511 \t reward: -0.5 \t length 1 \t mean_length 2.31 \t epsilon 0.24\n",
      "Epoch 1512 \t reward: -0.5 \t length 1 \t mean_length 2.29 \t epsilon 0.24\n",
      "Epoch 1513 \t reward: -0.5 \t length 1 \t mean_length 2.29 \t epsilon 0.24\n",
      "Epoch 1514 \t reward: 4.0 \t length 3 \t mean_length 2.31 \t epsilon 0.24\n",
      "Epoch 1515 \t reward: 10.5 \t length 5 \t mean_length 2.29 \t epsilon 0.24\n",
      "Epoch 1516 \t reward: -0.5 \t length 1 \t mean_length 2.27 \t epsilon 0.24\n",
      "Epoch 1517 \t reward: 1.5 \t length 2 \t mean_length 2.25 \t epsilon 0.24\n",
      "Epoch 1518 \t reward: -0.5 \t length 1 \t mean_length 2.23 \t epsilon 0.24\n",
      "Epoch 1519 \t reward: -0.5 \t length 1 \t mean_length 2.25 \t epsilon 0.24\n",
      "Epoch 1520 \t reward: 7.0 \t length 4 \t mean_length 2.29 \t epsilon 0.24\n",
      "Epoch 1521 \t reward: 1.5 \t length 2 \t mean_length 2.29 \t epsilon 0.24\n",
      "Epoch 1522 \t reward: 4.0 \t length 3 \t mean_length 2.31 \t epsilon 0.24\n",
      "Epoch 1523 \t reward: -0.5 \t length 1 \t mean_length 2.34 \t epsilon 0.24\n",
      "Epoch 1524 \t reward: 4.0 \t length 3 \t mean_length 2.35 \t epsilon 0.24\n",
      "Epoch 1525 \t reward: 4.0 \t length 3 \t mean_length 2.34 \t epsilon 0.24\n",
      "Epoch 1526 \t reward: 1.5 \t length 2 \t mean_length 2.33 \t epsilon 0.24\n",
      "Epoch 1527 \t reward: 4.0 \t length 3 \t mean_length 2.36 \t epsilon 0.24\n",
      "Epoch 1528 \t reward: 4.0 \t length 3 \t mean_length 2.37 \t epsilon 0.24\n",
      "Epoch 1529 \t reward: 1.5 \t length 2 \t mean_length 2.36 \t epsilon 0.24\n",
      "Q_matrix of initial state, after training: step 1401\n"
     ]
    },
    {
     "output_type": "display_data",
     "data": {
      "text/plain": "<PIL.Image.Image image mode=RGBA size=128x128 at 0x1978F6719A0>",
      "image/png": "[encoded data removed]"
     },
     "metadata": {}
    },
    {
     "output_type": "stream",
     "name": "stdout",
     "text": [
      "34\n"
     ]
    },
    {
     "output_type": "display_data",
     "data": {
      "text/plain": "<PIL.Image.Image image mode=RGBA size=128x128 at 0x1978F671CA0>",
      "image/png": "[encoded data removed]"
     },
     "metadata": {}
    },
    {
     "output_type": "stream",
     "name": "stdout",
     "text": [
      "-------------\n"
     ]
    },
    {
     "output_type": "display_data",
     "data": {
      "text/plain": "<PIL.Image.Image image mode=RGBA size=128x128 at 0x1978F671580>",
      "image/png": "[encoded data removed]"
     },
     "metadata": {}
    },
    {
     "output_type": "stream",
     "name": "stdout",
     "text": [
      "29\n",
      "Epoch 1530 \t reward: 1.5 \t length 2 \t mean_length 2.35 \t epsilon 0.24\n",
      "Epoch 1531 \t reward: 4.0 \t length 3 \t mean_length 2.38 \t epsilon 0.24\n",
      "Epoch 1532 \t reward: -0.5 \t length 1 \t mean_length 2.35 \t epsilon 0.24\n",
      "Epoch 1533 \t reward: 4.0 \t length 3 \t mean_length 2.38 \t epsilon 0.24\n",
      "Epoch 1534 \t reward: -0.5 \t length 1 \t mean_length 2.35 \t epsilon 0.24\n",
      "Epoch 1535 \t reward: -0.5 \t length 1 \t mean_length 2.36 \t epsilon 0.23\n",
      "Epoch 1536 \t reward: 4.0 \t length 3 \t mean_length 2.37 \t epsilon 0.23\n",
      "Epoch 1537 \t reward: 4.0 \t length 3 \t mean_length 2.36 \t epsilon 0.23\n",
      "Epoch 1538 \t reward: 4.0 \t length 3 \t mean_length 2.37 \t epsilon 0.23\n",
      "Epoch 1539 \t reward: 1.5 \t length 2 \t mean_length 2.36 \t epsilon 0.23\n",
      "Epoch 1540 \t reward: -0.5 \t length 1 \t mean_length 2.33 \t epsilon 0.23\n",
      "Epoch 1541 \t reward: 1.5 \t length 2 \t mean_length 2.31 \t epsilon 0.23\n",
      "Epoch 1542 \t reward: -0.5 \t length 1 \t mean_length 2.29 \t epsilon 0.23\n",
      "Epoch 1543 \t reward: 7.0 \t length 4 \t mean_length 2.25 \t epsilon 0.23\n",
      "Epoch 1544 \t reward: 4.0 \t length 3 \t mean_length 2.27 \t epsilon 0.23\n",
      "Epoch 1545 \t reward: 4.0 \t length 3 \t mean_length 2.25 \t epsilon 0.23\n",
      "Epoch 1546 \t reward: -0.5 \t length 1 \t mean_length 2.23 \t epsilon 0.23\n",
      "Epoch 1547 \t reward: 1.5 \t length 2 \t mean_length 2.2 \t epsilon 0.23\n",
      "Epoch 1548 \t reward: 4.0 \t length 3 \t mean_length 2.21 \t epsilon 0.23\n",
      "Epoch 1549 \t reward: 4.0 \t length 3 \t mean_length 2.18 \t epsilon 0.23\n",
      "Epoch 1550 \t reward: -0.5 \t length 1 \t mean_length 2.15 \t epsilon 0.23\n",
      "Epoch 1551 \t reward: 4.0 \t length 3 \t mean_length 2.16 \t epsilon 0.23\n",
      "Epoch 1552 \t reward: 7.0 \t length 4 \t mean_length 2.19 \t epsilon 0.23\n",
      "Epoch 1553 \t reward: 4.0 \t length 3 \t mean_length 2.22 \t epsilon 0.23\n",
      "Epoch 1554 \t reward: 1.5 \t length 2 \t mean_length 2.21 \t epsilon 0.23\n",
      "Epoch 1555 \t reward: 4.0 \t length 3 \t mean_length 2.22 \t epsilon 0.23\n",
      "Epoch 1556 \t reward: 4.0 \t length 3 \t mean_length 2.23 \t epsilon 0.23\n",
      "Epoch 1557 \t reward: -0.5 \t length 1 \t mean_length 2.22 \t epsilon 0.23\n",
      "Epoch 1558 \t reward: 4.0 \t length 3 \t mean_length 2.23 \t epsilon 0.23\n",
      "Epoch 1559 \t reward: 7.0 \t length 4 \t mean_length 2.22 \t epsilon 0.23\n",
      "Epoch 1560 \t reward: 4.0 \t length 3 \t mean_length 2.23 \t epsilon 0.23\n",
      "Epoch 1561 \t reward: 4.0 \t length 3 \t mean_length 2.24 \t epsilon 0.23\n",
      "Epoch 1562 \t reward: 4.0 \t length 3 \t mean_length 2.25 \t epsilon 0.23\n",
      "Epoch 1563 \t reward: 4.0 \t length 3 \t mean_length 2.27 \t epsilon 0.23\n",
      "Epoch 1564 \t reward: 4.0 \t length 3 \t mean_length 2.29 \t epsilon 0.23\n",
      "Epoch 1565 \t reward: 4.0 \t length 3 \t mean_length 2.25 \t epsilon 0.23\n",
      "Epoch 1566 \t reward: 7.0 \t length 4 \t mean_length 2.29 \t epsilon 0.23\n",
      "Epoch 1567 \t reward: 4.0 \t length 3 \t mean_length 2.31 \t epsilon 0.23\n",
      "Epoch 1568 \t reward: 1.5 \t length 2 \t mean_length 2.31 \t epsilon 0.23\n",
      "Epoch 1569 \t reward: 4.0 \t length 3 \t mean_length 2.34 \t epsilon 0.23\n",
      "Epoch 1570 \t reward: -0.5 \t length 1 \t mean_length 2.31 \t epsilon 0.23\n",
      "Epoch 1571 \t reward: 4.0 \t length 3 \t mean_length 2.34 \t epsilon 0.23\n",
      "Epoch 1572 \t reward: 4.0 \t length 3 \t mean_length 2.35 \t epsilon 0.23\n",
      "Epoch 1573 \t reward: 4.0 \t length 3 \t mean_length 2.36 \t epsilon 0.23\n",
      "Epoch 1574 \t reward: 4.0 \t length 3 \t mean_length 2.37 \t epsilon 0.23\n",
      "Epoch 1575 \t reward: 4.0 \t length 3 \t mean_length 2.36 \t epsilon 0.23\n",
      "Epoch 1576 \t reward: 4.0 \t length 3 \t mean_length 2.37 \t epsilon 0.23\n",
      "Epoch 1577 \t reward: -0.5 \t length 1 \t mean_length 2.38 \t epsilon 0.23\n",
      "Epoch 1578 \t reward: 1.5 \t length 2 \t mean_length 2.37 \t epsilon 0.23\n",
      "Epoch 1579 \t reward: 4.0 \t length 3 \t mean_length 2.36 \t epsilon 0.23\n",
      "Epoch 1580 \t reward: -0.5 \t length 1 \t mean_length 2.33 \t epsilon 0.23\n",
      "Epoch 1581 \t reward: 4.0 \t length 3 \t mean_length 2.31 \t epsilon 0.23\n",
      "Epoch 1582 \t reward: 1.5 \t length 2 \t mean_length 2.31 \t epsilon 0.23\n",
      "Epoch 1583 \t reward: 4.0 \t length 3 \t mean_length 2.34 \t epsilon 0.23\n",
      "Epoch 1584 \t reward: -0.5 \t length 1 \t mean_length 2.31 \t epsilon 0.23\n",
      "Epoch 1585 \t reward: 4.0 \t length 3 \t mean_length 2.34 \t epsilon 0.23\n",
      "Epoch 1586 \t reward: -0.5 \t length 1 \t mean_length 2.31 \t epsilon 0.23\n",
      "Epoch 1587 \t reward: 14.5 \t length 6 \t mean_length 2.27 \t epsilon 0.23\n",
      "Epoch 1588 \t reward: 4.0 \t length 3 \t mean_length 2.29 \t epsilon 0.23\n",
      "Epoch 1589 \t reward: -0.5 \t length 1 \t mean_length 2.27 \t epsilon 0.23\n",
      "Epoch 1590 \t reward: 4.0 \t length 3 \t mean_length 2.29 \t epsilon 0.22\n",
      "Epoch 1591 \t reward: 10.5 \t length 5 \t mean_length 2.31 \t epsilon 0.22\n",
      "Epoch 1592 \t reward: 4.0 \t length 3 \t mean_length 2.33 \t epsilon 0.22\n",
      "Epoch 1593 \t reward: 4.0 \t length 3 \t mean_length 2.34 \t epsilon 0.22\n",
      "Epoch 1594 \t reward: 4.0 \t length 3 \t mean_length 2.35 \t epsilon 0.22\n",
      "Epoch 1595 \t reward: 1.5 \t length 2 \t mean_length 2.34 \t epsilon 0.22\n",
      "Epoch 1596 \t reward: 4.0 \t length 3 \t mean_length 2.35 \t epsilon 0.22\n",
      "Epoch 1597 \t reward: 4.0 \t length 3 \t mean_length 2.36 \t epsilon 0.22\n",
      "Epoch 1598 \t reward: 1.5 \t length 2 \t mean_length 2.35 \t epsilon 0.22\n",
      "Epoch 1599 \t reward: 1.5 \t length 2 \t mean_length 2.34 \t epsilon 0.22\n",
      "Epoch 1600 \t reward: 1.5 \t length 2 \t mean_length 2.33 \t epsilon 0.22\n",
      "Epoch 1601 \t reward: 4.0 \t length 3 \t mean_length 2.31 \t epsilon 0.22\n",
      "Epoch 1602 \t reward: 4.0 \t length 3 \t mean_length 2.33 \t epsilon 0.22\n",
      "Epoch 1603 \t reward: 1.5 \t length 2 \t mean_length 2.31 \t epsilon 0.22\n",
      "Epoch 1604 \t reward: 1.5 \t length 2 \t mean_length 2.31 \t epsilon 0.22\n",
      "Epoch 1605 \t reward: 10.5 \t length 5 \t mean_length 2.29 \t epsilon 0.22\n",
      "Epoch 1606 \t reward: -0.5 \t length 1 \t mean_length 2.27 \t epsilon 0.22\n",
      "Epoch 1607 \t reward: 4.0 \t length 3 \t mean_length 2.25 \t epsilon 0.22\n",
      "Epoch 1608 \t reward: 1.5 \t length 2 \t mean_length 2.25 \t epsilon 0.22\n",
      "Epoch 1609 \t reward: 4.0 \t length 3 \t mean_length 2.25 \t epsilon 0.22\n",
      "Epoch 1610 \t reward: 4.0 \t length 3 \t mean_length 2.27 \t epsilon 0.22\n",
      "Epoch 1611 \t reward: -0.5 \t length 1 \t mean_length 2.29 \t epsilon 0.22\n",
      "Epoch 1612 \t reward: 10.5 \t length 5 \t mean_length 2.35 \t epsilon 0.22\n",
      "Epoch 1613 \t reward: -0.5 \t length 1 \t mean_length 2.38 \t epsilon 0.22\n",
      "Epoch 1614 \t reward: 4.0 \t length 3 \t mean_length 2.39 \t epsilon 0.22\n",
      "Epoch 1615 \t reward: 10.5 \t length 5 \t mean_length 2.38 \t epsilon 0.22\n",
      "Epoch 1616 \t reward: 4.0 \t length 3 \t mean_length 2.39 \t epsilon 0.22\n",
      "Epoch 1617 \t reward: 7.0 \t length 4 \t mean_length 2.42 \t epsilon 0.22\n",
      "Epoch 1618 \t reward: 4.0 \t length 3 \t mean_length 2.43 \t epsilon 0.22\n",
      "Epoch 1619 \t reward: 7.0 \t length 4 \t mean_length 2.46 \t epsilon 0.22\n",
      "Epoch 1620 \t reward: 7.0 \t length 4 \t mean_length 2.49 \t epsilon 0.22\n",
      "Epoch 1621 \t reward: 4.0 \t length 3 \t mean_length 2.46 \t epsilon 0.22\n",
      "Epoch 1622 \t reward: 7.0 \t length 4 \t mean_length 2.49 \t epsilon 0.22\n",
      "Epoch 1623 \t reward: 1.5 \t length 2 \t mean_length 2.48 \t epsilon 0.22\n",
      "Epoch 1624 \t reward: 7.0 \t length 4 \t mean_length 2.5 \t epsilon 0.22\n",
      "Epoch 1625 \t reward: -0.5 \t length 1 \t mean_length 2.5 \t epsilon 0.22\n",
      "Epoch 1626 \t reward: 7.0 \t length 4 \t mean_length 2.52 \t epsilon 0.22\n",
      "Epoch 1627 \t reward: 4.0 \t length 3 \t mean_length 2.54 \t epsilon 0.22\n",
      "Epoch 1628 \t reward: 7.0 \t length 4 \t mean_length 2.56 \t epsilon 0.22\n",
      "Epoch 1629 \t reward: 4.0 \t length 3 \t mean_length 2.56 \t epsilon 0.22\n",
      "Q_matrix of initial state, after training: step 1501\n"
     ]
    },
    {
     "output_type": "display_data",
     "data": {
      "text/plain": "<PIL.Image.Image image mode=RGBA size=128x128 at 0x1978F6719D0>",
      "image/png": "[encoded data removed]"
     },
     "metadata": {}
    },
    {
     "output_type": "stream",
     "name": "stdout",
     "text": [
      "34\n"
     ]
    },
    {
     "output_type": "display_data",
     "data": {
      "text/plain": "<PIL.Image.Image image mode=RGBA size=128x128 at 0x1978F671E50>",
      "image/png": "[encoded data removed]"
     },
     "metadata": {}
    },
    {
     "output_type": "stream",
     "name": "stdout",
     "text": [
      "-------------\n"
     ]
    },
    {
     "output_type": "display_data",
     "data": {
      "text/plain": "<PIL.Image.Image image mode=RGBA size=128x128 at 0x1978F671970>",
      "image/png": "[encoded data removed]"
     },
     "metadata": {}
    },
    {
     "output_type": "stream",
     "name": "stdout",
     "text": [
      "29\n",
      "Epoch 1630 \t reward: 4.0 \t length 3 \t mean_length 2.56 \t epsilon 0.22\n",
      "Epoch 1631 \t reward: 7.0 \t length 4 \t mean_length 2.58 \t epsilon 0.22\n",
      "Epoch 1632 \t reward: 4.0 \t length 3 \t mean_length 2.58 \t epsilon 0.22\n",
      "Epoch 1633 \t reward: -0.5 \t length 1 \t mean_length 2.62 \t epsilon 0.22\n",
      "Epoch 1634 \t reward: 1.5 \t length 2 \t mean_length 2.6 \t epsilon 0.22\n",
      "Epoch 1635 \t reward: 4.0 \t length 3 \t mean_length 2.64 \t epsilon 0.22\n",
      "Epoch 1636 \t reward: 7.0 \t length 4 \t mean_length 2.66 \t epsilon 0.22\n",
      "Epoch 1637 \t reward: 4.0 \t length 3 \t mean_length 2.66 \t epsilon 0.22\n",
      "Epoch 1638 \t reward: 4.0 \t length 3 \t mean_length 2.66 \t epsilon 0.22\n",
      "Epoch 1639 \t reward: 7.0 \t length 4 \t mean_length 2.66 \t epsilon 0.22\n",
      "Epoch 1640 \t reward: -0.5 \t length 1 \t mean_length 2.62 \t epsilon 0.22\n",
      "Epoch 1641 \t reward: 1.5 \t length 2 \t mean_length 2.66 \t epsilon 0.22\n",
      "Epoch 1642 \t reward: 7.0 \t length 4 \t mean_length 2.68 \t epsilon 0.22\n",
      "Epoch 1643 \t reward: 4.0 \t length 3 \t mean_length 2.72 \t epsilon 0.22\n",
      "Epoch 1644 \t reward: 1.5 \t length 2 \t mean_length 2.7 \t epsilon 0.22\n",
      "Epoch 1645 \t reward: 4.0 \t length 3 \t mean_length 2.7 \t epsilon 0.22\n",
      "Epoch 1646 \t reward: 4.0 \t length 3 \t mean_length 2.7 \t epsilon 0.22\n",
      "Epoch 1647 \t reward: 4.0 \t length 3 \t mean_length 2.74 \t epsilon 0.22\n",
      "Epoch 1648 \t reward: 10.5 \t length 5 \t mean_length 2.78 \t epsilon 0.22\n",
      "Epoch 1649 \t reward: 4.0 \t length 3 \t mean_length 2.78 \t epsilon 0.21\n",
      "Epoch 1650 \t reward: 7.0 \t length 4 \t mean_length 2.8 \t epsilon 0.21\n",
      "Epoch 1651 \t reward: 4.0 \t length 3 \t mean_length 2.84 \t epsilon 0.21\n",
      "Epoch 1652 \t reward: 4.0 \t length 3 \t mean_length 2.84 \t epsilon 0.21\n",
      "Epoch 1653 \t reward: 1.5 \t length 2 \t mean_length 2.82 \t epsilon 0.21\n",
      "Epoch 1654 \t reward: 4.0 \t length 3 \t mean_length 2.82 \t epsilon 0.21\n",
      "Epoch 1655 \t reward: 4.0 \t length 3 \t mean_length 2.84 \t epsilon 0.21\n",
      "Epoch 1656 \t reward: 4.0 \t length 3 \t mean_length 2.84 \t epsilon 0.21\n",
      "Epoch 1657 \t reward: -0.5 \t length 1 \t mean_length 2.84 \t epsilon 0.21\n",
      "Epoch 1658 \t reward: 10.5 \t length 5 \t mean_length 2.88 \t epsilon 0.21\n",
      "Epoch 1659 \t reward: 4.0 \t length 3 \t mean_length 2.88 \t epsilon 0.21\n",
      "Epoch 1660 \t reward: 1.5 \t length 2 \t mean_length 2.86 \t epsilon 0.21\n",
      "Epoch 1661 \t reward: -0.5 \t length 1 \t mean_length 2.86 \t epsilon 0.21\n",
      "Epoch 1662 \t reward: 7.0 \t length 4 \t mean_length 2.88 \t epsilon 0.21\n",
      "Epoch 1663 \t reward: 4.0 \t length 3 \t mean_length 2.88 \t epsilon 0.21\n",
      "Epoch 1664 \t reward: 1.5 \t length 2 \t mean_length 2.86 \t epsilon 0.21\n",
      "Epoch 1665 \t reward: 4.0 \t length 3 \t mean_length 2.86 \t epsilon 0.21\n",
      "Epoch 1666 \t reward: 4.0 \t length 3 \t mean_length 2.86 \t epsilon 0.21\n",
      "Epoch 1667 \t reward: 4.0 \t length 3 \t mean_length 2.84 \t epsilon 0.21\n",
      "Epoch 1668 \t reward: 1.5 \t length 2 \t mean_length 2.82 \t epsilon 0.21\n",
      "Epoch 1669 \t reward: 7.0 \t length 4 \t mean_length 2.84 \t epsilon 0.21\n",
      "Epoch 1670 \t reward: 4.0 \t length 3 \t mean_length 2.84 \t epsilon 0.21\n",
      "Epoch 1671 \t reward: 4.0 \t length 3 \t mean_length 2.88 \t epsilon 0.21\n",
      "Epoch 1672 \t reward: 1.5 \t length 2 \t mean_length 2.86 \t epsilon 0.21\n",
      "Epoch 1673 \t reward: 4.0 \t length 3 \t mean_length 2.86 \t epsilon 0.21\n",
      "Epoch 1674 \t reward: 4.0 \t length 3 \t mean_length 2.86 \t epsilon 0.21\n",
      "Epoch 1675 \t reward: -0.5 \t length 1 \t mean_length 2.86 \t epsilon 0.21\n",
      "Epoch 1676 \t reward: 1.5 \t length 2 \t mean_length 2.84 \t epsilon 0.21\n",
      "Epoch 1677 \t reward: 1.5 \t length 2 \t mean_length 2.84 \t epsilon 0.21\n",
      "Epoch 1678 \t reward: 4.0 \t length 3 \t mean_length 2.84 \t epsilon 0.21\n",
      "Epoch 1679 \t reward: -0.5 \t length 1 \t mean_length 2.86 \t epsilon 0.21\n",
      "Epoch 1680 \t reward: 4.0 \t length 3 \t mean_length 2.86 \t epsilon 0.21\n",
      "Epoch 1681 \t reward: 1.5 \t length 2 \t mean_length 2.9 \t epsilon 0.21\n",
      "Epoch 1682 \t reward: -0.5 \t length 1 \t mean_length 2.86 \t epsilon 0.21\n",
      "Epoch 1683 \t reward: 7.0 \t length 4 \t mean_length 2.88 \t epsilon 0.21\n",
      "Epoch 1684 \t reward: -0.5 \t length 1 \t mean_length 2.84 \t epsilon 0.21\n",
      "Epoch 1685 \t reward: 7.0 \t length 4 \t mean_length 2.88 \t epsilon 0.21\n",
      "Epoch 1686 \t reward: 4.0 \t length 3 \t mean_length 2.88 \t epsilon 0.21\n",
      "Epoch 1687 \t reward: 4.0 \t length 3 \t mean_length 2.92 \t epsilon 0.21\n",
      "Epoch 1688 \t reward: 4.0 \t length 3 \t mean_length 2.92 \t epsilon 0.21\n",
      "Epoch 1689 \t reward: -0.5 \t length 1 \t mean_length 2.92 \t epsilon 0.21\n",
      "Epoch 1690 \t reward: -0.5 \t length 1 \t mean_length 2.88 \t epsilon 0.21\n",
      "Epoch 1691 \t reward: 4.0 \t length 3 \t mean_length 2.88 \t epsilon 0.21\n",
      "Epoch 1692 \t reward: 4.0 \t length 3 \t mean_length 2.88 \t epsilon 0.21\n",
      "Epoch 1693 \t reward: 7.0 \t length 4 \t mean_length 2.88 \t epsilon 0.21\n",
      "Epoch 1694 \t reward: 1.5 \t length 2 \t mean_length 2.86 \t epsilon 0.21\n",
      "Epoch 1695 \t reward: 7.0 \t length 4 \t mean_length 2.86 \t epsilon 0.21\n",
      "Epoch 1696 \t reward: 4.0 \t length 3 \t mean_length 2.86 \t epsilon 0.21\n",
      "Epoch 1697 \t reward: 4.0 \t length 3 \t mean_length 2.86 \t epsilon 0.21\n",
      "Epoch 1698 \t reward: 1.5 \t length 2 \t mean_length 2.84 \t epsilon 0.21\n",
      "Epoch 1699 \t reward: -0.5 \t length 1 \t mean_length 2.86 \t epsilon 0.21\n",
      "Epoch 1700 \t reward: 14.5 \t length 6 \t mean_length 2.92 \t epsilon 0.21\n",
      "Epoch 1701 \t reward: 4.0 \t length 3 \t mean_length 2.94 \t epsilon 0.21\n",
      "Epoch 1702 \t reward: 14.5 \t length 6 \t mean_length 3.0 \t epsilon 0.21\n",
      "Epoch 1703 \t reward: 4.0 \t length 3 \t mean_length 3.0 \t epsilon 0.21\n",
      "Epoch 1704 \t reward: 4.0 \t length 3 \t mean_length 3.0 \t epsilon 0.21\n",
      "Epoch 1705 \t reward: 1.5 \t length 2 \t mean_length 3.02 \t epsilon 0.21\n",
      "Epoch 1706 \t reward: 7.0 \t length 4 \t mean_length 3.03 \t epsilon 0.21\n",
      "Epoch 1707 \t reward: 7.0 \t length 4 \t mean_length 3.08 \t epsilon 0.21\n",
      "Epoch 1708 \t reward: 10.5 \t length 5 \t mean_length 3.11 \t epsilon 0.21\n",
      "Epoch 1709 \t reward: 7.0 \t length 4 \t mean_length 3.14 \t epsilon 0.21\n",
      "Epoch 1710 \t reward: 4.0 \t length 3 \t mean_length 3.13 \t epsilon 0.21\n",
      "Epoch 1711 \t reward: -0.5 \t length 1 \t mean_length 3.14 \t epsilon 0.2\n",
      "Epoch 1712 \t reward: 4.0 \t length 3 \t mean_length 3.13 \t epsilon 0.2\n",
      "Epoch 1713 \t reward: 7.0 \t length 4 \t mean_length 3.1 \t epsilon 0.2\n",
      "Epoch 1714 \t reward: 1.5 \t length 2 \t mean_length 3.07 \t epsilon 0.2\n",
      "Epoch 1715 \t reward: 4.0 \t length 3 \t mean_length 3.08 \t epsilon 0.2\n",
      "Epoch 1716 \t reward: -0.5 \t length 1 \t mean_length 3.03 \t epsilon 0.2\n",
      "Epoch 1717 \t reward: 19.0 \t length 7 \t mean_length 3.04 \t epsilon 0.2\n",
      "Epoch 1718 \t reward: -0.5 \t length 1 \t mean_length 3.0 \t epsilon 0.2\n",
      "Epoch 1719 \t reward: 4.0 \t length 3 \t mean_length 3.0 \t epsilon 0.2\n",
      "Epoch 1720 \t reward: 4.0 \t length 3 \t mean_length 3.0 \t epsilon 0.2\n",
      "Epoch 1721 \t reward: -0.5 \t length 1 \t mean_length 2.98 \t epsilon 0.2\n",
      "Epoch 1722 \t reward: 14.5 \t length 6 \t mean_length 3.03 \t epsilon 0.2\n",
      "Epoch 1723 \t reward: 1.5 \t length 2 \t mean_length 3.02 \t epsilon 0.2\n",
      "Epoch 1724 \t reward: 1.5 \t length 2 \t mean_length 3.0 \t epsilon 0.2\n",
      "Epoch 1725 \t reward: 4.0 \t length 3 \t mean_length 2.98 \t epsilon 0.2\n",
      "Epoch 1726 \t reward: 1.5 \t length 2 \t mean_length 2.96 \t epsilon 0.2\n",
      "Epoch 1727 \t reward: -0.5 \t length 1 \t mean_length 2.94 \t epsilon 0.2\n",
      "Epoch 1728 \t reward: 1.5 \t length 2 \t mean_length 2.92 \t epsilon 0.2\n",
      "Epoch 1729 \t reward: -0.5 \t length 1 \t mean_length 2.9 \t epsilon 0.2\n",
      "Q_matrix of initial state, after training: step 1601\n"
     ]
    },
    {
     "output_type": "display_data",
     "data": {
      "text/plain": "<PIL.Image.Image image mode=RGBA size=128x128 at 0x1978F671F10>",
      "image/png": "[encoded data removed]"
     },
     "metadata": {}
    },
    {
     "output_type": "stream",
     "name": "stdout",
     "text": [
      "34\n"
     ]
    },
    {
     "output_type": "display_data",
     "data": {
      "text/plain": "<PIL.Image.Image image mode=RGBA size=128x128 at 0x1978F6719A0>",
      "image/png": "[encoded data removed]"
     },
     "metadata": {}
    },
    {
     "output_type": "stream",
     "name": "stdout",
     "text": [
      "-------------\n"
     ]
    },
    {
     "output_type": "display_data",
     "data": {
      "text/plain": "<PIL.Image.Image image mode=RGBA size=128x128 at 0x1978F671AC0>",
      "image/png": "[encoded data removed]"
     },
     "metadata": {}
    },
    {
     "output_type": "stream",
     "name": "stdout",
     "text": [
      "20\n",
      "Epoch 1730 \t reward: -0.5 \t length 1 \t mean_length 2.86 \t epsilon 0.2\n",
      "Epoch 1731 \t reward: 1.5 \t length 2 \t mean_length 2.86 \t epsilon 0.2\n",
      "Epoch 1732 \t reward: 1.5 \t length 2 \t mean_length 2.84 \t epsilon 0.2\n",
      "Epoch 1733 \t reward: 7.0 \t length 4 \t mean_length 2.84 \t epsilon 0.2\n",
      "Epoch 1734 \t reward: -0.5 \t length 1 \t mean_length 2.8 \t epsilon 0.2\n",
      "Epoch 1735 \t reward: 1.5 \t length 2 \t mean_length 2.82 \t epsilon 0.2\n",
      "Epoch 1736 \t reward: 1.5 \t length 2 \t mean_length 2.8 \t epsilon 0.2\n",
      "Epoch 1737 \t reward: 4.0 \t length 3 \t mean_length 2.78 \t epsilon 0.2\n",
      "Epoch 1738 \t reward: 4.0 \t length 3 \t mean_length 2.78 \t epsilon 0.2\n",
      "Epoch 1739 \t reward: 10.5 \t length 5 \t mean_length 2.78 \t epsilon 0.2\n",
      "Epoch 1740 \t reward: -0.5 \t length 1 \t mean_length 2.74 \t epsilon 0.2\n",
      "Epoch 1741 \t reward: 4.0 \t length 3 \t mean_length 2.78 \t epsilon 0.2\n",
      "Epoch 1742 \t reward: 7.0 \t length 4 \t mean_length 2.8 \t epsilon 0.2\n",
      "Epoch 1743 \t reward: 1.5 \t length 2 \t mean_length 2.78 \t epsilon 0.2\n",
      "Epoch 1744 \t reward: 4.0 \t length 3 \t mean_length 2.78 \t epsilon 0.2\n",
      "Epoch 1745 \t reward: 10.5 \t length 5 \t mean_length 2.8 \t epsilon 0.2\n",
      "Epoch 1746 \t reward: 7.0 \t length 4 \t mean_length 2.82 \t epsilon 0.2\n",
      "Epoch 1747 \t reward: 1.5 \t length 2 \t mean_length 2.82 \t epsilon 0.2\n",
      "Epoch 1748 \t reward: 4.0 \t length 3 \t mean_length 2.82 \t epsilon 0.2\n",
      "Epoch 1749 \t reward: -0.5 \t length 1 \t mean_length 2.78 \t epsilon 0.2\n",
      "Epoch 1750 \t reward: 7.0 \t length 4 \t mean_length 2.8 \t epsilon 0.2\n",
      "Epoch 1751 \t reward: 4.0 \t length 3 \t mean_length 2.78 \t epsilon 0.2\n",
      "Epoch 1752 \t reward: 7.0 \t length 4 \t mean_length 2.8 \t epsilon 0.2\n",
      "Epoch 1753 \t reward: 4.0 \t length 3 \t mean_length 2.8 \t epsilon 0.2\n",
      "Epoch 1754 \t reward: 4.0 \t length 3 \t mean_length 2.8 \t epsilon 0.2\n",
      "Epoch 1755 \t reward: 10.5 \t length 5 \t mean_length 2.8 \t epsilon 0.2\n",
      "Epoch 1756 \t reward: 7.0 \t length 4 \t mean_length 2.82 \t epsilon 0.2\n",
      "Epoch 1757 \t reward: 4.0 \t length 3 \t mean_length 2.82 \t epsilon 0.2\n",
      "Epoch 1758 \t reward: 1.5 \t length 2 \t mean_length 2.8 \t epsilon 0.2\n",
      "Epoch 1759 \t reward: 10.5 \t length 5 \t mean_length 2.76 \t epsilon 0.2\n",
      "Epoch 1760 \t reward: 10.5 \t length 5 \t mean_length 2.8 \t epsilon 0.2\n",
      "Epoch 1761 \t reward: 4.0 \t length 3 \t mean_length 2.82 \t epsilon 0.2\n",
      "Epoch 1762 \t reward: 4.0 \t length 3 \t mean_length 2.82 \t epsilon 0.2\n",
      "Epoch 1763 \t reward: 7.0 \t length 4 \t mean_length 2.8 \t epsilon 0.2\n",
      "Epoch 1764 \t reward: -0.5 \t length 1 \t mean_length 2.76 \t epsilon 0.2\n",
      "Epoch 1765 \t reward: 7.0 \t length 4 \t mean_length 2.78 \t epsilon 0.2\n",
      "Epoch 1766 \t reward: 10.5 \t length 5 \t mean_length 2.82 \t epsilon 0.2\n",
      "Epoch 1767 \t reward: 4.0 \t length 3 \t mean_length 2.82 \t epsilon 0.2\n",
      "Epoch 1768 \t reward: 4.0 \t length 3 \t mean_length 2.82 \t epsilon 0.2\n",
      "Epoch 1769 \t reward: 7.0 \t length 4 \t mean_length 2.84 \t epsilon 0.2\n",
      "Epoch 1770 \t reward: 1.5 \t length 2 \t mean_length 2.82 \t epsilon 0.2\n",
      "Epoch 1771 \t reward: 1.5 \t length 2 \t mean_length 2.82 \t epsilon 0.2\n",
      "Epoch 1772 \t reward: 1.5 \t length 2 \t mean_length 2.8 \t epsilon 0.2\n",
      "Epoch 1773 \t reward: 7.0 \t length 4 \t mean_length 2.82 \t epsilon 0.2\n",
      "Epoch 1774 \t reward: 4.0 \t length 3 \t mean_length 2.82 \t epsilon 0.2\n",
      "Epoch 1775 \t reward: -0.5 \t length 1 \t mean_length 2.82 \t epsilon 0.2\n",
      "Epoch 1776 \t reward: 4.0 \t length 3 \t mean_length 2.82 \t epsilon 0.2\n",
      "Epoch 1777 \t reward: 7.0 \t length 4 \t mean_length 2.84 \t epsilon 0.19\n",
      "Epoch 1778 \t reward: 4.0 \t length 3 \t mean_length 2.84 \t epsilon 0.19\n",
      "Epoch 1779 \t reward: 10.5 \t length 5 \t mean_length 2.84 \t epsilon 0.19\n",
      "Epoch 1780 \t reward: 1.5 \t length 2 \t mean_length 2.82 \t epsilon 0.19\n",
      "Epoch 1781 \t reward: 4.0 \t length 3 \t mean_length 2.82 \t epsilon 0.19\n",
      "Epoch 1782 \t reward: 7.0 \t length 4 \t mean_length 2.84 \t epsilon 0.19\n",
      "Epoch 1783 \t reward: 7.0 \t length 4 \t mean_length 2.88 \t epsilon 0.19\n",
      "Epoch 1784 \t reward: 1.5 \t length 2 \t mean_length 2.86 \t epsilon 0.19\n",
      "Epoch 1785 \t reward: 4.0 \t length 3 \t mean_length 2.9 \t epsilon 0.19\n",
      "Epoch 1786 \t reward: 1.5 \t length 2 \t mean_length 2.88 \t epsilon 0.19\n",
      "Epoch 1787 \t reward: 4.0 \t length 3 \t mean_length 2.88 \t epsilon 0.19\n",
      "Epoch 1788 \t reward: 19.0 \t length 7 \t mean_length 2.96 \t epsilon 0.19\n",
      "Epoch 1789 \t reward: 7.0 \t length 4 \t mean_length 2.96 \t epsilon 0.19\n",
      "Epoch 1790 \t reward: 10.5 \t length 5 \t mean_length 3.0 \t epsilon 0.19\n",
      "Epoch 1791 \t reward: 7.0 \t length 4 \t mean_length 3.04 \t epsilon 0.19\n",
      "Epoch 1792 \t reward: 4.0 \t length 3 \t mean_length 3.03 \t epsilon 0.19\n",
      "Epoch 1793 \t reward: 1.5 \t length 2 \t mean_length 3.04 \t epsilon 0.19\n",
      "Epoch 1794 \t reward: 7.0 \t length 4 \t mean_length 3.05 \t epsilon 0.19\n",
      "Epoch 1795 \t reward: 4.0 \t length 3 \t mean_length 3.08 \t epsilon 0.19\n",
      "Epoch 1796 \t reward: 4.0 \t length 3 \t mean_length 3.07 \t epsilon 0.19\n",
      "Epoch 1797 \t reward: 1.5 \t length 2 \t mean_length 3.08 \t epsilon 0.19\n",
      "Epoch 1798 \t reward: 4.0 \t length 3 \t mean_length 3.07 \t epsilon 0.19\n",
      "Epoch 1799 \t reward: 4.0 \t length 3 \t mean_length 3.1 \t epsilon 0.19\n",
      "Epoch 1800 \t reward: -0.5 \t length 1 \t mean_length 3.05 \t epsilon 0.19\n",
      "Epoch 1801 \t reward: 4.0 \t length 3 \t mean_length 3.0 \t epsilon 0.19\n",
      "Epoch 1802 \t reward: -0.5 \t length 1 \t mean_length 2.96 \t epsilon 0.19\n",
      "Epoch 1803 \t reward: 7.0 \t length 4 \t mean_length 2.9 \t epsilon 0.19\n",
      "Epoch 1804 \t reward: -0.5 \t length 1 \t mean_length 2.86 \t epsilon 0.19\n",
      "Epoch 1805 \t reward: 4.0 \t length 3 \t mean_length 2.86 \t epsilon 0.19\n",
      "Epoch 1806 \t reward: 4.0 \t length 3 \t mean_length 2.86 \t epsilon 0.19\n",
      "Epoch 1807 \t reward: -0.5 \t length 1 \t mean_length 2.84 \t epsilon 0.19\n",
      "Epoch 1808 \t reward: 10.5 \t length 5 \t mean_length 2.88 \t epsilon 0.19\n",
      "Epoch 1809 \t reward: -0.5 \t length 1 \t mean_length 2.84 \t epsilon 0.19\n",
      "Epoch 1810 \t reward: 7.0 \t length 4 \t mean_length 2.86 \t epsilon 0.19\n",
      "Epoch 1811 \t reward: 4.0 \t length 3 \t mean_length 2.86 \t epsilon 0.19\n",
      "Epoch 1812 \t reward: -0.5 \t length 1 \t mean_length 2.82 \t epsilon 0.19\n",
      "Epoch 1813 \t reward: 4.0 \t length 3 \t mean_length 2.82 \t epsilon 0.19\n",
      "Epoch 1814 \t reward: 14.5 \t length 6 \t mean_length 2.88 \t epsilon 0.19\n",
      "Epoch 1815 \t reward: 1.5 \t length 2 \t mean_length 2.9 \t epsilon 0.19\n",
      "Epoch 1816 \t reward: 4.0 \t length 3 \t mean_length 2.9 \t epsilon 0.19\n",
      "Epoch 1817 \t reward: -0.5 \t length 1 \t mean_length 2.94 \t epsilon 0.19\n",
      "Epoch 1818 \t reward: 10.5 \t length 5 \t mean_length 2.98 \t epsilon 0.19\n",
      "Epoch 1819 \t reward: 19.0 \t length 7 \t mean_length 3.02 \t epsilon 0.19\n",
      "Epoch 1820 \t reward: 1.5 \t length 2 \t mean_length 3.0 \t epsilon 0.19\n",
      "Epoch 1821 \t reward: 7.0 \t length 4 \t mean_length 3.0 \t epsilon 0.19\n",
      "Epoch 1822 \t reward: 4.0 \t length 3 \t mean_length 3.0 \t epsilon 0.19\n",
      "Epoch 1823 \t reward: 7.0 \t length 4 \t mean_length 2.94 \t epsilon 0.19\n",
      "Epoch 1824 \t reward: 4.0 \t length 3 \t mean_length 2.94 \t epsilon 0.19\n",
      "Epoch 1825 \t reward: 4.0 \t length 3 \t mean_length 2.96 \t epsilon 0.19\n",
      "Epoch 1826 \t reward: 1.5 \t length 2 \t mean_length 2.94 \t epsilon 0.19\n",
      "Epoch 1827 \t reward: 7.0 \t length 4 \t mean_length 2.96 \t epsilon 0.19\n",
      "Epoch 1828 \t reward: 1.5 \t length 2 \t mean_length 2.94 \t epsilon 0.19\n",
      "Epoch 1829 \t reward: -0.5 \t length 1 \t mean_length 2.96 \t epsilon 0.19\n",
      "Q_matrix of initial state, after training: step 1701\n"
     ]
    },
    {
     "output_type": "display_data",
     "data": {
      "text/plain": "<PIL.Image.Image image mode=RGBA size=128x128 at 0x1978F671970>",
      "image/png": "[encoded data removed]"
     },
     "metadata": {}
    },
    {
     "output_type": "stream",
     "name": "stdout",
     "text": [
      "34\n"
     ]
    },
    {
     "output_type": "display_data",
     "data": {
      "text/plain": "<PIL.Image.Image image mode=RGBA size=128x128 at 0x1978F671970>",
      "image/png": "[encoded data removed]"
     },
     "metadata": {}
    },
    {
     "output_type": "stream",
     "name": "stdout",
     "text": [
      "-------------\n"
     ]
    },
    {
     "output_type": "display_data",
     "data": {
      "text/plain": "<PIL.Image.Image image mode=RGBA size=128x128 at 0x1978F6717F0>",
      "image/png": "[encoded data removed]"
     },
     "metadata": {}
    },
    {
     "output_type": "stream",
     "name": "stdout",
     "text": [
      "29\n",
      "Epoch 1830 \t reward: 4.0 \t length 3 \t mean_length 2.96 \t epsilon 0.19\n",
      "Epoch 1831 \t reward: 10.5 \t length 5 \t mean_length 3.0 \t epsilon 0.19\n",
      "Epoch 1832 \t reward: 10.5 \t length 5 \t mean_length 3.03 \t epsilon 0.19\n",
      "Epoch 1833 \t reward: 14.5 \t length 6 \t mean_length 3.06 \t epsilon 0.19\n",
      "Epoch 1834 \t reward: 4.0 \t length 3 \t mean_length 3.05 \t epsilon 0.19\n",
      "Epoch 1835 \t reward: 7.0 \t length 4 \t mean_length 3.1 \t epsilon 0.19\n",
      "Epoch 1836 \t reward: -0.5 \t length 1 \t mean_length 3.05 \t epsilon 0.19\n",
      "Epoch 1837 \t reward: 1.5 \t length 2 \t mean_length 3.08 \t epsilon 0.19\n",
      "Epoch 1838 \t reward: -0.5 \t length 1 \t mean_length 3.03 \t epsilon 0.19\n",
      "Epoch 1839 \t reward: 4.0 \t length 3 \t mean_length 3.04 \t epsilon 0.19\n",
      "Epoch 1840 \t reward: 1.5 \t length 2 \t mean_length 3.01 \t epsilon 0.19\n",
      "Epoch 1841 \t reward: 4.0 \t length 3 \t mean_length 3.06 \t epsilon 0.19\n",
      "Epoch 1842 \t reward: -0.5 \t length 1 \t mean_length 3.01 \t epsilon 0.19\n",
      "Epoch 1843 \t reward: -0.5 \t length 1 \t mean_length 3.0 \t epsilon 0.19\n",
      "Epoch 1844 \t reward: 4.0 \t length 3 \t mean_length 3.0 \t epsilon 0.19\n",
      "Epoch 1845 \t reward: 4.0 \t length 3 \t mean_length 3.0 \t epsilon 0.19\n",
      "Epoch 1846 \t reward: -0.5 \t length 1 \t mean_length 2.96 \t epsilon 0.19\n",
      "Epoch 1847 \t reward: 4.0 \t length 3 \t mean_length 2.94 \t epsilon 0.18\n",
      "Epoch 1848 \t reward: -0.5 \t length 1 \t mean_length 2.9 \t epsilon 0.18\n",
      "Epoch 1849 \t reward: 4.0 \t length 3 \t mean_length 2.9 \t epsilon 0.18\n",
      "Epoch 1850 \t reward: 1.5 \t length 2 \t mean_length 2.88 \t epsilon 0.18\n",
      "Epoch 1851 \t reward: -0.5 \t length 1 \t mean_length 2.86 \t epsilon 0.18\n",
      "Epoch 1852 \t reward: 4.0 \t length 3 \t mean_length 2.86 \t epsilon 0.18\n",
      "Epoch 1853 \t reward: 14.5 \t length 6 \t mean_length 2.84 \t epsilon 0.18\n",
      "Epoch 1854 \t reward: 10.5 \t length 5 \t mean_length 2.88 \t epsilon 0.18\n",
      "Epoch 1855 \t reward: 10.5 \t length 5 \t mean_length 2.88 \t epsilon 0.18\n",
      "Epoch 1856 \t reward: -0.5 \t length 1 \t mean_length 2.84 \t epsilon 0.18\n",
      "Epoch 1857 \t reward: 7.0 \t length 4 \t mean_length 2.82 \t epsilon 0.18\n",
      "Epoch 1858 \t reward: 4.0 \t length 3 \t mean_length 2.82 \t epsilon 0.18\n",
      "Epoch 1859 \t reward: 1.5 \t length 2 \t mean_length 2.84 \t epsilon 0.18\n",
      "Epoch 1860 \t reward: 4.0 \t length 3 \t mean_length 2.84 \t epsilon 0.18\n",
      "Epoch 1861 \t reward: 1.5 \t length 2 \t mean_length 2.8 \t epsilon 0.18\n",
      "Epoch 1862 \t reward: -0.5 \t length 1 \t mean_length 2.76 \t epsilon 0.18\n",
      "Epoch 1863 \t reward: 4.0 \t length 3 \t mean_length 2.76 \t epsilon 0.18\n",
      "Epoch 1864 \t reward: -0.5 \t length 1 \t mean_length 2.72 \t epsilon 0.18\n",
      "Epoch 1865 \t reward: 4.0 \t length 3 \t mean_length 2.76 \t epsilon 0.18\n",
      "Epoch 1866 \t reward: 10.5 \t length 5 \t mean_length 2.8 \t epsilon 0.18\n",
      "Epoch 1867 \t reward: 7.0 \t length 4 \t mean_length 2.76 \t epsilon 0.18\n",
      "Epoch 1868 \t reward: 7.0 \t length 4 \t mean_length 2.78 \t epsilon 0.18\n",
      "Epoch 1869 \t reward: 7.0 \t length 4 \t mean_length 2.78 \t epsilon 0.18\n",
      "Epoch 1870 \t reward: -0.5 \t length 1 \t mean_length 2.74 \t epsilon 0.18\n",
      "Epoch 1871 \t reward: 1.5 \t length 2 \t mean_length 2.76 \t epsilon 0.18\n",
      "Epoch 1872 \t reward: 4.0 \t length 3 \t mean_length 2.76 \t epsilon 0.18\n",
      "Epoch 1873 \t reward: 4.0 \t length 3 \t mean_length 2.78 \t epsilon 0.18\n",
      "Epoch 1874 \t reward: -0.5 \t length 1 \t mean_length 2.74 \t epsilon 0.18\n",
      "Epoch 1875 \t reward: 7.0 \t length 4 \t mean_length 2.74 \t epsilon 0.18\n",
      "Epoch 1876 \t reward: -0.5 \t length 1 \t mean_length 2.7 \t epsilon 0.18\n",
      "Epoch 1877 \t reward: 4.0 \t length 3 \t mean_length 2.7 \t epsilon 0.18\n",
      "Epoch 1878 \t reward: 4.0 \t length 3 \t mean_length 2.7 \t epsilon 0.18\n",
      "Epoch 1879 \t reward: -0.5 \t length 1 \t mean_length 2.7 \t epsilon 0.18\n",
      "Epoch 1880 \t reward: 4.0 \t length 3 \t mean_length 2.7 \t epsilon 0.18\n",
      "Epoch 1881 \t reward: 4.0 \t length 3 \t mean_length 2.72 \t epsilon 0.18\n",
      "Epoch 1882 \t reward: 7.0 \t length 4 \t mean_length 2.74 \t epsilon 0.18\n",
      "Epoch 1883 \t reward: -0.5 \t length 1 \t mean_length 2.72 \t epsilon 0.18\n",
      "Epoch 1884 \t reward: 4.0 \t length 3 \t mean_length 2.72 \t epsilon 0.18\n",
      "Epoch 1885 \t reward: 7.0 \t length 4 \t mean_length 2.74 \t epsilon 0.18\n",
      "Epoch 1886 \t reward: -0.5 \t length 1 \t mean_length 2.7 \t epsilon 0.18\n",
      "Epoch 1887 \t reward: 1.5 \t length 2 \t mean_length 2.72 \t epsilon 0.18\n",
      "Epoch 1888 \t reward: 7.0 \t length 4 \t mean_length 2.74 \t epsilon 0.18\n",
      "Epoch 1889 \t reward: 4.0 \t length 3 \t mean_length 2.66 \t epsilon 0.18\n",
      "Epoch 1890 \t reward: 1.5 \t length 2 \t mean_length 2.64 \t epsilon 0.18\n",
      "Epoch 1891 \t reward: 4.0 \t length 3 \t mean_length 2.6 \t epsilon 0.18\n",
      "Epoch 1892 \t reward: 1.5 \t length 2 \t mean_length 2.58 \t epsilon 0.18\n",
      "Epoch 1893 \t reward: 4.0 \t length 3 \t mean_length 2.58 \t epsilon 0.18\n",
      "Epoch 1894 \t reward: -0.5 \t length 1 \t mean_length 2.54 \t epsilon 0.18\n",
      "Epoch 1895 \t reward: 4.0 \t length 3 \t mean_length 2.52 \t epsilon 0.18\n",
      "Epoch 1896 \t reward: 14.5 \t length 6 \t mean_length 2.58 \t epsilon 0.18\n",
      "Epoch 1897 \t reward: -0.5 \t length 1 \t mean_length 2.58 \t epsilon 0.18\n",
      "Epoch 1898 \t reward: 4.0 \t length 3 \t mean_length 2.58 \t epsilon 0.18\n",
      "Epoch 1899 \t reward: 4.0 \t length 3 \t mean_length 2.58 \t epsilon 0.18\n",
      "Epoch 1900 \t reward: 10.5 \t length 5 \t mean_length 2.62 \t epsilon 0.18\n",
      "Epoch 1901 \t reward: -0.5 \t length 1 \t mean_length 2.66 \t epsilon 0.18\n",
      "Epoch 1902 \t reward: 1.5 \t length 2 \t mean_length 2.64 \t epsilon 0.18\n",
      "Epoch 1903 \t reward: 10.5 \t length 5 \t mean_length 2.68 \t epsilon 0.18\n",
      "Epoch 1904 \t reward: 4.0 \t length 3 \t mean_length 2.68 \t epsilon 0.18\n",
      "Epoch 1905 \t reward: -0.5 \t length 1 \t mean_length 2.72 \t epsilon 0.18\n",
      "Epoch 1906 \t reward: -0.5 \t length 1 \t mean_length 2.68 \t epsilon 0.18\n",
      "Epoch 1907 \t reward: -0.5 \t length 1 \t mean_length 2.68 \t epsilon 0.18\n",
      "Epoch 1908 \t reward: 1.5 \t length 2 \t mean_length 2.66 \t epsilon 0.18\n",
      "Epoch 1909 \t reward: 1.5 \t length 2 \t mean_length 2.62 \t epsilon 0.18\n",
      "Epoch 1910 \t reward: -0.5 \t length 1 \t mean_length 2.58 \t epsilon 0.18\n",
      "Epoch 1911 \t reward: 7.0 \t length 4 \t mean_length 2.56 \t epsilon 0.18\n",
      "Epoch 1912 \t reward: 10.5 \t length 5 \t mean_length 2.6 \t epsilon 0.18\n",
      "Epoch 1913 \t reward: -0.5 \t length 1 \t mean_length 2.64 \t epsilon 0.18\n"
     ]
    },
    {
     "output_type": "error",
     "ename": "KeyboardInterrupt",
     "evalue": "",
     "traceback": [
      "\u001b[1;31m---------------------------------------------------------------------------\u001b[0m",
      "\u001b[1;31mKeyboardInterrupt\u001b[0m                         Traceback (most recent call last)",
      "\u001b[1;32m<ipython-input-15-c5666043241d>\u001b[0m in \u001b[0;36m<module>\u001b[1;34m\u001b[0m\n\u001b[0;32m    104\u001b[0m         \u001b[1;31m# Let the optimizer do the backprop\u001b[0m\u001b[1;33m\u001b[0m\u001b[1;33m\u001b[0m\u001b[1;33m\u001b[0m\u001b[0m\n\u001b[0;32m    105\u001b[0m         \u001b[0moptimizer\u001b[0m\u001b[1;33m.\u001b[0m\u001b[0mzero_grad\u001b[0m\u001b[1;33m(\u001b[0m\u001b[1;33m)\u001b[0m\u001b[1;33m\u001b[0m\u001b[1;33m\u001b[0m\u001b[0m\n\u001b[1;32m--> 106\u001b[1;33m         \u001b[0mloss\u001b[0m\u001b[1;33m.\u001b[0m\u001b[0mbackward\u001b[0m\u001b[1;33m(\u001b[0m\u001b[1;33m)\u001b[0m\u001b[1;33m\u001b[0m\u001b[1;33m\u001b[0m\u001b[0m\n\u001b[0m\u001b[0;32m    107\u001b[0m         \u001b[0moptimizer\u001b[0m\u001b[1;33m.\u001b[0m\u001b[0mstep\u001b[0m\u001b[1;33m(\u001b[0m\u001b[1;33m)\u001b[0m\u001b[1;33m\u001b[0m\u001b[1;33m\u001b[0m\u001b[0m\n\u001b[0;32m    108\u001b[0m \u001b[1;33m\u001b[0m\u001b[0m\n",
      "\u001b[1;32mC:\\Python38\\lib\\site-packages\\torch\\tensor.py\u001b[0m in \u001b[0;36mbackward\u001b[1;34m(self, gradient, retain_graph, create_graph)\u001b[0m\n\u001b[0;32m    219\u001b[0m                 \u001b[0mretain_graph\u001b[0m\u001b[1;33m=\u001b[0m\u001b[0mretain_graph\u001b[0m\u001b[1;33m,\u001b[0m\u001b[1;33m\u001b[0m\u001b[1;33m\u001b[0m\u001b[0m\n\u001b[0;32m    220\u001b[0m                 create_graph=create_graph)\n\u001b[1;32m--> 221\u001b[1;33m         \u001b[0mtorch\u001b[0m\u001b[1;33m.\u001b[0m\u001b[0mautograd\u001b[0m\u001b[1;33m.\u001b[0m\u001b[0mbackward\u001b[0m\u001b[1;33m(\u001b[0m\u001b[0mself\u001b[0m\u001b[1;33m,\u001b[0m \u001b[0mgradient\u001b[0m\u001b[1;33m,\u001b[0m \u001b[0mretain_graph\u001b[0m\u001b[1;33m,\u001b[0m \u001b[0mcreate_graph\u001b[0m\u001b[1;33m)\u001b[0m\u001b[1;33m\u001b[0m\u001b[1;33m\u001b[0m\u001b[0m\n\u001b[0m\u001b[0;32m    222\u001b[0m \u001b[1;33m\u001b[0m\u001b[0m\n\u001b[0;32m    223\u001b[0m     \u001b[1;32mdef\u001b[0m \u001b[0mregister_hook\u001b[0m\u001b[1;33m(\u001b[0m\u001b[0mself\u001b[0m\u001b[1;33m,\u001b[0m \u001b[0mhook\u001b[0m\u001b[1;33m)\u001b[0m\u001b[1;33m:\u001b[0m\u001b[1;33m\u001b[0m\u001b[1;33m\u001b[0m\u001b[0m\n",
      "\u001b[1;32mC:\\Python38\\lib\\site-packages\\torch\\autograd\\__init__.py\u001b[0m in \u001b[0;36mbackward\u001b[1;34m(tensors, grad_tensors, retain_graph, create_graph, grad_variables)\u001b[0m\n\u001b[0;32m    128\u001b[0m         \u001b[0mretain_graph\u001b[0m \u001b[1;33m=\u001b[0m \u001b[0mcreate_graph\u001b[0m\u001b[1;33m\u001b[0m\u001b[1;33m\u001b[0m\u001b[0m\n\u001b[0;32m    129\u001b[0m \u001b[1;33m\u001b[0m\u001b[0m\n\u001b[1;32m--> 130\u001b[1;33m     Variable._execution_engine.run_backward(\n\u001b[0m\u001b[0;32m    131\u001b[0m         \u001b[0mtensors\u001b[0m\u001b[1;33m,\u001b[0m \u001b[0mgrad_tensors_\u001b[0m\u001b[1;33m,\u001b[0m \u001b[0mretain_graph\u001b[0m\u001b[1;33m,\u001b[0m \u001b[0mcreate_graph\u001b[0m\u001b[1;33m,\u001b[0m\u001b[1;33m\u001b[0m\u001b[1;33m\u001b[0m\u001b[0m\n\u001b[0;32m    132\u001b[0m         allow_unreachable=True)  # allow_unreachable flag\n",
      "\u001b[1;31mKeyboardInterrupt\u001b[0m: "
     ]
    }
   ],
   "source": [
    "# New model\n",
    "board = Board()\n",
    "test_board = Board()\n",
    "model = Model()\n",
    "model.to(device)\n",
    "epsilon = 0.9\n",
    "epsilon_start = 0.9\n",
    "epsilon_end = 0.05\n",
    "epsilon_decay = 1024\n",
    "learning_rate = 0.3\n",
    "gamma = 0.9\n",
    "batch_size = 64\n",
    "max_history = 1024\n",
    "n_epochs = 4096\n",
    "criterion = torch.nn.MSELoss()\n",
    "optimizer = torch.optim.SGD(model.parameters(), lr=learning_rate)\n",
    "\n",
    "# (State, Action, NextState, Reward, Done) container for each action\n",
    "history = []\n",
    "mean_length = []\n",
    "\n",
    "# Populating the history with every possible move\n",
    "for i_epoch in range(n_epochs):\n",
    "    # Reset the board\n",
    "    done = False\n",
    "    s, signal = board.reset()\n",
    "    s = torch.tensor(s, dtype=torch.float).unsqueeze(0)\n",
    "\n",
    "    # Play a full game\n",
    "    length = 0\n",
    "    total_r = 0\n",
    "    while not done:\n",
    "        length += 1\n",
    "\n",
    "        #========================== ACTION\n",
    "        # Play a random action or ask the model\n",
    "        a = 0\n",
    "        epsilon = epsilon_end + (epsilon_start - epsilon_end) * math.exp(-1. * i_epoch / epsilon_decay)\n",
    "        if np.random.rand() <= epsilon:\n",
    "            a = torch.randint(0, 65, (1,)).item()\n",
    "        else:\n",
    "            a_scores = model(s.to(device))\n",
    "            a = torch.argmax(a_scores).item()\n",
    "        encoded_a = encode_action(a)\n",
    "\n",
    "        # Perform the action in the game\n",
    "        n_s, signal = board.step(encoded_a)\n",
    "        n_s = torch.tensor(n_s, dtype=torch.float).unsqueeze(0)\n",
    "\n",
    "        # Process the signal\n",
    "        r = reward_from_signal(signal, board) + length / 2\n",
    "        total_r += r\n",
    "        done = game_over_from_signal(signal, board)\n",
    "        #-------------------------- ACTION\n",
    "\n",
    "        #========================== BLACK SAMPLE MOVE\n",
    "        black_action = board.sample()\n",
    "        n_s, signal = board.step(black_action)\n",
    "        n_s = torch.tensor(n_s, dtype=torch.float).unsqueeze(0)\n",
    "        #-------------------------- BLACK SAMPLE MOVE\n",
    "\n",
    "        #========================== HISTORY\n",
    "        # Add the record to history\n",
    "        for i_history in range(length):\n",
    "            history.append((s, a, r, n_s, done))\n",
    "        \n",
    "        # Update current state\n",
    "        s = n_s\n",
    "\n",
    "        # Continue playing if we don't have enough moves to learn in the history\n",
    "        if len(history) <= batch_size:\n",
    "            continue\n",
    "\n",
    "        # Keep history the wanted size removing first element in list\n",
    "        while len(history) > max_history:\n",
    "            history.pop(0)\n",
    "        #-------------------------- HISTORY\n",
    "\n",
    "        #========================== Q LEARNING\n",
    "        # Q Learning matrix for the initial state\n",
    "        targets = torch.zeros(batch_size, 65)\n",
    "        inputs = torch.zeros(batch_size, 2, 8, 8)\n",
    "        i_batch = 0\n",
    "        samples = random.sample(history, batch_size - 1) + [history[-1]]\n",
    "        for i_batch, (s_, a_, r_, n_s_, done_) in enumerate(samples):\n",
    "            # Build bellman equation for the Q function\n",
    "            inputs[i_batch] = s_\n",
    "            targets[i_batch] = model(s_.to(device)).view(-1) # torch.zeros((65,), dtype=torch.float)\n",
    "            Q_sa = model(n_s_.to(device))\n",
    "\n",
    "            # Emplace reward\n",
    "            if done_:\n",
    "                targets[i_batch, a_] = r_\n",
    "            else:\n",
    "                targets[i_batch, a_] = r_ + gamma * torch.max(Q_sa)\n",
    "\n",
    "\n",
    "        # Compute loss on the difference between model output and target_q\n",
    "        model.train()\n",
    "        q_pred = model(inputs.to(device))        \n",
    "        targets = torch.clip(targets, -3, 3)\n",
    "        loss = criterion(targets.to(device), q_pred)\n",
    "\n",
    "        # Let the optimizer do the backprop\n",
    "        optimizer.zero_grad()\n",
    "        loss.backward()\n",
    "        optimizer.step()\n",
    "    \n",
    "    if len(mean_length) <= 50:\n",
    "        mean_length.append(length)\n",
    "    else:\n",
    "        mean_length.pop(0)\n",
    "    print(f\"Epoch {i_epoch} \\t reward: {total_r} \\t length {length} \\t mean_length {int(np.mean(mean_length) * 100)/100} \\t epsilon {int(epsilon*100)/100}\")\n",
    "    \n",
    "    # Display matrixes\n",
    "    if i_epoch > batch_size and (i_epoch - batch_size) % 100 == 1:\n",
    "        print(f\"Q_matrix of initial state, after training: step {i_epoch - batch_size}\")\n",
    "        s, signal = test_board.reset()\n",
    "        s = torch.tensor(s, dtype=torch.float).unsqueeze(0)\n",
    "        a_scores = model(s.to(device))\n",
    "        q1 = a_scores.to(\"cpu\")\n",
    "        render_q(q1.tolist()[0])\n",
    "        a = torch.argmax(a_scores).item()\n",
    "        encoded_a = encode_action(a)\n",
    "        print(a)\n",
    "        # print(a_scores.to(\"cpu\"))\n",
    "        # Perform the action in the game\n",
    "        n_s, signal = test_board.step(encoded_a)\n",
    "        if not game_over_from_signal(signal, test_board):\n",
    "            black_action = test_board.sample()\n",
    "            n_s, signal = test_board.step(black_action)\n",
    "            n_s = torch.tensor(n_s, dtype=torch.float).unsqueeze(0)\n",
    "            a_scores = model(n_s.to(device))\n",
    "            q2 = a_scores.to(\"cpu\")\n",
    "            render_q(q2.tolist()[0])\n",
    "            print(\"-------------\")\n",
    "            render_q((q2 - q1).tolist()[0])\n",
    "            a = torch.argmax(a_scores).item()\n",
    "            encoded_a = encode_action(a)\n",
    "            print(a)\n",
    "    # if i_epoch > batch_size and (i_epoch - batch_size) % 1000 == 999:\n",
    "    #     print(\"MEMOIRE ==============================================\")\n",
    "    #     print(history[:5])"
   ]
  }
 ]
}