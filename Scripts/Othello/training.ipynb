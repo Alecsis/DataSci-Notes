{
 "metadata": {
  "language_info": {
   "codemirror_mode": {
    "name": "ipython",
    "version": 3
   },
   "file_extension": ".py",
   "mimetype": "text/x-python",
   "name": "python",
   "nbconvert_exporter": "python",
   "pygments_lexer": "ipython3",
   "version": "3.8.6-final"
  },
  "orig_nbformat": 2,
  "kernelspec": {
   "name": "python3",
   "display_name": "Python 3"
  }
 },
 "nbformat": 4,
 "nbformat_minor": 2,
 "cells": [
  {
   "source": [
    "# Training d'un agent Othello"
   ],
   "cell_type": "markdown",
   "metadata": {}
  },
  {
   "source": [
    "## Importation des modules"
   ],
   "cell_type": "markdown",
   "metadata": {}
  },
  {
   "cell_type": "code",
   "execution_count": 1,
   "metadata": {},
   "outputs": [],
   "source": [
    "from Board import Board, Signal, game_over_from_signal\n",
    "from Agent import Memory, Model, encode_action\n",
    "\n",
    "import torch\n",
    "import torch.nn as nn\n",
    "import torch.nn.functional as F\n",
    "\n",
    "import numpy as np\n",
    "import matplotlib.pyplot as plt\n",
    "\n",
    "from PIL import Image, ImageDraw\n",
    "from IPython.display import display # to display images\n",
    "\n",
    "import math\n",
    "import random\n",
    "import numpy as np\n",
    "\n",
    "%matplotlib inline\n",
    "\n",
    "device = torch.device(\"cuda:0\" if torch.cuda.is_available() else \"cpu\")"
   ]
  },
  {
   "source": [
    "## Définition d'un mmodèle de réseau de neurones"
   ],
   "cell_type": "markdown",
   "metadata": {}
  },
  {
   "cell_type": "code",
   "execution_count": 2,
   "metadata": {},
   "outputs": [],
   "source": [
    "class Model(nn.Module):\n",
    "\n",
    "    def __init__(self):\n",
    "        super(Model, self).__init__()\n",
    "        # Input (2, 8, 8,)\n",
    "        # Output (65,)\n",
    "        self.input_layer = nn.Linear(128, 128)\n",
    "        self.hidden_layer_1 = nn.Linear(128, 128)\n",
    "        self.hidden_layer_2 = nn.Linear(128, 128)\n",
    "        self.hidden_layer_3 = nn.Linear(128, 128)\n",
    "        self.hidden_layer_4 = nn.Linear(128, 128)\n",
    "        self.hidden_layer_5 = nn.Linear(128, 128)\n",
    "        # self.hidden_layer_6 = nn.Linear(128, 128)\n",
    "        # self.hidden_layer_7 = nn.Linear(128, 128)\n",
    "        # self.hidden_layer_8 = nn.Linear(128, 128)\n",
    "        # self.hidden_layer_9 = nn.Linear(128, 128)\n",
    "        # self.hidden_layer_10 = nn.Linear(128, 128)\n",
    "        # self.hidden_layer_11 = nn.Linear(128, 128)\n",
    "        # self.input_layer = nn.Conv2d(2, 128, 3, padding=1)\n",
    "        # self.hidden_layer_1 = nn.Conv2d(128, 128, 3, padding=1)\n",
    "        # self.hidden_layer_2 = nn.Conv2d(128, 128, 3, padding=1)\n",
    "        # self.hidden_layer_3 = nn.Conv2d(128, 128, 3, padding=1)\n",
    "        # self.hidden_layer_4 = nn.Conv2d(128, 128, 3, padding=1)\n",
    "        # self.hidden_layer_5 = nn.Linear(128*8*8, 128*8)\n",
    "        # self.hidden_layer_6 = nn.Linear(128*8, 128)\n",
    "        self.output_layer = nn.Linear(128, 65)\n",
    "\n",
    "    def forward(self, x):\n",
    "        x = x.view(-1, self.num_flat_features(x))\n",
    "        x = F.relu(self.input_layer(x))\n",
    "        x = F.relu(self.hidden_layer_1(x))\n",
    "        x = F.relu(self.hidden_layer_2(x))\n",
    "        x = F.relu(self.hidden_layer_3(x))\n",
    "        x = F.relu(self.hidden_layer_4(x))\n",
    "        x = F.relu(self.hidden_layer_5(x))\n",
    "        # x = F.relu(self.hidden_layer_6(x))\n",
    "        # x = F.relu(self.hidden_layer_7(x))\n",
    "        # x = F.relu(self.hidden_layer_8(x))\n",
    "        # x = F.relu(self.hidden_layer_9(x))\n",
    "        # x = F.relu(self.hidden_layer_10(x))\n",
    "        # x = F.relu(self.hidden_layer_11(x))\n",
    "        output = self.output_layer(x)\n",
    "        return output\n",
    "    \n",
    "    def num_flat_features(self, x):\n",
    "        size = x.size()[1:]  # all dimensions except the batch dimension\n",
    "        num_features = 1\n",
    "        for s in size:\n",
    "            num_features *= s\n",
    "        return num_features"
   ]
  },
  {
   "cell_type": "code",
   "execution_count": 3,
   "metadata": {},
   "outputs": [],
   "source": [
    "def reward_from_signal(signal: Signal, board: Board):\n",
    "    reward = 0\n",
    "    if signal is Signal.ILLEGAL_MOVE:\n",
    "            reward = -1\n",
    "    elif signal is Signal.VALID_MOVE:\n",
    "        reward = 1\n",
    "    else: # Game over\n",
    "        winner = board.get_winner()\n",
    "        if winner == 1: # White\n",
    "            reward = 100\n",
    "        elif winner == -1: # Black\n",
    "            reward = -100\n",
    "        else: # Draw\n",
    "            reward = -50\n",
    "    return reward\n",
    "\n",
    "def game_over_from_signal(signal: Signal, board: Board):\n",
    "    game_over = signal in [Signal.GAME_OVER, Signal.ILLEGAL_MOVE]\n",
    "    return game_over"
   ]
  },
  {
   "source": [
    "## Méthode de visualisation des q_matrix"
   ],
   "cell_type": "markdown",
   "metadata": {}
  },
  {
   "cell_type": "code",
   "execution_count": 4,
   "metadata": {},
   "outputs": [],
   "source": [
    "def render_q(q: list):\n",
    "    dimension = (128, 128)\n",
    "    max_negative = np.min([np.min(q), 0])\n",
    "    max_positive = np.max([np.max(q), 0])\n",
    "    image = Image.new('RGBA', dimension, (255,255,225,255))\n",
    "    draw = ImageDraw.Draw(image)\n",
    "    y = 0\n",
    "    i = 0\n",
    "    for l in range(8):\n",
    "        x = 0\n",
    "        for c in range(8):\n",
    "            xy = [(x + 1, y + 1), (x + 14, y + 14)]\n",
    "            r = q[i]\n",
    "            if r > 0:\n",
    "                # a = min(255, max(0, int(r * 1 * 255)))\n",
    "                a = int(r / max_positive * 255)\n",
    "                color = (0,0,255,a)\n",
    "                draw.rectangle(xy, fill=color)\n",
    "            elif r < 0:\n",
    "                # a = min(255, max(0, int(-r * 1 * 255)))\n",
    "                a = int(r / max_negative * 255)\n",
    "                color = (255,0,0,a)\n",
    "                draw.rectangle(xy, fill=color)\n",
    "            x += 16\n",
    "            i += 1\n",
    "        y += 16\n",
    "    display(image)"
   ]
  },
  {
   "source": [
    "## Premiere étape : apprentissage d'un seul coup"
   ],
   "cell_type": "markdown",
   "metadata": {}
  },
  {
   "cell_type": "code",
   "execution_count": 106,
   "metadata": {},
   "outputs": [
    {
     "output_type": "stream",
     "name": "stdout",
     "text": [
      "Q_matrix of initial state, before training:\n"
     ]
    },
    {
     "output_type": "display_data",
     "data": {
      "text/plain": "<PIL.Image.Image image mode=RGBA size=128x128 at 0x1CD235F2760>",
      "image/png": "[encoded data removed]"
     },
     "metadata": {}
    },
    {
     "output_type": "stream",
     "name": "stdout",
     "text": [
      "Target Q matrix:\n"
     ]
    },
    {
     "output_type": "display_data",
     "data": {
      "text/plain": "<PIL.Image.Image image mode=RGBA size=128x128 at 0x1CCD4689BE0>",
      "image/png": "[encoded data removed]"
     },
     "metadata": {}
    },
    {
     "output_type": "stream",
     "name": "stdout",
     "text": [
      "Q_matrix of initial state, after training:\n"
     ]
    },
    {
     "output_type": "display_data",
     "data": {
      "text/plain": "<PIL.Image.Image image mode=RGBA size=128x128 at 0x1CD235F2AC0>",
      "image/png": "[encoded data removed]"
     },
     "metadata": {}
    }
   ],
   "source": [
    "# New model\n",
    "board = Board()\n",
    "model = Model()\n",
    "learning_rate = 0.3\n",
    "criterion = torch.nn.MSELoss()\n",
    "optimizer = torch.optim.SGD(model.parameters(), lr=learning_rate)\n",
    "\n",
    "# Get initial state from the board\n",
    "initial_s, signal = board.reset()\n",
    "initial_s = torch.tensor(initial_s, dtype=torch.float).unsqueeze(0)\n",
    "\n",
    "# Predict an action\n",
    "a_scores = model(initial_s)\n",
    "a = torch.argmax(a_scores).item()\n",
    "encoded_a = encode_action(a)\n",
    "\n",
    "# Perform the action in the game\n",
    "s, signal = board.step(encoded_a)\n",
    "next_s = torch.tensor(s, dtype=torch.float).unsqueeze(0)\n",
    "\n",
    "# Process the signal\n",
    "r = reward_from_signal(signal, board)\n",
    "done = game_over_from_signal(signal, board)\n",
    "\n",
    "# Q Learning\n",
    "target_q = torch.zeros((65,), dtype=torch.float)\n",
    "\n",
    "# Add the reward and action\n",
    "target_q[a] = r\n",
    "\n",
    "# Render model before the training\n",
    "print(\"Q_matrix of initial state, before training:\")\n",
    "q_pred = model(torch.tensor(initial_s, dtype=torch.float))\n",
    "render_q(q_pred.tolist()[0])\n",
    "\n",
    "# Toggle on train mode\n",
    "model.train()\n",
    "\n",
    "for i in range(16):\n",
    "    # Compute loss on the difference between model output and target_q\n",
    "    q_pred = model(torch.tensor(initial_s, dtype=torch.float))\n",
    "    loss = criterion(torch.tensor(target_q, dtype=torch.float), q_pred)\n",
    "\n",
    "    # Let the optimizer do the backprop\n",
    "    optimizer.zero_grad()\n",
    "    loss.backward()\n",
    "    optimizer.step()\n",
    "\n",
    "print(\"Target Q matrix:\")\n",
    "render_q(target_q.tolist())\n",
    "\n",
    "# Render model after the training\n",
    "print(\"Q_matrix of initial state, after training:\")\n",
    "q_pred = model(torch.tensor(initial_s, dtype=torch.float))\n",
    "render_q(q_pred.tolist()[0])"
   ]
  },
  {
   "source": [
    "## Deuxième étape : apprentissage du premier état avec historique"
   ],
   "cell_type": "markdown",
   "metadata": {}
  },
  {
   "cell_type": "code",
   "execution_count": 18,
   "metadata": {},
   "outputs": [
    {
     "output_type": "stream",
     "name": "stdout",
     "text": [
      "Q_matrix of initial state, before training:\n"
     ]
    },
    {
     "output_type": "display_data",
     "data": {
      "text/plain": "<PIL.Image.Image image mode=RGBA size=128x128 at 0x1CC89361610>",
      "image/png": "[encoded data removed]"
     },
     "metadata": {}
    },
    {
     "output_type": "stream",
     "name": "stdout",
     "text": [
      "Target Q matrix:\n"
     ]
    },
    {
     "output_type": "display_data",
     "data": {
      "text/plain": "<PIL.Image.Image image mode=RGBA size=128x128 at 0x1CC8937BBE0>",
      "image/png": "[encoded data removed]"
     },
     "metadata": {}
    },
    {
     "output_type": "stream",
     "name": "stdout",
     "text": [
      "Q_matrix of initial state, after training:\n"
     ]
    },
    {
     "output_type": "display_data",
     "data": {
      "text/plain": "<PIL.Image.Image image mode=RGBA size=128x128 at 0x1CC8937BBE0>",
      "image/png": "[encoded data removed]"
     },
     "metadata": {}
    }
   ],
   "source": [
    "# New model\n",
    "board = Board()\n",
    "model = Model()\n",
    "learning_rate = 0.3\n",
    "criterion = torch.nn.MSELoss()\n",
    "optimizer = torch.optim.SGD(model.parameters(), lr=learning_rate)\n",
    "\n",
    "# Render model before the training\n",
    "print(\"Q_matrix of initial state, before training:\")\n",
    "q_pred = model(torch.tensor(initial_s, dtype=torch.float))\n",
    "render_q(q_pred.tolist()[0])\n",
    "\n",
    "# (Action, Reward) container for each action\n",
    "history = []\n",
    "\n",
    "# Populating the history with every possible move\n",
    "for i_action in range(65):\n",
    "    # Reset the board\n",
    "    board.reset()\n",
    "\n",
    "    # Predict an action\n",
    "    a = i_action\n",
    "    encoded_a = encode_action(a)\n",
    "\n",
    "    # Perform the action in the game\n",
    "    s, signal = board.step(encoded_a)\n",
    "\n",
    "    # Process the signal\n",
    "    r = reward_from_signal(signal, board)\n",
    "\n",
    "    # Add the record to history\n",
    "    history.append((a, r))\n",
    "\n",
    "# Q Learning matrix for the initial state\n",
    "target_q = torch.zeros((65,), dtype=torch.float)\n",
    "\n",
    "# Add the reward and action for each game in history\n",
    "# NOTE: ça overwrite si y'a plusieurs valeurs\n",
    "for (a, r) in history:\n",
    "    target_q[a] = r\n",
    "\n",
    "print(\"Target Q matrix:\")\n",
    "render_q(target_q.tolist())\n",
    "\n",
    "# Toggle on train mode\n",
    "model.train()\n",
    "\n",
    "for i_batch in range(1):\n",
    "    # Compute loss on the difference between model output and target_q\n",
    "    q_pred = model(torch.tensor(initial_s, dtype=torch.float))\n",
    "    loss = criterion(torch.tensor(target_q, dtype=torch.float), q_pred)\n",
    "\n",
    "    # Let the optimizer do the backprop\n",
    "    optimizer.zero_grad()\n",
    "    loss.backward()\n",
    "    optimizer.step()\n",
    "\n",
    "# Render model after the training\n",
    "print(f\"Q_matrix of initial state, after training:\")\n",
    "q_pred = model(torch.tensor(initial_s, dtype=torch.float))\n",
    "render_q(q_pred.tolist()[0])"
   ]
  },
  {
   "source": [
    "## Troisième étape : à combien de coup est-ce que l'agent \"comprend\" le premier état ?"
   ],
   "cell_type": "markdown",
   "metadata": {}
  },
  {
   "cell_type": "code",
   "execution_count": 19,
   "metadata": {},
   "outputs": [
    {
     "output_type": "stream",
     "name": "stdout",
     "text": [
      "Target Q matrix: step 1\n"
     ]
    },
    {
     "output_type": "display_data",
     "data": {
      "text/plain": "<PIL.Image.Image image mode=RGBA size=128x128 at 0x1CCA4E80A30>",
      "image/png": "[encoded data removed]"
     },
     "metadata": {}
    },
    {
     "output_type": "stream",
     "name": "stdout",
     "text": [
      "Q_matrix of initial state, after training: step 1\n"
     ]
    },
    {
     "output_type": "display_data",
     "data": {
      "text/plain": "<PIL.Image.Image image mode=RGBA size=128x128 at 0x1CCA4E80100>",
      "image/png": "[encoded data removed]"
     },
     "metadata": {}
    },
    {
     "output_type": "stream",
     "name": "stdout",
     "text": [
      "Target Q matrix: step 11\n"
     ]
    },
    {
     "output_type": "display_data",
     "data": {
      "text/plain": "<PIL.Image.Image image mode=RGBA size=128x128 at 0x1CCA4E80280>",
      "image/png": "[encoded data removed]"
     },
     "metadata": {}
    },
    {
     "output_type": "stream",
     "name": "stdout",
     "text": [
      "Q_matrix of initial state, after training: step 11\n"
     ]
    },
    {
     "output_type": "display_data",
     "data": {
      "text/plain": "<PIL.Image.Image image mode=RGBA size=128x128 at 0x1CCA4E80A30>",
      "image/png": "[encoded data removed]"
     },
     "metadata": {}
    },
    {
     "output_type": "stream",
     "name": "stdout",
     "text": [
      "Target Q matrix: step 21\n"
     ]
    },
    {
     "output_type": "display_data",
     "data": {
      "text/plain": "<PIL.Image.Image image mode=RGBA size=128x128 at 0x1CCA4E80100>",
      "image/png": "[encoded data removed]"
     },
     "metadata": {}
    },
    {
     "output_type": "stream",
     "name": "stdout",
     "text": [
      "Q_matrix of initial state, after training: step 21\n"
     ]
    },
    {
     "output_type": "display_data",
     "data": {
      "text/plain": "<PIL.Image.Image image mode=RGBA size=128x128 at 0x1CCA4E80100>",
      "image/png": "[encoded data removed]"
     },
     "metadata": {}
    },
    {
     "output_type": "stream",
     "name": "stdout",
     "text": [
      "Target Q matrix: step 31\n"
     ]
    },
    {
     "output_type": "display_data",
     "data": {
      "text/plain": "<PIL.Image.Image image mode=RGBA size=128x128 at 0x1CCA4E80A30>",
      "image/png": "[encoded data removed]"
     },
     "metadata": {}
    },
    {
     "output_type": "stream",
     "name": "stdout",
     "text": [
      "Q_matrix of initial state, after training: step 31\n"
     ]
    },
    {
     "output_type": "display_data",
     "data": {
      "text/plain": "<PIL.Image.Image image mode=RGBA size=128x128 at 0x1CCA4E80100>",
      "image/png": "[encoded data removed]"
     },
     "metadata": {}
    },
    {
     "output_type": "stream",
     "name": "stdout",
     "text": [
      "Target Q matrix: step 41\n"
     ]
    },
    {
     "output_type": "display_data",
     "data": {
      "text/plain": "<PIL.Image.Image image mode=RGBA size=128x128 at 0x1CCA4E4EA30>",
      "image/png": "[encoded data removed]"
     },
     "metadata": {}
    },
    {
     "output_type": "stream",
     "name": "stdout",
     "text": [
      "Q_matrix of initial state, after training: step 41\n"
     ]
    },
    {
     "output_type": "display_data",
     "data": {
      "text/plain": "<PIL.Image.Image image mode=RGBA size=128x128 at 0x1CCA4E80100>",
      "image/png": "[encoded data removed]"
     },
     "metadata": {}
    },
    {
     "output_type": "stream",
     "name": "stdout",
     "text": [
      "Target Q matrix: step 51\n"
     ]
    },
    {
     "output_type": "display_data",
     "data": {
      "text/plain": "<PIL.Image.Image image mode=RGBA size=128x128 at 0x1CCA4E4EE20>",
      "image/png": "[encoded data removed]"
     },
     "metadata": {}
    },
    {
     "output_type": "stream",
     "name": "stdout",
     "text": [
      "Q_matrix of initial state, after training: step 51\n"
     ]
    },
    {
     "output_type": "display_data",
     "data": {
      "text/plain": "<PIL.Image.Image image mode=RGBA size=128x128 at 0x1CCA4E4EA30>",
      "image/png": "[encoded data removed]"
     },
     "metadata": {}
    },
    {
     "output_type": "stream",
     "name": "stdout",
     "text": [
      "Target Q matrix: step 61\n"
     ]
    },
    {
     "output_type": "display_data",
     "data": {
      "text/plain": "<PIL.Image.Image image mode=RGBA size=128x128 at 0x1CCA4E80100>",
      "image/png": "[encoded data removed]"
     },
     "metadata": {}
    },
    {
     "output_type": "stream",
     "name": "stdout",
     "text": [
      "Q_matrix of initial state, after training: step 61\n"
     ]
    },
    {
     "output_type": "display_data",
     "data": {
      "text/plain": "<PIL.Image.Image image mode=RGBA size=128x128 at 0x1CCA4E4EE20>",
      "image/png": "[encoded data removed]"
     },
     "metadata": {}
    },
    {
     "output_type": "stream",
     "name": "stdout",
     "text": [
      "Target Q matrix: step 71\n"
     ]
    },
    {
     "output_type": "display_data",
     "data": {
      "text/plain": "<PIL.Image.Image image mode=RGBA size=128x128 at 0x1CCA4E4EA30>",
      "image/png": "[encoded data removed]"
     },
     "metadata": {}
    },
    {
     "output_type": "stream",
     "name": "stdout",
     "text": [
      "Q_matrix of initial state, after training: step 71\n"
     ]
    },
    {
     "output_type": "display_data",
     "data": {
      "text/plain": "<PIL.Image.Image image mode=RGBA size=128x128 at 0x1CCA4E4EE20>",
      "image/png": "[encoded data removed]"
     },
     "metadata": {}
    },
    {
     "output_type": "stream",
     "name": "stdout",
     "text": [
      "Target Q matrix: step 81\n"
     ]
    },
    {
     "output_type": "display_data",
     "data": {
      "text/plain": "<PIL.Image.Image image mode=RGBA size=128x128 at 0x1CCA4E4E8B0>",
      "image/png": "[encoded data removed]"
     },
     "metadata": {}
    },
    {
     "output_type": "stream",
     "name": "stdout",
     "text": [
      "Q_matrix of initial state, after training: step 81\n"
     ]
    },
    {
     "output_type": "display_data",
     "data": {
      "text/plain": "<PIL.Image.Image image mode=RGBA size=128x128 at 0x1CCA4E4EA30>",
      "image/png": "[encoded data removed]"
     },
     "metadata": {}
    },
    {
     "output_type": "stream",
     "name": "stdout",
     "text": [
      "Target Q matrix: step 91\n"
     ]
    },
    {
     "output_type": "display_data",
     "data": {
      "text/plain": "<PIL.Image.Image image mode=RGBA size=128x128 at 0x1CCA4E80100>",
      "image/png": "[encoded data removed]"
     },
     "metadata": {}
    },
    {
     "output_type": "stream",
     "name": "stdout",
     "text": [
      "Q_matrix of initial state, after training: step 91\n"
     ]
    },
    {
     "output_type": "display_data",
     "data": {
      "text/plain": "<PIL.Image.Image image mode=RGBA size=128x128 at 0x1CCA4E4E460>",
      "image/png": "[encoded data removed]"
     },
     "metadata": {}
    },
    {
     "output_type": "stream",
     "name": "stdout",
     "text": [
      "Target Q matrix: step 101\n"
     ]
    },
    {
     "output_type": "display_data",
     "data": {
      "text/plain": "<PIL.Image.Image image mode=RGBA size=128x128 at 0x1CCA4E4EA30>",
      "image/png": "[encoded data removed]"
     },
     "metadata": {}
    },
    {
     "output_type": "stream",
     "name": "stdout",
     "text": [
      "Q_matrix of initial state, after training: step 101\n"
     ]
    },
    {
     "output_type": "display_data",
     "data": {
      "text/plain": "<PIL.Image.Image image mode=RGBA size=128x128 at 0x1CCA4E4E8B0>",
      "image/png": "[encoded data removed]"
     },
     "metadata": {}
    },
    {
     "output_type": "stream",
     "name": "stdout",
     "text": [
      "Target Q matrix: step 111\n"
     ]
    },
    {
     "output_type": "display_data",
     "data": {
      "text/plain": "<PIL.Image.Image image mode=RGBA size=128x128 at 0x1CCA4E80100>",
      "image/png": "[encoded data removed]"
     },
     "metadata": {}
    },
    {
     "output_type": "stream",
     "name": "stdout",
     "text": [
      "Q_matrix of initial state, after training: step 111\n"
     ]
    },
    {
     "output_type": "display_data",
     "data": {
      "text/plain": "<PIL.Image.Image image mode=RGBA size=128x128 at 0x1CCA4E4E8B0>",
      "image/png": "[encoded data removed]"
     },
     "metadata": {}
    },
    {
     "output_type": "stream",
     "name": "stdout",
     "text": [
      "Target Q matrix: step 121\n"
     ]
    },
    {
     "output_type": "display_data",
     "data": {
      "text/plain": "<PIL.Image.Image image mode=RGBA size=128x128 at 0x1CCA4E4EE20>",
      "image/png": "[encoded data removed]"
     },
     "metadata": {}
    },
    {
     "output_type": "stream",
     "name": "stdout",
     "text": [
      "Q_matrix of initial state, after training: step 121\n"
     ]
    },
    {
     "output_type": "display_data",
     "data": {
      "text/plain": "<PIL.Image.Image image mode=RGBA size=128x128 at 0x1CCA4E4EA90>",
      "image/png": "[encoded data removed]"
     },
     "metadata": {}
    },
    {
     "output_type": "stream",
     "name": "stdout",
     "text": [
      "Target Q matrix: step 131\n"
     ]
    },
    {
     "output_type": "display_data",
     "data": {
      "text/plain": "<PIL.Image.Image image mode=RGBA size=128x128 at 0x1CCA4E4EA90>",
      "image/png": "[encoded data removed]"
     },
     "metadata": {}
    },
    {
     "output_type": "stream",
     "name": "stdout",
     "text": [
      "Q_matrix of initial state, after training: step 131\n"
     ]
    },
    {
     "output_type": "display_data",
     "data": {
      "text/plain": "<PIL.Image.Image image mode=RGBA size=128x128 at 0x1CCA4E4EE20>",
      "image/png": "[encoded data removed]"
     },
     "metadata": {}
    },
    {
     "output_type": "stream",
     "name": "stdout",
     "text": [
      "Target Q matrix: step 141\n"
     ]
    },
    {
     "output_type": "display_data",
     "data": {
      "text/plain": "<PIL.Image.Image image mode=RGBA size=128x128 at 0x1CCA4E4E8B0>",
      "image/png": "[encoded data removed]"
     },
     "metadata": {}
    },
    {
     "output_type": "stream",
     "name": "stdout",
     "text": [
      "Q_matrix of initial state, after training: step 141\n"
     ]
    },
    {
     "output_type": "display_data",
     "data": {
      "text/plain": "<PIL.Image.Image image mode=RGBA size=128x128 at 0x1CCA4E4EE20>",
      "image/png": "[encoded data removed]"
     },
     "metadata": {}
    },
    {
     "output_type": "stream",
     "name": "stdout",
     "text": [
      "Target Q matrix: step 151\n"
     ]
    },
    {
     "output_type": "display_data",
     "data": {
      "text/plain": "<PIL.Image.Image image mode=RGBA size=128x128 at 0x1CCA4E4E8B0>",
      "image/png": "[encoded data removed]"
     },
     "metadata": {}
    },
    {
     "output_type": "stream",
     "name": "stdout",
     "text": [
      "Q_matrix of initial state, after training: step 151\n"
     ]
    },
    {
     "output_type": "display_data",
     "data": {
      "text/plain": "<PIL.Image.Image image mode=RGBA size=128x128 at 0x1CCA4E4EE20>",
      "image/png": "[encoded data removed]"
     },
     "metadata": {}
    },
    {
     "output_type": "stream",
     "name": "stdout",
     "text": [
      "Target Q matrix: step 161\n"
     ]
    },
    {
     "output_type": "display_data",
     "data": {
      "text/plain": "<PIL.Image.Image image mode=RGBA size=128x128 at 0x1CCA4E4EA30>",
      "image/png": "[encoded data removed]"
     },
     "metadata": {}
    },
    {
     "output_type": "stream",
     "name": "stdout",
     "text": [
      "Q_matrix of initial state, after training: step 161\n"
     ]
    },
    {
     "output_type": "display_data",
     "data": {
      "text/plain": "<PIL.Image.Image image mode=RGBA size=128x128 at 0x1CCA4E4EA90>",
      "image/png": "[encoded data removed]"
     },
     "metadata": {}
    },
    {
     "output_type": "stream",
     "name": "stdout",
     "text": [
      "Target Q matrix: step 171\n"
     ]
    },
    {
     "output_type": "display_data",
     "data": {
      "text/plain": "<PIL.Image.Image image mode=RGBA size=128x128 at 0x1CCA4E4EE20>",
      "image/png": "[encoded data removed]"
     },
     "metadata": {}
    },
    {
     "output_type": "stream",
     "name": "stdout",
     "text": [
      "Q_matrix of initial state, after training: step 171\n"
     ]
    },
    {
     "output_type": "display_data",
     "data": {
      "text/plain": "<PIL.Image.Image image mode=RGBA size=128x128 at 0x1CCA4E4EA90>",
      "image/png": "[encoded data removed]"
     },
     "metadata": {}
    },
    {
     "output_type": "stream",
     "name": "stdout",
     "text": [
      "Target Q matrix: step 181\n"
     ]
    },
    {
     "output_type": "display_data",
     "data": {
      "text/plain": "<PIL.Image.Image image mode=RGBA size=128x128 at 0x1CCA4E4E8B0>",
      "image/png": "[encoded data removed]"
     },
     "metadata": {}
    },
    {
     "output_type": "stream",
     "name": "stdout",
     "text": [
      "Q_matrix of initial state, after training: step 181\n"
     ]
    },
    {
     "output_type": "display_data",
     "data": {
      "text/plain": "<PIL.Image.Image image mode=RGBA size=128x128 at 0x1CCA4E4EA90>",
      "image/png": "[encoded data removed]"
     },
     "metadata": {}
    },
    {
     "output_type": "stream",
     "name": "stdout",
     "text": [
      "Target Q matrix: step 191\n"
     ]
    },
    {
     "output_type": "display_data",
     "data": {
      "text/plain": "<PIL.Image.Image image mode=RGBA size=128x128 at 0x1CCA4E80100>",
      "image/png": "[encoded data removed]"
     },
     "metadata": {}
    },
    {
     "output_type": "stream",
     "name": "stdout",
     "text": [
      "Q_matrix of initial state, after training: step 191\n"
     ]
    },
    {
     "output_type": "display_data",
     "data": {
      "text/plain": "<PIL.Image.Image image mode=RGBA size=128x128 at 0x1CCA4E4EA90>",
      "image/png": "[encoded data removed]"
     },
     "metadata": {}
    },
    {
     "output_type": "stream",
     "name": "stdout",
     "text": [
      "Target Q matrix: step 201\n"
     ]
    },
    {
     "output_type": "display_data",
     "data": {
      "text/plain": "<PIL.Image.Image image mode=RGBA size=128x128 at 0x1CCA4E80100>",
      "image/png": "[encoded data removed]"
     },
     "metadata": {}
    },
    {
     "output_type": "stream",
     "name": "stdout",
     "text": [
      "Q_matrix of initial state, after training: step 201\n"
     ]
    },
    {
     "output_type": "display_data",
     "data": {
      "text/plain": "<PIL.Image.Image image mode=RGBA size=128x128 at 0x1CCA4E4EA30>",
      "image/png": "[encoded data removed]"
     },
     "metadata": {}
    },
    {
     "output_type": "stream",
     "name": "stdout",
     "text": [
      "Target Q matrix: step 211\n"
     ]
    },
    {
     "output_type": "display_data",
     "data": {
      "text/plain": "<PIL.Image.Image image mode=RGBA size=128x128 at 0x1CCA4E4EE20>",
      "image/png": "[encoded data removed]"
     },
     "metadata": {}
    },
    {
     "output_type": "stream",
     "name": "stdout",
     "text": [
      "Q_matrix of initial state, after training: step 211\n"
     ]
    },
    {
     "output_type": "display_data",
     "data": {
      "text/plain": "<PIL.Image.Image image mode=RGBA size=128x128 at 0x1CCA4E4E8B0>",
      "image/png": "[encoded data removed]"
     },
     "metadata": {}
    },
    {
     "output_type": "stream",
     "name": "stdout",
     "text": [
      "Target Q matrix: step 221\n"
     ]
    },
    {
     "output_type": "display_data",
     "data": {
      "text/plain": "<PIL.Image.Image image mode=RGBA size=128x128 at 0x1CCA4E4EE20>",
      "image/png": "[encoded data removed]"
     },
     "metadata": {}
    },
    {
     "output_type": "stream",
     "name": "stdout",
     "text": [
      "Q_matrix of initial state, after training: step 221\n"
     ]
    },
    {
     "output_type": "display_data",
     "data": {
      "text/plain": "<PIL.Image.Image image mode=RGBA size=128x128 at 0x1CCA4E4EA30>",
      "image/png": "[encoded data removed]"
     },
     "metadata": {}
    }
   ],
   "source": [
    "# New model\n",
    "board = Board()\n",
    "model = Model()\n",
    "learning_rate = 0.3\n",
    "batch_size = 32\n",
    "n_epochs = 256 # On aura pas joué tous les coups mais OK\n",
    "max_history = 64\n",
    "criterion = torch.nn.MSELoss()\n",
    "optimizer = torch.optim.SGD(model.parameters(), lr=learning_rate)\n",
    "\n",
    "# (Action, Reward) container for each action\n",
    "history = []\n",
    "\n",
    "# Populating the history with every possible move\n",
    "for i_epoch in range(n_epochs):\n",
    "    # Reset the board\n",
    "    initial_s, _ = board.reset()\n",
    "    initial_s = torch.tensor(initial_s, dtype=torch.float).unsqueeze(0)\n",
    "\n",
    "    # Play a random action\n",
    "    a = torch.randint(0, 65, (1,)).item()\n",
    "    encoded_a = encode_action(a)\n",
    "\n",
    "    # Perform the action in the game\n",
    "    s, signal = board.step(encoded_a)\n",
    "\n",
    "    # Process the signal\n",
    "    r = reward_from_signal(signal, board)\n",
    "\n",
    "    # Add the record to history\n",
    "    history.append((a, r))\n",
    "\n",
    "    # Continue playing if we don't have enough moves to learn in the history\n",
    "    if len(history) <= batch_size:\n",
    "        continue\n",
    "\n",
    "    # Keep history the wanted size removing first element in list\n",
    "        if len(history) > max_history:\n",
    "            history.pop(0)\n",
    "\n",
    "    # Add the reward and action for each game in history\n",
    "    # NOTE: ça overwrite si y'a plusieurs valeurs, donc batch_size devrait être < 65\n",
    "    # TODO: moyenne des valeurs ? pas d'overwrite ?\n",
    "    targets = torch.zeros(batch_size, 65)\n",
    "    inputs = torch.zeros(batch_size, 2, 8, 8)\n",
    "    for i_batch, (a, r) in enumerate(random.sample(history, batch_size)):\n",
    "        # Q Learning matrix for the initial state\n",
    "        # NOTE: Je pense qu'il faudrait partir de la prédiction du modèle\n",
    "        # et y ajouter les rewards, les cases où il y a 0 peuvent peut-être\n",
    "        # poser problème\n",
    "        target_q = torch.zeros((65,), dtype=torch.float)#model(initial_s).view(-1)# torch.zeros((65,), dtype=torch.float)\n",
    "        target_q[a] = r\n",
    "        targets[i_batch] = target_q\n",
    "        inputs[i_batch] = initial_s\n",
    "\n",
    "    # Toggle on train mode\n",
    "    model.train()\n",
    "\n",
    "    # for i_batch in range(4):\n",
    "    # Compute loss on the difference between model output and target_q\n",
    "    inputs = torch.tensor(inputs)\n",
    "    targets = torch.tensor(targets)\n",
    "    q_pred = model(inputs)        \n",
    "    q_pred = torch.clip(q_pred, -3, 3)\n",
    "    loss = criterion(targets, q_pred)\n",
    "\n",
    "    # Let the optimizer do the backprop\n",
    "    optimizer.zero_grad()\n",
    "    loss.backward()\n",
    "    optimizer.step()\n",
    "\n",
    "    if (i_epoch - batch_size) % 10 == 0:\n",
    "        print(f\"Target Q matrix: step {i_epoch - batch_size + 1}\")\n",
    "        render_q(target_q.tolist())\n",
    "\n",
    "        print(f\"Q_matrix of initial state, after training: step {i_epoch - batch_size + 1}\")\n",
    "        q_pred = model(torch.tensor(initial_s, dtype=torch.float))\n",
    "        render_q(q_pred.tolist()[0])"
   ]
  },
  {
   "source": [
    "## Etape 4 : mouvements futurs et epsilon"
   ],
   "cell_type": "markdown",
   "metadata": {}
  },
  {
   "cell_type": "code",
   "execution_count": 16,
   "metadata": {
    "tags": []
   },
   "outputs": [
    {
     "output_type": "stream",
     "name": "stdout",
     "text": [
      "Epoch 0 \t reward: -0.5 \t length 1 \t mean_length 1.0 \t epsilon 0.9\n",
      "Epoch 1 \t reward: -0.5 \t length 1 \t mean_length 1.0 \t epsilon 0.89\n",
      "Epoch 2 \t reward: -0.5 \t length 1 \t mean_length 1.0 \t epsilon 0.89\n",
      "Epoch 3 \t reward: -0.5 \t length 1 \t mean_length 1.0 \t epsilon 0.89\n",
      "Epoch 4 \t reward: -0.5 \t length 1 \t mean_length 1.0 \t epsilon 0.89\n",
      "Epoch 5 \t reward: -0.5 \t length 1 \t mean_length 1.0 \t epsilon 0.89\n",
      "Epoch 6 \t reward: -0.5 \t length 1 \t mean_length 1.0 \t epsilon 0.89\n",
      "Epoch 7 \t reward: -0.5 \t length 1 \t mean_length 1.0 \t epsilon 0.89\n",
      "Epoch 8 \t reward: -0.5 \t length 1 \t mean_length 1.0 \t epsilon 0.89\n",
      "Epoch 9 \t reward: -0.5 \t length 1 \t mean_length 1.0 \t epsilon 0.89\n",
      "Epoch 10 \t reward: -0.5 \t length 1 \t mean_length 1.0 \t epsilon 0.89\n",
      "Epoch 11 \t reward: -0.5 \t length 1 \t mean_length 1.0 \t epsilon 0.89\n",
      "Epoch 12 \t reward: -0.5 \t length 1 \t mean_length 1.0 \t epsilon 0.89\n",
      "Epoch 13 \t reward: -0.5 \t length 1 \t mean_length 1.0 \t epsilon 0.88\n",
      "Epoch 14 \t reward: -0.5 \t length 1 \t mean_length 1.0 \t epsilon 0.88\n",
      "Epoch 15 \t reward: -0.5 \t length 1 \t mean_length 1.0 \t epsilon 0.88\n",
      "Epoch 16 \t reward: -0.5 \t length 1 \t mean_length 1.0 \t epsilon 0.88\n",
      "Epoch 17 \t reward: -0.5 \t length 1 \t mean_length 1.0 \t epsilon 0.88\n",
      "Epoch 18 \t reward: -0.5 \t length 1 \t mean_length 1.0 \t epsilon 0.88\n",
      "Epoch 19 \t reward: -0.5 \t length 1 \t mean_length 1.0 \t epsilon 0.88\n",
      "Epoch 20 \t reward: -0.5 \t length 1 \t mean_length 1.0 \t epsilon 0.88\n",
      "Epoch 21 \t reward: -0.5 \t length 1 \t mean_length 1.0 \t epsilon 0.88\n",
      "Epoch 22 \t reward: -0.5 \t length 1 \t mean_length 1.0 \t epsilon 0.88\n",
      "Epoch 23 \t reward: -0.5 \t length 1 \t mean_length 1.0 \t epsilon 0.88\n",
      "Epoch 24 \t reward: -0.5 \t length 1 \t mean_length 1.0 \t epsilon 0.88\n",
      "Epoch 25 \t reward: -0.5 \t length 1 \t mean_length 1.0 \t epsilon 0.87\n",
      "Epoch 26 \t reward: -0.5 \t length 1 \t mean_length 1.0 \t epsilon 0.87\n",
      "Epoch 27 \t reward: -0.5 \t length 1 \t mean_length 1.0 \t epsilon 0.87\n",
      "Epoch 28 \t reward: -0.5 \t length 1 \t mean_length 1.0 \t epsilon 0.87\n",
      "Epoch 29 \t reward: -0.5 \t length 1 \t mean_length 1.0 \t epsilon 0.87\n",
      "Epoch 30 \t reward: -0.5 \t length 1 \t mean_length 1.0 \t epsilon 0.87\n",
      "Epoch 31 \t reward: -0.5 \t length 1 \t mean_length 1.0 \t epsilon 0.87\n",
      "Epoch 32 \t reward: -0.5 \t length 1 \t mean_length 1.0 \t epsilon 0.87\n",
      "Epoch 33 \t reward: -0.5 \t length 1 \t mean_length 1.0 \t epsilon 0.87\n",
      "Epoch 34 \t reward: -0.5 \t length 1 \t mean_length 1.0 \t epsilon 0.87\n",
      "Epoch 35 \t reward: -0.5 \t length 1 \t mean_length 1.0 \t epsilon 0.87\n",
      "Epoch 36 \t reward: -0.5 \t length 1 \t mean_length 1.0 \t epsilon 0.87\n",
      "Epoch 37 \t reward: -0.5 \t length 1 \t mean_length 1.0 \t epsilon 0.86\n",
      "Epoch 38 \t reward: -0.5 \t length 1 \t mean_length 1.0 \t epsilon 0.86\n",
      "Epoch 39 \t reward: -0.5 \t length 1 \t mean_length 1.0 \t epsilon 0.86\n",
      "Epoch 40 \t reward: 1.5 \t length 2 \t mean_length 1.02 \t epsilon 0.86\n",
      "Epoch 41 \t reward: -0.5 \t length 1 \t mean_length 1.02 \t epsilon 0.86\n",
      "Epoch 42 \t reward: -0.5 \t length 1 \t mean_length 1.02 \t epsilon 0.86\n",
      "Epoch 43 \t reward: -0.5 \t length 1 \t mean_length 1.02 \t epsilon 0.86\n",
      "Epoch 44 \t reward: -0.5 \t length 1 \t mean_length 1.02 \t epsilon 0.86\n",
      "Epoch 45 \t reward: -0.5 \t length 1 \t mean_length 1.02 \t epsilon 0.86\n",
      "Epoch 46 \t reward: -0.5 \t length 1 \t mean_length 1.02 \t epsilon 0.86\n",
      "Epoch 47 \t reward: -0.5 \t length 1 \t mean_length 1.02 \t epsilon 0.86\n",
      "Epoch 48 \t reward: -0.5 \t length 1 \t mean_length 1.02 \t epsilon 0.86\n",
      "Epoch 49 \t reward: -0.5 \t length 1 \t mean_length 1.02 \t epsilon 0.86\n",
      "Epoch 50 \t reward: -0.5 \t length 1 \t mean_length 1.01 \t epsilon 0.85\n",
      "Epoch 51 \t reward: -0.5 \t length 1 \t mean_length 1.02 \t epsilon 0.85\n",
      "Epoch 52 \t reward: -0.5 \t length 1 \t mean_length 1.01 \t epsilon 0.85\n",
      "Epoch 53 \t reward: -0.5 \t length 1 \t mean_length 1.02 \t epsilon 0.85\n",
      "Epoch 54 \t reward: -0.5 \t length 1 \t mean_length 1.01 \t epsilon 0.85\n",
      "Epoch 55 \t reward: -0.5 \t length 1 \t mean_length 1.02 \t epsilon 0.85\n",
      "Epoch 56 \t reward: -0.5 \t length 1 \t mean_length 1.01 \t epsilon 0.85\n",
      "Epoch 57 \t reward: -0.5 \t length 1 \t mean_length 1.02 \t epsilon 0.85\n",
      "Epoch 58 \t reward: -0.5 \t length 1 \t mean_length 1.01 \t epsilon 0.85\n",
      "Epoch 59 \t reward: -0.5 \t length 1 \t mean_length 1.02 \t epsilon 0.85\n",
      "Epoch 60 \t reward: -0.5 \t length 1 \t mean_length 1.01 \t epsilon 0.85\n",
      "Epoch 61 \t reward: -0.5 \t length 1 \t mean_length 1.02 \t epsilon 0.85\n",
      "Epoch 62 \t reward: -0.5 \t length 1 \t mean_length 1.01 \t epsilon 0.85\n",
      "Epoch 63 \t reward: -0.5 \t length 1 \t mean_length 1.02 \t epsilon 0.84\n",
      "Epoch 64 \t reward: -0.5 \t length 1 \t mean_length 1.01 \t epsilon 0.84\n",
      "Epoch 65 \t reward: -0.5 \t length 1 \t mean_length 1.02 \t epsilon 0.84\n",
      "Q_matrix of initial state, after training: step 1\n"
     ]
    },
    {
     "output_type": "display_data",
     "data": {
      "text/plain": "<PIL.Image.Image image mode=RGBA size=128x128 at 0x1978F606970>",
      "image/png": "[encoded data removed]"
     },
     "metadata": {}
    },
    {
     "output_type": "stream",
     "name": "stdout",
     "text": [
      "29\n"
     ]
    },
    {
     "output_type": "display_data",
     "data": {
      "text/plain": "<PIL.Image.Image image mode=RGBA size=128x128 at 0x1978F606F40>",
      "image/png": "[encoded data removed]"
     },
     "metadata": {}
    },
    {
     "output_type": "stream",
     "name": "stdout",
     "text": [
      "-------------\n"
     ]
    },
    {
     "output_type": "display_data",
     "data": {
      "text/plain": "<PIL.Image.Image image mode=RGBA size=128x128 at 0x1978F606E20>",
      "image/png": "[encoded data removed]"
     },
     "metadata": {}
    },
    {
     "output_type": "stream",
     "name": "stdout",
     "text": [
      "29\n",
      "Epoch 66 \t reward: -0.5 \t length 1 \t mean_length 1.01 \t epsilon 0.84\n",
      "Epoch 67 \t reward: -0.5 \t length 1 \t mean_length 1.02 \t epsilon 0.84\n",
      "Epoch 68 \t reward: -0.5 \t length 1 \t mean_length 1.01 \t epsilon 0.84\n",
      "Epoch 69 \t reward: -0.5 \t length 1 \t mean_length 1.02 \t epsilon 0.84\n",
      "Epoch 70 \t reward: -0.5 \t length 1 \t mean_length 1.01 \t epsilon 0.84\n",
      "Epoch 71 \t reward: -0.5 \t length 1 \t mean_length 1.02 \t epsilon 0.84\n",
      "Epoch 72 \t reward: -0.5 \t length 1 \t mean_length 1.01 \t epsilon 0.84\n",
      "Epoch 73 \t reward: -0.5 \t length 1 \t mean_length 1.02 \t epsilon 0.84\n",
      "Epoch 74 \t reward: -0.5 \t length 1 \t mean_length 1.01 \t epsilon 0.84\n",
      "Epoch 75 \t reward: -0.5 \t length 1 \t mean_length 1.02 \t epsilon 0.83\n",
      "Epoch 76 \t reward: -0.5 \t length 1 \t mean_length 1.01 \t epsilon 0.83\n",
      "Epoch 77 \t reward: -0.5 \t length 1 \t mean_length 1.02 \t epsilon 0.83\n",
      "Epoch 78 \t reward: 1.5 \t length 2 \t mean_length 1.03 \t epsilon 0.83\n",
      "Epoch 79 \t reward: -0.5 \t length 1 \t mean_length 1.04 \t epsilon 0.83\n",
      "Epoch 80 \t reward: -0.5 \t length 1 \t mean_length 1.03 \t epsilon 0.83\n",
      "Epoch 81 \t reward: -0.5 \t length 1 \t mean_length 1.04 \t epsilon 0.83\n",
      "Epoch 82 \t reward: -0.5 \t length 1 \t mean_length 1.03 \t epsilon 0.83\n",
      "Epoch 83 \t reward: -0.5 \t length 1 \t mean_length 1.04 \t epsilon 0.83\n",
      "Epoch 84 \t reward: -0.5 \t length 1 \t mean_length 1.03 \t epsilon 0.83\n",
      "Epoch 85 \t reward: 1.5 \t length 2 \t mean_length 1.04 \t epsilon 0.83\n",
      "Epoch 86 \t reward: 1.5 \t length 2 \t mean_length 1.05 \t epsilon 0.83\n",
      "Epoch 87 \t reward: -0.5 \t length 1 \t mean_length 1.06 \t epsilon 0.83\n",
      "Epoch 88 \t reward: 1.5 \t length 2 \t mean_length 1.07 \t epsilon 0.83\n",
      "Epoch 89 \t reward: -0.5 \t length 1 \t mean_length 1.08 \t epsilon 0.82\n",
      "Epoch 90 \t reward: 1.5 \t length 2 \t mean_length 1.09 \t epsilon 0.82\n",
      "Epoch 91 \t reward: -0.5 \t length 1 \t mean_length 1.1 \t epsilon 0.82\n",
      "Epoch 92 \t reward: -0.5 \t length 1 \t mean_length 1.09 \t epsilon 0.82\n",
      "Epoch 93 \t reward: -0.5 \t length 1 \t mean_length 1.1 \t epsilon 0.82\n",
      "Epoch 94 \t reward: 1.5 \t length 2 \t mean_length 1.11 \t epsilon 0.82\n",
      "Epoch 95 \t reward: -0.5 \t length 1 \t mean_length 1.12 \t epsilon 0.82\n",
      "Epoch 96 \t reward: -0.5 \t length 1 \t mean_length 1.11 \t epsilon 0.82\n",
      "Epoch 97 \t reward: -0.5 \t length 1 \t mean_length 1.12 \t epsilon 0.82\n",
      "Epoch 98 \t reward: -0.5 \t length 1 \t mean_length 1.11 \t epsilon 0.82\n",
      "Epoch 99 \t reward: -0.5 \t length 1 \t mean_length 1.12 \t epsilon 0.82\n",
      "Epoch 100 \t reward: -0.5 \t length 1 \t mean_length 1.11 \t epsilon 0.82\n",
      "Epoch 101 \t reward: 1.5 \t length 2 \t mean_length 1.12 \t epsilon 0.82\n",
      "Epoch 102 \t reward: -0.5 \t length 1 \t mean_length 1.11 \t epsilon 0.81\n",
      "Epoch 103 \t reward: 1.5 \t length 2 \t mean_length 1.12 \t epsilon 0.81\n",
      "Epoch 104 \t reward: -0.5 \t length 1 \t mean_length 1.11 \t epsilon 0.81\n",
      "Epoch 105 \t reward: -0.5 \t length 1 \t mean_length 1.12 \t epsilon 0.81\n",
      "Epoch 106 \t reward: -0.5 \t length 1 \t mean_length 1.11 \t epsilon 0.81\n",
      "Epoch 107 \t reward: -0.5 \t length 1 \t mean_length 1.12 \t epsilon 0.81\n",
      "Epoch 108 \t reward: -0.5 \t length 1 \t mean_length 1.11 \t epsilon 0.81\n",
      "Epoch 109 \t reward: 1.5 \t length 2 \t mean_length 1.12 \t epsilon 0.81\n",
      "Epoch 110 \t reward: -0.5 \t length 1 \t mean_length 1.11 \t epsilon 0.81\n",
      "Epoch 111 \t reward: -0.5 \t length 1 \t mean_length 1.12 \t epsilon 0.81\n",
      "Epoch 112 \t reward: -0.5 \t length 1 \t mean_length 1.11 \t epsilon 0.81\n",
      "Epoch 113 \t reward: 1.5 \t length 2 \t mean_length 1.12 \t epsilon 0.81\n",
      "Epoch 114 \t reward: 1.5 \t length 2 \t mean_length 1.13 \t epsilon 0.81\n",
      "Epoch 115 \t reward: 1.5 \t length 2 \t mean_length 1.13 \t epsilon 0.8\n",
      "Epoch 116 \t reward: -0.5 \t length 1 \t mean_length 1.13 \t epsilon 0.8\n",
      "Epoch 117 \t reward: -0.5 \t length 1 \t mean_length 1.13 \t epsilon 0.8\n",
      "Epoch 118 \t reward: -0.5 \t length 1 \t mean_length 1.13 \t epsilon 0.8\n",
      "Epoch 119 \t reward: -0.5 \t length 1 \t mean_length 1.13 \t epsilon 0.8\n",
      "Epoch 120 \t reward: 1.5 \t length 2 \t mean_length 1.15 \t epsilon 0.8\n",
      "Epoch 121 \t reward: -0.5 \t length 1 \t mean_length 1.15 \t epsilon 0.8\n",
      "Epoch 122 \t reward: -0.5 \t length 1 \t mean_length 1.15 \t epsilon 0.8\n",
      "Epoch 123 \t reward: -0.5 \t length 1 \t mean_length 1.15 \t epsilon 0.8\n",
      "Epoch 124 \t reward: -0.5 \t length 1 \t mean_length 1.15 \t epsilon 0.8\n",
      "Epoch 125 \t reward: -0.5 \t length 1 \t mean_length 1.15 \t epsilon 0.8\n",
      "Epoch 126 \t reward: 1.5 \t length 2 \t mean_length 1.17 \t epsilon 0.8\n",
      "Epoch 127 \t reward: 1.5 \t length 2 \t mean_length 1.18 \t epsilon 0.8\n",
      "Epoch 128 \t reward: -0.5 \t length 1 \t mean_length 1.17 \t epsilon 0.8\n",
      "Epoch 129 \t reward: -0.5 \t length 1 \t mean_length 1.18 \t epsilon 0.79\n",
      "Epoch 130 \t reward: -0.5 \t length 1 \t mean_length 1.17 \t epsilon 0.79\n",
      "Epoch 131 \t reward: -0.5 \t length 1 \t mean_length 1.15 \t epsilon 0.79\n",
      "Epoch 132 \t reward: -0.5 \t length 1 \t mean_length 1.15 \t epsilon 0.79\n",
      "Epoch 133 \t reward: -0.5 \t length 1 \t mean_length 1.15 \t epsilon 0.79\n",
      "Epoch 134 \t reward: -0.5 \t length 1 \t mean_length 1.15 \t epsilon 0.79\n",
      "Epoch 135 \t reward: -0.5 \t length 1 \t mean_length 1.15 \t epsilon 0.79\n",
      "Epoch 136 \t reward: 1.5 \t length 2 \t mean_length 1.17 \t epsilon 0.79\n",
      "Epoch 137 \t reward: -0.5 \t length 1 \t mean_length 1.18 \t epsilon 0.79\n",
      "Epoch 138 \t reward: -0.5 \t length 1 \t mean_length 1.17 \t epsilon 0.79\n",
      "Epoch 139 \t reward: -0.5 \t length 1 \t mean_length 1.18 \t epsilon 0.79\n",
      "Epoch 140 \t reward: -0.5 \t length 1 \t mean_length 1.17 \t epsilon 0.79\n",
      "Epoch 141 \t reward: -0.5 \t length 1 \t mean_length 1.18 \t epsilon 0.79\n",
      "Epoch 142 \t reward: -0.5 \t length 1 \t mean_length 1.17 \t epsilon 0.78\n",
      "Epoch 143 \t reward: -0.5 \t length 1 \t mean_length 1.18 \t epsilon 0.78\n",
      "Epoch 144 \t reward: 1.5 \t length 2 \t mean_length 1.19 \t epsilon 0.78\n",
      "Epoch 145 \t reward: -0.5 \t length 1 \t mean_length 1.2 \t epsilon 0.78\n",
      "Epoch 146 \t reward: -0.5 \t length 1 \t mean_length 1.19 \t epsilon 0.78\n",
      "Epoch 147 \t reward: 1.5 \t length 2 \t mean_length 1.2 \t epsilon 0.78\n",
      "Epoch 148 \t reward: -0.5 \t length 1 \t mean_length 1.19 \t epsilon 0.78\n",
      "Epoch 149 \t reward: -0.5 \t length 1 \t mean_length 1.2 \t epsilon 0.78\n",
      "Epoch 150 \t reward: -0.5 \t length 1 \t mean_length 1.19 \t epsilon 0.78\n",
      "Epoch 151 \t reward: -0.5 \t length 1 \t mean_length 1.2 \t epsilon 0.78\n",
      "Epoch 152 \t reward: 1.5 \t length 2 \t mean_length 1.21 \t epsilon 0.78\n",
      "Epoch 153 \t reward: 1.5 \t length 2 \t mean_length 1.22 \t epsilon 0.78\n",
      "Epoch 154 \t reward: -0.5 \t length 1 \t mean_length 1.21 \t epsilon 0.78\n",
      "Epoch 155 \t reward: -0.5 \t length 1 \t mean_length 1.22 \t epsilon 0.78\n",
      "Epoch 156 \t reward: -0.5 \t length 1 \t mean_length 1.21 \t epsilon 0.77\n",
      "Epoch 157 \t reward: -0.5 \t length 1 \t mean_length 1.22 \t epsilon 0.77\n",
      "Epoch 158 \t reward: -0.5 \t length 1 \t mean_length 1.21 \t epsilon 0.77\n",
      "Epoch 159 \t reward: -0.5 \t length 1 \t mean_length 1.22 \t epsilon 0.77\n",
      "Epoch 160 \t reward: 1.5 \t length 2 \t mean_length 1.23 \t epsilon 0.77\n",
      "Epoch 161 \t reward: -0.5 \t length 1 \t mean_length 1.24 \t epsilon 0.77\n",
      "Epoch 162 \t reward: -0.5 \t length 1 \t mean_length 1.23 \t epsilon 0.77\n",
      "Epoch 163 \t reward: -0.5 \t length 1 \t mean_length 1.24 \t epsilon 0.77\n",
      "Epoch 164 \t reward: 1.5 \t length 2 \t mean_length 1.25 \t epsilon 0.77\n",
      "Epoch 165 \t reward: -0.5 \t length 1 \t mean_length 1.26 \t epsilon 0.77\n",
      "Q_matrix of initial state, after training: step 101\n"
     ]
    },
    {
     "output_type": "display_data",
     "data": {
      "text/plain": "<PIL.Image.Image image mode=RGBA size=128x128 at 0x1978F606B20>",
      "image/png": "[encoded data removed]"
     },
     "metadata": {}
    },
    {
     "output_type": "stream",
     "name": "stdout",
     "text": [
      "29\n"
     ]
    },
    {
     "output_type": "display_data",
     "data": {
      "text/plain": "<PIL.Image.Image image mode=RGBA size=128x128 at 0x1978F606B20>",
      "image/png": "[encoded data removed]"
     },
     "metadata": {}
    },
    {
     "output_type": "stream",
     "name": "stdout",
     "text": [
      "-------------\n"
     ]
    },
    {
     "output_type": "display_data",
     "data": {
      "text/plain": "<PIL.Image.Image image mode=RGBA size=128x128 at 0x1978F606760>",
      "image/png": "[encoded data removed]"
     },
     "metadata": {}
    },
    {
     "output_type": "stream",
     "name": "stdout",
     "text": [
      "29\n",
      "Epoch 166 \t reward: 1.5 \t length 2 \t mean_length 1.27 \t epsilon 0.77\n",
      "Epoch 167 \t reward: 1.5 \t length 2 \t mean_length 1.28 \t epsilon 0.77\n",
      "Epoch 168 \t reward: -0.5 \t length 1 \t mean_length 1.27 \t epsilon 0.77\n",
      "Epoch 169 \t reward: -0.5 \t length 1 \t mean_length 1.28 \t epsilon 0.77\n",
      "Epoch 170 \t reward: -0.5 \t length 1 \t mean_length 1.27 \t epsilon 0.76\n",
      "Epoch 171 \t reward: -0.5 \t length 1 \t mean_length 1.28 \t epsilon 0.76\n",
      "Epoch 172 \t reward: -0.5 \t length 1 \t mean_length 1.27 \t epsilon 0.76\n",
      "Epoch 173 \t reward: -0.5 \t length 1 \t mean_length 1.28 \t epsilon 0.76\n",
      "Epoch 174 \t reward: 1.5 \t length 2 \t mean_length 1.29 \t epsilon 0.76\n",
      "Epoch 175 \t reward: -0.5 \t length 1 \t mean_length 1.3 \t epsilon 0.76\n",
      "Epoch 176 \t reward: 1.5 \t length 2 \t mean_length 1.31 \t epsilon 0.76\n",
      "Epoch 177 \t reward: -0.5 \t length 1 \t mean_length 1.32 \t epsilon 0.76\n",
      "Epoch 178 \t reward: -0.5 \t length 1 \t mean_length 1.31 \t epsilon 0.76\n",
      "Epoch 179 \t reward: 1.5 \t length 2 \t mean_length 1.3 \t epsilon 0.76\n",
      "Epoch 180 \t reward: -0.5 \t length 1 \t mean_length 1.29 \t epsilon 0.76\n",
      "Epoch 181 \t reward: -0.5 \t length 1 \t mean_length 1.3 \t epsilon 0.76\n",
      "Epoch 182 \t reward: 1.5 \t length 2 \t mean_length 1.31 \t epsilon 0.76\n",
      "Epoch 183 \t reward: 1.5 \t length 2 \t mean_length 1.32 \t epsilon 0.76\n",
      "Epoch 184 \t reward: -0.5 \t length 1 \t mean_length 1.31 \t epsilon 0.76\n",
      "Epoch 185 \t reward: 1.5 \t length 2 \t mean_length 1.32 \t epsilon 0.75\n",
      "Epoch 186 \t reward: -0.5 \t length 1 \t mean_length 1.31 \t epsilon 0.75\n",
      "Epoch 187 \t reward: -0.5 \t length 1 \t mean_length 1.3 \t epsilon 0.75\n",
      "Epoch 188 \t reward: -0.5 \t length 1 \t mean_length 1.29 \t epsilon 0.75\n",
      "Epoch 189 \t reward: -0.5 \t length 1 \t mean_length 1.28 \t epsilon 0.75\n",
      "Epoch 190 \t reward: -0.5 \t length 1 \t mean_length 1.27 \t epsilon 0.75\n",
      "Epoch 191 \t reward: -0.5 \t length 1 \t mean_length 1.26 \t epsilon 0.75\n",
      "Epoch 192 \t reward: -0.5 \t length 1 \t mean_length 1.25 \t epsilon 0.75\n",
      "Epoch 193 \t reward: -0.5 \t length 1 \t mean_length 1.26 \t epsilon 0.75\n",
      "Epoch 194 \t reward: -0.5 \t length 1 \t mean_length 1.25 \t epsilon 0.75\n",
      "Epoch 195 \t reward: -0.5 \t length 1 \t mean_length 1.24 \t epsilon 0.75\n",
      "Epoch 196 \t reward: -0.5 \t length 1 \t mean_length 1.23 \t epsilon 0.75\n",
      "Epoch 197 \t reward: -0.5 \t length 1 \t mean_length 1.24 \t epsilon 0.75\n",
      "Epoch 198 \t reward: -0.5 \t length 1 \t mean_length 1.23 \t epsilon 0.75\n",
      "Epoch 199 \t reward: -0.5 \t length 1 \t mean_length 1.24 \t epsilon 0.74\n",
      "Epoch 200 \t reward: -0.5 \t length 1 \t mean_length 1.23 \t epsilon 0.74\n",
      "Epoch 201 \t reward: 1.5 \t length 2 \t mean_length 1.24 \t epsilon 0.74\n",
      "Epoch 202 \t reward: 1.5 \t length 2 \t mean_length 1.25 \t epsilon 0.74\n",
      "Epoch 203 \t reward: -0.5 \t length 1 \t mean_length 1.26 \t epsilon 0.74\n",
      "Epoch 204 \t reward: -0.5 \t length 1 \t mean_length 1.25 \t epsilon 0.74\n",
      "Epoch 205 \t reward: -0.5 \t length 1 \t mean_length 1.26 \t epsilon 0.74\n",
      "Epoch 206 \t reward: -0.5 \t length 1 \t mean_length 1.25 \t epsilon 0.74\n",
      "Epoch 207 \t reward: 1.5 \t length 2 \t mean_length 1.26 \t epsilon 0.74\n",
      "Epoch 208 \t reward: -0.5 \t length 1 \t mean_length 1.25 \t epsilon 0.74\n",
      "Epoch 209 \t reward: -0.5 \t length 1 \t mean_length 1.26 \t epsilon 0.74\n",
      "Epoch 210 \t reward: 1.5 \t length 2 \t mean_length 1.27 \t epsilon 0.74\n",
      "Epoch 211 \t reward: -0.5 \t length 1 \t mean_length 1.28 \t epsilon 0.74\n",
      "Epoch 212 \t reward: -0.5 \t length 1 \t mean_length 1.27 \t epsilon 0.74\n",
      "Epoch 213 \t reward: -0.5 \t length 1 \t mean_length 1.28 \t epsilon 0.74\n",
      "Epoch 214 \t reward: 1.5 \t length 2 \t mean_length 1.29 \t epsilon 0.73\n",
      "Epoch 215 \t reward: -0.5 \t length 1 \t mean_length 1.28 \t epsilon 0.73\n",
      "Epoch 216 \t reward: -0.5 \t length 1 \t mean_length 1.27 \t epsilon 0.73\n",
      "Epoch 217 \t reward: 1.5 \t length 2 \t mean_length 1.28 \t epsilon 0.73\n",
      "Epoch 218 \t reward: 1.5 \t length 2 \t mean_length 1.29 \t epsilon 0.73\n",
      "Epoch 219 \t reward: -0.5 \t length 1 \t mean_length 1.3 \t epsilon 0.73\n",
      "Epoch 220 \t reward: -0.5 \t length 1 \t mean_length 1.29 \t epsilon 0.73\n",
      "Epoch 221 \t reward: -0.5 \t length 1 \t mean_length 1.28 \t epsilon 0.73\n",
      "Epoch 222 \t reward: 1.5 \t length 2 \t mean_length 1.29 \t epsilon 0.73\n",
      "Epoch 223 \t reward: -0.5 \t length 1 \t mean_length 1.3 \t epsilon 0.73\n",
      "Epoch 224 \t reward: -0.5 \t length 1 \t mean_length 1.29 \t epsilon 0.73\n",
      "Epoch 225 \t reward: -0.5 \t length 1 \t mean_length 1.3 \t epsilon 0.73\n",
      "Epoch 226 \t reward: -0.5 \t length 1 \t mean_length 1.29 \t epsilon 0.73\n",
      "Epoch 227 \t reward: -0.5 \t length 1 \t mean_length 1.28 \t epsilon 0.73\n",
      "Epoch 228 \t reward: -0.5 \t length 1 \t mean_length 1.27 \t epsilon 0.73\n",
      "Epoch 229 \t reward: 1.5 \t length 2 \t mean_length 1.28 \t epsilon 0.72\n",
      "Epoch 230 \t reward: -0.5 \t length 1 \t mean_length 1.27 \t epsilon 0.72\n",
      "Epoch 231 \t reward: -0.5 \t length 1 \t mean_length 1.28 \t epsilon 0.72\n",
      "Epoch 232 \t reward: -0.5 \t length 1 \t mean_length 1.27 \t epsilon 0.72\n",
      "Epoch 233 \t reward: -0.5 \t length 1 \t mean_length 1.28 \t epsilon 0.72\n",
      "Epoch 234 \t reward: -0.5 \t length 1 \t mean_length 1.27 \t epsilon 0.72\n",
      "Epoch 235 \t reward: -0.5 \t length 1 \t mean_length 1.28 \t epsilon 0.72\n",
      "Epoch 236 \t reward: -0.5 \t length 1 \t mean_length 1.27 \t epsilon 0.72\n",
      "Epoch 237 \t reward: -0.5 \t length 1 \t mean_length 1.26 \t epsilon 0.72\n",
      "Epoch 238 \t reward: -0.5 \t length 1 \t mean_length 1.25 \t epsilon 0.72\n",
      "Epoch 239 \t reward: 1.5 \t length 2 \t mean_length 1.26 \t epsilon 0.72\n",
      "Epoch 240 \t reward: -0.5 \t length 1 \t mean_length 1.25 \t epsilon 0.72\n",
      "Epoch 241 \t reward: -0.5 \t length 1 \t mean_length 1.26 \t epsilon 0.72\n",
      "Epoch 242 \t reward: 1.5 \t length 2 \t mean_length 1.27 \t epsilon 0.72\n",
      "Epoch 243 \t reward: 1.5 \t length 2 \t mean_length 1.28 \t epsilon 0.72\n",
      "Epoch 244 \t reward: -0.5 \t length 1 \t mean_length 1.27 \t epsilon 0.71\n",
      "Epoch 245 \t reward: -0.5 \t length 1 \t mean_length 1.26 \t epsilon 0.71\n",
      "Epoch 246 \t reward: 1.5 \t length 2 \t mean_length 1.27 \t epsilon 0.71\n",
      "Epoch 247 \t reward: 1.5 \t length 2 \t mean_length 1.28 \t epsilon 0.71\n",
      "Epoch 248 \t reward: -0.5 \t length 1 \t mean_length 1.27 \t epsilon 0.71\n",
      "Epoch 249 \t reward: -0.5 \t length 1 \t mean_length 1.28 \t epsilon 0.71\n",
      "Epoch 250 \t reward: -0.5 \t length 1 \t mean_length 1.27 \t epsilon 0.71\n",
      "Epoch 251 \t reward: -0.5 \t length 1 \t mean_length 1.28 \t epsilon 0.71\n",
      "Epoch 252 \t reward: 1.5 \t length 2 \t mean_length 1.29 \t epsilon 0.71\n",
      "Epoch 253 \t reward: -0.5 \t length 1 \t mean_length 1.28 \t epsilon 0.71\n",
      "Epoch 254 \t reward: -0.5 \t length 1 \t mean_length 1.27 \t epsilon 0.71\n",
      "Epoch 255 \t reward: 1.5 \t length 2 \t mean_length 1.28 \t epsilon 0.71\n",
      "Epoch 256 \t reward: -0.5 \t length 1 \t mean_length 1.27 \t epsilon 0.71\n",
      "Epoch 257 \t reward: -0.5 \t length 1 \t mean_length 1.28 \t epsilon 0.71\n",
      "Epoch 258 \t reward: 1.5 \t length 2 \t mean_length 1.29 \t epsilon 0.71\n",
      "Epoch 259 \t reward: -0.5 \t length 1 \t mean_length 1.3 \t epsilon 0.71\n",
      "Epoch 260 \t reward: -0.5 \t length 1 \t mean_length 1.29 \t epsilon 0.7\n",
      "Epoch 261 \t reward: 1.5 \t length 2 \t mean_length 1.28 \t epsilon 0.7\n",
      "Epoch 262 \t reward: -0.5 \t length 1 \t mean_length 1.27 \t epsilon 0.7\n",
      "Epoch 263 \t reward: -0.5 \t length 1 \t mean_length 1.28 \t epsilon 0.7\n",
      "Epoch 264 \t reward: 1.5 \t length 2 \t mean_length 1.29 \t epsilon 0.7\n",
      "Epoch 265 \t reward: 1.5 \t length 2 \t mean_length 1.28 \t epsilon 0.7\n",
      "Q_matrix of initial state, after training: step 201\n"
     ]
    },
    {
     "output_type": "display_data",
     "data": {
      "text/plain": "<PIL.Image.Image image mode=RGBA size=128x128 at 0x1978F606460>",
      "image/png": "[encoded data removed]"
     },
     "metadata": {}
    },
    {
     "output_type": "stream",
     "name": "stdout",
     "text": [
      "29\n"
     ]
    },
    {
     "output_type": "display_data",
     "data": {
      "text/plain": "<PIL.Image.Image image mode=RGBA size=128x128 at 0x1978F606F40>",
      "image/png": "[encoded data removed]"
     },
     "metadata": {}
    },
    {
     "output_type": "stream",
     "name": "stdout",
     "text": [
      "-------------\n"
     ]
    },
    {
     "output_type": "display_data",
     "data": {
      "text/plain": "<PIL.Image.Image image mode=RGBA size=128x128 at 0x1978F606460>",
      "image/png": "[encoded data removed]"
     },
     "metadata": {}
    },
    {
     "output_type": "stream",
     "name": "stdout",
     "text": [
      "29\n",
      "Epoch 266 \t reward: -0.5 \t length 1 \t mean_length 1.27 \t epsilon 0.7\n",
      "Epoch 267 \t reward: -0.5 \t length 1 \t mean_length 1.26 \t epsilon 0.7\n",
      "Epoch 268 \t reward: -0.5 \t length 1 \t mean_length 1.25 \t epsilon 0.7\n",
      "Epoch 269 \t reward: 1.5 \t length 2 \t mean_length 1.26 \t epsilon 0.7\n",
      "Epoch 270 \t reward: 1.5 \t length 2 \t mean_length 1.27 \t epsilon 0.7\n",
      "Epoch 271 \t reward: -0.5 \t length 1 \t mean_length 1.28 \t epsilon 0.7\n",
      "Epoch 272 \t reward: 1.5 \t length 2 \t mean_length 1.29 \t epsilon 0.7\n",
      "Epoch 273 \t reward: 1.5 \t length 2 \t mean_length 1.3 \t epsilon 0.7\n",
      "Epoch 274 \t reward: 1.5 \t length 2 \t mean_length 1.31 \t epsilon 0.7\n",
      "Epoch 275 \t reward: -0.5 \t length 1 \t mean_length 1.3 \t epsilon 0.69\n",
      "Epoch 276 \t reward: -0.5 \t length 1 \t mean_length 1.29 \t epsilon 0.69\n",
      "Epoch 277 \t reward: -0.5 \t length 1 \t mean_length 1.28 \t epsilon 0.69\n",
      "Epoch 278 \t reward: 1.5 \t length 2 \t mean_length 1.29 \t epsilon 0.69\n",
      "Epoch 279 \t reward: -0.5 \t length 1 \t mean_length 1.3 \t epsilon 0.69\n",
      "Epoch 280 \t reward: 1.5 \t length 2 \t mean_length 1.31 \t epsilon 0.69\n",
      "Epoch 281 \t reward: 1.5 \t length 2 \t mean_length 1.32 \t epsilon 0.69\n",
      "Epoch 282 \t reward: -0.5 \t length 1 \t mean_length 1.31 \t epsilon 0.69\n",
      "Epoch 283 \t reward: 4.0 \t length 3 \t mean_length 1.3 \t epsilon 0.69\n",
      "Epoch 284 \t reward: 1.5 \t length 2 \t mean_length 1.31 \t epsilon 0.69\n",
      "Epoch 285 \t reward: -0.5 \t length 1 \t mean_length 1.32 \t epsilon 0.69\n",
      "Epoch 286 \t reward: -0.5 \t length 1 \t mean_length 1.31 \t epsilon 0.69\n",
      "Epoch 287 \t reward: -0.5 \t length 1 \t mean_length 1.32 \t epsilon 0.69\n",
      "Epoch 288 \t reward: 1.5 \t length 2 \t mean_length 1.33 \t epsilon 0.69\n",
      "Epoch 289 \t reward: -0.5 \t length 1 \t mean_length 1.34 \t epsilon 0.69\n",
      "Epoch 290 \t reward: 1.5 \t length 2 \t mean_length 1.35 \t epsilon 0.69\n",
      "Epoch 291 \t reward: -0.5 \t length 1 \t mean_length 1.36 \t epsilon 0.68\n",
      "Epoch 292 \t reward: -0.5 \t length 1 \t mean_length 1.35 \t epsilon 0.68\n",
      "Epoch 293 \t reward: -0.5 \t length 1 \t mean_length 1.36 \t epsilon 0.68\n",
      "Epoch 294 \t reward: -0.5 \t length 1 \t mean_length 1.35 \t epsilon 0.68\n",
      "Epoch 295 \t reward: -0.5 \t length 1 \t mean_length 1.36 \t epsilon 0.68\n",
      "Epoch 296 \t reward: 1.5 \t length 2 \t mean_length 1.37 \t epsilon 0.68\n",
      "Epoch 297 \t reward: 1.5 \t length 2 \t mean_length 1.38 \t epsilon 0.68\n",
      "Epoch 298 \t reward: 1.5 \t length 2 \t mean_length 1.39 \t epsilon 0.68\n",
      "Epoch 299 \t reward: -0.5 \t length 1 \t mean_length 1.4 \t epsilon 0.68\n",
      "Epoch 300 \t reward: 1.5 \t length 2 \t mean_length 1.41 \t epsilon 0.68\n",
      "Epoch 301 \t reward: -0.5 \t length 1 \t mean_length 1.42 \t epsilon 0.68\n",
      "Epoch 302 \t reward: 1.5 \t length 2 \t mean_length 1.43 \t epsilon 0.68\n",
      "Epoch 303 \t reward: -0.5 \t length 1 \t mean_length 1.42 \t epsilon 0.68\n",
      "Epoch 304 \t reward: -0.5 \t length 1 \t mean_length 1.41 \t epsilon 0.68\n",
      "Epoch 305 \t reward: -0.5 \t length 1 \t mean_length 1.42 \t epsilon 0.68\n",
      "Epoch 306 \t reward: -0.5 \t length 1 \t mean_length 1.41 \t epsilon 0.68\n",
      "Epoch 307 \t reward: -0.5 \t length 1 \t mean_length 1.42 \t epsilon 0.67\n",
      "Epoch 308 \t reward: -0.5 \t length 1 \t mean_length 1.41 \t epsilon 0.67\n",
      "Epoch 309 \t reward: -0.5 \t length 1 \t mean_length 1.42 \t epsilon 0.67\n",
      "Epoch 310 \t reward: -0.5 \t length 1 \t mean_length 1.41 \t epsilon 0.67\n",
      "Epoch 311 \t reward: 1.5 \t length 2 \t mean_length 1.4 \t epsilon 0.67\n",
      "Epoch 312 \t reward: 1.5 \t length 2 \t mean_length 1.41 \t epsilon 0.67\n",
      "Epoch 313 \t reward: -0.5 \t length 1 \t mean_length 1.42 \t epsilon 0.67\n",
      "Epoch 314 \t reward: -0.5 \t length 1 \t mean_length 1.41 \t epsilon 0.67\n",
      "Epoch 315 \t reward: 1.5 \t length 2 \t mean_length 1.4 \t epsilon 0.67\n",
      "Epoch 316 \t reward: 1.5 \t length 2 \t mean_length 1.41 \t epsilon 0.67\n",
      "Epoch 317 \t reward: 1.5 \t length 2 \t mean_length 1.42 \t epsilon 0.67\n",
      "Epoch 318 \t reward: -0.5 \t length 1 \t mean_length 1.41 \t epsilon 0.67\n",
      "Epoch 319 \t reward: -0.5 \t length 1 \t mean_length 1.4 \t epsilon 0.67\n",
      "Epoch 320 \t reward: 1.5 \t length 2 \t mean_length 1.41 \t epsilon 0.67\n",
      "Epoch 321 \t reward: -0.5 \t length 1 \t mean_length 1.42 \t epsilon 0.67\n",
      "Epoch 322 \t reward: -0.5 \t length 1 \t mean_length 1.41 \t epsilon 0.67\n",
      "Epoch 323 \t reward: 1.5 \t length 2 \t mean_length 1.4 \t epsilon 0.67\n",
      "Epoch 324 \t reward: 1.5 \t length 2 \t mean_length 1.41 \t epsilon 0.66\n",
      "Epoch 325 \t reward: -0.5 \t length 1 \t mean_length 1.42 \t epsilon 0.66\n",
      "Epoch 326 \t reward: -0.5 \t length 1 \t mean_length 1.41 \t epsilon 0.66\n",
      "Epoch 327 \t reward: -0.5 \t length 1 \t mean_length 1.42 \t epsilon 0.66\n",
      "Epoch 328 \t reward: 1.5 \t length 2 \t mean_length 1.43 \t epsilon 0.66\n",
      "Epoch 329 \t reward: 1.5 \t length 2 \t mean_length 1.44 \t epsilon 0.66\n",
      "Epoch 330 \t reward: -0.5 \t length 1 \t mean_length 1.43 \t epsilon 0.66\n",
      "Epoch 331 \t reward: -0.5 \t length 1 \t mean_length 1.44 \t epsilon 0.66\n",
      "Epoch 332 \t reward: 1.5 \t length 2 \t mean_length 1.45 \t epsilon 0.66\n",
      "Epoch 333 \t reward: 1.5 \t length 2 \t mean_length 1.46 \t epsilon 0.66\n",
      "Epoch 334 \t reward: 1.5 \t length 2 \t mean_length 1.47 \t epsilon 0.66\n",
      "Epoch 335 \t reward: -0.5 \t length 1 \t mean_length 1.48 \t epsilon 0.66\n",
      "Epoch 336 \t reward: -0.5 \t length 1 \t mean_length 1.47 \t epsilon 0.66\n",
      "Epoch 337 \t reward: -0.5 \t length 1 \t mean_length 1.48 \t epsilon 0.66\n",
      "Epoch 338 \t reward: 1.5 \t length 2 \t mean_length 1.49 \t epsilon 0.66\n",
      "Epoch 339 \t reward: -0.5 \t length 1 \t mean_length 1.5 \t epsilon 0.66\n",
      "Epoch 340 \t reward: 1.5 \t length 2 \t mean_length 1.5 \t epsilon 0.65\n",
      "Epoch 341 \t reward: -0.5 \t length 1 \t mean_length 1.52 \t epsilon 0.65\n",
      "Epoch 342 \t reward: -0.5 \t length 1 \t mean_length 1.5 \t epsilon 0.65\n",
      "Epoch 343 \t reward: -0.5 \t length 1 \t mean_length 1.5 \t epsilon 0.65\n",
      "Epoch 344 \t reward: 1.5 \t length 2 \t mean_length 1.5 \t epsilon 0.65\n",
      "Epoch 345 \t reward: 1.5 \t length 2 \t mean_length 1.52 \t epsilon 0.65\n",
      "Epoch 346 \t reward: 1.5 \t length 2 \t mean_length 1.52 \t epsilon 0.65\n",
      "Epoch 347 \t reward: -0.5 \t length 1 \t mean_length 1.52 \t epsilon 0.65\n",
      "Epoch 348 \t reward: -0.5 \t length 1 \t mean_length 1.5 \t epsilon 0.65\n",
      "Epoch 349 \t reward: 1.5 \t length 2 \t mean_length 1.52 \t epsilon 0.65\n",
      "Epoch 350 \t reward: 1.5 \t length 2 \t mean_length 1.52 \t epsilon 0.65\n",
      "Epoch 351 \t reward: -0.5 \t length 1 \t mean_length 1.54 \t epsilon 0.65\n",
      "Epoch 352 \t reward: -0.5 \t length 1 \t mean_length 1.52 \t epsilon 0.65\n",
      "Epoch 353 \t reward: 1.5 \t length 2 \t mean_length 1.52 \t epsilon 0.65\n",
      "Epoch 354 \t reward: 1.5 \t length 2 \t mean_length 1.52 \t epsilon 0.65\n",
      "Epoch 355 \t reward: 1.5 \t length 2 \t mean_length 1.54 \t epsilon 0.65\n",
      "Epoch 356 \t reward: -0.5 \t length 1 \t mean_length 1.52 \t epsilon 0.65\n",
      "Epoch 357 \t reward: -0.5 \t length 1 \t mean_length 1.54 \t epsilon 0.64\n",
      "Epoch 358 \t reward: -0.5 \t length 1 \t mean_length 1.52 \t epsilon 0.64\n",
      "Epoch 359 \t reward: -0.5 \t length 1 \t mean_length 1.52 \t epsilon 0.64\n",
      "Epoch 360 \t reward: -0.5 \t length 1 \t mean_length 1.5 \t epsilon 0.64\n",
      "Epoch 361 \t reward: -0.5 \t length 1 \t mean_length 1.52 \t epsilon 0.64\n",
      "Epoch 362 \t reward: 1.5 \t length 2 \t mean_length 1.52 \t epsilon 0.64\n",
      "Epoch 363 \t reward: 1.5 \t length 2 \t mean_length 1.54 \t epsilon 0.64\n",
      "Epoch 364 \t reward: 1.5 \t length 2 \t mean_length 1.54 \t epsilon 0.64\n",
      "Epoch 365 \t reward: -0.5 \t length 1 \t mean_length 1.54 \t epsilon 0.64\n",
      "Q_matrix of initial state, after training: step 301\n"
     ]
    },
    {
     "output_type": "display_data",
     "data": {
      "text/plain": "<PIL.Image.Image image mode=RGBA size=128x128 at 0x1978F606730>",
      "image/png": "[encoded data removed]"
     },
     "metadata": {}
    },
    {
     "output_type": "stream",
     "name": "stdout",
     "text": [
      "29\n"
     ]
    },
    {
     "output_type": "display_data",
     "data": {
      "text/plain": "<PIL.Image.Image image mode=RGBA size=128x128 at 0x1978F606700>",
      "image/png": "[encoded data removed]"
     },
     "metadata": {}
    },
    {
     "output_type": "stream",
     "name": "stdout",
     "text": [
      "-------------\n"
     ]
    },
    {
     "output_type": "display_data",
     "data": {
      "text/plain": "<PIL.Image.Image image mode=RGBA size=128x128 at 0x1978F6063D0>",
      "image/png": "[encoded data removed]"
     },
     "metadata": {}
    },
    {
     "output_type": "stream",
     "name": "stdout",
     "text": [
      "29\n",
      "Epoch 366 \t reward: 1.5 \t length 2 \t mean_length 1.54 \t epsilon 0.64\n",
      "Epoch 367 \t reward: 1.5 \t length 2 \t mean_length 1.56 \t epsilon 0.64\n",
      "Epoch 368 \t reward: -0.5 \t length 1 \t mean_length 1.54 \t epsilon 0.64\n",
      "Epoch 369 \t reward: -0.5 \t length 1 \t mean_length 1.56 \t epsilon 0.64\n",
      "Epoch 370 \t reward: -0.5 \t length 1 \t mean_length 1.54 \t epsilon 0.64\n",
      "Epoch 371 \t reward: -0.5 \t length 1 \t mean_length 1.54 \t epsilon 0.64\n",
      "Epoch 372 \t reward: -0.5 \t length 1 \t mean_length 1.52 \t epsilon 0.64\n",
      "Epoch 373 \t reward: 1.5 \t length 2 \t mean_length 1.52 \t epsilon 0.64\n",
      "Epoch 374 \t reward: 4.0 \t length 3 \t mean_length 1.54 \t epsilon 0.63\n",
      "Epoch 375 \t reward: 1.5 \t length 2 \t mean_length 1.54 \t epsilon 0.63\n",
      "Epoch 376 \t reward: -0.5 \t length 1 \t mean_length 1.52 \t epsilon 0.63\n",
      "Epoch 377 \t reward: -0.5 \t length 1 \t mean_length 1.54 \t epsilon 0.63\n",
      "Epoch 378 \t reward: -0.5 \t length 1 \t mean_length 1.52 \t epsilon 0.63\n",
      "Epoch 379 \t reward: 1.5 \t length 2 \t mean_length 1.52 \t epsilon 0.63\n",
      "Epoch 380 \t reward: -0.5 \t length 1 \t mean_length 1.5 \t epsilon 0.63\n",
      "Epoch 381 \t reward: -0.5 \t length 1 \t mean_length 1.5 \t epsilon 0.63\n",
      "Epoch 382 \t reward: -0.5 \t length 1 \t mean_length 1.49 \t epsilon 0.63\n",
      "Epoch 383 \t reward: -0.5 \t length 1 \t mean_length 1.5 \t epsilon 0.63\n",
      "Epoch 384 \t reward: -0.5 \t length 1 \t mean_length 1.49 \t epsilon 0.63\n",
      "Epoch 385 \t reward: -0.5 \t length 1 \t mean_length 1.48 \t epsilon 0.63\n",
      "Epoch 386 \t reward: -0.5 \t length 1 \t mean_length 1.47 \t epsilon 0.63\n",
      "Epoch 387 \t reward: -0.5 \t length 1 \t mean_length 1.48 \t epsilon 0.63\n",
      "Epoch 388 \t reward: -0.5 \t length 1 \t mean_length 1.47 \t epsilon 0.63\n",
      "Epoch 389 \t reward: -0.5 \t length 1 \t mean_length 1.46 \t epsilon 0.63\n",
      "Epoch 390 \t reward: 1.5 \t length 2 \t mean_length 1.47 \t epsilon 0.63\n",
      "Epoch 391 \t reward: 1.5 \t length 2 \t mean_length 1.46 \t epsilon 0.63\n",
      "Epoch 392 \t reward: -0.5 \t length 1 \t mean_length 1.45 \t epsilon 0.62\n",
      "Epoch 393 \t reward: 1.5 \t length 2 \t mean_length 1.46 \t epsilon 0.62\n",
      "Epoch 394 \t reward: -0.5 \t length 1 \t mean_length 1.45 \t epsilon 0.62\n",
      "Epoch 395 \t reward: -0.5 \t length 1 \t mean_length 1.46 \t epsilon 0.62\n",
      "Epoch 396 \t reward: -0.5 \t length 1 \t mean_length 1.45 \t epsilon 0.62\n",
      "Epoch 397 \t reward: 1.5 \t length 2 \t mean_length 1.44 \t epsilon 0.62\n",
      "Epoch 398 \t reward: 1.5 \t length 2 \t mean_length 1.45 \t epsilon 0.62\n",
      "Epoch 399 \t reward: -0.5 \t length 1 \t mean_length 1.44 \t epsilon 0.62\n",
      "Epoch 400 \t reward: 1.5 \t length 2 \t mean_length 1.45 \t epsilon 0.62\n",
      "Epoch 401 \t reward: -0.5 \t length 1 \t mean_length 1.44 \t epsilon 0.62\n",
      "Epoch 402 \t reward: -0.5 \t length 1 \t mean_length 1.43 \t epsilon 0.62\n",
      "Epoch 403 \t reward: 1.5 \t length 2 \t mean_length 1.42 \t epsilon 0.62\n",
      "Epoch 404 \t reward: -0.5 \t length 1 \t mean_length 1.41 \t epsilon 0.62\n",
      "Epoch 405 \t reward: -0.5 \t length 1 \t mean_length 1.42 \t epsilon 0.62\n",
      "Epoch 406 \t reward: -0.5 \t length 1 \t mean_length 1.41 \t epsilon 0.62\n",
      "Epoch 407 \t reward: -0.5 \t length 1 \t mean_length 1.42 \t epsilon 0.62\n",
      "Epoch 408 \t reward: 1.5 \t length 2 \t mean_length 1.43 \t epsilon 0.62\n",
      "Epoch 409 \t reward: -0.5 \t length 1 \t mean_length 1.44 \t epsilon 0.62\n",
      "Epoch 410 \t reward: -0.5 \t length 1 \t mean_length 1.43 \t epsilon 0.61\n",
      "Epoch 411 \t reward: 1.5 \t length 2 \t mean_length 1.44 \t epsilon 0.61\n",
      "Epoch 412 \t reward: -0.5 \t length 1 \t mean_length 1.43 \t epsilon 0.61\n",
      "Epoch 413 \t reward: 1.5 \t length 2 \t mean_length 1.42 \t epsilon 0.61\n",
      "Epoch 414 \t reward: 1.5 \t length 2 \t mean_length 1.43 \t epsilon 0.61\n",
      "Epoch 415 \t reward: 1.5 \t length 2 \t mean_length 1.44 \t epsilon 0.61\n",
      "Epoch 416 \t reward: 1.5 \t length 2 \t mean_length 1.45 \t epsilon 0.61\n",
      "Epoch 417 \t reward: -0.5 \t length 1 \t mean_length 1.44 \t epsilon 0.61\n",
      "Epoch 418 \t reward: 1.5 \t length 2 \t mean_length 1.45 \t epsilon 0.61\n",
      "Epoch 419 \t reward: 1.5 \t length 2 \t mean_length 1.46 \t epsilon 0.61\n",
      "Epoch 420 \t reward: 1.5 \t length 2 \t mean_length 1.47 \t epsilon 0.61\n",
      "Epoch 421 \t reward: -0.5 \t length 1 \t mean_length 1.46 \t epsilon 0.61\n",
      "Epoch 422 \t reward: 1.5 \t length 2 \t mean_length 1.47 \t epsilon 0.61\n",
      "Epoch 423 \t reward: 1.5 \t length 2 \t mean_length 1.48 \t epsilon 0.61\n",
      "Epoch 424 \t reward: 1.5 \t length 2 \t mean_length 1.49 \t epsilon 0.61\n",
      "Epoch 425 \t reward: -0.5 \t length 1 \t mean_length 1.48 \t epsilon 0.61\n",
      "Epoch 426 \t reward: -0.5 \t length 1 \t mean_length 1.47 \t epsilon 0.61\n",
      "Epoch 427 \t reward: 1.5 \t length 2 \t mean_length 1.48 \t epsilon 0.61\n",
      "Epoch 428 \t reward: 1.5 \t length 2 \t mean_length 1.49 \t epsilon 0.6\n",
      "Epoch 429 \t reward: -0.5 \t length 1 \t mean_length 1.48 \t epsilon 0.6\n",
      "Epoch 430 \t reward: 1.5 \t length 2 \t mean_length 1.49 \t epsilon 0.6\n",
      "Epoch 431 \t reward: -0.5 \t length 1 \t mean_length 1.5 \t epsilon 0.6\n",
      "Epoch 432 \t reward: -0.5 \t length 1 \t mean_length 1.49 \t epsilon 0.6\n",
      "Epoch 433 \t reward: -0.5 \t length 1 \t mean_length 1.48 \t epsilon 0.6\n",
      "Epoch 434 \t reward: 1.5 \t length 2 \t mean_length 1.49 \t epsilon 0.6\n",
      "Epoch 435 \t reward: -0.5 \t length 1 \t mean_length 1.48 \t epsilon 0.6\n",
      "Epoch 436 \t reward: -0.5 \t length 1 \t mean_length 1.47 \t epsilon 0.6\n",
      "Epoch 437 \t reward: 1.5 \t length 2 \t mean_length 1.48 \t epsilon 0.6\n",
      "Epoch 438 \t reward: -0.5 \t length 1 \t mean_length 1.47 \t epsilon 0.6\n",
      "Epoch 439 \t reward: 1.5 \t length 2 \t mean_length 1.46 \t epsilon 0.6\n",
      "Epoch 440 \t reward: -0.5 \t length 1 \t mean_length 1.45 \t epsilon 0.6\n",
      "Epoch 441 \t reward: 1.5 \t length 2 \t mean_length 1.44 \t epsilon 0.6\n",
      "Epoch 442 \t reward: -0.5 \t length 1 \t mean_length 1.43 \t epsilon 0.6\n",
      "Epoch 443 \t reward: 1.5 \t length 2 \t mean_length 1.44 \t epsilon 0.6\n",
      "Epoch 444 \t reward: -0.5 \t length 1 \t mean_length 1.43 \t epsilon 0.6\n",
      "Epoch 445 \t reward: -0.5 \t length 1 \t mean_length 1.42 \t epsilon 0.6\n",
      "Epoch 446 \t reward: -0.5 \t length 1 \t mean_length 1.41 \t epsilon 0.59\n",
      "Epoch 447 \t reward: -0.5 \t length 1 \t mean_length 1.4 \t epsilon 0.59\n",
      "Epoch 448 \t reward: 1.5 \t length 2 \t mean_length 1.41 \t epsilon 0.59\n",
      "Epoch 449 \t reward: -0.5 \t length 1 \t mean_length 1.42 \t epsilon 0.59\n",
      "Epoch 450 \t reward: 1.5 \t length 2 \t mean_length 1.43 \t epsilon 0.59\n",
      "Epoch 451 \t reward: -0.5 \t length 1 \t mean_length 1.42 \t epsilon 0.59\n",
      "Epoch 452 \t reward: 1.5 \t length 2 \t mean_length 1.43 \t epsilon 0.59\n",
      "Epoch 453 \t reward: -0.5 \t length 1 \t mean_length 1.44 \t epsilon 0.59\n",
      "Epoch 454 \t reward: -0.5 \t length 1 \t mean_length 1.43 \t epsilon 0.59\n",
      "Epoch 455 \t reward: 1.5 \t length 2 \t mean_length 1.42 \t epsilon 0.59\n",
      "Epoch 456 \t reward: -0.5 \t length 1 \t mean_length 1.41 \t epsilon 0.59\n",
      "Epoch 457 \t reward: 1.5 \t length 2 \t mean_length 1.42 \t epsilon 0.59\n",
      "Epoch 458 \t reward: -0.5 \t length 1 \t mean_length 1.41 \t epsilon 0.59\n",
      "Epoch 459 \t reward: 1.5 \t length 2 \t mean_length 1.42 \t epsilon 0.59\n",
      "Epoch 460 \t reward: 1.5 \t length 2 \t mean_length 1.43 \t epsilon 0.59\n",
      "Epoch 461 \t reward: -0.5 \t length 1 \t mean_length 1.44 \t epsilon 0.59\n",
      "Epoch 462 \t reward: 1.5 \t length 2 \t mean_length 1.45 \t epsilon 0.59\n",
      "Epoch 463 \t reward: -0.5 \t length 1 \t mean_length 1.44 \t epsilon 0.59\n",
      "Epoch 464 \t reward: 1.5 \t length 2 \t mean_length 1.45 \t epsilon 0.59\n",
      "Epoch 465 \t reward: -0.5 \t length 1 \t mean_length 1.44 \t epsilon 0.58\n",
      "Q_matrix of initial state, after training: step 401\n"
     ]
    },
    {
     "output_type": "display_data",
     "data": {
      "text/plain": "<PIL.Image.Image image mode=RGBA size=128x128 at 0x1978F606CD0>",
      "image/png": "[encoded data removed]"
     },
     "metadata": {}
    },
    {
     "output_type": "stream",
     "name": "stdout",
     "text": [
      "29\n"
     ]
    },
    {
     "output_type": "display_data",
     "data": {
      "text/plain": "<PIL.Image.Image image mode=RGBA size=128x128 at 0x1978F606580>",
      "image/png": "[encoded data removed]"
     },
     "metadata": {}
    },
    {
     "output_type": "stream",
     "name": "stdout",
     "text": [
      "-------------\n"
     ]
    },
    {
     "output_type": "display_data",
     "data": {
      "text/plain": "<PIL.Image.Image image mode=RGBA size=128x128 at 0x1978F6062E0>",
      "image/png": "[encoded data removed]"
     },
     "metadata": {}
    },
    {
     "output_type": "stream",
     "name": "stdout",
     "text": [
      "29\n",
      "Epoch 466 \t reward: 1.5 \t length 2 \t mean_length 1.45 \t epsilon 0.58\n",
      "Epoch 467 \t reward: -0.5 \t length 1 \t mean_length 1.44 \t epsilon 0.58\n",
      "Epoch 468 \t reward: -0.5 \t length 1 \t mean_length 1.43 \t epsilon 0.58\n",
      "Epoch 469 \t reward: 1.5 \t length 2 \t mean_length 1.44 \t epsilon 0.58\n",
      "Epoch 470 \t reward: 1.5 \t length 2 \t mean_length 1.45 \t epsilon 0.58\n",
      "Epoch 471 \t reward: 1.5 \t length 2 \t mean_length 1.46 \t epsilon 0.58\n",
      "Epoch 472 \t reward: 1.5 \t length 2 \t mean_length 1.47 \t epsilon 0.58\n",
      "Epoch 473 \t reward: -0.5 \t length 1 \t mean_length 1.48 \t epsilon 0.58\n",
      "Epoch 474 \t reward: 1.5 \t length 2 \t mean_length 1.49 \t epsilon 0.58\n",
      "Epoch 475 \t reward: -0.5 \t length 1 \t mean_length 1.46 \t epsilon 0.58\n",
      "Epoch 476 \t reward: -0.5 \t length 1 \t mean_length 1.45 \t epsilon 0.58\n",
      "Epoch 477 \t reward: 1.5 \t length 2 \t mean_length 1.46 \t epsilon 0.58\n",
      "Epoch 478 \t reward: -0.5 \t length 1 \t mean_length 1.45 \t epsilon 0.58\n",
      "Epoch 479 \t reward: -0.5 \t length 1 \t mean_length 1.46 \t epsilon 0.58\n",
      "Epoch 480 \t reward: 1.5 \t length 2 \t mean_length 1.47 \t epsilon 0.58\n",
      "Epoch 481 \t reward: -0.5 \t length 1 \t mean_length 1.48 \t epsilon 0.58\n",
      "Epoch 482 \t reward: -0.5 \t length 1 \t mean_length 1.47 \t epsilon 0.58\n",
      "Epoch 483 \t reward: 1.5 \t length 2 \t mean_length 1.48 \t epsilon 0.58\n",
      "Epoch 484 \t reward: 1.5 \t length 2 \t mean_length 1.49 \t epsilon 0.57\n",
      "Epoch 485 \t reward: 1.5 \t length 2 \t mean_length 1.5 \t epsilon 0.57\n",
      "Epoch 486 \t reward: 1.5 \t length 2 \t mean_length 1.5 \t epsilon 0.57\n",
      "Epoch 487 \t reward: -0.5 \t length 1 \t mean_length 1.52 \t epsilon 0.57\n",
      "Epoch 488 \t reward: 1.5 \t length 2 \t mean_length 1.52 \t epsilon 0.57\n",
      "Epoch 489 \t reward: 1.5 \t length 2 \t mean_length 1.54 \t epsilon 0.57\n",
      "Epoch 490 \t reward: 1.5 \t length 2 \t mean_length 1.54 \t epsilon 0.57\n",
      "Epoch 491 \t reward: 1.5 \t length 2 \t mean_length 1.54 \t epsilon 0.57\n",
      "Epoch 492 \t reward: 1.5 \t length 2 \t mean_length 1.54 \t epsilon 0.57\n",
      "Epoch 493 \t reward: -0.5 \t length 1 \t mean_length 1.56 \t epsilon 0.57\n",
      "Epoch 494 \t reward: -0.5 \t length 1 \t mean_length 1.54 \t epsilon 0.57\n",
      "Epoch 495 \t reward: -0.5 \t length 1 \t mean_length 1.56 \t epsilon 0.57\n",
      "Epoch 496 \t reward: -0.5 \t length 1 \t mean_length 1.54 \t epsilon 0.57\n",
      "Epoch 497 \t reward: 1.5 \t length 2 \t mean_length 1.56 \t epsilon 0.57\n",
      "Epoch 498 \t reward: 1.5 \t length 2 \t mean_length 1.56 \t epsilon 0.57\n",
      "Epoch 499 \t reward: -0.5 \t length 1 \t mean_length 1.56 \t epsilon 0.57\n",
      "Epoch 500 \t reward: -0.5 \t length 1 \t mean_length 1.54 \t epsilon 0.57\n",
      "Epoch 501 \t reward: -0.5 \t length 1 \t mean_length 1.54 \t epsilon 0.57\n",
      "Epoch 502 \t reward: 1.5 \t length 2 \t mean_length 1.54 \t epsilon 0.57\n",
      "Epoch 503 \t reward: -0.5 \t length 1 \t mean_length 1.56 \t epsilon 0.57\n",
      "Epoch 504 \t reward: -0.5 \t length 1 \t mean_length 1.54 \t epsilon 0.56\n",
      "Epoch 505 \t reward: -0.5 \t length 1 \t mean_length 1.56 \t epsilon 0.56\n",
      "Epoch 506 \t reward: 1.5 \t length 2 \t mean_length 1.56 \t epsilon 0.56\n",
      "Epoch 507 \t reward: 1.5 \t length 2 \t mean_length 1.58 \t epsilon 0.56\n",
      "Epoch 508 \t reward: -0.5 \t length 1 \t mean_length 1.56 \t epsilon 0.56\n",
      "Epoch 509 \t reward: -0.5 \t length 1 \t mean_length 1.56 \t epsilon 0.56\n",
      "Epoch 510 \t reward: -0.5 \t length 1 \t mean_length 1.54 \t epsilon 0.56\n",
      "Epoch 511 \t reward: -0.5 \t length 1 \t mean_length 1.56 \t epsilon 0.56\n",
      "Epoch 512 \t reward: 1.5 \t length 2 \t mean_length 1.56 \t epsilon 0.56\n",
      "Epoch 513 \t reward: 1.5 \t length 2 \t mean_length 1.58 \t epsilon 0.56\n",
      "Epoch 514 \t reward: 1.5 \t length 2 \t mean_length 1.58 \t epsilon 0.56\n",
      "Epoch 515 \t reward: 1.5 \t length 2 \t mean_length 1.58 \t epsilon 0.56\n",
      "Epoch 516 \t reward: -0.5 \t length 1 \t mean_length 1.56 \t epsilon 0.56\n",
      "Epoch 517 \t reward: 1.5 \t length 2 \t mean_length 1.56 \t epsilon 0.56\n",
      "Epoch 518 \t reward: 1.5 \t length 2 \t mean_length 1.56 \t epsilon 0.56\n",
      "Epoch 519 \t reward: -0.5 \t length 1 \t mean_length 1.56 \t epsilon 0.56\n",
      "Epoch 520 \t reward: -0.5 \t length 1 \t mean_length 1.54 \t epsilon 0.56\n",
      "Epoch 521 \t reward: 1.5 \t length 2 \t mean_length 1.54 \t epsilon 0.56\n",
      "Epoch 522 \t reward: 1.5 \t length 2 \t mean_length 1.54 \t epsilon 0.56\n",
      "Epoch 523 \t reward: 1.5 \t length 2 \t mean_length 1.54 \t epsilon 0.56\n",
      "Epoch 524 \t reward: 1.5 \t length 2 \t mean_length 1.54 \t epsilon 0.55\n",
      "Epoch 525 \t reward: 1.5 \t length 2 \t mean_length 1.54 \t epsilon 0.55\n",
      "Epoch 526 \t reward: 1.5 \t length 2 \t mean_length 1.54 \t epsilon 0.55\n",
      "Epoch 527 \t reward: 1.5 \t length 2 \t mean_length 1.56 \t epsilon 0.55\n",
      "Epoch 528 \t reward: 1.5 \t length 2 \t mean_length 1.56 \t epsilon 0.55\n",
      "Epoch 529 \t reward: -0.5 \t length 1 \t mean_length 1.56 \t epsilon 0.55\n",
      "Epoch 530 \t reward: -0.5 \t length 1 \t mean_length 1.54 \t epsilon 0.55\n",
      "Epoch 531 \t reward: -0.5 \t length 1 \t mean_length 1.54 \t epsilon 0.55\n",
      "Epoch 532 \t reward: -0.5 \t length 1 \t mean_length 1.52 \t epsilon 0.55\n",
      "Epoch 533 \t reward: -0.5 \t length 1 \t mean_length 1.54 \t epsilon 0.55\n",
      "Epoch 534 \t reward: -0.5 \t length 1 \t mean_length 1.52 \t epsilon 0.55\n",
      "Epoch 535 \t reward: -0.5 \t length 1 \t mean_length 1.52 \t epsilon 0.55\n",
      "Epoch 536 \t reward: -0.5 \t length 1 \t mean_length 1.5 \t epsilon 0.55\n",
      "Epoch 537 \t reward: 1.5 \t length 2 \t mean_length 1.52 \t epsilon 0.55\n",
      "Epoch 538 \t reward: -0.5 \t length 1 \t mean_length 1.5 \t epsilon 0.55\n",
      "Epoch 539 \t reward: -0.5 \t length 1 \t mean_length 1.52 \t epsilon 0.55\n",
      "Epoch 540 \t reward: -0.5 \t length 1 \t mean_length 1.5 \t epsilon 0.55\n",
      "Epoch 541 \t reward: -0.5 \t length 1 \t mean_length 1.52 \t epsilon 0.55\n",
      "Epoch 542 \t reward: -0.5 \t length 1 \t mean_length 1.5 \t epsilon 0.55\n",
      "Epoch 543 \t reward: -0.5 \t length 1 \t mean_length 1.52 \t epsilon 0.55\n",
      "Epoch 544 \t reward: -0.5 \t length 1 \t mean_length 1.5 \t epsilon 0.54\n",
      "Epoch 545 \t reward: -0.5 \t length 1 \t mean_length 1.52 \t epsilon 0.54\n",
      "Epoch 546 \t reward: 4.0 \t length 3 \t mean_length 1.54 \t epsilon 0.54\n",
      "Epoch 547 \t reward: 1.5 \t length 2 \t mean_length 1.56 \t epsilon 0.54\n",
      "Epoch 548 \t reward: -0.5 \t length 1 \t mean_length 1.54 \t epsilon 0.54\n",
      "Epoch 549 \t reward: -0.5 \t length 1 \t mean_length 1.54 \t epsilon 0.54\n",
      "Epoch 550 \t reward: -0.5 \t length 1 \t mean_length 1.52 \t epsilon 0.54\n",
      "Epoch 551 \t reward: 1.5 \t length 2 \t mean_length 1.52 \t epsilon 0.54\n",
      "Epoch 552 \t reward: 1.5 \t length 2 \t mean_length 1.52 \t epsilon 0.54\n",
      "Epoch 553 \t reward: -0.5 \t length 1 \t mean_length 1.52 \t epsilon 0.54\n",
      "Epoch 554 \t reward: -0.5 \t length 1 \t mean_length 1.5 \t epsilon 0.54\n",
      "Epoch 555 \t reward: 1.5 \t length 2 \t mean_length 1.52 \t epsilon 0.54\n",
      "Epoch 556 \t reward: -0.5 \t length 1 \t mean_length 1.5 \t epsilon 0.54\n",
      "Epoch 557 \t reward: 1.5 \t length 2 \t mean_length 1.52 \t epsilon 0.54\n",
      "Epoch 558 \t reward: -0.5 \t length 1 \t mean_length 1.5 \t epsilon 0.54\n",
      "Epoch 559 \t reward: 1.5 \t length 2 \t mean_length 1.52 \t epsilon 0.54\n",
      "Epoch 560 \t reward: -0.5 \t length 1 \t mean_length 1.5 \t epsilon 0.54\n",
      "Epoch 561 \t reward: -0.5 \t length 1 \t mean_length 1.5 \t epsilon 0.54\n",
      "Epoch 562 \t reward: 1.5 \t length 2 \t mean_length 1.5 \t epsilon 0.54\n",
      "Epoch 563 \t reward: 1.5 \t length 2 \t mean_length 1.5 \t epsilon 0.54\n",
      "Epoch 564 \t reward: 1.5 \t length 2 \t mean_length 1.5 \t epsilon 0.54\n",
      "Epoch 565 \t reward: -0.5 \t length 1 \t mean_length 1.5 \t epsilon 0.53\n",
      "Q_matrix of initial state, after training: step 501\n"
     ]
    },
    {
     "output_type": "display_data",
     "data": {
      "text/plain": "<PIL.Image.Image image mode=RGBA size=128x128 at 0x1978F606A90>",
      "image/png": "[encoded data removed]"
     },
     "metadata": {}
    },
    {
     "output_type": "stream",
     "name": "stdout",
     "text": [
      "29\n"
     ]
    },
    {
     "output_type": "display_data",
     "data": {
      "text/plain": "<PIL.Image.Image image mode=RGBA size=128x128 at 0x1978F606A90>",
      "image/png": "[encoded data removed]"
     },
     "metadata": {}
    },
    {
     "output_type": "stream",
     "name": "stdout",
     "text": [
      "-------------\n"
     ]
    },
    {
     "output_type": "display_data",
     "data": {
      "text/plain": "<PIL.Image.Image image mode=RGBA size=128x128 at 0x1978F606CD0>",
      "image/png": "[encoded data removed]"
     },
     "metadata": {}
    },
    {
     "output_type": "stream",
     "name": "stdout",
     "text": [
      "29\n",
      "Epoch 566 \t reward: 1.5 \t length 2 \t mean_length 1.5 \t epsilon 0.53\n",
      "Epoch 567 \t reward: 1.5 \t length 2 \t mean_length 1.5 \t epsilon 0.53\n",
      "Epoch 568 \t reward: -0.5 \t length 1 \t mean_length 1.49 \t epsilon 0.53\n",
      "Epoch 569 \t reward: -0.5 \t length 1 \t mean_length 1.5 \t epsilon 0.53\n",
      "Epoch 570 \t reward: 1.5 \t length 2 \t mean_length 1.5 \t epsilon 0.53\n",
      "Epoch 571 \t reward: 1.5 \t length 2 \t mean_length 1.5 \t epsilon 0.53\n",
      "Epoch 572 \t reward: -0.5 \t length 1 \t mean_length 1.49 \t epsilon 0.53\n",
      "Epoch 573 \t reward: -0.5 \t length 1 \t mean_length 1.48 \t epsilon 0.53\n",
      "Epoch 574 \t reward: 1.5 \t length 2 \t mean_length 1.49 \t epsilon 0.53\n",
      "Epoch 575 \t reward: -0.5 \t length 1 \t mean_length 1.48 \t epsilon 0.53\n",
      "Epoch 576 \t reward: 1.5 \t length 2 \t mean_length 1.49 \t epsilon 0.53\n",
      "Epoch 577 \t reward: 1.5 \t length 2 \t mean_length 1.5 \t epsilon 0.53\n",
      "Epoch 578 \t reward: 1.5 \t length 2 \t mean_length 1.5 \t epsilon 0.53\n",
      "Epoch 579 \t reward: 1.5 \t length 2 \t mean_length 1.52 \t epsilon 0.53\n",
      "Epoch 580 \t reward: 1.5 \t length 2 \t mean_length 1.52 \t epsilon 0.53\n",
      "Epoch 581 \t reward: -0.5 \t length 1 \t mean_length 1.52 \t epsilon 0.53\n",
      "Epoch 582 \t reward: -0.5 \t length 1 \t mean_length 1.5 \t epsilon 0.53\n",
      "Epoch 583 \t reward: -0.5 \t length 1 \t mean_length 1.52 \t epsilon 0.53\n",
      "Epoch 584 \t reward: 1.5 \t length 2 \t mean_length 1.52 \t epsilon 0.53\n",
      "Epoch 585 \t reward: -0.5 \t length 1 \t mean_length 1.52 \t epsilon 0.53\n",
      "Epoch 586 \t reward: 1.5 \t length 2 \t mean_length 1.52 \t epsilon 0.52\n",
      "Epoch 587 \t reward: -0.5 \t length 1 \t mean_length 1.52 \t epsilon 0.52\n",
      "Epoch 588 \t reward: -0.5 \t length 1 \t mean_length 1.5 \t epsilon 0.52\n",
      "Epoch 589 \t reward: 1.5 \t length 2 \t mean_length 1.5 \t epsilon 0.52\n",
      "Epoch 590 \t reward: -0.5 \t length 1 \t mean_length 1.49 \t epsilon 0.52\n",
      "Epoch 591 \t reward: 1.5 \t length 2 \t mean_length 1.48 \t epsilon 0.52\n",
      "Epoch 592 \t reward: 1.5 \t length 2 \t mean_length 1.49 \t epsilon 0.52\n",
      "Epoch 593 \t reward: 4.0 \t length 3 \t mean_length 1.48 \t epsilon 0.52\n",
      "Epoch 594 \t reward: 1.5 \t length 2 \t mean_length 1.49 \t epsilon 0.52\n",
      "Epoch 595 \t reward: -0.5 \t length 1 \t mean_length 1.5 \t epsilon 0.52\n",
      "Epoch 596 \t reward: -0.5 \t length 1 \t mean_length 1.49 \t epsilon 0.52\n",
      "Epoch 597 \t reward: 1.5 \t length 2 \t mean_length 1.5 \t epsilon 0.52\n",
      "Epoch 598 \t reward: 1.5 \t length 2 \t mean_length 1.5 \t epsilon 0.52\n",
      "Epoch 599 \t reward: 1.5 \t length 2 \t mean_length 1.5 \t epsilon 0.52\n",
      "Epoch 600 \t reward: -0.5 \t length 1 \t mean_length 1.49 \t epsilon 0.52\n",
      "Epoch 601 \t reward: -0.5 \t length 1 \t mean_length 1.5 \t epsilon 0.52\n",
      "Epoch 602 \t reward: 1.5 \t length 2 \t mean_length 1.5 \t epsilon 0.52\n",
      "Epoch 603 \t reward: 1.5 \t length 2 \t mean_length 1.5 \t epsilon 0.52\n",
      "Epoch 604 \t reward: -0.5 \t length 1 \t mean_length 1.49 \t epsilon 0.52\n",
      "Epoch 605 \t reward: -0.5 \t length 1 \t mean_length 1.5 \t epsilon 0.52\n",
      "Epoch 606 \t reward: 1.5 \t length 2 \t mean_length 1.5 \t epsilon 0.52\n",
      "Epoch 607 \t reward: -0.5 \t length 1 \t mean_length 1.5 \t epsilon 0.51\n",
      "Epoch 608 \t reward: 1.5 \t length 2 \t mean_length 1.5 \t epsilon 0.51\n",
      "Epoch 609 \t reward: 1.5 \t length 2 \t mean_length 1.52 \t epsilon 0.51\n",
      "Epoch 610 \t reward: -0.5 \t length 1 \t mean_length 1.5 \t epsilon 0.51\n",
      "Epoch 611 \t reward: 1.5 \t length 2 \t mean_length 1.52 \t epsilon 0.51\n",
      "Epoch 612 \t reward: 1.5 \t length 2 \t mean_length 1.52 \t epsilon 0.51\n",
      "Epoch 613 \t reward: 1.5 \t length 2 \t mean_length 1.52 \t epsilon 0.51\n",
      "Epoch 614 \t reward: 1.5 \t length 2 \t mean_length 1.52 \t epsilon 0.51\n",
      "Epoch 615 \t reward: -0.5 \t length 1 \t mean_length 1.52 \t epsilon 0.51\n",
      "Epoch 616 \t reward: 1.5 \t length 2 \t mean_length 1.52 \t epsilon 0.51\n",
      "Epoch 617 \t reward: -0.5 \t length 1 \t mean_length 1.54 \t epsilon 0.51\n",
      "Epoch 618 \t reward: 1.5 \t length 2 \t mean_length 1.54 \t epsilon 0.51\n",
      "Epoch 619 \t reward: 1.5 \t length 2 \t mean_length 1.54 \t epsilon 0.51\n",
      "Epoch 620 \t reward: 1.5 \t length 2 \t mean_length 1.54 \t epsilon 0.51\n",
      "Epoch 621 \t reward: -0.5 \t length 1 \t mean_length 1.56 \t epsilon 0.51\n",
      "Epoch 622 \t reward: 1.5 \t length 2 \t mean_length 1.56 \t epsilon 0.51\n",
      "Epoch 623 \t reward: -0.5 \t length 1 \t mean_length 1.56 \t epsilon 0.51\n",
      "Epoch 624 \t reward: -0.5 \t length 1 \t mean_length 1.54 \t epsilon 0.51\n",
      "Epoch 625 \t reward: -0.5 \t length 1 \t mean_length 1.54 \t epsilon 0.51\n",
      "Epoch 626 \t reward: -0.5 \t length 1 \t mean_length 1.52 \t epsilon 0.51\n",
      "Epoch 627 \t reward: -0.5 \t length 1 \t mean_length 1.52 \t epsilon 0.51\n",
      "Epoch 628 \t reward: -0.5 \t length 1 \t mean_length 1.5 \t epsilon 0.51\n",
      "Epoch 629 \t reward: -0.5 \t length 1 \t mean_length 1.5 \t epsilon 0.5\n",
      "Epoch 630 \t reward: -0.5 \t length 1 \t mean_length 1.49 \t epsilon 0.5\n",
      "Epoch 631 \t reward: 1.5 \t length 2 \t mean_length 1.5 \t epsilon 0.5\n",
      "Epoch 632 \t reward: 1.5 \t length 2 \t mean_length 1.5 \t epsilon 0.5\n",
      "Epoch 633 \t reward: 1.5 \t length 2 \t mean_length 1.52 \t epsilon 0.5\n",
      "Epoch 634 \t reward: -0.5 \t length 1 \t mean_length 1.5 \t epsilon 0.5\n",
      "Epoch 635 \t reward: -0.5 \t length 1 \t mean_length 1.52 \t epsilon 0.5\n",
      "Epoch 636 \t reward: -0.5 \t length 1 \t mean_length 1.5 \t epsilon 0.5\n",
      "Epoch 637 \t reward: 1.5 \t length 2 \t mean_length 1.52 \t epsilon 0.5\n",
      "Epoch 638 \t reward: -0.5 \t length 1 \t mean_length 1.5 \t epsilon 0.5\n",
      "Epoch 639 \t reward: 1.5 \t length 2 \t mean_length 1.52 \t epsilon 0.5\n",
      "Epoch 640 \t reward: -0.5 \t length 1 \t mean_length 1.5 \t epsilon 0.5\n",
      "Epoch 641 \t reward: 1.5 \t length 2 \t mean_length 1.52 \t epsilon 0.5\n",
      "Epoch 642 \t reward: 1.5 \t length 2 \t mean_length 1.52 \t epsilon 0.5\n",
      "Epoch 643 \t reward: 1.5 \t length 2 \t mean_length 1.54 \t epsilon 0.5\n",
      "Epoch 644 \t reward: 1.5 \t length 2 \t mean_length 1.54 \t epsilon 0.5\n",
      "Epoch 645 \t reward: 1.5 \t length 2 \t mean_length 1.56 \t epsilon 0.5\n",
      "Epoch 646 \t reward: 1.5 \t length 2 \t mean_length 1.56 \t epsilon 0.5\n",
      "Epoch 647 \t reward: 1.5 \t length 2 \t mean_length 1.54 \t epsilon 0.5\n",
      "Epoch 648 \t reward: 1.5 \t length 2 \t mean_length 1.54 \t epsilon 0.5\n",
      "Epoch 649 \t reward: -0.5 \t length 1 \t mean_length 1.56 \t epsilon 0.5\n",
      "Epoch 650 \t reward: -0.5 \t length 1 \t mean_length 1.54 \t epsilon 0.5\n",
      "Epoch 651 \t reward: 1.5 \t length 2 \t mean_length 1.56 \t epsilon 0.5\n",
      "Epoch 652 \t reward: -0.5 \t length 1 \t mean_length 1.54 \t epsilon 0.49\n",
      "Epoch 653 \t reward: -0.5 \t length 1 \t mean_length 1.54 \t epsilon 0.49\n",
      "Epoch 654 \t reward: -0.5 \t length 1 \t mean_length 1.52 \t epsilon 0.49\n",
      "Epoch 655 \t reward: -0.5 \t length 1 \t mean_length 1.54 \t epsilon 0.49\n",
      "Epoch 656 \t reward: 1.5 \t length 2 \t mean_length 1.54 \t epsilon 0.49\n",
      "Epoch 657 \t reward: -0.5 \t length 1 \t mean_length 1.56 \t epsilon 0.49\n",
      "Epoch 658 \t reward: -0.5 \t length 1 \t mean_length 1.54 \t epsilon 0.49\n",
      "Epoch 659 \t reward: 1.5 \t length 2 \t mean_length 1.56 \t epsilon 0.49\n",
      "Epoch 660 \t reward: -0.5 \t length 1 \t mean_length 1.54 \t epsilon 0.49\n",
      "Epoch 661 \t reward: 1.5 \t length 2 \t mean_length 1.56 \t epsilon 0.49\n",
      "Epoch 662 \t reward: -0.5 \t length 1 \t mean_length 1.54 \t epsilon 0.49\n",
      "Epoch 663 \t reward: -0.5 \t length 1 \t mean_length 1.54 \t epsilon 0.49\n",
      "Epoch 664 \t reward: 1.5 \t length 2 \t mean_length 1.54 \t epsilon 0.49\n",
      "Epoch 665 \t reward: -0.5 \t length 1 \t mean_length 1.54 \t epsilon 0.49\n",
      "Q_matrix of initial state, after training: step 601\n"
     ]
    },
    {
     "output_type": "display_data",
     "data": {
      "text/plain": "<PIL.Image.Image image mode=RGBA size=128x128 at 0x1978F606B50>",
      "image/png": "[encoded data removed]"
     },
     "metadata": {}
    },
    {
     "output_type": "stream",
     "name": "stdout",
     "text": [
      "29\n"
     ]
    },
    {
     "output_type": "display_data",
     "data": {
      "text/plain": "<PIL.Image.Image image mode=RGBA size=128x128 at 0x1978F606C10>",
      "image/png": "[encoded data removed]"
     },
     "metadata": {}
    },
    {
     "output_type": "stream",
     "name": "stdout",
     "text": [
      "-------------\n"
     ]
    },
    {
     "output_type": "display_data",
     "data": {
      "text/plain": "<PIL.Image.Image image mode=RGBA size=128x128 at 0x1978F606100>",
      "image/png": "[encoded data removed]"
     },
     "metadata": {}
    },
    {
     "output_type": "stream",
     "name": "stdout",
     "text": [
      "29\n",
      "Epoch 666 \t reward: -0.5 \t length 1 \t mean_length 1.52 \t epsilon 0.49\n",
      "Epoch 667 \t reward: 1.5 \t length 2 \t mean_length 1.52 \t epsilon 0.49\n",
      "Epoch 668 \t reward: -0.5 \t length 1 \t mean_length 1.5 \t epsilon 0.49\n",
      "Epoch 669 \t reward: 1.5 \t length 2 \t mean_length 1.52 \t epsilon 0.49\n",
      "Epoch 670 \t reward: 1.5 \t length 2 \t mean_length 1.52 \t epsilon 0.49\n",
      "Epoch 671 \t reward: 1.5 \t length 2 \t mean_length 1.52 \t epsilon 0.49\n",
      "Epoch 672 \t reward: -0.5 \t length 1 \t mean_length 1.5 \t epsilon 0.49\n",
      "Epoch 673 \t reward: -0.5 \t length 1 \t mean_length 1.52 \t epsilon 0.49\n",
      "Epoch 674 \t reward: -0.5 \t length 1 \t mean_length 1.5 \t epsilon 0.49\n",
      "Epoch 675 \t reward: -0.5 \t length 1 \t mean_length 1.5 \t epsilon 0.48\n",
      "Epoch 676 \t reward: -0.5 \t length 1 \t mean_length 1.49 \t epsilon 0.48\n",
      "Epoch 677 \t reward: 1.5 \t length 2 \t mean_length 1.48 \t epsilon 0.48\n",
      "Epoch 678 \t reward: -0.5 \t length 1 \t mean_length 1.47 \t epsilon 0.48\n",
      "Epoch 679 \t reward: -0.5 \t length 1 \t mean_length 1.46 \t epsilon 0.48\n",
      "Epoch 680 \t reward: -0.5 \t length 1 \t mean_length 1.45 \t epsilon 0.48\n",
      "Epoch 681 \t reward: -0.5 \t length 1 \t mean_length 1.44 \t epsilon 0.48\n",
      "Epoch 682 \t reward: -0.5 \t length 1 \t mean_length 1.43 \t epsilon 0.48\n",
      "Epoch 683 \t reward: 1.5 \t length 2 \t mean_length 1.44 \t epsilon 0.48\n",
      "Epoch 684 \t reward: 1.5 \t length 2 \t mean_length 1.45 \t epsilon 0.48\n",
      "Epoch 685 \t reward: -0.5 \t length 1 \t mean_length 1.44 \t epsilon 0.48\n",
      "Epoch 686 \t reward: -0.5 \t length 1 \t mean_length 1.43 \t epsilon 0.48\n",
      "Epoch 687 \t reward: -0.5 \t length 1 \t mean_length 1.42 \t epsilon 0.48\n",
      "Epoch 688 \t reward: 1.5 \t length 2 \t mean_length 1.43 \t epsilon 0.48\n",
      "Epoch 689 \t reward: 1.5 \t length 2 \t mean_length 1.44 \t epsilon 0.48\n",
      "Epoch 690 \t reward: -0.5 \t length 1 \t mean_length 1.43 \t epsilon 0.48\n",
      "Epoch 691 \t reward: -0.5 \t length 1 \t mean_length 1.44 \t epsilon 0.48\n",
      "Epoch 692 \t reward: 1.5 \t length 2 \t mean_length 1.45 \t epsilon 0.48\n",
      "Epoch 693 \t reward: 1.5 \t length 2 \t mean_length 1.44 \t epsilon 0.48\n",
      "Epoch 694 \t reward: -0.5 \t length 1 \t mean_length 1.43 \t epsilon 0.48\n",
      "Epoch 695 \t reward: -0.5 \t length 1 \t mean_length 1.42 \t epsilon 0.48\n",
      "Epoch 696 \t reward: -0.5 \t length 1 \t mean_length 1.41 \t epsilon 0.48\n",
      "Epoch 697 \t reward: 1.5 \t length 2 \t mean_length 1.42 \t epsilon 0.48\n",
      "Epoch 698 \t reward: 1.5 \t length 2 \t mean_length 1.43 \t epsilon 0.47\n",
      "Epoch 699 \t reward: 1.5 \t length 2 \t mean_length 1.42 \t epsilon 0.47\n",
      "Epoch 700 \t reward: 1.5 \t length 2 \t mean_length 1.43 \t epsilon 0.47\n",
      "Epoch 701 \t reward: -0.5 \t length 1 \t mean_length 1.44 \t epsilon 0.47\n",
      "Epoch 702 \t reward: 7.0 \t length 4 \t mean_length 1.49 \t epsilon 0.47\n",
      "Epoch 703 \t reward: -0.5 \t length 1 \t mean_length 1.48 \t epsilon 0.47\n",
      "Epoch 704 \t reward: 1.5 \t length 2 \t mean_length 1.49 \t epsilon 0.47\n",
      "Epoch 705 \t reward: 1.5 \t length 2 \t mean_length 1.5 \t epsilon 0.47\n",
      "Epoch 706 \t reward: -0.5 \t length 1 \t mean_length 1.49 \t epsilon 0.47\n",
      "Epoch 707 \t reward: 1.5 \t length 2 \t mean_length 1.48 \t epsilon 0.47\n",
      "Epoch 708 \t reward: 1.5 \t length 2 \t mean_length 1.49 \t epsilon 0.47\n",
      "Epoch 709 \t reward: 1.5 \t length 2 \t mean_length 1.48 \t epsilon 0.47\n",
      "Epoch 710 \t reward: -0.5 \t length 1 \t mean_length 1.47 \t epsilon 0.47\n",
      "Epoch 711 \t reward: -0.5 \t length 1 \t mean_length 1.48 \t epsilon 0.47\n",
      "Epoch 712 \t reward: -0.5 \t length 1 \t mean_length 1.47 \t epsilon 0.47\n",
      "Epoch 713 \t reward: 1.5 \t length 2 \t mean_length 1.46 \t epsilon 0.47\n",
      "Epoch 714 \t reward: -0.5 \t length 1 \t mean_length 1.45 \t epsilon 0.47\n",
      "Epoch 715 \t reward: -0.5 \t length 1 \t mean_length 1.44 \t epsilon 0.47\n",
      "Epoch 716 \t reward: -0.5 \t length 1 \t mean_length 1.43 \t epsilon 0.47\n",
      "Epoch 717 \t reward: -0.5 \t length 1 \t mean_length 1.42 \t epsilon 0.47\n",
      "Epoch 718 \t reward: -0.5 \t length 1 \t mean_length 1.41 \t epsilon 0.47\n",
      "Epoch 719 \t reward: 1.5 \t length 2 \t mean_length 1.4 \t epsilon 0.47\n",
      "Epoch 720 \t reward: 1.5 \t length 2 \t mean_length 1.41 \t epsilon 0.47\n",
      "Epoch 721 \t reward: 1.5 \t length 2 \t mean_length 1.4 \t epsilon 0.47\n",
      "Epoch 722 \t reward: -0.5 \t length 1 \t mean_length 1.39 \t epsilon 0.46\n",
      "Epoch 723 \t reward: 1.5 \t length 2 \t mean_length 1.38 \t epsilon 0.46\n",
      "Epoch 724 \t reward: 1.5 \t length 2 \t mean_length 1.39 \t epsilon 0.46\n",
      "Epoch 725 \t reward: 1.5 \t length 2 \t mean_length 1.4 \t epsilon 0.46\n",
      "Epoch 726 \t reward: -0.5 \t length 1 \t mean_length 1.39 \t epsilon 0.46\n",
      "Epoch 727 \t reward: -0.5 \t length 1 \t mean_length 1.4 \t epsilon 0.46\n",
      "Epoch 728 \t reward: 1.5 \t length 2 \t mean_length 1.41 \t epsilon 0.46\n",
      "Epoch 729 \t reward: -0.5 \t length 1 \t mean_length 1.42 \t epsilon 0.46\n",
      "Epoch 730 \t reward: 1.5 \t length 2 \t mean_length 1.43 \t epsilon 0.46\n",
      "Epoch 731 \t reward: 1.5 \t length 2 \t mean_length 1.44 \t epsilon 0.46\n",
      "Epoch 732 \t reward: 1.5 \t length 2 \t mean_length 1.45 \t epsilon 0.46\n",
      "Epoch 733 \t reward: 1.5 \t length 2 \t mean_length 1.44 \t epsilon 0.46\n",
      "Epoch 734 \t reward: -0.5 \t length 1 \t mean_length 1.43 \t epsilon 0.46\n",
      "Epoch 735 \t reward: -0.5 \t length 1 \t mean_length 1.44 \t epsilon 0.46\n",
      "Epoch 736 \t reward: 1.5 \t length 2 \t mean_length 1.45 \t epsilon 0.46\n",
      "Epoch 737 \t reward: 1.5 \t length 2 \t mean_length 1.46 \t epsilon 0.46\n",
      "Epoch 738 \t reward: -0.5 \t length 1 \t mean_length 1.45 \t epsilon 0.46\n",
      "Epoch 739 \t reward: 1.5 \t length 2 \t mean_length 1.46 \t epsilon 0.46\n",
      "Epoch 740 \t reward: 1.5 \t length 2 \t mean_length 1.47 \t epsilon 0.46\n",
      "Epoch 741 \t reward: 1.5 \t length 2 \t mean_length 1.48 \t epsilon 0.46\n",
      "Epoch 742 \t reward: -0.5 \t length 1 \t mean_length 1.47 \t epsilon 0.46\n",
      "Epoch 743 \t reward: 1.5 \t length 2 \t mean_length 1.46 \t epsilon 0.46\n",
      "Epoch 744 \t reward: 1.5 \t length 2 \t mean_length 1.47 \t epsilon 0.46\n",
      "Epoch 745 \t reward: -0.5 \t length 1 \t mean_length 1.46 \t epsilon 0.46\n",
      "Epoch 746 \t reward: -0.5 \t length 1 \t mean_length 1.45 \t epsilon 0.46\n",
      "Epoch 747 \t reward: 1.5 \t length 2 \t mean_length 1.44 \t epsilon 0.45\n",
      "Epoch 748 \t reward: 1.5 \t length 2 \t mean_length 1.45 \t epsilon 0.45\n",
      "Epoch 749 \t reward: 1.5 \t length 2 \t mean_length 1.44 \t epsilon 0.45\n",
      "Epoch 750 \t reward: -0.5 \t length 1 \t mean_length 1.43 \t epsilon 0.45\n",
      "Epoch 751 \t reward: 1.5 \t length 2 \t mean_length 1.44 \t epsilon 0.45\n",
      "Epoch 752 \t reward: 1.5 \t length 2 \t mean_length 1.45 \t epsilon 0.45\n",
      "Epoch 753 \t reward: 1.5 \t length 2 \t mean_length 1.46 \t epsilon 0.45\n",
      "Epoch 754 \t reward: -0.5 \t length 1 \t mean_length 1.45 \t epsilon 0.45\n",
      "Epoch 755 \t reward: 1.5 \t length 2 \t mean_length 1.46 \t epsilon 0.45\n",
      "Epoch 756 \t reward: -0.5 \t length 1 \t mean_length 1.45 \t epsilon 0.45\n",
      "Epoch 757 \t reward: 1.5 \t length 2 \t mean_length 1.44 \t epsilon 0.45\n",
      "Epoch 758 \t reward: -0.5 \t length 1 \t mean_length 1.43 \t epsilon 0.45\n",
      "Epoch 759 \t reward: 1.5 \t length 2 \t mean_length 1.44 \t epsilon 0.45\n",
      "Epoch 760 \t reward: -0.5 \t length 1 \t mean_length 1.43 \t epsilon 0.45\n",
      "Epoch 761 \t reward: 1.5 \t length 2 \t mean_length 1.44 \t epsilon 0.45\n",
      "Epoch 762 \t reward: -0.5 \t length 1 \t mean_length 1.43 \t epsilon 0.45\n",
      "Epoch 763 \t reward: 1.5 \t length 2 \t mean_length 1.44 \t epsilon 0.45\n",
      "Epoch 764 \t reward: -0.5 \t length 1 \t mean_length 1.43 \t epsilon 0.45\n",
      "Epoch 765 \t reward: 1.5 \t length 2 \t mean_length 1.42 \t epsilon 0.45\n",
      "Q_matrix of initial state, after training: step 701\n"
     ]
    },
    {
     "output_type": "display_data",
     "data": {
      "text/plain": "<PIL.Image.Image image mode=RGBA size=128x128 at 0x1978F6063D0>",
      "image/png": "[encoded data removed]"
     },
     "metadata": {}
    },
    {
     "output_type": "stream",
     "name": "stdout",
     "text": [
      "29\n"
     ]
    },
    {
     "output_type": "display_data",
     "data": {
      "text/plain": "<PIL.Image.Image image mode=RGBA size=128x128 at 0x1978F6063D0>",
      "image/png": "[encoded data removed]"
     },
     "metadata": {}
    },
    {
     "output_type": "stream",
     "name": "stdout",
     "text": [
      "-------------\n"
     ]
    },
    {
     "output_type": "display_data",
     "data": {
      "text/plain": "<PIL.Image.Image image mode=RGBA size=128x128 at 0x1978F606490>",
      "image/png": "[encoded data removed]"
     },
     "metadata": {}
    },
    {
     "output_type": "stream",
     "name": "stdout",
     "text": [
      "35\n",
      "Epoch 766 \t reward: 1.5 \t length 2 \t mean_length 1.43 \t epsilon 0.45\n",
      "Epoch 767 \t reward: 1.5 \t length 2 \t mean_length 1.44 \t epsilon 0.45\n",
      "Epoch 768 \t reward: 1.5 \t length 2 \t mean_length 1.45 \t epsilon 0.45\n",
      "Epoch 769 \t reward: 1.5 \t length 2 \t mean_length 1.46 \t epsilon 0.45\n",
      "Epoch 770 \t reward: -0.5 \t length 1 \t mean_length 1.45 \t epsilon 0.45\n",
      "Epoch 771 \t reward: 1.5 \t length 2 \t mean_length 1.44 \t epsilon 0.45\n",
      "Epoch 772 \t reward: -0.5 \t length 1 \t mean_length 1.43 \t epsilon 0.44\n",
      "Epoch 773 \t reward: -0.5 \t length 1 \t mean_length 1.44 \t epsilon 0.44\n",
      "Epoch 774 \t reward: 1.5 \t length 2 \t mean_length 1.45 \t epsilon 0.44\n",
      "Epoch 775 \t reward: 1.5 \t length 2 \t mean_length 1.46 \t epsilon 0.44\n",
      "Epoch 776 \t reward: 1.5 \t length 2 \t mean_length 1.47 \t epsilon 0.44\n",
      "Epoch 777 \t reward: -0.5 \t length 1 \t mean_length 1.48 \t epsilon 0.44\n",
      "Epoch 778 \t reward: 1.5 \t length 2 \t mean_length 1.49 \t epsilon 0.44\n",
      "Epoch 779 \t reward: -0.5 \t length 1 \t mean_length 1.5 \t epsilon 0.44\n",
      "Epoch 780 \t reward: 1.5 \t length 2 \t mean_length 1.5 \t epsilon 0.44\n",
      "Epoch 781 \t reward: 1.5 \t length 2 \t mean_length 1.52 \t epsilon 0.44\n",
      "Epoch 782 \t reward: -0.5 \t length 1 \t mean_length 1.5 \t epsilon 0.44\n",
      "Epoch 783 \t reward: -0.5 \t length 1 \t mean_length 1.52 \t epsilon 0.44\n",
      "Epoch 784 \t reward: 1.5 \t length 2 \t mean_length 1.52 \t epsilon 0.44\n",
      "Epoch 785 \t reward: -0.5 \t length 1 \t mean_length 1.52 \t epsilon 0.44\n",
      "Epoch 786 \t reward: 1.5 \t length 2 \t mean_length 1.52 \t epsilon 0.44\n",
      "Epoch 787 \t reward: 1.5 \t length 2 \t mean_length 1.54 \t epsilon 0.44\n",
      "Epoch 788 \t reward: 1.5 \t length 2 \t mean_length 1.54 \t epsilon 0.44\n",
      "Epoch 789 \t reward: 1.5 \t length 2 \t mean_length 1.54 \t epsilon 0.44\n",
      "Epoch 790 \t reward: 1.5 \t length 2 \t mean_length 1.54 \t epsilon 0.44\n",
      "Epoch 791 \t reward: -0.5 \t length 1 \t mean_length 1.56 \t epsilon 0.44\n",
      "Epoch 792 \t reward: 1.5 \t length 2 \t mean_length 1.56 \t epsilon 0.44\n",
      "Epoch 793 \t reward: -0.5 \t length 1 \t mean_length 1.56 \t epsilon 0.44\n",
      "Epoch 794 \t reward: -0.5 \t length 1 \t mean_length 1.54 \t epsilon 0.44\n",
      "Epoch 795 \t reward: -0.5 \t length 1 \t mean_length 1.56 \t epsilon 0.44\n",
      "Epoch 796 \t reward: 1.5 \t length 2 \t mean_length 1.56 \t epsilon 0.44\n",
      "Epoch 797 \t reward: 1.5 \t length 2 \t mean_length 1.58 \t epsilon 0.44\n",
      "Epoch 798 \t reward: 1.5 \t length 2 \t mean_length 1.58 \t epsilon 0.43\n",
      "Epoch 799 \t reward: 1.5 \t length 2 \t mean_length 1.58 \t epsilon 0.43\n",
      "Epoch 800 \t reward: -0.5 \t length 1 \t mean_length 1.56 \t epsilon 0.43\n",
      "Epoch 801 \t reward: 1.5 \t length 2 \t mean_length 1.56 \t epsilon 0.43\n",
      "Epoch 802 \t reward: -0.5 \t length 1 \t mean_length 1.54 \t epsilon 0.43\n",
      "Epoch 803 \t reward: -0.5 \t length 1 \t mean_length 1.5 \t epsilon 0.43\n",
      "Epoch 804 \t reward: 1.5 \t length 2 \t mean_length 1.5 \t epsilon 0.43\n",
      "Epoch 805 \t reward: 1.5 \t length 2 \t mean_length 1.5 \t epsilon 0.43\n",
      "Epoch 806 \t reward: 1.5 \t length 2 \t mean_length 1.5 \t epsilon 0.43\n",
      "Epoch 807 \t reward: -0.5 \t length 1 \t mean_length 1.52 \t epsilon 0.43\n",
      "Epoch 808 \t reward: -0.5 \t length 1 \t mean_length 1.5 \t epsilon 0.43\n",
      "Epoch 809 \t reward: -0.5 \t length 1 \t mean_length 1.5 \t epsilon 0.43\n",
      "Epoch 810 \t reward: -0.5 \t length 1 \t mean_length 1.49 \t epsilon 0.43\n",
      "Epoch 811 \t reward: 1.5 \t length 2 \t mean_length 1.5 \t epsilon 0.43\n",
      "Epoch 812 \t reward: -0.5 \t length 1 \t mean_length 1.49 \t epsilon 0.43\n",
      "Epoch 813 \t reward: 1.5 \t length 2 \t mean_length 1.5 \t epsilon 0.43\n",
      "Epoch 814 \t reward: 1.5 \t length 2 \t mean_length 1.5 \t epsilon 0.43\n",
      "Epoch 815 \t reward: 1.5 \t length 2 \t mean_length 1.52 \t epsilon 0.43\n",
      "Epoch 816 \t reward: -0.5 \t length 1 \t mean_length 1.5 \t epsilon 0.43\n",
      "Epoch 817 \t reward: 1.5 \t length 2 \t mean_length 1.52 \t epsilon 0.43\n",
      "Epoch 818 \t reward: -0.5 \t length 1 \t mean_length 1.5 \t epsilon 0.43\n",
      "Epoch 819 \t reward: 1.5 \t length 2 \t mean_length 1.52 \t epsilon 0.43\n",
      "Epoch 820 \t reward: 1.5 \t length 2 \t mean_length 1.52 \t epsilon 0.43\n",
      "Epoch 821 \t reward: 1.5 \t length 2 \t mean_length 1.52 \t epsilon 0.43\n",
      "Epoch 822 \t reward: -0.5 \t length 1 \t mean_length 1.5 \t epsilon 0.43\n",
      "Epoch 823 \t reward: 1.5 \t length 2 \t mean_length 1.52 \t epsilon 0.43\n",
      "Epoch 824 \t reward: -0.5 \t length 1 \t mean_length 1.5 \t epsilon 0.43\n",
      "Epoch 825 \t reward: 1.5 \t length 2 \t mean_length 1.5 \t epsilon 0.42\n",
      "Epoch 826 \t reward: 1.5 \t length 2 \t mean_length 1.5 \t epsilon 0.42\n",
      "Epoch 827 \t reward: -0.5 \t length 1 \t mean_length 1.52 \t epsilon 0.42\n",
      "Epoch 828 \t reward: 1.5 \t length 2 \t mean_length 1.52 \t epsilon 0.42\n",
      "Epoch 829 \t reward: 1.5 \t length 2 \t mean_length 1.52 \t epsilon 0.42\n",
      "Epoch 830 \t reward: 1.5 \t length 2 \t mean_length 1.52 \t epsilon 0.42\n",
      "Epoch 831 \t reward: -0.5 \t length 1 \t mean_length 1.52 \t epsilon 0.42\n",
      "Epoch 832 \t reward: -0.5 \t length 1 \t mean_length 1.5 \t epsilon 0.42\n",
      "Epoch 833 \t reward: 1.5 \t length 2 \t mean_length 1.5 \t epsilon 0.42\n",
      "Epoch 834 \t reward: 1.5 \t length 2 \t mean_length 1.5 \t epsilon 0.42\n",
      "Epoch 835 \t reward: 1.5 \t length 2 \t mean_length 1.52 \t epsilon 0.42\n",
      "Epoch 836 \t reward: -0.5 \t length 1 \t mean_length 1.5 \t epsilon 0.42\n",
      "Epoch 837 \t reward: -0.5 \t length 1 \t mean_length 1.5 \t epsilon 0.42\n",
      "Epoch 838 \t reward: 1.5 \t length 2 \t mean_length 1.5 \t epsilon 0.42\n",
      "Epoch 839 \t reward: 1.5 \t length 2 \t mean_length 1.52 \t epsilon 0.42\n",
      "Epoch 840 \t reward: 1.5 \t length 2 \t mean_length 1.52 \t epsilon 0.42\n",
      "Epoch 841 \t reward: -0.5 \t length 1 \t mean_length 1.52 \t epsilon 0.42\n",
      "Epoch 842 \t reward: 1.5 \t length 2 \t mean_length 1.52 \t epsilon 0.42\n",
      "Epoch 843 \t reward: 1.5 \t length 2 \t mean_length 1.54 \t epsilon 0.42\n",
      "Epoch 844 \t reward: 4.0 \t length 3 \t mean_length 1.56 \t epsilon 0.42\n",
      "Epoch 845 \t reward: 4.0 \t length 3 \t mean_length 1.56 \t epsilon 0.42\n",
      "Epoch 846 \t reward: 1.5 \t length 2 \t mean_length 1.56 \t epsilon 0.42\n",
      "Epoch 847 \t reward: 1.5 \t length 2 \t mean_length 1.58 \t epsilon 0.42\n",
      "Epoch 848 \t reward: -0.5 \t length 1 \t mean_length 1.56 \t epsilon 0.42\n",
      "Epoch 849 \t reward: 1.5 \t length 2 \t mean_length 1.56 \t epsilon 0.42\n",
      "Epoch 850 \t reward: 1.5 \t length 2 \t mean_length 1.56 \t epsilon 0.42\n",
      "Epoch 851 \t reward: 1.5 \t length 2 \t mean_length 1.58 \t epsilon 0.42\n",
      "Epoch 852 \t reward: 4.0 \t length 3 \t mean_length 1.6 \t epsilon 0.41\n",
      "Epoch 853 \t reward: 1.5 \t length 2 \t mean_length 1.6 \t epsilon 0.41\n",
      "Epoch 854 \t reward: 4.0 \t length 3 \t mean_length 1.62 \t epsilon 0.41\n",
      "Epoch 855 \t reward: 1.5 \t length 2 \t mean_length 1.64 \t epsilon 0.41\n",
      "Epoch 856 \t reward: 1.5 \t length 2 \t mean_length 1.64 \t epsilon 0.41\n",
      "Epoch 857 \t reward: -0.5 \t length 1 \t mean_length 1.66 \t epsilon 0.41\n",
      "Epoch 858 \t reward: 1.5 \t length 2 \t mean_length 1.66 \t epsilon 0.41\n",
      "Epoch 859 \t reward: 1.5 \t length 2 \t mean_length 1.68 \t epsilon 0.41\n",
      "Epoch 860 \t reward: 1.5 \t length 2 \t mean_length 1.68 \t epsilon 0.41\n",
      "Epoch 861 \t reward: 1.5 \t length 2 \t mean_length 1.7 \t epsilon 0.41\n",
      "Epoch 862 \t reward: -0.5 \t length 1 \t mean_length 1.68 \t epsilon 0.41\n",
      "Epoch 863 \t reward: 1.5 \t length 2 \t mean_length 1.7 \t epsilon 0.41\n",
      "Epoch 864 \t reward: 1.5 \t length 2 \t mean_length 1.7 \t epsilon 0.41\n",
      "Epoch 865 \t reward: 4.0 \t length 3 \t mean_length 1.72 \t epsilon 0.41\n",
      "Q_matrix of initial state, after training: step 801\n"
     ]
    },
    {
     "output_type": "display_data",
     "data": {
      "text/plain": "<PIL.Image.Image image mode=RGBA size=128x128 at 0x1978F606460>",
      "image/png": "[encoded data removed]"
     },
     "metadata": {}
    },
    {
     "output_type": "stream",
     "name": "stdout",
     "text": [
      "29\n"
     ]
    },
    {
     "output_type": "display_data",
     "data": {
      "text/plain": "<PIL.Image.Image image mode=RGBA size=128x128 at 0x1978F606460>",
      "image/png": "[encoded data removed]"
     },
     "metadata": {}
    },
    {
     "output_type": "stream",
     "name": "stdout",
     "text": [
      "-------------\n"
     ]
    },
    {
     "output_type": "display_data",
     "data": {
      "text/plain": "<PIL.Image.Image image mode=RGBA size=128x128 at 0x1978F606DF0>",
      "image/png": "[encoded data removed]"
     },
     "metadata": {}
    },
    {
     "output_type": "stream",
     "name": "stdout",
     "text": [
      "26\n",
      "Epoch 866 \t reward: -0.5 \t length 1 \t mean_length 1.7 \t epsilon 0.41\n",
      "Epoch 867 \t reward: -0.5 \t length 1 \t mean_length 1.7 \t epsilon 0.41\n",
      "Epoch 868 \t reward: -0.5 \t length 1 \t mean_length 1.68 \t epsilon 0.41\n",
      "Epoch 869 \t reward: -0.5 \t length 1 \t mean_length 1.68 \t epsilon 0.41\n",
      "Epoch 870 \t reward: -0.5 \t length 1 \t mean_length 1.66 \t epsilon 0.41\n",
      "Epoch 871 \t reward: 4.0 \t length 3 \t mean_length 1.68 \t epsilon 0.41\n",
      "Epoch 872 \t reward: -0.5 \t length 1 \t mean_length 1.66 \t epsilon 0.41\n",
      "Epoch 873 \t reward: 4.0 \t length 3 \t mean_length 1.68 \t epsilon 0.41\n",
      "Epoch 874 \t reward: 1.5 \t length 2 \t mean_length 1.68 \t epsilon 0.41\n",
      "Epoch 875 \t reward: -0.5 \t length 1 \t mean_length 1.68 \t epsilon 0.41\n",
      "Epoch 876 \t reward: 1.5 \t length 2 \t mean_length 1.68 \t epsilon 0.41\n",
      "Epoch 877 \t reward: -0.5 \t length 1 \t mean_length 1.68 \t epsilon 0.41\n",
      "Epoch 878 \t reward: 1.5 \t length 2 \t mean_length 1.68 \t epsilon 0.41\n",
      "Epoch 879 \t reward: -0.5 \t length 1 \t mean_length 1.68 \t epsilon 0.41\n",
      "Epoch 880 \t reward: 1.5 \t length 2 \t mean_length 1.68 \t epsilon 0.4\n",
      "Epoch 881 \t reward: 1.5 \t length 2 \t mean_length 1.68 \t epsilon 0.4\n",
      "Epoch 882 \t reward: -0.5 \t length 1 \t mean_length 1.66 \t epsilon 0.4\n",
      "Epoch 883 \t reward: -0.5 \t length 1 \t mean_length 1.68 \t epsilon 0.4\n",
      "Epoch 884 \t reward: 1.5 \t length 2 \t mean_length 1.68 \t epsilon 0.4\n",
      "Epoch 885 \t reward: -0.5 \t length 1 \t mean_length 1.68 \t epsilon 0.4\n",
      "Epoch 886 \t reward: 1.5 \t length 2 \t mean_length 1.68 \t epsilon 0.4\n",
      "Epoch 887 \t reward: 1.5 \t length 2 \t mean_length 1.68 \t epsilon 0.4\n",
      "Epoch 888 \t reward: 4.0 \t length 3 \t mean_length 1.7 \t epsilon 0.4\n",
      "Epoch 889 \t reward: 1.5 \t length 2 \t mean_length 1.7 \t epsilon 0.4\n",
      "Epoch 890 \t reward: -0.5 \t length 1 \t mean_length 1.68 \t epsilon 0.4\n",
      "Epoch 891 \t reward: 1.5 \t length 2 \t mean_length 1.68 \t epsilon 0.4\n",
      "Epoch 892 \t reward: -0.5 \t length 1 \t mean_length 1.66 \t epsilon 0.4\n",
      "Epoch 893 \t reward: 1.5 \t length 2 \t mean_length 1.66 \t epsilon 0.4\n",
      "Epoch 894 \t reward: -0.5 \t length 1 \t mean_length 1.64 \t epsilon 0.4\n",
      "Epoch 895 \t reward: 4.0 \t length 3 \t mean_length 1.66 \t epsilon 0.4\n",
      "Epoch 896 \t reward: -0.5 \t length 1 \t mean_length 1.64 \t epsilon 0.4\n",
      "Epoch 897 \t reward: -0.5 \t length 1 \t mean_length 1.64 \t epsilon 0.4\n",
      "Epoch 898 \t reward: 1.5 \t length 2 \t mean_length 1.64 \t epsilon 0.4\n",
      "Epoch 899 \t reward: -0.5 \t length 1 \t mean_length 1.64 \t epsilon 0.4\n",
      "Epoch 900 \t reward: 4.0 \t length 3 \t mean_length 1.66 \t epsilon 0.4\n",
      "Epoch 901 \t reward: 1.5 \t length 2 \t mean_length 1.68 \t epsilon 0.4\n",
      "Epoch 902 \t reward: 1.5 \t length 2 \t mean_length 1.68 \t epsilon 0.4\n",
      "Epoch 903 \t reward: -0.5 \t length 1 \t mean_length 1.7 \t epsilon 0.4\n",
      "Epoch 904 \t reward: -0.5 \t length 1 \t mean_length 1.68 \t epsilon 0.4\n",
      "Epoch 905 \t reward: 1.5 \t length 2 \t mean_length 1.68 \t epsilon 0.4\n",
      "Epoch 906 \t reward: 1.5 \t length 2 \t mean_length 1.68 \t epsilon 0.4\n",
      "Epoch 907 \t reward: 4.0 \t length 3 \t mean_length 1.68 \t epsilon 0.4\n",
      "Epoch 908 \t reward: 4.0 \t length 3 \t mean_length 1.7 \t epsilon 0.4\n",
      "Epoch 909 \t reward: 1.5 \t length 2 \t mean_length 1.72 \t epsilon 0.39\n",
      "Epoch 910 \t reward: -0.5 \t length 1 \t mean_length 1.7 \t epsilon 0.39\n",
      "Epoch 911 \t reward: 4.0 \t length 3 \t mean_length 1.72 \t epsilon 0.39\n",
      "Epoch 912 \t reward: -0.5 \t length 1 \t mean_length 1.7 \t epsilon 0.39\n",
      "Epoch 913 \t reward: 1.5 \t length 2 \t mean_length 1.72 \t epsilon 0.39\n",
      "Epoch 914 \t reward: 1.5 \t length 2 \t mean_length 1.72 \t epsilon 0.39\n",
      "Epoch 915 \t reward: -0.5 \t length 1 \t mean_length 1.72 \t epsilon 0.39\n",
      "Epoch 916 \t reward: 1.5 \t length 2 \t mean_length 1.72 \t epsilon 0.39\n",
      "Epoch 917 \t reward: -0.5 \t length 1 \t mean_length 1.74 \t epsilon 0.39\n",
      "Epoch 918 \t reward: 1.5 \t length 2 \t mean_length 1.74 \t epsilon 0.39\n",
      "Epoch 919 \t reward: 1.5 \t length 2 \t mean_length 1.76 \t epsilon 0.39\n",
      "Epoch 920 \t reward: 4.0 \t length 3 \t mean_length 1.78 \t epsilon 0.39\n",
      "Epoch 921 \t reward: 1.5 \t length 2 \t mean_length 1.78 \t epsilon 0.39\n",
      "Epoch 922 \t reward: -0.5 \t length 1 \t mean_length 1.76 \t epsilon 0.39\n",
      "Epoch 923 \t reward: -0.5 \t length 1 \t mean_length 1.78 \t epsilon 0.39\n",
      "Epoch 924 \t reward: 1.5 \t length 2 \t mean_length 1.78 \t epsilon 0.39\n",
      "Epoch 925 \t reward: 1.5 \t length 2 \t mean_length 1.8 \t epsilon 0.39\n",
      "Epoch 926 \t reward: 1.5 \t length 2 \t mean_length 1.8 \t epsilon 0.39\n",
      "Epoch 927 \t reward: -0.5 \t length 1 \t mean_length 1.8 \t epsilon 0.39\n",
      "Epoch 928 \t reward: 4.0 \t length 3 \t mean_length 1.82 \t epsilon 0.39\n",
      "Epoch 929 \t reward: 4.0 \t length 3 \t mean_length 1.82 \t epsilon 0.39\n",
      "Epoch 930 \t reward: 1.5 \t length 2 \t mean_length 1.82 \t epsilon 0.39\n",
      "Epoch 931 \t reward: -0.5 \t length 1 \t mean_length 1.82 \t epsilon 0.39\n",
      "Epoch 932 \t reward: -0.5 \t length 1 \t mean_length 1.8 \t epsilon 0.39\n",
      "Epoch 933 \t reward: -0.5 \t length 1 \t mean_length 1.82 \t epsilon 0.39\n",
      "Epoch 934 \t reward: 1.5 \t length 2 \t mean_length 1.82 \t epsilon 0.39\n",
      "Epoch 935 \t reward: 4.0 \t length 3 \t mean_length 1.82 \t epsilon 0.39\n",
      "Epoch 936 \t reward: 1.5 \t length 2 \t mean_length 1.82 \t epsilon 0.39\n",
      "Epoch 937 \t reward: -0.5 \t length 1 \t mean_length 1.84 \t epsilon 0.39\n",
      "Epoch 938 \t reward: -0.5 \t length 1 \t mean_length 1.82 \t epsilon 0.39\n",
      "Epoch 939 \t reward: 1.5 \t length 2 \t mean_length 1.82 \t epsilon 0.38\n",
      "Epoch 940 \t reward: 1.5 \t length 2 \t mean_length 1.82 \t epsilon 0.38\n",
      "Epoch 941 \t reward: 4.0 \t length 3 \t mean_length 1.82 \t epsilon 0.38\n",
      "Epoch 942 \t reward: 1.5 \t length 2 \t mean_length 1.82 \t epsilon 0.38\n",
      "Epoch 943 \t reward: -0.5 \t length 1 \t mean_length 1.82 \t epsilon 0.38\n",
      "Epoch 944 \t reward: 1.5 \t length 2 \t mean_length 1.82 \t epsilon 0.38\n",
      "Epoch 945 \t reward: -0.5 \t length 1 \t mean_length 1.8 \t epsilon 0.38\n",
      "Epoch 946 \t reward: 1.5 \t length 2 \t mean_length 1.8 \t epsilon 0.38\n",
      "Epoch 947 \t reward: -0.5 \t length 1 \t mean_length 1.8 \t epsilon 0.38\n",
      "Epoch 948 \t reward: -0.5 \t length 1 \t mean_length 1.78 \t epsilon 0.38\n",
      "Epoch 949 \t reward: -0.5 \t length 1 \t mean_length 1.8 \t epsilon 0.38\n",
      "Epoch 950 \t reward: 4.0 \t length 3 \t mean_length 1.82 \t epsilon 0.38\n",
      "Epoch 951 \t reward: -0.5 \t length 1 \t mean_length 1.82 \t epsilon 0.38\n",
      "Epoch 952 \t reward: 4.0 \t length 3 \t mean_length 1.84 \t epsilon 0.38\n",
      "Epoch 953 \t reward: 1.5 \t length 2 \t mean_length 1.82 \t epsilon 0.38\n",
      "Epoch 954 \t reward: 1.5 \t length 2 \t mean_length 1.82 \t epsilon 0.38\n",
      "Epoch 955 \t reward: -0.5 \t length 1 \t mean_length 1.8 \t epsilon 0.38\n",
      "Epoch 956 \t reward: 1.5 \t length 2 \t mean_length 1.8 \t epsilon 0.38\n",
      "Epoch 957 \t reward: 1.5 \t length 2 \t mean_length 1.8 \t epsilon 0.38\n",
      "Epoch 958 \t reward: 7.0 \t length 4 \t mean_length 1.84 \t epsilon 0.38\n",
      "Epoch 959 \t reward: -0.5 \t length 1 \t mean_length 1.84 \t epsilon 0.38\n",
      "Epoch 960 \t reward: 1.5 \t length 2 \t mean_length 1.84 \t epsilon 0.38\n",
      "Epoch 961 \t reward: -0.5 \t length 1 \t mean_length 1.84 \t epsilon 0.38\n",
      "Epoch 962 \t reward: 1.5 \t length 2 \t mean_length 1.84 \t epsilon 0.38\n",
      "Epoch 963 \t reward: -0.5 \t length 1 \t mean_length 1.86 \t epsilon 0.38\n",
      "Epoch 964 \t reward: -0.5 \t length 1 \t mean_length 1.84 \t epsilon 0.38\n",
      "Epoch 965 \t reward: 1.5 \t length 2 \t mean_length 1.84 \t epsilon 0.38\n",
      "Q_matrix of initial state, after training: step 901\n"
     ]
    },
    {
     "output_type": "display_data",
     "data": {
      "text/plain": "<PIL.Image.Image image mode=RGBA size=128x128 at 0x1978F606760>",
      "image/png": "[encoded data removed]"
     },
     "metadata": {}
    },
    {
     "output_type": "stream",
     "name": "stdout",
     "text": [
      "29\n"
     ]
    },
    {
     "output_type": "display_data",
     "data": {
      "text/plain": "<PIL.Image.Image image mode=RGBA size=128x128 at 0x1978F606760>",
      "image/png": "[encoded data removed]"
     },
     "metadata": {}
    },
    {
     "output_type": "stream",
     "name": "stdout",
     "text": [
      "-------------\n"
     ]
    },
    {
     "output_type": "display_data",
     "data": {
      "text/plain": "<PIL.Image.Image image mode=RGBA size=128x128 at 0x1978F606730>",
      "image/png": "[encoded data removed]"
     },
     "metadata": {}
    },
    {
     "output_type": "stream",
     "name": "stdout",
     "text": [
      "34\n",
      "Epoch 966 \t reward: 1.5 \t length 2 \t mean_length 1.84 \t epsilon 0.38\n",
      "Epoch 967 \t reward: 4.0 \t length 3 \t mean_length 1.86 \t epsilon 0.38\n",
      "Epoch 968 \t reward: 4.0 \t length 3 \t mean_length 1.88 \t epsilon 0.38\n",
      "Epoch 969 \t reward: -0.5 \t length 1 \t mean_length 1.9 \t epsilon 0.37\n",
      "Epoch 970 \t reward: 1.5 \t length 2 \t mean_length 1.9 \t epsilon 0.37\n",
      "Epoch 971 \t reward: 1.5 \t length 2 \t mean_length 1.92 \t epsilon 0.37\n",
      "Epoch 972 \t reward: 4.0 \t length 3 \t mean_length 1.94 \t epsilon 0.37\n",
      "Epoch 973 \t reward: -0.5 \t length 1 \t mean_length 1.96 \t epsilon 0.37\n",
      "Epoch 974 \t reward: 7.0 \t length 4 \t mean_length 2.0 \t epsilon 0.37\n",
      "Epoch 975 \t reward: -0.5 \t length 1 \t mean_length 2.0 \t epsilon 0.37\n",
      "Epoch 976 \t reward: -0.5 \t length 1 \t mean_length 1.98 \t epsilon 0.37\n",
      "Epoch 977 \t reward: -0.5 \t length 1 \t mean_length 1.98 \t epsilon 0.37\n",
      "Epoch 978 \t reward: 1.5 \t length 2 \t mean_length 1.98 \t epsilon 0.37\n",
      "Epoch 979 \t reward: -0.5 \t length 1 \t mean_length 1.98 \t epsilon 0.37\n",
      "Epoch 980 \t reward: 1.5 \t length 2 \t mean_length 1.98 \t epsilon 0.37\n",
      "Epoch 981 \t reward: -0.5 \t length 1 \t mean_length 1.98 \t epsilon 0.37\n",
      "Epoch 982 \t reward: 4.0 \t length 3 \t mean_length 2.0 \t epsilon 0.37\n",
      "Epoch 983 \t reward: -0.5 \t length 1 \t mean_length 2.02 \t epsilon 0.37\n",
      "Epoch 984 \t reward: 4.0 \t length 3 \t mean_length 2.03 \t epsilon 0.37\n",
      "Epoch 985 \t reward: 4.0 \t length 3 \t mean_length 2.04 \t epsilon 0.37\n",
      "Epoch 986 \t reward: -0.5 \t length 1 \t mean_length 2.01 \t epsilon 0.37\n",
      "Epoch 987 \t reward: -0.5 \t length 1 \t mean_length 2.02 \t epsilon 0.37\n",
      "Epoch 988 \t reward: -0.5 \t length 1 \t mean_length 2.0 \t epsilon 0.37\n",
      "Epoch 989 \t reward: 4.0 \t length 3 \t mean_length 1.98 \t epsilon 0.37\n",
      "Epoch 990 \t reward: 4.0 \t length 3 \t mean_length 2.0 \t epsilon 0.37\n",
      "Epoch 991 \t reward: 4.0 \t length 3 \t mean_length 2.02 \t epsilon 0.37\n",
      "Epoch 992 \t reward: -0.5 \t length 1 \t mean_length 2.0 \t epsilon 0.37\n",
      "Epoch 993 \t reward: 1.5 \t length 2 \t mean_length 2.02 \t epsilon 0.37\n",
      "Epoch 994 \t reward: 1.5 \t length 2 \t mean_length 2.01 \t epsilon 0.37\n",
      "Epoch 995 \t reward: 4.0 \t length 3 \t mean_length 2.04 \t epsilon 0.37\n",
      "Epoch 996 \t reward: 4.0 \t length 3 \t mean_length 2.05 \t epsilon 0.37\n",
      "Epoch 997 \t reward: 1.5 \t length 2 \t mean_length 2.08 \t epsilon 0.37\n",
      "Epoch 998 \t reward: 1.5 \t length 2 \t mean_length 2.07 \t epsilon 0.37\n",
      "Epoch 999 \t reward: 4.0 \t length 3 \t mean_length 2.08 \t epsilon 0.37\n",
      "Epoch 1000 \t reward: 1.5 \t length 2 \t mean_length 2.07 \t epsilon 0.37\n",
      "Epoch 1001 \t reward: 4.0 \t length 3 \t mean_length 2.06 \t epsilon 0.36\n",
      "Epoch 1002 \t reward: -0.5 \t length 1 \t mean_length 2.03 \t epsilon 0.36\n",
      "Epoch 1003 \t reward: 4.0 \t length 3 \t mean_length 2.04 \t epsilon 0.36\n",
      "Epoch 1004 \t reward: 4.0 \t length 3 \t mean_length 2.05 \t epsilon 0.36\n",
      "Epoch 1005 \t reward: 4.0 \t length 3 \t mean_length 2.08 \t epsilon 0.36\n",
      "Epoch 1006 \t reward: -0.5 \t length 1 \t mean_length 2.05 \t epsilon 0.36\n",
      "Epoch 1007 \t reward: 1.5 \t length 2 \t mean_length 2.06 \t epsilon 0.36\n",
      "Epoch 1008 \t reward: 4.0 \t length 3 \t mean_length 2.07 \t epsilon 0.36\n",
      "Epoch 1009 \t reward: 1.5 \t length 2 \t mean_length 2.06 \t epsilon 0.36\n",
      "Epoch 1010 \t reward: 1.5 \t length 2 \t mean_length 2.05 \t epsilon 0.36\n",
      "Epoch 1011 \t reward: -0.5 \t length 1 \t mean_length 2.08 \t epsilon 0.36\n",
      "Epoch 1012 \t reward: -0.5 \t length 1 \t mean_length 2.05 \t epsilon 0.36\n",
      "Epoch 1013 \t reward: -0.5 \t length 1 \t mean_length 2.08 \t epsilon 0.36\n",
      "Epoch 1014 \t reward: 7.0 \t length 4 \t mean_length 2.11 \t epsilon 0.36\n",
      "Epoch 1015 \t reward: 1.5 \t length 2 \t mean_length 2.12 \t epsilon 0.36\n",
      "Epoch 1016 \t reward: 4.0 \t length 3 \t mean_length 2.13 \t epsilon 0.36\n",
      "Epoch 1017 \t reward: 1.5 \t length 2 \t mean_length 2.14 \t epsilon 0.36\n",
      "Epoch 1018 \t reward: -0.5 \t length 1 \t mean_length 2.11 \t epsilon 0.36\n",
      "Epoch 1019 \t reward: 4.0 \t length 3 \t mean_length 2.12 \t epsilon 0.36\n",
      "Epoch 1020 \t reward: -0.5 \t length 1 \t mean_length 2.09 \t epsilon 0.36\n",
      "Epoch 1021 \t reward: 4.0 \t length 3 \t mean_length 2.08 \t epsilon 0.36\n",
      "Epoch 1022 \t reward: 1.5 \t length 2 \t mean_length 2.07 \t epsilon 0.36\n",
      "Epoch 1023 \t reward: -0.5 \t length 1 \t mean_length 2.1 \t epsilon 0.36\n",
      "Epoch 1024 \t reward: -0.5 \t length 1 \t mean_length 2.07 \t epsilon 0.36\n",
      "Epoch 1025 \t reward: -0.5 \t length 1 \t mean_length 2.08 \t epsilon 0.36\n",
      "Epoch 1026 \t reward: -0.5 \t length 1 \t mean_length 2.05 \t epsilon 0.36\n",
      "Epoch 1027 \t reward: 1.5 \t length 2 \t mean_length 2.06 \t epsilon 0.36\n",
      "Epoch 1028 \t reward: -0.5 \t length 1 \t mean_length 2.03 \t epsilon 0.36\n",
      "Epoch 1029 \t reward: 4.0 \t length 3 \t mean_length 2.02 \t epsilon 0.36\n",
      "Epoch 1030 \t reward: -0.5 \t length 1 \t mean_length 2.0 \t epsilon 0.36\n",
      "Epoch 1031 \t reward: 1.5 \t length 2 \t mean_length 2.0 \t epsilon 0.36\n",
      "Epoch 1032 \t reward: 1.5 \t length 2 \t mean_length 2.0 \t epsilon 0.36\n",
      "Epoch 1033 \t reward: 4.0 \t length 3 \t mean_length 2.02 \t epsilon 0.35\n",
      "Epoch 1034 \t reward: 1.5 \t length 2 \t mean_length 2.01 \t epsilon 0.35\n",
      "Epoch 1035 \t reward: 1.5 \t length 2 \t mean_length 2.02 \t epsilon 0.35\n",
      "Epoch 1036 \t reward: -0.5 \t length 1 \t mean_length 2.0 \t epsilon 0.35\n",
      "Epoch 1037 \t reward: 1.5 \t length 2 \t mean_length 2.0 \t epsilon 0.35\n",
      "Epoch 1038 \t reward: 1.5 \t length 2 \t mean_length 2.0 \t epsilon 0.35\n",
      "Epoch 1039 \t reward: 4.0 \t length 3 \t mean_length 2.02 \t epsilon 0.35\n",
      "Epoch 1040 \t reward: 4.0 \t length 3 \t mean_length 2.03 \t epsilon 0.35\n",
      "Epoch 1041 \t reward: -0.5 \t length 1 \t mean_length 2.04 \t epsilon 0.35\n",
      "Epoch 1042 \t reward: 4.0 \t length 3 \t mean_length 2.05 \t epsilon 0.35\n",
      "Epoch 1043 \t reward: 1.5 \t length 2 \t mean_length 2.06 \t epsilon 0.35\n",
      "Epoch 1044 \t reward: 4.0 \t length 3 \t mean_length 2.07 \t epsilon 0.35\n",
      "Epoch 1045 \t reward: -0.5 \t length 1 \t mean_length 2.08 \t epsilon 0.35\n",
      "Epoch 1046 \t reward: 4.0 \t length 3 \t mean_length 2.09 \t epsilon 0.35\n",
      "Epoch 1047 \t reward: -0.5 \t length 1 \t mean_length 2.1 \t epsilon 0.35\n",
      "Epoch 1048 \t reward: 4.0 \t length 3 \t mean_length 2.11 \t epsilon 0.35\n",
      "Epoch 1049 \t reward: 4.0 \t length 3 \t mean_length 2.14 \t epsilon 0.35\n",
      "Epoch 1050 \t reward: 4.0 \t length 3 \t mean_length 2.15 \t epsilon 0.35\n",
      "Epoch 1051 \t reward: -0.5 \t length 1 \t mean_length 2.14 \t epsilon 0.35\n",
      "Epoch 1052 \t reward: 4.0 \t length 3 \t mean_length 2.15 \t epsilon 0.35\n",
      "Epoch 1053 \t reward: 1.5 \t length 2 \t mean_length 2.14 \t epsilon 0.35\n",
      "Epoch 1054 \t reward: 4.0 \t length 3 \t mean_length 2.15 \t epsilon 0.35\n",
      "Epoch 1055 \t reward: -0.5 \t length 1 \t mean_length 2.16 \t epsilon 0.35\n",
      "Epoch 1056 \t reward: 4.0 \t length 3 \t mean_length 2.17 \t epsilon 0.35\n",
      "Epoch 1057 \t reward: 1.5 \t length 2 \t mean_length 2.18 \t epsilon 0.35\n",
      "Epoch 1058 \t reward: 1.5 \t length 2 \t mean_length 2.17 \t epsilon 0.35\n",
      "Epoch 1059 \t reward: 1.5 \t length 2 \t mean_length 2.14 \t epsilon 0.35\n",
      "Epoch 1060 \t reward: -0.5 \t length 1 \t mean_length 2.11 \t epsilon 0.35\n",
      "Epoch 1061 \t reward: 4.0 \t length 3 \t mean_length 2.12 \t epsilon 0.35\n",
      "Epoch 1062 \t reward: -0.5 \t length 1 \t mean_length 2.09 \t epsilon 0.35\n",
      "Epoch 1063 \t reward: 1.5 \t length 2 \t mean_length 2.1 \t epsilon 0.35\n",
      "Epoch 1064 \t reward: 1.5 \t length 2 \t mean_length 2.09 \t epsilon 0.35\n",
      "Epoch 1065 \t reward: 4.0 \t length 3 \t mean_length 2.12 \t epsilon 0.35\n",
      "Q_matrix of initial state, after training: step 1001\n"
     ]
    },
    {
     "output_type": "display_data",
     "data": {
      "text/plain": "<PIL.Image.Image image mode=RGBA size=128x128 at 0x1978F606490>",
      "image/png": "[encoded data removed]"
     },
     "metadata": {}
    },
    {
     "output_type": "stream",
     "name": "stdout",
     "text": [
      "29\n"
     ]
    },
    {
     "output_type": "display_data",
     "data": {
      "text/plain": "<PIL.Image.Image image mode=RGBA size=128x128 at 0x1978F606490>",
      "image/png": "[encoded data removed]"
     },
     "metadata": {}
    },
    {
     "output_type": "stream",
     "name": "stdout",
     "text": [
      "-------------\n"
     ]
    },
    {
     "output_type": "display_data",
     "data": {
      "text/plain": "<PIL.Image.Image image mode=RGBA size=128x128 at 0x1978F606C10>",
      "image/png": "[encoded data removed]"
     },
     "metadata": {}
    },
    {
     "output_type": "stream",
     "name": "stdout",
     "text": [
      "34\n",
      "Epoch 1066 \t reward: 4.0 \t length 3 \t mean_length 2.13 \t epsilon 0.35\n",
      "Epoch 1067 \t reward: 4.0 \t length 3 \t mean_length 2.14 \t epsilon 0.34\n",
      "Epoch 1068 \t reward: -0.5 \t length 1 \t mean_length 2.11 \t epsilon 0.34\n",
      "Epoch 1069 \t reward: -0.5 \t length 1 \t mean_length 2.1 \t epsilon 0.34\n",
      "Epoch 1070 \t reward: 4.0 \t length 3 \t mean_length 2.11 \t epsilon 0.34\n",
      "Epoch 1071 \t reward: 4.0 \t length 3 \t mean_length 2.12 \t epsilon 0.34\n",
      "Epoch 1072 \t reward: 4.0 \t length 3 \t mean_length 2.13 \t epsilon 0.34\n",
      "Epoch 1073 \t reward: 1.5 \t length 2 \t mean_length 2.12 \t epsilon 0.34\n",
      "Epoch 1074 \t reward: 4.0 \t length 3 \t mean_length 2.13 \t epsilon 0.34\n",
      "Epoch 1075 \t reward: 7.0 \t length 4 \t mean_length 2.1 \t epsilon 0.34\n",
      "Epoch 1076 \t reward: -0.5 \t length 1 \t mean_length 2.07 \t epsilon 0.34\n",
      "Epoch 1077 \t reward: 4.0 \t length 3 \t mean_length 2.1 \t epsilon 0.34\n",
      "Epoch 1078 \t reward: 1.5 \t length 2 \t mean_length 2.09 \t epsilon 0.34\n",
      "Epoch 1079 \t reward: 1.5 \t length 2 \t mean_length 2.1 \t epsilon 0.34\n",
      "Epoch 1080 \t reward: -0.5 \t length 1 \t mean_length 2.07 \t epsilon 0.34\n",
      "Epoch 1081 \t reward: -0.5 \t length 1 \t mean_length 2.08 \t epsilon 0.34\n",
      "Epoch 1082 \t reward: -0.5 \t length 1 \t mean_length 2.05 \t epsilon 0.34\n",
      "Epoch 1083 \t reward: 1.5 \t length 2 \t mean_length 2.04 \t epsilon 0.34\n",
      "Epoch 1084 \t reward: 4.0 \t length 3 \t mean_length 2.05 \t epsilon 0.34\n",
      "Epoch 1085 \t reward: -0.5 \t length 1 \t mean_length 2.04 \t epsilon 0.34\n",
      "Epoch 1086 \t reward: 1.5 \t length 2 \t mean_length 2.03 \t epsilon 0.34\n",
      "Epoch 1087 \t reward: 4.0 \t length 3 \t mean_length 2.06 \t epsilon 0.34\n",
      "Epoch 1088 \t reward: 4.0 \t length 3 \t mean_length 2.07 \t epsilon 0.34\n",
      "Epoch 1089 \t reward: 4.0 \t length 3 \t mean_length 2.1 \t epsilon 0.34\n",
      "Epoch 1090 \t reward: 1.5 \t length 2 \t mean_length 2.09 \t epsilon 0.34\n",
      "Epoch 1091 \t reward: 4.0 \t length 3 \t mean_length 2.08 \t epsilon 0.34\n",
      "Epoch 1092 \t reward: 4.0 \t length 3 \t mean_length 2.09 \t epsilon 0.34\n",
      "Epoch 1093 \t reward: 1.5 \t length 2 \t mean_length 2.12 \t epsilon 0.34\n",
      "Epoch 1094 \t reward: 4.0 \t length 3 \t mean_length 2.13 \t epsilon 0.34\n",
      "Epoch 1095 \t reward: 4.0 \t length 3 \t mean_length 2.14 \t epsilon 0.34\n",
      "Epoch 1096 \t reward: 4.0 \t length 3 \t mean_length 2.15 \t epsilon 0.34\n",
      "Epoch 1097 \t reward: 4.0 \t length 3 \t mean_length 2.14 \t epsilon 0.34\n",
      "Epoch 1098 \t reward: 4.0 \t length 3 \t mean_length 2.15 \t epsilon 0.34\n",
      "Epoch 1099 \t reward: -0.5 \t length 1 \t mean_length 2.16 \t epsilon 0.34\n",
      "Epoch 1100 \t reward: 4.0 \t length 3 \t mean_length 2.17 \t epsilon 0.34\n",
      "Epoch 1101 \t reward: 1.5 \t length 2 \t mean_length 2.18 \t epsilon 0.34\n",
      "Epoch 1102 \t reward: 4.0 \t length 3 \t mean_length 2.19 \t epsilon 0.33\n",
      "Epoch 1103 \t reward: 4.0 \t length 3 \t mean_length 2.22 \t epsilon 0.33\n",
      "Epoch 1104 \t reward: 1.5 \t length 2 \t mean_length 2.21 \t epsilon 0.33\n",
      "Epoch 1105 \t reward: 4.0 \t length 3 \t mean_length 2.2 \t epsilon 0.33\n",
      "Epoch 1106 \t reward: 4.0 \t length 3 \t mean_length 2.21 \t epsilon 0.33\n",
      "Epoch 1107 \t reward: 1.5 \t length 2 \t mean_length 2.24 \t epsilon 0.33\n",
      "Epoch 1108 \t reward: -0.5 \t length 1 \t mean_length 2.21 \t epsilon 0.33\n",
      "Epoch 1109 \t reward: 4.0 \t length 3 \t mean_length 2.2 \t epsilon 0.33\n",
      "Epoch 1110 \t reward: 4.0 \t length 3 \t mean_length 2.21 \t epsilon 0.33\n",
      "Epoch 1111 \t reward: -0.5 \t length 1 \t mean_length 2.22 \t epsilon 0.33\n",
      "Epoch 1112 \t reward: 4.0 \t length 3 \t mean_length 2.23 \t epsilon 0.33\n",
      "Epoch 1113 \t reward: -0.5 \t length 1 \t mean_length 2.25 \t epsilon 0.33\n",
      "Epoch 1114 \t reward: 4.0 \t length 3 \t mean_length 2.27 \t epsilon 0.33\n",
      "Epoch 1115 \t reward: 4.0 \t length 3 \t mean_length 2.24 \t epsilon 0.33\n",
      "Epoch 1116 \t reward: 4.0 \t length 3 \t mean_length 2.25 \t epsilon 0.33\n",
      "Epoch 1117 \t reward: 1.5 \t length 2 \t mean_length 2.24 \t epsilon 0.33\n",
      "Epoch 1118 \t reward: -0.5 \t length 1 \t mean_length 2.21 \t epsilon 0.33\n",
      "Epoch 1119 \t reward: -0.5 \t length 1 \t mean_length 2.24 \t epsilon 0.33\n",
      "Epoch 1120 \t reward: -0.5 \t length 1 \t mean_length 2.21 \t epsilon 0.33\n",
      "Epoch 1121 \t reward: 1.5 \t length 2 \t mean_length 2.24 \t epsilon 0.33\n",
      "Epoch 1122 \t reward: -0.5 \t length 1 \t mean_length 2.21 \t epsilon 0.33\n",
      "Epoch 1123 \t reward: -0.5 \t length 1 \t mean_length 2.22 \t epsilon 0.33\n",
      "Epoch 1124 \t reward: -0.5 \t length 1 \t mean_length 2.19 \t epsilon 0.33\n",
      "Epoch 1125 \t reward: -0.5 \t length 1 \t mean_length 2.22 \t epsilon 0.33\n",
      "Epoch 1126 \t reward: 7.0 \t length 4 \t mean_length 2.25 \t epsilon 0.33\n",
      "Epoch 1127 \t reward: 4.0 \t length 3 \t mean_length 2.27 \t epsilon 0.33\n",
      "Epoch 1128 \t reward: 4.0 \t length 3 \t mean_length 2.29 \t epsilon 0.33\n",
      "Epoch 1129 \t reward: 4.0 \t length 3 \t mean_length 2.31 \t epsilon 0.33\n",
      "Epoch 1130 \t reward: 4.0 \t length 3 \t mean_length 2.33 \t epsilon 0.33\n",
      "Epoch 1131 \t reward: -0.5 \t length 1 \t mean_length 2.36 \t epsilon 0.33\n",
      "Epoch 1132 \t reward: -0.5 \t length 1 \t mean_length 2.33 \t epsilon 0.33\n",
      "Epoch 1133 \t reward: -0.5 \t length 1 \t mean_length 2.34 \t epsilon 0.33\n",
      "Epoch 1134 \t reward: 1.5 \t length 2 \t mean_length 2.33 \t epsilon 0.33\n",
      "Epoch 1135 \t reward: 7.0 \t length 4 \t mean_length 2.34 \t epsilon 0.33\n",
      "Epoch 1136 \t reward: -0.5 \t length 1 \t mean_length 2.31 \t epsilon 0.33\n",
      "Epoch 1137 \t reward: 4.0 \t length 3 \t mean_length 2.34 \t epsilon 0.33\n",
      "Epoch 1138 \t reward: 4.0 \t length 3 \t mean_length 2.35 \t epsilon 0.32\n",
      "Epoch 1139 \t reward: 4.0 \t length 3 \t mean_length 2.36 \t epsilon 0.32\n",
      "Epoch 1140 \t reward: 4.0 \t length 3 \t mean_length 2.37 \t epsilon 0.32\n",
      "Epoch 1141 \t reward: -0.5 \t length 1 \t mean_length 2.36 \t epsilon 0.32\n",
      "Epoch 1142 \t reward: 4.0 \t length 3 \t mean_length 2.37 \t epsilon 0.32\n",
      "Epoch 1143 \t reward: 4.0 \t length 3 \t mean_length 2.36 \t epsilon 0.32\n",
      "Epoch 1144 \t reward: -0.5 \t length 1 \t mean_length 2.33 \t epsilon 0.32\n",
      "Epoch 1145 \t reward: -0.5 \t length 1 \t mean_length 2.31 \t epsilon 0.32\n",
      "Epoch 1146 \t reward: 4.0 \t length 3 \t mean_length 2.33 \t epsilon 0.32\n",
      "Epoch 1147 \t reward: 4.0 \t length 3 \t mean_length 2.31 \t epsilon 0.32\n",
      "Epoch 1148 \t reward: -0.5 \t length 1 \t mean_length 2.29 \t epsilon 0.32\n",
      "Epoch 1149 \t reward: 1.5 \t length 2 \t mean_length 2.27 \t epsilon 0.32\n",
      "Epoch 1150 \t reward: -0.5 \t length 1 \t mean_length 2.25 \t epsilon 0.32\n",
      "Epoch 1151 \t reward: 4.0 \t length 3 \t mean_length 2.24 \t epsilon 0.32\n",
      "Epoch 1152 \t reward: -0.5 \t length 1 \t mean_length 2.21 \t epsilon 0.32\n",
      "Epoch 1153 \t reward: -0.5 \t length 1 \t mean_length 2.2 \t epsilon 0.32\n",
      "Epoch 1154 \t reward: -0.5 \t length 1 \t mean_length 2.17 \t epsilon 0.32\n",
      "Epoch 1155 \t reward: 7.0 \t length 4 \t mean_length 2.16 \t epsilon 0.32\n",
      "Epoch 1156 \t reward: 4.0 \t length 3 \t mean_length 2.17 \t epsilon 0.32\n",
      "Epoch 1157 \t reward: 4.0 \t length 3 \t mean_length 2.16 \t epsilon 0.32\n",
      "Epoch 1158 \t reward: -0.5 \t length 1 \t mean_length 2.13 \t epsilon 0.32\n",
      "Epoch 1159 \t reward: 4.0 \t length 3 \t mean_length 2.14 \t epsilon 0.32\n",
      "Epoch 1160 \t reward: 4.0 \t length 3 \t mean_length 2.15 \t epsilon 0.32\n",
      "Epoch 1161 \t reward: 4.0 \t length 3 \t mean_length 2.18 \t epsilon 0.32\n",
      "Epoch 1162 \t reward: -0.5 \t length 1 \t mean_length 2.15 \t epsilon 0.32\n",
      "Epoch 1163 \t reward: 4.0 \t length 3 \t mean_length 2.18 \t epsilon 0.32\n",
      "Epoch 1164 \t reward: -0.5 \t length 1 \t mean_length 2.15 \t epsilon 0.32\n",
      "Epoch 1165 \t reward: 4.0 \t length 3 \t mean_length 2.16 \t epsilon 0.32\n",
      "Q_matrix of initial state, after training: step 1101\n"
     ]
    },
    {
     "output_type": "display_data",
     "data": {
      "text/plain": "<PIL.Image.Image image mode=RGBA size=128x128 at 0x1978F606B20>",
      "image/png": "[encoded data removed]"
     },
     "metadata": {}
    },
    {
     "output_type": "stream",
     "name": "stdout",
     "text": [
      "29\n"
     ]
    },
    {
     "output_type": "display_data",
     "data": {
      "text/plain": "<PIL.Image.Image image mode=RGBA size=128x128 at 0x1978F606B20>",
      "image/png": "[encoded data removed]"
     },
     "metadata": {}
    },
    {
     "output_type": "stream",
     "name": "stdout",
     "text": [
      "-------------\n"
     ]
    },
    {
     "output_type": "display_data",
     "data": {
      "text/plain": "<PIL.Image.Image image mode=RGBA size=128x128 at 0x1978F606CD0>",
      "image/png": "[encoded data removed]"
     },
     "metadata": {}
    },
    {
     "output_type": "stream",
     "name": "stdout",
     "text": [
      "43\n",
      "Epoch 1166 \t reward: 4.0 \t length 3 \t mean_length 2.17 \t epsilon 0.32\n",
      "Epoch 1167 \t reward: 1.5 \t length 2 \t mean_length 2.16 \t epsilon 0.32\n",
      "Epoch 1168 \t reward: 4.0 \t length 3 \t mean_length 2.17 \t epsilon 0.32\n",
      "Epoch 1169 \t reward: 4.0 \t length 3 \t mean_length 2.2 \t epsilon 0.32\n",
      "Epoch 1170 \t reward: -0.5 \t length 1 \t mean_length 2.17 \t epsilon 0.32\n",
      "Epoch 1171 \t reward: -0.5 \t length 1 \t mean_length 2.16 \t epsilon 0.32\n",
      "Epoch 1172 \t reward: 4.0 \t length 3 \t mean_length 2.17 \t epsilon 0.32\n",
      "Epoch 1173 \t reward: 4.0 \t length 3 \t mean_length 2.16 \t epsilon 0.32\n",
      "Epoch 1174 \t reward: 1.5 \t length 2 \t mean_length 2.15 \t epsilon 0.32\n",
      "Epoch 1175 \t reward: -0.5 \t length 1 \t mean_length 2.14 \t epsilon 0.31\n",
      "Epoch 1176 \t reward: 4.0 \t length 3 \t mean_length 2.15 \t epsilon 0.31\n",
      "Epoch 1177 \t reward: 4.0 \t length 3 \t mean_length 2.18 \t epsilon 0.31\n",
      "Epoch 1178 \t reward: 4.0 \t length 3 \t mean_length 2.19 \t epsilon 0.31\n",
      "Epoch 1179 \t reward: 4.0 \t length 3 \t mean_length 2.2 \t epsilon 0.31\n",
      "Epoch 1180 \t reward: 4.0 \t length 3 \t mean_length 2.21 \t epsilon 0.31\n",
      "Epoch 1181 \t reward: 4.0 \t length 3 \t mean_length 2.24 \t epsilon 0.31\n",
      "Epoch 1182 \t reward: 4.0 \t length 3 \t mean_length 2.25 \t epsilon 0.31\n",
      "Epoch 1183 \t reward: 1.5 \t length 2 \t mean_length 2.27 \t epsilon 0.31\n",
      "Epoch 1184 \t reward: 1.5 \t length 2 \t mean_length 2.27 \t epsilon 0.31\n",
      "Epoch 1185 \t reward: 4.0 \t length 3 \t mean_length 2.25 \t epsilon 0.31\n",
      "Epoch 1186 \t reward: -0.5 \t length 1 \t mean_length 2.23 \t epsilon 0.31\n",
      "Epoch 1187 \t reward: -0.5 \t length 1 \t mean_length 2.24 \t epsilon 0.31\n",
      "Epoch 1188 \t reward: -0.5 \t length 1 \t mean_length 2.21 \t epsilon 0.31\n",
      "Epoch 1189 \t reward: 1.5 \t length 2 \t mean_length 2.2 \t epsilon 0.31\n",
      "Epoch 1190 \t reward: 1.5 \t length 2 \t mean_length 2.19 \t epsilon 0.31\n",
      "Epoch 1191 \t reward: -0.5 \t length 1 \t mean_length 2.2 \t epsilon 0.31\n",
      "Epoch 1192 \t reward: 1.5 \t length 2 \t mean_length 2.19 \t epsilon 0.31\n",
      "Epoch 1193 \t reward: 4.0 \t length 3 \t mean_length 2.18 \t epsilon 0.31\n",
      "Epoch 1194 \t reward: 4.0 \t length 3 \t mean_length 2.19 \t epsilon 0.31\n",
      "Epoch 1195 \t reward: 4.0 \t length 3 \t mean_length 2.18 \t epsilon 0.31\n",
      "Epoch 1196 \t reward: 1.5 \t length 2 \t mean_length 2.17 \t epsilon 0.31\n",
      "Epoch 1197 \t reward: -0.5 \t length 1 \t mean_length 2.16 \t epsilon 0.31\n",
      "Epoch 1198 \t reward: 4.0 \t length 3 \t mean_length 2.17 \t epsilon 0.31\n",
      "Epoch 1199 \t reward: 4.0 \t length 3 \t mean_length 2.16 \t epsilon 0.31\n",
      "Epoch 1200 \t reward: 4.0 \t length 3 \t mean_length 2.17 \t epsilon 0.31\n",
      "Epoch 1201 \t reward: 4.0 \t length 3 \t mean_length 2.16 \t epsilon 0.31\n",
      "Epoch 1202 \t reward: 4.0 \t length 3 \t mean_length 2.17 \t epsilon 0.31\n",
      "Epoch 1203 \t reward: 1.5 \t length 2 \t mean_length 2.16 \t epsilon 0.31\n",
      "Epoch 1204 \t reward: 4.0 \t length 3 \t mean_length 2.17 \t epsilon 0.31\n",
      "Epoch 1205 \t reward: 1.5 \t length 2 \t mean_length 2.18 \t epsilon 0.31\n",
      "Epoch 1206 \t reward: -0.5 \t length 1 \t mean_length 2.15 \t epsilon 0.31\n",
      "Epoch 1207 \t reward: 4.0 \t length 3 \t mean_length 2.14 \t epsilon 0.31\n",
      "Epoch 1208 \t reward: 1.5 \t length 2 \t mean_length 2.13 \t epsilon 0.31\n",
      "Epoch 1209 \t reward: 4.0 \t length 3 \t mean_length 2.16 \t epsilon 0.31\n",
      "Epoch 1210 \t reward: 1.5 \t length 2 \t mean_length 2.15 \t epsilon 0.31\n",
      "Epoch 1211 \t reward: 4.0 \t length 3 \t mean_length 2.14 \t epsilon 0.31\n",
      "Epoch 1212 \t reward: 4.0 \t length 3 \t mean_length 2.15 \t epsilon 0.31\n",
      "Epoch 1213 \t reward: 1.5 \t length 2 \t mean_length 2.14 \t epsilon 0.3\n",
      "Epoch 1214 \t reward: 4.0 \t length 3 \t mean_length 2.15 \t epsilon 0.3\n",
      "Epoch 1215 \t reward: -0.5 \t length 1 \t mean_length 2.14 \t epsilon 0.3\n",
      "Epoch 1216 \t reward: -0.5 \t length 1 \t mean_length 2.11 \t epsilon 0.3\n",
      "Epoch 1217 \t reward: 4.0 \t length 3 \t mean_length 2.1 \t epsilon 0.3\n",
      "Epoch 1218 \t reward: 4.0 \t length 3 \t mean_length 2.11 \t epsilon 0.3\n",
      "Epoch 1219 \t reward: 1.5 \t length 2 \t mean_length 2.14 \t epsilon 0.3\n",
      "Epoch 1220 \t reward: 4.0 \t length 3 \t mean_length 2.15 \t epsilon 0.3\n",
      "Epoch 1221 \t reward: 4.0 \t length 3 \t mean_length 2.18 \t epsilon 0.3\n",
      "Epoch 1222 \t reward: 4.0 \t length 3 \t mean_length 2.19 \t epsilon 0.3\n",
      "Epoch 1223 \t reward: 4.0 \t length 3 \t mean_length 2.22 \t epsilon 0.3\n",
      "Epoch 1224 \t reward: 4.0 \t length 3 \t mean_length 2.23 \t epsilon 0.3\n",
      "Epoch 1225 \t reward: 4.0 \t length 3 \t mean_length 2.25 \t epsilon 0.3\n",
      "Epoch 1226 \t reward: 4.0 \t length 3 \t mean_length 2.27 \t epsilon 0.3\n",
      "Epoch 1227 \t reward: 1.5 \t length 2 \t mean_length 2.24 \t epsilon 0.3\n",
      "Epoch 1228 \t reward: 1.5 \t length 2 \t mean_length 2.23 \t epsilon 0.3\n",
      "Epoch 1229 \t reward: -0.5 \t length 1 \t mean_length 2.22 \t epsilon 0.3\n",
      "Epoch 1230 \t reward: 4.0 \t length 3 \t mean_length 2.23 \t epsilon 0.3\n",
      "Epoch 1231 \t reward: 4.0 \t length 3 \t mean_length 2.22 \t epsilon 0.3\n",
      "Epoch 1232 \t reward: -0.5 \t length 1 \t mean_length 2.19 \t epsilon 0.3\n",
      "Epoch 1233 \t reward: -0.5 \t length 1 \t mean_length 2.22 \t epsilon 0.3\n",
      "Epoch 1234 \t reward: 1.5 \t length 2 \t mean_length 2.21 \t epsilon 0.3\n",
      "Epoch 1235 \t reward: -0.5 \t length 1 \t mean_length 2.22 \t epsilon 0.3\n",
      "Epoch 1236 \t reward: 4.0 \t length 3 \t mean_length 2.23 \t epsilon 0.3\n",
      "Epoch 1237 \t reward: -0.5 \t length 1 \t mean_length 2.25 \t epsilon 0.3\n",
      "Epoch 1238 \t reward: 1.5 \t length 2 \t mean_length 2.25 \t epsilon 0.3\n",
      "Epoch 1239 \t reward: 1.5 \t length 2 \t mean_length 2.24 \t epsilon 0.3\n",
      "Epoch 1240 \t reward: 1.5 \t length 2 \t mean_length 2.23 \t epsilon 0.3\n",
      "Epoch 1241 \t reward: -0.5 \t length 1 \t mean_length 2.22 \t epsilon 0.3\n",
      "Epoch 1242 \t reward: -0.5 \t length 1 \t mean_length 2.19 \t epsilon 0.3\n",
      "Epoch 1243 \t reward: 4.0 \t length 3 \t mean_length 2.18 \t epsilon 0.3\n",
      "Epoch 1244 \t reward: 1.5 \t length 2 \t mean_length 2.17 \t epsilon 0.3\n",
      "Epoch 1245 \t reward: 7.0 \t length 4 \t mean_length 2.2 \t epsilon 0.3\n",
      "Epoch 1246 \t reward: 4.0 \t length 3 \t mean_length 2.21 \t epsilon 0.3\n",
      "Epoch 1247 \t reward: -0.5 \t length 1 \t mean_length 2.2 \t epsilon 0.3\n",
      "Epoch 1248 \t reward: -0.5 \t length 1 \t mean_length 2.17 \t epsilon 0.3\n",
      "Epoch 1249 \t reward: -0.5 \t length 1 \t mean_length 2.2 \t epsilon 0.3\n",
      "Epoch 1250 \t reward: 1.5 \t length 2 \t mean_length 2.19 \t epsilon 0.3\n",
      "Epoch 1251 \t reward: 4.0 \t length 3 \t mean_length 2.22 \t epsilon 0.3\n",
      "Epoch 1252 \t reward: -0.5 \t length 1 \t mean_length 2.19 \t epsilon 0.3\n",
      "Epoch 1253 \t reward: 7.0 \t length 4 \t mean_length 2.22 \t epsilon 0.3\n",
      "Epoch 1254 \t reward: -0.5 \t length 1 \t mean_length 2.19 \t epsilon 0.29\n",
      "Epoch 1255 \t reward: 4.0 \t length 3 \t mean_length 2.22 \t epsilon 0.29\n",
      "Epoch 1256 \t reward: 1.5 \t length 2 \t mean_length 2.21 \t epsilon 0.29\n",
      "Epoch 1257 \t reward: 4.0 \t length 3 \t mean_length 2.2 \t epsilon 0.29\n",
      "Epoch 1258 \t reward: -0.5 \t length 1 \t mean_length 2.17 \t epsilon 0.29\n",
      "Epoch 1259 \t reward: 4.0 \t length 3 \t mean_length 2.2 \t epsilon 0.29\n",
      "Epoch 1260 \t reward: 1.5 \t length 2 \t mean_length 2.19 \t epsilon 0.29\n",
      "Epoch 1261 \t reward: 7.0 \t length 4 \t mean_length 2.18 \t epsilon 0.29\n",
      "Epoch 1262 \t reward: 1.5 \t length 2 \t mean_length 2.17 \t epsilon 0.29\n",
      "Epoch 1263 \t reward: -0.5 \t length 1 \t mean_length 2.2 \t epsilon 0.29\n",
      "Epoch 1264 \t reward: 4.0 \t length 3 \t mean_length 2.21 \t epsilon 0.29\n",
      "Epoch 1265 \t reward: 7.0 \t length 4 \t mean_length 2.24 \t epsilon 0.29\n",
      "Q_matrix of initial state, after training: step 1201\n"
     ]
    },
    {
     "output_type": "display_data",
     "data": {
      "text/plain": "<PIL.Image.Image image mode=RGBA size=128x128 at 0x1978F606730>",
      "image/png": "[encoded data removed]"
     },
     "metadata": {}
    },
    {
     "output_type": "stream",
     "name": "stdout",
     "text": [
      "29\n"
     ]
    },
    {
     "output_type": "display_data",
     "data": {
      "text/plain": "<PIL.Image.Image image mode=RGBA size=128x128 at 0x1978F606730>",
      "image/png": "[encoded data removed]"
     },
     "metadata": {}
    },
    {
     "output_type": "stream",
     "name": "stdout",
     "text": [
      "-------------\n"
     ]
    },
    {
     "output_type": "display_data",
     "data": {
      "text/plain": "<PIL.Image.Image image mode=RGBA size=128x128 at 0x1978F606C10>",
      "image/png": "[encoded data removed]"
     },
     "metadata": {}
    },
    {
     "output_type": "stream",
     "name": "stdout",
     "text": [
      "34\n",
      "Epoch 1266 \t reward: 4.0 \t length 3 \t mean_length 2.25 \t epsilon 0.29\n",
      "Epoch 1267 \t reward: -0.5 \t length 1 \t mean_length 2.24 \t epsilon 0.29\n",
      "Epoch 1268 \t reward: -0.5 \t length 1 \t mean_length 2.21 \t epsilon 0.29\n",
      "Epoch 1269 \t reward: 1.5 \t length 2 \t mean_length 2.2 \t epsilon 0.29\n",
      "Epoch 1270 \t reward: 1.5 \t length 2 \t mean_length 2.19 \t epsilon 0.29\n",
      "Epoch 1271 \t reward: -0.5 \t length 1 \t mean_length 2.22 \t epsilon 0.29\n",
      "Epoch 1272 \t reward: 1.5 \t length 2 \t mean_length 2.21 \t epsilon 0.29\n",
      "Epoch 1273 \t reward: -0.5 \t length 1 \t mean_length 2.2 \t epsilon 0.29\n",
      "Epoch 1274 \t reward: 4.0 \t length 3 \t mean_length 2.21 \t epsilon 0.29\n",
      "Epoch 1275 \t reward: 4.0 \t length 3 \t mean_length 2.22 \t epsilon 0.29\n",
      "Epoch 1276 \t reward: 4.0 \t length 3 \t mean_length 2.23 \t epsilon 0.29\n",
      "Epoch 1277 \t reward: -0.5 \t length 1 \t mean_length 2.22 \t epsilon 0.29\n",
      "Epoch 1278 \t reward: -0.5 \t length 1 \t mean_length 2.19 \t epsilon 0.29\n",
      "Epoch 1279 \t reward: 7.0 \t length 4 \t mean_length 2.18 \t epsilon 0.29\n",
      "Epoch 1280 \t reward: 1.5 \t length 2 \t mean_length 2.17 \t epsilon 0.29\n",
      "Epoch 1281 \t reward: 1.5 \t length 2 \t mean_length 2.16 \t epsilon 0.29\n",
      "Epoch 1282 \t reward: 7.0 \t length 4 \t mean_length 2.19 \t epsilon 0.29\n",
      "Epoch 1283 \t reward: 4.0 \t length 3 \t mean_length 2.18 \t epsilon 0.29\n",
      "Epoch 1284 \t reward: 1.5 \t length 2 \t mean_length 2.17 \t epsilon 0.29\n",
      "Epoch 1285 \t reward: 1.5 \t length 2 \t mean_length 2.18 \t epsilon 0.29\n",
      "Epoch 1286 \t reward: 4.0 \t length 3 \t mean_length 2.19 \t epsilon 0.29\n",
      "Epoch 1287 \t reward: 4.0 \t length 3 \t mean_length 2.22 \t epsilon 0.29\n",
      "Epoch 1288 \t reward: -0.5 \t length 1 \t mean_length 2.19 \t epsilon 0.29\n",
      "Epoch 1289 \t reward: -0.5 \t length 1 \t mean_length 2.22 \t epsilon 0.29\n",
      "Epoch 1290 \t reward: 4.0 \t length 3 \t mean_length 2.23 \t epsilon 0.29\n",
      "Epoch 1291 \t reward: -0.5 \t length 1 \t mean_length 2.24 \t epsilon 0.29\n",
      "Epoch 1292 \t reward: 4.0 \t length 3 \t mean_length 2.25 \t epsilon 0.29\n",
      "Epoch 1293 \t reward: 7.0 \t length 4 \t mean_length 2.25 \t epsilon 0.29\n",
      "Epoch 1294 \t reward: 7.0 \t length 4 \t mean_length 2.29 \t epsilon 0.29\n",
      "Epoch 1295 \t reward: 7.0 \t length 4 \t mean_length 2.27 \t epsilon 0.28\n",
      "Epoch 1296 \t reward: 4.0 \t length 3 \t mean_length 2.29 \t epsilon 0.28\n",
      "Epoch 1297 \t reward: -0.5 \t length 1 \t mean_length 2.29 \t epsilon 0.28\n",
      "Epoch 1298 \t reward: 4.0 \t length 3 \t mean_length 2.31 \t epsilon 0.28\n",
      "Epoch 1299 \t reward: -0.5 \t length 1 \t mean_length 2.29 \t epsilon 0.28\n",
      "Epoch 1300 \t reward: 4.0 \t length 3 \t mean_length 2.31 \t epsilon 0.28\n",
      "Epoch 1301 \t reward: 4.0 \t length 3 \t mean_length 2.29 \t epsilon 0.28\n",
      "Epoch 1302 \t reward: -0.5 \t length 1 \t mean_length 2.27 \t epsilon 0.28\n",
      "Epoch 1303 \t reward: -0.5 \t length 1 \t mean_length 2.25 \t epsilon 0.28\n",
      "Epoch 1304 \t reward: 4.0 \t length 3 \t mean_length 2.27 \t epsilon 0.28\n",
      "Epoch 1305 \t reward: 4.0 \t length 3 \t mean_length 2.25 \t epsilon 0.28\n",
      "Epoch 1306 \t reward: 10.5 \t length 5 \t mean_length 2.31 \t epsilon 0.28\n",
      "Epoch 1307 \t reward: 4.0 \t length 3 \t mean_length 2.34 \t epsilon 0.28\n",
      "Epoch 1308 \t reward: 1.5 \t length 2 \t mean_length 2.33 \t epsilon 0.28\n",
      "Epoch 1309 \t reward: 4.0 \t length 3 \t mean_length 2.34 \t epsilon 0.28\n",
      "Epoch 1310 \t reward: 7.0 \t length 4 \t mean_length 2.37 \t epsilon 0.28\n",
      "Epoch 1311 \t reward: 7.0 \t length 4 \t mean_length 2.38 \t epsilon 0.28\n",
      "Epoch 1312 \t reward: 4.0 \t length 3 \t mean_length 2.39 \t epsilon 0.28\n",
      "Epoch 1313 \t reward: 4.0 \t length 3 \t mean_length 2.38 \t epsilon 0.28\n",
      "Epoch 1314 \t reward: -0.5 \t length 1 \t mean_length 2.35 \t epsilon 0.28\n",
      "Epoch 1315 \t reward: 4.0 \t length 3 \t mean_length 2.34 \t epsilon 0.28\n",
      "Epoch 1316 \t reward: -0.5 \t length 1 \t mean_length 2.31 \t epsilon 0.28\n",
      "Epoch 1317 \t reward: 4.0 \t length 3 \t mean_length 2.34 \t epsilon 0.28\n",
      "Epoch 1318 \t reward: -0.5 \t length 1 \t mean_length 2.31 \t epsilon 0.28\n",
      "Epoch 1319 \t reward: 4.0 \t length 3 \t mean_length 2.29 \t epsilon 0.28\n",
      "Epoch 1320 \t reward: -0.5 \t length 1 \t mean_length 2.27 \t epsilon 0.28\n",
      "Epoch 1321 \t reward: 4.0 \t length 3 \t mean_length 2.25 \t epsilon 0.28\n",
      "Epoch 1322 \t reward: 1.5 \t length 2 \t mean_length 2.25 \t epsilon 0.28\n",
      "Epoch 1323 \t reward: 4.0 \t length 3 \t mean_length 2.24 \t epsilon 0.28\n",
      "Epoch 1324 \t reward: 1.5 \t length 2 \t mean_length 2.23 \t epsilon 0.28\n",
      "Epoch 1325 \t reward: -0.5 \t length 1 \t mean_length 2.22 \t epsilon 0.28\n",
      "Epoch 1326 \t reward: 1.5 \t length 2 \t mean_length 2.21 \t epsilon 0.28\n",
      "Epoch 1327 \t reward: 4.0 \t length 3 \t mean_length 2.2 \t epsilon 0.28\n",
      "Epoch 1328 \t reward: 4.0 \t length 3 \t mean_length 2.21 \t epsilon 0.28\n",
      "Epoch 1329 \t reward: 4.0 \t length 3 \t mean_length 2.22 \t epsilon 0.28\n",
      "Epoch 1330 \t reward: -0.5 \t length 1 \t mean_length 2.19 \t epsilon 0.28\n",
      "Epoch 1331 \t reward: 1.5 \t length 2 \t mean_length 2.18 \t epsilon 0.28\n",
      "Epoch 1332 \t reward: 1.5 \t length 2 \t mean_length 2.17 \t epsilon 0.28\n",
      "Epoch 1333 \t reward: -0.5 \t length 1 \t mean_length 2.2 \t epsilon 0.28\n",
      "Epoch 1334 \t reward: 7.0 \t length 4 \t mean_length 2.23 \t epsilon 0.28\n",
      "Epoch 1335 \t reward: -0.5 \t length 1 \t mean_length 2.24 \t epsilon 0.28\n",
      "Epoch 1336 \t reward: 1.5 \t length 2 \t mean_length 2.23 \t epsilon 0.28\n",
      "Epoch 1337 \t reward: 4.0 \t length 3 \t mean_length 2.22 \t epsilon 0.28\n",
      "Epoch 1338 \t reward: -0.5 \t length 1 \t mean_length 2.19 \t epsilon 0.28\n",
      "Epoch 1339 \t reward: 7.0 \t length 4 \t mean_length 2.2 \t epsilon 0.27\n",
      "Epoch 1340 \t reward: 7.0 \t length 4 \t mean_length 2.23 \t epsilon 0.27\n",
      "Epoch 1341 \t reward: -0.5 \t length 1 \t mean_length 2.24 \t epsilon 0.27\n",
      "Epoch 1342 \t reward: -0.5 \t length 1 \t mean_length 2.21 \t epsilon 0.27\n",
      "Epoch 1343 \t reward: 7.0 \t length 4 \t mean_length 2.24 \t epsilon 0.27\n",
      "Epoch 1344 \t reward: 7.0 \t length 4 \t mean_length 2.27 \t epsilon 0.27\n",
      "Epoch 1345 \t reward: 4.0 \t length 3 \t mean_length 2.27 \t epsilon 0.27\n",
      "Epoch 1346 \t reward: 4.0 \t length 3 \t mean_length 2.29 \t epsilon 0.27\n",
      "Epoch 1347 \t reward: 7.0 \t length 4 \t mean_length 2.27 \t epsilon 0.27\n",
      "Epoch 1348 \t reward: -0.5 \t length 1 \t mean_length 2.25 \t epsilon 0.27\n",
      "Epoch 1349 \t reward: -0.5 \t length 1 \t mean_length 2.27 \t epsilon 0.27\n",
      "Epoch 1350 \t reward: 4.0 \t length 3 \t mean_length 2.29 \t epsilon 0.27\n",
      "Epoch 1351 \t reward: -0.5 \t length 1 \t mean_length 2.29 \t epsilon 0.27\n",
      "Epoch 1352 \t reward: 4.0 \t length 3 \t mean_length 2.31 \t epsilon 0.27\n",
      "Epoch 1353 \t reward: 4.0 \t length 3 \t mean_length 2.34 \t epsilon 0.27\n",
      "Epoch 1354 \t reward: 7.0 \t length 4 \t mean_length 2.37 \t epsilon 0.27\n",
      "Epoch 1355 \t reward: 4.0 \t length 3 \t mean_length 2.4 \t epsilon 0.27\n",
      "Epoch 1356 \t reward: 10.5 \t length 5 \t mean_length 2.45 \t epsilon 0.27\n",
      "Epoch 1357 \t reward: 4.0 \t length 3 \t mean_length 2.46 \t epsilon 0.27\n",
      "Epoch 1358 \t reward: 4.0 \t length 3 \t mean_length 2.47 \t epsilon 0.27\n",
      "Epoch 1359 \t reward: 7.0 \t length 4 \t mean_length 2.5 \t epsilon 0.27\n",
      "Epoch 1360 \t reward: 1.5 \t length 2 \t mean_length 2.49 \t epsilon 0.27\n",
      "Epoch 1361 \t reward: 4.0 \t length 3 \t mean_length 2.5 \t epsilon 0.27\n",
      "Epoch 1362 \t reward: -0.5 \t length 1 \t mean_length 2.47 \t epsilon 0.27\n",
      "Epoch 1363 \t reward: -0.5 \t length 1 \t mean_length 2.48 \t epsilon 0.27\n",
      "Epoch 1364 \t reward: 10.5 \t length 5 \t mean_length 2.52 \t epsilon 0.27\n",
      "Epoch 1365 \t reward: -0.5 \t length 1 \t mean_length 2.52 \t epsilon 0.27\n",
      "Q_matrix of initial state, after training: step 1301\n"
     ]
    },
    {
     "output_type": "display_data",
     "data": {
      "text/plain": "<PIL.Image.Image image mode=RGBA size=128x128 at 0x1978F606CD0>",
      "image/png": "[encoded data removed]"
     },
     "metadata": {}
    },
    {
     "output_type": "stream",
     "name": "stdout",
     "text": [
      "29\n"
     ]
    },
    {
     "output_type": "display_data",
     "data": {
      "text/plain": "<PIL.Image.Image image mode=RGBA size=128x128 at 0x1978F606CD0>",
      "image/png": "[encoded data removed]"
     },
     "metadata": {}
    },
    {
     "output_type": "stream",
     "name": "stdout",
     "text": [
      "-------------\n"
     ]
    },
    {
     "output_type": "display_data",
     "data": {
      "text/plain": "<PIL.Image.Image image mode=RGBA size=128x128 at 0x1978F6063D0>",
      "image/png": "[encoded data removed]"
     },
     "metadata": {}
    },
    {
     "output_type": "stream",
     "name": "stdout",
     "text": [
      "34\n",
      "Epoch 1366 \t reward: -0.5 \t length 1 \t mean_length 2.49 \t epsilon 0.27\n",
      "Epoch 1367 \t reward: 1.5 \t length 2 \t mean_length 2.48 \t epsilon 0.27\n",
      "Epoch 1368 \t reward: 4.0 \t length 3 \t mean_length 2.49 \t epsilon 0.27\n",
      "Epoch 1369 \t reward: -0.5 \t length 1 \t mean_length 2.52 \t epsilon 0.27\n",
      "Epoch 1370 \t reward: 7.0 \t length 4 \t mean_length 2.54 \t epsilon 0.27\n",
      "Epoch 1371 \t reward: 1.5 \t length 2 \t mean_length 2.56 \t epsilon 0.27\n",
      "Epoch 1372 \t reward: 7.0 \t length 4 \t mean_length 2.58 \t epsilon 0.27\n",
      "Epoch 1373 \t reward: 7.0 \t length 4 \t mean_length 2.6 \t epsilon 0.27\n",
      "Epoch 1374 \t reward: -0.5 \t length 1 \t mean_length 2.56 \t epsilon 0.27\n",
      "Epoch 1375 \t reward: 4.0 \t length 3 \t mean_length 2.56 \t epsilon 0.27\n",
      "Epoch 1376 \t reward: 7.0 \t length 4 \t mean_length 2.58 \t epsilon 0.27\n",
      "Epoch 1377 \t reward: -0.5 \t length 1 \t mean_length 2.58 \t epsilon 0.27\n",
      "Epoch 1378 \t reward: 7.0 \t length 4 \t mean_length 2.6 \t epsilon 0.27\n",
      "Epoch 1379 \t reward: -0.5 \t length 1 \t mean_length 2.64 \t epsilon 0.27\n",
      "Epoch 1380 \t reward: -0.5 \t length 1 \t mean_length 2.6 \t epsilon 0.27\n",
      "Epoch 1381 \t reward: -0.5 \t length 1 \t mean_length 2.62 \t epsilon 0.27\n",
      "Epoch 1382 \t reward: 4.0 \t length 3 \t mean_length 2.62 \t epsilon 0.27\n",
      "Epoch 1383 \t reward: -0.5 \t length 1 \t mean_length 2.6 \t epsilon 0.27\n",
      "Epoch 1384 \t reward: 4.0 \t length 3 \t mean_length 2.6 \t epsilon 0.27\n",
      "Epoch 1385 \t reward: 1.5 \t length 2 \t mean_length 2.62 \t epsilon 0.26\n",
      "Epoch 1386 \t reward: -0.5 \t length 1 \t mean_length 2.58 \t epsilon 0.26\n",
      "Epoch 1387 \t reward: 7.0 \t length 4 \t mean_length 2.58 \t epsilon 0.26\n",
      "Epoch 1388 \t reward: 1.5 \t length 2 \t mean_length 2.56 \t epsilon 0.26\n",
      "Epoch 1389 \t reward: 10.5 \t length 5 \t mean_length 2.6 \t epsilon 0.26\n",
      "Epoch 1390 \t reward: -0.5 \t length 1 \t mean_length 2.56 \t epsilon 0.26\n",
      "Epoch 1391 \t reward: 1.5 \t length 2 \t mean_length 2.56 \t epsilon 0.26\n",
      "Epoch 1392 \t reward: 1.5 \t length 2 \t mean_length 2.54 \t epsilon 0.26\n",
      "Epoch 1393 \t reward: 1.5 \t length 2 \t mean_length 2.54 \t epsilon 0.26\n",
      "Epoch 1394 \t reward: -0.5 \t length 1 \t mean_length 2.5 \t epsilon 0.26\n",
      "Epoch 1395 \t reward: 4.0 \t length 3 \t mean_length 2.48 \t epsilon 0.26\n",
      "Epoch 1396 \t reward: 4.0 \t length 3 \t mean_length 2.49 \t epsilon 0.26\n",
      "Epoch 1397 \t reward: -0.5 \t length 1 \t mean_length 2.48 \t epsilon 0.26\n",
      "Epoch 1398 \t reward: -0.5 \t length 1 \t mean_length 2.45 \t epsilon 0.26\n",
      "Epoch 1399 \t reward: -0.5 \t length 1 \t mean_length 2.44 \t epsilon 0.26\n",
      "Epoch 1400 \t reward: 7.0 \t length 4 \t mean_length 2.47 \t epsilon 0.26\n",
      "Epoch 1401 \t reward: 7.0 \t length 4 \t mean_length 2.46 \t epsilon 0.26\n",
      "Epoch 1402 \t reward: -0.5 \t length 1 \t mean_length 2.43 \t epsilon 0.26\n",
      "Epoch 1403 \t reward: 1.5 \t length 2 \t mean_length 2.46 \t epsilon 0.26\n",
      "Epoch 1404 \t reward: 1.5 \t length 2 \t mean_length 2.45 \t epsilon 0.26\n",
      "Epoch 1405 \t reward: 4.0 \t length 3 \t mean_length 2.44 \t epsilon 0.26\n",
      "Epoch 1406 \t reward: 7.0 \t length 4 \t mean_length 2.47 \t epsilon 0.26\n",
      "Epoch 1407 \t reward: -0.5 \t length 1 \t mean_length 2.42 \t epsilon 0.26\n",
      "Epoch 1408 \t reward: -0.5 \t length 1 \t mean_length 2.39 \t epsilon 0.26\n",
      "Epoch 1409 \t reward: 4.0 \t length 3 \t mean_length 2.4 \t epsilon 0.26\n",
      "Epoch 1410 \t reward: 7.0 \t length 4 \t mean_length 2.43 \t epsilon 0.26\n",
      "Epoch 1411 \t reward: -0.5 \t length 1 \t mean_length 2.4 \t epsilon 0.26\n",
      "Epoch 1412 \t reward: 7.0 \t length 4 \t mean_length 2.43 \t epsilon 0.26\n",
      "Epoch 1413 \t reward: 7.0 \t length 4 \t mean_length 2.42 \t epsilon 0.26\n",
      "Epoch 1414 \t reward: 7.0 \t length 4 \t mean_length 2.45 \t epsilon 0.26\n",
      "Epoch 1415 \t reward: 7.0 \t length 4 \t mean_length 2.48 \t epsilon 0.26\n",
      "Epoch 1416 \t reward: 4.0 \t length 3 \t mean_length 2.49 \t epsilon 0.26\n",
      "Epoch 1417 \t reward: -0.5 \t length 1 \t mean_length 2.52 \t epsilon 0.26\n",
      "Epoch 1418 \t reward: 4.0 \t length 3 \t mean_length 2.52 \t epsilon 0.26\n",
      "Epoch 1419 \t reward: 10.5 \t length 5 \t mean_length 2.56 \t epsilon 0.26\n",
      "Epoch 1420 \t reward: 7.0 \t length 4 \t mean_length 2.58 \t epsilon 0.26\n",
      "Epoch 1421 \t reward: 1.5 \t length 2 \t mean_length 2.62 \t epsilon 0.26\n",
      "Epoch 1422 \t reward: 7.0 \t length 4 \t mean_length 2.64 \t epsilon 0.26\n",
      "Epoch 1423 \t reward: 7.0 \t length 4 \t mean_length 2.66 \t epsilon 0.26\n",
      "Epoch 1424 \t reward: 1.5 \t length 2 \t mean_length 2.64 \t epsilon 0.26\n",
      "Epoch 1425 \t reward: 10.5 \t length 5 \t mean_length 2.66 \t epsilon 0.26\n",
      "Epoch 1426 \t reward: 10.5 \t length 5 \t mean_length 2.7 \t epsilon 0.26\n",
      "Epoch 1427 \t reward: 4.0 \t length 3 \t mean_length 2.72 \t epsilon 0.26\n",
      "Epoch 1428 \t reward: -0.5 \t length 1 \t mean_length 2.68 \t epsilon 0.26\n",
      "Epoch 1429 \t reward: 1.5 \t length 2 \t mean_length 2.68 \t epsilon 0.26\n",
      "Epoch 1430 \t reward: 10.5 \t length 5 \t mean_length 2.72 \t epsilon 0.26\n",
      "Epoch 1431 \t reward: 1.5 \t length 2 \t mean_length 2.76 \t epsilon 0.26\n",
      "Epoch 1432 \t reward: 7.0 \t length 4 \t mean_length 2.78 \t epsilon 0.25\n",
      "Epoch 1433 \t reward: 1.5 \t length 2 \t mean_length 2.8 \t epsilon 0.25\n",
      "Epoch 1434 \t reward: 4.0 \t length 3 \t mean_length 2.8 \t epsilon 0.25\n",
      "Epoch 1435 \t reward: 4.0 \t length 3 \t mean_length 2.78 \t epsilon 0.25\n",
      "Epoch 1436 \t reward: -0.5 \t length 1 \t mean_length 2.74 \t epsilon 0.25\n",
      "Epoch 1437 \t reward: 14.5 \t length 6 \t mean_length 2.76 \t epsilon 0.25\n",
      "Epoch 1438 \t reward: -0.5 \t length 1 \t mean_length 2.72 \t epsilon 0.25\n",
      "Epoch 1439 \t reward: -0.5 \t length 1 \t mean_length 2.76 \t epsilon 0.25\n",
      "Epoch 1440 \t reward: 7.0 \t length 4 \t mean_length 2.78 \t epsilon 0.25\n",
      "Epoch 1441 \t reward: 10.5 \t length 5 \t mean_length 2.76 \t epsilon 0.25\n",
      "Epoch 1442 \t reward: 7.0 \t length 4 \t mean_length 2.78 \t epsilon 0.25\n",
      "Epoch 1443 \t reward: 7.0 \t length 4 \t mean_length 2.82 \t epsilon 0.25\n",
      "Epoch 1444 \t reward: 7.0 \t length 4 \t mean_length 2.84 \t epsilon 0.25\n",
      "Epoch 1445 \t reward: 4.0 \t length 3 \t mean_length 2.82 \t epsilon 0.25\n",
      "Epoch 1446 \t reward: 4.0 \t length 3 \t mean_length 2.82 \t epsilon 0.25\n",
      "Epoch 1447 \t reward: 4.0 \t length 3 \t mean_length 2.82 \t epsilon 0.25\n",
      "Epoch 1448 \t reward: 1.5 \t length 2 \t mean_length 2.8 \t epsilon 0.25\n",
      "Epoch 1449 \t reward: 10.5 \t length 5 \t mean_length 2.84 \t epsilon 0.25\n",
      "Epoch 1450 \t reward: -0.5 \t length 1 \t mean_length 2.8 \t epsilon 0.25\n",
      "Epoch 1451 \t reward: 7.0 \t length 4 \t mean_length 2.8 \t epsilon 0.25\n",
      "Epoch 1452 \t reward: 7.0 \t length 4 \t mean_length 2.82 \t epsilon 0.25\n",
      "Epoch 1453 \t reward: 4.0 \t length 3 \t mean_length 2.82 \t epsilon 0.25\n",
      "Epoch 1454 \t reward: 1.5 \t length 2 \t mean_length 2.8 \t epsilon 0.25\n",
      "Epoch 1455 \t reward: -0.5 \t length 1 \t mean_length 2.78 \t epsilon 0.25\n",
      "Epoch 1456 \t reward: 1.5 \t length 2 \t mean_length 2.76 \t epsilon 0.25\n",
      "Epoch 1457 \t reward: -0.5 \t length 1 \t mean_length 2.72 \t epsilon 0.25\n",
      "Epoch 1458 \t reward: -0.5 \t length 1 \t mean_length 2.68 \t epsilon 0.25\n",
      "Epoch 1459 \t reward: 1.5 \t length 2 \t mean_length 2.68 \t epsilon 0.25\n",
      "Epoch 1460 \t reward: 1.5 \t length 2 \t mean_length 2.66 \t epsilon 0.25\n",
      "Epoch 1461 \t reward: 7.0 \t length 4 \t mean_length 2.68 \t epsilon 0.25\n",
      "Epoch 1462 \t reward: 4.0 \t length 3 \t mean_length 2.68 \t epsilon 0.25\n",
      "Epoch 1463 \t reward: 4.0 \t length 3 \t mean_length 2.72 \t epsilon 0.25\n",
      "Epoch 1464 \t reward: -0.5 \t length 1 \t mean_length 2.68 \t epsilon 0.25\n",
      "Epoch 1465 \t reward: 4.0 \t length 3 \t mean_length 2.64 \t epsilon 0.25\n",
      "Q_matrix of initial state, after training: step 1401\n"
     ]
    },
    {
     "output_type": "display_data",
     "data": {
      "text/plain": "<PIL.Image.Image image mode=RGBA size=128x128 at 0x1978F606250>",
      "image/png": "[encoded data removed]"
     },
     "metadata": {}
    },
    {
     "output_type": "stream",
     "name": "stdout",
     "text": [
      "29\n"
     ]
    },
    {
     "output_type": "display_data",
     "data": {
      "text/plain": "<PIL.Image.Image image mode=RGBA size=128x128 at 0x1978F606250>",
      "image/png": "[encoded data removed]"
     },
     "metadata": {}
    },
    {
     "output_type": "stream",
     "name": "stdout",
     "text": [
      "-------------\n"
     ]
    },
    {
     "output_type": "display_data",
     "data": {
      "text/plain": "<PIL.Image.Image image mode=RGBA size=128x128 at 0x1978F6068E0>",
      "image/png": "[encoded data removed]"
     },
     "metadata": {}
    },
    {
     "output_type": "stream",
     "name": "stdout",
     "text": [
      "43\n",
      "Epoch 1466 \t reward: 4.0 \t length 3 \t mean_length 2.64 \t epsilon 0.25\n",
      "Epoch 1467 \t reward: 1.5 \t length 2 \t mean_length 2.68 \t epsilon 0.25\n",
      "Epoch 1468 \t reward: -0.5 \t length 1 \t mean_length 2.64 \t epsilon 0.25\n",
      "Epoch 1469 \t reward: 7.0 \t length 4 \t mean_length 2.64 \t epsilon 0.25\n",
      "Epoch 1470 \t reward: -0.5 \t length 1 \t mean_length 2.6 \t epsilon 0.25\n",
      "Epoch 1471 \t reward: 10.5 \t length 5 \t mean_length 2.58 \t epsilon 0.25\n",
      "Epoch 1472 \t reward: 4.0 \t length 3 \t mean_length 2.58 \t epsilon 0.25\n",
      "Epoch 1473 \t reward: 4.0 \t length 3 \t mean_length 2.56 \t epsilon 0.25\n",
      "Epoch 1474 \t reward: 1.5 \t length 2 \t mean_length 2.54 \t epsilon 0.25\n",
      "Epoch 1475 \t reward: -0.5 \t length 1 \t mean_length 2.58 \t epsilon 0.25\n",
      "Epoch 1476 \t reward: 10.5 \t length 5 \t mean_length 2.62 \t epsilon 0.25\n",
      "Epoch 1477 \t reward: 4.0 \t length 3 \t mean_length 2.6 \t epsilon 0.25\n",
      "Epoch 1478 \t reward: 1.5 \t length 2 \t mean_length 2.58 \t epsilon 0.25\n",
      "Epoch 1479 \t reward: 1.5 \t length 2 \t mean_length 2.56 \t epsilon 0.25\n",
      "Epoch 1480 \t reward: -0.5 \t length 1 \t mean_length 2.52 \t epsilon 0.25\n",
      "Epoch 1481 \t reward: 4.0 \t length 3 \t mean_length 2.56 \t epsilon 0.25\n",
      "Epoch 1482 \t reward: 4.0 \t length 3 \t mean_length 2.56 \t epsilon 0.24\n",
      "Epoch 1483 \t reward: -0.5 \t length 1 \t mean_length 2.56 \t epsilon 0.24\n",
      "Epoch 1484 \t reward: 1.5 \t length 2 \t mean_length 2.54 \t epsilon 0.24\n",
      "Epoch 1485 \t reward: 4.0 \t length 3 \t mean_length 2.54 \t epsilon 0.24\n",
      "Epoch 1486 \t reward: 7.0 \t length 4 \t mean_length 2.56 \t epsilon 0.24\n",
      "Epoch 1487 \t reward: 7.0 \t length 4 \t mean_length 2.6 \t epsilon 0.24\n",
      "Epoch 1488 \t reward: 1.5 \t length 2 \t mean_length 2.58 \t epsilon 0.24\n",
      "Epoch 1489 \t reward: 4.0 \t length 3 \t mean_length 2.6 \t epsilon 0.24\n",
      "Epoch 1490 \t reward: 1.5 \t length 2 \t mean_length 2.58 \t epsilon 0.24\n",
      "Epoch 1491 \t reward: 4.0 \t length 3 \t mean_length 2.62 \t epsilon 0.24\n",
      "Epoch 1492 \t reward: 10.5 \t length 5 \t mean_length 2.66 \t epsilon 0.24\n",
      "Epoch 1493 \t reward: 10.5 \t length 5 \t mean_length 2.68 \t epsilon 0.24\n",
      "Epoch 1494 \t reward: 1.5 \t length 2 \t mean_length 2.66 \t epsilon 0.24\n",
      "Epoch 1495 \t reward: 1.5 \t length 2 \t mean_length 2.7 \t epsilon 0.24\n",
      "Epoch 1496 \t reward: 1.5 \t length 2 \t mean_length 2.68 \t epsilon 0.24\n",
      "Epoch 1497 \t reward: 7.0 \t length 4 \t mean_length 2.68 \t epsilon 0.24\n",
      "Epoch 1498 \t reward: -0.5 \t length 1 \t mean_length 2.64 \t epsilon 0.24\n",
      "Epoch 1499 \t reward: -0.5 \t length 1 \t mean_length 2.68 \t epsilon 0.24\n",
      "Epoch 1500 \t reward: -0.5 \t length 1 \t mean_length 2.64 \t epsilon 0.24\n",
      "Epoch 1501 \t reward: -0.5 \t length 1 \t mean_length 2.62 \t epsilon 0.24\n",
      "Epoch 1502 \t reward: -0.5 \t length 1 \t mean_length 2.58 \t epsilon 0.24\n",
      "Epoch 1503 \t reward: 4.0 \t length 3 \t mean_length 2.62 \t epsilon 0.24\n",
      "Epoch 1504 \t reward: 4.0 \t length 3 \t mean_length 2.62 \t epsilon 0.24\n",
      "Epoch 1505 \t reward: 4.0 \t length 3 \t mean_length 2.64 \t epsilon 0.24\n",
      "Epoch 1506 \t reward: 10.5 \t length 5 \t mean_length 2.68 \t epsilon 0.24\n",
      "Epoch 1507 \t reward: 4.0 \t length 3 \t mean_length 2.66 \t epsilon 0.24\n",
      "Epoch 1508 \t reward: 7.0 \t length 4 \t mean_length 2.68 \t epsilon 0.24\n",
      "Epoch 1509 \t reward: -0.5 \t length 1 \t mean_length 2.72 \t epsilon 0.24\n",
      "Epoch 1510 \t reward: 4.0 \t length 3 \t mean_length 2.72 \t epsilon 0.24\n",
      "Epoch 1511 \t reward: 4.0 \t length 3 \t mean_length 2.7 \t epsilon 0.24\n",
      "Epoch 1512 \t reward: 4.0 \t length 3 \t mean_length 2.7 \t epsilon 0.24\n",
      "Epoch 1513 \t reward: 4.0 \t length 3 \t mean_length 2.68 \t epsilon 0.24\n",
      "Epoch 1514 \t reward: 4.0 \t length 3 \t mean_length 2.68 \t epsilon 0.24\n",
      "Epoch 1515 \t reward: 4.0 \t length 3 \t mean_length 2.66 \t epsilon 0.24\n",
      "Epoch 1516 \t reward: 1.5 \t length 2 \t mean_length 2.64 \t epsilon 0.24\n",
      "Epoch 1517 \t reward: 4.0 \t length 3 \t mean_length 2.64 \t epsilon 0.24\n",
      "Epoch 1518 \t reward: -0.5 \t length 1 \t mean_length 2.6 \t epsilon 0.24\n",
      "Epoch 1519 \t reward: -0.5 \t length 1 \t mean_length 2.6 \t epsilon 0.24\n",
      "Epoch 1520 \t reward: 7.0 \t length 4 \t mean_length 2.62 \t epsilon 0.24\n",
      "Epoch 1521 \t reward: 4.0 \t length 3 \t mean_length 2.6 \t epsilon 0.24\n",
      "Epoch 1522 \t reward: 10.5 \t length 5 \t mean_length 2.64 \t epsilon 0.24\n",
      "Epoch 1523 \t reward: 7.0 \t length 4 \t mean_length 2.62 \t epsilon 0.24\n",
      "Epoch 1524 \t reward: -0.5 \t length 1 \t mean_length 2.58 \t epsilon 0.24\n",
      "Epoch 1525 \t reward: -0.5 \t length 1 \t mean_length 2.6 \t epsilon 0.24\n",
      "Epoch 1526 \t reward: 4.0 \t length 3 \t mean_length 2.6 \t epsilon 0.24\n",
      "Epoch 1527 \t reward: 7.0 \t length 4 \t mean_length 2.56 \t epsilon 0.24\n",
      "Epoch 1528 \t reward: 1.5 \t length 2 \t mean_length 2.54 \t epsilon 0.24\n",
      "Epoch 1529 \t reward: 4.0 \t length 3 \t mean_length 2.58 \t epsilon 0.24\n",
      "Epoch 1530 \t reward: -0.5 \t length 1 \t mean_length 2.54 \t epsilon 0.24\n",
      "Epoch 1531 \t reward: 1.5 \t length 2 \t mean_length 2.5 \t epsilon 0.24\n",
      "Epoch 1532 \t reward: 4.0 \t length 3 \t mean_length 2.5 \t epsilon 0.24\n",
      "Epoch 1533 \t reward: 4.0 \t length 3 \t mean_length 2.48 \t epsilon 0.24\n",
      "Epoch 1534 \t reward: -0.5 \t length 1 \t mean_length 2.45 \t epsilon 0.24\n",
      "Epoch 1535 \t reward: 1.5 \t length 2 \t mean_length 2.44 \t epsilon 0.23\n",
      "Epoch 1536 \t reward: 1.5 \t length 2 \t mean_length 2.43 \t epsilon 0.23\n",
      "Epoch 1537 \t reward: -0.5 \t length 1 \t mean_length 2.46 \t epsilon 0.23\n",
      "Epoch 1538 \t reward: 7.0 \t length 4 \t mean_length 2.49 \t epsilon 0.23\n",
      "Epoch 1539 \t reward: 4.0 \t length 3 \t mean_length 2.52 \t epsilon 0.23\n",
      "Epoch 1540 \t reward: 1.5 \t length 2 \t mean_length 2.5 \t epsilon 0.23\n",
      "Epoch 1541 \t reward: 7.0 \t length 4 \t mean_length 2.48 \t epsilon 0.23\n",
      "Epoch 1542 \t reward: 4.0 \t length 3 \t mean_length 2.49 \t epsilon 0.23\n",
      "Epoch 1543 \t reward: 7.0 \t length 4 \t mean_length 2.46 \t epsilon 0.23\n",
      "Epoch 1544 \t reward: 4.0 \t length 3 \t mean_length 2.47 \t epsilon 0.23\n",
      "Epoch 1545 \t reward: 10.5 \t length 5 \t mean_length 2.44 \t epsilon 0.23\n",
      "Epoch 1546 \t reward: 4.0 \t length 3 \t mean_length 2.45 \t epsilon 0.23\n",
      "Epoch 1547 \t reward: -0.5 \t length 1 \t mean_length 2.44 \t epsilon 0.23\n",
      "Epoch 1548 \t reward: 7.0 \t length 4 \t mean_length 2.47 \t epsilon 0.23\n",
      "Epoch 1549 \t reward: 4.0 \t length 3 \t mean_length 2.48 \t epsilon 0.23\n",
      "Epoch 1550 \t reward: 4.0 \t length 3 \t mean_length 2.49 \t epsilon 0.23\n",
      "Epoch 1551 \t reward: 4.0 \t length 3 \t mean_length 2.52 \t epsilon 0.23\n",
      "Epoch 1552 \t reward: 7.0 \t length 4 \t mean_length 2.54 \t epsilon 0.23\n",
      "Epoch 1553 \t reward: -0.5 \t length 1 \t mean_length 2.52 \t epsilon 0.23\n",
      "Epoch 1554 \t reward: 7.0 \t length 4 \t mean_length 2.54 \t epsilon 0.23\n",
      "Epoch 1555 \t reward: 1.5 \t length 2 \t mean_length 2.56 \t epsilon 0.23\n",
      "Epoch 1556 \t reward: -0.5 \t length 1 \t mean_length 2.52 \t epsilon 0.23\n",
      "Epoch 1557 \t reward: 7.0 \t length 4 \t mean_length 2.54 \t epsilon 0.23\n",
      "Epoch 1558 \t reward: 4.0 \t length 3 \t mean_length 2.54 \t epsilon 0.23\n",
      "Epoch 1559 \t reward: 4.0 \t length 3 \t mean_length 2.58 \t epsilon 0.23\n",
      "Epoch 1560 \t reward: 7.0 \t length 4 \t mean_length 2.6 \t epsilon 0.23\n",
      "Epoch 1561 \t reward: 7.0 \t length 4 \t mean_length 2.62 \t epsilon 0.23\n",
      "Epoch 1562 \t reward: 4.0 \t length 3 \t mean_length 2.62 \t epsilon 0.23\n",
      "Epoch 1563 \t reward: 7.0 \t length 4 \t mean_length 2.62 \t epsilon 0.23\n",
      "Epoch 1564 \t reward: 7.0 \t length 4 \t mean_length 2.64 \t epsilon 0.23\n",
      "Epoch 1565 \t reward: 7.0 \t length 4 \t mean_length 2.68 \t epsilon 0.23\n",
      "Q_matrix of initial state, after training: step 1501\n"
     ]
    },
    {
     "output_type": "display_data",
     "data": {
      "text/plain": "<PIL.Image.Image image mode=RGBA size=128x128 at 0x1978F606490>",
      "image/png": "[encoded data removed]"
     },
     "metadata": {}
    },
    {
     "output_type": "stream",
     "name": "stdout",
     "text": [
      "29\n"
     ]
    },
    {
     "output_type": "display_data",
     "data": {
      "text/plain": "<PIL.Image.Image image mode=RGBA size=128x128 at 0x1978F606760>",
      "image/png": "[encoded data removed]"
     },
     "metadata": {}
    },
    {
     "output_type": "stream",
     "name": "stdout",
     "text": [
      "-------------\n"
     ]
    },
    {
     "output_type": "display_data",
     "data": {
      "text/plain": "<PIL.Image.Image image mode=RGBA size=128x128 at 0x1978F606DF0>",
      "image/png": "[encoded data removed]"
     },
     "metadata": {}
    },
    {
     "output_type": "stream",
     "name": "stdout",
     "text": [
      "34\n",
      "Epoch 1566 \t reward: 4.0 \t length 3 \t mean_length 2.68 \t epsilon 0.23\n",
      "Epoch 1567 \t reward: -0.5 \t length 1 \t mean_length 2.68 \t epsilon 0.23\n",
      "Epoch 1568 \t reward: 4.0 \t length 3 \t mean_length 2.68 \t epsilon 0.23\n",
      "Epoch 1569 \t reward: 10.5 \t length 5 \t mean_length 2.72 \t epsilon 0.23\n",
      "Epoch 1570 \t reward: 1.5 \t length 2 \t mean_length 2.7 \t epsilon 0.23\n",
      "Epoch 1571 \t reward: 7.0 \t length 4 \t mean_length 2.74 \t epsilon 0.23\n",
      "Epoch 1572 \t reward: 7.0 \t length 4 \t mean_length 2.76 \t epsilon 0.23\n",
      "Epoch 1573 \t reward: 7.0 \t length 4 \t mean_length 2.76 \t epsilon 0.23\n",
      "Epoch 1574 \t reward: 1.5 \t length 2 \t mean_length 2.74 \t epsilon 0.23\n",
      "Epoch 1575 \t reward: 4.0 \t length 3 \t mean_length 2.76 \t epsilon 0.23\n",
      "Epoch 1576 \t reward: 7.0 \t length 4 \t mean_length 2.78 \t epsilon 0.23\n",
      "Epoch 1577 \t reward: 7.0 \t length 4 \t mean_length 2.74 \t epsilon 0.23\n",
      "Epoch 1578 \t reward: 7.0 \t length 4 \t mean_length 2.76 \t epsilon 0.23\n",
      "Epoch 1579 \t reward: 10.5 \t length 5 \t mean_length 2.78 \t epsilon 0.23\n",
      "Epoch 1580 \t reward: 1.5 \t length 2 \t mean_length 2.76 \t epsilon 0.23\n",
      "Epoch 1581 \t reward: 10.5 \t length 5 \t mean_length 2.8 \t epsilon 0.23\n",
      "Epoch 1582 \t reward: -0.5 \t length 1 \t mean_length 2.76 \t epsilon 0.23\n",
      "Epoch 1583 \t reward: 1.5 \t length 2 \t mean_length 2.76 \t epsilon 0.23\n",
      "Epoch 1584 \t reward: 1.5 \t length 2 \t mean_length 2.74 \t epsilon 0.23\n",
      "Epoch 1585 \t reward: 10.5 \t length 5 \t mean_length 2.76 \t epsilon 0.23\n",
      "Epoch 1586 \t reward: 10.5 \t length 5 \t mean_length 2.8 \t epsilon 0.23\n",
      "Epoch 1587 \t reward: 7.0 \t length 4 \t mean_length 2.78 \t epsilon 0.23\n",
      "Epoch 1588 \t reward: 7.0 \t length 4 \t mean_length 2.8 \t epsilon 0.23\n",
      "Epoch 1589 \t reward: -0.5 \t length 1 \t mean_length 2.82 \t epsilon 0.23\n",
      "Epoch 1590 \t reward: 7.0 \t length 4 \t mean_length 2.84 \t epsilon 0.22\n",
      "Epoch 1591 \t reward: 7.0 \t length 4 \t mean_length 2.86 \t epsilon 0.22\n",
      "Epoch 1592 \t reward: 1.5 \t length 2 \t mean_length 2.84 \t epsilon 0.22\n",
      "Epoch 1593 \t reward: 1.5 \t length 2 \t mean_length 2.8 \t epsilon 0.22\n",
      "Epoch 1594 \t reward: -0.5 \t length 1 \t mean_length 2.76 \t epsilon 0.22\n",
      "Epoch 1595 \t reward: 7.0 \t length 4 \t mean_length 2.78 \t epsilon 0.22\n",
      "Epoch 1596 \t reward: 4.0 \t length 3 \t mean_length 2.78 \t epsilon 0.22\n",
      "Epoch 1597 \t reward: 14.5 \t length 6 \t mean_length 2.8 \t epsilon 0.22\n",
      "Epoch 1598 \t reward: -0.5 \t length 1 \t mean_length 2.76 \t epsilon 0.22\n",
      "Epoch 1599 \t reward: 10.5 \t length 5 \t mean_length 2.8 \t epsilon 0.22\n",
      "Epoch 1600 \t reward: 4.0 \t length 3 \t mean_length 2.8 \t epsilon 0.22\n",
      "Epoch 1601 \t reward: 19.0 \t length 7 \t mean_length 2.84 \t epsilon 0.22\n",
      "Epoch 1602 \t reward: 7.0 \t length 4 \t mean_length 2.86 \t epsilon 0.22\n",
      "Epoch 1603 \t reward: -0.5 \t length 1 \t mean_length 2.9 \t epsilon 0.22\n",
      "Epoch 1604 \t reward: 1.5 \t length 2 \t mean_length 2.88 \t epsilon 0.22\n",
      "Epoch 1605 \t reward: 7.0 \t length 4 \t mean_length 2.88 \t epsilon 0.22\n",
      "Epoch 1606 \t reward: 1.5 \t length 2 \t mean_length 2.86 \t epsilon 0.22\n",
      "Epoch 1607 \t reward: 7.0 \t length 4 \t mean_length 2.82 \t epsilon 0.22\n",
      "Epoch 1608 \t reward: -0.5 \t length 1 \t mean_length 2.78 \t epsilon 0.22\n",
      "Epoch 1609 \t reward: 1.5 \t length 2 \t mean_length 2.76 \t epsilon 0.22\n",
      "Epoch 1610 \t reward: 4.0 \t length 3 \t mean_length 2.76 \t epsilon 0.22\n",
      "Epoch 1611 \t reward: 10.5 \t length 5 \t mean_length 2.76 \t epsilon 0.22\n",
      "Epoch 1612 \t reward: 4.0 \t length 3 \t mean_length 2.76 \t epsilon 0.22\n",
      "Epoch 1613 \t reward: 10.5 \t length 5 \t mean_length 2.76 \t epsilon 0.22\n",
      "Epoch 1614 \t reward: 1.5 \t length 2 \t mean_length 2.74 \t epsilon 0.22\n",
      "Epoch 1615 \t reward: 1.5 \t length 2 \t mean_length 2.74 \t epsilon 0.22\n",
      "Epoch 1616 \t reward: 4.0 \t length 3 \t mean_length 2.74 \t epsilon 0.22\n",
      "Epoch 1617 \t reward: 7.0 \t length 4 \t mean_length 2.76 \t epsilon 0.22\n",
      "Epoch 1618 \t reward: 4.0 \t length 3 \t mean_length 2.76 \t epsilon 0.22\n",
      "Epoch 1619 \t reward: 4.0 \t length 3 \t mean_length 2.8 \t epsilon 0.22\n",
      "Epoch 1620 \t reward: -0.5 \t length 1 \t mean_length 2.76 \t epsilon 0.22\n",
      "Epoch 1621 \t reward: -0.5 \t length 1 \t mean_length 2.74 \t epsilon 0.22\n",
      "Epoch 1622 \t reward: 1.5 \t length 2 \t mean_length 2.72 \t epsilon 0.22\n",
      "Epoch 1623 \t reward: 10.5 \t length 5 \t mean_length 2.68 \t epsilon 0.22\n",
      "Epoch 1624 \t reward: 4.0 \t length 3 \t mean_length 2.68 \t epsilon 0.22\n",
      "Epoch 1625 \t reward: -0.5 \t length 1 \t mean_length 2.72 \t epsilon 0.22\n",
      "Epoch 1626 \t reward: 1.5 \t length 2 \t mean_length 2.7 \t epsilon 0.22\n",
      "Epoch 1627 \t reward: 1.5 \t length 2 \t mean_length 2.7 \t epsilon 0.22\n",
      "Epoch 1628 \t reward: -0.5 \t length 1 \t mean_length 2.66 \t epsilon 0.22\n",
      "Epoch 1629 \t reward: 4.0 \t length 3 \t mean_length 2.68 \t epsilon 0.22\n",
      "Epoch 1630 \t reward: 7.0 \t length 4 \t mean_length 2.7 \t epsilon 0.22\n",
      "Epoch 1631 \t reward: 4.0 \t length 3 \t mean_length 2.74 \t epsilon 0.22\n",
      "Epoch 1632 \t reward: -0.5 \t length 1 \t mean_length 2.7 \t epsilon 0.22\n",
      "Epoch 1633 \t reward: 4.0 \t length 3 \t mean_length 2.7 \t epsilon 0.22\n",
      "Epoch 1634 \t reward: 4.0 \t length 3 \t mean_length 2.7 \t epsilon 0.22\n",
      "Epoch 1635 \t reward: 7.0 \t length 4 \t mean_length 2.74 \t epsilon 0.22\n",
      "Epoch 1636 \t reward: 10.5 \t length 5 \t mean_length 2.78 \t epsilon 0.22\n",
      "Epoch 1637 \t reward: 10.5 \t length 5 \t mean_length 2.8 \t epsilon 0.22\n",
      "Epoch 1638 \t reward: 4.0 \t length 3 \t mean_length 2.8 \t epsilon 0.22\n",
      "Epoch 1639 \t reward: 1.5 \t length 2 \t mean_length 2.78 \t epsilon 0.22\n",
      "Epoch 1640 \t reward: 10.5 \t length 5 \t mean_length 2.82 \t epsilon 0.22\n",
      "Epoch 1641 \t reward: 7.0 \t length 4 \t mean_length 2.84 \t epsilon 0.22\n",
      "Epoch 1642 \t reward: 1.5 \t length 2 \t mean_length 2.82 \t epsilon 0.22\n",
      "Epoch 1643 \t reward: 1.5 \t length 2 \t mean_length 2.82 \t epsilon 0.22\n",
      "Epoch 1644 \t reward: 7.0 \t length 4 \t mean_length 2.84 \t epsilon 0.22\n",
      "Epoch 1645 \t reward: 10.5 \t length 5 \t mean_length 2.84 \t epsilon 0.22\n",
      "Epoch 1646 \t reward: 10.5 \t length 5 \t mean_length 2.88 \t epsilon 0.22\n",
      "Epoch 1647 \t reward: 7.0 \t length 4 \t mean_length 2.88 \t epsilon 0.22\n",
      "Epoch 1648 \t reward: 7.0 \t length 4 \t mean_length 2.9 \t epsilon 0.22\n",
      "Epoch 1649 \t reward: 4.0 \t length 3 \t mean_length 2.88 \t epsilon 0.21\n",
      "Epoch 1650 \t reward: 10.5 \t length 5 \t mean_length 2.92 \t epsilon 0.21\n",
      "Epoch 1651 \t reward: 14.5 \t length 6 \t mean_length 2.92 \t epsilon 0.21\n",
      "Epoch 1652 \t reward: 19.0 \t length 7 \t mean_length 3.0 \t epsilon 0.21\n",
      "Epoch 1653 \t reward: 7.0 \t length 4 \t mean_length 2.98 \t epsilon 0.21\n",
      "Epoch 1654 \t reward: 1.5 \t length 2 \t mean_length 2.96 \t epsilon 0.21\n",
      "Epoch 1655 \t reward: 1.5 \t length 2 \t mean_length 2.94 \t epsilon 0.21\n",
      "Epoch 1656 \t reward: 7.0 \t length 4 \t mean_length 2.96 \t epsilon 0.21\n",
      "Epoch 1657 \t reward: 1.5 \t length 2 \t mean_length 3.0 \t epsilon 0.21\n",
      "Epoch 1658 \t reward: 1.5 \t length 2 \t mean_length 2.98 \t epsilon 0.21\n",
      "Epoch 1659 \t reward: 4.0 \t length 3 \t mean_length 2.98 \t epsilon 0.21\n",
      "Epoch 1660 \t reward: 4.0 \t length 3 \t mean_length 2.98 \t epsilon 0.21\n",
      "Epoch 1661 \t reward: 10.5 \t length 5 \t mean_length 2.96 \t epsilon 0.21\n",
      "Epoch 1662 \t reward: 1.5 \t length 2 \t mean_length 2.94 \t epsilon 0.21\n",
      "Epoch 1663 \t reward: 1.5 \t length 2 \t mean_length 2.94 \t epsilon 0.21\n",
      "Epoch 1664 \t reward: -0.5 \t length 1 \t mean_length 2.9 \t epsilon 0.21\n",
      "Epoch 1665 \t reward: -0.5 \t length 1 \t mean_length 2.88 \t epsilon 0.21\n",
      "Q_matrix of initial state, after training: step 1601\n"
     ]
    },
    {
     "output_type": "display_data",
     "data": {
      "text/plain": "<PIL.Image.Image image mode=RGBA size=128x128 at 0x1978F606250>",
      "image/png": "[encoded data removed]"
     },
     "metadata": {}
    },
    {
     "output_type": "stream",
     "name": "stdout",
     "text": [
      "29\n"
     ]
    },
    {
     "output_type": "display_data",
     "data": {
      "text/plain": "<PIL.Image.Image image mode=RGBA size=128x128 at 0x1978F606E20>",
      "image/png": "[encoded data removed]"
     },
     "metadata": {}
    },
    {
     "output_type": "stream",
     "name": "stdout",
     "text": [
      "-------------\n"
     ]
    },
    {
     "output_type": "display_data",
     "data": {
      "text/plain": "<PIL.Image.Image image mode=RGBA size=128x128 at 0x1978F606490>",
      "image/png": "[encoded data removed]"
     },
     "metadata": {}
    },
    {
     "output_type": "stream",
     "name": "stdout",
     "text": [
      "34\n",
      "Epoch 1666 \t reward: 14.5 \t length 6 \t mean_length 2.94 \t epsilon 0.21\n",
      "Epoch 1667 \t reward: 4.0 \t length 3 \t mean_length 2.94 \t epsilon 0.21\n",
      "Epoch 1668 \t reward: 1.5 \t length 2 \t mean_length 2.92 \t epsilon 0.21\n",
      "Epoch 1669 \t reward: 7.0 \t length 4 \t mean_length 2.92 \t epsilon 0.21\n",
      "Epoch 1670 \t reward: -0.5 \t length 1 \t mean_length 2.88 \t epsilon 0.21\n",
      "Epoch 1671 \t reward: 4.0 \t length 3 \t mean_length 2.9 \t epsilon 0.21\n",
      "Epoch 1672 \t reward: 4.0 \t length 3 \t mean_length 2.9 \t epsilon 0.21\n",
      "Epoch 1673 \t reward: 19.0 \t length 7 \t mean_length 2.88 \t epsilon 0.21\n",
      "Epoch 1674 \t reward: 1.5 \t length 2 \t mean_length 2.86 \t epsilon 0.21\n",
      "Epoch 1675 \t reward: 7.0 \t length 4 \t mean_length 2.88 \t epsilon 0.21\n",
      "Epoch 1676 \t reward: 1.5 \t length 2 \t mean_length 2.86 \t epsilon 0.21\n",
      "Epoch 1677 \t reward: 4.0 \t length 3 \t mean_length 2.84 \t epsilon 0.21\n",
      "Epoch 1678 \t reward: 1.5 \t length 2 \t mean_length 2.82 \t epsilon 0.21\n",
      "Epoch 1679 \t reward: -0.5 \t length 1 \t mean_length 2.8 \t epsilon 0.21\n",
      "Epoch 1680 \t reward: -0.5 \t length 1 \t mean_length 2.76 \t epsilon 0.21\n",
      "Epoch 1681 \t reward: 1.5 \t length 2 \t mean_length 2.78 \t epsilon 0.21\n",
      "Epoch 1682 \t reward: 7.0 \t length 4 \t mean_length 2.8 \t epsilon 0.21\n",
      "Epoch 1683 \t reward: -0.5 \t length 1 \t mean_length 2.84 \t epsilon 0.21\n",
      "Epoch 1684 \t reward: 7.0 \t length 4 \t mean_length 2.86 \t epsilon 0.21\n",
      "Epoch 1685 \t reward: 4.0 \t length 3 \t mean_length 2.88 \t epsilon 0.21\n",
      "Epoch 1686 \t reward: 7.0 \t length 4 \t mean_length 2.9 \t epsilon 0.21\n",
      "Epoch 1687 \t reward: -0.5 \t length 1 \t mean_length 2.86 \t epsilon 0.21\n",
      "Epoch 1688 \t reward: 1.5 \t length 2 \t mean_length 2.84 \t epsilon 0.21\n",
      "Epoch 1689 \t reward: 14.5 \t length 6 \t mean_length 2.82 \t epsilon 0.21\n",
      "Epoch 1690 \t reward: 10.5 \t length 5 \t mean_length 2.86 \t epsilon 0.21\n",
      "Epoch 1691 \t reward: 1.5 \t length 2 \t mean_length 2.84 \t epsilon 0.21\n",
      "Epoch 1692 \t reward: 4.0 \t length 3 \t mean_length 2.84 \t epsilon 0.21\n",
      "Epoch 1693 \t reward: 10.5 \t length 5 \t mean_length 2.86 \t epsilon 0.21\n",
      "Epoch 1694 \t reward: 14.5 \t length 6 \t mean_length 2.92 \t epsilon 0.21\n",
      "Epoch 1695 \t reward: 4.0 \t length 3 \t mean_length 2.96 \t epsilon 0.21\n",
      "Epoch 1696 \t reward: -0.5 \t length 1 \t mean_length 2.92 \t epsilon 0.21\n",
      "Epoch 1697 \t reward: 7.0 \t length 4 \t mean_length 2.92 \t epsilon 0.21\n",
      "Epoch 1698 \t reward: 4.0 \t length 3 \t mean_length 2.92 \t epsilon 0.21\n",
      "Epoch 1699 \t reward: 7.0 \t length 4 \t mean_length 2.96 \t epsilon 0.21\n",
      "Epoch 1700 \t reward: 14.5 \t length 6 \t mean_length 3.01 \t epsilon 0.21\n",
      "Epoch 1701 \t reward: -0.5 \t length 1 \t mean_length 3.02 \t epsilon 0.21\n",
      "Epoch 1702 \t reward: 1.5 \t length 2 \t mean_length 3.0 \t epsilon 0.21\n",
      "Epoch 1703 \t reward: -0.5 \t length 1 \t mean_length 2.98 \t epsilon 0.21\n",
      "Epoch 1704 \t reward: 14.5 \t length 6 \t mean_length 3.03 \t epsilon 0.21\n",
      "Epoch 1705 \t reward: 19.0 \t length 7 \t mean_length 3.06 \t epsilon 0.21\n",
      "Epoch 1706 \t reward: 7.0 \t length 4 \t mean_length 3.07 \t epsilon 0.21\n",
      "Epoch 1707 \t reward: 1.5 \t length 2 \t mean_length 3.1 \t epsilon 0.21\n",
      "Epoch 1708 \t reward: 10.5 \t length 5 \t mean_length 3.13 \t epsilon 0.21\n",
      "Epoch 1709 \t reward: 1.5 \t length 2 \t mean_length 3.18 \t epsilon 0.21\n",
      "Epoch 1710 \t reward: 1.5 \t length 2 \t mean_length 3.15 \t epsilon 0.21\n",
      "Epoch 1711 \t reward: 7.0 \t length 4 \t mean_length 3.16 \t epsilon 0.2\n",
      "Epoch 1712 \t reward: 14.5 \t length 6 \t mean_length 3.21 \t epsilon 0.2\n",
      "Epoch 1713 \t reward: 7.0 \t length 4 \t mean_length 3.22 \t epsilon 0.2\n",
      "Epoch 1714 \t reward: 4.0 \t length 3 \t mean_length 3.21 \t epsilon 0.2\n",
      "Epoch 1715 \t reward: 14.5 \t length 6 \t mean_length 3.24 \t epsilon 0.2\n",
      "Epoch 1716 \t reward: -0.5 \t length 1 \t mean_length 3.19 \t epsilon 0.2\n",
      "Epoch 1717 \t reward: 1.5 \t length 2 \t mean_length 3.2 \t epsilon 0.2\n",
      "Epoch 1718 \t reward: 7.0 \t length 4 \t mean_length 3.21 \t epsilon 0.2\n",
      "Epoch 1719 \t reward: 7.0 \t length 4 \t mean_length 3.22 \t epsilon 0.2\n",
      "Epoch 1720 \t reward: -0.5 \t length 1 \t mean_length 3.17 \t epsilon 0.2\n",
      "Epoch 1721 \t reward: 1.5 \t length 2 \t mean_length 3.22 \t epsilon 0.2\n",
      "Epoch 1722 \t reward: 7.0 \t length 4 \t mean_length 3.23 \t epsilon 0.2\n",
      "Epoch 1723 \t reward: 7.0 \t length 4 \t mean_length 3.26 \t epsilon 0.2\n",
      "Epoch 1724 \t reward: 1.5 \t length 2 \t mean_length 3.23 \t epsilon 0.2\n",
      "Epoch 1725 \t reward: -0.5 \t length 1 \t mean_length 3.24 \t epsilon 0.2\n",
      "Epoch 1726 \t reward: 4.0 \t length 3 \t mean_length 3.23 \t epsilon 0.2\n",
      "Epoch 1727 \t reward: 14.5 \t length 6 \t mean_length 3.26 \t epsilon 0.2\n",
      "Epoch 1728 \t reward: 1.5 \t length 2 \t mean_length 3.23 \t epsilon 0.2\n",
      "Epoch 1729 \t reward: 4.0 \t length 3 \t mean_length 3.28 \t epsilon 0.2\n",
      "Epoch 1730 \t reward: 4.0 \t length 3 \t mean_length 3.27 \t epsilon 0.2\n",
      "Epoch 1731 \t reward: 14.5 \t length 6 \t mean_length 3.26 \t epsilon 0.2\n",
      "Epoch 1732 \t reward: 10.5 \t length 5 \t mean_length 3.29 \t epsilon 0.2\n",
      "Epoch 1733 \t reward: 10.5 \t length 5 \t mean_length 3.34 \t epsilon 0.2\n",
      "Epoch 1734 \t reward: -0.5 \t length 1 \t mean_length 3.29 \t epsilon 0.2\n",
      "Epoch 1735 \t reward: 7.0 \t length 4 \t mean_length 3.3 \t epsilon 0.2\n",
      "Epoch 1736 \t reward: 4.0 \t length 3 \t mean_length 3.29 \t epsilon 0.2\n",
      "Epoch 1737 \t reward: 7.0 \t length 4 \t mean_length 3.26 \t epsilon 0.2\n",
      "Epoch 1738 \t reward: 4.0 \t length 3 \t mean_length 3.25 \t epsilon 0.2\n",
      "Epoch 1739 \t reward: -0.5 \t length 1 \t mean_length 3.26 \t epsilon 0.2\n",
      "Epoch 1740 \t reward: 10.5 \t length 5 \t mean_length 3.29 \t epsilon 0.2\n",
      "Epoch 1741 \t reward: -0.5 \t length 1 \t mean_length 3.26 \t epsilon 0.2\n",
      "Epoch 1742 \t reward: 14.5 \t length 6 \t mean_length 3.31 \t epsilon 0.2\n",
      "Epoch 1743 \t reward: 1.5 \t length 2 \t mean_length 3.34 \t epsilon 0.2\n",
      "Epoch 1744 \t reward: 4.0 \t length 3 \t mean_length 3.33 \t epsilon 0.2\n",
      "Epoch 1745 \t reward: 1.5 \t length 2 \t mean_length 3.32 \t epsilon 0.2\n",
      "Epoch 1746 \t reward: -0.5 \t length 1 \t mean_length 3.27 \t epsilon 0.2\n",
      "Epoch 1747 \t reward: -0.5 \t length 1 \t mean_length 3.24 \t epsilon 0.2\n",
      "Epoch 1748 \t reward: 14.5 \t length 6 \t mean_length 3.29 \t epsilon 0.2\n",
      "Epoch 1749 \t reward: 10.5 \t length 5 \t mean_length 3.28 \t epsilon 0.2\n",
      "Epoch 1750 \t reward: 10.5 \t length 5 \t mean_length 3.31 \t epsilon 0.2\n",
      "Epoch 1751 \t reward: 4.0 \t length 3 \t mean_length 3.28 \t epsilon 0.2\n",
      "Epoch 1752 \t reward: 7.0 \t length 4 \t mean_length 3.29 \t epsilon 0.2\n",
      "Epoch 1753 \t reward: 14.5 \t length 6 \t mean_length 3.22 \t epsilon 0.2\n",
      "Epoch 1754 \t reward: 4.0 \t length 3 \t mean_length 3.21 \t epsilon 0.2\n",
      "Epoch 1755 \t reward: 10.5 \t length 5 \t mean_length 3.24 \t epsilon 0.2\n",
      "Epoch 1756 \t reward: 1.5 \t length 2 \t mean_length 3.21 \t epsilon 0.2\n",
      "Epoch 1757 \t reward: 7.0 \t length 4 \t mean_length 3.2 \t epsilon 0.2\n",
      "Epoch 1758 \t reward: 1.5 \t length 2 \t mean_length 3.17 \t epsilon 0.2\n",
      "Epoch 1759 \t reward: 4.0 \t length 3 \t mean_length 3.2 \t epsilon 0.2\n",
      "Epoch 1760 \t reward: -0.5 \t length 1 \t mean_length 3.15 \t epsilon 0.2\n",
      "Epoch 1761 \t reward: 7.0 \t length 4 \t mean_length 3.16 \t epsilon 0.2\n",
      "Epoch 1762 \t reward: 14.5 \t length 6 \t mean_length 3.21 \t epsilon 0.2\n",
      "Epoch 1763 \t reward: 1.5 \t length 2 \t mean_length 3.24 \t epsilon 0.2\n",
      "Epoch 1764 \t reward: 7.0 \t length 4 \t mean_length 3.25 \t epsilon 0.2\n",
      "Epoch 1765 \t reward: 14.5 \t length 6 \t mean_length 3.3 \t epsilon 0.2\n",
      "Q_matrix of initial state, after training: step 1701\n"
     ]
    },
    {
     "output_type": "display_data",
     "data": {
      "text/plain": "<PIL.Image.Image image mode=RGBA size=128x128 at 0x1978F606B50>",
      "image/png": "[encoded data removed]"
     },
     "metadata": {}
    },
    {
     "output_type": "stream",
     "name": "stdout",
     "text": [
      "20\n"
     ]
    },
    {
     "output_type": "display_data",
     "data": {
      "text/plain": "<PIL.Image.Image image mode=RGBA size=128x128 at 0x1978F606B50>",
      "image/png": "[encoded data removed]"
     },
     "metadata": {}
    },
    {
     "output_type": "stream",
     "name": "stdout",
     "text": [
      "-------------\n"
     ]
    },
    {
     "output_type": "display_data",
     "data": {
      "text/plain": "<PIL.Image.Image image mode=RGBA size=128x128 at 0x1978F606C10>",
      "image/png": "[encoded data removed]"
     },
     "metadata": {}
    },
    {
     "output_type": "stream",
     "name": "stdout",
     "text": [
      "34\n",
      "Epoch 1766 \t reward: 1.5 \t length 2 \t mean_length 3.27 \t epsilon 0.2\n",
      "Epoch 1767 \t reward: 4.0 \t length 3 \t mean_length 3.22 \t epsilon 0.2\n",
      "Epoch 1768 \t reward: -0.5 \t length 1 \t mean_length 3.17 \t epsilon 0.2\n",
      "Epoch 1769 \t reward: 10.5 \t length 5 \t mean_length 3.2 \t epsilon 0.2\n",
      "Epoch 1770 \t reward: -0.5 \t length 1 \t mean_length 3.15 \t epsilon 0.2\n",
      "Epoch 1771 \t reward: 7.0 \t length 4 \t mean_length 3.2 \t epsilon 0.2\n",
      "Epoch 1772 \t reward: 10.5 \t length 5 \t mean_length 3.23 \t epsilon 0.2\n",
      "Epoch 1773 \t reward: 1.5 \t length 2 \t mean_length 3.24 \t epsilon 0.2\n",
      "Epoch 1774 \t reward: -0.5 \t length 1 \t mean_length 3.19 \t epsilon 0.2\n",
      "Epoch 1775 \t reward: -0.5 \t length 1 \t mean_length 3.22 \t epsilon 0.2\n",
      "Epoch 1776 \t reward: 7.0 \t length 4 \t mean_length 3.23 \t epsilon 0.2\n",
      "Epoch 1777 \t reward: 7.0 \t length 4 \t mean_length 3.26 \t epsilon 0.19\n",
      "Epoch 1778 \t reward: 10.5 \t length 5 \t mean_length 3.29 \t epsilon 0.19\n",
      "Epoch 1779 \t reward: 10.5 \t length 5 \t mean_length 3.32 \t epsilon 0.19\n",
      "Epoch 1780 \t reward: -0.5 \t length 1 \t mean_length 3.27 \t epsilon 0.19\n",
      "Epoch 1781 \t reward: -0.5 \t length 1 \t mean_length 3.32 \t epsilon 0.19\n",
      "Epoch 1782 \t reward: 7.0 \t length 4 \t mean_length 3.33 \t epsilon 0.19\n",
      "Epoch 1783 \t reward: 14.5 \t length 6 \t mean_length 3.32 \t epsilon 0.19\n",
      "Epoch 1784 \t reward: -0.5 \t length 1 \t mean_length 3.27 \t epsilon 0.19\n",
      "Epoch 1785 \t reward: 7.0 \t length 4 \t mean_length 3.26 \t epsilon 0.19\n",
      "Epoch 1786 \t reward: 14.5 \t length 6 \t mean_length 3.31 \t epsilon 0.19\n",
      "Epoch 1787 \t reward: 1.5 \t length 2 \t mean_length 3.3 \t epsilon 0.19\n",
      "Epoch 1788 \t reward: 1.5 \t length 2 \t mean_length 3.27 \t epsilon 0.19\n",
      "Epoch 1789 \t reward: 1.5 \t length 2 \t mean_length 3.3 \t epsilon 0.19\n",
      "Epoch 1790 \t reward: -0.5 \t length 1 \t mean_length 3.25 \t epsilon 0.19\n",
      "Epoch 1791 \t reward: -0.5 \t length 1 \t mean_length 3.22 \t epsilon 0.19\n",
      "Epoch 1792 \t reward: 14.5 \t length 6 \t mean_length 3.27 \t epsilon 0.19\n",
      "Epoch 1793 \t reward: 1.5 \t length 2 \t mean_length 3.28 \t epsilon 0.19\n",
      "Epoch 1794 \t reward: 4.0 \t length 3 \t mean_length 3.27 \t epsilon 0.19\n",
      "Epoch 1795 \t reward: 7.0 \t length 4 \t mean_length 3.22 \t epsilon 0.19\n",
      "Epoch 1796 \t reward: 14.5 \t length 6 \t mean_length 3.27 \t epsilon 0.19\n",
      "Epoch 1797 \t reward: 1.5 \t length 2 \t mean_length 3.32 \t epsilon 0.19\n",
      "Epoch 1798 \t reward: -0.5 \t length 1 \t mean_length 3.27 \t epsilon 0.19\n",
      "Epoch 1799 \t reward: -0.5 \t length 1 \t mean_length 3.28 \t epsilon 0.19\n",
      "Epoch 1800 \t reward: 14.5 \t length 6 \t mean_length 3.33 \t epsilon 0.19\n",
      "Epoch 1801 \t reward: 7.0 \t length 4 \t mean_length 3.28 \t epsilon 0.19\n",
      "Epoch 1802 \t reward: 4.0 \t length 3 \t mean_length 3.27 \t epsilon 0.19\n",
      "Epoch 1803 \t reward: 7.0 \t length 4 \t mean_length 3.3 \t epsilon 0.19\n",
      "Epoch 1804 \t reward: 1.5 \t length 2 \t mean_length 3.27 \t epsilon 0.19\n",
      "Epoch 1805 \t reward: -0.5 \t length 1 \t mean_length 3.22 \t epsilon 0.19\n",
      "Epoch 1806 \t reward: 14.5 \t length 6 \t mean_length 3.27 \t epsilon 0.19\n",
      "Epoch 1807 \t reward: -0.5 \t length 1 \t mean_length 3.26 \t epsilon 0.19\n",
      "Epoch 1808 \t reward: 4.0 \t length 3 \t mean_length 3.25 \t epsilon 0.19\n",
      "Epoch 1809 \t reward: -0.5 \t length 1 \t mean_length 3.22 \t epsilon 0.19\n",
      "Epoch 1810 \t reward: 4.0 \t length 3 \t mean_length 3.21 \t epsilon 0.19\n",
      "Epoch 1811 \t reward: 1.5 \t length 2 \t mean_length 3.24 \t epsilon 0.19\n",
      "Epoch 1812 \t reward: 4.0 \t length 3 \t mean_length 3.23 \t epsilon 0.19\n",
      "Epoch 1813 \t reward: 7.0 \t length 4 \t mean_length 3.18 \t epsilon 0.19\n",
      "Epoch 1814 \t reward: 4.0 \t length 3 \t mean_length 3.17 \t epsilon 0.19\n",
      "Epoch 1815 \t reward: 10.5 \t length 5 \t mean_length 3.18 \t epsilon 0.19\n",
      "Epoch 1816 \t reward: -0.5 \t length 1 \t mean_length 3.13 \t epsilon 0.19\n",
      "Epoch 1817 \t reward: 10.5 \t length 5 \t mean_length 3.18 \t epsilon 0.19\n",
      "Epoch 1818 \t reward: 4.0 \t length 3 \t mean_length 3.17 \t epsilon 0.19\n",
      "Epoch 1819 \t reward: 4.0 \t length 3 \t mean_length 3.16 \t epsilon 0.19\n",
      "Epoch 1820 \t reward: -0.5 \t length 1 \t mean_length 3.11 \t epsilon 0.19\n",
      "Epoch 1821 \t reward: -0.5 \t length 1 \t mean_length 3.16 \t epsilon 0.19\n",
      "Epoch 1822 \t reward: 1.5 \t length 2 \t mean_length 3.13 \t epsilon 0.19\n",
      "Epoch 1823 \t reward: 14.5 \t length 6 \t mean_length 3.12 \t epsilon 0.19\n",
      "Epoch 1824 \t reward: -0.5 \t length 1 \t mean_length 3.07 \t epsilon 0.19\n",
      "Epoch 1825 \t reward: 1.5 \t length 2 \t mean_length 3.1 \t epsilon 0.19\n",
      "Epoch 1826 \t reward: -0.5 \t length 1 \t mean_length 3.05 \t epsilon 0.19\n",
      "Epoch 1827 \t reward: -0.5 \t length 1 \t mean_length 3.06 \t epsilon 0.19\n",
      "Epoch 1828 \t reward: 10.5 \t length 5 \t mean_length 3.09 \t epsilon 0.19\n",
      "Epoch 1829 \t reward: 10.5 \t length 5 \t mean_length 3.12 \t epsilon 0.19\n",
      "Epoch 1830 \t reward: 19.0 \t length 7 \t mean_length 3.19 \t epsilon 0.19\n",
      "Epoch 1831 \t reward: 7.0 \t length 4 \t mean_length 3.2 \t epsilon 0.19\n",
      "Epoch 1832 \t reward: 7.0 \t length 4 \t mean_length 3.21 \t epsilon 0.19\n",
      "Epoch 1833 \t reward: 4.0 \t length 3 \t mean_length 3.18 \t epsilon 0.19\n",
      "Epoch 1834 \t reward: 14.5 \t length 6 \t mean_length 3.23 \t epsilon 0.19\n",
      "Epoch 1835 \t reward: 7.0 \t length 4 \t mean_length 3.28 \t epsilon 0.19\n",
      "Epoch 1836 \t reward: -0.5 \t length 1 \t mean_length 3.23 \t epsilon 0.19\n",
      "Epoch 1837 \t reward: -0.5 \t length 1 \t mean_length 3.24 \t epsilon 0.19\n",
      "Epoch 1838 \t reward: 4.0 \t length 3 \t mean_length 3.23 \t epsilon 0.19\n",
      "Epoch 1839 \t reward: 14.5 \t length 6 \t mean_length 3.24 \t epsilon 0.19\n",
      "Epoch 1840 \t reward: 10.5 \t length 5 \t mean_length 3.27 \t epsilon 0.19\n",
      "Epoch 1841 \t reward: 7.0 \t length 4 \t mean_length 3.24 \t epsilon 0.19\n",
      "Epoch 1842 \t reward: 1.5 \t length 2 \t mean_length 3.21 \t epsilon 0.19\n",
      "Epoch 1843 \t reward: -0.5 \t length 1 \t mean_length 3.16 \t epsilon 0.19\n",
      "Epoch 1844 \t reward: 10.5 \t length 5 \t mean_length 3.19 \t epsilon 0.19\n",
      "Epoch 1845 \t reward: 4.0 \t length 3 \t mean_length 3.2 \t epsilon 0.19\n",
      "Epoch 1846 \t reward: 4.0 \t length 3 \t mean_length 3.19 \t epsilon 0.19\n",
      "Epoch 1847 \t reward: 19.0 \t length 7 \t mean_length 3.24 \t epsilon 0.18\n",
      "Epoch 1848 \t reward: 4.0 \t length 3 \t mean_length 3.23 \t epsilon 0.18\n",
      "Epoch 1849 \t reward: 4.0 \t length 3 \t mean_length 3.18 \t epsilon 0.18\n",
      "Epoch 1850 \t reward: 4.0 \t length 3 \t mean_length 3.17 \t epsilon 0.18\n",
      "Epoch 1851 \t reward: 4.0 \t length 3 \t mean_length 3.14 \t epsilon 0.18\n",
      "Epoch 1852 \t reward: 1.5 \t length 2 \t mean_length 3.11 \t epsilon 0.18\n",
      "Epoch 1853 \t reward: 7.0 \t length 4 \t mean_length 3.1 \t epsilon 0.18\n",
      "Epoch 1854 \t reward: 1.5 \t length 2 \t mean_length 3.07 \t epsilon 0.18\n",
      "Epoch 1855 \t reward: 14.5 \t length 6 \t mean_length 3.08 \t epsilon 0.18\n",
      "Epoch 1856 \t reward: 4.0 \t length 3 \t mean_length 3.07 \t epsilon 0.18\n",
      "Epoch 1857 \t reward: 10.5 \t length 5 \t mean_length 3.1 \t epsilon 0.18\n",
      "Epoch 1858 \t reward: 4.0 \t length 3 \t mean_length 3.09 \t epsilon 0.18\n",
      "Epoch 1859 \t reward: 7.0 \t length 4 \t mean_length 3.12 \t epsilon 0.18\n",
      "Epoch 1860 \t reward: 1.5 \t length 2 \t mean_length 3.09 \t epsilon 0.18\n",
      "Epoch 1861 \t reward: 10.5 \t length 5 \t mean_length 3.14 \t epsilon 0.18\n",
      "Epoch 1862 \t reward: 4.0 \t length 3 \t mean_length 3.13 \t epsilon 0.18\n",
      "Epoch 1863 \t reward: 1.5 \t length 2 \t mean_length 3.08 \t epsilon 0.18\n",
      "Epoch 1864 \t reward: -0.5 \t length 1 \t mean_length 3.03 \t epsilon 0.18\n",
      "Epoch 1865 \t reward: 7.0 \t length 4 \t mean_length 3.02 \t epsilon 0.18\n",
      "Q_matrix of initial state, after training: step 1801\n"
     ]
    },
    {
     "output_type": "display_data",
     "data": {
      "text/plain": "<PIL.Image.Image image mode=RGBA size=128x128 at 0x1978F606760>",
      "image/png": "[encoded data removed]"
     },
     "metadata": {}
    },
    {
     "output_type": "stream",
     "name": "stdout",
     "text": [
      "20\n"
     ]
    },
    {
     "output_type": "display_data",
     "data": {
      "text/plain": "<PIL.Image.Image image mode=RGBA size=128x128 at 0x1978F606E20>",
      "image/png": "[encoded data removed]"
     },
     "metadata": {}
    },
    {
     "output_type": "stream",
     "name": "stdout",
     "text": [
      "-------------\n"
     ]
    },
    {
     "output_type": "display_data",
     "data": {
      "text/plain": "<PIL.Image.Image image mode=RGBA size=128x128 at 0x1978F606C10>",
      "image/png": "[encoded data removed]"
     },
     "metadata": {}
    },
    {
     "output_type": "stream",
     "name": "stdout",
     "text": [
      "34\n",
      "Epoch 1866 \t reward: 1.5 \t length 2 \t mean_length 3.0 \t epsilon 0.18\n",
      "Epoch 1867 \t reward: 7.0 \t length 4 \t mean_length 3.02 \t epsilon 0.18\n",
      "Epoch 1868 \t reward: 14.5 \t length 6 \t mean_length 3.07 \t epsilon 0.18\n",
      "Epoch 1869 \t reward: 14.5 \t length 6 \t mean_length 3.12 \t epsilon 0.18\n",
      "Epoch 1870 \t reward: 1.5 \t length 2 \t mean_length 3.09 \t epsilon 0.18\n",
      "Epoch 1871 \t reward: 10.5 \t length 5 \t mean_length 3.14 \t epsilon 0.18\n",
      "Epoch 1872 \t reward: 10.5 \t length 5 \t mean_length 3.17 \t epsilon 0.18\n",
      "Epoch 1873 \t reward: 19.0 \t length 7 \t mean_length 3.14 \t epsilon 0.18\n",
      "Epoch 1874 \t reward: 7.0 \t length 4 \t mean_length 3.15 \t epsilon 0.18\n",
      "Epoch 1875 \t reward: 10.5 \t length 5 \t mean_length 3.2 \t epsilon 0.18\n",
      "Epoch 1876 \t reward: 7.0 \t length 4 \t mean_length 3.21 \t epsilon 0.18\n",
      "Epoch 1877 \t reward: 4.0 \t length 3 \t mean_length 3.2 \t epsilon 0.18\n",
      "Epoch 1878 \t reward: 14.5 \t length 6 \t mean_length 3.25 \t epsilon 0.18\n",
      "Epoch 1879 \t reward: 10.5 \t length 5 \t mean_length 3.22 \t epsilon 0.18\n",
      "Epoch 1880 \t reward: -0.5 \t length 1 \t mean_length 3.17 \t epsilon 0.18\n",
      "Epoch 1881 \t reward: 7.0 \t length 4 \t mean_length 3.22 \t epsilon 0.18\n",
      "Epoch 1882 \t reward: 1.5 \t length 2 \t mean_length 3.19 \t epsilon 0.18\n",
      "Epoch 1883 \t reward: 4.0 \t length 3 \t mean_length 3.18 \t epsilon 0.18\n",
      "Epoch 1884 \t reward: 1.5 \t length 2 \t mean_length 3.15 \t epsilon 0.18\n",
      "Epoch 1885 \t reward: -0.5 \t length 1 \t mean_length 3.2 \t epsilon 0.18\n",
      "Epoch 1886 \t reward: 10.5 \t length 5 \t mean_length 3.23 \t epsilon 0.18\n",
      "Epoch 1887 \t reward: 4.0 \t length 3 \t mean_length 3.18 \t epsilon 0.18\n",
      "Epoch 1888 \t reward: 7.0 \t length 4 \t mean_length 3.19 \t epsilon 0.18\n",
      "Epoch 1889 \t reward: -0.5 \t length 1 \t mean_length 3.22 \t epsilon 0.18\n",
      "Epoch 1890 \t reward: -0.5 \t length 1 \t mean_length 3.17 \t epsilon 0.18\n",
      "Epoch 1891 \t reward: 7.0 \t length 4 \t mean_length 3.22 \t epsilon 0.18\n",
      "Epoch 1892 \t reward: 4.0 \t length 3 \t mean_length 3.21 \t epsilon 0.18\n",
      "Epoch 1893 \t reward: -0.5 \t length 1 \t mean_length 3.16 \t epsilon 0.18\n",
      "Epoch 1894 \t reward: 4.0 \t length 3 \t mean_length 3.15 \t epsilon 0.18\n",
      "Epoch 1895 \t reward: 4.0 \t length 3 \t mean_length 3.16 \t epsilon 0.18\n",
      "Epoch 1896 \t reward: 4.0 \t length 3 \t mean_length 3.15 \t epsilon 0.18\n",
      "Epoch 1897 \t reward: 4.0 \t length 3 \t mean_length 3.1 \t epsilon 0.18\n",
      "Epoch 1898 \t reward: 1.5 \t length 2 \t mean_length 3.07 \t epsilon 0.18\n",
      "Epoch 1899 \t reward: 10.5 \t length 5 \t mean_length 3.12 \t epsilon 0.18\n",
      "Epoch 1900 \t reward: 1.5 \t length 2 \t mean_length 3.09 \t epsilon 0.18\n",
      "Epoch 1901 \t reward: 19.0 \t length 7 \t mean_length 3.04 \t epsilon 0.18\n",
      "Epoch 1902 \t reward: 4.0 \t length 3 \t mean_length 3.03 \t epsilon 0.18\n",
      "Epoch 1903 \t reward: -0.5 \t length 1 \t mean_length 3.04 \t epsilon 0.18\n",
      "Epoch 1904 \t reward: 19.0 \t length 7 \t mean_length 3.11 \t epsilon 0.18\n",
      "Epoch 1905 \t reward: -0.5 \t length 1 \t mean_length 3.14 \t epsilon 0.18\n",
      "Epoch 1906 \t reward: 1.5 \t length 2 \t mean_length 3.11 \t epsilon 0.18\n",
      "Epoch 1907 \t reward: -0.5 \t length 1 \t mean_length 3.06 \t epsilon 0.18\n",
      "Epoch 1908 \t reward: 1.5 \t length 2 \t mean_length 3.03 \t epsilon 0.18\n",
      "Epoch 1909 \t reward: 7.0 \t length 4 \t mean_length 3.04 \t epsilon 0.18\n",
      "Epoch 1910 \t reward: 1.5 \t length 2 \t mean_length 3.01 \t epsilon 0.18\n",
      "Epoch 1911 \t reward: 7.0 \t length 4 \t mean_length 3.02 \t epsilon 0.18\n",
      "Epoch 1912 \t reward: -0.5 \t length 1 \t mean_length 2.98 \t epsilon 0.18\n",
      "Epoch 1913 \t reward: 4.0 \t length 3 \t mean_length 2.98 \t epsilon 0.18\n",
      "Epoch 1914 \t reward: -0.5 \t length 1 \t mean_length 2.94 \t epsilon 0.18\n",
      "Epoch 1915 \t reward: 14.5 \t length 6 \t mean_length 2.94 \t epsilon 0.18\n",
      "Epoch 1916 \t reward: 10.5 \t length 5 \t mean_length 2.98 \t epsilon 0.18\n",
      "Epoch 1917 \t reward: 10.5 \t length 5 \t mean_length 3.02 \t epsilon 0.18\n",
      "Epoch 1918 \t reward: 7.0 \t length 4 \t mean_length 3.03 \t epsilon 0.18\n",
      "Epoch 1919 \t reward: 19.0 \t length 7 \t mean_length 3.04 \t epsilon 0.18\n",
      "Epoch 1920 \t reward: 4.0 \t length 3 \t mean_length 3.03 \t epsilon 0.18\n",
      "Epoch 1921 \t reward: 1.5 \t length 2 \t mean_length 3.08 \t epsilon 0.18\n",
      "Epoch 1922 \t reward: 1.5 \t length 2 \t mean_length 3.05 \t epsilon 0.18\n",
      "Epoch 1923 \t reward: 14.5 \t length 6 \t mean_length 3.08 \t epsilon 0.17\n",
      "Epoch 1924 \t reward: -0.5 \t length 1 \t mean_length 3.03 \t epsilon 0.17\n",
      "Epoch 1925 \t reward: 7.0 \t length 4 \t mean_length 3.08 \t epsilon 0.17\n",
      "Epoch 1926 \t reward: 7.0 \t length 4 \t mean_length 3.09 \t epsilon 0.17\n",
      "Epoch 1927 \t reward: 7.0 \t length 4 \t mean_length 3.14 \t epsilon 0.17\n",
      "Epoch 1928 \t reward: 14.5 \t length 6 \t mean_length 3.19 \t epsilon 0.17\n",
      "Epoch 1929 \t reward: 1.5 \t length 2 \t mean_length 3.16 \t epsilon 0.17\n",
      "Epoch 1930 \t reward: 10.5 \t length 5 \t mean_length 3.19 \t epsilon 0.17\n",
      "Epoch 1931 \t reward: 1.5 \t length 2 \t mean_length 3.12 \t epsilon 0.17\n",
      "Epoch 1932 \t reward: 4.0 \t length 3 \t mean_length 3.11 \t epsilon 0.17\n",
      "Epoch 1933 \t reward: 7.0 \t length 4 \t mean_length 3.1 \t epsilon 0.17\n",
      "Epoch 1934 \t reward: 4.0 \t length 3 \t mean_length 3.09 \t epsilon 0.17\n",
      "Epoch 1935 \t reward: -0.5 \t length 1 \t mean_length 3.04 \t epsilon 0.17\n",
      "Epoch 1936 \t reward: 10.5 \t length 5 \t mean_length 3.07 \t epsilon 0.17\n",
      "Epoch 1937 \t reward: -0.5 \t length 1 \t mean_length 3.12 \t epsilon 0.17\n",
      "Epoch 1938 \t reward: 10.5 \t length 5 \t mean_length 3.15 \t epsilon 0.17\n",
      "Epoch 1939 \t reward: 1.5 \t length 2 \t mean_length 3.16 \t epsilon 0.17\n",
      "Epoch 1940 \t reward: 14.5 \t length 6 \t mean_length 3.21 \t epsilon 0.17\n",
      "Epoch 1941 \t reward: 1.5 \t length 2 \t mean_length 3.18 \t epsilon 0.17\n",
      "Epoch 1942 \t reward: 10.5 \t length 5 \t mean_length 3.21 \t epsilon 0.17\n",
      "Epoch 1943 \t reward: 4.0 \t length 3 \t mean_length 3.24 \t epsilon 0.17\n",
      "Epoch 1944 \t reward: 14.5 \t length 6 \t mean_length 3.29 \t epsilon 0.17\n",
      "Epoch 1945 \t reward: 7.0 \t length 4 \t mean_length 3.26 \t epsilon 0.17\n",
      "Epoch 1946 \t reward: 4.0 \t length 3 \t mean_length 3.25 \t epsilon 0.17\n",
      "Epoch 1947 \t reward: 10.5 \t length 5 \t mean_length 3.26 \t epsilon 0.17\n",
      "Epoch 1948 \t reward: 1.5 \t length 2 \t mean_length 3.23 \t epsilon 0.17\n",
      "Epoch 1949 \t reward: 7.0 \t length 4 \t mean_length 3.24 \t epsilon 0.17\n",
      "Epoch 1950 \t reward: 7.0 \t length 4 \t mean_length 3.25 \t epsilon 0.17\n",
      "Epoch 1951 \t reward: 14.5 \t length 6 \t mean_length 3.26 \t epsilon 0.17\n",
      "Epoch 1952 \t reward: 19.0 \t length 7 \t mean_length 3.33 \t epsilon 0.17\n",
      "Epoch 1953 \t reward: 7.0 \t length 4 \t mean_length 3.36 \t epsilon 0.17\n",
      "Epoch 1954 \t reward: -0.5 \t length 1 \t mean_length 3.31 \t epsilon 0.17\n",
      "Epoch 1955 \t reward: 14.5 \t length 6 \t mean_length 3.34 \t epsilon 0.17\n",
      "Epoch 1956 \t reward: 1.5 \t length 2 \t mean_length 3.31 \t epsilon 0.17\n",
      "Epoch 1957 \t reward: 1.5 \t length 2 \t mean_length 3.32 \t epsilon 0.17\n",
      "Epoch 1958 \t reward: 4.0 \t length 3 \t mean_length 3.31 \t epsilon 0.17\n",
      "Epoch 1959 \t reward: 14.5 \t length 6 \t mean_length 3.32 \t epsilon 0.17\n",
      "Epoch 1960 \t reward: -0.5 \t length 1 \t mean_length 3.27 \t epsilon 0.17\n",
      "Epoch 1961 \t reward: 10.5 \t length 5 \t mean_length 3.3 \t epsilon 0.17\n",
      "Epoch 1962 \t reward: 7.0 \t length 4 \t mean_length 3.31 \t epsilon 0.17\n",
      "Epoch 1963 \t reward: 14.5 \t length 6 \t mean_length 3.32 \t epsilon 0.17\n",
      "Epoch 1964 \t reward: 7.0 \t length 4 \t mean_length 3.33 \t epsilon 0.17\n",
      "Epoch 1965 \t reward: 1.5 \t length 2 \t mean_length 3.38 \t epsilon 0.17\n",
      "Q_matrix of initial state, after training: step 1901\n"
     ]
    },
    {
     "output_type": "display_data",
     "data": {
      "text/plain": "<PIL.Image.Image image mode=RGBA size=128x128 at 0x1978F606700>",
      "image/png": "[encoded data removed]"
     },
     "metadata": {}
    },
    {
     "output_type": "stream",
     "name": "stdout",
     "text": [
      "20\n"
     ]
    },
    {
     "output_type": "display_data",
     "data": {
      "text/plain": "<PIL.Image.Image image mode=RGBA size=128x128 at 0x1978F606970>",
      "image/png": "[encoded data removed]"
     },
     "metadata": {}
    },
    {
     "output_type": "stream",
     "name": "stdout",
     "text": [
      "-------------\n"
     ]
    },
    {
     "output_type": "display_data",
     "data": {
      "text/plain": "<PIL.Image.Image image mode=RGBA size=128x128 at 0x1978F606490>",
      "image/png": "[encoded data removed]"
     },
     "metadata": {}
    },
    {
     "output_type": "stream",
     "name": "stdout",
     "text": [
      "44\n",
      "Epoch 1966 \t reward: -0.5 \t length 1 \t mean_length 3.33 \t epsilon 0.17\n",
      "Epoch 1967 \t reward: 4.0 \t length 3 \t mean_length 3.36 \t epsilon 0.17\n",
      "Epoch 1968 \t reward: 10.5 \t length 5 \t mean_length 3.39 \t epsilon 0.17\n",
      "Epoch 1969 \t reward: 14.5 \t length 6 \t mean_length 3.34 \t epsilon 0.17\n",
      "Epoch 1970 \t reward: 7.0 \t length 4 \t mean_length 3.35 \t epsilon 0.17\n",
      "Epoch 1971 \t reward: -0.5 \t length 1 \t mean_length 3.38 \t epsilon 0.17\n",
      "Epoch 1972 \t reward: 14.5 \t length 6 \t mean_length 3.43 \t epsilon 0.17\n",
      "Epoch 1973 \t reward: -0.5 \t length 1 \t mean_length 3.4 \t epsilon 0.17\n",
      "Epoch 1974 \t reward: 7.0 \t length 4 \t mean_length 3.41 \t epsilon 0.17\n",
      "Epoch 1975 \t reward: -0.5 \t length 1 \t mean_length 3.4 \t epsilon 0.17\n",
      "Epoch 1976 \t reward: 1.5 \t length 2 \t mean_length 3.37 \t epsilon 0.17\n",
      "Epoch 1977 \t reward: 7.0 \t length 4 \t mean_length 3.36 \t epsilon 0.17\n",
      "Epoch 1978 \t reward: 4.0 \t length 3 \t mean_length 3.35 \t epsilon 0.17\n",
      "Epoch 1979 \t reward: -0.5 \t length 1 \t mean_length 3.3 \t epsilon 0.17\n",
      "Epoch 1980 \t reward: 7.0 \t length 4 \t mean_length 3.31 \t epsilon 0.17\n",
      "Epoch 1981 \t reward: 14.5 \t length 6 \t mean_length 3.36 \t epsilon 0.17\n",
      "Epoch 1982 \t reward: 10.5 \t length 5 \t mean_length 3.39 \t epsilon 0.17\n",
      "Epoch 1983 \t reward: 4.0 \t length 3 \t mean_length 3.42 \t epsilon 0.17\n",
      "Epoch 1984 \t reward: 10.5 \t length 5 \t mean_length 3.45 \t epsilon 0.17\n",
      "Epoch 1985 \t reward: 14.5 \t length 6 \t mean_length 3.48 \t epsilon 0.17\n",
      "Epoch 1986 \t reward: 4.0 \t length 3 \t mean_length 3.47 \t epsilon 0.17\n",
      "Epoch 1987 \t reward: 4.0 \t length 3 \t mean_length 3.44 \t epsilon 0.17\n",
      "Epoch 1988 \t reward: 1.5 \t length 2 \t mean_length 3.41 \t epsilon 0.17\n",
      "Epoch 1989 \t reward: -0.5 \t length 1 \t mean_length 3.4 \t epsilon 0.17\n",
      "Epoch 1990 \t reward: 24.0 \t length 8 \t mean_length 3.49 \t epsilon 0.17\n",
      "Epoch 1991 \t reward: 1.5 \t length 2 \t mean_length 3.54 \t epsilon 0.17\n",
      "Epoch 1992 \t reward: -0.5 \t length 1 \t mean_length 3.49 \t epsilon 0.17\n",
      "Epoch 1993 \t reward: 7.0 \t length 4 \t mean_length 3.5 \t epsilon 0.17\n",
      "Epoch 1994 \t reward: -0.5 \t length 1 \t mean_length 3.45 \t epsilon 0.17\n",
      "Epoch 1995 \t reward: 14.5 \t length 6 \t mean_length 3.46 \t epsilon 0.17\n",
      "Epoch 1996 \t reward: 7.0 \t length 4 \t mean_length 3.47 \t epsilon 0.17\n",
      "Epoch 1997 \t reward: 4.0 \t length 3 \t mean_length 3.48 \t epsilon 0.17\n",
      "Epoch 1998 \t reward: 1.5 \t length 2 \t mean_length 3.45 \t epsilon 0.17\n",
      "Epoch 1999 \t reward: 14.5 \t length 6 \t mean_length 3.48 \t epsilon 0.17\n",
      "Epoch 2000 \t reward: 1.5 \t length 2 \t mean_length 3.45 \t epsilon 0.17\n",
      "Epoch 2001 \t reward: 1.5 \t length 2 \t mean_length 3.48 \t epsilon 0.17\n",
      "Epoch 2002 \t reward: 14.5 \t length 6 \t mean_length 3.52 \t epsilon 0.17\n",
      "Epoch 2003 \t reward: 14.5 \t length 6 \t mean_length 3.54 \t epsilon 0.17\n",
      "Epoch 2004 \t reward: 4.0 \t length 3 \t mean_length 3.52 \t epsilon 0.17\n",
      "Epoch 2005 \t reward: 7.0 \t length 4 \t mean_length 3.46 \t epsilon 0.16\n",
      "Epoch 2006 \t reward: 4.0 \t length 3 \t mean_length 3.45 \t epsilon 0.16\n",
      "Epoch 2007 \t reward: 10.5 \t length 5 \t mean_length 3.48 \t epsilon 0.16\n",
      "Epoch 2008 \t reward: 7.0 \t length 4 \t mean_length 3.49 \t epsilon 0.16\n",
      "Epoch 2009 \t reward: 19.0 \t length 7 \t mean_length 3.52 \t epsilon 0.16\n",
      "Epoch 2010 \t reward: 7.0 \t length 4 \t mean_length 3.52 \t epsilon 0.16\n",
      "Epoch 2011 \t reward: 4.0 \t length 3 \t mean_length 3.56 \t epsilon 0.16\n",
      "Epoch 2012 \t reward: -0.5 \t length 1 \t mean_length 3.5 \t epsilon 0.16\n",
      "Epoch 2013 \t reward: 7.0 \t length 4 \t mean_length 3.56 \t epsilon 0.16\n",
      "Epoch 2014 \t reward: 7.0 \t length 4 \t mean_length 3.56 \t epsilon 0.16\n",
      "Epoch 2015 \t reward: 7.0 \t length 4 \t mean_length 3.62 \t epsilon 0.16\n",
      "Epoch 2016 \t reward: 1.5 \t length 2 \t mean_length 3.58 \t epsilon 0.16\n",
      "Epoch 2017 \t reward: 7.0 \t length 4 \t mean_length 3.56 \t epsilon 0.16\n",
      "Epoch 2018 \t reward: 7.0 \t length 4 \t mean_length 3.56 \t epsilon 0.16\n",
      "Epoch 2019 \t reward: 7.0 \t length 4 \t mean_length 3.56 \t epsilon 0.16\n",
      "Epoch 2020 \t reward: 4.0 \t length 3 \t mean_length 3.54 \t epsilon 0.16\n",
      "Epoch 2021 \t reward: 1.5 \t length 2 \t mean_length 3.56 \t epsilon 0.16\n",
      "Epoch 2022 \t reward: 7.0 \t length 4 \t mean_length 3.56 \t epsilon 0.16\n",
      "Epoch 2023 \t reward: 10.5 \t length 5 \t mean_length 3.6 \t epsilon 0.16\n",
      "Epoch 2024 \t reward: 4.0 \t length 3 \t mean_length 3.58 \t epsilon 0.16\n",
      "Epoch 2025 \t reward: 1.5 \t length 2 \t mean_length 3.64 \t epsilon 0.16\n",
      "Epoch 2026 \t reward: -0.5 \t length 1 \t mean_length 3.58 \t epsilon 0.16\n",
      "Epoch 2027 \t reward: 10.5 \t length 5 \t mean_length 3.58 \t epsilon 0.16\n",
      "Epoch 2028 \t reward: 10.5 \t length 5 \t mean_length 3.6 \t epsilon 0.16\n",
      "Epoch 2029 \t reward: 1.5 \t length 2 \t mean_length 3.56 \t epsilon 0.16\n",
      "Epoch 2030 \t reward: 1.5 \t length 2 \t mean_length 3.52 \t epsilon 0.16\n",
      "Epoch 2031 \t reward: 10.5 \t length 5 \t mean_length 3.5 \t epsilon 0.16\n",
      "Epoch 2032 \t reward: 14.5 \t length 6 \t mean_length 3.54 \t epsilon 0.16\n",
      "Epoch 2033 \t reward: 14.5 \t length 6 \t mean_length 3.56 \t epsilon 0.16\n",
      "Epoch 2034 \t reward: 4.0 \t length 3 \t mean_length 3.54 \t epsilon 0.16\n",
      "Epoch 2035 \t reward: 14.5 \t length 6 \t mean_length 3.56 \t epsilon 0.16\n",
      "Epoch 2036 \t reward: 7.0 \t length 4 \t mean_length 3.56 \t epsilon 0.16\n",
      "Epoch 2037 \t reward: 19.0 \t length 7 \t mean_length 3.54 \t epsilon 0.16\n",
      "Epoch 2038 \t reward: 4.0 \t length 3 \t mean_length 3.52 \t epsilon 0.16\n",
      "Epoch 2039 \t reward: 4.0 \t length 3 \t mean_length 3.5 \t epsilon 0.16\n",
      "Epoch 2040 \t reward: 1.5 \t length 2 \t mean_length 3.47 \t epsilon 0.16\n",
      "Epoch 2041 \t reward: 10.5 \t length 5 \t mean_length 3.42 \t epsilon 0.16\n",
      "Epoch 2042 \t reward: 4.0 \t length 3 \t mean_length 3.41 \t epsilon 0.16\n",
      "Epoch 2043 \t reward: 10.5 \t length 5 \t mean_length 3.38 \t epsilon 0.16\n",
      "Epoch 2044 \t reward: 1.5 \t length 2 \t mean_length 3.35 \t epsilon 0.16\n",
      "Epoch 2045 \t reward: 24.0 \t length 8 \t mean_length 3.3 \t epsilon 0.16\n",
      "Epoch 2046 \t reward: 1.5 \t length 2 \t mean_length 3.27 \t epsilon 0.16\n",
      "Epoch 2047 \t reward: 7.0 \t length 4 \t mean_length 3.28 \t epsilon 0.16\n",
      "Epoch 2048 \t reward: 10.5 \t length 5 \t mean_length 3.31 \t epsilon 0.16\n",
      "Epoch 2049 \t reward: 10.5 \t length 5 \t mean_length 3.34 \t epsilon 0.16\n",
      "Epoch 2050 \t reward: 7.0 \t length 4 \t mean_length 3.35 \t epsilon 0.16\n",
      "Epoch 2051 \t reward: -0.5 \t length 1 \t mean_length 3.34 \t epsilon 0.16\n",
      "Epoch 2052 \t reward: 4.0 \t length 3 \t mean_length 3.33 \t epsilon 0.16\n",
      "Epoch 2053 \t reward: 10.5 \t length 5 \t mean_length 3.26 \t epsilon 0.16\n",
      "Epoch 2054 \t reward: 14.5 \t length 6 \t mean_length 3.31 \t epsilon 0.16\n",
      "Epoch 2055 \t reward: 7.0 \t length 4 \t mean_length 3.36 \t epsilon 0.16\n",
      "Epoch 2056 \t reward: 4.0 \t length 3 \t mean_length 3.35 \t epsilon 0.16\n",
      "Epoch 2057 \t reward: 7.0 \t length 4 \t mean_length 3.38 \t epsilon 0.16\n",
      "Epoch 2058 \t reward: 10.5 \t length 5 \t mean_length 3.41 \t epsilon 0.16\n",
      "Epoch 2059 \t reward: 4.0 \t length 3 \t mean_length 3.42 \t epsilon 0.16\n",
      "Epoch 2060 \t reward: -0.5 \t length 1 \t mean_length 3.37 \t epsilon 0.16\n",
      "Epoch 2061 \t reward: -0.5 \t length 1 \t mean_length 3.42 \t epsilon 0.16\n",
      "Epoch 2062 \t reward: 1.5 \t length 2 \t mean_length 3.39 \t epsilon 0.16\n",
      "Epoch 2063 \t reward: 4.0 \t length 3 \t mean_length 3.38 \t epsilon 0.16\n",
      "Epoch 2064 \t reward: 19.0 \t length 7 \t mean_length 3.45 \t epsilon 0.16\n",
      "Epoch 2065 \t reward: 1.5 \t length 2 \t mean_length 3.44 \t epsilon 0.16\n",
      "Q_matrix of initial state, after training: step 2001\n"
     ]
    },
    {
     "output_type": "display_data",
     "data": {
      "text/plain": "<PIL.Image.Image image mode=RGBA size=128x128 at 0x1978F606760>",
      "image/png": "[encoded data removed]"
     },
     "metadata": {}
    },
    {
     "output_type": "stream",
     "name": "stdout",
     "text": [
      "29\n"
     ]
    },
    {
     "output_type": "display_data",
     "data": {
      "text/plain": "<PIL.Image.Image image mode=RGBA size=128x128 at 0x1978F606760>",
      "image/png": "[encoded data removed]"
     },
     "metadata": {}
    },
    {
     "output_type": "stream",
     "name": "stdout",
     "text": [
      "-------------\n"
     ]
    },
    {
     "output_type": "display_data",
     "data": {
      "text/plain": "<PIL.Image.Image image mode=RGBA size=128x128 at 0x1978F606A90>",
      "image/png": "[encoded data removed]"
     },
     "metadata": {}
    },
    {
     "output_type": "stream",
     "name": "stdout",
     "text": [
      "43\n",
      "Epoch 2066 \t reward: 19.0 \t length 7 \t mean_length 3.5 \t epsilon 0.16\n",
      "Epoch 2067 \t reward: 7.0 \t length 4 \t mean_length 3.56 \t epsilon 0.16\n",
      "Epoch 2068 \t reward: 10.5 \t length 5 \t mean_length 3.58 \t epsilon 0.16\n",
      "Epoch 2069 \t reward: -0.5 \t length 1 \t mean_length 3.56 \t epsilon 0.16\n",
      "Epoch 2070 \t reward: 1.5 \t length 2 \t mean_length 3.52 \t epsilon 0.16\n",
      "Epoch 2071 \t reward: -0.5 \t length 1 \t mean_length 3.52 \t epsilon 0.16\n",
      "Epoch 2072 \t reward: 14.5 \t length 6 \t mean_length 3.56 \t epsilon 0.16\n",
      "Epoch 2073 \t reward: -0.5 \t length 1 \t mean_length 3.52 \t epsilon 0.16\n",
      "Epoch 2074 \t reward: 10.5 \t length 5 \t mean_length 3.54 \t epsilon 0.16\n",
      "Epoch 2075 \t reward: -0.5 \t length 1 \t mean_length 3.54 \t epsilon 0.16\n",
      "Epoch 2076 \t reward: 14.5 \t length 6 \t mean_length 3.58 \t epsilon 0.16\n",
      "Epoch 2077 \t reward: 4.0 \t length 3 \t mean_length 3.62 \t epsilon 0.16\n",
      "Epoch 2078 \t reward: 1.5 \t length 2 \t mean_length 3.58 \t epsilon 0.16\n",
      "Epoch 2079 \t reward: 29.5 \t length 9 \t mean_length 3.6 \t epsilon 0.16\n",
      "Epoch 2080 \t reward: 7.0 \t length 4 \t mean_length 3.6 \t epsilon 0.16\n",
      "Epoch 2081 \t reward: -0.5 \t length 1 \t mean_length 3.6 \t epsilon 0.16\n",
      "Epoch 2082 \t reward: 10.5 \t length 5 \t mean_length 3.62 \t epsilon 0.16\n",
      "Epoch 2083 \t reward: 14.5 \t length 6 \t mean_length 3.6 \t epsilon 0.16\n",
      "Epoch 2084 \t reward: 1.5 \t length 2 \t mean_length 3.56 \t epsilon 0.16\n",
      "Epoch 2085 \t reward: 1.5 \t length 2 \t mean_length 3.54 \t epsilon 0.16\n",
      "Epoch 2086 \t reward: 4.0 \t length 3 \t mean_length 3.52 \t epsilon 0.16\n",
      "Epoch 2087 \t reward: 10.5 \t length 5 \t mean_length 3.54 \t epsilon 0.16\n",
      "Epoch 2088 \t reward: 7.0 \t length 4 \t mean_length 3.54 \t epsilon 0.16\n",
      "Epoch 2089 \t reward: 19.0 \t length 7 \t mean_length 3.58 \t epsilon 0.16\n",
      "Epoch 2090 \t reward: 4.0 \t length 3 \t mean_length 3.56 \t epsilon 0.16\n",
      "Epoch 2091 \t reward: -0.5 \t length 1 \t mean_length 3.48 \t epsilon 0.16\n",
      "Epoch 2092 \t reward: 10.5 \t length 5 \t mean_length 3.5 \t epsilon 0.16\n",
      "Epoch 2093 \t reward: 4.0 \t length 3 \t mean_length 3.56 \t epsilon 0.16\n",
      "Epoch 2094 \t reward: 10.5 \t length 5 \t mean_length 3.58 \t epsilon 0.15\n",
      "Epoch 2095 \t reward: 1.5 \t length 2 \t mean_length 3.64 \t epsilon 0.15\n",
      "Epoch 2096 \t reward: 19.0 \t length 7 \t mean_length 3.7 \t epsilon 0.15\n",
      "Epoch 2097 \t reward: 14.5 \t length 6 \t mean_length 3.7 \t epsilon 0.15\n",
      "Epoch 2098 \t reward: 4.0 \t length 3 \t mean_length 3.68 \t epsilon 0.15\n",
      "Epoch 2099 \t reward: 4.0 \t length 3 \t mean_length 3.72 \t epsilon 0.15\n",
      "Epoch 2100 \t reward: 1.5 \t length 2 \t mean_length 3.68 \t epsilon 0.15\n",
      "Epoch 2101 \t reward: 14.5 \t length 6 \t mean_length 3.72 \t epsilon 0.15\n",
      "Epoch 2102 \t reward: 4.0 \t length 3 \t mean_length 3.7 \t epsilon 0.15\n",
      "Epoch 2103 \t reward: -0.5 \t length 1 \t mean_length 3.66 \t epsilon 0.15\n",
      "Epoch 2104 \t reward: 10.5 \t length 5 \t mean_length 3.68 \t epsilon 0.15\n",
      "Epoch 2105 \t reward: 7.0 \t length 4 \t mean_length 3.7 \t epsilon 0.15\n",
      "Epoch 2106 \t reward: 1.5 \t length 2 \t mean_length 3.66 \t epsilon 0.15\n",
      "Epoch 2107 \t reward: 7.0 \t length 4 \t mean_length 3.68 \t epsilon 0.15\n",
      "Epoch 2108 \t reward: 4.0 \t length 3 \t mean_length 3.66 \t epsilon 0.15\n",
      "Epoch 2109 \t reward: 19.0 \t length 7 \t mean_length 3.66 \t epsilon 0.15\n",
      "Epoch 2110 \t reward: 10.5 \t length 5 \t mean_length 3.68 \t epsilon 0.15\n",
      "Epoch 2111 \t reward: 4.0 \t length 3 \t mean_length 3.68 \t epsilon 0.15\n",
      "Epoch 2112 \t reward: -0.5 \t length 1 \t mean_length 3.62 \t epsilon 0.15\n",
      "Epoch 2113 \t reward: 10.5 \t length 5 \t mean_length 3.68 \t epsilon 0.15\n",
      "Epoch 2114 \t reward: 19.0 \t length 7 \t mean_length 3.74 \t epsilon 0.15\n",
      "Epoch 2115 \t reward: 10.5 \t length 5 \t mean_length 3.74 \t epsilon 0.15\n",
      "Epoch 2116 \t reward: 1.5 \t length 2 \t mean_length 3.7 \t epsilon 0.15\n",
      "Epoch 2117 \t reward: 1.5 \t length 2 \t mean_length 3.74 \t epsilon 0.15\n",
      "Epoch 2118 \t reward: 10.5 \t length 5 \t mean_length 3.76 \t epsilon 0.15\n",
      "Epoch 2119 \t reward: 7.0 \t length 4 \t mean_length 3.76 \t epsilon 0.15\n",
      "Epoch 2120 \t reward: 10.5 \t length 5 \t mean_length 3.78 \t epsilon 0.15\n",
      "Epoch 2121 \t reward: 1.5 \t length 2 \t mean_length 3.8 \t epsilon 0.15\n",
      "Epoch 2122 \t reward: 1.5 \t length 2 \t mean_length 3.76 \t epsilon 0.15\n",
      "Epoch 2123 \t reward: 10.5 \t length 5 \t mean_length 3.76 \t epsilon 0.15\n",
      "Epoch 2124 \t reward: 7.0 \t length 4 \t mean_length 3.76 \t epsilon 0.15\n",
      "Epoch 2125 \t reward: 4.0 \t length 3 \t mean_length 3.78 \t epsilon 0.15\n",
      "Epoch 2126 \t reward: 4.0 \t length 3 \t mean_length 3.76 \t epsilon 0.15\n",
      "Epoch 2127 \t reward: 10.5 \t length 5 \t mean_length 3.82 \t epsilon 0.15\n",
      "Epoch 2128 \t reward: 4.0 \t length 3 \t mean_length 3.8 \t epsilon 0.15\n",
      "Epoch 2129 \t reward: -0.5 \t length 1 \t mean_length 3.78 \t epsilon 0.15\n",
      "Epoch 2130 \t reward: 10.5 \t length 5 \t mean_length 3.8 \t epsilon 0.15\n",
      "Epoch 2131 \t reward: 24.0 \t length 8 \t mean_length 3.84 \t epsilon 0.15\n",
      "Epoch 2132 \t reward: -0.5 \t length 1 \t mean_length 3.78 \t epsilon 0.15\n",
      "Epoch 2133 \t reward: -0.5 \t length 1 \t mean_length 3.74 \t epsilon 0.15\n",
      "Epoch 2134 \t reward: 19.0 \t length 7 \t mean_length 3.8 \t epsilon 0.15\n",
      "Epoch 2135 \t reward: 29.5 \t length 9 \t mean_length 3.82 \t epsilon 0.15\n",
      "Epoch 2136 \t reward: 7.0 \t length 4 \t mean_length 3.82 \t epsilon 0.15\n",
      "Epoch 2137 \t reward: 10.5 \t length 5 \t mean_length 3.82 \t epsilon 0.15\n",
      "Epoch 2138 \t reward: 7.0 \t length 4 \t mean_length 3.82 \t epsilon 0.15\n",
      "Epoch 2139 \t reward: 4.0 \t length 3 \t mean_length 3.84 \t epsilon 0.15\n",
      "Epoch 2140 \t reward: 19.0 \t length 7 \t mean_length 3.9 \t epsilon 0.15\n",
      "Epoch 2141 \t reward: 19.0 \t length 7 \t mean_length 3.94 \t epsilon 0.15\n",
      "Epoch 2142 \t reward: 19.0 \t length 7 \t mean_length 4.0 \t epsilon 0.15\n",
      "Epoch 2143 \t reward: -0.5 \t length 1 \t mean_length 4.01 \t epsilon 0.15\n",
      "Epoch 2144 \t reward: 4.0 \t length 3 \t mean_length 4.0 \t epsilon 0.15\n",
      "Epoch 2145 \t reward: -0.5 \t length 1 \t mean_length 4.04 \t epsilon 0.15\n",
      "Epoch 2146 \t reward: 4.0 \t length 3 \t mean_length 4.01 \t epsilon 0.15\n",
      "Epoch 2147 \t reward: 1.5 \t length 2 \t mean_length 4.05 \t epsilon 0.15\n",
      "Epoch 2148 \t reward: 10.5 \t length 5 \t mean_length 4.07 \t epsilon 0.15\n",
      "Epoch 2149 \t reward: 1.5 \t length 2 \t mean_length 4.05 \t epsilon 0.15\n",
      "Epoch 2150 \t reward: 1.5 \t length 2 \t mean_length 4.01 \t epsilon 0.15\n",
      "Epoch 2151 \t reward: 7.0 \t length 4 \t mean_length 4.01 \t epsilon 0.15\n",
      "Epoch 2152 \t reward: -0.5 \t length 1 \t mean_length 3.96 \t epsilon 0.15\n",
      "Epoch 2153 \t reward: 4.0 \t length 3 \t mean_length 3.98 \t epsilon 0.15\n",
      "Epoch 2154 \t reward: -0.5 \t length 1 \t mean_length 3.92 \t epsilon 0.15\n",
      "Epoch 2155 \t reward: 10.5 \t length 5 \t mean_length 3.88 \t epsilon 0.15\n",
      "Epoch 2156 \t reward: 1.5 \t length 2 \t mean_length 3.84 \t epsilon 0.15\n",
      "Epoch 2157 \t reward: 7.0 \t length 4 \t mean_length 3.86 \t epsilon 0.15\n",
      "Epoch 2158 \t reward: 1.5 \t length 2 \t mean_length 3.82 \t epsilon 0.15\n",
      "Epoch 2159 \t reward: 1.5 \t length 2 \t mean_length 3.8 \t epsilon 0.15\n",
      "Epoch 2160 \t reward: 1.5 \t length 2 \t mean_length 3.76 \t epsilon 0.15\n",
      "Epoch 2161 \t reward: 14.5 \t length 6 \t mean_length 3.82 \t epsilon 0.15\n",
      "Epoch 2162 \t reward: 4.0 \t length 3 \t mean_length 3.8 \t epsilon 0.15\n",
      "Epoch 2163 \t reward: 7.0 \t length 4 \t mean_length 3.84 \t epsilon 0.15\n",
      "Epoch 2164 \t reward: -0.5 \t length 1 \t mean_length 3.78 \t epsilon 0.15\n",
      "Epoch 2165 \t reward: 10.5 \t length 5 \t mean_length 3.72 \t epsilon 0.15\n",
      "Q_matrix of initial state, after training: step 2101\n"
     ]
    },
    {
     "output_type": "display_data",
     "data": {
      "text/plain": "<PIL.Image.Image image mode=RGBA size=128x128 at 0x1978F606B50>",
      "image/png": "[encoded data removed]"
     },
     "metadata": {}
    },
    {
     "output_type": "stream",
     "name": "stdout",
     "text": [
      "34\n"
     ]
    },
    {
     "output_type": "display_data",
     "data": {
      "text/plain": "<PIL.Image.Image image mode=RGBA size=128x128 at 0x1978F606490>",
      "image/png": "[encoded data removed]"
     },
     "metadata": {}
    },
    {
     "output_type": "stream",
     "name": "stdout",
     "text": [
      "-------------\n"
     ]
    },
    {
     "output_type": "display_data",
     "data": {
      "text/plain": "<PIL.Image.Image image mode=RGBA size=128x128 at 0x1978F606CD0>",
      "image/png": "[encoded data removed]"
     },
     "metadata": {}
    },
    {
     "output_type": "stream",
     "name": "stdout",
     "text": [
      "20\n",
      "Epoch 2166 \t reward: 7.0 \t length 4 \t mean_length 3.72 \t epsilon 0.15\n",
      "Epoch 2167 \t reward: 4.0 \t length 3 \t mean_length 3.66 \t epsilon 0.15\n",
      "Epoch 2168 \t reward: -0.5 \t length 1 \t mean_length 3.6 \t epsilon 0.15\n",
      "Epoch 2169 \t reward: 10.5 \t length 5 \t mean_length 3.58 \t epsilon 0.15\n",
      "Epoch 2170 \t reward: 14.5 \t length 6 \t mean_length 3.62 \t epsilon 0.15\n",
      "Epoch 2171 \t reward: 1.5 \t length 2 \t mean_length 3.66 \t epsilon 0.15\n",
      "Epoch 2172 \t reward: 10.5 \t length 5 \t mean_length 3.68 \t epsilon 0.15\n",
      "Epoch 2173 \t reward: -0.5 \t length 1 \t mean_length 3.64 \t epsilon 0.15\n",
      "Epoch 2174 \t reward: 1.5 \t length 2 \t mean_length 3.6 \t epsilon 0.15\n",
      "Epoch 2175 \t reward: 7.0 \t length 4 \t mean_length 3.58 \t epsilon 0.15\n",
      "Epoch 2176 \t reward: 14.5 \t length 6 \t mean_length 3.62 \t epsilon 0.15\n",
      "Epoch 2177 \t reward: -0.5 \t length 1 \t mean_length 3.58 \t epsilon 0.15\n",
      "Epoch 2178 \t reward: 1.5 \t length 2 \t mean_length 3.54 \t epsilon 0.15\n",
      "Epoch 2179 \t reward: -0.5 \t length 1 \t mean_length 3.58 \t epsilon 0.15\n",
      "Epoch 2180 \t reward: 7.0 \t length 4 \t mean_length 3.58 \t epsilon 0.15\n",
      "Epoch 2181 \t reward: 10.5 \t length 5 \t mean_length 3.58 \t epsilon 0.15\n",
      "Epoch 2182 \t reward: 14.5 \t length 6 \t mean_length 3.62 \t epsilon 0.15\n",
      "Epoch 2183 \t reward: 14.5 \t length 6 \t mean_length 3.6 \t epsilon 0.15\n",
      "Epoch 2184 \t reward: 4.0 \t length 3 \t mean_length 3.58 \t epsilon 0.15\n",
      "Epoch 2185 \t reward: 1.5 \t length 2 \t mean_length 3.62 \t epsilon 0.15\n",
      "Epoch 2186 \t reward: 4.0 \t length 3 \t mean_length 3.6 \t epsilon 0.15\n",
      "Epoch 2187 \t reward: -0.5 \t length 1 \t mean_length 3.62 \t epsilon 0.15\n",
      "Epoch 2188 \t reward: 1.5 \t length 2 \t mean_length 3.58 \t epsilon 0.15\n",
      "Epoch 2189 \t reward: 19.0 \t length 7 \t mean_length 3.58 \t epsilon 0.15\n",
      "Epoch 2190 \t reward: 14.5 \t length 6 \t mean_length 3.62 \t epsilon 0.15\n",
      "Epoch 2191 \t reward: 19.0 \t length 7 \t mean_length 3.64 \t epsilon 0.15\n",
      "Epoch 2192 \t reward: 10.5 \t length 5 \t mean_length 3.66 \t epsilon 0.14\n",
      "Epoch 2193 \t reward: 10.5 \t length 5 \t mean_length 3.64 \t epsilon 0.14\n",
      "Epoch 2194 \t reward: 1.5 \t length 2 \t mean_length 3.6 \t epsilon 0.14\n",
      "Epoch 2195 \t reward: 10.5 \t length 5 \t mean_length 3.58 \t epsilon 0.14\n",
      "Epoch 2196 \t reward: 10.5 \t length 5 \t mean_length 3.6 \t epsilon 0.14\n",
      "Epoch 2197 \t reward: 19.0 \t length 7 \t mean_length 3.54 \t epsilon 0.14\n",
      "Epoch 2198 \t reward: 7.0 \t length 4 \t mean_length 3.54 \t epsilon 0.14\n",
      "Epoch 2199 \t reward: 10.5 \t length 5 \t mean_length 3.56 \t epsilon 0.14\n",
      "Epoch 2200 \t reward: -0.5 \t length 1 \t mean_length 3.5 \t epsilon 0.14\n",
      "Epoch 2201 \t reward: 19.0 \t length 7 \t mean_length 3.54 \t epsilon 0.14\n",
      "Epoch 2202 \t reward: 10.5 \t length 5 \t mean_length 3.56 \t epsilon 0.14\n",
      "Epoch 2203 \t reward: -0.5 \t length 1 \t mean_length 3.58 \t epsilon 0.14\n",
      "Epoch 2204 \t reward: 4.0 \t length 3 \t mean_length 3.56 \t epsilon 0.14\n",
      "Epoch 2205 \t reward: 7.0 \t length 4 \t mean_length 3.54 \t epsilon 0.14\n",
      "Epoch 2206 \t reward: 10.5 \t length 5 \t mean_length 3.56 \t epsilon 0.14\n",
      "Epoch 2207 \t reward: 1.5 \t length 2 \t mean_length 3.6 \t epsilon 0.14\n",
      "Epoch 2208 \t reward: 7.0 \t length 4 \t mean_length 3.6 \t epsilon 0.14\n",
      "Epoch 2209 \t reward: 19.0 \t length 7 \t mean_length 3.62 \t epsilon 0.14\n",
      "Epoch 2210 \t reward: 19.0 \t length 7 \t mean_length 3.68 \t epsilon 0.14\n",
      "Epoch 2211 \t reward: 10.5 \t length 5 \t mean_length 3.66 \t epsilon 0.14\n",
      "Epoch 2212 \t reward: 10.5 \t length 5 \t mean_length 3.68 \t epsilon 0.14\n",
      "Epoch 2213 \t reward: -0.5 \t length 1 \t mean_length 3.74 \t epsilon 0.14\n",
      "Epoch 2214 \t reward: -0.5 \t length 1 \t mean_length 3.68 \t epsilon 0.14\n",
      "Epoch 2215 \t reward: -0.5 \t length 1 \t mean_length 3.62 \t epsilon 0.14\n",
      "Epoch 2216 \t reward: -0.5 \t length 1 \t mean_length 3.56 \t epsilon 0.14\n",
      "Epoch 2217 \t reward: 1.5 \t length 2 \t mean_length 3.6 \t epsilon 0.14\n",
      "Epoch 2218 \t reward: 7.0 \t length 4 \t mean_length 3.6 \t epsilon 0.14\n",
      "Epoch 2219 \t reward: -0.5 \t length 1 \t mean_length 3.58 \t epsilon 0.14\n",
      "Epoch 2220 \t reward: 10.5 \t length 5 \t mean_length 3.6 \t epsilon 0.14\n",
      "Epoch 2221 \t reward: 4.0 \t length 3 \t mean_length 3.58 \t epsilon 0.14\n",
      "Epoch 2222 \t reward: -0.5 \t length 1 \t mean_length 3.52 \t epsilon 0.14\n",
      "Epoch 2223 \t reward: 7.0 \t length 4 \t mean_length 3.56 \t epsilon 0.14\n",
      "Epoch 2224 \t reward: 7.0 \t length 4 \t mean_length 3.56 \t epsilon 0.14\n",
      "Epoch 2225 \t reward: 7.0 \t length 4 \t mean_length 3.56 \t epsilon 0.14\n",
      "Epoch 2226 \t reward: 1.5 \t length 2 \t mean_length 3.52 \t epsilon 0.14\n",
      "Epoch 2227 \t reward: 4.0 \t length 3 \t mean_length 3.54 \t epsilon 0.14\n",
      "Epoch 2228 \t reward: 10.5 \t length 5 \t mean_length 3.56 \t epsilon 0.14\n",
      "Epoch 2229 \t reward: -0.5 \t length 1 \t mean_length 3.58 \t epsilon 0.14\n",
      "Epoch 2230 \t reward: 1.5 \t length 2 \t mean_length 3.54 \t epsilon 0.14\n",
      "Epoch 2231 \t reward: 19.0 \t length 7 \t mean_length 3.52 \t epsilon 0.14\n",
      "Epoch 2232 \t reward: 19.0 \t length 7 \t mean_length 3.58 \t epsilon 0.14\n",
      "Epoch 2233 \t reward: 4.0 \t length 3 \t mean_length 3.64 \t epsilon 0.14\n",
      "Epoch 2234 \t reward: 10.5 \t length 5 \t mean_length 3.66 \t epsilon 0.14\n",
      "Epoch 2235 \t reward: 7.0 \t length 4 \t mean_length 3.6 \t epsilon 0.14\n",
      "Epoch 2236 \t reward: -0.5 \t length 1 \t mean_length 3.54 \t epsilon 0.14\n",
      "Epoch 2237 \t reward: 7.0 \t length 4 \t mean_length 3.54 \t epsilon 0.14\n",
      "Epoch 2238 \t reward: 1.5 \t length 2 \t mean_length 3.5 \t epsilon 0.14\n",
      "Epoch 2239 \t reward: -0.5 \t length 1 \t mean_length 3.5 \t epsilon 0.14\n",
      "Epoch 2240 \t reward: 7.0 \t length 4 \t mean_length 3.5 \t epsilon 0.14\n",
      "Epoch 2241 \t reward: -0.5 \t length 1 \t mean_length 3.44 \t epsilon 0.14\n",
      "Epoch 2242 \t reward: 14.5 \t length 6 \t mean_length 3.49 \t epsilon 0.14\n",
      "Epoch 2243 \t reward: 1.5 \t length 2 \t mean_length 3.42 \t epsilon 0.14\n",
      "Epoch 2244 \t reward: 4.0 \t length 3 \t mean_length 3.41 \t epsilon 0.14\n",
      "Epoch 2245 \t reward: 14.5 \t length 6 \t mean_length 3.42 \t epsilon 0.14\n",
      "Epoch 2246 \t reward: 19.0 \t length 7 \t mean_length 3.49 \t epsilon 0.14\n",
      "Epoch 2247 \t reward: -0.5 \t length 1 \t mean_length 3.5 \t epsilon 0.14\n",
      "Epoch 2248 \t reward: 10.5 \t length 5 \t mean_length 3.52 \t epsilon 0.14\n",
      "Epoch 2249 \t reward: 29.5 \t length 9 \t mean_length 3.5 \t epsilon 0.14\n",
      "Epoch 2250 \t reward: 1.5 \t length 2 \t mean_length 3.47 \t epsilon 0.14\n",
      "Epoch 2251 \t reward: 14.5 \t length 6 \t mean_length 3.5 \t epsilon 0.14\n",
      "Epoch 2252 \t reward: 4.0 \t length 3 \t mean_length 3.49 \t epsilon 0.14\n",
      "Epoch 2253 \t reward: 4.0 \t length 3 \t mean_length 3.54 \t epsilon 0.14\n",
      "Epoch 2254 \t reward: 10.5 \t length 5 \t mean_length 3.56 \t epsilon 0.14\n",
      "Epoch 2255 \t reward: 10.5 \t length 5 \t mean_length 3.62 \t epsilon 0.14\n",
      "Epoch 2256 \t reward: 7.0 \t length 4 \t mean_length 3.62 \t epsilon 0.14\n",
      "Epoch 2257 \t reward: 4.0 \t length 3 \t mean_length 3.66 \t epsilon 0.14\n",
      "Epoch 2258 \t reward: 1.5 \t length 2 \t mean_length 3.62 \t epsilon 0.14\n",
      "Epoch 2259 \t reward: 42.0 \t length 11 \t mean_length 3.66 \t epsilon 0.14\n",
      "Epoch 2260 \t reward: 4.0 \t length 3 \t mean_length 3.64 \t epsilon 0.14\n",
      "Epoch 2261 \t reward: 14.5 \t length 6 \t mean_length 3.68 \t epsilon 0.14\n",
      "Epoch 2262 \t reward: 10.5 \t length 5 \t mean_length 3.7 \t epsilon 0.14\n",
      "Epoch 2263 \t reward: 1.5 \t length 2 \t mean_length 3.72 \t epsilon 0.14\n",
      "Epoch 2264 \t reward: 4.0 \t length 3 \t mean_length 3.7 \t epsilon 0.14\n",
      "Epoch 2265 \t reward: 4.0 \t length 3 \t mean_length 3.76 \t epsilon 0.14\n",
      "Q_matrix of initial state, after training: step 2201\n"
     ]
    },
    {
     "output_type": "display_data",
     "data": {
      "text/plain": "<PIL.Image.Image image mode=RGBA size=128x128 at 0x1978F606CD0>",
      "image/png": "[encoded data removed]"
     },
     "metadata": {}
    },
    {
     "output_type": "stream",
     "name": "stdout",
     "text": [
      "29\n"
     ]
    },
    {
     "output_type": "display_data",
     "data": {
      "text/plain": "<PIL.Image.Image image mode=RGBA size=128x128 at 0x1978F606CD0>",
      "image/png": "[encoded data removed]"
     },
     "metadata": {}
    },
    {
     "output_type": "stream",
     "name": "stdout",
     "text": [
      "-------------\n"
     ]
    },
    {
     "output_type": "display_data",
     "data": {
      "text/plain": "<PIL.Image.Image image mode=RGBA size=128x128 at 0x1978F606AF0>",
      "image/png": "[encoded data removed]"
     },
     "metadata": {}
    },
    {
     "output_type": "stream",
     "name": "stdout",
     "text": [
      "34\n",
      "Epoch 2266 \t reward: 7.0 \t length 4 \t mean_length 3.76 \t epsilon 0.14\n",
      "Epoch 2267 \t reward: 10.5 \t length 5 \t mean_length 3.76 \t epsilon 0.14\n",
      "Epoch 2268 \t reward: -0.5 \t length 1 \t mean_length 3.7 \t epsilon 0.14\n",
      "Epoch 2269 \t reward: 29.5 \t length 9 \t mean_length 3.76 \t epsilon 0.14\n",
      "Epoch 2270 \t reward: 1.5 \t length 2 \t mean_length 3.72 \t epsilon 0.14\n",
      "Epoch 2271 \t reward: 10.5 \t length 5 \t mean_length 3.68 \t epsilon 0.14\n",
      "Epoch 2272 \t reward: -0.5 \t length 1 \t mean_length 3.62 \t epsilon 0.14\n",
      "Epoch 2273 \t reward: 7.0 \t length 4 \t mean_length 3.6 \t epsilon 0.14\n",
      "Epoch 2274 \t reward: 10.5 \t length 5 \t mean_length 3.62 \t epsilon 0.14\n",
      "Epoch 2275 \t reward: 7.0 \t length 4 \t mean_length 3.66 \t epsilon 0.14\n",
      "Epoch 2276 \t reward: 1.5 \t length 2 \t mean_length 3.62 \t epsilon 0.14\n",
      "Epoch 2277 \t reward: -0.5 \t length 1 \t mean_length 3.58 \t epsilon 0.14\n",
      "Epoch 2278 \t reward: 4.0 \t length 3 \t mean_length 3.56 \t epsilon 0.14\n",
      "Epoch 2279 \t reward: 4.0 \t length 3 \t mean_length 3.6 \t epsilon 0.14\n",
      "Epoch 2280 \t reward: 4.0 \t length 3 \t mean_length 3.58 \t epsilon 0.14\n",
      "Epoch 2281 \t reward: 10.5 \t length 5 \t mean_length 3.58 \t epsilon 0.14\n",
      "Epoch 2282 \t reward: 10.5 \t length 5 \t mean_length 3.6 \t epsilon 0.14\n",
      "Epoch 2283 \t reward: 1.5 \t length 2 \t mean_length 3.56 \t epsilon 0.14\n",
      "Epoch 2284 \t reward: 4.0 \t length 3 \t mean_length 3.54 \t epsilon 0.14\n",
      "Epoch 2285 \t reward: 14.5 \t length 6 \t mean_length 3.56 \t epsilon 0.14\n",
      "Epoch 2286 \t reward: 14.5 \t length 6 \t mean_length 3.6 \t epsilon 0.14\n",
      "Epoch 2287 \t reward: 1.5 \t length 2 \t mean_length 3.62 \t epsilon 0.14\n",
      "Epoch 2288 \t reward: 7.0 \t length 4 \t mean_length 3.62 \t epsilon 0.14\n",
      "Epoch 2289 \t reward: 4.0 \t length 3 \t mean_length 3.66 \t epsilon 0.14\n",
      "Epoch 2290 \t reward: 7.0 \t length 4 \t mean_length 3.66 \t epsilon 0.14\n",
      "Epoch 2291 \t reward: 1.5 \t length 2 \t mean_length 3.62 \t epsilon 0.14\n",
      "Epoch 2292 \t reward: 4.0 \t length 3 \t mean_length 3.6 \t epsilon 0.14\n",
      "Epoch 2293 \t reward: -0.5 \t length 1 \t mean_length 3.58 \t epsilon 0.14\n",
      "Epoch 2294 \t reward: -0.5 \t length 1 \t mean_length 3.52 \t epsilon 0.14\n",
      "Epoch 2295 \t reward: 10.5 \t length 5 \t mean_length 3.56 \t epsilon 0.14\n",
      "Epoch 2296 \t reward: 7.0 \t length 4 \t mean_length 3.56 \t epsilon 0.14\n",
      "Epoch 2297 \t reward: 7.0 \t length 4 \t mean_length 3.54 \t epsilon 0.14\n",
      "Epoch 2298 \t reward: 7.0 \t length 4 \t mean_length 3.54 \t epsilon 0.14\n",
      "Epoch 2299 \t reward: 4.0 \t length 3 \t mean_length 3.54 \t epsilon 0.14\n",
      "Epoch 2300 \t reward: 10.5 \t length 5 \t mean_length 3.56 \t epsilon 0.13\n",
      "Epoch 2301 \t reward: 7.0 \t length 4 \t mean_length 3.62 \t epsilon 0.13\n",
      "Epoch 2302 \t reward: 19.0 \t length 7 \t mean_length 3.68 \t epsilon 0.13\n",
      "Epoch 2303 \t reward: 14.5 \t length 6 \t mean_length 3.66 \t epsilon 0.13\n",
      "Epoch 2304 \t reward: 10.5 \t length 5 \t mean_length 3.68 \t epsilon 0.13\n",
      "Epoch 2305 \t reward: -0.5 \t length 1 \t mean_length 3.7 \t epsilon 0.13\n",
      "Epoch 2306 \t reward: -0.5 \t length 1 \t mean_length 3.64 \t epsilon 0.13\n",
      "Epoch 2307 \t reward: 7.0 \t length 4 \t mean_length 3.62 \t epsilon 0.13\n",
      "Epoch 2308 \t reward: 10.5 \t length 5 \t mean_length 3.64 \t epsilon 0.13\n",
      "Epoch 2309 \t reward: 7.0 \t length 4 \t mean_length 3.64 \t epsilon 0.13\n",
      "Epoch 2310 \t reward: 14.5 \t length 6 \t mean_length 3.68 \t epsilon 0.13\n",
      "Epoch 2311 \t reward: 10.5 \t length 5 \t mean_length 3.62 \t epsilon 0.13\n",
      "Epoch 2312 \t reward: 19.0 \t length 7 \t mean_length 3.68 \t epsilon 0.13\n",
      "Epoch 2313 \t reward: 14.5 \t length 6 \t mean_length 3.66 \t epsilon 0.13\n",
      "Epoch 2314 \t reward: 7.0 \t length 4 \t mean_length 3.66 \t epsilon 0.13\n",
      "Epoch 2315 \t reward: 4.0 \t length 3 \t mean_length 3.72 \t epsilon 0.13\n",
      "Epoch 2316 \t reward: 10.5 \t length 5 \t mean_length 3.74 \t epsilon 0.13\n",
      "Epoch 2317 \t reward: -0.5 \t length 1 \t mean_length 3.8 \t epsilon 0.13\n",
      "Epoch 2318 \t reward: 4.0 \t length 3 \t mean_length 3.78 \t epsilon 0.13\n",
      "Epoch 2319 \t reward: 10.5 \t length 5 \t mean_length 3.78 \t epsilon 0.13\n",
      "Epoch 2320 \t reward: 7.0 \t length 4 \t mean_length 3.78 \t epsilon 0.13\n",
      "Epoch 2321 \t reward: 4.0 \t length 3 \t mean_length 3.76 \t epsilon 0.13\n",
      "Epoch 2322 \t reward: 10.5 \t length 5 \t mean_length 3.78 \t epsilon 0.13\n",
      "Epoch 2323 \t reward: 1.5 \t length 2 \t mean_length 3.84 \t epsilon 0.13\n",
      "Epoch 2324 \t reward: 4.0 \t length 3 \t mean_length 3.82 \t epsilon 0.13\n",
      "Epoch 2325 \t reward: 4.0 \t length 3 \t mean_length 3.82 \t epsilon 0.13\n",
      "Epoch 2326 \t reward: 1.5 \t length 2 \t mean_length 3.78 \t epsilon 0.13\n",
      "Epoch 2327 \t reward: -0.5 \t length 1 \t mean_length 3.82 \t epsilon 0.13\n",
      "Epoch 2328 \t reward: 7.0 \t length 4 \t mean_length 3.82 \t epsilon 0.13\n",
      "Epoch 2329 \t reward: 7.0 \t length 4 \t mean_length 3.8 \t epsilon 0.13\n",
      "Epoch 2330 \t reward: 7.0 \t length 4 \t mean_length 3.8 \t epsilon 0.13\n",
      "Epoch 2331 \t reward: 1.5 \t length 2 \t mean_length 3.84 \t epsilon 0.13\n",
      "Epoch 2332 \t reward: 10.5 \t length 5 \t mean_length 3.86 \t epsilon 0.13\n",
      "Epoch 2333 \t reward: 7.0 \t length 4 \t mean_length 3.8 \t epsilon 0.13\n",
      "Epoch 2334 \t reward: 4.0 \t length 3 \t mean_length 3.78 \t epsilon 0.13\n",
      "Epoch 2335 \t reward: 4.0 \t length 3 \t mean_length 3.76 \t epsilon 0.13\n",
      "Epoch 2336 \t reward: 4.0 \t length 3 \t mean_length 3.74 \t epsilon 0.13\n",
      "Epoch 2337 \t reward: 14.5 \t length 6 \t mean_length 3.8 \t epsilon 0.13\n",
      "Epoch 2338 \t reward: 7.0 \t length 4 \t mean_length 3.8 \t epsilon 0.13\n",
      "Epoch 2339 \t reward: 14.5 \t length 6 \t mean_length 3.84 \t epsilon 0.13\n",
      "Epoch 2340 \t reward: 14.5 \t length 6 \t mean_length 3.88 \t epsilon 0.13\n",
      "Epoch 2341 \t reward: 14.5 \t length 6 \t mean_length 3.88 \t epsilon 0.13\n",
      "Epoch 2342 \t reward: 14.5 \t length 6 \t mean_length 3.92 \t epsilon 0.13\n",
      "Epoch 2343 \t reward: 10.5 \t length 5 \t mean_length 3.88 \t epsilon 0.13\n",
      "Epoch 2344 \t reward: 7.0 \t length 4 \t mean_length 3.88 \t epsilon 0.13\n",
      "Epoch 2345 \t reward: 7.0 \t length 4 \t mean_length 3.9 \t epsilon 0.13\n",
      "Epoch 2346 \t reward: 10.5 \t length 5 \t mean_length 3.92 \t epsilon 0.13\n",
      "Epoch 2347 \t reward: 7.0 \t length 4 \t mean_length 3.86 \t epsilon 0.13\n",
      "Epoch 2348 \t reward: 10.5 \t length 5 \t mean_length 3.88 \t epsilon 0.13\n",
      "Epoch 2349 \t reward: -0.5 \t length 1 \t mean_length 3.86 \t epsilon 0.13\n",
      "Epoch 2350 \t reward: 4.0 \t length 3 \t mean_length 3.84 \t epsilon 0.13\n",
      "Epoch 2351 \t reward: -0.5 \t length 1 \t mean_length 3.88 \t epsilon 0.13\n",
      "Epoch 2352 \t reward: -0.5 \t length 1 \t mean_length 3.82 \t epsilon 0.13\n",
      "Epoch 2353 \t reward: 1.5 \t length 2 \t mean_length 3.84 \t epsilon 0.13\n",
      "Epoch 2354 \t reward: 7.0 \t length 4 \t mean_length 3.84 \t epsilon 0.13\n",
      "Epoch 2355 \t reward: 4.0 \t length 3 \t mean_length 3.82 \t epsilon 0.13\n",
      "Epoch 2356 \t reward: 7.0 \t length 4 \t mean_length 3.82 \t epsilon 0.13\n",
      "Epoch 2357 \t reward: 10.5 \t length 5 \t mean_length 3.82 \t epsilon 0.13\n",
      "Epoch 2358 \t reward: 24.0 \t length 8 \t mean_length 3.9 \t epsilon 0.13\n",
      "Epoch 2359 \t reward: 7.0 \t length 4 \t mean_length 3.94 \t epsilon 0.13\n",
      "Epoch 2360 \t reward: 7.0 \t length 4 \t mean_length 3.94 \t epsilon 0.13\n",
      "Epoch 2361 \t reward: 7.0 \t length 4 \t mean_length 3.96 \t epsilon 0.13\n",
      "Epoch 2362 \t reward: 24.0 \t length 8 \t mean_length 4.03 \t epsilon 0.13\n",
      "Epoch 2363 \t reward: 7.0 \t length 4 \t mean_length 4.01 \t epsilon 0.13\n",
      "Epoch 2364 \t reward: 7.0 \t length 4 \t mean_length 4.01 \t epsilon 0.13\n",
      "Epoch 2365 \t reward: 7.0 \t length 4 \t mean_length 4.04 \t epsilon 0.13\n",
      "Q_matrix of initial state, after training: step 2301\n"
     ]
    },
    {
     "output_type": "display_data",
     "data": {
      "text/plain": "<PIL.Image.Image image mode=RGBA size=128x128 at 0x1978F606C10>",
      "image/png": "[encoded data removed]"
     },
     "metadata": {}
    },
    {
     "output_type": "stream",
     "name": "stdout",
     "text": [
      "29\n"
     ]
    },
    {
     "output_type": "display_data",
     "data": {
      "text/plain": "<PIL.Image.Image image mode=RGBA size=128x128 at 0x1978F606C10>",
      "image/png": "[encoded data removed]"
     },
     "metadata": {}
    },
    {
     "output_type": "stream",
     "name": "stdout",
     "text": [
      "-------------\n"
     ]
    },
    {
     "output_type": "display_data",
     "data": {
      "text/plain": "<PIL.Image.Image image mode=RGBA size=128x128 at 0x1978F606100>",
      "image/png": "[encoded data removed]"
     },
     "metadata": {}
    },
    {
     "output_type": "stream",
     "name": "stdout",
     "text": [
      "43\n",
      "Epoch 2366 \t reward: 10.5 \t length 5 \t mean_length 4.05 \t epsilon 0.13\n",
      "Epoch 2367 \t reward: 7.0 \t length 4 \t mean_length 4.05 \t epsilon 0.13\n",
      "Epoch 2368 \t reward: 19.0 \t length 7 \t mean_length 4.11 \t epsilon 0.13\n",
      "Epoch 2369 \t reward: 7.0 \t length 4 \t mean_length 4.18 \t epsilon 0.13\n",
      "Epoch 2370 \t reward: 14.5 \t length 6 \t mean_length 4.21 \t epsilon 0.13\n",
      "Epoch 2371 \t reward: 4.0 \t length 3 \t mean_length 4.26 \t epsilon 0.13\n",
      "Epoch 2372 \t reward: -0.5 \t length 1 \t mean_length 4.19 \t epsilon 0.13\n",
      "Epoch 2373 \t reward: -0.5 \t length 1 \t mean_length 4.26 \t epsilon 0.13\n",
      "Epoch 2374 \t reward: 1.5 \t length 2 \t mean_length 4.21 \t epsilon 0.13\n",
      "Epoch 2375 \t reward: 10.5 \t length 5 \t mean_length 4.2 \t epsilon 0.13\n",
      "Epoch 2376 \t reward: 1.5 \t length 2 \t mean_length 4.15 \t epsilon 0.13\n",
      "Epoch 2377 \t reward: 19.0 \t length 7 \t mean_length 4.2 \t epsilon 0.13\n",
      "Epoch 2378 \t reward: 19.0 \t length 7 \t mean_length 4.25 \t epsilon 0.13\n",
      "Epoch 2379 \t reward: 10.5 \t length 5 \t mean_length 4.28 \t epsilon 0.13\n",
      "Epoch 2380 \t reward: 10.5 \t length 5 \t mean_length 4.29 \t epsilon 0.13\n",
      "Epoch 2381 \t reward: -0.5 \t length 1 \t mean_length 4.32 \t epsilon 0.13\n",
      "Epoch 2382 \t reward: 10.5 \t length 5 \t mean_length 4.33 \t epsilon 0.13\n",
      "Epoch 2383 \t reward: 14.5 \t length 6 \t mean_length 4.32 \t epsilon 0.13\n",
      "Epoch 2384 \t reward: 7.0 \t length 4 \t mean_length 4.31 \t epsilon 0.13\n",
      "Epoch 2385 \t reward: 4.0 \t length 3 \t mean_length 4.34 \t epsilon 0.13\n",
      "Epoch 2386 \t reward: 14.5 \t length 6 \t mean_length 4.37 \t epsilon 0.13\n",
      "Epoch 2387 \t reward: -0.5 \t length 1 \t mean_length 4.34 \t epsilon 0.13\n",
      "Epoch 2388 \t reward: 7.0 \t length 4 \t mean_length 4.33 \t epsilon 0.13\n",
      "Epoch 2389 \t reward: -0.5 \t length 1 \t mean_length 4.34 \t epsilon 0.13\n",
      "Epoch 2390 \t reward: 1.5 \t length 2 \t mean_length 4.29 \t epsilon 0.13\n",
      "Epoch 2391 \t reward: 19.0 \t length 7 \t mean_length 4.3 \t epsilon 0.13\n",
      "Epoch 2392 \t reward: 14.5 \t length 6 \t mean_length 4.33 \t epsilon 0.13\n",
      "Epoch 2393 \t reward: 4.0 \t length 3 \t mean_length 4.36 \t epsilon 0.13\n",
      "Epoch 2394 \t reward: 14.5 \t length 6 \t mean_length 4.39 \t epsilon 0.13\n",
      "Epoch 2395 \t reward: 7.0 \t length 4 \t mean_length 4.46 \t epsilon 0.13\n",
      "Epoch 2396 \t reward: 24.0 \t length 8 \t mean_length 4.52 \t epsilon 0.13\n",
      "Epoch 2397 \t reward: 10.5 \t length 5 \t mean_length 4.54 \t epsilon 0.13\n",
      "Epoch 2398 \t reward: 10.5 \t length 5 \t mean_length 4.54 \t epsilon 0.13\n",
      "Epoch 2399 \t reward: 1.5 \t length 2 \t mean_length 4.55 \t epsilon 0.13\n",
      "Epoch 2400 \t reward: -0.5 \t length 1 \t mean_length 4.49 \t epsilon 0.13\n",
      "Epoch 2401 \t reward: 1.5 \t length 2 \t mean_length 4.48 \t epsilon 0.13\n",
      "Epoch 2402 \t reward: 19.0 \t length 7 \t mean_length 4.52 \t epsilon 0.13\n",
      "Epoch 2403 \t reward: -0.5 \t length 1 \t mean_length 4.48 \t epsilon 0.13\n",
      "Epoch 2404 \t reward: 10.5 \t length 5 \t mean_length 4.49 \t epsilon 0.13\n",
      "Epoch 2405 \t reward: 19.0 \t length 7 \t mean_length 4.48 \t epsilon 0.13\n",
      "Epoch 2406 \t reward: 7.0 \t length 4 \t mean_length 4.47 \t epsilon 0.13\n",
      "Epoch 2407 \t reward: 4.0 \t length 3 \t mean_length 4.54 \t epsilon 0.13\n",
      "Epoch 2408 \t reward: -0.5 \t length 1 \t mean_length 4.47 \t epsilon 0.13\n",
      "Epoch 2409 \t reward: -0.5 \t length 1 \t mean_length 4.46 \t epsilon 0.13\n",
      "Epoch 2410 \t reward: 7.0 \t length 4 \t mean_length 4.45 \t epsilon 0.13\n",
      "Epoch 2411 \t reward: -0.5 \t length 1 \t mean_length 4.42 \t epsilon 0.13\n",
      "Epoch 2412 \t reward: 14.5 \t length 6 \t mean_length 4.45 \t epsilon 0.13\n",
      "Epoch 2413 \t reward: -0.5 \t length 1 \t mean_length 4.4 \t epsilon 0.13\n",
      "Epoch 2414 \t reward: 19.0 \t length 7 \t mean_length 4.45 \t epsilon 0.13\n",
      "Epoch 2415 \t reward: 7.0 \t length 4 \t mean_length 4.46 \t epsilon 0.13\n",
      "Epoch 2416 \t reward: 1.5 \t length 2 \t mean_length 4.41 \t epsilon 0.13\n",
      "Epoch 2417 \t reward: 4.0 \t length 3 \t mean_length 4.4 \t epsilon 0.13\n",
      "Epoch 2418 \t reward: 4.0 \t length 3 \t mean_length 4.37 \t epsilon 0.13\n",
      "Epoch 2419 \t reward: 7.0 \t length 4 \t mean_length 4.4 \t epsilon 0.13\n",
      "Epoch 2420 \t reward: 10.5 \t length 5 \t mean_length 4.41 \t epsilon 0.12\n",
      "Epoch 2421 \t reward: 19.0 \t length 7 \t mean_length 4.42 \t epsilon 0.12\n",
      "Epoch 2422 \t reward: 1.5 \t length 2 \t mean_length 4.37 \t epsilon 0.12\n",
      "Epoch 2423 \t reward: 14.5 \t length 6 \t mean_length 4.36 \t epsilon 0.12\n",
      "Epoch 2424 \t reward: 4.0 \t length 3 \t mean_length 4.33 \t epsilon 0.12\n",
      "Epoch 2425 \t reward: 14.5 \t length 6 \t mean_length 4.36 \t epsilon 0.12\n",
      "Epoch 2426 \t reward: -0.5 \t length 1 \t mean_length 4.29 \t epsilon 0.12\n",
      "Epoch 2427 \t reward: 4.0 \t length 3 \t mean_length 4.34 \t epsilon 0.12\n",
      "Epoch 2428 \t reward: 10.5 \t length 5 \t mean_length 4.35 \t epsilon 0.12\n",
      "Epoch 2429 \t reward: 7.0 \t length 4 \t mean_length 4.36 \t epsilon 0.12\n",
      "Epoch 2430 \t reward: 19.0 \t length 7 \t mean_length 4.41 \t epsilon 0.12\n",
      "Epoch 2431 \t reward: 7.0 \t length 4 \t mean_length 4.42 \t epsilon 0.12\n",
      "Epoch 2432 \t reward: -0.5 \t length 1 \t mean_length 4.35 \t epsilon 0.12\n",
      "Epoch 2433 \t reward: 19.0 \t length 7 \t mean_length 4.34 \t epsilon 0.12\n",
      "Epoch 2434 \t reward: 19.0 \t length 7 \t mean_length 4.39 \t epsilon 0.12\n",
      "Epoch 2435 \t reward: 7.0 \t length 4 \t mean_length 4.42 \t epsilon 0.12\n",
      "Epoch 2436 \t reward: 1.5 \t length 2 \t mean_length 4.37 \t epsilon 0.12\n",
      "Epoch 2437 \t reward: 10.5 \t length 5 \t mean_length 4.4 \t epsilon 0.12\n",
      "Epoch 2438 \t reward: -0.5 \t length 1 \t mean_length 4.33 \t epsilon 0.12\n",
      "Epoch 2439 \t reward: 10.5 \t length 5 \t mean_length 4.34 \t epsilon 0.12\n",
      "Epoch 2440 \t reward: 19.0 \t length 7 \t mean_length 4.39 \t epsilon 0.12\n",
      "Epoch 2441 \t reward: 7.0 \t length 4 \t mean_length 4.36 \t epsilon 0.12\n",
      "Epoch 2442 \t reward: 14.5 \t length 6 \t mean_length 4.39 \t epsilon 0.12\n",
      "Epoch 2443 \t reward: 10.5 \t length 5 \t mean_length 4.36 \t epsilon 0.12\n",
      "Epoch 2444 \t reward: -0.5 \t length 1 \t mean_length 4.29 \t epsilon 0.12\n",
      "Epoch 2445 \t reward: -0.5 \t length 1 \t mean_length 4.3 \t epsilon 0.12\n",
      "Epoch 2446 \t reward: 14.5 \t length 6 \t mean_length 4.33 \t epsilon 0.12\n",
      "Epoch 2447 \t reward: 7.0 \t length 4 \t mean_length 4.32 \t epsilon 0.12\n",
      "Epoch 2448 \t reward: 10.5 \t length 5 \t mean_length 4.33 \t epsilon 0.12\n",
      "Epoch 2449 \t reward: -0.5 \t length 1 \t mean_length 4.32 \t epsilon 0.12\n",
      "Epoch 2450 \t reward: 7.0 \t length 4 \t mean_length 4.31 \t epsilon 0.12\n",
      "Epoch 2451 \t reward: 1.5 \t length 2 \t mean_length 4.34 \t epsilon 0.12\n",
      "Epoch 2452 \t reward: 14.5 \t length 6 \t mean_length 4.37 \t epsilon 0.12\n",
      "Epoch 2453 \t reward: 14.5 \t length 6 \t mean_length 4.44 \t epsilon 0.12\n",
      "Epoch 2454 \t reward: 10.5 \t length 5 \t mean_length 4.45 \t epsilon 0.12\n",
      "Epoch 2455 \t reward: 1.5 \t length 2 \t mean_length 4.46 \t epsilon 0.12\n",
      "Epoch 2456 \t reward: 4.0 \t length 3 \t mean_length 4.43 \t epsilon 0.12\n",
      "Epoch 2457 \t reward: 14.5 \t length 6 \t mean_length 4.44 \t epsilon 0.12\n",
      "Epoch 2458 \t reward: 10.5 \t length 5 \t mean_length 4.45 \t epsilon 0.12\n",
      "Epoch 2459 \t reward: 7.0 \t length 4 \t mean_length 4.38 \t epsilon 0.12\n",
      "Epoch 2460 \t reward: 10.5 \t length 5 \t mean_length 4.39 \t epsilon 0.12\n",
      "Epoch 2461 \t reward: -0.5 \t length 1 \t mean_length 4.4 \t epsilon 0.12\n",
      "Epoch 2462 \t reward: 19.0 \t length 7 \t mean_length 4.45 \t epsilon 0.12\n",
      "Epoch 2463 \t reward: 1.5 \t length 2 \t mean_length 4.38 \t epsilon 0.12\n",
      "Epoch 2464 \t reward: 10.5 \t length 5 \t mean_length 4.39 \t epsilon 0.12\n",
      "Epoch 2465 \t reward: 10.5 \t length 5 \t mean_length 4.4 \t epsilon 0.12\n",
      "Q_matrix of initial state, after training: step 2401\n"
     ]
    },
    {
     "output_type": "display_data",
     "data": {
      "text/plain": "<PIL.Image.Image image mode=RGBA size=128x128 at 0x1978F606E20>",
      "image/png": "[encoded data removed]"
     },
     "metadata": {}
    },
    {
     "output_type": "stream",
     "name": "stdout",
     "text": [
      "29\n"
     ]
    },
    {
     "output_type": "display_data",
     "data": {
      "text/plain": "<PIL.Image.Image image mode=RGBA size=128x128 at 0x1978F6062E0>",
      "image/png": "[encoded data removed]"
     },
     "metadata": {}
    },
    {
     "output_type": "stream",
     "name": "stdout",
     "text": [
      "-------------\n"
     ]
    },
    {
     "output_type": "display_data",
     "data": {
      "text/plain": "<PIL.Image.Image image mode=RGBA size=128x128 at 0x1978F6062E0>",
      "image/png": "[encoded data removed]"
     },
     "metadata": {}
    },
    {
     "output_type": "stream",
     "name": "stdout",
     "text": [
      "34\n",
      "Epoch 2466 \t reward: 7.0 \t length 4 \t mean_length 4.39 \t epsilon 0.12\n",
      "Epoch 2467 \t reward: 4.0 \t length 3 \t mean_length 4.38 \t epsilon 0.12\n",
      "Epoch 2468 \t reward: 10.5 \t length 5 \t mean_length 4.39 \t epsilon 0.12\n",
      "Epoch 2469 \t reward: 10.5 \t length 5 \t mean_length 4.34 \t epsilon 0.12\n",
      "Epoch 2470 \t reward: 19.0 \t length 7 \t mean_length 4.39 \t epsilon 0.12\n",
      "Epoch 2471 \t reward: -0.5 \t length 1 \t mean_length 4.36 \t epsilon 0.12\n",
      "Epoch 2472 \t reward: 19.0 \t length 7 \t mean_length 4.41 \t epsilon 0.12\n",
      "Epoch 2473 \t reward: 14.5 \t length 6 \t mean_length 4.48 \t epsilon 0.12\n",
      "Epoch 2474 \t reward: 14.5 \t length 6 \t mean_length 4.5 \t epsilon 0.12\n",
      "Epoch 2475 \t reward: 7.0 \t length 4 \t mean_length 4.55 \t epsilon 0.12\n",
      "Epoch 2476 \t reward: 14.5 \t length 6 \t mean_length 4.58 \t epsilon 0.12\n",
      "Epoch 2477 \t reward: 14.5 \t length 6 \t mean_length 4.63 \t epsilon 0.12\n",
      "Epoch 2478 \t reward: 10.5 \t length 5 \t mean_length 4.64 \t epsilon 0.12\n",
      "Epoch 2479 \t reward: 1.5 \t length 2 \t mean_length 4.59 \t epsilon 0.12\n",
      "Epoch 2480 \t reward: -0.5 \t length 1 \t mean_length 4.52 \t epsilon 0.12\n",
      "Epoch 2481 \t reward: 19.0 \t length 7 \t mean_length 4.51 \t epsilon 0.12\n",
      "Epoch 2482 \t reward: 10.5 \t length 5 \t mean_length 4.52 \t epsilon 0.12\n",
      "Epoch 2483 \t reward: 24.0 \t length 8 \t mean_length 4.51 \t epsilon 0.12\n",
      "Epoch 2484 \t reward: -0.5 \t length 1 \t mean_length 4.45 \t epsilon 0.12\n",
      "Epoch 2485 \t reward: 7.0 \t length 4 \t mean_length 4.46 \t epsilon 0.12\n",
      "Epoch 2486 \t reward: 1.5 \t length 2 \t mean_length 4.41 \t epsilon 0.12\n",
      "Epoch 2487 \t reward: 14.5 \t length 6 \t mean_length 4.38 \t epsilon 0.12\n",
      "Epoch 2488 \t reward: 24.0 \t length 8 \t mean_length 4.45 \t epsilon 0.12\n",
      "Epoch 2489 \t reward: 14.5 \t length 6 \t mean_length 4.46 \t epsilon 0.12\n",
      "Epoch 2490 \t reward: 10.5 \t length 5 \t mean_length 4.47 \t epsilon 0.12\n",
      "Epoch 2491 \t reward: 19.0 \t length 7 \t mean_length 4.51 \t epsilon 0.12\n",
      "Epoch 2492 \t reward: 24.0 \t length 8 \t mean_length 4.58 \t epsilon 0.12\n",
      "Epoch 2493 \t reward: 10.5 \t length 5 \t mean_length 4.55 \t epsilon 0.12\n",
      "Epoch 2494 \t reward: 7.0 \t length 4 \t mean_length 4.54 \t epsilon 0.12\n",
      "Epoch 2495 \t reward: 19.0 \t length 7 \t mean_length 4.51 \t epsilon 0.12\n",
      "Epoch 2496 \t reward: 4.0 \t length 3 \t mean_length 4.49 \t epsilon 0.12\n",
      "Epoch 2497 \t reward: 10.5 \t length 5 \t mean_length 4.42 \t epsilon 0.12\n",
      "Epoch 2498 \t reward: 14.5 \t length 6 \t mean_length 4.45 \t epsilon 0.12\n",
      "Epoch 2499 \t reward: 4.0 \t length 3 \t mean_length 4.44 \t epsilon 0.12\n",
      "Epoch 2500 \t reward: 14.5 \t length 6 \t mean_length 4.47 \t epsilon 0.12\n",
      "Epoch 2501 \t reward: 1.5 \t length 2 \t mean_length 4.54 \t epsilon 0.12\n",
      "Epoch 2502 \t reward: -0.5 \t length 1 \t mean_length 4.47 \t epsilon 0.12\n",
      "Epoch 2503 \t reward: 4.0 \t length 3 \t mean_length 4.42 \t epsilon 0.12\n",
      "Epoch 2504 \t reward: 1.5 \t length 2 \t mean_length 4.37 \t epsilon 0.12\n",
      "Epoch 2505 \t reward: 4.0 \t length 3 \t mean_length 4.36 \t epsilon 0.12\n",
      "Epoch 2506 \t reward: 1.5 \t length 2 \t mean_length 4.31 \t epsilon 0.12\n",
      "Epoch 2507 \t reward: 10.5 \t length 5 \t mean_length 4.32 \t epsilon 0.12\n",
      "Epoch 2508 \t reward: 14.5 \t length 6 \t mean_length 4.35 \t epsilon 0.12\n",
      "Epoch 2509 \t reward: 4.0 \t length 3 \t mean_length 4.42 \t epsilon 0.12\n",
      "Epoch 2510 \t reward: 14.5 \t length 6 \t mean_length 4.45 \t epsilon 0.12\n",
      "Epoch 2511 \t reward: -0.5 \t length 1 \t mean_length 4.46 \t epsilon 0.12\n",
      "Epoch 2512 \t reward: 7.0 \t length 4 \t mean_length 4.45 \t epsilon 0.12\n",
      "Epoch 2513 \t reward: 7.0 \t length 4 \t mean_length 4.42 \t epsilon 0.12\n",
      "Epoch 2514 \t reward: 14.5 \t length 6 \t mean_length 4.45 \t epsilon 0.12\n",
      "Epoch 2515 \t reward: 24.0 \t length 8 \t mean_length 4.4 \t epsilon 0.12\n",
      "Epoch 2516 \t reward: 14.5 \t length 6 \t mean_length 4.43 \t epsilon 0.12\n",
      "Epoch 2517 \t reward: 7.0 \t length 4 \t mean_length 4.48 \t epsilon 0.12\n",
      "Epoch 2518 \t reward: 1.5 \t length 2 \t mean_length 4.43 \t epsilon 0.12\n",
      "Epoch 2519 \t reward: 10.5 \t length 5 \t mean_length 4.46 \t epsilon 0.12\n",
      "Epoch 2520 \t reward: 1.5 \t length 2 \t mean_length 4.41 \t epsilon 0.12\n",
      "Epoch 2521 \t reward: -0.5 \t length 1 \t mean_length 4.4 \t epsilon 0.12\n",
      "Epoch 2522 \t reward: 4.0 \t length 3 \t mean_length 4.37 \t epsilon 0.12\n",
      "Epoch 2523 \t reward: 14.5 \t length 6 \t mean_length 4.42 \t epsilon 0.12\n",
      "Epoch 2524 \t reward: 7.0 \t length 4 \t mean_length 4.41 \t epsilon 0.12\n",
      "Epoch 2525 \t reward: 24.0 \t length 8 \t mean_length 4.44 \t epsilon 0.12\n",
      "Epoch 2526 \t reward: 7.0 \t length 4 \t mean_length 4.43 \t epsilon 0.12\n",
      "Epoch 2527 \t reward: 4.0 \t length 3 \t mean_length 4.5 \t epsilon 0.12\n",
      "Epoch 2528 \t reward: 19.0 \t length 7 \t mean_length 4.54 \t epsilon 0.12\n",
      "Epoch 2529 \t reward: -0.5 \t length 1 \t mean_length 4.54 \t epsilon 0.12\n",
      "Epoch 2530 \t reward: -0.5 \t length 1 \t mean_length 4.47 \t epsilon 0.12\n",
      "Epoch 2531 \t reward: 4.0 \t length 3 \t mean_length 4.42 \t epsilon 0.12\n",
      "Epoch 2532 \t reward: 14.5 \t length 6 \t mean_length 4.45 \t epsilon 0.12\n",
      "Epoch 2533 \t reward: 14.5 \t length 6 \t mean_length 4.51 \t epsilon 0.12\n",
      "Epoch 2534 \t reward: 7.0 \t length 4 \t mean_length 4.5 \t epsilon 0.12\n",
      "Epoch 2535 \t reward: 4.0 \t length 3 \t mean_length 4.46 \t epsilon 0.12\n",
      "Epoch 2536 \t reward: -0.5 \t length 1 \t mean_length 4.39 \t epsilon 0.12\n",
      "Epoch 2537 \t reward: 14.5 \t length 6 \t mean_length 4.44 \t epsilon 0.12\n",
      "Epoch 2538 \t reward: 7.0 \t length 4 \t mean_length 4.43 \t epsilon 0.12\n",
      "Epoch 2539 \t reward: 7.0 \t length 4 \t mean_length 4.5 \t epsilon 0.12\n",
      "Epoch 2540 \t reward: 14.5 \t length 6 \t mean_length 4.52 \t epsilon 0.12\n",
      "Epoch 2541 \t reward: 10.5 \t length 5 \t mean_length 4.48 \t epsilon 0.12\n",
      "Epoch 2542 \t reward: 7.0 \t length 4 \t mean_length 4.47 \t epsilon 0.12\n",
      "Epoch 2543 \t reward: 14.5 \t length 6 \t mean_length 4.44 \t epsilon 0.12\n",
      "Epoch 2544 \t reward: 4.0 \t length 3 \t mean_length 4.41 \t epsilon 0.12\n",
      "Epoch 2545 \t reward: 1.5 \t length 2 \t mean_length 4.48 \t epsilon 0.12\n",
      "Epoch 2546 \t reward: 7.0 \t length 4 \t mean_length 4.47 \t epsilon 0.12\n",
      "Epoch 2547 \t reward: 1.5 \t length 2 \t mean_length 4.44 \t epsilon 0.12\n",
      "Epoch 2548 \t reward: 19.0 \t length 7 \t mean_length 4.49 \t epsilon 0.12\n",
      "Epoch 2549 \t reward: 7.0 \t length 4 \t mean_length 4.48 \t epsilon 0.12\n",
      "Epoch 2550 \t reward: 1.5 \t length 2 \t mean_length 4.43 \t epsilon 0.12\n",
      "Epoch 2551 \t reward: 10.5 \t length 5 \t mean_length 4.44 \t epsilon 0.12\n",
      "Epoch 2552 \t reward: 4.0 \t length 3 \t mean_length 4.41 \t epsilon 0.12\n",
      "Epoch 2553 \t reward: 7.0 \t length 4 \t mean_length 4.38 \t epsilon 0.12\n",
      "Epoch 2554 \t reward: 10.5 \t length 5 \t mean_length 4.39 \t epsilon 0.12\n",
      "Epoch 2555 \t reward: 1.5 \t length 2 \t mean_length 4.38 \t epsilon 0.12\n",
      "Epoch 2556 \t reward: 10.5 \t length 5 \t mean_length 4.39 \t epsilon 0.12\n",
      "Epoch 2557 \t reward: 10.5 \t length 5 \t mean_length 4.42 \t epsilon 0.11\n",
      "Epoch 2558 \t reward: 1.5 \t length 2 \t mean_length 4.37 \t epsilon 0.11\n",
      "Epoch 2559 \t reward: -0.5 \t length 1 \t mean_length 4.36 \t epsilon 0.11\n",
      "Epoch 2560 \t reward: -0.5 \t length 1 \t mean_length 4.29 \t epsilon 0.11\n",
      "Epoch 2561 \t reward: -0.5 \t length 1 \t mean_length 4.28 \t epsilon 0.11\n",
      "Epoch 2562 \t reward: 1.5 \t length 2 \t mean_length 4.23 \t epsilon 0.11\n",
      "Epoch 2563 \t reward: -0.5 \t length 1 \t mean_length 4.18 \t epsilon 0.11\n",
      "Epoch 2564 \t reward: 7.0 \t length 4 \t mean_length 4.17 \t epsilon 0.11\n",
      "Epoch 2565 \t reward: 10.5 \t length 5 \t mean_length 4.16 \t epsilon 0.11\n",
      "Q_matrix of initial state, after training: step 2501\n"
     ]
    },
    {
     "output_type": "display_data",
     "data": {
      "text/plain": "<PIL.Image.Image image mode=RGBA size=128x128 at 0x1978F606730>",
      "image/png": "[encoded data removed]"
     },
     "metadata": {}
    },
    {
     "output_type": "stream",
     "name": "stdout",
     "text": [
      "34\n"
     ]
    },
    {
     "output_type": "display_data",
     "data": {
      "text/plain": "<PIL.Image.Image image mode=RGBA size=128x128 at 0x1978F606250>",
      "image/png": "[encoded data removed]"
     },
     "metadata": {}
    },
    {
     "output_type": "stream",
     "name": "stdout",
     "text": [
      "-------------\n"
     ]
    },
    {
     "output_type": "display_data",
     "data": {
      "text/plain": "<PIL.Image.Image image mode=RGBA size=128x128 at 0x1978F606580>",
      "image/png": "[encoded data removed]"
     },
     "metadata": {}
    },
    {
     "output_type": "stream",
     "name": "stdout",
     "text": [
      "20\n",
      "Epoch 2566 \t reward: 10.5 \t length 5 \t mean_length 4.17 \t epsilon 0.11\n",
      "Epoch 2567 \t reward: 1.5 \t length 2 \t mean_length 4.18 \t epsilon 0.11\n",
      "Epoch 2568 \t reward: -0.5 \t length 1 \t mean_length 4.11 \t epsilon 0.11\n",
      "Epoch 2569 \t reward: 19.0 \t length 7 \t mean_length 4.09 \t epsilon 0.11\n",
      "Epoch 2570 \t reward: 1.5 \t length 2 \t mean_length 4.05 \t epsilon 0.11\n",
      "Epoch 2571 \t reward: 14.5 \t length 6 \t mean_length 4.0 \t epsilon 0.11\n",
      "Epoch 2572 \t reward: 10.5 \t length 5 \t mean_length 4.01 \t epsilon 0.11\n",
      "Epoch 2573 \t reward: -0.5 \t length 1 \t mean_length 3.96 \t epsilon 0.11\n",
      "Epoch 2574 \t reward: 29.5 \t length 9 \t mean_length 4.05 \t epsilon 0.11\n",
      "Epoch 2575 \t reward: 7.0 \t length 4 \t mean_length 4.01 \t epsilon 0.11\n",
      "Epoch 2576 \t reward: 1.5 \t length 2 \t mean_length 3.98 \t epsilon 0.11\n",
      "Epoch 2577 \t reward: 7.0 \t length 4 \t mean_length 3.94 \t epsilon 0.11\n",
      "Epoch 2578 \t reward: 10.5 \t length 5 \t mean_length 3.96 \t epsilon 0.11\n",
      "Epoch 2579 \t reward: 19.0 \t length 7 \t mean_length 3.94 \t epsilon 0.11\n",
      "Epoch 2580 \t reward: 14.5 \t length 6 \t mean_length 3.98 \t epsilon 0.11\n",
      "Epoch 2581 \t reward: 7.0 \t length 4 \t mean_length 4.04 \t epsilon 0.11\n",
      "Epoch 2582 \t reward: 19.0 \t length 7 \t mean_length 4.09 \t epsilon 0.11\n",
      "Epoch 2583 \t reward: 14.5 \t length 6 \t mean_length 4.08 \t epsilon 0.11\n",
      "Epoch 2584 \t reward: 10.5 \t length 5 \t mean_length 4.09 \t epsilon 0.11\n",
      "Epoch 2585 \t reward: 19.0 \t length 7 \t mean_length 4.16 \t epsilon 0.11\n",
      "Epoch 2586 \t reward: 35.5 \t length 10 \t mean_length 4.27 \t epsilon 0.11\n",
      "Epoch 2587 \t reward: 4.0 \t length 3 \t mean_length 4.32 \t epsilon 0.11\n",
      "Epoch 2588 \t reward: 4.0 \t length 3 \t mean_length 4.29 \t epsilon 0.11\n",
      "Epoch 2589 \t reward: 4.0 \t length 3 \t mean_length 4.22 \t epsilon 0.11\n",
      "Epoch 2590 \t reward: 10.5 \t length 5 \t mean_length 4.23 \t epsilon 0.11\n",
      "Epoch 2591 \t reward: 19.0 \t length 7 \t mean_length 4.22 \t epsilon 0.11\n",
      "Epoch 2592 \t reward: 1.5 \t length 2 \t mean_length 4.17 \t epsilon 0.11\n",
      "Epoch 2593 \t reward: 14.5 \t length 6 \t mean_length 4.09 \t epsilon 0.11\n",
      "Epoch 2594 \t reward: 10.5 \t length 5 \t mean_length 4.11 \t epsilon 0.11\n",
      "Epoch 2595 \t reward: 4.0 \t length 3 \t mean_length 4.12 \t epsilon 0.11\n",
      "Epoch 2596 \t reward: 4.0 \t length 3 \t mean_length 4.09 \t epsilon 0.11\n",
      "Epoch 2597 \t reward: 4.0 \t length 3 \t mean_length 4.12 \t epsilon 0.11\n",
      "Epoch 2598 \t reward: -0.5 \t length 1 \t mean_length 4.05 \t epsilon 0.11\n",
      "Epoch 2599 \t reward: 10.5 \t length 5 \t mean_length 4.01 \t epsilon 0.11\n",
      "Epoch 2600 \t reward: 10.5 \t length 5 \t mean_length 4.03 \t epsilon 0.11\n",
      "Epoch 2601 \t reward: -0.5 \t length 1 \t mean_length 4.0 \t epsilon 0.11\n",
      "Epoch 2602 \t reward: 29.5 \t length 9 \t mean_length 4.09 \t epsilon 0.11\n",
      "Epoch 2603 \t reward: 1.5 \t length 2 \t mean_length 4.16 \t epsilon 0.11\n",
      "Epoch 2604 \t reward: 19.0 \t length 7 \t mean_length 4.21 \t epsilon 0.11\n",
      "Epoch 2605 \t reward: 10.5 \t length 5 \t mean_length 4.26 \t epsilon 0.11\n",
      "Epoch 2606 \t reward: 4.0 \t length 3 \t mean_length 4.23 \t epsilon 0.11\n",
      "Epoch 2607 \t reward: 10.5 \t length 5 \t mean_length 4.28 \t epsilon 0.11\n",
      "Epoch 2608 \t reward: 14.5 \t length 6 \t mean_length 4.31 \t epsilon 0.11\n",
      "Epoch 2609 \t reward: 14.5 \t length 6 \t mean_length 4.28 \t epsilon 0.11\n",
      "Epoch 2610 \t reward: 24.0 \t length 8 \t mean_length 4.35 \t epsilon 0.11\n",
      "Epoch 2611 \t reward: 4.0 \t length 3 \t mean_length 4.32 \t epsilon 0.11\n",
      "Epoch 2612 \t reward: 1.5 \t length 2 \t mean_length 4.27 \t epsilon 0.11\n",
      "Epoch 2613 \t reward: -0.5 \t length 1 \t mean_length 4.28 \t epsilon 0.11\n",
      "Epoch 2614 \t reward: 14.5 \t length 6 \t mean_length 4.31 \t epsilon 0.11\n",
      "Epoch 2615 \t reward: 14.5 \t length 6 \t mean_length 4.28 \t epsilon 0.11\n",
      "Epoch 2616 \t reward: 14.5 \t length 6 \t mean_length 4.31 \t epsilon 0.11\n",
      "Epoch 2617 \t reward: 10.5 \t length 5 \t mean_length 4.28 \t epsilon 0.11\n",
      "Epoch 2618 \t reward: 14.5 \t length 6 \t mean_length 4.31 \t epsilon 0.11\n",
      "Epoch 2619 \t reward: 19.0 \t length 7 \t mean_length 4.36 \t epsilon 0.11\n",
      "Epoch 2620 \t reward: 10.5 \t length 5 \t mean_length 4.37 \t epsilon 0.11\n",
      "Epoch 2621 \t reward: 1.5 \t length 2 \t mean_length 4.42 \t epsilon 0.11\n",
      "Epoch 2622 \t reward: 10.5 \t length 5 \t mean_length 4.43 \t epsilon 0.11\n",
      "Epoch 2623 \t reward: 14.5 \t length 6 \t mean_length 4.46 \t epsilon 0.11\n",
      "Epoch 2624 \t reward: 1.5 \t length 2 \t mean_length 4.41 \t epsilon 0.11\n",
      "Epoch 2625 \t reward: 14.5 \t length 6 \t mean_length 4.42 \t epsilon 0.11\n",
      "Epoch 2626 \t reward: 1.5 \t length 2 \t mean_length 4.37 \t epsilon 0.11\n",
      "Epoch 2627 \t reward: -0.5 \t length 1 \t mean_length 4.38 \t epsilon 0.11\n",
      "Epoch 2628 \t reward: 4.0 \t length 3 \t mean_length 4.35 \t epsilon 0.11\n",
      "Epoch 2629 \t reward: 4.0 \t length 3 \t mean_length 4.3 \t epsilon 0.11\n",
      "Epoch 2630 \t reward: 10.5 \t length 5 \t mean_length 4.31 \t epsilon 0.11\n",
      "Epoch 2631 \t reward: -0.5 \t length 1 \t mean_length 4.38 \t epsilon 0.11\n",
      "Epoch 2632 \t reward: 7.0 \t length 4 \t mean_length 4.37 \t epsilon 0.11\n",
      "Epoch 2633 \t reward: 10.5 \t length 5 \t mean_length 4.34 \t epsilon 0.11\n",
      "Epoch 2634 \t reward: 1.5 \t length 2 \t mean_length 4.29 \t epsilon 0.11\n",
      "Epoch 2635 \t reward: 19.0 \t length 7 \t mean_length 4.3 \t epsilon 0.11\n",
      "Epoch 2636 \t reward: 7.0 \t length 4 \t mean_length 4.29 \t epsilon 0.11\n",
      "Epoch 2637 \t reward: 1.5 \t length 2 \t mean_length 4.36 \t epsilon 0.11\n",
      "Epoch 2638 \t reward: 7.0 \t length 4 \t mean_length 4.35 \t epsilon 0.11\n",
      "Epoch 2639 \t reward: 29.5 \t length 9 \t mean_length 4.36 \t epsilon 0.11\n",
      "Epoch 2640 \t reward: 10.5 \t length 5 \t mean_length 4.37 \t epsilon 0.11\n",
      "Epoch 2641 \t reward: 4.0 \t length 3 \t mean_length 4.34 \t epsilon 0.11\n",
      "Epoch 2642 \t reward: 14.5 \t length 6 \t mean_length 4.37 \t epsilon 0.11\n",
      "Epoch 2643 \t reward: -0.5 \t length 1 \t mean_length 4.38 \t epsilon 0.11\n",
      "Epoch 2644 \t reward: 14.5 \t length 6 \t mean_length 4.41 \t epsilon 0.11\n",
      "Epoch 2645 \t reward: 1.5 \t length 2 \t mean_length 4.44 \t epsilon 0.11\n",
      "Epoch 2646 \t reward: 19.0 \t length 7 \t mean_length 4.49 \t epsilon 0.11\n",
      "Epoch 2647 \t reward: 14.5 \t length 6 \t mean_length 4.5 \t epsilon 0.11\n",
      "Epoch 2648 \t reward: 19.0 \t length 7 \t mean_length 4.54 \t epsilon 0.11\n",
      "Epoch 2649 \t reward: 1.5 \t length 2 \t mean_length 4.5 \t epsilon 0.11\n",
      "Epoch 2650 \t reward: 19.0 \t length 7 \t mean_length 4.54 \t epsilon 0.11\n",
      "Epoch 2651 \t reward: 14.5 \t length 6 \t mean_length 4.59 \t epsilon 0.11\n",
      "Epoch 2652 \t reward: -0.5 \t length 1 \t mean_length 4.52 \t epsilon 0.11\n",
      "Epoch 2653 \t reward: 24.0 \t length 8 \t mean_length 4.55 \t epsilon 0.11\n",
      "Epoch 2654 \t reward: 7.0 \t length 4 \t mean_length 4.54 \t epsilon 0.11\n",
      "Epoch 2655 \t reward: 7.0 \t length 4 \t mean_length 4.54 \t epsilon 0.11\n",
      "Epoch 2656 \t reward: 1.5 \t length 2 \t mean_length 4.49 \t epsilon 0.11\n",
      "Epoch 2657 \t reward: 7.0 \t length 4 \t mean_length 4.48 \t epsilon 0.11\n",
      "Epoch 2658 \t reward: 24.0 \t length 8 \t mean_length 4.54 \t epsilon 0.11\n",
      "Epoch 2659 \t reward: 7.0 \t length 4 \t mean_length 4.59 \t epsilon 0.11\n",
      "Epoch 2660 \t reward: 1.5 \t length 2 \t mean_length 4.54 \t epsilon 0.11\n",
      "Epoch 2661 \t reward: 4.0 \t length 3 \t mean_length 4.62 \t epsilon 0.11\n",
      "Epoch 2662 \t reward: 14.5 \t length 6 \t mean_length 4.64 \t epsilon 0.11\n",
      "Epoch 2663 \t reward: 10.5 \t length 5 \t mean_length 4.7 \t epsilon 0.11\n",
      "Epoch 2664 \t reward: 7.0 \t length 4 \t mean_length 4.68 \t epsilon 0.11\n",
      "Epoch 2665 \t reward: 14.5 \t length 6 \t mean_length 4.7 \t epsilon 0.11\n",
      "Q_matrix of initial state, after training: step 2601\n"
     ]
    },
    {
     "output_type": "display_data",
     "data": {
      "text/plain": "<PIL.Image.Image image mode=RGBA size=128x128 at 0x1978F606100>",
      "image/png": "[encoded data removed]"
     },
     "metadata": {}
    },
    {
     "output_type": "stream",
     "name": "stdout",
     "text": [
      "34\n"
     ]
    },
    {
     "output_type": "display_data",
     "data": {
      "text/plain": "<PIL.Image.Image image mode=RGBA size=128x128 at 0x1978F606100>",
      "image/png": "[encoded data removed]"
     },
     "metadata": {}
    },
    {
     "output_type": "stream",
     "name": "stdout",
     "text": [
      "-------------\n"
     ]
    },
    {
     "output_type": "display_data",
     "data": {
      "text/plain": "<PIL.Image.Image image mode=RGBA size=128x128 at 0x1978F606C10>",
      "image/png": "[encoded data removed]"
     },
     "metadata": {}
    },
    {
     "output_type": "stream",
     "name": "stdout",
     "text": [
      "20\n",
      "Epoch 2666 \t reward: -0.5 \t length 1 \t mean_length 4.62 \t epsilon 0.11\n",
      "Epoch 2667 \t reward: 14.5 \t length 6 \t mean_length 4.62 \t epsilon 0.11\n",
      "Epoch 2668 \t reward: 7.0 \t length 4 \t mean_length 4.6 \t epsilon 0.11\n",
      "Epoch 2669 \t reward: 1.5 \t length 2 \t mean_length 4.68 \t epsilon 0.11\n",
      "Epoch 2670 \t reward: 1.5 \t length 2 \t mean_length 4.62 \t epsilon 0.11\n",
      "Epoch 2671 \t reward: 10.5 \t length 5 \t mean_length 4.68 \t epsilon 0.11\n",
      "Epoch 2672 \t reward: 14.5 \t length 6 \t mean_length 4.7 \t epsilon 0.11\n",
      "Epoch 2673 \t reward: 7.0 \t length 4 \t mean_length 4.7 \t epsilon 0.11\n",
      "Epoch 2674 \t reward: 1.5 \t length 2 \t mean_length 4.64 \t epsilon 0.11\n",
      "Epoch 2675 \t reward: -0.5 \t length 1 \t mean_length 4.55 \t epsilon 0.11\n",
      "Epoch 2676 \t reward: 19.0 \t length 7 \t mean_length 4.6 \t epsilon 0.11\n",
      "Epoch 2677 \t reward: 7.0 \t length 4 \t mean_length 4.66 \t epsilon 0.11\n",
      "Epoch 2678 \t reward: 7.0 \t length 4 \t mean_length 4.64 \t epsilon 0.11\n",
      "Epoch 2679 \t reward: 10.5 \t length 5 \t mean_length 4.63 \t epsilon 0.11\n",
      "Epoch 2680 \t reward: 10.5 \t length 5 \t mean_length 4.64 \t epsilon 0.11\n",
      "Epoch 2681 \t reward: 7.0 \t length 4 \t mean_length 4.62 \t epsilon 0.11\n",
      "Epoch 2682 \t reward: 7.0 \t length 4 \t mean_length 4.6 \t epsilon 0.11\n",
      "Epoch 2683 \t reward: 10.5 \t length 5 \t mean_length 4.55 \t epsilon 0.11\n",
      "Epoch 2684 \t reward: 19.0 \t length 7 \t mean_length 4.6 \t epsilon 0.11\n",
      "Epoch 2685 \t reward: 7.0 \t length 4 \t mean_length 4.59 \t epsilon 0.11\n",
      "Epoch 2686 \t reward: 19.0 \t length 7 \t mean_length 4.64 \t epsilon 0.11\n",
      "Epoch 2687 \t reward: 4.0 \t length 3 \t mean_length 4.54 \t epsilon 0.11\n",
      "Epoch 2688 \t reward: 10.5 \t length 5 \t mean_length 4.54 \t epsilon 0.11\n",
      "Epoch 2689 \t reward: 10.5 \t length 5 \t mean_length 4.58 \t epsilon 0.11\n",
      "Epoch 2690 \t reward: 14.5 \t length 6 \t mean_length 4.6 \t epsilon 0.11\n",
      "Epoch 2691 \t reward: 10.5 \t length 5 \t mean_length 4.59 \t epsilon 0.11\n",
      "Epoch 2692 \t reward: -0.5 \t length 1 \t mean_length 4.52 \t epsilon 0.11\n",
      "Epoch 2693 \t reward: 4.0 \t length 3 \t mean_length 4.58 \t epsilon 0.11\n",
      "Epoch 2694 \t reward: 4.0 \t length 3 \t mean_length 4.54 \t epsilon 0.11\n",
      "Epoch 2695 \t reward: 14.5 \t length 6 \t mean_length 4.54 \t epsilon 0.11\n",
      "Epoch 2696 \t reward: 10.5 \t length 5 \t mean_length 4.54 \t epsilon 0.11\n",
      "Epoch 2697 \t reward: -0.5 \t length 1 \t mean_length 4.58 \t epsilon 0.11\n",
      "Epoch 2698 \t reward: 7.0 \t length 4 \t mean_length 4.56 \t epsilon 0.11\n",
      "Epoch 2699 \t reward: 19.0 \t length 7 \t mean_length 4.63 \t epsilon 0.11\n",
      "Epoch 2700 \t reward: 4.0 \t length 3 \t mean_length 4.6 \t epsilon 0.11\n",
      "Epoch 2701 \t reward: 10.5 \t length 5 \t mean_length 4.59 \t epsilon 0.11\n",
      "Epoch 2702 \t reward: -0.5 \t length 1 \t mean_length 4.52 \t epsilon 0.11\n",
      "Epoch 2703 \t reward: -0.5 \t length 1 \t mean_length 4.44 \t epsilon 0.11\n",
      "Epoch 2704 \t reward: 4.0 \t length 3 \t mean_length 4.41 \t epsilon 0.11\n",
      "Epoch 2705 \t reward: 19.0 \t length 7 \t mean_length 4.36 \t epsilon 0.11\n",
      "Epoch 2706 \t reward: 14.5 \t length 6 \t mean_length 4.39 \t epsilon 0.11\n",
      "Epoch 2707 \t reward: 14.5 \t length 6 \t mean_length 4.42 \t epsilon 0.11\n",
      "Epoch 2708 \t reward: 4.0 \t length 3 \t mean_length 4.39 \t epsilon 0.11\n",
      "Epoch 2709 \t reward: 7.0 \t length 4 \t mean_length 4.36 \t epsilon 0.11\n",
      "Epoch 2710 \t reward: 4.0 \t length 3 \t mean_length 4.33 \t epsilon 0.11\n",
      "Epoch 2711 \t reward: 7.0 \t length 4 \t mean_length 4.26 \t epsilon 0.11\n",
      "Epoch 2712 \t reward: 10.5 \t length 5 \t mean_length 4.27 \t epsilon 0.11\n",
      "Epoch 2713 \t reward: 4.0 \t length 3 \t mean_length 4.32 \t epsilon 0.11\n",
      "Epoch 2714 \t reward: -0.5 \t length 1 \t mean_length 4.25 \t epsilon 0.11\n",
      "Epoch 2715 \t reward: 4.0 \t length 3 \t mean_length 4.22 \t epsilon 0.1\n",
      "Epoch 2716 \t reward: 4.0 \t length 3 \t mean_length 4.19 \t epsilon 0.1\n",
      "Epoch 2717 \t reward: 10.5 \t length 5 \t mean_length 4.16 \t epsilon 0.1\n",
      "Epoch 2718 \t reward: 14.5 \t length 6 \t mean_length 4.19 \t epsilon 0.1\n",
      "Epoch 2719 \t reward: 19.0 \t length 7 \t mean_length 4.16 \t epsilon 0.1\n",
      "Epoch 2720 \t reward: 19.0 \t length 7 \t mean_length 4.21 \t epsilon 0.1\n",
      "Epoch 2721 \t reward: 19.0 \t length 7 \t mean_length 4.2 \t epsilon 0.1\n",
      "Epoch 2722 \t reward: 1.5 \t length 2 \t mean_length 4.15 \t epsilon 0.1\n",
      "Epoch 2723 \t reward: 10.5 \t length 5 \t mean_length 4.13 \t epsilon 0.1\n",
      "Epoch 2724 \t reward: 19.0 \t length 7 \t mean_length 4.19 \t epsilon 0.1\n",
      "Epoch 2725 \t reward: 7.0 \t length 4 \t mean_length 4.24 \t epsilon 0.1\n",
      "Epoch 2726 \t reward: 4.0 \t length 3 \t mean_length 4.21 \t epsilon 0.1\n",
      "Epoch 2727 \t reward: 10.5 \t length 5 \t mean_length 4.26 \t epsilon 0.1\n",
      "Epoch 2728 \t reward: -0.5 \t length 1 \t mean_length 4.19 \t epsilon 0.1\n",
      "Epoch 2729 \t reward: 14.5 \t length 6 \t mean_length 4.22 \t epsilon 0.1\n",
      "Epoch 2730 \t reward: 14.5 \t length 6 \t mean_length 4.25 \t epsilon 0.1\n",
      "Epoch 2731 \t reward: 4.0 \t length 3 \t mean_length 4.24 \t epsilon 0.1\n",
      "Epoch 2732 \t reward: 1.5 \t length 2 \t mean_length 4.19 \t epsilon 0.1\n",
      "Epoch 2733 \t reward: 10.5 \t length 5 \t mean_length 4.2 \t epsilon 0.1\n",
      "Epoch 2734 \t reward: 7.0 \t length 4 \t mean_length 4.19 \t epsilon 0.1\n",
      "Epoch 2735 \t reward: 10.5 \t length 5 \t mean_length 4.24 \t epsilon 0.1\n",
      "Epoch 2736 \t reward: 4.0 \t length 3 \t mean_length 4.21 \t epsilon 0.1\n",
      "Epoch 2737 \t reward: 24.0 \t length 8 \t mean_length 4.22 \t epsilon 0.1\n",
      "Epoch 2738 \t reward: 10.5 \t length 5 \t mean_length 4.23 \t epsilon 0.1\n",
      "Epoch 2739 \t reward: -0.5 \t length 1 \t mean_length 4.24 \t epsilon 0.1\n",
      "Epoch 2740 \t reward: 14.5 \t length 6 \t mean_length 4.27 \t epsilon 0.1\n",
      "Epoch 2741 \t reward: 10.5 \t length 5 \t mean_length 4.26 \t epsilon 0.1\n",
      "Epoch 2742 \t reward: 7.0 \t length 4 \t mean_length 4.25 \t epsilon 0.1\n",
      "Epoch 2743 \t reward: 10.5 \t length 5 \t mean_length 4.22 \t epsilon 0.1\n",
      "Epoch 2744 \t reward: 10.5 \t length 5 \t mean_length 4.23 \t epsilon 0.1\n",
      "Epoch 2745 \t reward: -0.5 \t length 1 \t mean_length 4.2 \t epsilon 0.1\n",
      "Epoch 2746 \t reward: 10.5 \t length 5 \t mean_length 4.21 \t epsilon 0.1\n",
      "Epoch 2747 \t reward: 24.0 \t length 8 \t mean_length 4.16 \t epsilon 0.1\n",
      "Epoch 2748 \t reward: 24.0 \t length 8 \t mean_length 4.23 \t epsilon 0.1\n",
      "Epoch 2749 \t reward: 10.5 \t length 5 \t mean_length 4.18 \t epsilon 0.1\n",
      "Epoch 2750 \t reward: 14.5 \t length 6 \t mean_length 4.21 \t epsilon 0.1\n",
      "Epoch 2751 \t reward: 1.5 \t length 2 \t mean_length 4.16 \t epsilon 0.1\n",
      "Epoch 2752 \t reward: 14.5 \t length 6 \t mean_length 4.19 \t epsilon 0.1\n",
      "Epoch 2753 \t reward: 10.5 \t length 5 \t mean_length 4.26 \t epsilon 0.1\n",
      "Epoch 2754 \t reward: 14.5 \t length 6 \t mean_length 4.29 \t epsilon 0.1\n",
      "Epoch 2755 \t reward: 19.0 \t length 7 \t mean_length 4.3 \t epsilon 0.1\n",
      "Epoch 2756 \t reward: 1.5 \t length 2 \t mean_length 4.25 \t epsilon 0.1\n",
      "Epoch 2757 \t reward: 1.5 \t length 2 \t mean_length 4.3 \t epsilon 0.1\n",
      "Epoch 2758 \t reward: 1.5 \t length 2 \t mean_length 4.25 \t epsilon 0.1\n",
      "Epoch 2759 \t reward: 7.0 \t length 4 \t mean_length 4.18 \t epsilon 0.1\n",
      "Epoch 2760 \t reward: 10.5 \t length 5 \t mean_length 4.19 \t epsilon 0.1\n",
      "Epoch 2761 \t reward: -0.5 \t length 1 \t mean_length 4.24 \t epsilon 0.1\n",
      "Epoch 2762 \t reward: 14.5 \t length 6 \t mean_length 4.27 \t epsilon 0.1\n",
      "Epoch 2763 \t reward: 14.5 \t length 6 \t mean_length 4.24 \t epsilon 0.1\n",
      "Epoch 2764 \t reward: 1.5 \t length 2 \t mean_length 4.19 \t epsilon 0.1\n",
      "Epoch 2765 \t reward: 14.5 \t length 6 \t mean_length 4.2 \t epsilon 0.1\n",
      "Q_matrix of initial state, after training: step 2701\n"
     ]
    },
    {
     "output_type": "display_data",
     "data": {
      "text/plain": "<PIL.Image.Image image mode=RGBA size=128x128 at 0x1978F6062E0>",
      "image/png": "[encoded data removed]"
     },
     "metadata": {}
    },
    {
     "output_type": "stream",
     "name": "stdout",
     "text": [
      "43\n"
     ]
    },
    {
     "output_type": "display_data",
     "data": {
      "text/plain": "<PIL.Image.Image image mode=RGBA size=128x128 at 0x1978F6062E0>",
      "image/png": "[encoded data removed]"
     },
     "metadata": {}
    },
    {
     "output_type": "stream",
     "name": "stdout",
     "text": [
      "-------------\n"
     ]
    },
    {
     "output_type": "display_data",
     "data": {
      "text/plain": "<PIL.Image.Image image mode=RGBA size=128x128 at 0x1978F606250>",
      "image/png": "[encoded data removed]"
     },
     "metadata": {}
    },
    {
     "output_type": "stream",
     "name": "stdout",
     "text": [
      "37\n",
      "Epoch 2766 \t reward: 7.0 \t length 4 \t mean_length 4.19 \t epsilon 0.1\n",
      "Epoch 2767 \t reward: -0.5 \t length 1 \t mean_length 4.26 \t epsilon 0.1\n",
      "Epoch 2768 \t reward: 14.5 \t length 6 \t mean_length 4.29 \t epsilon 0.1\n",
      "Epoch 2769 \t reward: 24.0 \t length 8 \t mean_length 4.3 \t epsilon 0.1\n",
      "Epoch 2770 \t reward: -0.5 \t length 1 \t mean_length 4.23 \t epsilon 0.1\n",
      "Epoch 2771 \t reward: -0.5 \t length 1 \t mean_length 4.28 \t epsilon 0.1\n",
      "Epoch 2772 \t reward: 10.5 \t length 5 \t mean_length 4.29 \t epsilon 0.1\n",
      "Epoch 2773 \t reward: 10.5 \t length 5 \t mean_length 4.26 \t epsilon 0.1\n",
      "Epoch 2774 \t reward: 10.5 \t length 5 \t mean_length 4.27 \t epsilon 0.1\n",
      "Epoch 2775 \t reward: 19.0 \t length 7 \t mean_length 4.32 \t epsilon 0.1\n",
      "Epoch 2776 \t reward: 7.0 \t length 4 \t mean_length 4.31 \t epsilon 0.1\n",
      "Epoch 2777 \t reward: 14.5 \t length 6 \t mean_length 4.26 \t epsilon 0.1\n",
      "Epoch 2778 \t reward: 19.0 \t length 7 \t mean_length 4.31 \t epsilon 0.1\n",
      "Epoch 2779 \t reward: 19.0 \t length 7 \t mean_length 4.32 \t epsilon 0.1\n",
      "Epoch 2780 \t reward: 1.5 \t length 2 \t mean_length 4.27 \t epsilon 0.1\n",
      "Epoch 2781 \t reward: 1.5 \t length 2 \t mean_length 4.26 \t epsilon 0.1\n",
      "Epoch 2782 \t reward: 1.5 \t length 2 \t mean_length 4.21 \t epsilon 0.1\n",
      "Epoch 2783 \t reward: 14.5 \t length 6 \t mean_length 4.22 \t epsilon 0.1\n",
      "Epoch 2784 \t reward: 19.0 \t length 7 \t mean_length 4.27 \t epsilon 0.1\n",
      "Epoch 2785 \t reward: 14.5 \t length 6 \t mean_length 4.22 \t epsilon 0.1\n",
      "Epoch 2786 \t reward: 7.0 \t length 4 \t mean_length 4.21 \t epsilon 0.1\n",
      "Epoch 2787 \t reward: 4.0 \t length 3 \t mean_length 4.16 \t epsilon 0.1\n",
      "Epoch 2788 \t reward: 10.5 \t length 5 \t mean_length 4.17 \t epsilon 0.1\n",
      "Epoch 2789 \t reward: 19.0 \t length 7 \t mean_length 4.16 \t epsilon 0.1\n",
      "Epoch 2790 \t reward: 14.5 \t length 6 \t mean_length 4.19 \t epsilon 0.1\n",
      "Epoch 2791 \t reward: 4.0 \t length 3 \t mean_length 4.16 \t epsilon 0.1\n",
      "Epoch 2792 \t reward: 4.0 \t length 3 \t mean_length 4.13 \t epsilon 0.1\n",
      "Epoch 2793 \t reward: 19.0 \t length 7 \t mean_length 4.2 \t epsilon 0.1\n",
      "Epoch 2794 \t reward: 19.0 \t length 7 \t mean_length 4.25 \t epsilon 0.1\n",
      "Epoch 2795 \t reward: 7.0 \t length 4 \t mean_length 4.28 \t epsilon 0.1\n",
      "Epoch 2796 \t reward: 14.5 \t length 6 \t mean_length 4.31 \t epsilon 0.1\n",
      "Epoch 2797 \t reward: 1.5 \t length 2 \t mean_length 4.3 \t epsilon 0.1\n",
      "Epoch 2798 \t reward: 10.5 \t length 5 \t mean_length 4.31 \t epsilon 0.1\n",
      "Epoch 2799 \t reward: 14.5 \t length 6 \t mean_length 4.32 \t epsilon 0.1\n",
      "Epoch 2800 \t reward: -0.5 \t length 1 \t mean_length 4.25 \t epsilon 0.1\n",
      "Epoch 2801 \t reward: 10.5 \t length 5 \t mean_length 4.28 \t epsilon 0.1\n",
      "Epoch 2802 \t reward: 7.0 \t length 4 \t mean_length 4.27 \t epsilon 0.1\n",
      "Epoch 2803 \t reward: 10.5 \t length 5 \t mean_length 4.34 \t epsilon 0.1\n",
      "Epoch 2804 \t reward: 10.5 \t length 5 \t mean_length 4.35 \t epsilon 0.1\n",
      "Epoch 2805 \t reward: 7.0 \t length 4 \t mean_length 4.38 \t epsilon 0.1\n",
      "Epoch 2806 \t reward: -0.5 \t length 1 \t mean_length 4.31 \t epsilon 0.1\n",
      "Epoch 2807 \t reward: 14.5 \t length 6 \t mean_length 4.28 \t epsilon 0.1\n",
      "Epoch 2808 \t reward: 35.5 \t length 10 \t mean_length 4.39 \t epsilon 0.1\n",
      "Epoch 2809 \t reward: 14.5 \t length 6 \t mean_length 4.42 \t epsilon 0.1\n",
      "Epoch 2810 \t reward: 10.5 \t length 5 \t mean_length 4.43 \t epsilon 0.1\n",
      "Epoch 2811 \t reward: 10.5 \t length 5 \t mean_length 4.46 \t epsilon 0.1\n",
      "Epoch 2812 \t reward: -0.5 \t length 1 \t mean_length 4.39 \t epsilon 0.1\n",
      "Epoch 2813 \t reward: 4.0 \t length 3 \t mean_length 4.38 \t epsilon 0.1\n",
      "Epoch 2814 \t reward: 10.5 \t length 5 \t mean_length 4.39 \t epsilon 0.1\n",
      "Epoch 2815 \t reward: 7.0 \t length 4 \t mean_length 4.46 \t epsilon 0.1\n",
      "Epoch 2816 \t reward: 14.5 \t length 6 \t mean_length 4.49 \t epsilon 0.1\n",
      "Epoch 2817 \t reward: 10.5 \t length 5 \t mean_length 4.51 \t epsilon 0.1\n",
      "Epoch 2818 \t reward: 1.5 \t length 2 \t mean_length 4.47 \t epsilon 0.1\n",
      "Epoch 2819 \t reward: 10.5 \t length 5 \t mean_length 4.44 \t epsilon 0.1\n",
      "Epoch 2820 \t reward: 10.5 \t length 5 \t mean_length 4.45 \t epsilon 0.1\n",
      "Epoch 2821 \t reward: 7.0 \t length 4 \t mean_length 4.4 \t epsilon 0.1\n",
      "Epoch 2822 \t reward: -0.5 \t length 1 \t mean_length 4.33 \t epsilon 0.1\n",
      "Epoch 2823 \t reward: 7.0 \t length 4 \t mean_length 4.38 \t epsilon 0.1\n",
      "Epoch 2824 \t reward: -0.5 \t length 1 \t mean_length 4.31 \t epsilon 0.1\n",
      "Epoch 2825 \t reward: 1.5 \t length 2 \t mean_length 4.26 \t epsilon 0.1\n",
      "Epoch 2826 \t reward: 10.5 \t length 5 \t mean_length 4.27 \t epsilon 0.1\n",
      "Epoch 2827 \t reward: 14.5 \t length 6 \t mean_length 4.3 \t epsilon 0.1\n",
      "Epoch 2828 \t reward: 29.5 \t length 9 \t mean_length 4.39 \t epsilon 0.1\n",
      "Epoch 2829 \t reward: 7.0 \t length 4 \t mean_length 4.46 \t epsilon 0.1\n",
      "Epoch 2830 \t reward: 10.5 \t length 5 \t mean_length 4.47 \t epsilon 0.1\n",
      "Epoch 2831 \t reward: 14.5 \t length 6 \t mean_length 4.44 \t epsilon 0.1\n",
      "Epoch 2832 \t reward: 7.0 \t length 4 \t mean_length 4.43 \t epsilon 0.1\n",
      "Epoch 2833 \t reward: -0.5 \t length 1 \t mean_length 4.48 \t epsilon 0.1\n",
      "Epoch 2834 \t reward: 1.5 \t length 2 \t mean_length 4.43 \t epsilon 0.1\n",
      "Epoch 2835 \t reward: 7.0 \t length 4 \t mean_length 4.44 \t epsilon 0.1\n",
      "Epoch 2836 \t reward: 10.5 \t length 5 \t mean_length 4.45 \t epsilon 0.1\n",
      "Epoch 2837 \t reward: 10.5 \t length 5 \t mean_length 4.48 \t epsilon 0.1\n",
      "Epoch 2838 \t reward: 19.0 \t length 7 \t mean_length 4.52 \t epsilon 0.1\n",
      "Epoch 2839 \t reward: 10.5 \t length 5 \t mean_length 4.51 \t epsilon 0.1\n",
      "Epoch 2840 \t reward: 14.5 \t length 6 \t mean_length 4.54 \t epsilon 0.1\n",
      "Epoch 2841 \t reward: 10.5 \t length 5 \t mean_length 4.51 \t epsilon 0.1\n",
      "Epoch 2842 \t reward: 19.0 \t length 7 \t mean_length 4.56 \t epsilon 0.1\n",
      "Epoch 2843 \t reward: 19.0 \t length 7 \t mean_length 4.58 \t epsilon 0.1\n",
      "Epoch 2844 \t reward: -0.5 \t length 1 \t mean_length 4.5 \t epsilon 0.1\n",
      "Epoch 2845 \t reward: -0.5 \t length 1 \t mean_length 4.5 \t epsilon 0.1\n",
      "Epoch 2846 \t reward: 7.0 \t length 4 \t mean_length 4.49 \t epsilon 0.1\n",
      "Epoch 2847 \t reward: 10.5 \t length 5 \t mean_length 4.48 \t epsilon 0.1\n",
      "Epoch 2848 \t reward: 14.5 \t length 6 \t mean_length 4.5 \t epsilon 0.1\n",
      "Epoch 2849 \t reward: 14.5 \t length 6 \t mean_length 4.44 \t epsilon 0.1\n",
      "Epoch 2850 \t reward: -0.5 \t length 1 \t mean_length 4.37 \t epsilon 0.1\n",
      "Epoch 2851 \t reward: 10.5 \t length 5 \t mean_length 4.34 \t epsilon 0.1\n",
      "Epoch 2852 \t reward: 19.0 \t length 7 \t mean_length 4.39 \t epsilon 0.1\n",
      "Epoch 2853 \t reward: 29.5 \t length 9 \t mean_length 4.36 \t epsilon 0.1\n",
      "Epoch 2854 \t reward: 1.5 \t length 2 \t mean_length 4.31 \t epsilon 0.1\n",
      "Epoch 2855 \t reward: 7.0 \t length 4 \t mean_length 4.28 \t epsilon 0.1\n",
      "Epoch 2856 \t reward: 14.5 \t length 6 \t mean_length 4.31 \t epsilon 0.1\n",
      "Epoch 2857 \t reward: 7.0 \t length 4 \t mean_length 4.36 \t epsilon 0.1\n",
      "Epoch 2858 \t reward: 1.5 \t length 2 \t mean_length 4.31 \t epsilon 0.1\n",
      "Epoch 2859 \t reward: -0.5 \t length 1 \t mean_length 4.36 \t epsilon 0.1\n",
      "Epoch 2860 \t reward: 14.5 \t length 6 \t mean_length 4.39 \t epsilon 0.1\n",
      "Epoch 2861 \t reward: 14.5 \t length 6 \t mean_length 4.38 \t epsilon 0.1\n",
      "Epoch 2862 \t reward: 14.5 \t length 6 \t mean_length 4.41 \t epsilon 0.1\n",
      "Epoch 2863 \t reward: 19.0 \t length 7 \t mean_length 4.38 \t epsilon 0.1\n",
      "Epoch 2864 \t reward: 19.0 \t length 7 \t mean_length 4.43 \t epsilon 0.1\n",
      "Epoch 2865 \t reward: 4.0 \t length 3 \t mean_length 4.48 \t epsilon 0.1\n",
      "Q_matrix of initial state, after training: step 2801\n"
     ]
    },
    {
     "output_type": "display_data",
     "data": {
      "text/plain": "<PIL.Image.Image image mode=RGBA size=128x128 at 0x1978F606490>",
      "image/png": "[encoded data removed]"
     },
     "metadata": {}
    },
    {
     "output_type": "stream",
     "name": "stdout",
     "text": [
      "29\n"
     ]
    },
    {
     "output_type": "display_data",
     "data": {
      "text/plain": "<PIL.Image.Image image mode=RGBA size=128x128 at 0x1978F606490>",
      "image/png": "[encoded data removed]"
     },
     "metadata": {}
    },
    {
     "output_type": "stream",
     "name": "stdout",
     "text": [
      "-------------\n"
     ]
    },
    {
     "output_type": "display_data",
     "data": {
      "text/plain": "<PIL.Image.Image image mode=RGBA size=128x128 at 0x1978F606700>",
      "image/png": "[encoded data removed]"
     },
     "metadata": {}
    },
    {
     "output_type": "stream",
     "name": "stdout",
     "text": [
      "45\n",
      "Epoch 2866 \t reward: 14.5 \t length 6 \t mean_length 4.5 \t epsilon 0.1\n",
      "Epoch 2867 \t reward: 19.0 \t length 7 \t mean_length 4.51 \t epsilon 0.1\n",
      "Epoch 2868 \t reward: 10.5 \t length 5 \t mean_length 4.52 \t epsilon 0.1\n",
      "Epoch 2869 \t reward: 29.5 \t length 9 \t mean_length 4.5 \t epsilon 0.1\n",
      "Epoch 2870 \t reward: 1.5 \t length 2 \t mean_length 4.45 \t epsilon 0.1\n",
      "Epoch 2871 \t reward: 29.5 \t length 9 \t mean_length 4.51 \t epsilon 0.1\n",
      "Epoch 2872 \t reward: 10.5 \t length 5 \t mean_length 4.52 \t epsilon 0.1\n",
      "Epoch 2873 \t reward: 24.0 \t length 8 \t mean_length 4.51 \t epsilon 0.1\n",
      "Epoch 2874 \t reward: 1.5 \t length 2 \t mean_length 4.47 \t epsilon 0.1\n",
      "Epoch 2875 \t reward: 4.0 \t length 3 \t mean_length 4.46 \t epsilon 0.1\n",
      "Epoch 2876 \t reward: 14.5 \t length 6 \t mean_length 4.49 \t epsilon 0.1\n",
      "Epoch 2877 \t reward: 7.0 \t length 4 \t mean_length 4.5 \t epsilon 0.1\n",
      "Epoch 2878 \t reward: 19.0 \t length 7 \t mean_length 4.54 \t epsilon 0.1\n",
      "Epoch 2879 \t reward: 10.5 \t length 5 \t mean_length 4.5 \t epsilon 0.1\n",
      "Epoch 2880 \t reward: 4.0 \t length 3 \t mean_length 4.47 \t epsilon 0.1\n",
      "Epoch 2881 \t reward: 14.5 \t length 6 \t mean_length 4.51 \t epsilon 0.1\n",
      "Epoch 2882 \t reward: -0.5 \t length 1 \t mean_length 4.45 \t epsilon 0.1\n",
      "Epoch 2883 \t reward: 14.5 \t length 6 \t mean_length 4.5 \t epsilon 0.1\n",
      "Epoch 2884 \t reward: 14.5 \t length 6 \t mean_length 4.52 \t epsilon 0.1\n",
      "Epoch 2885 \t reward: 24.0 \t length 8 \t mean_length 4.48 \t epsilon 0.1\n",
      "Epoch 2886 \t reward: -0.5 \t length 1 \t mean_length 4.41 \t epsilon 0.1\n",
      "Epoch 2887 \t reward: -0.5 \t length 1 \t mean_length 4.42 \t epsilon 0.1\n",
      "Epoch 2888 \t reward: 7.0 \t length 4 \t mean_length 4.41 \t epsilon 0.1\n",
      "Epoch 2889 \t reward: 10.5 \t length 5 \t mean_length 4.4 \t epsilon 0.1\n",
      "Epoch 2890 \t reward: 10.5 \t length 5 \t mean_length 4.41 \t epsilon 0.1\n",
      "Epoch 2891 \t reward: 24.0 \t length 8 \t mean_length 4.38 \t epsilon 0.1\n",
      "Epoch 2892 \t reward: 4.0 \t length 3 \t mean_length 4.35 \t epsilon 0.1\n",
      "Epoch 2893 \t reward: -0.5 \t length 1 \t mean_length 4.38 \t epsilon 0.1\n",
      "Epoch 2894 \t reward: 7.0 \t length 4 \t mean_length 4.37 \t epsilon 0.1\n",
      "Epoch 2895 \t reward: 4.0 \t length 3 \t mean_length 4.32 \t epsilon 0.1\n",
      "Epoch 2896 \t reward: 10.5 \t length 5 \t mean_length 4.33 \t epsilon 0.1\n",
      "Epoch 2897 \t reward: 14.5 \t length 6 \t mean_length 4.3 \t epsilon 0.1\n",
      "Epoch 2898 \t reward: 7.0 \t length 4 \t mean_length 4.29 \t epsilon 0.1\n",
      "Epoch 2899 \t reward: 10.5 \t length 5 \t mean_length 4.28 \t epsilon 0.1\n",
      "Epoch 2900 \t reward: 19.0 \t length 7 \t mean_length 4.33 \t epsilon 0.1\n",
      "Epoch 2901 \t reward: 19.0 \t length 7 \t mean_length 4.4 \t epsilon 0.1\n",
      "Epoch 2902 \t reward: 10.5 \t length 5 \t mean_length 4.41 \t epsilon 0.09\n",
      "Epoch 2903 \t reward: 4.0 \t length 3 \t mean_length 4.42 \t epsilon 0.09\n",
      "Epoch 2904 \t reward: 1.5 \t length 2 \t mean_length 4.37 \t epsilon 0.09\n",
      "Epoch 2905 \t reward: 19.0 \t length 7 \t mean_length 4.36 \t epsilon 0.09\n",
      "Epoch 2906 \t reward: 4.0 \t length 3 \t mean_length 4.33 \t epsilon 0.09\n",
      "Epoch 2907 \t reward: 14.5 \t length 6 \t mean_length 4.4 \t epsilon 0.09\n",
      "Epoch 2908 \t reward: 14.5 \t length 6 \t mean_length 4.43 \t epsilon 0.09\n",
      "Epoch 2909 \t reward: 14.5 \t length 6 \t mean_length 4.32 \t epsilon 0.09\n",
      "Epoch 2910 \t reward: 7.0 \t length 4 \t mean_length 4.31 \t epsilon 0.09\n",
      "Epoch 2911 \t reward: 19.0 \t length 7 \t mean_length 4.3 \t epsilon 0.09\n",
      "Epoch 2912 \t reward: 7.0 \t length 4 \t mean_length 4.29 \t epsilon 0.09\n",
      "Epoch 2913 \t reward: -0.5 \t length 1 \t mean_length 4.36 \t epsilon 0.09\n",
      "Epoch 2914 \t reward: 24.0 \t length 8 \t mean_length 4.43 \t epsilon 0.09\n",
      "Epoch 2915 \t reward: 1.5 \t length 2 \t mean_length 4.42 \t epsilon 0.09\n",
      "Epoch 2916 \t reward: 10.5 \t length 5 \t mean_length 4.43 \t epsilon 0.09\n",
      "Epoch 2917 \t reward: 14.5 \t length 6 \t mean_length 4.4 \t epsilon 0.09\n",
      "Epoch 2918 \t reward: -0.5 \t length 1 \t mean_length 4.33 \t epsilon 0.09\n",
      "Epoch 2919 \t reward: 7.0 \t length 4 \t mean_length 4.38 \t epsilon 0.09\n",
      "Epoch 2920 \t reward: 24.0 \t length 8 \t mean_length 4.45 \t epsilon 0.09\n",
      "Epoch 2921 \t reward: 4.0 \t length 3 \t mean_length 4.44 \t epsilon 0.09\n",
      "Epoch 2922 \t reward: 7.0 \t length 4 \t mean_length 4.43 \t epsilon 0.09\n",
      "Epoch 2923 \t reward: 7.0 \t length 4 \t mean_length 4.5 \t epsilon 0.09\n",
      "Epoch 2924 \t reward: 7.0 \t length 4 \t mean_length 4.49 \t epsilon 0.09\n",
      "Epoch 2925 \t reward: 7.0 \t length 4 \t mean_length 4.55 \t epsilon 0.09\n",
      "Epoch 2926 \t reward: 1.5 \t length 2 \t mean_length 4.5 \t epsilon 0.09\n",
      "Epoch 2927 \t reward: 29.5 \t length 9 \t mean_length 4.5 \t epsilon 0.09\n",
      "Epoch 2928 \t reward: 10.5 \t length 5 \t mean_length 4.5 \t epsilon 0.09\n",
      "Epoch 2929 \t reward: 4.0 \t length 3 \t mean_length 4.42 \t epsilon 0.09\n",
      "Epoch 2930 \t reward: -0.5 \t length 1 \t mean_length 4.35 \t epsilon 0.09\n",
      "Epoch 2931 \t reward: 10.5 \t length 5 \t mean_length 4.34 \t epsilon 0.09\n",
      "Epoch 2932 \t reward: 14.5 \t length 6 \t mean_length 4.37 \t epsilon 0.09\n",
      "Epoch 2933 \t reward: -0.5 \t length 1 \t mean_length 4.38 \t epsilon 0.09\n",
      "Epoch 2934 \t reward: 19.0 \t length 7 \t mean_length 4.43 \t epsilon 0.09\n",
      "Epoch 2935 \t reward: 10.5 \t length 5 \t mean_length 4.48 \t epsilon 0.09\n",
      "Epoch 2936 \t reward: 14.5 \t length 6 \t mean_length 4.5 \t epsilon 0.09\n",
      "Epoch 2937 \t reward: 7.0 \t length 4 \t mean_length 4.5 \t epsilon 0.09\n",
      "Epoch 2938 \t reward: 14.5 \t length 6 \t mean_length 4.52 \t epsilon 0.09\n",
      "Epoch 2939 \t reward: 1.5 \t length 2 \t mean_length 4.48 \t epsilon 0.09\n",
      "Epoch 2940 \t reward: 14.5 \t length 6 \t mean_length 4.5 \t epsilon 0.09\n",
      "Epoch 2941 \t reward: 14.5 \t length 6 \t mean_length 4.48 \t epsilon 0.09\n",
      "Epoch 2942 \t reward: 14.5 \t length 6 \t mean_length 4.5 \t epsilon 0.09\n",
      "Epoch 2943 \t reward: 29.5 \t length 9 \t mean_length 4.46 \t epsilon 0.09\n",
      "Epoch 2944 \t reward: 29.5 \t length 9 \t mean_length 4.54 \t epsilon 0.09\n",
      "Epoch 2945 \t reward: -0.5 \t length 1 \t mean_length 4.62 \t epsilon 0.09\n",
      "Epoch 2946 \t reward: 7.0 \t length 4 \t mean_length 4.6 \t epsilon 0.09\n",
      "Epoch 2947 \t reward: 7.0 \t length 4 \t mean_length 4.62 \t epsilon 0.09\n",
      "Epoch 2948 \t reward: 35.5 \t length 10 \t mean_length 4.72 \t epsilon 0.09\n",
      "Epoch 2949 \t reward: 14.5 \t length 6 \t mean_length 4.7 \t epsilon 0.09\n",
      "Epoch 2950 \t reward: 14.5 \t length 6 \t mean_length 4.72 \t epsilon 0.09\n",
      "Epoch 2951 \t reward: 10.5 \t length 5 \t mean_length 4.8 \t epsilon 0.09\n",
      "Epoch 2952 \t reward: 14.5 \t length 6 \t mean_length 4.82 \t epsilon 0.09\n",
      "Epoch 2953 \t reward: 1.5 \t length 2 \t mean_length 4.78 \t epsilon 0.09\n",
      "Epoch 2954 \t reward: 19.0 \t length 7 \t mean_length 4.82 \t epsilon 0.09\n",
      "Epoch 2955 \t reward: 7.0 \t length 4 \t mean_length 4.88 \t epsilon 0.09\n",
      "Epoch 2956 \t reward: 7.0 \t length 4 \t mean_length 4.86 \t epsilon 0.09\n",
      "Epoch 2957 \t reward: 7.0 \t length 4 \t mean_length 4.84 \t epsilon 0.09\n",
      "Epoch 2958 \t reward: 4.0 \t length 3 \t mean_length 4.8 \t epsilon 0.09\n",
      "Epoch 2959 \t reward: 10.5 \t length 5 \t mean_length 4.86 \t epsilon 0.09\n",
      "Epoch 2960 \t reward: 1.5 \t length 2 \t mean_length 4.8 \t epsilon 0.09\n",
      "Epoch 2961 \t reward: 14.5 \t length 6 \t mean_length 4.78 \t epsilon 0.09\n",
      "Epoch 2962 \t reward: 19.0 \t length 7 \t mean_length 4.82 \t epsilon 0.09\n",
      "Epoch 2963 \t reward: 14.5 \t length 6 \t mean_length 4.8 \t epsilon 0.09\n",
      "Epoch 2964 \t reward: 10.5 \t length 5 \t mean_length 4.8 \t epsilon 0.09\n",
      "Epoch 2965 \t reward: 24.0 \t length 8 \t mean_length 4.76 \t epsilon 0.09\n",
      "Q_matrix of initial state, after training: step 2901\n"
     ]
    },
    {
     "output_type": "display_data",
     "data": {
      "text/plain": "<PIL.Image.Image image mode=RGBA size=128x128 at 0x1978F606970>",
      "image/png": "[encoded data removed]"
     },
     "metadata": {}
    },
    {
     "output_type": "stream",
     "name": "stdout",
     "text": [
      "29\n"
     ]
    },
    {
     "output_type": "display_data",
     "data": {
      "text/plain": "<PIL.Image.Image image mode=RGBA size=128x128 at 0x1978F606970>",
      "image/png": "[encoded data removed]"
     },
     "metadata": {}
    },
    {
     "output_type": "stream",
     "name": "stdout",
     "text": [
      "-------------\n"
     ]
    },
    {
     "output_type": "display_data",
     "data": {
      "text/plain": "<PIL.Image.Image image mode=RGBA size=128x128 at 0x1978F6063D0>",
      "image/png": "[encoded data removed]"
     },
     "metadata": {}
    },
    {
     "output_type": "stream",
     "name": "stdout",
     "text": [
      "20\n",
      "Epoch 2966 \t reward: 10.5 \t length 5 \t mean_length 4.76 \t epsilon 0.09\n",
      "Epoch 2967 \t reward: 10.5 \t length 5 \t mean_length 4.74 \t epsilon 0.09\n",
      "Epoch 2968 \t reward: -0.5 \t length 1 \t mean_length 4.66 \t epsilon 0.09\n",
      "Epoch 2969 \t reward: 7.0 \t length 4 \t mean_length 4.66 \t epsilon 0.09\n",
      "Epoch 2970 \t reward: 14.5 \t length 6 \t mean_length 4.68 \t epsilon 0.09\n",
      "Epoch 2971 \t reward: 4.0 \t length 3 \t mean_length 4.74 \t epsilon 0.09\n",
      "Epoch 2972 \t reward: 19.0 \t length 7 \t mean_length 4.78 \t epsilon 0.09\n",
      "Epoch 2973 \t reward: 10.5 \t length 5 \t mean_length 4.78 \t epsilon 0.09\n",
      "Epoch 2974 \t reward: 24.0 \t length 8 \t mean_length 4.84 \t epsilon 0.09\n",
      "Epoch 2975 \t reward: 14.5 \t length 6 \t mean_length 4.9 \t epsilon 0.09\n",
      "Epoch 2976 \t reward: 29.5 \t length 9 \t mean_length 4.98 \t epsilon 0.09\n",
      "Epoch 2977 \t reward: 24.0 \t length 8 \t mean_length 4.96 \t epsilon 0.09\n",
      "Epoch 2978 \t reward: 10.5 \t length 5 \t mean_length 4.96 \t epsilon 0.09\n",
      "Epoch 2979 \t reward: 14.5 \t length 6 \t mean_length 4.92 \t epsilon 0.09\n",
      "Epoch 2980 \t reward: 10.5 \t length 5 \t mean_length 4.92 \t epsilon 0.09\n",
      "Epoch 2981 \t reward: 24.0 \t length 8 \t mean_length 4.96 \t epsilon 0.09\n",
      "Epoch 2982 \t reward: 1.5 \t length 2 \t mean_length 4.9 \t epsilon 0.09\n",
      "Epoch 2983 \t reward: 14.5 \t length 6 \t mean_length 4.98 \t epsilon 0.09\n",
      "Epoch 2984 \t reward: 19.0 \t length 7 \t mean_length 5.01 \t epsilon 0.09\n",
      "Epoch 2985 \t reward: 7.0 \t length 4 \t mean_length 5.0 \t epsilon 0.09\n",
      "Epoch 2986 \t reward: 7.0 \t length 4 \t mean_length 4.98 \t epsilon 0.09\n",
      "Epoch 2987 \t reward: 1.5 \t length 2 \t mean_length 5.05 \t epsilon 0.09\n",
      "Epoch 2988 \t reward: 10.5 \t length 5 \t mean_length 5.05 \t epsilon 0.09\n",
      "Epoch 2989 \t reward: 7.0 \t length 4 \t mean_length 5.08 \t epsilon 0.09\n",
      "Epoch 2990 \t reward: 1.5 \t length 2 \t mean_length 5.01 \t epsilon 0.09\n",
      "Epoch 2991 \t reward: -0.5 \t length 1 \t mean_length 5.01 \t epsilon 0.09\n",
      "Epoch 2992 \t reward: -0.5 \t length 1 \t mean_length 4.94 \t epsilon 0.09\n",
      "Epoch 2993 \t reward: 14.5 \t length 6 \t mean_length 4.98 \t epsilon 0.09\n",
      "Epoch 2994 \t reward: 1.5 \t length 2 \t mean_length 4.92 \t epsilon 0.09\n",
      "Epoch 2995 \t reward: 10.5 \t length 5 \t mean_length 4.94 \t epsilon 0.09\n",
      "Epoch 2996 \t reward: 1.5 \t length 2 \t mean_length 4.88 \t epsilon 0.09\n",
      "Epoch 2997 \t reward: 1.5 \t length 2 \t mean_length 4.88 \t epsilon 0.09\n",
      "Epoch 2998 \t reward: -0.5 \t length 1 \t mean_length 4.8 \t epsilon 0.09\n",
      "Epoch 2999 \t reward: 19.0 \t length 7 \t mean_length 4.82 \t epsilon 0.09\n",
      "Epoch 3000 \t reward: 4.0 \t length 3 \t mean_length 4.78 \t epsilon 0.09\n",
      "Epoch 3001 \t reward: 1.5 \t length 2 \t mean_length 4.74 \t epsilon 0.09\n",
      "Epoch 3002 \t reward: 19.0 \t length 7 \t mean_length 4.78 \t epsilon 0.09\n",
      "Epoch 3003 \t reward: -0.5 \t length 1 \t mean_length 4.78 \t epsilon 0.09\n",
      "Epoch 3004 \t reward: 7.0 \t length 4 \t mean_length 4.76 \t epsilon 0.09\n",
      "Epoch 3005 \t reward: 29.5 \t length 9 \t mean_length 4.82 \t epsilon 0.09\n",
      "Epoch 3006 \t reward: 24.0 \t length 8 \t mean_length 4.88 \t epsilon 0.09\n",
      "Epoch 3007 \t reward: 7.0 \t length 4 \t mean_length 4.92 \t epsilon 0.09\n",
      "Epoch 3008 \t reward: 19.0 \t length 7 \t mean_length 4.96 \t epsilon 0.09\n",
      "Epoch 3009 \t reward: 24.0 \t length 8 \t mean_length 4.94 \t epsilon 0.09\n",
      "Epoch 3010 \t reward: 14.5 \t length 6 \t mean_length 4.96 \t epsilon 0.09\n",
      "Epoch 3011 \t reward: 14.5 \t length 6 \t mean_length 4.98 \t epsilon 0.09\n",
      "Epoch 3012 \t reward: 14.5 \t length 6 \t mean_length 5.0 \t epsilon 0.09\n",
      "Epoch 3013 \t reward: 14.5 \t length 6 \t mean_length 5.01 \t epsilon 0.09\n",
      "Epoch 3014 \t reward: 10.5 \t length 5 \t mean_length 5.01 \t epsilon 0.09\n",
      "Epoch 3015 \t reward: 14.5 \t length 6 \t mean_length 4.96 \t epsilon 0.09\n",
      "Epoch 3016 \t reward: 10.5 \t length 5 \t mean_length 4.96 \t epsilon 0.09\n",
      "Epoch 3017 \t reward: 10.5 \t length 5 \t mean_length 4.96 \t epsilon 0.09\n",
      "Epoch 3018 \t reward: 19.0 \t length 7 \t mean_length 5.0 \t epsilon 0.09\n",
      "Epoch 3019 \t reward: 7.0 \t length 4 \t mean_length 5.08 \t epsilon 0.09\n",
      "Epoch 3020 \t reward: 7.0 \t length 4 \t mean_length 5.05 \t epsilon 0.09\n",
      "Epoch 3021 \t reward: 10.5 \t length 5 \t mean_length 5.0 \t epsilon 0.09\n",
      "Epoch 3022 \t reward: 10.5 \t length 5 \t mean_length 5.0 \t epsilon 0.09\n",
      "Epoch 3023 \t reward: 19.0 \t length 7 \t mean_length 5.01 \t epsilon 0.09\n",
      "Epoch 3024 \t reward: 4.0 \t length 3 \t mean_length 4.98 \t epsilon 0.09\n",
      "Epoch 3025 \t reward: 10.5 \t length 5 \t mean_length 5.0 \t epsilon 0.09\n",
      "Epoch 3026 \t reward: 10.5 \t length 5 \t mean_length 5.0 \t epsilon 0.09\n",
      "Epoch 3027 \t reward: -0.5 \t length 1 \t mean_length 5.05 \t epsilon 0.09\n",
      "Epoch 3028 \t reward: 14.5 \t length 6 \t mean_length 5.07 \t epsilon 0.09\n",
      "Epoch 3029 \t reward: 1.5 \t length 2 \t mean_length 5.08 \t epsilon 0.09\n",
      "Epoch 3030 \t reward: 7.0 \t length 4 \t mean_length 5.05 \t epsilon 0.09\n",
      "Epoch 3031 \t reward: 19.0 \t length 7 \t mean_length 5.14 \t epsilon 0.09\n",
      "Epoch 3032 \t reward: 10.5 \t length 5 \t mean_length 5.13 \t epsilon 0.09\n",
      "Epoch 3033 \t reward: 4.0 \t length 3 \t mean_length 5.12 \t epsilon 0.09\n",
      "Epoch 3034 \t reward: 10.5 \t length 5 \t mean_length 5.11 \t epsilon 0.09\n",
      "Epoch 3035 \t reward: 1.5 \t length 2 \t mean_length 5.08 \t epsilon 0.09\n",
      "Epoch 3036 \t reward: 19.0 \t length 7 \t mean_length 5.11 \t epsilon 0.09\n",
      "Epoch 3037 \t reward: 19.0 \t length 7 \t mean_length 5.09 \t epsilon 0.09\n",
      "Epoch 3038 \t reward: 1.5 \t length 2 \t mean_length 5.03 \t epsilon 0.09\n",
      "Epoch 3039 \t reward: 14.5 \t length 6 \t mean_length 5.01 \t epsilon 0.09\n",
      "Epoch 3040 \t reward: 1.5 \t length 2 \t mean_length 4.96 \t epsilon 0.09\n",
      "Epoch 3041 \t reward: 10.5 \t length 5 \t mean_length 4.94 \t epsilon 0.09\n",
      "Epoch 3042 \t reward: 4.0 \t length 3 \t mean_length 4.9 \t epsilon 0.09\n",
      "Epoch 3043 \t reward: 10.5 \t length 5 \t mean_length 4.88 \t epsilon 0.09\n",
      "Epoch 3044 \t reward: 10.5 \t length 5 \t mean_length 4.88 \t epsilon 0.09\n",
      "Epoch 3045 \t reward: -0.5 \t length 1 \t mean_length 4.8 \t epsilon 0.09\n",
      "Epoch 3046 \t reward: 1.5 \t length 2 \t mean_length 4.74 \t epsilon 0.09\n",
      "Epoch 3047 \t reward: 10.5 \t length 5 \t mean_length 4.76 \t epsilon 0.09\n",
      "Epoch 3048 \t reward: 1.5 \t length 2 \t mean_length 4.7 \t epsilon 0.09\n",
      "Epoch 3049 \t reward: 4.0 \t length 3 \t mean_length 4.59 \t epsilon 0.09\n",
      "Epoch 3050 \t reward: 10.5 \t length 5 \t mean_length 4.6 \t epsilon 0.09\n",
      "Epoch 3051 \t reward: 29.5 \t length 9 \t mean_length 4.58 \t epsilon 0.09\n",
      "Epoch 3052 \t reward: 10.5 \t length 5 \t mean_length 4.58 \t epsilon 0.09\n",
      "Epoch 3053 \t reward: 19.0 \t length 7 \t mean_length 4.55 \t epsilon 0.09\n",
      "Epoch 3054 \t reward: 10.5 \t length 5 \t mean_length 4.56 \t epsilon 0.09\n",
      "Epoch 3055 \t reward: 10.5 \t length 5 \t mean_length 4.51 \t epsilon 0.09\n",
      "Epoch 3056 \t reward: 7.0 \t length 4 \t mean_length 4.5 \t epsilon 0.09\n",
      "Epoch 3057 \t reward: 29.5 \t length 9 \t mean_length 4.51 \t epsilon 0.09\n",
      "Epoch 3058 \t reward: 24.0 \t length 8 \t mean_length 4.58 \t epsilon 0.09\n",
      "Epoch 3059 \t reward: 4.0 \t length 3 \t mean_length 4.62 \t epsilon 0.09\n",
      "Epoch 3060 \t reward: 7.0 \t length 4 \t mean_length 4.6 \t epsilon 0.09\n",
      "Epoch 3061 \t reward: 14.5 \t length 6 \t mean_length 4.66 \t epsilon 0.09\n",
      "Epoch 3062 \t reward: 19.0 \t length 7 \t mean_length 4.7 \t epsilon 0.09\n",
      "Epoch 3063 \t reward: -0.5 \t length 1 \t mean_length 4.66 \t epsilon 0.09\n",
      "Epoch 3064 \t reward: 7.0 \t length 4 \t mean_length 4.64 \t epsilon 0.09\n",
      "Epoch 3065 \t reward: 1.5 \t length 2 \t mean_length 4.63 \t epsilon 0.09\n",
      "Q_matrix of initial state, after training: step 3001\n"
     ]
    },
    {
     "output_type": "display_data",
     "data": {
      "text/plain": "<PIL.Image.Image image mode=RGBA size=128x128 at 0x1978F606CD0>",
      "image/png": "[encoded data removed]"
     },
     "metadata": {}
    },
    {
     "output_type": "stream",
     "name": "stdout",
     "text": [
      "29\n"
     ]
    },
    {
     "output_type": "display_data",
     "data": {
      "text/plain": "<PIL.Image.Image image mode=RGBA size=128x128 at 0x1978F606A90>",
      "image/png": "[encoded data removed]"
     },
     "metadata": {}
    },
    {
     "output_type": "stream",
     "name": "stdout",
     "text": [
      "-------------\n"
     ]
    },
    {
     "output_type": "display_data",
     "data": {
      "text/plain": "<PIL.Image.Image image mode=RGBA size=128x128 at 0x1978F606B20>",
      "image/png": "[encoded data removed]"
     },
     "metadata": {}
    },
    {
     "output_type": "stream",
     "name": "stdout",
     "text": [
      "43\n",
      "Epoch 3066 \t reward: 19.0 \t length 7 \t mean_length 4.68 \t epsilon 0.09\n",
      "Epoch 3067 \t reward: 1.5 \t length 2 \t mean_length 4.68 \t epsilon 0.09\n",
      "Epoch 3068 \t reward: 10.5 \t length 5 \t mean_length 4.68 \t epsilon 0.09\n",
      "Epoch 3069 \t reward: 29.5 \t length 9 \t mean_length 4.76 \t epsilon 0.09\n",
      "Epoch 3070 \t reward: 24.0 \t length 8 \t mean_length 4.82 \t epsilon 0.09\n",
      "Epoch 3071 \t reward: 19.0 \t length 7 \t mean_length 4.8 \t epsilon 0.09\n",
      "Epoch 3072 \t reward: 10.5 \t length 5 \t mean_length 4.8 \t epsilon 0.09\n",
      "Epoch 3073 \t reward: 10.5 \t length 5 \t mean_length 4.76 \t epsilon 0.09\n",
      "Epoch 3074 \t reward: 1.5 \t length 2 \t mean_length 4.7 \t epsilon 0.09\n",
      "Epoch 3075 \t reward: -0.5 \t length 1 \t mean_length 4.63 \t epsilon 0.09\n",
      "Epoch 3076 \t reward: 7.0 \t length 4 \t mean_length 4.62 \t epsilon 0.09\n",
      "Epoch 3077 \t reward: 14.5 \t length 6 \t mean_length 4.54 \t epsilon 0.09\n",
      "Epoch 3078 \t reward: 1.5 \t length 2 \t mean_length 4.49 \t epsilon 0.09\n",
      "Epoch 3079 \t reward: 14.5 \t length 6 \t mean_length 4.48 \t epsilon 0.09\n",
      "Epoch 3080 \t reward: 14.5 \t length 6 \t mean_length 4.5 \t epsilon 0.09\n",
      "Epoch 3081 \t reward: 24.0 \t length 8 \t mean_length 4.5 \t epsilon 0.09\n",
      "Epoch 3082 \t reward: -0.5 \t length 1 \t mean_length 4.43 \t epsilon 0.09\n",
      "Epoch 3083 \t reward: -0.5 \t length 1 \t mean_length 4.48 \t epsilon 0.09\n",
      "Epoch 3084 \t reward: 19.0 \t length 7 \t mean_length 4.52 \t epsilon 0.09\n",
      "Epoch 3085 \t reward: 7.0 \t length 4 \t mean_length 4.48 \t epsilon 0.09\n",
      "Epoch 3086 \t reward: 4.0 \t length 3 \t mean_length 4.45 \t epsilon 0.09\n",
      "Epoch 3087 \t reward: 24.0 \t length 8 \t mean_length 4.46 \t epsilon 0.09\n",
      "Epoch 3088 \t reward: 14.5 \t length 6 \t mean_length 4.49 \t epsilon 0.09\n",
      "Epoch 3089 \t reward: 24.0 \t length 8 \t mean_length 4.48 \t epsilon 0.09\n",
      "Epoch 3090 \t reward: 10.5 \t length 5 \t mean_length 4.49 \t epsilon 0.09\n",
      "Epoch 3091 \t reward: -0.5 \t length 1 \t mean_length 4.54 \t epsilon 0.09\n",
      "Epoch 3092 \t reward: 14.5 \t length 6 \t mean_length 4.56 \t epsilon 0.09\n",
      "Epoch 3093 \t reward: 24.0 \t length 8 \t mean_length 4.63 \t epsilon 0.09\n",
      "Epoch 3094 \t reward: 14.5 \t length 6 \t mean_length 4.66 \t epsilon 0.09\n",
      "Epoch 3095 \t reward: -0.5 \t length 1 \t mean_length 4.72 \t epsilon 0.09\n",
      "Epoch 3096 \t reward: 4.0 \t length 3 \t mean_length 4.68 \t epsilon 0.09\n",
      "Epoch 3097 \t reward: 10.5 \t length 5 \t mean_length 4.74 \t epsilon 0.09\n",
      "Epoch 3098 \t reward: 14.5 \t length 6 \t mean_length 4.76 \t epsilon 0.09\n",
      "Epoch 3099 \t reward: 1.5 \t length 2 \t mean_length 4.84 \t epsilon 0.09\n",
      "Epoch 3100 \t reward: 24.0 \t length 8 \t mean_length 4.9 \t epsilon 0.09\n",
      "Epoch 3101 \t reward: 10.5 \t length 5 \t mean_length 4.94 \t epsilon 0.09\n",
      "Epoch 3102 \t reward: 19.0 \t length 7 \t mean_length 4.98 \t epsilon 0.09\n",
      "Epoch 3103 \t reward: 19.0 \t length 7 \t mean_length 4.94 \t epsilon 0.09\n",
      "Epoch 3104 \t reward: 14.5 \t length 6 \t mean_length 4.96 \t epsilon 0.09\n",
      "Epoch 3105 \t reward: 4.0 \t length 3 \t mean_length 4.98 \t epsilon 0.09\n",
      "Epoch 3106 \t reward: 7.0 \t length 4 \t mean_length 4.96 \t epsilon 0.09\n",
      "Epoch 3107 \t reward: 14.5 \t length 6 \t mean_length 4.9 \t epsilon 0.09\n",
      "Epoch 3108 \t reward: 14.5 \t length 6 \t mean_length 4.92 \t epsilon 0.09\n",
      "Epoch 3109 \t reward: 24.0 \t length 8 \t mean_length 4.88 \t epsilon 0.09\n",
      "Epoch 3110 \t reward: 29.5 \t length 9 \t mean_length 4.96 \t epsilon 0.09\n",
      "Epoch 3111 \t reward: 14.5 \t length 6 \t mean_length 4.94 \t epsilon 0.09\n",
      "Epoch 3112 \t reward: 4.0 \t length 3 \t mean_length 4.9 \t epsilon 0.09\n",
      "Epoch 3113 \t reward: 7.0 \t length 4 \t mean_length 4.88 \t epsilon 0.09\n",
      "Epoch 3114 \t reward: 10.5 \t length 5 \t mean_length 4.88 \t epsilon 0.09\n",
      "Epoch 3115 \t reward: 10.5 \t length 5 \t mean_length 4.88 \t epsilon 0.09\n",
      "Epoch 3116 \t reward: 19.0 \t length 7 \t mean_length 4.92 \t epsilon 0.09\n",
      "Epoch 3117 \t reward: 14.5 \t length 6 \t mean_length 4.92 \t epsilon 0.09\n",
      "Epoch 3118 \t reward: 14.5 \t length 6 \t mean_length 4.94 \t epsilon 0.09\n",
      "Epoch 3119 \t reward: 14.5 \t length 6 \t mean_length 4.9 \t epsilon 0.09\n",
      "Epoch 3120 \t reward: 35.5 \t length 10 \t mean_length 5.0 \t epsilon 0.09\n",
      "Epoch 3121 \t reward: 10.5 \t length 5 \t mean_length 5.01 \t epsilon 0.09\n",
      "Epoch 3122 \t reward: 14.5 \t length 6 \t mean_length 5.03 \t epsilon 0.09\n",
      "Epoch 3123 \t reward: 14.5 \t length 6 \t mean_length 5.04 \t epsilon 0.09\n",
      "Epoch 3124 \t reward: 7.0 \t length 4 \t mean_length 5.01 \t epsilon 0.09\n",
      "Epoch 3125 \t reward: 10.5 \t length 5 \t mean_length 5.05 \t epsilon 0.09\n",
      "Epoch 3126 \t reward: 10.5 \t length 5 \t mean_length 5.05 \t epsilon 0.09\n",
      "Epoch 3127 \t reward: 4.0 \t length 3 \t mean_length 5.05 \t epsilon 0.09\n",
      "Epoch 3128 \t reward: -0.5 \t length 1 \t mean_length 4.98 \t epsilon 0.09\n",
      "Epoch 3129 \t reward: 10.5 \t length 5 \t mean_length 4.96 \t epsilon 0.09\n",
      "Epoch 3130 \t reward: 7.0 \t length 4 \t mean_length 4.94 \t epsilon 0.08\n",
      "Epoch 3131 \t reward: 7.0 \t length 4 \t mean_length 4.96 \t epsilon 0.08\n",
      "Epoch 3132 \t reward: 14.5 \t length 6 \t mean_length 4.98 \t epsilon 0.08\n",
      "Epoch 3133 \t reward: -0.5 \t length 1 \t mean_length 4.98 \t epsilon 0.08\n",
      "Epoch 3134 \t reward: 10.5 \t length 5 \t mean_length 4.98 \t epsilon 0.08\n",
      "Epoch 3135 \t reward: 10.5 \t length 5 \t mean_length 4.98 \t epsilon 0.08\n",
      "Epoch 3136 \t reward: 29.5 \t length 9 \t mean_length 5.05 \t epsilon 0.08\n",
      "Epoch 3137 \t reward: 14.5 \t length 6 \t mean_length 5.01 \t epsilon 0.08\n",
      "Epoch 3138 \t reward: 7.0 \t length 4 \t mean_length 5.0 \t epsilon 0.08\n",
      "Epoch 3139 \t reward: 1.5 \t length 2 \t mean_length 5.05 \t epsilon 0.08\n",
      "Epoch 3140 \t reward: 19.0 \t length 7 \t mean_length 5.09 \t epsilon 0.08\n",
      "Epoch 3141 \t reward: 1.5 \t length 2 \t mean_length 5.16 \t epsilon 0.08\n",
      "Epoch 3142 \t reward: 19.0 \t length 7 \t mean_length 5.19 \t epsilon 0.08\n",
      "Epoch 3143 \t reward: 10.5 \t length 5 \t mean_length 5.24 \t epsilon 0.08\n",
      "Epoch 3144 \t reward: 7.0 \t length 4 \t mean_length 5.21 \t epsilon 0.08\n",
      "Epoch 3145 \t reward: 4.0 \t length 3 \t mean_length 5.22 \t epsilon 0.08\n",
      "Epoch 3146 \t reward: 19.0 \t length 7 \t mean_length 5.25 \t epsilon 0.08\n",
      "Epoch 3147 \t reward: 1.5 \t length 2 \t mean_length 5.32 \t epsilon 0.08\n",
      "Epoch 3148 \t reward: 10.5 \t length 5 \t mean_length 5.31 \t epsilon 0.08\n",
      "Epoch 3149 \t reward: 7.0 \t length 4 \t mean_length 5.38 \t epsilon 0.08\n",
      "Epoch 3150 \t reward: 24.0 \t length 8 \t mean_length 5.43 \t epsilon 0.08\n",
      "Epoch 3151 \t reward: 7.0 \t length 4 \t mean_length 5.44 \t epsilon 0.08\n",
      "Epoch 3152 \t reward: 10.5 \t length 5 \t mean_length 5.43 \t epsilon 0.08\n",
      "Epoch 3153 \t reward: 7.0 \t length 4 \t mean_length 5.44 \t epsilon 0.08\n",
      "Epoch 3154 \t reward: 7.0 \t length 4 \t mean_length 5.41 \t epsilon 0.08\n",
      "Epoch 3155 \t reward: 1.5 \t length 2 \t mean_length 5.42 \t epsilon 0.08\n",
      "Epoch 3156 \t reward: 7.0 \t length 4 \t mean_length 5.39 \t epsilon 0.08\n",
      "Epoch 3157 \t reward: 4.0 \t length 3 \t mean_length 5.42 \t epsilon 0.08\n",
      "Epoch 3158 \t reward: 24.0 \t length 8 \t mean_length 5.47 \t epsilon 0.08\n",
      "Epoch 3159 \t reward: 7.0 \t length 4 \t mean_length 5.42 \t epsilon 0.08\n",
      "Epoch 3160 \t reward: 10.5 \t length 5 \t mean_length 5.41 \t epsilon 0.08\n",
      "Epoch 3161 \t reward: 19.0 \t length 7 \t mean_length 5.44 \t epsilon 0.08\n",
      "Epoch 3162 \t reward: 7.0 \t length 4 \t mean_length 5.41 \t epsilon 0.08\n",
      "Epoch 3163 \t reward: 10.5 \t length 5 \t mean_length 5.38 \t epsilon 0.08\n",
      "Epoch 3164 \t reward: 29.5 \t length 9 \t mean_length 5.45 \t epsilon 0.08\n",
      "Epoch 3165 \t reward: 14.5 \t length 6 \t mean_length 5.48 \t epsilon 0.08\n",
      "Q_matrix of initial state, after training: step 3101\n"
     ]
    },
    {
     "output_type": "display_data",
     "data": {
      "text/plain": "<PIL.Image.Image image mode=RGBA size=128x128 at 0x1978F606C10>",
      "image/png": "[encoded data removed]"
     },
     "metadata": {}
    },
    {
     "output_type": "stream",
     "name": "stdout",
     "text": [
      "29\n"
     ]
    },
    {
     "output_type": "display_data",
     "data": {
      "text/plain": "<PIL.Image.Image image mode=RGBA size=128x128 at 0x1978F606B20>",
      "image/png": "[encoded data removed]"
     },
     "metadata": {}
    },
    {
     "output_type": "stream",
     "name": "stdout",
     "text": [
      "-------------\n"
     ]
    },
    {
     "output_type": "display_data",
     "data": {
      "text/plain": "<PIL.Image.Image image mode=RGBA size=128x128 at 0x1978F6063D0>",
      "image/png": "[encoded data removed]"
     },
     "metadata": {}
    },
    {
     "output_type": "stream",
     "name": "stdout",
     "text": [
      "20\n",
      "Epoch 3166 \t reward: 10.5 \t length 5 \t mean_length 5.47 \t epsilon 0.08\n",
      "Epoch 3167 \t reward: -0.5 \t length 1 \t mean_length 5.44 \t epsilon 0.08\n",
      "Epoch 3168 \t reward: 24.0 \t length 8 \t mean_length 5.49 \t epsilon 0.08\n",
      "Epoch 3169 \t reward: 4.0 \t length 3 \t mean_length 5.5 \t epsilon 0.08\n",
      "Epoch 3170 \t reward: 24.0 \t length 8 \t mean_length 5.54 \t epsilon 0.08\n",
      "Epoch 3171 \t reward: 14.5 \t length 6 \t mean_length 5.5 \t epsilon 0.08\n",
      "Epoch 3172 \t reward: 7.0 \t length 4 \t mean_length 5.47 \t epsilon 0.08\n",
      "Epoch 3173 \t reward: 10.5 \t length 5 \t mean_length 5.48 \t epsilon 0.08\n",
      "Epoch 3174 \t reward: 24.0 \t length 8 \t mean_length 5.52 \t epsilon 0.08\n",
      "Epoch 3175 \t reward: 10.5 \t length 5 \t mean_length 5.6 \t epsilon 0.08\n",
      "Epoch 3176 \t reward: 7.0 \t length 4 \t mean_length 5.56 \t epsilon 0.08\n",
      "Epoch 3177 \t reward: 14.5 \t length 6 \t mean_length 5.6 \t epsilon 0.08\n",
      "Epoch 3178 \t reward: 10.5 \t length 5 \t mean_length 5.58 \t epsilon 0.08\n",
      "Epoch 3179 \t reward: -0.5 \t length 1 \t mean_length 5.66 \t epsilon 0.08\n",
      "Epoch 3180 \t reward: 14.5 \t length 6 \t mean_length 5.66 \t epsilon 0.08\n",
      "Epoch 3181 \t reward: -0.5 \t length 1 \t mean_length 5.66 \t epsilon 0.08\n",
      "Epoch 3182 \t reward: 4.0 \t length 3 \t mean_length 5.6 \t epsilon 0.08\n",
      "Epoch 3183 \t reward: 14.5 \t length 6 \t mean_length 5.7 \t epsilon 0.08\n",
      "Epoch 3184 \t reward: 7.0 \t length 4 \t mean_length 5.66 \t epsilon 0.08\n",
      "Epoch 3185 \t reward: 14.5 \t length 6 \t mean_length 5.64 \t epsilon 0.08\n",
      "Epoch 3186 \t reward: 24.0 \t length 8 \t mean_length 5.68 \t epsilon 0.08\n",
      "Epoch 3187 \t reward: 29.5 \t length 9 \t mean_length 5.74 \t epsilon 0.08\n",
      "Epoch 3188 \t reward: 10.5 \t length 5 \t mean_length 5.72 \t epsilon 0.08\n",
      "Epoch 3189 \t reward: 7.0 \t length 4 \t mean_length 5.72 \t epsilon 0.08\n",
      "Epoch 3190 \t reward: 10.5 \t length 5 \t mean_length 5.7 \t epsilon 0.08\n",
      "Epoch 3191 \t reward: 19.0 \t length 7 \t mean_length 5.72 \t epsilon 0.08\n",
      "Epoch 3192 \t reward: 24.0 \t length 8 \t mean_length 5.76 \t epsilon 0.08\n",
      "Epoch 3193 \t reward: 19.0 \t length 7 \t mean_length 5.76 \t epsilon 0.08\n",
      "Epoch 3194 \t reward: 10.5 \t length 5 \t mean_length 5.74 \t epsilon 0.08\n",
      "Epoch 3195 \t reward: 14.5 \t length 6 \t mean_length 5.74 \t epsilon 0.08\n",
      "Epoch 3196 \t reward: 4.0 \t length 3 \t mean_length 5.68 \t epsilon 0.08\n",
      "Epoch 3197 \t reward: 19.0 \t length 7 \t mean_length 5.74 \t epsilon 0.08\n",
      "Epoch 3198 \t reward: 14.5 \t length 6 \t mean_length 5.74 \t epsilon 0.08\n",
      "Epoch 3199 \t reward: 1.5 \t length 2 \t mean_length 5.74 \t epsilon 0.08\n",
      "Epoch 3200 \t reward: -0.5 \t length 1 \t mean_length 5.64 \t epsilon 0.08\n",
      "Epoch 3201 \t reward: 14.5 \t length 6 \t mean_length 5.6 \t epsilon 0.08\n",
      "Epoch 3202 \t reward: 14.5 \t length 6 \t mean_length 5.6 \t epsilon 0.08\n",
      "Epoch 3203 \t reward: 10.5 \t length 5 \t mean_length 5.58 \t epsilon 0.08\n",
      "Epoch 3204 \t reward: 19.0 \t length 7 \t mean_length 5.6 \t epsilon 0.08\n",
      "Epoch 3205 \t reward: 1.5 \t length 2 \t mean_length 5.6 \t epsilon 0.08\n",
      "Epoch 3206 \t reward: 35.5 \t length 10 \t mean_length 5.68 \t epsilon 0.08\n",
      "Epoch 3207 \t reward: 1.5 \t length 2 \t mean_length 5.72 \t epsilon 0.08\n",
      "Epoch 3208 \t reward: 14.5 \t length 6 \t mean_length 5.72 \t epsilon 0.08\n",
      "Epoch 3209 \t reward: -0.5 \t length 1 \t mean_length 5.72 \t epsilon 0.08\n",
      "Epoch 3210 \t reward: 4.0 \t length 3 \t mean_length 5.66 \t epsilon 0.08\n",
      "Epoch 3211 \t reward: -0.5 \t length 1 \t mean_length 5.6 \t epsilon 0.08\n",
      "Epoch 3212 \t reward: 10.5 \t length 5 \t mean_length 5.58 \t epsilon 0.08\n",
      "Epoch 3213 \t reward: 7.0 \t length 4 \t mean_length 5.64 \t epsilon 0.08\n",
      "Epoch 3214 \t reward: 10.5 \t length 5 \t mean_length 5.62 \t epsilon 0.08\n",
      "Epoch 3215 \t reward: -0.5 \t length 1 \t mean_length 5.64 \t epsilon 0.08\n",
      "Epoch 3216 \t reward: 7.0 \t length 4 \t mean_length 5.6 \t epsilon 0.08\n",
      "Epoch 3217 \t reward: -0.5 \t length 1 \t mean_length 5.58 \t epsilon 0.08\n",
      "Epoch 3218 \t reward: 10.5 \t length 5 \t mean_length 5.56 \t epsilon 0.08\n",
      "Epoch 3219 \t reward: 1.5 \t length 2 \t mean_length 5.56 \t epsilon 0.08\n",
      "Epoch 3220 \t reward: 10.5 \t length 5 \t mean_length 5.54 \t epsilon 0.08\n",
      "Epoch 3221 \t reward: 10.5 \t length 5 \t mean_length 5.46 \t epsilon 0.08\n",
      "Epoch 3222 \t reward: 14.5 \t length 6 \t mean_length 5.47 \t epsilon 0.08\n",
      "Epoch 3223 \t reward: 10.5 \t length 5 \t mean_length 5.46 \t epsilon 0.08\n",
      "Epoch 3224 \t reward: 14.5 \t length 6 \t mean_length 5.47 \t epsilon 0.08\n",
      "Epoch 3225 \t reward: 7.0 \t length 4 \t mean_length 5.5 \t epsilon 0.08\n",
      "Epoch 3226 \t reward: -0.5 \t length 1 \t mean_length 5.41 \t epsilon 0.08\n",
      "Epoch 3227 \t reward: 10.5 \t length 5 \t mean_length 5.42 \t epsilon 0.08\n",
      "Epoch 3228 \t reward: 24.0 \t length 8 \t mean_length 5.47 \t epsilon 0.08\n",
      "Epoch 3229 \t reward: 10.5 \t length 5 \t mean_length 5.56 \t epsilon 0.08\n",
      "Epoch 3230 \t reward: 14.5 \t length 6 \t mean_length 5.56 \t epsilon 0.08\n",
      "Epoch 3231 \t reward: 14.5 \t length 6 \t mean_length 5.6 \t epsilon 0.08\n",
      "Epoch 3232 \t reward: 24.0 \t length 8 \t mean_length 5.64 \t epsilon 0.08\n",
      "Epoch 3233 \t reward: 1.5 \t length 2 \t mean_length 5.64 \t epsilon 0.08\n",
      "Epoch 3234 \t reward: 14.5 \t length 6 \t mean_length 5.64 \t epsilon 0.08\n",
      "Epoch 3235 \t reward: 7.0 \t length 4 \t mean_length 5.66 \t epsilon 0.08\n",
      "Epoch 3236 \t reward: -0.5 \t length 1 \t mean_length 5.56 \t epsilon 0.08\n",
      "Epoch 3237 \t reward: 10.5 \t length 5 \t mean_length 5.5 \t epsilon 0.08\n",
      "Epoch 3238 \t reward: 19.0 \t length 7 \t mean_length 5.52 \t epsilon 0.08\n",
      "Epoch 3239 \t reward: 14.5 \t length 6 \t mean_length 5.56 \t epsilon 0.08\n",
      "Epoch 3240 \t reward: 19.0 \t length 7 \t mean_length 5.58 \t epsilon 0.08\n",
      "Epoch 3241 \t reward: 10.5 \t length 5 \t mean_length 5.56 \t epsilon 0.08\n",
      "Epoch 3242 \t reward: 4.0 \t length 3 \t mean_length 5.5 \t epsilon 0.08\n",
      "Epoch 3243 \t reward: 24.0 \t length 8 \t mean_length 5.48 \t epsilon 0.08\n",
      "Epoch 3244 \t reward: 4.0 \t length 3 \t mean_length 5.43 \t epsilon 0.08\n",
      "Epoch 3245 \t reward: 14.5 \t length 6 \t mean_length 5.46 \t epsilon 0.08\n",
      "Epoch 3246 \t reward: 19.0 \t length 7 \t mean_length 5.49 \t epsilon 0.08\n",
      "Epoch 3247 \t reward: 14.5 \t length 6 \t mean_length 5.46 \t epsilon 0.08\n",
      "Epoch 3248 \t reward: 1.5 \t length 2 \t mean_length 5.39 \t epsilon 0.08\n",
      "Epoch 3249 \t reward: 29.5 \t length 9 \t mean_length 5.4 \t epsilon 0.08\n",
      "Epoch 3250 \t reward: 7.0 \t length 4 \t mean_length 5.37 \t epsilon 0.08\n",
      "Epoch 3251 \t reward: 4.0 \t length 3 \t mean_length 5.32 \t epsilon 0.08\n",
      "Epoch 3252 \t reward: 10.5 \t length 5 \t mean_length 5.31 \t epsilon 0.08\n",
      "Epoch 3253 \t reward: 10.5 \t length 5 \t mean_length 5.32 \t epsilon 0.08\n",
      "Epoch 3254 \t reward: 10.5 \t length 5 \t mean_length 5.31 \t epsilon 0.08\n",
      "Epoch 3255 \t reward: 10.5 \t length 5 \t mean_length 5.34 \t epsilon 0.08\n",
      "Epoch 3256 \t reward: 10.5 \t length 5 \t mean_length 5.33 \t epsilon 0.08\n",
      "Epoch 3257 \t reward: 14.5 \t length 6 \t mean_length 5.36 \t epsilon 0.08\n",
      "Epoch 3258 \t reward: 19.0 \t length 7 \t mean_length 5.39 \t epsilon 0.08\n",
      "Epoch 3259 \t reward: 19.0 \t length 7 \t mean_length 5.34 \t epsilon 0.08\n",
      "Epoch 3260 \t reward: 14.5 \t length 6 \t mean_length 5.35 \t epsilon 0.08\n",
      "Epoch 3261 \t reward: 14.5 \t length 6 \t mean_length 5.36 \t epsilon 0.08\n",
      "Epoch 3262 \t reward: 10.5 \t length 5 \t mean_length 5.35 \t epsilon 0.08\n",
      "Epoch 3263 \t reward: -0.5 \t length 1 \t mean_length 5.38 \t epsilon 0.08\n",
      "Epoch 3264 \t reward: 14.5 \t length 6 \t mean_length 5.39 \t epsilon 0.08\n",
      "Epoch 3265 \t reward: 4.0 \t length 3 \t mean_length 5.32 \t epsilon 0.08\n",
      "Q_matrix of initial state, after training: step 3201\n"
     ]
    },
    {
     "output_type": "display_data",
     "data": {
      "text/plain": "<PIL.Image.Image image mode=RGBA size=128x128 at 0x1978F6062E0>",
      "image/png": "[encoded data removed]"
     },
     "metadata": {}
    },
    {
     "output_type": "stream",
     "name": "stdout",
     "text": [
      "34\n"
     ]
    },
    {
     "output_type": "display_data",
     "data": {
      "text/plain": "<PIL.Image.Image image mode=RGBA size=128x128 at 0x1978F606250>",
      "image/png": "[encoded data removed]"
     },
     "metadata": {}
    },
    {
     "output_type": "stream",
     "name": "stdout",
     "text": [
      "-------------\n"
     ]
    },
    {
     "output_type": "display_data",
     "data": {
      "text/plain": "<PIL.Image.Image image mode=RGBA size=128x128 at 0x1978F6068E0>",
      "image/png": "[encoded data removed]"
     },
     "metadata": {}
    },
    {
     "output_type": "stream",
     "name": "stdout",
     "text": [
      "20\n",
      "Epoch 3266 \t reward: 1.5 \t length 2 \t mean_length 5.25 \t epsilon 0.08\n",
      "Epoch 3267 \t reward: 19.0 \t length 7 \t mean_length 5.26 \t epsilon 0.08\n",
      "Epoch 3268 \t reward: 4.0 \t length 3 \t mean_length 5.21 \t epsilon 0.08\n",
      "Epoch 3269 \t reward: 4.0 \t length 3 \t mean_length 5.16 \t epsilon 0.08\n",
      "Epoch 3270 \t reward: 14.5 \t length 6 \t mean_length 5.17 \t epsilon 0.08\n",
      "Epoch 3271 \t reward: 14.5 \t length 6 \t mean_length 5.12 \t epsilon 0.08\n",
      "Epoch 3272 \t reward: 7.0 \t length 4 \t mean_length 5.09 \t epsilon 0.08\n",
      "Epoch 3273 \t reward: 14.5 \t length 6 \t mean_length 5.12 \t epsilon 0.08\n",
      "Epoch 3274 \t reward: 10.5 \t length 5 \t mean_length 5.11 \t epsilon 0.08\n",
      "Epoch 3275 \t reward: 7.0 \t length 4 \t mean_length 5.05 \t epsilon 0.08\n",
      "Epoch 3276 \t reward: 14.5 \t length 6 \t mean_length 5.07 \t epsilon 0.08\n",
      "Epoch 3277 \t reward: 10.5 \t length 5 \t mean_length 5.09 \t epsilon 0.08\n",
      "Epoch 3278 \t reward: 19.0 \t length 7 \t mean_length 5.13 \t epsilon 0.08\n",
      "Epoch 3279 \t reward: 24.0 \t length 8 \t mean_length 5.14 \t epsilon 0.08\n",
      "Epoch 3280 \t reward: 1.5 \t length 2 \t mean_length 5.07 \t epsilon 0.08\n",
      "Epoch 3281 \t reward: 7.0 \t length 4 \t mean_length 5.05 \t epsilon 0.08\n",
      "Epoch 3282 \t reward: 4.0 \t length 3 \t mean_length 5.01 \t epsilon 0.08\n",
      "Epoch 3283 \t reward: 7.0 \t length 4 \t mean_length 5.05 \t epsilon 0.08\n",
      "Epoch 3284 \t reward: 1.5 \t length 2 \t mean_length 5.0 \t epsilon 0.08\n",
      "Epoch 3285 \t reward: -0.5 \t length 1 \t mean_length 5.01 \t epsilon 0.08\n",
      "Epoch 3286 \t reward: -0.5 \t length 1 \t mean_length 4.94 \t epsilon 0.08\n",
      "Epoch 3287 \t reward: 14.5 \t length 6 \t mean_length 4.88 \t epsilon 0.08\n",
      "Epoch 3288 \t reward: -0.5 \t length 1 \t mean_length 4.8 \t epsilon 0.08\n",
      "Epoch 3289 \t reward: 14.5 \t length 6 \t mean_length 4.8 \t epsilon 0.08\n",
      "Epoch 3290 \t reward: 19.0 \t length 7 \t mean_length 4.84 \t epsilon 0.08\n",
      "Epoch 3291 \t reward: 1.5 \t length 2 \t mean_length 4.84 \t epsilon 0.08\n",
      "Epoch 3292 \t reward: 19.0 \t length 7 \t mean_length 4.88 \t epsilon 0.08\n",
      "Epoch 3293 \t reward: 29.5 \t length 9 \t mean_length 4.82 \t epsilon 0.08\n",
      "Epoch 3294 \t reward: 14.5 \t length 6 \t mean_length 4.84 \t epsilon 0.08\n",
      "Epoch 3295 \t reward: 1.5 \t length 2 \t mean_length 4.84 \t epsilon 0.08\n",
      "Epoch 3296 \t reward: 4.0 \t length 3 \t mean_length 4.8 \t epsilon 0.08\n",
      "Epoch 3297 \t reward: 24.0 \t length 8 \t mean_length 4.84 \t epsilon 0.08\n",
      "Epoch 3298 \t reward: 4.0 \t length 3 \t mean_length 4.8 \t epsilon 0.08\n",
      "Epoch 3299 \t reward: 1.5 \t length 2 \t mean_length 4.78 \t epsilon 0.08\n",
      "Epoch 3300 \t reward: 4.0 \t length 3 \t mean_length 4.74 \t epsilon 0.08\n",
      "Epoch 3301 \t reward: 19.0 \t length 7 \t mean_length 4.82 \t epsilon 0.08\n",
      "Epoch 3302 \t reward: 14.5 \t length 6 \t mean_length 4.84 \t epsilon 0.08\n",
      "Epoch 3303 \t reward: 7.0 \t length 4 \t mean_length 4.82 \t epsilon 0.08\n",
      "Epoch 3304 \t reward: 19.0 \t length 7 \t mean_length 4.86 \t epsilon 0.08\n",
      "Epoch 3305 \t reward: 4.0 \t length 3 \t mean_length 4.82 \t epsilon 0.08\n",
      "Epoch 3306 \t reward: 4.0 \t length 3 \t mean_length 4.78 \t epsilon 0.08\n",
      "Epoch 3307 \t reward: 10.5 \t length 5 \t mean_length 4.68 \t epsilon 0.08\n",
      "Epoch 3308 \t reward: 24.0 \t length 8 \t mean_length 4.74 \t epsilon 0.08\n",
      "Epoch 3309 \t reward: 7.0 \t length 4 \t mean_length 4.72 \t epsilon 0.08\n",
      "Epoch 3310 \t reward: 10.5 \t length 5 \t mean_length 4.72 \t epsilon 0.08\n",
      "Epoch 3311 \t reward: 14.5 \t length 6 \t mean_length 4.76 \t epsilon 0.08\n",
      "Epoch 3312 \t reward: 14.5 \t length 6 \t mean_length 4.78 \t epsilon 0.08\n",
      "Epoch 3313 \t reward: 19.0 \t length 7 \t mean_length 4.78 \t epsilon 0.08\n",
      "Epoch 3314 \t reward: 35.5 \t length 10 \t mean_length 4.88 \t epsilon 0.08\n",
      "Epoch 3315 \t reward: 1.5 \t length 2 \t mean_length 4.88 \t epsilon 0.08\n",
      "Epoch 3316 \t reward: 19.0 \t length 7 \t mean_length 4.92 \t epsilon 0.08\n",
      "Epoch 3317 \t reward: 19.0 \t length 7 \t mean_length 4.94 \t epsilon 0.08\n",
      "Epoch 3318 \t reward: 10.5 \t length 5 \t mean_length 4.94 \t epsilon 0.08\n",
      "Epoch 3319 \t reward: 19.0 \t length 7 \t mean_length 4.94 \t epsilon 0.08\n",
      "Epoch 3320 \t reward: 7.0 \t length 4 \t mean_length 4.92 \t epsilon 0.08\n",
      "Epoch 3321 \t reward: 19.0 \t length 7 \t mean_length 4.92 \t epsilon 0.08\n",
      "Epoch 3322 \t reward: 19.0 \t length 7 \t mean_length 4.96 \t epsilon 0.08\n",
      "Epoch 3323 \t reward: 14.5 \t length 6 \t mean_length 4.94 \t epsilon 0.08\n",
      "Epoch 3324 \t reward: 19.0 \t length 7 \t mean_length 4.98 \t epsilon 0.08\n",
      "Epoch 3325 \t reward: 4.0 \t length 3 \t mean_length 4.96 \t epsilon 0.08\n",
      "Epoch 3326 \t reward: 14.5 \t length 6 \t mean_length 4.98 \t epsilon 0.08\n",
      "Epoch 3327 \t reward: 1.5 \t length 2 \t mean_length 5.05 \t epsilon 0.08\n",
      "Epoch 3328 \t reward: 10.5 \t length 5 \t mean_length 5.05 \t epsilon 0.08\n",
      "Epoch 3329 \t reward: 1.5 \t length 2 \t mean_length 5.0 \t epsilon 0.08\n",
      "Epoch 3330 \t reward: 7.0 \t length 4 \t mean_length 4.98 \t epsilon 0.08\n",
      "Epoch 3331 \t reward: 4.0 \t length 3 \t mean_length 4.96 \t epsilon 0.08\n",
      "Epoch 3332 \t reward: -0.5 \t length 1 \t mean_length 4.88 \t epsilon 0.08\n",
      "Epoch 3333 \t reward: 1.5 \t length 2 \t mean_length 4.82 \t epsilon 0.08\n",
      "Epoch 3334 \t reward: 14.5 \t length 6 \t mean_length 4.84 \t epsilon 0.08\n",
      "Epoch 3335 \t reward: 14.5 \t length 6 \t mean_length 4.82 \t epsilon 0.08\n",
      "Epoch 3336 \t reward: 24.0 \t length 8 \t mean_length 4.88 \t epsilon 0.08\n",
      "Epoch 3337 \t reward: 10.5 \t length 5 \t mean_length 4.96 \t epsilon 0.08\n",
      "Epoch 3338 \t reward: 19.0 \t length 7 \t mean_length 5.0 \t epsilon 0.08\n",
      "Epoch 3339 \t reward: 19.0 \t length 7 \t mean_length 4.96 \t epsilon 0.08\n",
      "Epoch 3340 \t reward: 24.0 \t length 8 \t mean_length 5.01 \t epsilon 0.08\n",
      "Epoch 3341 \t reward: 24.0 \t length 8 \t mean_length 4.98 \t epsilon 0.08\n",
      "Epoch 3342 \t reward: 14.5 \t length 6 \t mean_length 5.0 \t epsilon 0.08\n",
      "Epoch 3343 \t reward: 10.5 \t length 5 \t mean_length 5.04 \t epsilon 0.08\n",
      "Epoch 3344 \t reward: 7.0 \t length 4 \t mean_length 5.01 \t epsilon 0.08\n",
      "Epoch 3345 \t reward: 4.0 \t length 3 \t mean_length 5.05 \t epsilon 0.08\n",
      "Epoch 3346 \t reward: 14.5 \t length 6 \t mean_length 5.07 \t epsilon 0.08\n",
      "Epoch 3347 \t reward: 19.0 \t length 7 \t mean_length 5.04 \t epsilon 0.08\n",
      "Epoch 3348 \t reward: 1.5 \t length 2 \t mean_length 4.98 \t epsilon 0.08\n",
      "Epoch 3349 \t reward: 14.5 \t length 6 \t mean_length 5.04 \t epsilon 0.08\n",
      "Epoch 3350 \t reward: 19.0 \t length 7 \t mean_length 5.07 \t epsilon 0.08\n",
      "Epoch 3351 \t reward: 10.5 \t length 5 \t mean_length 5.09 \t epsilon 0.08\n",
      "Epoch 3352 \t reward: 19.0 \t length 7 \t mean_length 5.13 \t epsilon 0.08\n",
      "Epoch 3353 \t reward: 14.5 \t length 6 \t mean_length 5.14 \t epsilon 0.08\n",
      "Epoch 3354 \t reward: 4.0 \t length 3 \t mean_length 5.09 \t epsilon 0.08\n",
      "Epoch 3355 \t reward: 14.5 \t length 6 \t mean_length 5.09 \t epsilon 0.08\n",
      "Epoch 3356 \t reward: 7.0 \t length 4 \t mean_length 5.07 \t epsilon 0.08\n",
      "Epoch 3357 \t reward: 10.5 \t length 5 \t mean_length 5.08 \t epsilon 0.08\n",
      "Epoch 3358 \t reward: 10.5 \t length 5 \t mean_length 5.07 \t epsilon 0.08\n",
      "Epoch 3359 \t reward: 14.5 \t length 6 \t mean_length 5.04 \t epsilon 0.08\n",
      "Epoch 3360 \t reward: 14.5 \t length 6 \t mean_length 5.05 \t epsilon 0.08\n",
      "Epoch 3361 \t reward: 4.0 \t length 3 \t mean_length 5.04 \t epsilon 0.08\n",
      "Epoch 3362 \t reward: 14.5 \t length 6 \t mean_length 5.05 \t epsilon 0.08\n",
      "Epoch 3363 \t reward: 19.0 \t length 7 \t mean_length 5.05 \t epsilon 0.08\n",
      "Epoch 3364 \t reward: 24.0 \t length 8 \t mean_length 5.11 \t epsilon 0.08\n",
      "Epoch 3365 \t reward: 4.0 \t length 3 \t mean_length 5.09 \t epsilon 0.08\n",
      "Q_matrix of initial state, after training: step 3301\n"
     ]
    },
    {
     "output_type": "display_data",
     "data": {
      "text/plain": "<PIL.Image.Image image mode=RGBA size=128x128 at 0x1978F606CD0>",
      "image/png": "[encoded data removed]"
     },
     "metadata": {}
    },
    {
     "output_type": "stream",
     "name": "stdout",
     "text": [
      "20\n"
     ]
    },
    {
     "output_type": "display_data",
     "data": {
      "text/plain": "<PIL.Image.Image image mode=RGBA size=128x128 at 0x1978F606CD0>",
      "image/png": "[encoded data removed]"
     },
     "metadata": {}
    },
    {
     "output_type": "stream",
     "name": "stdout",
     "text": [
      "-------------\n"
     ]
    },
    {
     "output_type": "display_data",
     "data": {
      "text/plain": "<PIL.Image.Image image mode=RGBA size=128x128 at 0x1978F606700>",
      "image/png": "[encoded data removed]"
     },
     "metadata": {}
    },
    {
     "output_type": "stream",
     "name": "stdout",
     "text": [
      "34\n",
      "Epoch 3366 \t reward: 14.5 \t length 6 \t mean_length 5.11 \t epsilon 0.08\n",
      "Epoch 3367 \t reward: 24.0 \t length 8 \t mean_length 5.18 \t epsilon 0.08\n",
      "Epoch 3368 \t reward: 14.5 \t length 6 \t mean_length 5.19 \t epsilon 0.08\n",
      "Epoch 3369 \t reward: 7.0 \t length 4 \t mean_length 5.24 \t epsilon 0.08\n",
      "Epoch 3370 \t reward: 14.5 \t length 6 \t mean_length 5.25 \t epsilon 0.08\n",
      "Epoch 3371 \t reward: -0.5 \t length 1 \t mean_length 5.24 \t epsilon 0.08\n",
      "Epoch 3372 \t reward: 14.5 \t length 6 \t mean_length 5.25 \t epsilon 0.08\n",
      "Epoch 3373 \t reward: 7.0 \t length 4 \t mean_length 5.28 \t epsilon 0.08\n",
      "Epoch 3374 \t reward: 19.0 \t length 7 \t mean_length 5.31 \t epsilon 0.08\n",
      "Epoch 3375 \t reward: 24.0 \t length 8 \t mean_length 5.32 \t epsilon 0.08\n",
      "Epoch 3376 \t reward: 10.5 \t length 5 \t mean_length 5.31 \t epsilon 0.08\n",
      "Epoch 3377 \t reward: 10.5 \t length 5 \t mean_length 5.3 \t epsilon 0.08\n",
      "Epoch 3378 \t reward: 1.5 \t length 2 \t mean_length 5.23 \t epsilon 0.08\n",
      "Epoch 3379 \t reward: 19.0 \t length 7 \t mean_length 5.2 \t epsilon 0.08\n",
      "Epoch 3380 \t reward: 1.5 \t length 2 \t mean_length 5.13 \t epsilon 0.08\n",
      "Epoch 3381 \t reward: 24.0 \t length 8 \t mean_length 5.2 \t epsilon 0.08\n",
      "Epoch 3382 \t reward: 19.0 \t length 7 \t mean_length 5.23 \t epsilon 0.08\n",
      "Epoch 3383 \t reward: 10.5 \t length 5 \t mean_length 5.28 \t epsilon 0.08\n",
      "Epoch 3384 \t reward: 14.5 \t length 6 \t mean_length 5.29 \t epsilon 0.08\n",
      "Epoch 3385 \t reward: 7.0 \t length 4 \t mean_length 5.36 \t epsilon 0.08\n",
      "Epoch 3386 \t reward: 29.5 \t length 9 \t mean_length 5.43 \t epsilon 0.08\n",
      "Epoch 3387 \t reward: 19.0 \t length 7 \t mean_length 5.52 \t epsilon 0.08\n",
      "Epoch 3388 \t reward: 10.5 \t length 5 \t mean_length 5.5 \t epsilon 0.08\n",
      "Epoch 3389 \t reward: 10.5 \t length 5 \t mean_length 5.6 \t epsilon 0.08\n",
      "Epoch 3390 \t reward: 14.5 \t length 6 \t mean_length 5.6 \t epsilon 0.08\n",
      "Epoch 3391 \t reward: 24.0 \t length 8 \t mean_length 5.58 \t epsilon 0.08\n",
      "Epoch 3392 \t reward: 19.0 \t length 7 \t mean_length 5.6 \t epsilon 0.08\n",
      "Epoch 3393 \t reward: 4.0 \t length 3 \t mean_length 5.58 \t epsilon 0.08\n",
      "Epoch 3394 \t reward: 4.0 \t length 3 \t mean_length 5.52 \t epsilon 0.08\n",
      "Epoch 3395 \t reward: 19.0 \t length 7 \t mean_length 5.52 \t epsilon 0.08\n",
      "Epoch 3396 \t reward: -0.5 \t length 1 \t mean_length 5.43 \t epsilon 0.08\n",
      "Epoch 3397 \t reward: 10.5 \t length 5 \t mean_length 5.48 \t epsilon 0.08\n",
      "Epoch 3398 \t reward: 10.5 \t length 5 \t mean_length 5.47 \t epsilon 0.08\n",
      "Epoch 3399 \t reward: -0.5 \t length 1 \t mean_length 5.52 \t epsilon 0.08\n",
      "Epoch 3400 \t reward: 7.0 \t length 4 \t mean_length 5.49 \t epsilon 0.08\n",
      "Epoch 3401 \t reward: 10.5 \t length 5 \t mean_length 5.54 \t epsilon 0.08\n",
      "Epoch 3402 \t reward: 10.5 \t length 5 \t mean_length 5.52 \t epsilon 0.08\n",
      "Epoch 3403 \t reward: 24.0 \t length 8 \t mean_length 5.52 \t epsilon 0.08\n",
      "Epoch 3404 \t reward: 19.0 \t length 7 \t mean_length 5.54 \t epsilon 0.08\n",
      "Epoch 3405 \t reward: 24.0 \t length 8 \t mean_length 5.52 \t epsilon 0.08\n",
      "Epoch 3406 \t reward: 14.5 \t length 6 \t mean_length 5.52 \t epsilon 0.08\n",
      "Epoch 3407 \t reward: 10.5 \t length 5 \t mean_length 5.58 \t epsilon 0.08\n",
      "Epoch 3408 \t reward: 19.0 \t length 7 \t mean_length 5.6 \t epsilon 0.08\n",
      "Epoch 3409 \t reward: 19.0 \t length 7 \t mean_length 5.56 \t epsilon 0.08\n",
      "Epoch 3410 \t reward: 7.0 \t length 4 \t mean_length 5.52 \t epsilon 0.08\n",
      "Epoch 3411 \t reward: 14.5 \t length 6 \t mean_length 5.54 \t epsilon 0.08\n",
      "Epoch 3412 \t reward: 10.5 \t length 5 \t mean_length 5.52 \t epsilon 0.08\n",
      "Epoch 3413 \t reward: 24.0 \t length 8 \t mean_length 5.52 \t epsilon 0.08\n",
      "Epoch 3414 \t reward: 4.0 \t length 3 \t mean_length 5.47 \t epsilon 0.08\n",
      "Epoch 3415 \t reward: 14.5 \t length 6 \t mean_length 5.38 \t epsilon 0.08\n",
      "Epoch 3416 \t reward: 7.0 \t length 4 \t mean_length 5.35 \t epsilon 0.08\n",
      "Epoch 3417 \t reward: -0.5 \t length 1 \t mean_length 5.32 \t epsilon 0.08\n",
      "Epoch 3418 \t reward: 19.0 \t length 7 \t mean_length 5.35 \t epsilon 0.08\n",
      "Epoch 3419 \t reward: 24.0 \t length 8 \t mean_length 5.36 \t epsilon 0.08\n",
      "Epoch 3420 \t reward: 14.5 \t length 6 \t mean_length 5.37 \t epsilon 0.08\n",
      "Epoch 3421 \t reward: 19.0 \t length 7 \t mean_length 5.4 \t epsilon 0.08\n",
      "Epoch 3422 \t reward: 7.0 \t length 4 \t mean_length 5.37 \t epsilon 0.08\n",
      "Epoch 3423 \t reward: -0.5 \t length 1 \t mean_length 5.34 \t epsilon 0.08\n",
      "Epoch 3424 \t reward: 10.5 \t length 5 \t mean_length 5.33 \t epsilon 0.08\n",
      "Epoch 3425 \t reward: 7.0 \t length 4 \t mean_length 5.3 \t epsilon 0.07\n",
      "Epoch 3426 \t reward: 14.5 \t length 6 \t mean_length 5.31 \t epsilon 0.07\n",
      "Epoch 3427 \t reward: 29.5 \t length 9 \t mean_length 5.3 \t epsilon 0.07\n",
      "Epoch 3428 \t reward: 14.5 \t length 6 \t mean_length 5.31 \t epsilon 0.07\n",
      "Epoch 3429 \t reward: 7.0 \t length 4 \t mean_length 5.32 \t epsilon 0.07\n",
      "Epoch 3430 \t reward: 1.5 \t length 2 \t mean_length 5.25 \t epsilon 0.07\n",
      "Epoch 3431 \t reward: 29.5 \t length 9 \t mean_length 5.28 \t epsilon 0.07\n",
      "Epoch 3432 \t reward: 19.0 \t length 7 \t mean_length 5.31 \t epsilon 0.07\n",
      "Epoch 3433 \t reward: 29.5 \t length 9 \t mean_length 5.4 \t epsilon 0.07\n",
      "Epoch 3434 \t reward: 4.0 \t length 3 \t mean_length 5.35 \t epsilon 0.07\n",
      "Epoch 3435 \t reward: 1.5 \t length 2 \t mean_length 5.34 \t epsilon 0.07\n",
      "Epoch 3436 \t reward: 24.0 \t length 8 \t mean_length 5.39 \t epsilon 0.07\n",
      "Epoch 3437 \t reward: 14.5 \t length 6 \t mean_length 5.34 \t epsilon 0.07\n",
      "Epoch 3438 \t reward: 14.5 \t length 6 \t mean_length 5.35 \t epsilon 0.07\n",
      "Epoch 3439 \t reward: -0.5 \t length 1 \t mean_length 5.32 \t epsilon 0.07\n",
      "Epoch 3440 \t reward: 19.0 \t length 7 \t mean_length 5.35 \t epsilon 0.07\n",
      "Epoch 3441 \t reward: 1.5 \t length 2 \t mean_length 5.3 \t epsilon 0.07\n",
      "Epoch 3442 \t reward: 7.0 \t length 4 \t mean_length 5.27 \t epsilon 0.07\n",
      "Epoch 3443 \t reward: 10.5 \t length 5 \t mean_length 5.26 \t epsilon 0.07\n",
      "Epoch 3444 \t reward: 14.5 \t length 6 \t mean_length 5.27 \t epsilon 0.07\n",
      "Epoch 3445 \t reward: 10.5 \t length 5 \t mean_length 5.3 \t epsilon 0.07\n",
      "Epoch 3446 \t reward: 10.5 \t length 5 \t mean_length 5.29 \t epsilon 0.07\n",
      "Epoch 3447 \t reward: 1.5 \t length 2 \t mean_length 5.28 \t epsilon 0.07\n",
      "Epoch 3448 \t reward: -0.5 \t length 1 \t mean_length 5.19 \t epsilon 0.07\n",
      "Epoch 3449 \t reward: 4.0 \t length 3 \t mean_length 5.26 \t epsilon 0.07\n",
      "Epoch 3450 \t reward: 19.0 \t length 7 \t mean_length 5.29 \t epsilon 0.07\n",
      "Epoch 3451 \t reward: 4.0 \t length 3 \t mean_length 5.26 \t epsilon 0.07\n",
      "Epoch 3452 \t reward: 10.5 \t length 5 \t mean_length 5.25 \t epsilon 0.07\n",
      "Epoch 3453 \t reward: 10.5 \t length 5 \t mean_length 5.22 \t epsilon 0.07\n",
      "Epoch 3454 \t reward: 19.0 \t length 7 \t mean_length 5.25 \t epsilon 0.07\n",
      "Epoch 3455 \t reward: 1.5 \t length 2 \t mean_length 5.3 \t epsilon 0.07\n",
      "Epoch 3456 \t reward: 19.0 \t length 7 \t mean_length 5.33 \t epsilon 0.07\n",
      "Epoch 3457 \t reward: 4.0 \t length 3 \t mean_length 5.36 \t epsilon 0.07\n",
      "Epoch 3458 \t reward: 10.5 \t length 5 \t mean_length 5.35 \t epsilon 0.07\n",
      "Epoch 3459 \t reward: 1.5 \t length 2 \t mean_length 5.36 \t epsilon 0.07\n",
      "Epoch 3460 \t reward: 4.0 \t length 3 \t mean_length 5.31 \t epsilon 0.07\n",
      "Epoch 3461 \t reward: 24.0 \t length 8 \t mean_length 5.3 \t epsilon 0.07\n",
      "Epoch 3462 \t reward: 14.5 \t length 6 \t mean_length 5.31 \t epsilon 0.07\n",
      "Epoch 3463 \t reward: 14.5 \t length 6 \t mean_length 5.3 \t epsilon 0.07\n",
      "Epoch 3464 \t reward: 19.0 \t length 7 \t mean_length 5.33 \t epsilon 0.07\n",
      "Epoch 3465 \t reward: 10.5 \t length 5 \t mean_length 5.28 \t epsilon 0.07\n",
      "Q_matrix of initial state, after training: step 3401\n"
     ]
    },
    {
     "output_type": "display_data",
     "data": {
      "text/plain": "<PIL.Image.Image image mode=RGBA size=128x128 at 0x1978F606460>",
      "image/png": "[encoded data removed]"
     },
     "metadata": {}
    },
    {
     "output_type": "stream",
     "name": "stdout",
     "text": [
      "20\n"
     ]
    },
    {
     "output_type": "display_data",
     "data": {
      "text/plain": "<PIL.Image.Image image mode=RGBA size=128x128 at 0x1978F606460>",
      "image/png": "[encoded data removed]"
     },
     "metadata": {}
    },
    {
     "output_type": "stream",
     "name": "stdout",
     "text": [
      "-------------\n"
     ]
    },
    {
     "output_type": "display_data",
     "data": {
      "text/plain": "<PIL.Image.Image image mode=RGBA size=128x128 at 0x1978F606AF0>",
      "image/png": "[encoded data removed]"
     },
     "metadata": {}
    },
    {
     "output_type": "stream",
     "name": "stdout",
     "text": [
      "42\n",
      "Epoch 3466 \t reward: 7.0 \t length 4 \t mean_length 5.25 \t epsilon 0.07\n",
      "Epoch 3467 \t reward: 14.5 \t length 6 \t mean_length 5.24 \t epsilon 0.07\n",
      "Epoch 3468 \t reward: 10.5 \t length 5 \t mean_length 5.23 \t epsilon 0.07\n",
      "Epoch 3469 \t reward: 24.0 \t length 8 \t mean_length 5.22 \t epsilon 0.07\n",
      "Epoch 3470 \t reward: 14.5 \t length 6 \t mean_length 5.23 \t epsilon 0.07\n",
      "Epoch 3471 \t reward: 24.0 \t length 8 \t mean_length 5.22 \t epsilon 0.07\n",
      "Epoch 3472 \t reward: 7.0 \t length 4 \t mean_length 5.19 \t epsilon 0.07\n",
      "Epoch 3473 \t reward: 19.0 \t length 7 \t mean_length 5.18 \t epsilon 0.07\n",
      "Epoch 3474 \t reward: 14.5 \t length 6 \t mean_length 5.19 \t epsilon 0.07\n",
      "Epoch 3475 \t reward: 10.5 \t length 5 \t mean_length 5.16 \t epsilon 0.07\n",
      "Epoch 3476 \t reward: 7.0 \t length 4 \t mean_length 5.13 \t epsilon 0.07\n",
      "Epoch 3477 \t reward: 7.0 \t length 4 \t mean_length 5.14 \t epsilon 0.07\n",
      "Epoch 3478 \t reward: 14.5 \t length 6 \t mean_length 5.15 \t epsilon 0.07\n",
      "Epoch 3479 \t reward: 19.0 \t length 7 \t mean_length 5.22 \t epsilon 0.07\n",
      "Epoch 3480 \t reward: 19.0 \t length 7 \t mean_length 5.25 \t epsilon 0.07\n",
      "Epoch 3481 \t reward: 19.0 \t length 7 \t mean_length 5.32 \t epsilon 0.07\n",
      "Epoch 3482 \t reward: 14.5 \t length 6 \t mean_length 5.33 \t epsilon 0.07\n",
      "Epoch 3483 \t reward: 14.5 \t length 6 \t mean_length 5.3 \t epsilon 0.07\n",
      "Epoch 3484 \t reward: 19.0 \t length 7 \t mean_length 5.33 \t epsilon 0.07\n",
      "Epoch 3485 \t reward: 1.5 \t length 2 \t mean_length 5.32 \t epsilon 0.07\n",
      "Epoch 3486 \t reward: 14.5 \t length 6 \t mean_length 5.33 \t epsilon 0.07\n",
      "Epoch 3487 \t reward: 14.5 \t length 6 \t mean_length 5.26 \t epsilon 0.07\n",
      "Epoch 3488 \t reward: -0.5 \t length 1 \t mean_length 5.17 \t epsilon 0.07\n",
      "Epoch 3489 \t reward: 10.5 \t length 5 \t mean_length 5.18 \t epsilon 0.07\n",
      "Epoch 3490 \t reward: 1.5 \t length 2 \t mean_length 5.11 \t epsilon 0.07\n",
      "Epoch 3491 \t reward: 19.0 \t length 7 \t mean_length 5.09 \t epsilon 0.07\n",
      "Epoch 3492 \t reward: 1.5 \t length 2 \t mean_length 5.03 \t epsilon 0.07\n",
      "Epoch 3493 \t reward: -0.5 \t length 1 \t mean_length 5.0 \t epsilon 0.07\n",
      "Epoch 3494 \t reward: -0.5 \t length 1 \t mean_length 4.92 \t epsilon 0.07\n",
      "Epoch 3495 \t reward: 7.0 \t length 4 \t mean_length 4.96 \t epsilon 0.07\n",
      "Epoch 3496 \t reward: 7.0 \t length 4 \t mean_length 4.94 \t epsilon 0.07\n",
      "Epoch 3497 \t reward: 1.5 \t length 2 \t mean_length 5.01 \t epsilon 0.07\n",
      "Epoch 3498 \t reward: 7.0 \t length 4 \t mean_length 5.0 \t epsilon 0.07\n",
      "Epoch 3499 \t reward: 1.5 \t length 2 \t mean_length 5.0 \t epsilon 0.07\n",
      "Epoch 3500 \t reward: 14.5 \t length 6 \t mean_length 5.01 \t epsilon 0.07\n",
      "Epoch 3501 \t reward: 4.0 \t length 3 \t mean_length 5.04 \t epsilon 0.07\n",
      "Epoch 3502 \t reward: 1.5 \t length 2 \t mean_length 4.98 \t epsilon 0.07\n",
      "Epoch 3503 \t reward: 24.0 \t length 8 \t mean_length 4.98 \t epsilon 0.07\n",
      "Epoch 3504 \t reward: -0.5 \t length 1 \t mean_length 4.9 \t epsilon 0.07\n",
      "Epoch 3505 \t reward: 4.0 \t length 3 \t mean_length 4.86 \t epsilon 0.07\n",
      "Epoch 3506 \t reward: 29.5 \t length 9 \t mean_length 4.94 \t epsilon 0.07\n",
      "Epoch 3507 \t reward: 10.5 \t length 5 \t mean_length 4.92 \t epsilon 0.07\n",
      "Epoch 3508 \t reward: 10.5 \t length 5 \t mean_length 4.92 \t epsilon 0.07\n",
      "Epoch 3509 \t reward: 14.5 \t length 6 \t mean_length 4.88 \t epsilon 0.07\n",
      "Epoch 3510 \t reward: 1.5 \t length 2 \t mean_length 4.82 \t epsilon 0.07\n",
      "Epoch 3511 \t reward: 7.0 \t length 4 \t mean_length 4.84 \t epsilon 0.07\n",
      "Epoch 3512 \t reward: 7.0 \t length 4 \t mean_length 4.82 \t epsilon 0.07\n",
      "Epoch 3513 \t reward: 10.5 \t length 5 \t mean_length 4.82 \t epsilon 0.07\n",
      "Epoch 3514 \t reward: 14.5 \t length 6 \t mean_length 4.84 \t epsilon 0.07\n",
      "Epoch 3515 \t reward: 29.5 \t length 9 \t mean_length 4.88 \t epsilon 0.07\n",
      "Epoch 3516 \t reward: 19.0 \t length 7 \t mean_length 4.92 \t epsilon 0.07\n",
      "Epoch 3517 \t reward: 24.0 \t length 8 \t mean_length 4.94 \t epsilon 0.07\n",
      "Epoch 3518 \t reward: 4.0 \t length 3 \t mean_length 4.9 \t epsilon 0.07\n",
      "Epoch 3519 \t reward: 19.0 \t length 7 \t mean_length 4.86 \t epsilon 0.07\n",
      "Epoch 3520 \t reward: 10.5 \t length 5 \t mean_length 4.86 \t epsilon 0.07\n",
      "Epoch 3521 \t reward: 7.0 \t length 4 \t mean_length 4.84 \t epsilon 0.07\n",
      "Epoch 3522 \t reward: 4.0 \t length 3 \t mean_length 4.8 \t epsilon 0.07\n",
      "Epoch 3523 \t reward: 4.0 \t length 3 \t mean_length 4.82 \t epsilon 0.07\n",
      "Epoch 3524 \t reward: 14.5 \t length 6 \t mean_length 4.84 \t epsilon 0.07\n",
      "Epoch 3525 \t reward: 14.5 \t length 6 \t mean_length 4.84 \t epsilon 0.07\n",
      "Epoch 3526 \t reward: 4.0 \t length 3 \t mean_length 4.8 \t epsilon 0.07\n",
      "Epoch 3527 \t reward: 14.5 \t length 6 \t mean_length 4.78 \t epsilon 0.07\n",
      "Epoch 3528 \t reward: 7.0 \t length 4 \t mean_length 4.76 \t epsilon 0.07\n",
      "Epoch 3529 \t reward: 7.0 \t length 4 \t mean_length 4.74 \t epsilon 0.07\n",
      "Epoch 3530 \t reward: 19.0 \t length 7 \t mean_length 4.78 \t epsilon 0.07\n",
      "Epoch 3531 \t reward: 10.5 \t length 5 \t mean_length 4.84 \t epsilon 0.07\n",
      "Epoch 3532 \t reward: 10.5 \t length 5 \t mean_length 4.84 \t epsilon 0.07\n",
      "Epoch 3533 \t reward: 14.5 \t length 6 \t mean_length 4.8 \t epsilon 0.07\n",
      "Epoch 3534 \t reward: -0.5 \t length 1 \t mean_length 4.72 \t epsilon 0.07\n",
      "Epoch 3535 \t reward: 10.5 \t length 5 \t mean_length 4.76 \t epsilon 0.07\n",
      "Epoch 3536 \t reward: 24.0 \t length 8 \t mean_length 4.82 \t epsilon 0.07\n",
      "Epoch 3537 \t reward: 19.0 \t length 7 \t mean_length 4.76 \t epsilon 0.07\n",
      "Epoch 3538 \t reward: 19.0 \t length 7 \t mean_length 4.8 \t epsilon 0.07\n",
      "Epoch 3539 \t reward: 1.5 \t length 2 \t mean_length 4.78 \t epsilon 0.07\n",
      "Epoch 3540 \t reward: 14.5 \t length 6 \t mean_length 4.8 \t epsilon 0.07\n",
      "Epoch 3541 \t reward: 19.0 \t length 7 \t mean_length 4.76 \t epsilon 0.07\n",
      "Epoch 3542 \t reward: 10.5 \t length 5 \t mean_length 4.76 \t epsilon 0.07\n",
      "Epoch 3543 \t reward: 10.5 \t length 5 \t mean_length 4.78 \t epsilon 0.07\n",
      "Epoch 3544 \t reward: 19.0 \t length 7 \t mean_length 4.82 \t epsilon 0.07\n",
      "Epoch 3545 \t reward: 24.0 \t length 8 \t mean_length 4.8 \t epsilon 0.07\n",
      "Epoch 3546 \t reward: 19.0 \t length 7 \t mean_length 4.84 \t epsilon 0.07\n",
      "Epoch 3547 \t reward: 10.5 \t length 5 \t mean_length 4.84 \t epsilon 0.07\n",
      "Epoch 3548 \t reward: 1.5 \t length 2 \t mean_length 4.78 \t epsilon 0.07\n",
      "Epoch 3549 \t reward: 1.5 \t length 2 \t mean_length 4.86 \t epsilon 0.07\n",
      "Epoch 3550 \t reward: 24.0 \t length 8 \t mean_length 4.92 \t epsilon 0.07\n",
      "Epoch 3551 \t reward: 14.5 \t length 6 \t mean_length 4.88 \t epsilon 0.07\n",
      "Epoch 3552 \t reward: 10.5 \t length 5 \t mean_length 4.88 \t epsilon 0.07\n",
      "Epoch 3553 \t reward: 19.0 \t length 7 \t mean_length 4.88 \t epsilon 0.07\n",
      "Epoch 3554 \t reward: 14.5 \t length 6 \t mean_length 4.9 \t epsilon 0.07\n",
      "Epoch 3555 \t reward: 7.0 \t length 4 \t mean_length 4.86 \t epsilon 0.07\n",
      "Epoch 3556 \t reward: 19.0 \t length 7 \t mean_length 4.9 \t epsilon 0.07\n",
      "Epoch 3557 \t reward: 7.0 \t length 4 \t mean_length 4.86 \t epsilon 0.07\n",
      "Epoch 3558 \t reward: 24.0 \t length 8 \t mean_length 4.92 \t epsilon 0.07\n",
      "Epoch 3559 \t reward: 29.5 \t length 9 \t mean_length 4.92 \t epsilon 0.07\n",
      "Epoch 3560 \t reward: 14.5 \t length 6 \t mean_length 4.94 \t epsilon 0.07\n",
      "Epoch 3561 \t reward: 19.0 \t length 7 \t mean_length 4.98 \t epsilon 0.07\n",
      "Epoch 3562 \t reward: 14.5 \t length 6 \t mean_length 5.0 \t epsilon 0.07\n",
      "Epoch 3563 \t reward: 14.5 \t length 6 \t mean_length 4.98 \t epsilon 0.07\n",
      "Epoch 3564 \t reward: 24.0 \t length 8 \t mean_length 5.03 \t epsilon 0.07\n",
      "Epoch 3565 \t reward: 4.0 \t length 3 \t mean_length 5.0 \t epsilon 0.07\n",
      "Q_matrix of initial state, after training: step 3501\n"
     ]
    },
    {
     "output_type": "display_data",
     "data": {
      "text/plain": "<PIL.Image.Image image mode=RGBA size=128x128 at 0x1978F6062E0>",
      "image/png": "[encoded data removed]"
     },
     "metadata": {}
    },
    {
     "output_type": "stream",
     "name": "stdout",
     "text": [
      "43\n"
     ]
    },
    {
     "output_type": "display_data",
     "data": {
      "text/plain": "<PIL.Image.Image image mode=RGBA size=128x128 at 0x1978F606760>",
      "image/png": "[encoded data removed]"
     },
     "metadata": {}
    },
    {
     "output_type": "stream",
     "name": "stdout",
     "text": [
      "-------------\n"
     ]
    },
    {
     "output_type": "display_data",
     "data": {
      "text/plain": "<PIL.Image.Image image mode=RGBA size=128x128 at 0x1978F606700>",
      "image/png": "[encoded data removed]"
     },
     "metadata": {}
    },
    {
     "output_type": "stream",
     "name": "stdout",
     "text": [
      "20\n",
      "Epoch 3566 \t reward: 14.5 \t length 6 \t mean_length 5.01 \t epsilon 0.07\n",
      "Epoch 3567 \t reward: 10.5 \t length 5 \t mean_length 5.04 \t epsilon 0.07\n",
      "Epoch 3568 \t reward: 19.0 \t length 7 \t mean_length 5.07 \t epsilon 0.07\n",
      "Epoch 3569 \t reward: 10.5 \t length 5 \t mean_length 5.08 \t epsilon 0.07\n",
      "Epoch 3570 \t reward: 24.0 \t length 8 \t mean_length 5.13 \t epsilon 0.07\n",
      "Epoch 3571 \t reward: 7.0 \t length 4 \t mean_length 5.12 \t epsilon 0.07\n",
      "Epoch 3572 \t reward: 19.0 \t length 7 \t mean_length 5.15 \t epsilon 0.07\n",
      "Epoch 3573 \t reward: 7.0 \t length 4 \t mean_length 5.18 \t epsilon 0.07\n",
      "Epoch 3574 \t reward: 19.0 \t length 7 \t mean_length 5.21 \t epsilon 0.07\n",
      "Epoch 3575 \t reward: 10.5 \t length 5 \t mean_length 5.2 \t epsilon 0.07\n",
      "Epoch 3576 \t reward: 10.5 \t length 5 \t mean_length 5.19 \t epsilon 0.07\n",
      "Epoch 3577 \t reward: 29.5 \t length 9 \t mean_length 5.22 \t epsilon 0.07\n",
      "Epoch 3578 \t reward: 1.5 \t length 2 \t mean_length 5.15 \t epsilon 0.07\n",
      "Epoch 3579 \t reward: 10.5 \t length 5 \t mean_length 5.14 \t epsilon 0.07\n",
      "Epoch 3580 \t reward: 14.5 \t length 6 \t mean_length 5.15 \t epsilon 0.07\n",
      "Epoch 3581 \t reward: 14.5 \t length 6 \t mean_length 5.12 \t epsilon 0.07\n",
      "Epoch 3582 \t reward: 14.5 \t length 6 \t mean_length 5.13 \t epsilon 0.07\n",
      "Epoch 3583 \t reward: 14.5 \t length 6 \t mean_length 5.12 \t epsilon 0.07\n",
      "Epoch 3584 \t reward: -0.5 \t length 1 \t mean_length 5.03 \t epsilon 0.07\n",
      "Epoch 3585 \t reward: 1.5 \t length 2 \t mean_length 5.0 \t epsilon 0.07\n",
      "Epoch 3586 \t reward: 10.5 \t length 5 \t mean_length 5.0 \t epsilon 0.07\n",
      "Epoch 3587 \t reward: 24.0 \t length 8 \t mean_length 4.98 \t epsilon 0.07\n",
      "Epoch 3588 \t reward: 7.0 \t length 4 \t mean_length 4.96 \t epsilon 0.07\n",
      "Epoch 3589 \t reward: 19.0 \t length 7 \t mean_length 5.04 \t epsilon 0.07\n",
      "Epoch 3590 \t reward: -0.5 \t length 1 \t mean_length 4.96 \t epsilon 0.07\n",
      "Epoch 3591 \t reward: 14.5 \t length 6 \t mean_length 5.01 \t epsilon 0.07\n",
      "Epoch 3592 \t reward: 14.5 \t length 6 \t mean_length 5.03 \t epsilon 0.07\n",
      "Epoch 3593 \t reward: -0.5 \t length 1 \t mean_length 5.09 \t epsilon 0.07\n",
      "Epoch 3594 \t reward: 7.0 \t length 4 \t mean_length 5.07 \t epsilon 0.07\n",
      "Epoch 3595 \t reward: 14.5 \t length 6 \t mean_length 5.16 \t epsilon 0.07\n",
      "Epoch 3596 \t reward: 19.0 \t length 7 \t mean_length 5.19 \t epsilon 0.07\n",
      "Epoch 3597 \t reward: 29.5 \t length 9 \t mean_length 5.22 \t epsilon 0.07\n",
      "Epoch 3598 \t reward: 14.5 \t length 6 \t mean_length 5.23 \t epsilon 0.07\n",
      "Epoch 3599 \t reward: 14.5 \t length 6 \t mean_length 5.26 \t epsilon 0.07\n",
      "Epoch 3600 \t reward: 10.5 \t length 5 \t mean_length 5.25 \t epsilon 0.07\n",
      "Epoch 3601 \t reward: 19.0 \t length 7 \t mean_length 5.24 \t epsilon 0.07\n",
      "Epoch 3602 \t reward: 10.5 \t length 5 \t mean_length 5.23 \t epsilon 0.07\n",
      "Epoch 3603 \t reward: 24.0 \t length 8 \t mean_length 5.3 \t epsilon 0.07\n",
      "Epoch 3604 \t reward: 14.5 \t length 6 \t mean_length 5.31 \t epsilon 0.07\n",
      "Epoch 3605 \t reward: 14.5 \t length 6 \t mean_length 5.4 \t epsilon 0.07\n",
      "Epoch 3606 \t reward: 19.0 \t length 7 \t mean_length 5.43 \t epsilon 0.07\n",
      "Epoch 3607 \t reward: 1.5 \t length 2 \t mean_length 5.36 \t epsilon 0.07\n",
      "Epoch 3608 \t reward: 10.5 \t length 5 \t mean_length 5.35 \t epsilon 0.07\n",
      "Epoch 3609 \t reward: 7.0 \t length 4 \t mean_length 5.36 \t epsilon 0.07\n",
      "Epoch 3610 \t reward: 19.0 \t length 7 \t mean_length 5.39 \t epsilon 0.07\n",
      "Epoch 3611 \t reward: 4.0 \t length 3 \t mean_length 5.46 \t epsilon 0.07\n",
      "Epoch 3612 \t reward: 4.0 \t length 3 \t mean_length 5.41 \t epsilon 0.07\n",
      "Epoch 3613 \t reward: 19.0 \t length 7 \t mean_length 5.44 \t epsilon 0.07\n",
      "Epoch 3614 \t reward: 24.0 \t length 8 \t mean_length 5.49 \t epsilon 0.07\n",
      "Epoch 3615 \t reward: -0.5 \t length 1 \t mean_length 5.48 \t epsilon 0.07\n",
      "Epoch 3616 \t reward: 19.0 \t length 7 \t mean_length 5.5 \t epsilon 0.07\n",
      "Epoch 3617 \t reward: 19.0 \t length 7 \t mean_length 5.48 \t epsilon 0.07\n",
      "Epoch 3618 \t reward: 24.0 \t length 8 \t mean_length 5.52 \t epsilon 0.07\n",
      "Epoch 3619 \t reward: 19.0 \t length 7 \t mean_length 5.58 \t epsilon 0.07\n",
      "Epoch 3620 \t reward: 14.5 \t length 6 \t mean_length 5.58 \t epsilon 0.07\n",
      "Epoch 3621 \t reward: 24.0 \t length 8 \t mean_length 5.6 \t epsilon 0.07\n",
      "Epoch 3622 \t reward: 19.0 \t length 7 \t mean_length 5.62 \t epsilon 0.07\n",
      "Epoch 3623 \t reward: 19.0 \t length 7 \t mean_length 5.68 \t epsilon 0.07\n",
      "Epoch 3624 \t reward: 19.0 \t length 7 \t mean_length 5.7 \t epsilon 0.07\n",
      "Epoch 3625 \t reward: 4.0 \t length 3 \t mean_length 5.7 \t epsilon 0.07\n",
      "Epoch 3626 \t reward: 19.0 \t length 7 \t mean_length 5.72 \t epsilon 0.07\n",
      "Epoch 3627 \t reward: 7.0 \t length 4 \t mean_length 5.78 \t epsilon 0.07\n",
      "Epoch 3628 \t reward: 14.5 \t length 6 \t mean_length 5.78 \t epsilon 0.07\n",
      "Epoch 3629 \t reward: 24.0 \t length 8 \t mean_length 5.82 \t epsilon 0.07\n",
      "Epoch 3630 \t reward: 10.5 \t length 5 \t mean_length 5.8 \t epsilon 0.07\n",
      "Epoch 3631 \t reward: 1.5 \t length 2 \t mean_length 5.78 \t epsilon 0.07\n",
      "Epoch 3632 \t reward: 24.0 \t length 8 \t mean_length 5.82 \t epsilon 0.07\n",
      "Epoch 3633 \t reward: 4.0 \t length 3 \t mean_length 5.84 \t epsilon 0.07\n",
      "Epoch 3634 \t reward: 10.5 \t length 5 \t mean_length 5.82 \t epsilon 0.07\n",
      "Epoch 3635 \t reward: 24.0 \t length 8 \t mean_length 5.92 \t epsilon 0.07\n",
      "Epoch 3636 \t reward: 10.5 \t length 5 \t mean_length 5.9 \t epsilon 0.07\n",
      "Epoch 3637 \t reward: 4.0 \t length 3 \t mean_length 5.86 \t epsilon 0.07\n",
      "Epoch 3638 \t reward: 1.5 \t length 2 \t mean_length 5.78 \t epsilon 0.07\n",
      "Epoch 3639 \t reward: -0.5 \t length 1 \t mean_length 5.76 \t epsilon 0.07\n",
      "Epoch 3640 \t reward: 4.0 \t length 3 \t mean_length 5.7 \t epsilon 0.07\n",
      "Epoch 3641 \t reward: 19.0 \t length 7 \t mean_length 5.7 \t epsilon 0.07\n",
      "Epoch 3642 \t reward: 7.0 \t length 4 \t mean_length 5.66 \t epsilon 0.07\n",
      "Epoch 3643 \t reward: 7.0 \t length 4 \t mean_length 5.68 \t epsilon 0.07\n",
      "Epoch 3644 \t reward: 7.0 \t length 4 \t mean_length 5.64 \t epsilon 0.07\n",
      "Epoch 3645 \t reward: 10.5 \t length 5 \t mean_length 5.62 \t epsilon 0.07\n",
      "Epoch 3646 \t reward: 19.0 \t length 7 \t mean_length 5.64 \t epsilon 0.07\n",
      "Epoch 3647 \t reward: 7.0 \t length 4 \t mean_length 5.62 \t epsilon 0.07\n",
      "Epoch 3648 \t reward: 10.5 \t length 5 \t mean_length 5.6 \t epsilon 0.07\n",
      "Epoch 3649 \t reward: 7.0 \t length 4 \t mean_length 5.68 \t epsilon 0.07\n",
      "Epoch 3650 \t reward: -0.5 \t length 1 \t mean_length 5.58 \t epsilon 0.07\n",
      "Epoch 3651 \t reward: -0.5 \t length 1 \t mean_length 5.54 \t epsilon 0.07\n",
      "Epoch 3652 \t reward: 7.0 \t length 4 \t mean_length 5.5 \t epsilon 0.07\n",
      "Epoch 3653 \t reward: 7.0 \t length 4 \t mean_length 5.52 \t epsilon 0.07\n",
      "Epoch 3654 \t reward: 10.5 \t length 5 \t mean_length 5.5 \t epsilon 0.07\n",
      "Epoch 3655 \t reward: 10.5 \t length 5 \t mean_length 5.5 \t epsilon 0.07\n",
      "Epoch 3656 \t reward: 7.0 \t length 4 \t mean_length 5.47 \t epsilon 0.07\n",
      "Epoch 3657 \t reward: -0.5 \t length 1 \t mean_length 5.44 \t epsilon 0.07\n",
      "Epoch 3658 \t reward: 4.0 \t length 3 \t mean_length 5.39 \t epsilon 0.07\n",
      "Epoch 3659 \t reward: 19.0 \t length 7 \t mean_length 5.34 \t epsilon 0.07\n",
      "Epoch 3660 \t reward: 24.0 \t length 8 \t mean_length 5.39 \t epsilon 0.07\n",
      "Epoch 3661 \t reward: 10.5 \t length 5 \t mean_length 5.38 \t epsilon 0.07\n",
      "Epoch 3662 \t reward: 7.0 \t length 4 \t mean_length 5.35 \t epsilon 0.07\n",
      "Epoch 3663 \t reward: 14.5 \t length 6 \t mean_length 5.34 \t epsilon 0.07\n",
      "Epoch 3664 \t reward: 19.0 \t length 7 \t mean_length 5.37 \t epsilon 0.07\n",
      "Epoch 3665 \t reward: 24.0 \t length 8 \t mean_length 5.32 \t epsilon 0.07\n",
      "Q_matrix of initial state, after training: step 3601\n"
     ]
    },
    {
     "output_type": "display_data",
     "data": {
      "text/plain": "<PIL.Image.Image image mode=RGBA size=128x128 at 0x1978F606B20>",
      "image/png": "[encoded data removed]"
     },
     "metadata": {}
    },
    {
     "output_type": "stream",
     "name": "stdout",
     "text": [
      "29\n"
     ]
    },
    {
     "output_type": "display_data",
     "data": {
      "text/plain": "<PIL.Image.Image image mode=RGBA size=128x128 at 0x1978F606B20>",
      "image/png": "[encoded data removed]"
     },
     "metadata": {}
    },
    {
     "output_type": "stream",
     "name": "stdout",
     "text": [
      "-------------\n"
     ]
    },
    {
     "output_type": "display_data",
     "data": {
      "text/plain": "<PIL.Image.Image image mode=RGBA size=128x128 at 0x1978F6063D0>",
      "image/png": "[encoded data removed]"
     },
     "metadata": {}
    },
    {
     "output_type": "stream",
     "name": "stdout",
     "text": [
      "44\n",
      "Epoch 3666 \t reward: 19.0 \t length 7 \t mean_length 5.35 \t epsilon 0.07\n",
      "Epoch 3667 \t reward: 24.0 \t length 8 \t mean_length 5.34 \t epsilon 0.07\n",
      "Epoch 3668 \t reward: 7.0 \t length 4 \t mean_length 5.31 \t epsilon 0.07\n",
      "Epoch 3669 \t reward: 19.0 \t length 7 \t mean_length 5.28 \t epsilon 0.07\n",
      "Epoch 3670 \t reward: 10.5 \t length 5 \t mean_length 5.27 \t epsilon 0.07\n",
      "Epoch 3671 \t reward: 24.0 \t length 8 \t mean_length 5.22 \t epsilon 0.07\n",
      "Epoch 3672 \t reward: 24.0 \t length 8 \t mean_length 5.27 \t epsilon 0.07\n",
      "Epoch 3673 \t reward: 19.0 \t length 7 \t mean_length 5.24 \t epsilon 0.07\n",
      "Epoch 3674 \t reward: 19.0 \t length 7 \t mean_length 5.27 \t epsilon 0.07\n",
      "Epoch 3675 \t reward: 29.5 \t length 9 \t mean_length 5.24 \t epsilon 0.07\n",
      "Epoch 3676 \t reward: 24.0 \t length 8 \t mean_length 5.29 \t epsilon 0.07\n",
      "Epoch 3677 \t reward: 29.5 \t length 9 \t mean_length 5.3 \t epsilon 0.07\n",
      "Epoch 3678 \t reward: -0.5 \t length 1 \t mean_length 5.21 \t epsilon 0.07\n",
      "Epoch 3679 \t reward: 4.0 \t length 3 \t mean_length 5.28 \t epsilon 0.07\n",
      "Epoch 3680 \t reward: 10.5 \t length 5 \t mean_length 5.27 \t epsilon 0.07\n",
      "Epoch 3681 \t reward: 14.5 \t length 6 \t mean_length 5.26 \t epsilon 0.07\n",
      "Epoch 3682 \t reward: 1.5 \t length 2 \t mean_length 5.19 \t epsilon 0.07\n",
      "Epoch 3683 \t reward: 24.0 \t length 8 \t mean_length 5.18 \t epsilon 0.07\n",
      "Epoch 3684 \t reward: 7.0 \t length 4 \t mean_length 5.15 \t epsilon 0.07\n",
      "Epoch 3685 \t reward: 29.5 \t length 9 \t mean_length 5.24 \t epsilon 0.07\n",
      "Epoch 3686 \t reward: 10.5 \t length 5 \t mean_length 5.23 \t epsilon 0.07\n",
      "Epoch 3687 \t reward: 7.0 \t length 4 \t mean_length 5.24 \t epsilon 0.07\n",
      "Epoch 3688 \t reward: 10.5 \t length 5 \t mean_length 5.23 \t epsilon 0.07\n",
      "Epoch 3689 \t reward: 4.0 \t length 3 \t mean_length 5.26 \t epsilon 0.07\n",
      "Epoch 3690 \t reward: 7.0 \t length 4 \t mean_length 5.23 \t epsilon 0.07\n",
      "Epoch 3691 \t reward: -0.5 \t length 1 \t mean_length 5.32 \t epsilon 0.07\n",
      "Epoch 3692 \t reward: 7.0 \t length 4 \t mean_length 5.29 \t epsilon 0.07\n",
      "Epoch 3693 \t reward: 4.0 \t length 3 \t mean_length 5.28 \t epsilon 0.07\n",
      "Epoch 3694 \t reward: 19.0 \t length 7 \t mean_length 5.31 \t epsilon 0.07\n",
      "Epoch 3695 \t reward: 24.0 \t length 8 \t mean_length 5.34 \t epsilon 0.07\n",
      "Epoch 3696 \t reward: 10.5 \t length 5 \t mean_length 5.33 \t epsilon 0.07\n",
      "Epoch 3697 \t reward: 1.5 \t length 2 \t mean_length 5.3 \t epsilon 0.07\n",
      "Epoch 3698 \t reward: 4.0 \t length 3 \t mean_length 5.25 \t epsilon 0.07\n",
      "Epoch 3699 \t reward: 1.5 \t length 2 \t mean_length 5.24 \t epsilon 0.07\n",
      "Epoch 3700 \t reward: 1.5 \t length 2 \t mean_length 5.17 \t epsilon 0.07\n",
      "Epoch 3701 \t reward: 7.0 \t length 4 \t mean_length 5.18 \t epsilon 0.07\n",
      "Epoch 3702 \t reward: 10.5 \t length 5 \t mean_length 5.17 \t epsilon 0.07\n",
      "Epoch 3703 \t reward: 24.0 \t length 8 \t mean_length 5.18 \t epsilon 0.07\n",
      "Epoch 3704 \t reward: 24.0 \t length 8 \t mean_length 5.23 \t epsilon 0.07\n",
      "Epoch 3705 \t reward: 14.5 \t length 6 \t mean_length 5.22 \t epsilon 0.07\n",
      "Epoch 3706 \t reward: 24.0 \t length 8 \t mean_length 5.27 \t epsilon 0.07\n",
      "Epoch 3707 \t reward: 4.0 \t length 3 \t mean_length 5.24 \t epsilon 0.07\n",
      "Epoch 3708 \t reward: -0.5 \t length 1 \t mean_length 5.15 \t epsilon 0.07\n",
      "Epoch 3709 \t reward: 7.0 \t length 4 \t mean_length 5.16 \t epsilon 0.07\n",
      "Epoch 3710 \t reward: 10.5 \t length 5 \t mean_length 5.15 \t epsilon 0.07\n",
      "Epoch 3711 \t reward: -0.5 \t length 1 \t mean_length 5.12 \t epsilon 0.07\n",
      "Epoch 3712 \t reward: 10.5 \t length 5 \t mean_length 5.11 \t epsilon 0.07\n",
      "Epoch 3713 \t reward: 24.0 \t length 8 \t mean_length 5.16 \t epsilon 0.07\n",
      "Epoch 3714 \t reward: 1.5 \t length 2 \t mean_length 5.09 \t epsilon 0.07\n",
      "Epoch 3715 \t reward: 19.0 \t length 7 \t mean_length 5.04 \t epsilon 0.07\n",
      "Epoch 3716 \t reward: 29.5 \t length 9 \t mean_length 5.11 \t epsilon 0.07\n",
      "Epoch 3717 \t reward: -0.5 \t length 1 \t mean_length 5.08 \t epsilon 0.07\n",
      "Epoch 3718 \t reward: 7.0 \t length 4 \t mean_length 5.05 \t epsilon 0.07\n",
      "Epoch 3719 \t reward: 24.0 \t length 8 \t mean_length 5.0 \t epsilon 0.07\n",
      "Epoch 3720 \t reward: 19.0 \t length 7 \t mean_length 5.03 \t epsilon 0.07\n",
      "Epoch 3721 \t reward: 24.0 \t length 8 \t mean_length 5.01 \t epsilon 0.07\n",
      "Epoch 3722 \t reward: 24.0 \t length 8 \t mean_length 5.07 \t epsilon 0.07\n",
      "Epoch 3723 \t reward: -0.5 \t length 1 \t mean_length 5.04 \t epsilon 0.07\n",
      "Epoch 3724 \t reward: 29.5 \t length 9 \t mean_length 5.11 \t epsilon 0.07\n",
      "Epoch 3725 \t reward: 35.5 \t length 10 \t mean_length 5.08 \t epsilon 0.07\n",
      "Epoch 3726 \t reward: 14.5 \t length 6 \t mean_length 5.09 \t epsilon 0.07\n",
      "Epoch 3727 \t reward: 14.5 \t length 6 \t mean_length 5.05 \t epsilon 0.07\n",
      "Epoch 3728 \t reward: 14.5 \t length 6 \t mean_length 5.07 \t epsilon 0.07\n",
      "Epoch 3729 \t reward: 10.5 \t length 5 \t mean_length 5.05 \t epsilon 0.07\n",
      "Epoch 3730 \t reward: 4.0 \t length 3 \t mean_length 5.01 \t epsilon 0.07\n",
      "Epoch 3731 \t reward: 14.5 \t length 6 \t mean_length 5.01 \t epsilon 0.07\n",
      "Epoch 3732 \t reward: 24.0 \t length 8 \t mean_length 5.07 \t epsilon 0.07\n",
      "Epoch 3733 \t reward: 1.5 \t length 2 \t mean_length 5.01 \t epsilon 0.07\n",
      "Epoch 3734 \t reward: 4.0 \t length 3 \t mean_length 4.98 \t epsilon 0.07\n",
      "Epoch 3735 \t reward: 7.0 \t length 4 \t mean_length 4.98 \t epsilon 0.07\n",
      "Epoch 3736 \t reward: 19.0 \t length 7 \t mean_length 5.01 \t epsilon 0.07\n",
      "Epoch 3737 \t reward: 14.5 \t length 6 \t mean_length 5.01 \t epsilon 0.07\n",
      "Epoch 3738 \t reward: 14.5 \t length 6 \t mean_length 5.03 \t epsilon 0.07\n",
      "Epoch 3739 \t reward: 14.5 \t length 6 \t mean_length 5.09 \t epsilon 0.07\n",
      "Epoch 3740 \t reward: 24.0 \t length 8 \t mean_length 5.15 \t epsilon 0.07\n",
      "Epoch 3741 \t reward: 14.5 \t length 6 \t mean_length 5.2 \t epsilon 0.07\n",
      "Epoch 3742 \t reward: 1.5 \t length 2 \t mean_length 5.13 \t epsilon 0.07\n",
      "Epoch 3743 \t reward: 4.0 \t length 3 \t mean_length 5.16 \t epsilon 0.07\n",
      "Epoch 3744 \t reward: 7.0 \t length 4 \t mean_length 5.13 \t epsilon 0.07\n",
      "Epoch 3745 \t reward: 19.0 \t length 7 \t mean_length 5.16 \t epsilon 0.07\n",
      "Epoch 3746 \t reward: 19.0 \t length 7 \t mean_length 5.19 \t epsilon 0.07\n",
      "Epoch 3747 \t reward: 10.5 \t length 5 \t mean_length 5.16 \t epsilon 0.07\n",
      "Epoch 3748 \t reward: 10.5 \t length 5 \t mean_length 5.15 \t epsilon 0.07\n",
      "Epoch 3749 \t reward: 10.5 \t length 5 \t mean_length 5.16 \t epsilon 0.07\n",
      "Epoch 3750 \t reward: -0.5 \t length 1 \t mean_length 5.07 \t epsilon 0.07\n",
      "Epoch 3751 \t reward: 14.5 \t length 6 \t mean_length 5.16 \t epsilon 0.07\n",
      "Epoch 3752 \t reward: -0.5 \t length 1 \t mean_length 5.07 \t epsilon 0.07\n",
      "Epoch 3753 \t reward: 14.5 \t length 6 \t mean_length 5.09 \t epsilon 0.07\n",
      "Epoch 3754 \t reward: 24.0 \t length 8 \t mean_length 5.15 \t epsilon 0.07\n",
      "Epoch 3755 \t reward: 10.5 \t length 5 \t mean_length 5.16 \t epsilon 0.07\n",
      "Epoch 3756 \t reward: 10.5 \t length 5 \t mean_length 5.15 \t epsilon 0.07\n",
      "Epoch 3757 \t reward: 4.0 \t length 3 \t mean_length 5.18 \t epsilon 0.07\n",
      "Epoch 3758 \t reward: 19.0 \t length 7 \t mean_length 5.21 \t epsilon 0.07\n",
      "Epoch 3759 \t reward: 14.5 \t length 6 \t mean_length 5.26 \t epsilon 0.07\n",
      "Epoch 3760 \t reward: 19.0 \t length 7 \t mean_length 5.29 \t epsilon 0.07\n",
      "Epoch 3761 \t reward: 19.0 \t length 7 \t mean_length 5.24 \t epsilon 0.07\n",
      "Epoch 3762 \t reward: 19.0 \t length 7 \t mean_length 5.27 \t epsilon 0.07\n",
      "Epoch 3763 \t reward: 7.0 \t length 4 \t mean_length 5.3 \t epsilon 0.07\n",
      "Epoch 3764 \t reward: 19.0 \t length 7 \t mean_length 5.33 \t epsilon 0.07\n",
      "Epoch 3765 \t reward: 7.0 \t length 4 \t mean_length 5.3 \t epsilon 0.07\n",
      "Q_matrix of initial state, after training: step 3701\n"
     ]
    },
    {
     "output_type": "display_data",
     "data": {
      "text/plain": "<PIL.Image.Image image mode=RGBA size=128x128 at 0x1978F606E20>",
      "image/png": "[encoded data removed]"
     },
     "metadata": {}
    },
    {
     "output_type": "stream",
     "name": "stdout",
     "text": [
      "29\n"
     ]
    },
    {
     "output_type": "display_data",
     "data": {
      "text/plain": "<PIL.Image.Image image mode=RGBA size=128x128 at 0x1978F606A90>",
      "image/png": "[encoded data removed]"
     },
     "metadata": {}
    },
    {
     "output_type": "stream",
     "name": "stdout",
     "text": [
      "-------------\n"
     ]
    },
    {
     "output_type": "display_data",
     "data": {
      "text/plain": "<PIL.Image.Image image mode=RGBA size=128x128 at 0x1978F606700>",
      "image/png": "[encoded data removed]"
     },
     "metadata": {}
    },
    {
     "output_type": "stream",
     "name": "stdout",
     "text": [
      "44\n",
      "Epoch 3766 \t reward: 14.5 \t length 6 \t mean_length 5.31 \t epsilon 0.07\n",
      "Epoch 3767 \t reward: 7.0 \t length 4 \t mean_length 5.28 \t epsilon 0.07\n",
      "Epoch 3768 \t reward: 14.5 \t length 6 \t mean_length 5.29 \t epsilon 0.07\n",
      "Epoch 3769 \t reward: 29.5 \t length 9 \t mean_length 5.32 \t epsilon 0.07\n",
      "Epoch 3770 \t reward: 10.5 \t length 5 \t mean_length 5.31 \t epsilon 0.07\n",
      "Epoch 3771 \t reward: 19.0 \t length 7 \t mean_length 5.32 \t epsilon 0.07\n",
      "Epoch 3772 \t reward: 24.0 \t length 8 \t mean_length 5.37 \t epsilon 0.07\n",
      "Epoch 3773 \t reward: 19.0 \t length 7 \t mean_length 5.32 \t epsilon 0.07\n",
      "Epoch 3774 \t reward: 19.0 \t length 7 \t mean_length 5.35 \t epsilon 0.07\n",
      "Epoch 3775 \t reward: 7.0 \t length 4 \t mean_length 5.32 \t epsilon 0.07\n",
      "Epoch 3776 \t reward: 10.5 \t length 5 \t mean_length 5.31 \t epsilon 0.07\n",
      "Epoch 3777 \t reward: 19.0 \t length 7 \t mean_length 5.26 \t epsilon 0.07\n",
      "Epoch 3778 \t reward: 4.0 \t length 3 \t mean_length 5.21 \t epsilon 0.07\n",
      "Epoch 3779 \t reward: 19.0 \t length 7 \t mean_length 5.3 \t epsilon 0.07\n",
      "Epoch 3780 \t reward: 24.0 \t length 8 \t mean_length 5.35 \t epsilon 0.07\n",
      "Epoch 3781 \t reward: 14.5 \t length 6 \t mean_length 5.36 \t epsilon 0.07\n",
      "Epoch 3782 \t reward: 29.5 \t length 9 \t mean_length 5.43 \t epsilon 0.07\n",
      "Epoch 3783 \t reward: 10.5 \t length 5 \t mean_length 5.5 \t epsilon 0.07\n",
      "Epoch 3784 \t reward: 24.0 \t length 8 \t mean_length 5.54 \t epsilon 0.07\n",
      "Epoch 3785 \t reward: 7.0 \t length 4 \t mean_length 5.58 \t epsilon 0.07\n",
      "Epoch 3786 \t reward: 4.0 \t length 3 \t mean_length 5.52 \t epsilon 0.07\n",
      "Epoch 3787 \t reward: -0.5 \t length 1 \t mean_length 5.54 \t epsilon 0.07\n",
      "Epoch 3788 \t reward: 35.5 \t length 10 \t mean_length 5.62 \t epsilon 0.07\n",
      "Epoch 3789 \t reward: 7.0 \t length 4 \t mean_length 5.64 \t epsilon 0.07\n",
      "Epoch 3790 \t reward: 10.5 \t length 5 \t mean_length 5.62 \t epsilon 0.07\n",
      "Epoch 3791 \t reward: 19.0 \t length 7 \t mean_length 5.66 \t epsilon 0.07\n",
      "Epoch 3792 \t reward: 14.5 \t length 6 \t mean_length 5.66 \t epsilon 0.07\n",
      "Epoch 3793 \t reward: -0.5 \t length 1 \t mean_length 5.7 \t epsilon 0.07\n",
      "Epoch 3794 \t reward: 10.5 \t length 5 \t mean_length 5.68 \t epsilon 0.07\n",
      "Epoch 3795 \t reward: 10.5 \t length 5 \t mean_length 5.66 \t epsilon 0.07\n",
      "Epoch 3796 \t reward: 19.0 \t length 7 \t mean_length 5.68 \t epsilon 0.07\n",
      "Epoch 3797 \t reward: 24.0 \t length 8 \t mean_length 5.7 \t epsilon 0.07\n",
      "Epoch 3798 \t reward: 35.5 \t length 10 \t mean_length 5.78 \t epsilon 0.07\n",
      "Epoch 3799 \t reward: 35.5 \t length 10 \t mean_length 5.84 \t epsilon 0.07\n",
      "Epoch 3800 \t reward: 1.5 \t length 2 \t mean_length 5.76 \t epsilon 0.07\n",
      "Epoch 3801 \t reward: 19.0 \t length 7 \t mean_length 5.84 \t epsilon 0.07\n",
      "Epoch 3802 \t reward: 7.0 \t length 4 \t mean_length 5.8 \t epsilon 0.07\n",
      "Epoch 3803 \t reward: 24.0 \t length 8 \t mean_length 5.82 \t epsilon 0.07\n",
      "Epoch 3804 \t reward: 35.5 \t length 10 \t mean_length 5.9 \t epsilon 0.07\n",
      "Epoch 3805 \t reward: 4.0 \t length 3 \t mean_length 5.86 \t epsilon 0.07\n",
      "Epoch 3806 \t reward: 4.0 \t length 3 \t mean_length 5.8 \t epsilon 0.07\n",
      "Epoch 3807 \t reward: 19.0 \t length 7 \t mean_length 5.76 \t epsilon 0.07\n",
      "Epoch 3808 \t reward: 24.0 \t length 8 \t mean_length 5.8 \t epsilon 0.07\n",
      "Epoch 3809 \t reward: 19.0 \t length 7 \t mean_length 5.9 \t epsilon 0.07\n",
      "Epoch 3810 \t reward: 19.0 \t length 7 \t mean_length 5.92 \t epsilon 0.07\n",
      "Epoch 3811 \t reward: 24.0 \t length 8 \t mean_length 5.94 \t epsilon 0.07\n",
      "Epoch 3812 \t reward: 19.0 \t length 7 \t mean_length 5.96 \t epsilon 0.07\n",
      "Epoch 3813 \t reward: 14.5 \t length 6 \t mean_length 5.98 \t epsilon 0.07\n",
      "Epoch 3814 \t reward: 19.0 \t length 7 \t mean_length 6.0 \t epsilon 0.07\n",
      "Epoch 3815 \t reward: 10.5 \t length 5 \t mean_length 6.08 \t epsilon 0.07\n",
      "Epoch 3816 \t reward: 24.0 \t length 8 \t mean_length 6.11 \t epsilon 0.07\n",
      "Epoch 3817 \t reward: 14.5 \t length 6 \t mean_length 6.06 \t epsilon 0.07\n",
      "Epoch 3818 \t reward: 19.0 \t length 7 \t mean_length 6.07 \t epsilon 0.07\n",
      "Epoch 3819 \t reward: 7.0 \t length 4 \t mean_length 6.12 \t epsilon 0.07\n",
      "Epoch 3820 \t reward: 10.5 \t length 5 \t mean_length 6.09 \t epsilon 0.07\n",
      "Epoch 3821 \t reward: 10.5 \t length 5 \t mean_length 6.08 \t epsilon 0.07\n",
      "Epoch 3822 \t reward: 19.0 \t length 7 \t mean_length 6.09 \t epsilon 0.07\n",
      "Epoch 3823 \t reward: 19.0 \t length 7 \t mean_length 6.06 \t epsilon 0.07\n",
      "Epoch 3824 \t reward: 7.0 \t length 4 \t mean_length 6.01 \t epsilon 0.07\n",
      "Epoch 3825 \t reward: 14.5 \t length 6 \t mean_length 5.96 \t epsilon 0.07\n",
      "Epoch 3826 \t reward: 7.0 \t length 4 \t mean_length 5.92 \t epsilon 0.07\n",
      "Epoch 3827 \t reward: 7.0 \t length 4 \t mean_length 5.92 \t epsilon 0.07\n",
      "Epoch 3828 \t reward: -0.5 \t length 1 \t mean_length 5.82 \t epsilon 0.07\n",
      "Epoch 3829 \t reward: 7.0 \t length 4 \t mean_length 5.82 \t epsilon 0.07\n",
      "Epoch 3830 \t reward: 10.5 \t length 5 \t mean_length 5.8 \t epsilon 0.07\n",
      "Epoch 3831 \t reward: 14.5 \t length 6 \t mean_length 5.86 \t epsilon 0.07\n",
      "Epoch 3832 \t reward: 7.0 \t length 4 \t mean_length 5.82 \t epsilon 0.07\n",
      "Epoch 3833 \t reward: 1.5 \t length 2 \t mean_length 5.78 \t epsilon 0.07\n",
      "Epoch 3834 \t reward: 24.0 \t length 8 \t mean_length 5.82 \t epsilon 0.07\n",
      "Epoch 3835 \t reward: 35.5 \t length 10 \t mean_length 5.88 \t epsilon 0.07\n",
      "Epoch 3836 \t reward: 10.5 \t length 5 \t mean_length 5.86 \t epsilon 0.07\n",
      "Epoch 3837 \t reward: 24.0 \t length 8 \t mean_length 5.84 \t epsilon 0.07\n",
      "Epoch 3838 \t reward: 29.5 \t length 9 \t mean_length 5.9 \t epsilon 0.07\n",
      "Epoch 3839 \t reward: 14.5 \t length 6 \t mean_length 5.9 \t epsilon 0.07\n",
      "Epoch 3840 \t reward: 4.0 \t length 3 \t mean_length 5.84 \t epsilon 0.06\n",
      "Epoch 3841 \t reward: 14.5 \t length 6 \t mean_length 5.8 \t epsilon 0.06\n",
      "Epoch 3842 \t reward: 14.5 \t length 6 \t mean_length 5.8 \t epsilon 0.06\n",
      "Epoch 3843 \t reward: 7.0 \t length 4 \t mean_length 5.88 \t epsilon 0.06\n",
      "Epoch 3844 \t reward: 24.0 \t length 8 \t mean_length 5.92 \t epsilon 0.06\n",
      "Epoch 3845 \t reward: 24.0 \t length 8 \t mean_length 5.96 \t epsilon 0.06\n",
      "Epoch 3846 \t reward: 29.5 \t length 9 \t mean_length 6.01 \t epsilon 0.06\n",
      "Epoch 3847 \t reward: 24.0 \t length 8 \t mean_length 6.0 \t epsilon 0.06\n",
      "Epoch 3848 \t reward: 7.0 \t length 4 \t mean_length 5.96 \t epsilon 0.06\n",
      "Epoch 3849 \t reward: 10.5 \t length 5 \t mean_length 5.98 \t epsilon 0.06\n",
      "Epoch 3850 \t reward: 14.5 \t length 6 \t mean_length 5.98 \t epsilon 0.06\n",
      "Epoch 3851 \t reward: 24.0 \t length 8 \t mean_length 6.08 \t epsilon 0.06\n",
      "Epoch 3852 \t reward: 29.5 \t length 9 \t mean_length 6.13 \t epsilon 0.06\n",
      "Epoch 3853 \t reward: 29.5 \t length 9 \t mean_length 6.24 \t epsilon 0.06\n",
      "Epoch 3854 \t reward: 1.5 \t length 2 \t mean_length 6.15 \t epsilon 0.06\n",
      "Epoch 3855 \t reward: 4.0 \t length 3 \t mean_length 6.12 \t epsilon 0.06\n",
      "Epoch 3856 \t reward: 4.0 \t length 3 \t mean_length 6.05 \t epsilon 0.06\n",
      "Epoch 3857 \t reward: 10.5 \t length 5 \t mean_length 6.08 \t epsilon 0.06\n",
      "Epoch 3858 \t reward: 14.5 \t length 6 \t mean_length 6.07 \t epsilon 0.06\n",
      "Epoch 3859 \t reward: 19.0 \t length 7 \t mean_length 6.06 \t epsilon 0.06\n",
      "Epoch 3860 \t reward: 14.5 \t length 6 \t mean_length 6.05 \t epsilon 0.06\n",
      "Epoch 3861 \t reward: 4.0 \t length 3 \t mean_length 6.04 \t epsilon 0.06\n",
      "Epoch 3862 \t reward: 14.5 \t length 6 \t mean_length 6.03 \t epsilon 0.06\n",
      "Epoch 3863 \t reward: 7.0 \t length 4 \t mean_length 6.02 \t epsilon 0.06\n",
      "Epoch 3864 \t reward: 10.5 \t length 5 \t mean_length 6.0 \t epsilon 0.06\n",
      "Epoch 3865 \t reward: 14.5 \t length 6 \t mean_length 5.98 \t epsilon 0.06\n",
      "Q_matrix of initial state, after training: step 3801\n"
     ]
    },
    {
     "output_type": "display_data",
     "data": {
      "text/plain": "<PIL.Image.Image image mode=RGBA size=128x128 at 0x1978F606C10>",
      "image/png": "[encoded data removed]"
     },
     "metadata": {}
    },
    {
     "output_type": "stream",
     "name": "stdout",
     "text": [
      "29\n"
     ]
    },
    {
     "output_type": "display_data",
     "data": {
      "text/plain": "<PIL.Image.Image image mode=RGBA size=128x128 at 0x1978F606E20>",
      "image/png": "[encoded data removed]"
     },
     "metadata": {}
    },
    {
     "output_type": "stream",
     "name": "stdout",
     "text": [
      "-------------\n"
     ]
    },
    {
     "output_type": "display_data",
     "data": {
      "text/plain": "<PIL.Image.Image image mode=RGBA size=128x128 at 0x1978F6068E0>",
      "image/png": "[encoded data removed]"
     },
     "metadata": {}
    },
    {
     "output_type": "stream",
     "name": "stdout",
     "text": [
      "45\n",
      "Epoch 3866 \t reward: 10.5 \t length 5 \t mean_length 5.96 \t epsilon 0.06\n",
      "Epoch 3867 \t reward: 14.5 \t length 6 \t mean_length 5.96 \t epsilon 0.06\n",
      "Epoch 3868 \t reward: 24.0 \t length 8 \t mean_length 6.0 \t epsilon 0.06\n",
      "Epoch 3869 \t reward: 19.0 \t length 7 \t mean_length 6.0 \t epsilon 0.06\n",
      "Epoch 3870 \t reward: 10.5 \t length 5 \t mean_length 5.98 \t epsilon 0.06\n",
      "Epoch 3871 \t reward: -0.5 \t length 1 \t mean_length 6.0 \t epsilon 0.06\n",
      "Epoch 3872 \t reward: 10.5 \t length 5 \t mean_length 5.98 \t epsilon 0.06\n",
      "Epoch 3873 \t reward: 19.0 \t length 7 \t mean_length 5.94 \t epsilon 0.06\n",
      "Epoch 3874 \t reward: 7.0 \t length 4 \t mean_length 5.9 \t epsilon 0.06\n",
      "Epoch 3875 \t reward: 14.5 \t length 6 \t mean_length 5.88 \t epsilon 0.06\n",
      "Epoch 3876 \t reward: 10.5 \t length 5 \t mean_length 5.86 \t epsilon 0.06\n",
      "Epoch 3877 \t reward: 19.0 \t length 7 \t mean_length 5.88 \t epsilon 0.06\n",
      "Epoch 3878 \t reward: 10.5 \t length 5 \t mean_length 5.86 \t epsilon 0.06\n",
      "Epoch 3879 \t reward: 24.0 \t length 8 \t mean_length 5.92 \t epsilon 0.06\n",
      "Epoch 3880 \t reward: 10.5 \t length 5 \t mean_length 5.9 \t epsilon 0.06\n",
      "Epoch 3881 \t reward: 19.0 \t length 7 \t mean_length 5.86 \t epsilon 0.06\n",
      "Epoch 3882 \t reward: 24.0 \t length 8 \t mean_length 5.9 \t epsilon 0.06\n",
      "Epoch 3883 \t reward: 14.5 \t length 6 \t mean_length 5.84 \t epsilon 0.06\n",
      "Epoch 3884 \t reward: 14.5 \t length 6 \t mean_length 5.84 \t epsilon 0.06\n",
      "Epoch 3885 \t reward: 7.0 \t length 4 \t mean_length 5.8 \t epsilon 0.06\n",
      "Epoch 3886 \t reward: 10.5 \t length 5 \t mean_length 5.78 \t epsilon 0.06\n",
      "Epoch 3887 \t reward: 1.5 \t length 2 \t mean_length 5.84 \t epsilon 0.06\n",
      "Epoch 3888 \t reward: -0.5 \t length 1 \t mean_length 5.74 \t epsilon 0.06\n",
      "Epoch 3889 \t reward: 19.0 \t length 7 \t mean_length 5.66 \t epsilon 0.06\n",
      "Epoch 3890 \t reward: 10.5 \t length 5 \t mean_length 5.64 \t epsilon 0.06\n",
      "Epoch 3891 \t reward: 14.5 \t length 6 \t mean_length 5.66 \t epsilon 0.06\n",
      "Epoch 3892 \t reward: 24.0 \t length 8 \t mean_length 5.7 \t epsilon 0.06\n",
      "Epoch 3893 \t reward: 24.0 \t length 8 \t mean_length 5.7 \t epsilon 0.06\n",
      "Epoch 3894 \t reward: 19.0 \t length 7 \t mean_length 5.72 \t epsilon 0.06\n",
      "Epoch 3895 \t reward: 14.5 \t length 6 \t mean_length 5.74 \t epsilon 0.06\n",
      "Epoch 3896 \t reward: 7.0 \t length 4 \t mean_length 5.7 \t epsilon 0.06\n",
      "Epoch 3897 \t reward: 10.5 \t length 5 \t mean_length 5.68 \t epsilon 0.06\n",
      "Epoch 3898 \t reward: 24.0 \t length 8 \t mean_length 5.72 \t epsilon 0.06\n",
      "Epoch 3899 \t reward: 19.0 \t length 7 \t mean_length 5.64 \t epsilon 0.06\n",
      "Epoch 3900 \t reward: 29.5 \t length 9 \t mean_length 5.7 \t epsilon 0.06\n",
      "Epoch 3901 \t reward: 29.5 \t length 9 \t mean_length 5.78 \t epsilon 0.06\n",
      "Epoch 3902 \t reward: -0.5 \t length 1 \t mean_length 5.68 \t epsilon 0.06\n",
      "Epoch 3903 \t reward: -0.5 \t length 1 \t mean_length 5.72 \t epsilon 0.06\n",
      "Epoch 3904 \t reward: 1.5 \t length 2 \t mean_length 5.64 \t epsilon 0.06\n",
      "Epoch 3905 \t reward: 7.0 \t length 4 \t mean_length 5.56 \t epsilon 0.06\n",
      "Epoch 3906 \t reward: 35.5 \t length 10 \t mean_length 5.64 \t epsilon 0.06\n",
      "Epoch 3907 \t reward: 19.0 \t length 7 \t mean_length 5.7 \t epsilon 0.06\n",
      "Epoch 3908 \t reward: 14.5 \t length 6 \t mean_length 5.7 \t epsilon 0.06\n",
      "Epoch 3909 \t reward: 24.0 \t length 8 \t mean_length 5.66 \t epsilon 0.06\n",
      "Epoch 3910 \t reward: 19.0 \t length 7 \t mean_length 5.68 \t epsilon 0.06\n",
      "Epoch 3911 \t reward: 7.0 \t length 4 \t mean_length 5.66 \t epsilon 0.06\n",
      "Epoch 3912 \t reward: 19.0 \t length 7 \t mean_length 5.68 \t epsilon 0.06\n",
      "Epoch 3913 \t reward: 10.5 \t length 5 \t mean_length 5.66 \t epsilon 0.06\n",
      "Epoch 3914 \t reward: 4.0 \t length 3 \t mean_length 5.6 \t epsilon 0.06\n",
      "Epoch 3915 \t reward: 24.0 \t length 8 \t mean_length 5.58 \t epsilon 0.06\n",
      "Epoch 3916 \t reward: 14.5 \t length 6 \t mean_length 5.58 \t epsilon 0.06\n",
      "Epoch 3917 \t reward: 4.0 \t length 3 \t mean_length 5.54 \t epsilon 0.06\n",
      "Epoch 3918 \t reward: 10.5 \t length 5 \t mean_length 5.52 \t epsilon 0.06\n",
      "Epoch 3919 \t reward: 24.0 \t length 8 \t mean_length 5.5 \t epsilon 0.06\n",
      "Epoch 3920 \t reward: 19.0 \t length 7 \t mean_length 5.52 \t epsilon 0.06\n",
      "Epoch 3921 \t reward: 19.0 \t length 7 \t mean_length 5.54 \t epsilon 0.06\n",
      "Epoch 3922 \t reward: 35.5 \t length 10 \t mean_length 5.62 \t epsilon 0.06\n",
      "Epoch 3923 \t reward: 14.5 \t length 6 \t mean_length 5.6 \t epsilon 0.06\n",
      "Epoch 3924 \t reward: 14.5 \t length 6 \t mean_length 5.6 \t epsilon 0.06\n",
      "Epoch 3925 \t reward: -0.5 \t length 1 \t mean_length 5.64 \t epsilon 0.06\n",
      "Epoch 3926 \t reward: 14.5 \t length 6 \t mean_length 5.64 \t epsilon 0.06\n",
      "Epoch 3927 \t reward: 24.0 \t length 8 \t mean_length 5.68 \t epsilon 0.06\n",
      "Epoch 3928 \t reward: 7.0 \t length 4 \t mean_length 5.64 \t epsilon 0.06\n",
      "Epoch 3929 \t reward: 14.5 \t length 6 \t mean_length 5.74 \t epsilon 0.06\n",
      "Epoch 3930 \t reward: 14.5 \t length 6 \t mean_length 5.74 \t epsilon 0.06\n",
      "Epoch 3931 \t reward: 29.5 \t length 9 \t mean_length 5.76 \t epsilon 0.06\n",
      "Epoch 3932 \t reward: 7.0 \t length 4 \t mean_length 5.72 \t epsilon 0.06\n",
      "Epoch 3933 \t reward: 14.5 \t length 6 \t mean_length 5.76 \t epsilon 0.06\n",
      "Epoch 3934 \t reward: 1.5 \t length 2 \t mean_length 5.68 \t epsilon 0.06\n",
      "Epoch 3935 \t reward: 1.5 \t length 2 \t mean_length 5.64 \t epsilon 0.06\n",
      "Epoch 3936 \t reward: 1.5 \t length 2 \t mean_length 5.56 \t epsilon 0.06\n",
      "Epoch 3937 \t reward: 4.0 \t length 3 \t mean_length 5.58 \t epsilon 0.06\n",
      "Epoch 3938 \t reward: 24.0 \t length 8 \t mean_length 5.62 \t epsilon 0.06\n",
      "Epoch 3939 \t reward: 1.5 \t length 2 \t mean_length 5.56 \t epsilon 0.06\n",
      "Epoch 3940 \t reward: 14.5 \t length 6 \t mean_length 5.56 \t epsilon 0.06\n",
      "Epoch 3941 \t reward: 14.5 \t length 6 \t mean_length 5.62 \t epsilon 0.06\n",
      "Epoch 3942 \t reward: 24.0 \t length 8 \t mean_length 5.66 \t epsilon 0.06\n",
      "Epoch 3943 \t reward: 19.0 \t length 7 \t mean_length 5.66 \t epsilon 0.06\n",
      "Epoch 3944 \t reward: 19.0 \t length 7 \t mean_length 5.68 \t epsilon 0.06\n",
      "Epoch 3945 \t reward: 24.0 \t length 8 \t mean_length 5.64 \t epsilon 0.06\n",
      "Epoch 3946 \t reward: 14.5 \t length 6 \t mean_length 5.64 \t epsilon 0.06\n",
      "Epoch 3947 \t reward: 4.0 \t length 3 \t mean_length 5.58 \t epsilon 0.06\n",
      "Epoch 3948 \t reward: 14.5 \t length 6 \t mean_length 5.58 \t epsilon 0.06\n",
      "Epoch 3949 \t reward: 4.0 \t length 3 \t mean_length 5.62 \t epsilon 0.06\n",
      "Epoch 3950 \t reward: 19.0 \t length 7 \t mean_length 5.64 \t epsilon 0.06\n",
      "Epoch 3951 \t reward: 10.5 \t length 5 \t mean_length 5.64 \t epsilon 0.06\n",
      "Epoch 3952 \t reward: 7.0 \t length 4 \t mean_length 5.6 \t epsilon 0.06\n",
      "Epoch 3953 \t reward: -0.5 \t length 1 \t mean_length 5.54 \t epsilon 0.06\n",
      "Epoch 3954 \t reward: 24.0 \t length 8 \t mean_length 5.58 \t epsilon 0.06\n",
      "Epoch 3955 \t reward: 14.5 \t length 6 \t mean_length 5.66 \t epsilon 0.06\n",
      "Epoch 3956 \t reward: 10.5 \t length 5 \t mean_length 5.64 \t epsilon 0.06\n",
      "Epoch 3957 \t reward: 19.0 \t length 7 \t mean_length 5.7 \t epsilon 0.06\n",
      "Epoch 3958 \t reward: 14.5 \t length 6 \t mean_length 5.7 \t epsilon 0.06\n",
      "Epoch 3959 \t reward: 1.5 \t length 2 \t mean_length 5.7 \t epsilon 0.06\n",
      "Epoch 3960 \t reward: 7.0 \t length 4 \t mean_length 5.66 \t epsilon 0.06\n",
      "Epoch 3961 \t reward: 14.5 \t length 6 \t mean_length 5.66 \t epsilon 0.06\n",
      "Epoch 3962 \t reward: 24.0 \t length 8 \t mean_length 5.7 \t epsilon 0.06\n",
      "Epoch 3963 \t reward: -0.5 \t length 1 \t mean_length 5.7 \t epsilon 0.06\n",
      "Epoch 3964 \t reward: 14.5 \t length 6 \t mean_length 5.7 \t epsilon 0.06\n",
      "Epoch 3965 \t reward: 1.5 \t length 2 \t mean_length 5.72 \t epsilon 0.06\n",
      "Q_matrix of initial state, after training: step 3901\n"
     ]
    },
    {
     "output_type": "display_data",
     "data": {
      "text/plain": "<PIL.Image.Image image mode=RGBA size=128x128 at 0x1978F606580>",
      "image/png": "[encoded data removed]"
     },
     "metadata": {}
    },
    {
     "output_type": "stream",
     "name": "stdout",
     "text": [
      "34\n"
     ]
    },
    {
     "output_type": "display_data",
     "data": {
      "text/plain": "<PIL.Image.Image image mode=RGBA size=128x128 at 0x1978F606580>",
      "image/png": "[encoded data removed]"
     },
     "metadata": {}
    },
    {
     "output_type": "stream",
     "name": "stdout",
     "text": [
      "-------------\n"
     ]
    },
    {
     "output_type": "display_data",
     "data": {
      "text/plain": "<PIL.Image.Image image mode=RGBA size=128x128 at 0x1978F606700>",
      "image/png": "[encoded data removed]"
     },
     "metadata": {}
    },
    {
     "output_type": "stream",
     "name": "stdout",
     "text": [
      "20\n",
      "Epoch 3966 \t reward: 7.0 \t length 4 \t mean_length 5.68 \t epsilon 0.06\n",
      "Epoch 3967 \t reward: 7.0 \t length 4 \t mean_length 5.7 \t epsilon 0.06\n",
      "Epoch 3968 \t reward: 14.5 \t length 6 \t mean_length 5.7 \t epsilon 0.06\n",
      "Epoch 3969 \t reward: 19.0 \t length 7 \t mean_length 5.66 \t epsilon 0.06\n",
      "Epoch 3970 \t reward: 7.0 \t length 4 \t mean_length 5.62 \t epsilon 0.06\n",
      "Epoch 3971 \t reward: 14.5 \t length 6 \t mean_length 5.64 \t epsilon 0.06\n",
      "Epoch 3972 \t reward: 24.0 \t length 8 \t mean_length 5.68 \t epsilon 0.06\n",
      "Epoch 3973 \t reward: 24.0 \t length 8 \t mean_length 5.7 \t epsilon 0.06\n",
      "Epoch 3974 \t reward: 19.0 \t length 7 \t mean_length 5.72 \t epsilon 0.06\n",
      "Epoch 3975 \t reward: 10.5 \t length 5 \t mean_length 5.76 \t epsilon 0.06\n",
      "Epoch 3976 \t reward: 10.5 \t length 5 \t mean_length 5.74 \t epsilon 0.06\n",
      "Epoch 3977 \t reward: 19.0 \t length 7 \t mean_length 5.76 \t epsilon 0.06\n",
      "Epoch 3978 \t reward: 4.0 \t length 3 \t mean_length 5.7 \t epsilon 0.06\n",
      "Epoch 3979 \t reward: 19.0 \t length 7 \t mean_length 5.72 \t epsilon 0.06\n",
      "Epoch 3980 \t reward: 7.0 \t length 4 \t mean_length 5.68 \t epsilon 0.06\n",
      "Epoch 3981 \t reward: 14.5 \t length 6 \t mean_length 5.7 \t epsilon 0.06\n",
      "Epoch 3982 \t reward: 14.5 \t length 6 \t mean_length 5.7 \t epsilon 0.06\n",
      "Epoch 3983 \t reward: 24.0 \t length 8 \t mean_length 5.66 \t epsilon 0.06\n",
      "Epoch 3984 \t reward: 4.0 \t length 3 \t mean_length 5.6 \t epsilon 0.06\n",
      "Epoch 3985 \t reward: 14.5 \t length 6 \t mean_length 5.6 \t epsilon 0.06\n",
      "Epoch 3986 \t reward: 24.0 \t length 8 \t mean_length 5.64 \t epsilon 0.06\n",
      "Epoch 3987 \t reward: 24.0 \t length 8 \t mean_length 5.66 \t epsilon 0.06\n",
      "Epoch 3988 \t reward: 24.0 \t length 8 \t mean_length 5.7 \t epsilon 0.06\n",
      "Epoch 3989 \t reward: 10.5 \t length 5 \t mean_length 5.8 \t epsilon 0.06\n",
      "Epoch 3990 \t reward: 19.0 \t length 7 \t mean_length 5.82 \t epsilon 0.06\n",
      "Epoch 3991 \t reward: 19.0 \t length 7 \t mean_length 5.84 \t epsilon 0.06\n",
      "Epoch 3992 \t reward: 19.0 \t length 7 \t mean_length 5.86 \t epsilon 0.06\n",
      "Epoch 3993 \t reward: -0.5 \t length 1 \t mean_length 5.82 \t epsilon 0.06\n",
      "Epoch 3994 \t reward: 19.0 \t length 7 \t mean_length 5.84 \t epsilon 0.06\n",
      "Epoch 3995 \t reward: 1.5 \t length 2 \t mean_length 5.82 \t epsilon 0.06\n",
      "Epoch 3996 \t reward: 7.0 \t length 4 \t mean_length 5.78 \t epsilon 0.06\n",
      "Epoch 3997 \t reward: 14.5 \t length 6 \t mean_length 5.82 \t epsilon 0.06\n",
      "Epoch 3998 \t reward: 19.0 \t length 7 \t mean_length 5.84 \t epsilon 0.06\n",
      "Epoch 3999 \t reward: 24.0 \t length 8 \t mean_length 5.8 \t epsilon 0.06\n",
      "Epoch 4000 \t reward: 14.5 \t length 6 \t mean_length 5.8 \t epsilon 0.06\n",
      "Epoch 4001 \t reward: 14.5 \t length 6 \t mean_length 5.74 \t epsilon 0.06\n",
      "Epoch 4002 \t reward: 14.5 \t length 6 \t mean_length 5.74 \t epsilon 0.06\n",
      "Epoch 4003 \t reward: 14.5 \t length 6 \t mean_length 5.84 \t epsilon 0.06\n",
      "Epoch 4004 \t reward: 14.5 \t length 6 \t mean_length 5.84 \t epsilon 0.06\n",
      "Epoch 4005 \t reward: 10.5 \t length 5 \t mean_length 5.92 \t epsilon 0.06\n",
      "Epoch 4006 \t reward: -0.5 \t length 1 \t mean_length 5.82 \t epsilon 0.06\n",
      "Epoch 4007 \t reward: 35.5 \t length 10 \t mean_length 5.74 \t epsilon 0.06\n",
      "Epoch 4008 \t reward: 19.0 \t length 7 \t mean_length 5.76 \t epsilon 0.06\n",
      "Epoch 4009 \t reward: 14.5 \t length 6 \t mean_length 5.76 \t epsilon 0.06\n",
      "Epoch 4010 \t reward: 4.0 \t length 3 \t mean_length 5.7 \t epsilon 0.06\n",
      "Epoch 4011 \t reward: 19.0 \t length 7 \t mean_length 5.68 \t epsilon 0.06\n",
      "Epoch 4012 \t reward: 14.5 \t length 6 \t mean_length 5.68 \t epsilon 0.06\n",
      "Epoch 4013 \t reward: 19.0 \t length 7 \t mean_length 5.66 \t epsilon 0.06\n",
      "Epoch 4014 \t reward: 35.5 \t length 10 \t mean_length 5.74 \t epsilon 0.06\n",
      "Epoch 4015 \t reward: 29.5 \t length 9 \t mean_length 5.8 \t epsilon 0.06\n",
      "Epoch 4016 \t reward: 29.5 \t length 9 \t mean_length 5.86 \t epsilon 0.06\n",
      "Epoch 4017 \t reward: 24.0 \t length 8 \t mean_length 5.86 \t epsilon 0.06\n",
      "Epoch 4018 \t reward: 14.5 \t length 6 \t mean_length 5.86 \t epsilon 0.06\n",
      "Epoch 4019 \t reward: 19.0 \t length 7 \t mean_length 5.88 \t epsilon 0.06\n",
      "Epoch 4020 \t reward: 14.5 \t length 6 \t mean_length 5.88 \t epsilon 0.06\n",
      "Epoch 4021 \t reward: 19.0 \t length 7 \t mean_length 5.86 \t epsilon 0.06\n",
      "Epoch 4022 \t reward: 10.5 \t length 5 \t mean_length 5.84 \t epsilon 0.06\n",
      "Epoch 4023 \t reward: 14.5 \t length 6 \t mean_length 5.76 \t epsilon 0.06\n",
      "Epoch 4024 \t reward: 1.5 \t length 2 \t mean_length 5.68 \t epsilon 0.06\n",
      "Epoch 4025 \t reward: 4.0 \t length 3 \t mean_length 5.68 \t epsilon 0.06\n",
      "Epoch 4026 \t reward: 14.5 \t length 6 \t mean_length 5.68 \t epsilon 0.06\n",
      "Epoch 4027 \t reward: 35.5 \t length 10 \t mean_length 5.68 \t epsilon 0.06\n",
      "Epoch 4028 \t reward: 24.0 \t length 8 \t mean_length 5.72 \t epsilon 0.06\n",
      "Epoch 4029 \t reward: 29.5 \t length 9 \t mean_length 5.76 \t epsilon 0.06\n",
      "Epoch 4030 \t reward: 10.5 \t length 5 \t mean_length 5.74 \t epsilon 0.06\n",
      "Epoch 4031 \t reward: 14.5 \t length 6 \t mean_length 5.74 \t epsilon 0.06\n",
      "Epoch 4032 \t reward: 10.5 \t length 5 \t mean_length 5.72 \t epsilon 0.06\n",
      "Epoch 4033 \t reward: 19.0 \t length 7 \t mean_length 5.76 \t epsilon 0.06\n",
      "Epoch 4034 \t reward: 1.5 \t length 2 \t mean_length 5.68 \t epsilon 0.06\n",
      "Epoch 4035 \t reward: 19.0 \t length 7 \t mean_length 5.76 \t epsilon 0.06\n",
      "Epoch 4036 \t reward: 19.0 \t length 7 \t mean_length 5.78 \t epsilon 0.06\n",
      "Epoch 4037 \t reward: 10.5 \t length 5 \t mean_length 5.86 \t epsilon 0.06\n",
      "Epoch 4038 \t reward: 24.0 \t length 8 \t mean_length 5.9 \t epsilon 0.06\n",
      "Epoch 4039 \t reward: 29.5 \t length 9 \t mean_length 5.86 \t epsilon 0.06\n",
      "Epoch 4040 \t reward: 19.0 \t length 7 \t mean_length 5.88 \t epsilon 0.06\n",
      "Epoch 4041 \t reward: 19.0 \t length 7 \t mean_length 5.88 \t epsilon 0.06\n",
      "Epoch 4042 \t reward: 24.0 \t length 8 \t mean_length 5.92 \t epsilon 0.06\n",
      "Epoch 4043 \t reward: 19.0 \t length 7 \t mean_length 5.88 \t epsilon 0.06\n",
      "Epoch 4044 \t reward: 10.5 \t length 5 \t mean_length 5.86 \t epsilon 0.06\n",
      "Epoch 4045 \t reward: 4.0 \t length 3 \t mean_length 5.84 \t epsilon 0.06\n",
      "Epoch 4046 \t reward: 24.0 \t length 8 \t mean_length 5.88 \t epsilon 0.06\n",
      "Epoch 4047 \t reward: 19.0 \t length 7 \t mean_length 5.88 \t epsilon 0.06\n",
      "Epoch 4048 \t reward: 24.0 \t length 8 \t mean_length 5.92 \t epsilon 0.06\n",
      "Epoch 4049 \t reward: 14.5 \t length 6 \t mean_length 5.92 \t epsilon 0.06\n",
      "Epoch 4050 \t reward: 24.0 \t length 8 \t mean_length 5.96 \t epsilon 0.06\n",
      "Epoch 4051 \t reward: -0.5 \t length 1 \t mean_length 5.94 \t epsilon 0.06\n",
      "Epoch 4052 \t reward: 19.0 \t length 7 \t mean_length 5.96 \t epsilon 0.06\n",
      "Epoch 4053 \t reward: 1.5 \t length 2 \t mean_length 6.0 \t epsilon 0.06\n",
      "Epoch 4054 \t reward: 7.0 \t length 4 \t mean_length 5.96 \t epsilon 0.06\n",
      "Epoch 4055 \t reward: 29.5 \t length 9 \t mean_length 5.92 \t epsilon 0.06\n",
      "Epoch 4056 \t reward: 10.5 \t length 5 \t mean_length 5.9 \t epsilon 0.06\n",
      "Epoch 4057 \t reward: 7.0 \t length 4 \t mean_length 5.92 \t epsilon 0.06\n",
      "Epoch 4058 \t reward: 19.0 \t length 7 \t mean_length 5.94 \t epsilon 0.06\n",
      "Epoch 4059 \t reward: 4.0 \t length 3 \t mean_length 5.94 \t epsilon 0.06\n",
      "Epoch 4060 \t reward: 14.5 \t length 6 \t mean_length 5.94 \t epsilon 0.06\n",
      "Epoch 4061 \t reward: 10.5 \t length 5 \t mean_length 5.98 \t epsilon 0.06\n",
      "Epoch 4062 \t reward: 19.0 \t length 7 \t mean_length 6.0 \t epsilon 0.06\n",
      "Epoch 4063 \t reward: 19.0 \t length 7 \t mean_length 5.96 \t epsilon 0.06\n",
      "Epoch 4064 \t reward: 24.0 \t length 8 \t mean_length 6.0 \t epsilon 0.06\n",
      "Epoch 4065 \t reward: 14.5 \t length 6 \t mean_length 6.0 \t epsilon 0.06\n",
      "Q_matrix of initial state, after training: step 4001\n"
     ]
    },
    {
     "output_type": "display_data",
     "data": {
      "text/plain": "<PIL.Image.Image image mode=RGBA size=128x128 at 0x1978F606760>",
      "image/png": "[encoded data removed]"
     },
     "metadata": {}
    },
    {
     "output_type": "stream",
     "name": "stdout",
     "text": [
      "29\n"
     ]
    },
    {
     "output_type": "display_data",
     "data": {
      "text/plain": "<PIL.Image.Image image mode=RGBA size=128x128 at 0x1978F606760>",
      "image/png": "[encoded data removed]"
     },
     "metadata": {}
    },
    {
     "output_type": "stream",
     "name": "stdout",
     "text": [
      "-------------\n"
     ]
    },
    {
     "output_type": "display_data",
     "data": {
      "text/plain": "<PIL.Image.Image image mode=RGBA size=128x128 at 0x1978F606CD0>",
      "image/png": "[encoded data removed]"
     },
     "metadata": {}
    },
    {
     "output_type": "stream",
     "name": "stdout",
     "text": [
      "45\n",
      "Epoch 4066 \t reward: -0.5 \t length 1 \t mean_length 5.9 \t epsilon 0.06\n",
      "Epoch 4067 \t reward: 19.0 \t length 7 \t mean_length 5.94 \t epsilon 0.06\n",
      "Epoch 4068 \t reward: 19.0 \t length 7 \t mean_length 5.96 \t epsilon 0.06\n",
      "Epoch 4069 \t reward: 24.0 \t length 8 \t mean_length 5.96 \t epsilon 0.06\n",
      "Epoch 4070 \t reward: -0.5 \t length 1 \t mean_length 5.86 \t epsilon 0.06\n",
      "Epoch 4071 \t reward: 19.0 \t length 7 \t mean_length 5.9 \t epsilon 0.06\n",
      "Epoch 4072 \t reward: 19.0 \t length 7 \t mean_length 5.92 \t epsilon 0.06\n",
      "Epoch 4073 \t reward: 14.5 \t length 6 \t mean_length 5.88 \t epsilon 0.06\n",
      "Epoch 4074 \t reward: 10.5 \t length 5 \t mean_length 5.86 \t epsilon 0.06\n",
      "Epoch 4075 \t reward: 19.0 \t length 7 \t mean_length 5.84 \t epsilon 0.06\n",
      "Epoch 4076 \t reward: 7.0 \t length 4 \t mean_length 5.8 \t epsilon 0.06\n",
      "Epoch 4077 \t reward: 10.5 \t length 5 \t mean_length 5.82 \t epsilon 0.06\n",
      "Epoch 4078 \t reward: 10.5 \t length 5 \t mean_length 5.8 \t epsilon 0.06\n",
      "Epoch 4079 \t reward: 19.0 \t length 7 \t mean_length 5.86 \t epsilon 0.06\n",
      "Epoch 4080 \t reward: 1.5 \t length 2 \t mean_length 5.78 \t epsilon 0.06\n",
      "Epoch 4081 \t reward: 19.0 \t length 7 \t mean_length 5.82 \t epsilon 0.06\n",
      "Epoch 4082 \t reward: -0.5 \t length 1 \t mean_length 5.72 \t epsilon 0.06\n",
      "Epoch 4083 \t reward: 10.5 \t length 5 \t mean_length 5.72 \t epsilon 0.06\n",
      "Epoch 4084 \t reward: 24.0 \t length 8 \t mean_length 5.76 \t epsilon 0.06\n",
      "Epoch 4085 \t reward: 24.0 \t length 8 \t mean_length 5.82 \t epsilon 0.06\n",
      "Epoch 4086 \t reward: 10.5 \t length 5 \t mean_length 5.8 \t epsilon 0.06\n",
      "Epoch 4087 \t reward: 19.0 \t length 7 \t mean_length 5.76 \t epsilon 0.06\n",
      "Epoch 4088 \t reward: 14.5 \t length 6 \t mean_length 5.76 \t epsilon 0.06\n",
      "Epoch 4089 \t reward: 14.5 \t length 6 \t mean_length 5.72 \t epsilon 0.06\n",
      "Epoch 4090 \t reward: 29.5 \t length 9 \t mean_length 5.78 \t epsilon 0.06\n",
      "Epoch 4091 \t reward: 14.5 \t length 6 \t mean_length 5.76 \t epsilon 0.06\n",
      "Epoch 4092 \t reward: 4.0 \t length 3 \t mean_length 5.7 \t epsilon 0.06\n",
      "Epoch 4093 \t reward: 4.0 \t length 3 \t mean_length 5.68 \t epsilon 0.06\n",
      "Epoch 4094 \t reward: 1.5 \t length 2 \t mean_length 5.6 \t epsilon 0.06\n",
      "Epoch 4095 \t reward: 24.0 \t length 8 \t mean_length 5.58 \t epsilon 0.06\n"
     ]
    }
   ],
   "source": [
    "# New model\n",
    "board = Board()\n",
    "test_board = Board()\n",
    "model = Model()\n",
    "model.to(device)\n",
    "epsilon = 0.9\n",
    "epsilon_start = 0.9\n",
    "epsilon_end = 0.05\n",
    "epsilon_decay = 1024\n",
    "learning_rate = 0.3\n",
    "gamma = 0.9\n",
    "batch_size = 64\n",
    "max_history = 1024\n",
    "n_epochs = 4096\n",
    "criterion = torch.nn.MSELoss()\n",
    "optimizer = torch.optim.SGD(model.parameters(), lr=learning_rate)\n",
    "\n",
    "# (State, Action, NextState, Reward, Done) container for each action\n",
    "history = []\n",
    "mean_length = []\n",
    "\n",
    "# Populating the history with every possible move\n",
    "for i_epoch in range(n_epochs):\n",
    "    # Reset the board\n",
    "    done = False\n",
    "    s, signal = board.reset()\n",
    "    s = torch.tensor(s, dtype=torch.float).unsqueeze(0)\n",
    "\n",
    "    # Play a full game\n",
    "    length = 0\n",
    "    total_r = 0\n",
    "    while not done:\n",
    "        length += 1\n",
    "\n",
    "        #========================== ACTION\n",
    "        # Play a random action or ask the model\n",
    "        a = 0\n",
    "        epsilon = epsilon_end + (epsilon_start - epsilon_end) * math.exp(-1. * i_epoch / epsilon_decay)\n",
    "        if np.random.rand() <= epsilon:\n",
    "            a = torch.randint(0, 65, (1,)).item()\n",
    "        else:\n",
    "            a_scores = model(s.to(device))\n",
    "            a = torch.argmax(a_scores).item()\n",
    "        encoded_a = encode_action(a)\n",
    "\n",
    "        # Perform the action in the game\n",
    "        n_s, signal = board.step(encoded_a)\n",
    "        n_s = torch.tensor(n_s, dtype=torch.float).unsqueeze(0)\n",
    "\n",
    "        # Process the signal\n",
    "        r = reward_from_signal(signal, board) + length / 2\n",
    "        total_r += r\n",
    "        done = game_over_from_signal(signal, board)\n",
    "        #-------------------------- ACTION\n",
    "\n",
    "        #========================== BLACK SAMPLE MOVE\n",
    "        black_action = board.sample()\n",
    "        n_s, signal = board.step(black_action)\n",
    "        n_s = torch.tensor(n_s, dtype=torch.float).unsqueeze(0)\n",
    "        #-------------------------- BLACK SAMPLE MOVE\n",
    "\n",
    "        #========================== HISTORY\n",
    "        # Add the record to history\n",
    "        for i_history in range(length):\n",
    "            history.append((s, a, r, n_s, done))\n",
    "        \n",
    "        # Update current state\n",
    "        s = n_s\n",
    "\n",
    "        # Continue playing if we don't have enough moves to learn in the history\n",
    "        if len(history) <= batch_size:\n",
    "            continue\n",
    "\n",
    "        # Keep history the wanted size removing first element in list\n",
    "        while len(history) > max_history:\n",
    "            history.pop(0)\n",
    "        #-------------------------- HISTORY\n",
    "\n",
    "        #========================== Q LEARNING\n",
    "        # Q Learning matrix for the initial state\n",
    "        targets = torch.zeros(batch_size, 65)\n",
    "        inputs = torch.zeros(batch_size, 2, 8, 8)\n",
    "        i_batch = 0\n",
    "        samples = random.sample(history, batch_size - 1) + [history[-1]]\n",
    "        for i_batch, (s_, a_, r_, n_s_, done_) in enumerate(samples):\n",
    "            # Build bellman equation for the Q function\n",
    "            inputs[i_batch] = s_\n",
    "            targets[i_batch] = model(s_.to(device)).view(-1) # torch.zeros((65,), dtype=torch.float)\n",
    "            Q_sa = model(n_s_.to(device))\n",
    "\n",
    "            # Emplace reward\n",
    "            if done_:\n",
    "                targets[i_batch, a_] = r_\n",
    "            else:\n",
    "                targets[i_batch, a_] = r_ + gamma * torch.max(Q_sa)\n",
    "\n",
    "\n",
    "        # Compute loss on the difference between model output and target_q\n",
    "        model.train()\n",
    "        q_pred = model(inputs.to(device))        \n",
    "        targets = torch.clip(targets, -3, 3)\n",
    "        loss = criterion(targets.to(device), q_pred)\n",
    "\n",
    "        # Let the optimizer do the backprop\n",
    "        optimizer.zero_grad()\n",
    "        loss.backward()\n",
    "        optimizer.step()\n",
    "    \n",
    "    if len(mean_length) <= 50:\n",
    "        mean_length.append(length)\n",
    "    else:\n",
    "        mean_length.pop(0)\n",
    "    print(f\"Epoch {i_epoch} \\t reward: {total_r} \\t length {length} \\t mean_length {int(np.mean(mean_length) * 100)/100} \\t epsilon {int(epsilon*100)/100}\")\n",
    "    \n",
    "    # Display matrixes\n",
    "    if i_epoch > batch_size and (i_epoch - batch_size) % 100 == 1:\n",
    "        print(f\"Q_matrix of initial state, after training: step {i_epoch - batch_size}\")\n",
    "        s, signal = test_board.reset()\n",
    "        s = torch.tensor(s, dtype=torch.float).unsqueeze(0)\n",
    "        a_scores = model(s.to(device))\n",
    "        q1 = a_scores.to(\"cpu\")\n",
    "        render_q(q1.tolist()[0])\n",
    "        a = torch.argmax(a_scores).item()\n",
    "        encoded_a = encode_action(a)\n",
    "        print(a)\n",
    "        # print(a_scores.to(\"cpu\"))\n",
    "        # Perform the action in the game\n",
    "        n_s, signal = test_board.step(encoded_a)\n",
    "        if not game_over_from_signal(signal, test_board):\n",
    "            black_action = test_board.sample()\n",
    "            n_s, signal = test_board.step(black_action)\n",
    "            n_s = torch.tensor(n_s, dtype=torch.float).unsqueeze(0)\n",
    "            a_scores = model(n_s.to(device))\n",
    "            q2 = a_scores.to(\"cpu\")\n",
    "            render_q(q2.tolist()[0])\n",
    "            print(\"-------------\")\n",
    "            render_q((q2 - q1).tolist()[0])\n",
    "            a = torch.argmax(a_scores).item()\n",
    "            encoded_a = encode_action(a)\n",
    "            print(a)\n",
    "    # if i_epoch > batch_size and (i_epoch - batch_size) % 1000 == 999:\n",
    "    #     print(\"MEMOIRE ==============================================\")\n",
    "    #     print(history[:5])"
   ]
  },
  {
   "cell_type": "code",
   "execution_count": 17,
   "metadata": {},
   "outputs": [],
   "source": [
    "torch.save(model.state_dict(), \"model.save\")\n"
   ]
  },
  {
   "cell_type": "code",
   "execution_count": 7,
   "metadata": {},
   "outputs": [
    {
     "output_type": "execute_result",
     "data": {
      "text/plain": [
       "Model(\n",
       "  (input_layer): Conv2d(2, 128, kernel_size=(3, 3), stride=(1, 1), padding=(1, 1))\n",
       "  (hidden_layer_1): Conv2d(128, 128, kernel_size=(3, 3), stride=(1, 1), padding=(1, 1))\n",
       "  (hidden_layer_21): Conv2d(128, 128, kernel_size=(3, 3), stride=(1, 1), padding=(1, 1))\n",
       "  (hidden_layer_3): Linear(in_features=8192, out_features=1024, bias=True)\n",
       "  (hidden_layer_4): Linear(in_features=1024, out_features=128, bias=True)\n",
       "  (output_layer): Linear(in_features=128, out_features=65, bias=True)\n",
       ")"
      ]
     },
     "metadata": {},
     "execution_count": 7
    }
   ],
   "source": [
    "model = Model()\n",
    "model.load_state_dict(torch.load(\"model.save\"))\n",
    "model.eval()\n",
    "model.to(device)"
   ]
  },
  {
   "cell_type": "code",
   "execution_count": 8,
   "metadata": {},
   "outputs": [
    {
     "output_type": "stream",
     "name": "stdout",
     "text": [
      "------------------------\n",
      ".\t.\t.\t.\t.\t.\t.\t.\t\n",
      ".\t.\t.\t.\t.\t.\t.\t.\t\n",
      ".\t.\t.\t.\t.\t.\t.\t.\t\n",
      ".\t.\t.\tX\tO\t.\t.\t.\t\n",
      ".\t.\t.\tO\tX\t.\t.\t.\t\n",
      ".\t.\t.\t.\t.\t.\t.\t.\t\n",
      ".\t.\t.\t.\t.\t.\t.\t.\t\n",
      ".\t.\t.\t.\t.\t.\t.\t.\t\n",
      "------------------------\n",
      "White 1:\t(5, 3)\n",
      "------------------------\n",
      ".\t.\t.\t.\t.\t.\t.\t.\t\n",
      ".\t.\t.\t.\t.\t.\t.\t.\t\n",
      ".\t.\t.\t.\t.\t.\t.\t.\t\n",
      ".\t.\t.\tX\tX\tX\t.\t.\t\n",
      ".\t.\t.\tO\tX\t.\t.\t.\t\n",
      ".\t.\t.\t.\t.\t.\t.\t.\t\n",
      ".\t.\t.\t.\t.\t.\t.\t.\t\n",
      ".\t.\t.\t.\t.\t.\t.\t.\t\n",
      "------------------------\n"
     ]
    },
    {
     "output_type": "error",
     "ename": "NameError",
     "evalue": "name 'game_over_from_signal' is not defined",
     "traceback": [
      "\u001b[1;31m---------------------------------------------------------------------------\u001b[0m",
      "\u001b[1;31mNameError\u001b[0m                                 Traceback (most recent call last)",
      "\u001b[1;32m<ipython-input-8-8d4e1d0ee5e9>\u001b[0m in \u001b[0;36m<module>\u001b[1;34m\u001b[0m\n\u001b[0;32m     14\u001b[0m     \u001b[0mboard\u001b[0m\u001b[1;33m.\u001b[0m\u001b[0mrender\u001b[0m\u001b[1;33m(\u001b[0m\u001b[1;33m)\u001b[0m\u001b[1;33m\u001b[0m\u001b[1;33m\u001b[0m\u001b[0m\n\u001b[0;32m     15\u001b[0m     \u001b[0ms\u001b[0m \u001b[1;33m=\u001b[0m \u001b[0mtorch\u001b[0m\u001b[1;33m.\u001b[0m\u001b[0mtensor\u001b[0m\u001b[1;33m(\u001b[0m\u001b[0ms\u001b[0m\u001b[1;33m,\u001b[0m \u001b[0mdtype\u001b[0m\u001b[1;33m=\u001b[0m\u001b[0mtorch\u001b[0m\u001b[1;33m.\u001b[0m\u001b[0mfloat\u001b[0m\u001b[1;33m)\u001b[0m\u001b[1;33m.\u001b[0m\u001b[0munsqueeze\u001b[0m\u001b[1;33m(\u001b[0m\u001b[1;36m0\u001b[0m\u001b[1;33m)\u001b[0m\u001b[1;33m\u001b[0m\u001b[1;33m\u001b[0m\u001b[0m\n\u001b[1;32m---> 16\u001b[1;33m     \u001b[1;32mif\u001b[0m \u001b[0mgame_over_from_signal\u001b[0m\u001b[1;33m(\u001b[0m\u001b[0msig\u001b[0m\u001b[1;33m,\u001b[0m \u001b[0mboard\u001b[0m\u001b[1;33m)\u001b[0m\u001b[1;33m:\u001b[0m\u001b[1;33m\u001b[0m\u001b[1;33m\u001b[0m\u001b[0m\n\u001b[0m\u001b[0;32m     17\u001b[0m         \u001b[1;32mbreak\u001b[0m\u001b[1;33m\u001b[0m\u001b[1;33m\u001b[0m\u001b[0m\n\u001b[0;32m     18\u001b[0m     \u001b[1;31m# Black moves\u001b[0m\u001b[1;33m\u001b[0m\u001b[1;33m\u001b[0m\u001b[1;33m\u001b[0m\u001b[0m\n",
      "\u001b[1;31mNameError\u001b[0m: name 'game_over_from_signal' is not defined"
     ]
    }
   ],
   "source": [
    "board = Board()\n",
    "s, sig = board.reset()\n",
    "board.render()\n",
    "s = torch.tensor(s, dtype=torch.float).unsqueeze(0)\n",
    "count = 0\n",
    "while True:\n",
    "    # White moves\n",
    "    count += 1\n",
    "    Q = model(s.to(device))\n",
    "    iQmax = torch.argmax(Q).item()\n",
    "    a = encode_action(iQmax)\n",
    "    print(f\"White {count}:\\t{a}\")\n",
    "    s, sig = board.step(a)\n",
    "    board.render()\n",
    "    s = torch.tensor(s, dtype=torch.float).unsqueeze(0)\n",
    "    if game_over_from_signal(sig, board):\n",
    "        break\n",
    "    # Black moves\n",
    "    a = board.sample()\n",
    "    print(f\"Black {count}:\\t{a}\")\n",
    "    s, sig = board.step(a)\n",
    "    board.render()\n",
    "    s = torch.tensor(s, dtype=torch.float).unsqueeze(0)\n",
    "    if game_over_from_signal(sig, board):\n",
    "        break"
   ]
  }
 ]
}