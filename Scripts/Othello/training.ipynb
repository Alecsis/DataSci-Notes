{
 "metadata": {
  "language_info": {
   "codemirror_mode": {
    "name": "ipython",
    "version": 3
   },
   "file_extension": ".py",
   "mimetype": "text/x-python",
   "name": "python",
   "nbconvert_exporter": "python",
   "pygments_lexer": "ipython3",
   "version": "3.8.6-final"
  },
  "orig_nbformat": 2,
  "kernelspec": {
   "name": "python3",
   "display_name": "Python 3"
  }
 },
 "nbformat": 4,
 "nbformat_minor": 2,
 "cells": [
  {
   "source": [
    "# Training d'un agent Othello"
   ],
   "cell_type": "markdown",
   "metadata": {}
  },
  {
   "source": [
    "## Importation des modules"
   ],
   "cell_type": "markdown",
   "metadata": {}
  },
  {
   "cell_type": "code",
   "execution_count": 1,
   "metadata": {},
   "outputs": [],
   "source": [
    "from Board import Board\n",
    "from Agent import Memory, Model, encode_action, reward_from_signal, game_over_from_signal\n",
    "\n",
    "import torch\n",
    "import torch.nn as nn\n",
    "import torch.nn.functional as F\n",
    "\n",
    "import numpy as np\n",
    "import matplotlib.pyplot as plt\n",
    "\n",
    "from PIL import Image, ImageDraw\n",
    "from IPython.display import display # to display images\n",
    "\n",
    "import random\n",
    "import numpy as np\n",
    "\n",
    "%matplotlib inline\n",
    "\n",
    "device = torch.device(\"cuda:0\" if torch.cuda.is_available() else \"cpu\")"
   ]
  },
  {
   "source": [
    "## Définition d'un mmodèle de réseau de neurones"
   ],
   "cell_type": "markdown",
   "metadata": {}
  },
  {
   "cell_type": "code",
   "execution_count": 2,
   "metadata": {},
   "outputs": [],
   "source": [
    "class Model(nn.Module):\n",
    "\n",
    "    def __init__(self):\n",
    "        super(Model, self).__init__()\n",
    "        # Input (2, 8, 8,)\n",
    "        # Output (65,)\n",
    "        self.input_layer = nn.Conv2d(2, 128, 3, padding=1)\n",
    "        self.hidden_layer_1 = nn.Conv2d(128, 128, 3, padding=1)\n",
    "        self.hidden_layer_2 = nn.Conv2d(128, 128, 3, padding=1)\n",
    "        self.hidden_layer_3 = nn.Linear(128*8*8, 128*8)\n",
    "        self.hidden_layer_4 = nn.Linear(128*8, 128)\n",
    "        self.output_layer = nn.Linear(128, 65)\n",
    "\n",
    "    def forward(self, x):\n",
    "        x = F.relu(self.input_layer(x))\n",
    "        x = F.relu(self.hidden_layer_1(x))\n",
    "        x = F.relu(self.hidden_layer_2(x))\n",
    "        x = x.view(-1, self.num_flat_features(x))\n",
    "        x = F.relu(self.hidden_layer_3(x))\n",
    "        x = F.relu(self.hidden_layer_4(x))\n",
    "        output = self.output_layer(x)\n",
    "        return output\n",
    "    \n",
    "    def num_flat_features(self, x):\n",
    "        size = x.size()[1:]  # all dimensions except the batch dimension\n",
    "        num_features = 1\n",
    "        for s in size:\n",
    "            num_features *= s\n",
    "        return num_features"
   ]
  },
  {
   "source": [
    "## Méthode de visualisation des q_matrix"
   ],
   "cell_type": "markdown",
   "metadata": {}
  },
  {
   "cell_type": "code",
   "execution_count": 3,
   "metadata": {},
   "outputs": [],
   "source": [
    "def render_q(q: list):\n",
    "    dimension = (128, 128)\n",
    "    max_negative = np.min([np.min(q), 0])\n",
    "    max_positive = np.max([np.max(q), 0])\n",
    "    image = Image.new('RGBA', dimension, (255,255,225,255))\n",
    "    draw = ImageDraw.Draw(image)\n",
    "    y = 0\n",
    "    i = 0\n",
    "    for l in range(8):\n",
    "        x = 0\n",
    "        for c in range(8):\n",
    "            xy = [(x + 1, y + 1), (x + 14, y + 14)]\n",
    "            r = q[i]\n",
    "            if r > 0:\n",
    "                # a = int(r / max_positive * 255)\n",
    "                a = min(255, max(0, int(r * 255)))\n",
    "                color = (0,0,255,a)\n",
    "                draw.rectangle(xy, fill=color)\n",
    "            elif r < 0:\n",
    "                a = min(255, max(0, int(-r * 255)))\n",
    "                # a = int(r / max_negative * 255)\n",
    "                color = (255,0,0,a)\n",
    "                draw.rectangle(xy, fill=color)\n",
    "            x += 16\n",
    "            i += 1\n",
    "        y += 16\n",
    "    display(image)"
   ]
  },
  {
   "source": [
    "## Premiere étape : apprentissage d'un seul coup"
   ],
   "cell_type": "markdown",
   "metadata": {}
  },
  {
   "cell_type": "code",
   "execution_count": 4,
   "metadata": {},
   "outputs": [
    {
     "output_type": "stream",
     "name": "stdout",
     "text": [
      "Q_matrix of initial state, before training:\n"
     ]
    },
    {
     "output_type": "display_data",
     "data": {
      "text/plain": "<PIL.Image.Image image mode=RGBA size=128x128 at 0x228E758B910>",
      "image/png": "[encoded data removed]"
     },
     "metadata": {}
    },
    {
     "output_type": "stream",
     "name": "stdout",
     "text": [
      "Target Q matrix:\n"
     ]
    },
    {
     "output_type": "display_data",
     "data": {
      "text/plain": "<PIL.Image.Image image mode=RGBA size=128x128 at 0x228E758B8B0>",
      "image/png": "[encoded data removed]"
     },
     "metadata": {}
    },
    {
     "output_type": "stream",
     "name": "stdout",
     "text": [
      "Q_matrix of initial state, after training:\n"
     ]
    },
    {
     "output_type": "display_data",
     "data": {
      "text/plain": "<PIL.Image.Image image mode=RGBA size=128x128 at 0x228E758B910>",
      "image/png": "[encoded data removed]"
     },
     "metadata": {}
    }
   ],
   "source": [
    "# New model\n",
    "board = Board()\n",
    "model = Model()\n",
    "learning_rate = 0.3\n",
    "criterion = torch.nn.MSELoss()\n",
    "optimizer = torch.optim.SGD(model.parameters(), lr=learning_rate)\n",
    "\n",
    "# Get initial state from the board\n",
    "initial_s, signal = board.reset()\n",
    "initial_s = torch.tensor(initial_s, dtype=torch.float).unsqueeze(0)\n",
    "\n",
    "# Predict an action\n",
    "a_scores = model(initial_s)\n",
    "a = torch.argmax(a_scores).item()\n",
    "encoded_a = encode_action(a)\n",
    "\n",
    "# Perform the action in the game\n",
    "s, signal = board.step(encoded_a)\n",
    "next_s = torch.tensor(s, dtype=torch.float).unsqueeze(0)\n",
    "\n",
    "# Process the signal\n",
    "r = reward_from_signal(signal, board)\n",
    "done = game_over_from_signal(signal, board)\n",
    "\n",
    "# Q Learning\n",
    "target_q = torch.zeros((65,), dtype=torch.float)\n",
    "\n",
    "# Add the reward and action\n",
    "target_q[a] = r\n",
    "\n",
    "# Render model before the training\n",
    "print(\"Q_matrix of initial state, before training:\")\n",
    "q_pred = model(torch.tensor(initial_s, dtype=torch.float))\n",
    "render_q(q_pred.tolist()[0])\n",
    "\n",
    "# Toggle on train mode\n",
    "model.train()\n",
    "\n",
    "for i in range(16):\n",
    "    # Compute loss on the difference between model output and target_q\n",
    "    q_pred = model(torch.tensor(initial_s, dtype=torch.float))\n",
    "    loss = criterion(torch.tensor(target_q, dtype=torch.float), q_pred)\n",
    "\n",
    "    # Let the optimizer do the backprop\n",
    "    optimizer.zero_grad()\n",
    "    loss.backward()\n",
    "    optimizer.step()\n",
    "\n",
    "print(\"Target Q matrix:\")\n",
    "render_q(target_q.tolist())\n",
    "\n",
    "# Render model after the training\n",
    "print(\"Q_matrix of initial state, after training:\")\n",
    "q_pred = model(torch.tensor(initial_s, dtype=torch.float))\n",
    "render_q(q_pred.tolist()[0])"
   ]
  },
  {
   "source": [
    "## Deuxième étape : apprentissage du premier état avec historique"
   ],
   "cell_type": "markdown",
   "metadata": {}
  },
  {
   "cell_type": "code",
   "execution_count": 9,
   "metadata": {},
   "outputs": [
    {
     "output_type": "stream",
     "name": "stdout",
     "text": [
      "Q_matrix of initial state, before training:\n"
     ]
    },
    {
     "output_type": "display_data",
     "data": {
      "text/plain": "<PIL.Image.Image image mode=RGBA size=128x128 at 0x228CBA91610>",
      "image/png": "[encoded data removed]"
     },
     "metadata": {}
    },
    {
     "output_type": "stream",
     "name": "stdout",
     "text": [
      "Target Q matrix:\n"
     ]
    },
    {
     "output_type": "display_data",
     "data": {
      "text/plain": "<PIL.Image.Image image mode=RGBA size=128x128 at 0x228CBA91040>",
      "image/png": "[encoded data removed]"
     },
     "metadata": {}
    },
    {
     "output_type": "stream",
     "name": "stdout",
     "text": [
      "Q_matrix of initial state, after training:\n"
     ]
    },
    {
     "output_type": "display_data",
     "data": {
      "text/plain": "<PIL.Image.Image image mode=RGBA size=128x128 at 0x228E7591220>",
      "image/png": "[encoded data removed]"
     },
     "metadata": {}
    }
   ],
   "source": [
    "# New model\n",
    "board = Board()\n",
    "model = Model()\n",
    "learning_rate = 0.3\n",
    "criterion = torch.nn.MSELoss()\n",
    "optimizer = torch.optim.SGD(model.parameters(), lr=learning_rate)\n",
    "\n",
    "# Render model before the training\n",
    "print(\"Q_matrix of initial state, before training:\")\n",
    "q_pred = model(torch.tensor(initial_s, dtype=torch.float))\n",
    "render_q(q_pred.tolist()[0])\n",
    "\n",
    "# (Action, Reward) container for each action\n",
    "history = []\n",
    "\n",
    "# Populating the history with every possible move\n",
    "for i_action in range(65):\n",
    "    # Reset the board\n",
    "    board.reset()\n",
    "\n",
    "    # Predict an action\n",
    "    a = i_action\n",
    "    encoded_a = encode_action(a)\n",
    "\n",
    "    # Perform the action in the game\n",
    "    s, signal = board.step(encoded_a)\n",
    "\n",
    "    # Process the signal\n",
    "    r = reward_from_signal(signal, board)\n",
    "\n",
    "    # Add the record to history\n",
    "    history.append((a, r))\n",
    "\n",
    "# Q Learning matrix for the initial state\n",
    "target_q = torch.zeros((65,), dtype=torch.float)\n",
    "\n",
    "# Add the reward and action for each game in history\n",
    "# NOTE: ça overwrite si y'a plusieurs valeurs\n",
    "for (a, r) in history:\n",
    "    target_q[a] = r\n",
    "\n",
    "print(\"Target Q matrix:\")\n",
    "render_q(target_q.tolist())\n",
    "\n",
    "# Toggle on train mode\n",
    "model.train()\n",
    "\n",
    "for i_batch in range(16):\n",
    "    # Compute loss on the difference between model output and target_q\n",
    "    q_pred = model(torch.tensor(initial_s, dtype=torch.float))\n",
    "    loss = criterion(torch.tensor(target_q, dtype=torch.float), q_pred)\n",
    "\n",
    "    # Let the optimizer do the backprop\n",
    "    optimizer.zero_grad()\n",
    "    loss.backward()\n",
    "    optimizer.step()\n",
    "\n",
    "# Render model after the training\n",
    "print(f\"Q_matrix of initial state, after training:\")\n",
    "q_pred = model(torch.tensor(initial_s, dtype=torch.float))\n",
    "render_q(q_pred.tolist()[0])"
   ]
  },
  {
   "source": [
    "## Troisième étape : à combien de coup est-ce que l'agent \"comprend\" le premier état ?"
   ],
   "cell_type": "markdown",
   "metadata": {}
  },
  {
   "cell_type": "code",
   "execution_count": 13,
   "metadata": {},
   "outputs": [
    {
     "output_type": "stream",
     "name": "stdout",
     "text": [
      "Target Q matrix: step 2\n"
     ]
    },
    {
     "output_type": "display_data",
     "data": {
      "text/plain": "<PIL.Image.Image image mode=RGBA size=128x128 at 0x228F4E7E070>",
      "image/png": "[encoded data removed]"
     },
     "metadata": {}
    },
    {
     "output_type": "stream",
     "name": "stdout",
     "text": [
      "Q_matrix of initial state, after training: step 2\n"
     ]
    },
    {
     "output_type": "display_data",
     "data": {
      "text/plain": "<PIL.Image.Image image mode=RGBA size=128x128 at 0x228F4E7E1C0>",
      "image/png": "[encoded data removed]"
     },
     "metadata": {}
    },
    {
     "output_type": "stream",
     "name": "stdout",
     "text": [
      "Target Q matrix: step 32\n"
     ]
    },
    {
     "output_type": "display_data",
     "data": {
      "text/plain": "<PIL.Image.Image image mode=RGBA size=128x128 at 0x228F4E7E070>",
      "image/png": "[encoded data removed]"
     },
     "metadata": {}
    },
    {
     "output_type": "stream",
     "name": "stdout",
     "text": [
      "Q_matrix of initial state, after training: step 32\n"
     ]
    },
    {
     "output_type": "display_data",
     "data": {
      "text/plain": "<PIL.Image.Image image mode=RGBA size=128x128 at 0x228F4E7E1C0>",
      "image/png": "[encoded data removed]"
     },
     "metadata": {}
    },
    {
     "output_type": "stream",
     "name": "stdout",
     "text": [
      "Target Q matrix: step 62\n"
     ]
    },
    {
     "output_type": "display_data",
     "data": {
      "text/plain": "<PIL.Image.Image image mode=RGBA size=128x128 at 0x228EF698130>",
      "image/png": "[encoded data removed]"
     },
     "metadata": {}
    },
    {
     "output_type": "stream",
     "name": "stdout",
     "text": [
      "Q_matrix of initial state, after training: step 62\n"
     ]
    },
    {
     "output_type": "display_data",
     "data": {
      "text/plain": "<PIL.Image.Image image mode=RGBA size=128x128 at 0x228F4E7E730>",
      "image/png": "[encoded data removed]"
     },
     "metadata": {}
    },
    {
     "output_type": "stream",
     "name": "stdout",
     "text": [
      "Target Q matrix: step 92\n"
     ]
    },
    {
     "output_type": "display_data",
     "data": {
      "text/plain": "<PIL.Image.Image image mode=RGBA size=128x128 at 0x228F4E8ABE0>",
      "image/png": "[encoded data removed]"
     },
     "metadata": {}
    },
    {
     "output_type": "stream",
     "name": "stdout",
     "text": [
      "Q_matrix of initial state, after training: step 92\n"
     ]
    },
    {
     "output_type": "display_data",
     "data": {
      "text/plain": "<PIL.Image.Image image mode=RGBA size=128x128 at 0x228F4E7E1C0>",
      "image/png": "[encoded data removed]"
     },
     "metadata": {}
    }
   ],
   "source": [
    "# New model\n",
    "board = Board()\n",
    "model = Model()\n",
    "learning_rate = 0.3\n",
    "batch_size = 32\n",
    "n_epochs = 128 # On aura pas joué tous les coups mais OK\n",
    "criterion = torch.nn.MSELoss()\n",
    "optimizer = torch.optim.SGD(model.parameters(), lr=learning_rate)\n",
    "\n",
    "# (Action, Reward) container for each action\n",
    "history = []\n",
    "\n",
    "# Populating the history with every possible move\n",
    "for i_epoch in range(n_epochs):\n",
    "    # Reset the board\n",
    "    initial_s, _ = board.reset()\n",
    "    initial_s = torch.tensor(initial_s, dtype=torch.float).unsqueeze(0)\n",
    "\n",
    "    # Play a random action\n",
    "    a = torch.randint(0, 65, (1,)).item()\n",
    "    encoded_a = encode_action(a)\n",
    "\n",
    "    # Perform the action in the game\n",
    "    s, signal = board.step(encoded_a)\n",
    "\n",
    "    # Process the signal\n",
    "    r = reward_from_signal(signal, board)\n",
    "\n",
    "    # Add the record to history\n",
    "    history.append((a, r))\n",
    "\n",
    "    # Continue playing if we don't have enough moves to learn in the history\n",
    "    if len(history) <= batch_size:\n",
    "        continue\n",
    "    # Keep history the size of the batch size by removing first element in list\n",
    "    history.pop(0)\n",
    "\n",
    "    # Q Learning matrix for the initial state\n",
    "    # NOTE: Je pense qu'il faudrait partir de la prédiction du modèle\n",
    "    # et y ajouter les rewards, les cases où il y a 0 peuvent peut-être\n",
    "    # poser problème\n",
    "    target_q = model(initial_s).view(-1)# torch.zeros((65,), dtype=torch.float)\n",
    "\n",
    "    # Add the reward and action for each game in history\n",
    "    # NOTE: ça overwrite si y'a plusieurs valeurs, donc batch_size devrait être < 65\n",
    "    # TODO: moyenne des valeurs ? pas d'overwrite ?\n",
    "    for (a, r) in random.sample(history, batch_size):\n",
    "        target_q[a] = r\n",
    "\n",
    "    # Toggle on train mode\n",
    "    model.train()\n",
    "\n",
    "    # for i_batch in range(4):\n",
    "    # Compute loss on the difference between model output and target_q\n",
    "    q_pred = model(torch.tensor(initial_s, dtype=torch.float))\n",
    "    loss = criterion(torch.tensor(target_q, dtype=torch.float), q_pred)\n",
    "\n",
    "    # Let the optimizer do the backprop\n",
    "    optimizer.zero_grad()\n",
    "    loss.backward()\n",
    "    optimizer.step()\n",
    "\n",
    "    \n",
    "    # Display matrixes\n",
    "    if (i_epoch - batch_size) % 30 == 1:\n",
    "        # Render model after the training\n",
    "        print(f\"Target Q matrix: step {i_epoch - batch_size + 1}\")\n",
    "        render_q(target_q.tolist())\n",
    "\n",
    "        print(f\"Q_matrix of initial state, after training: step {i_epoch - batch_size + 1}\")\n",
    "        q_pred = model(torch.tensor(initial_s, dtype=torch.float))\n",
    "        render_q(q_pred.tolist()[0])"
   ]
  },
  {
   "source": [
    "## Etape 4 : mouvements futurs"
   ],
   "cell_type": "markdown",
   "metadata": {}
  },
  {
   "cell_type": "code",
   "execution_count": null,
   "metadata": {},
   "outputs": [],
   "source": []
  }
 ]
}