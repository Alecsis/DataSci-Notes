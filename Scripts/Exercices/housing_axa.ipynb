{
 "metadata": {
  "language_info": {
   "codemirror_mode": {
    "name": "ipython",
    "version": 3
   },
   "file_extension": ".py",
   "mimetype": "text/x-python",
   "name": "python",
   "nbconvert_exporter": "python",
   "pygments_lexer": "ipython3",
   "version": "3.8.6-final"
  },
  "orig_nbformat": 2,
  "kernelspec": {
   "name": "python3",
   "display_name": "Python 3"
  }
 },
 "nbformat": 4,
 "nbformat_minor": 2,
 "cells": [
  {
   "cell_type": "code",
   "execution_count": 359,
   "metadata": {},
   "outputs": [],
   "source": [
    "# Importing the libraries\n",
    "import numpy as np\n",
    "import matplotlib.pyplot as plt\n",
    "import pandas as pd"
   ]
  },
  {
   "cell_type": "code",
   "execution_count": 360,
   "metadata": {},
   "outputs": [],
   "source": [
    "# Importing the datasets\n",
    "df_good = pd.read_csv('data/Axa/good.csv')\n",
    "df_eval = pd.read_csv('data/Axa/eval.csv')"
   ]
  },
  {
   "cell_type": "code",
   "execution_count": 361,
   "metadata": {},
   "outputs": [
    {
     "output_type": "execute_result",
     "data": {
      "text/plain": [
       "id                    0\n",
       "date                  0\n",
       "prix                  0\n",
       "ville                 0\n",
       "nombre_lots           0\n",
       "lot1_surface1       496\n",
       "lot2_surface1       886\n",
       "lot3_surface1      1005\n",
       "lot4_surface1      1015\n",
       "lot5_surface1      1018\n",
       "type                  0\n",
       "surface2            159\n",
       "nombre_pieces         0\n",
       "nature_culture      849\n",
       "surface_terrain     849\n",
       "dtype: int64"
      ]
     },
     "metadata": {},
     "execution_count": 361
    }
   ],
   "source": [
    "# Count NA values per col\n",
    "df_good[:].isna().sum()"
   ]
  },
  {
   "cell_type": "code",
   "execution_count": 362,
   "metadata": {},
   "outputs": [
    {
     "output_type": "execute_result",
     "data": {
      "text/plain": [
       "   id        date       prix ville  nombre_lots  lot1_surface1  lot2_surface1  \\\n",
       "0   1  2015-01-16   217000.0     B            0            NaN            NaN   \n",
       "1   2  2017-09-08  1691000.0     C            1          65.09            NaN   \n",
       "2   3  2018-12-05    43000.0     B            2          50.35            NaN   \n",
       "3   4  2018-08-09   139330.0     B            0            NaN            NaN   \n",
       "4   5  2016-02-04   665000.0     D            2          71.94            NaN   \n",
       "5   6  2019-07-03   485000.0     D            2          39.02            NaN   \n",
       "6   7  2018-07-06    81900.0     B            2          40.94            NaN   \n",
       "7   8  2017-12-27  1880000.0     D            3         192.08            NaN   \n",
       "8   9  2019-10-17    10000.0     D            1            NaN            NaN   \n",
       "9  10  2016-08-11   145800.0     A            0            NaN            NaN   \n",
       "\n",
       "   lot3_surface1  lot4_surface1  lot5_surface1         type  surface2  \\\n",
       "0            NaN            NaN            NaN       Maison     147.0   \n",
       "1            NaN            NaN            NaN  Appartement      71.0   \n",
       "2            NaN            NaN            NaN  Appartement      50.0   \n",
       "3            NaN            NaN            NaN       Maison      53.0   \n",
       "4            NaN            NaN            NaN  Appartement      75.0   \n",
       "5            NaN            NaN            NaN  Appartement      39.0   \n",
       "6            NaN            NaN            NaN  Appartement      42.0   \n",
       "7            NaN            NaN            NaN  Appartement     192.0   \n",
       "8            NaN            NaN            NaN   Dépendance       NaN   \n",
       "9            NaN            NaN            NaN       Maison     188.0   \n",
       "\n",
       "   nombre_pieces nature_culture  surface_terrain  \n",
       "0            5.0           sols            704.0  \n",
       "1            2.0            NaN              NaN  \n",
       "2            2.0            NaN              NaN  \n",
       "3            3.0           sols            235.0  \n",
       "4            4.0            NaN              NaN  \n",
       "5            2.0            NaN              NaN  \n",
       "6            2.0            NaN              NaN  \n",
       "7            7.0            NaN              NaN  \n",
       "8            0.0            NaN              NaN  \n",
       "9            5.0           sols            188.0  "
      ],
      "text/html": "<div>\n<style scoped>\n    .dataframe tbody tr th:only-of-type {\n        vertical-align: middle;\n    }\n\n    .dataframe tbody tr th {\n        vertical-align: top;\n    }\n\n    .dataframe thead th {\n        text-align: right;\n    }\n</style>\n<table border=\"1\" class=\"dataframe\">\n  <thead>\n    <tr style=\"text-align: right;\">\n      <th></th>\n      <th>id</th>\n      <th>date</th>\n      <th>prix</th>\n      <th>ville</th>\n      <th>nombre_lots</th>\n      <th>lot1_surface1</th>\n      <th>lot2_surface1</th>\n      <th>lot3_surface1</th>\n      <th>lot4_surface1</th>\n      <th>lot5_surface1</th>\n      <th>type</th>\n      <th>surface2</th>\n      <th>nombre_pieces</th>\n      <th>nature_culture</th>\n      <th>surface_terrain</th>\n    </tr>\n  </thead>\n  <tbody>\n    <tr>\n      <th>0</th>\n      <td>1</td>\n      <td>2015-01-16</td>\n      <td>217000.0</td>\n      <td>B</td>\n      <td>0</td>\n      <td>NaN</td>\n      <td>NaN</td>\n      <td>NaN</td>\n      <td>NaN</td>\n      <td>NaN</td>\n      <td>Maison</td>\n      <td>147.0</td>\n      <td>5.0</td>\n      <td>sols</td>\n      <td>704.0</td>\n    </tr>\n    <tr>\n      <th>1</th>\n      <td>2</td>\n      <td>2017-09-08</td>\n      <td>1691000.0</td>\n      <td>C</td>\n      <td>1</td>\n      <td>65.09</td>\n      <td>NaN</td>\n      <td>NaN</td>\n      <td>NaN</td>\n      <td>NaN</td>\n      <td>Appartement</td>\n      <td>71.0</td>\n      <td>2.0</td>\n      <td>NaN</td>\n      <td>NaN</td>\n    </tr>\n    <tr>\n      <th>2</th>\n      <td>3</td>\n      <td>2018-12-05</td>\n      <td>43000.0</td>\n      <td>B</td>\n      <td>2</td>\n      <td>50.35</td>\n      <td>NaN</td>\n      <td>NaN</td>\n      <td>NaN</td>\n      <td>NaN</td>\n      <td>Appartement</td>\n      <td>50.0</td>\n      <td>2.0</td>\n      <td>NaN</td>\n      <td>NaN</td>\n    </tr>\n    <tr>\n      <th>3</th>\n      <td>4</td>\n      <td>2018-08-09</td>\n      <td>139330.0</td>\n      <td>B</td>\n      <td>0</td>\n      <td>NaN</td>\n      <td>NaN</td>\n      <td>NaN</td>\n      <td>NaN</td>\n      <td>NaN</td>\n      <td>Maison</td>\n      <td>53.0</td>\n      <td>3.0</td>\n      <td>sols</td>\n      <td>235.0</td>\n    </tr>\n    <tr>\n      <th>4</th>\n      <td>5</td>\n      <td>2016-02-04</td>\n      <td>665000.0</td>\n      <td>D</td>\n      <td>2</td>\n      <td>71.94</td>\n      <td>NaN</td>\n      <td>NaN</td>\n      <td>NaN</td>\n      <td>NaN</td>\n      <td>Appartement</td>\n      <td>75.0</td>\n      <td>4.0</td>\n      <td>NaN</td>\n      <td>NaN</td>\n    </tr>\n    <tr>\n      <th>5</th>\n      <td>6</td>\n      <td>2019-07-03</td>\n      <td>485000.0</td>\n      <td>D</td>\n      <td>2</td>\n      <td>39.02</td>\n      <td>NaN</td>\n      <td>NaN</td>\n      <td>NaN</td>\n      <td>NaN</td>\n      <td>Appartement</td>\n      <td>39.0</td>\n      <td>2.0</td>\n      <td>NaN</td>\n      <td>NaN</td>\n    </tr>\n    <tr>\n      <th>6</th>\n      <td>7</td>\n      <td>2018-07-06</td>\n      <td>81900.0</td>\n      <td>B</td>\n      <td>2</td>\n      <td>40.94</td>\n      <td>NaN</td>\n      <td>NaN</td>\n      <td>NaN</td>\n      <td>NaN</td>\n      <td>Appartement</td>\n      <td>42.0</td>\n      <td>2.0</td>\n      <td>NaN</td>\n      <td>NaN</td>\n    </tr>\n    <tr>\n      <th>7</th>\n      <td>8</td>\n      <td>2017-12-27</td>\n      <td>1880000.0</td>\n      <td>D</td>\n      <td>3</td>\n      <td>192.08</td>\n      <td>NaN</td>\n      <td>NaN</td>\n      <td>NaN</td>\n      <td>NaN</td>\n      <td>Appartement</td>\n      <td>192.0</td>\n      <td>7.0</td>\n      <td>NaN</td>\n      <td>NaN</td>\n    </tr>\n    <tr>\n      <th>8</th>\n      <td>9</td>\n      <td>2019-10-17</td>\n      <td>10000.0</td>\n      <td>D</td>\n      <td>1</td>\n      <td>NaN</td>\n      <td>NaN</td>\n      <td>NaN</td>\n      <td>NaN</td>\n      <td>NaN</td>\n      <td>Dépendance</td>\n      <td>NaN</td>\n      <td>0.0</td>\n      <td>NaN</td>\n      <td>NaN</td>\n    </tr>\n    <tr>\n      <th>9</th>\n      <td>10</td>\n      <td>2016-08-11</td>\n      <td>145800.0</td>\n      <td>A</td>\n      <td>0</td>\n      <td>NaN</td>\n      <td>NaN</td>\n      <td>NaN</td>\n      <td>NaN</td>\n      <td>NaN</td>\n      <td>Maison</td>\n      <td>188.0</td>\n      <td>5.0</td>\n      <td>sols</td>\n      <td>188.0</td>\n    </tr>\n  </tbody>\n</table>\n</div>"
     },
     "metadata": {},
     "execution_count": 362
    }
   ],
   "source": [
    "# Head values\n",
    "df_good.head(10)"
   ]
  },
  {
   "cell_type": "code",
   "execution_count": 363,
   "metadata": {},
   "outputs": [
    {
     "output_type": "execute_result",
     "data": {
      "text/plain": [
       "array(['sols', nan], dtype=object)"
      ]
     },
     "metadata": {},
     "execution_count": 363
    }
   ],
   "source": [
    "# Show unique values in nature_culture\n",
    "df_good['nature_culture'].unique()"
   ]
  },
  {
   "cell_type": "code",
   "execution_count": 364,
   "metadata": {},
   "outputs": [
    {
     "output_type": "execute_result",
     "data": {
      "text/plain": [
       "array([1, 0], dtype=int64)"
      ]
     },
     "metadata": {},
     "execution_count": 364
    }
   ],
   "source": [
    "# Replace sols with 1 and nan with 0\n",
    "df_good[\"nature_culture\"].replace({\"sols\": 1, np.nan: 0}, inplace=True)\n",
    "df_good['nature_culture'].unique()"
   ]
  },
  {
   "cell_type": "code",
   "execution_count": 365,
   "metadata": {},
   "outputs": [
    {
     "output_type": "execute_result",
     "data": {
      "text/plain": [
       "id                 0\n",
       "date               0\n",
       "prix               0\n",
       "ville              0\n",
       "nombre_lots        0\n",
       "lot1_surface1      0\n",
       "lot2_surface1      0\n",
       "lot3_surface1      0\n",
       "lot4_surface1      0\n",
       "lot5_surface1      0\n",
       "type               0\n",
       "surface2           0\n",
       "nombre_pieces      0\n",
       "nature_culture     0\n",
       "surface_terrain    0\n",
       "dtype: int64"
      ]
     },
     "metadata": {},
     "execution_count": 365
    }
   ],
   "source": [
    "# Taking care of missing data\n",
    "from sklearn.impute import SimpleImputer\n",
    "imp_zeros = SimpleImputer(missing_values=np.nan, strategy='constant', fill_value=0)\n",
    "nan_to_zeros = ['lot1_surface1', 'lot2_surface1', 'lot3_surface1', 'lot3_surface1', 'lot4_surface1', 'lot5_surface1', 'surface2', 'surface_terrain']\n",
    "df_good.loc[:, nan_to_zeros] = imp_zeros.fit_transform(df_good.loc[:, nan_to_zeros])\n",
    "df_good[:].isna().sum()"
   ]
  },
  {
   "cell_type": "code",
   "execution_count": 366,
   "metadata": {},
   "outputs": [
    {
     "output_type": "execute_result",
     "data": {
      "text/plain": [
       "   id        date       prix ville  nombre_lots  lot1_surface1  lot2_surface1  \\\n",
       "0   1  2015-01-16   217000.0     B            0           0.00            0.0   \n",
       "1   2  2017-09-08  1691000.0     C            1          65.09            0.0   \n",
       "2   3  2018-12-05    43000.0     B            2          50.35            0.0   \n",
       "3   4  2018-08-09   139330.0     B            0           0.00            0.0   \n",
       "4   5  2016-02-04   665000.0     D            2          71.94            0.0   \n",
       "\n",
       "   lot3_surface1  lot4_surface1  lot5_surface1         type  surface2  \\\n",
       "0            0.0            0.0            0.0       Maison     147.0   \n",
       "1            0.0            0.0            0.0  Appartement      71.0   \n",
       "2            0.0            0.0            0.0  Appartement      50.0   \n",
       "3            0.0            0.0            0.0       Maison      53.0   \n",
       "4            0.0            0.0            0.0  Appartement      75.0   \n",
       "\n",
       "   nombre_pieces  nature_culture  surface_terrain  \n",
       "0            5.0               1            704.0  \n",
       "1            2.0               0              0.0  \n",
       "2            2.0               0              0.0  \n",
       "3            3.0               1            235.0  \n",
       "4            4.0               0              0.0  "
      ],
      "text/html": "<div>\n<style scoped>\n    .dataframe tbody tr th:only-of-type {\n        vertical-align: middle;\n    }\n\n    .dataframe tbody tr th {\n        vertical-align: top;\n    }\n\n    .dataframe thead th {\n        text-align: right;\n    }\n</style>\n<table border=\"1\" class=\"dataframe\">\n  <thead>\n    <tr style=\"text-align: right;\">\n      <th></th>\n      <th>id</th>\n      <th>date</th>\n      <th>prix</th>\n      <th>ville</th>\n      <th>nombre_lots</th>\n      <th>lot1_surface1</th>\n      <th>lot2_surface1</th>\n      <th>lot3_surface1</th>\n      <th>lot4_surface1</th>\n      <th>lot5_surface1</th>\n      <th>type</th>\n      <th>surface2</th>\n      <th>nombre_pieces</th>\n      <th>nature_culture</th>\n      <th>surface_terrain</th>\n    </tr>\n  </thead>\n  <tbody>\n    <tr>\n      <th>0</th>\n      <td>1</td>\n      <td>2015-01-16</td>\n      <td>217000.0</td>\n      <td>B</td>\n      <td>0</td>\n      <td>0.00</td>\n      <td>0.0</td>\n      <td>0.0</td>\n      <td>0.0</td>\n      <td>0.0</td>\n      <td>Maison</td>\n      <td>147.0</td>\n      <td>5.0</td>\n      <td>1</td>\n      <td>704.0</td>\n    </tr>\n    <tr>\n      <th>1</th>\n      <td>2</td>\n      <td>2017-09-08</td>\n      <td>1691000.0</td>\n      <td>C</td>\n      <td>1</td>\n      <td>65.09</td>\n      <td>0.0</td>\n      <td>0.0</td>\n      <td>0.0</td>\n      <td>0.0</td>\n      <td>Appartement</td>\n      <td>71.0</td>\n      <td>2.0</td>\n      <td>0</td>\n      <td>0.0</td>\n    </tr>\n    <tr>\n      <th>2</th>\n      <td>3</td>\n      <td>2018-12-05</td>\n      <td>43000.0</td>\n      <td>B</td>\n      <td>2</td>\n      <td>50.35</td>\n      <td>0.0</td>\n      <td>0.0</td>\n      <td>0.0</td>\n      <td>0.0</td>\n      <td>Appartement</td>\n      <td>50.0</td>\n      <td>2.0</td>\n      <td>0</td>\n      <td>0.0</td>\n    </tr>\n    <tr>\n      <th>3</th>\n      <td>4</td>\n      <td>2018-08-09</td>\n      <td>139330.0</td>\n      <td>B</td>\n      <td>0</td>\n      <td>0.00</td>\n      <td>0.0</td>\n      <td>0.0</td>\n      <td>0.0</td>\n      <td>0.0</td>\n      <td>Maison</td>\n      <td>53.0</td>\n      <td>3.0</td>\n      <td>1</td>\n      <td>235.0</td>\n    </tr>\n    <tr>\n      <th>4</th>\n      <td>5</td>\n      <td>2016-02-04</td>\n      <td>665000.0</td>\n      <td>D</td>\n      <td>2</td>\n      <td>71.94</td>\n      <td>0.0</td>\n      <td>0.0</td>\n      <td>0.0</td>\n      <td>0.0</td>\n      <td>Appartement</td>\n      <td>75.0</td>\n      <td>4.0</td>\n      <td>0</td>\n      <td>0.0</td>\n    </tr>\n  </tbody>\n</table>\n</div>"
     },
     "metadata": {},
     "execution_count": 366
    }
   ],
   "source": [
    "# Head values\n",
    "df_good.head()"
   ]
  },
  {
   "cell_type": "code",
   "execution_count": 367,
   "metadata": {},
   "outputs": [],
   "source": [
    "df_good['année'] = pd.to_datetime(df_good['date']).dt.year\n",
    "df_good['mois'] = pd.to_datetime(df_good['date']).dt.month\n",
    "df_good['jour'] = pd.to_datetime(df_good['date']).dt.day\n",
    "df_good = df_good.drop(['date', 'id'], axis=1)"
   ]
  },
  {
   "cell_type": "code",
   "execution_count": 368,
   "metadata": {},
   "outputs": [
    {
     "output_type": "execute_result",
     "data": {
      "text/plain": [
       "        prix ville  nombre_lots  lot1_surface1  lot2_surface1  lot3_surface1  \\\n",
       "0   217000.0     B            0           0.00            0.0            0.0   \n",
       "1  1691000.0     C            1          65.09            0.0            0.0   \n",
       "2    43000.0     B            2          50.35            0.0            0.0   \n",
       "3   139330.0     B            0           0.00            0.0            0.0   \n",
       "4   665000.0     D            2          71.94            0.0            0.0   \n",
       "\n",
       "   lot4_surface1  lot5_surface1         type  surface2  nombre_pieces  \\\n",
       "0            0.0            0.0       Maison     147.0            5.0   \n",
       "1            0.0            0.0  Appartement      71.0            2.0   \n",
       "2            0.0            0.0  Appartement      50.0            2.0   \n",
       "3            0.0            0.0       Maison      53.0            3.0   \n",
       "4            0.0            0.0  Appartement      75.0            4.0   \n",
       "\n",
       "   nature_culture  surface_terrain  année  mois  jour  \n",
       "0               1            704.0   2015     1    16  \n",
       "1               0              0.0   2017     9     8  \n",
       "2               0              0.0   2018    12     5  \n",
       "3               1            235.0   2018     8     9  \n",
       "4               0              0.0   2016     2     4  "
      ],
      "text/html": "<div>\n<style scoped>\n    .dataframe tbody tr th:only-of-type {\n        vertical-align: middle;\n    }\n\n    .dataframe tbody tr th {\n        vertical-align: top;\n    }\n\n    .dataframe thead th {\n        text-align: right;\n    }\n</style>\n<table border=\"1\" class=\"dataframe\">\n  <thead>\n    <tr style=\"text-align: right;\">\n      <th></th>\n      <th>prix</th>\n      <th>ville</th>\n      <th>nombre_lots</th>\n      <th>lot1_surface1</th>\n      <th>lot2_surface1</th>\n      <th>lot3_surface1</th>\n      <th>lot4_surface1</th>\n      <th>lot5_surface1</th>\n      <th>type</th>\n      <th>surface2</th>\n      <th>nombre_pieces</th>\n      <th>nature_culture</th>\n      <th>surface_terrain</th>\n      <th>année</th>\n      <th>mois</th>\n      <th>jour</th>\n    </tr>\n  </thead>\n  <tbody>\n    <tr>\n      <th>0</th>\n      <td>217000.0</td>\n      <td>B</td>\n      <td>0</td>\n      <td>0.00</td>\n      <td>0.0</td>\n      <td>0.0</td>\n      <td>0.0</td>\n      <td>0.0</td>\n      <td>Maison</td>\n      <td>147.0</td>\n      <td>5.0</td>\n      <td>1</td>\n      <td>704.0</td>\n      <td>2015</td>\n      <td>1</td>\n      <td>16</td>\n    </tr>\n    <tr>\n      <th>1</th>\n      <td>1691000.0</td>\n      <td>C</td>\n      <td>1</td>\n      <td>65.09</td>\n      <td>0.0</td>\n      <td>0.0</td>\n      <td>0.0</td>\n      <td>0.0</td>\n      <td>Appartement</td>\n      <td>71.0</td>\n      <td>2.0</td>\n      <td>0</td>\n      <td>0.0</td>\n      <td>2017</td>\n      <td>9</td>\n      <td>8</td>\n    </tr>\n    <tr>\n      <th>2</th>\n      <td>43000.0</td>\n      <td>B</td>\n      <td>2</td>\n      <td>50.35</td>\n      <td>0.0</td>\n      <td>0.0</td>\n      <td>0.0</td>\n      <td>0.0</td>\n      <td>Appartement</td>\n      <td>50.0</td>\n      <td>2.0</td>\n      <td>0</td>\n      <td>0.0</td>\n      <td>2018</td>\n      <td>12</td>\n      <td>5</td>\n    </tr>\n    <tr>\n      <th>3</th>\n      <td>139330.0</td>\n      <td>B</td>\n      <td>0</td>\n      <td>0.00</td>\n      <td>0.0</td>\n      <td>0.0</td>\n      <td>0.0</td>\n      <td>0.0</td>\n      <td>Maison</td>\n      <td>53.0</td>\n      <td>3.0</td>\n      <td>1</td>\n      <td>235.0</td>\n      <td>2018</td>\n      <td>8</td>\n      <td>9</td>\n    </tr>\n    <tr>\n      <th>4</th>\n      <td>665000.0</td>\n      <td>D</td>\n      <td>2</td>\n      <td>71.94</td>\n      <td>0.0</td>\n      <td>0.0</td>\n      <td>0.0</td>\n      <td>0.0</td>\n      <td>Appartement</td>\n      <td>75.0</td>\n      <td>4.0</td>\n      <td>0</td>\n      <td>0.0</td>\n      <td>2016</td>\n      <td>2</td>\n      <td>4</td>\n    </tr>\n  </tbody>\n</table>\n</div>"
     },
     "metadata": {},
     "execution_count": 368
    }
   ],
   "source": [
    "df_good.head()"
   ]
  },
  {
   "cell_type": "code",
   "execution_count": 369,
   "metadata": {},
   "outputs": [
    {
     "output_type": "execute_result",
     "data": {
      "text/plain": [
       "        prix  nombre_lots  lot1_surface1  lot2_surface1  lot3_surface1  \\\n",
       "0   217000.0            0           0.00            0.0            0.0   \n",
       "1  1691000.0            1          65.09            0.0            0.0   \n",
       "2    43000.0            2          50.35            0.0            0.0   \n",
       "3   139330.0            0           0.00            0.0            0.0   \n",
       "4   665000.0            2          71.94            0.0            0.0   \n",
       "\n",
       "   lot4_surface1  lot5_surface1         type  surface2  nombre_pieces  \\\n",
       "0            0.0            0.0       Maison     147.0            5.0   \n",
       "1            0.0            0.0  Appartement      71.0            2.0   \n",
       "2            0.0            0.0  Appartement      50.0            2.0   \n",
       "3            0.0            0.0       Maison      53.0            3.0   \n",
       "4            0.0            0.0  Appartement      75.0            4.0   \n",
       "\n",
       "   nature_culture  surface_terrain  année  mois  jour  ville_A  ville_B  \\\n",
       "0               1            704.0   2015     1    16        0        1   \n",
       "1               0              0.0   2017     9     8        0        0   \n",
       "2               0              0.0   2018    12     5        0        1   \n",
       "3               1            235.0   2018     8     9        0        1   \n",
       "4               0              0.0   2016     2     4        0        0   \n",
       "\n",
       "   ville_C  ville_D  \n",
       "0        0        0  \n",
       "1        1        0  \n",
       "2        0        0  \n",
       "3        0        0  \n",
       "4        0        1  "
      ],
      "text/html": "<div>\n<style scoped>\n    .dataframe tbody tr th:only-of-type {\n        vertical-align: middle;\n    }\n\n    .dataframe tbody tr th {\n        vertical-align: top;\n    }\n\n    .dataframe thead th {\n        text-align: right;\n    }\n</style>\n<table border=\"1\" class=\"dataframe\">\n  <thead>\n    <tr style=\"text-align: right;\">\n      <th></th>\n      <th>prix</th>\n      <th>nombre_lots</th>\n      <th>lot1_surface1</th>\n      <th>lot2_surface1</th>\n      <th>lot3_surface1</th>\n      <th>lot4_surface1</th>\n      <th>lot5_surface1</th>\n      <th>type</th>\n      <th>surface2</th>\n      <th>nombre_pieces</th>\n      <th>nature_culture</th>\n      <th>surface_terrain</th>\n      <th>année</th>\n      <th>mois</th>\n      <th>jour</th>\n      <th>ville_A</th>\n      <th>ville_B</th>\n      <th>ville_C</th>\n      <th>ville_D</th>\n    </tr>\n  </thead>\n  <tbody>\n    <tr>\n      <th>0</th>\n      <td>217000.0</td>\n      <td>0</td>\n      <td>0.00</td>\n      <td>0.0</td>\n      <td>0.0</td>\n      <td>0.0</td>\n      <td>0.0</td>\n      <td>Maison</td>\n      <td>147.0</td>\n      <td>5.0</td>\n      <td>1</td>\n      <td>704.0</td>\n      <td>2015</td>\n      <td>1</td>\n      <td>16</td>\n      <td>0</td>\n      <td>1</td>\n      <td>0</td>\n      <td>0</td>\n    </tr>\n    <tr>\n      <th>1</th>\n      <td>1691000.0</td>\n      <td>1</td>\n      <td>65.09</td>\n      <td>0.0</td>\n      <td>0.0</td>\n      <td>0.0</td>\n      <td>0.0</td>\n      <td>Appartement</td>\n      <td>71.0</td>\n      <td>2.0</td>\n      <td>0</td>\n      <td>0.0</td>\n      <td>2017</td>\n      <td>9</td>\n      <td>8</td>\n      <td>0</td>\n      <td>0</td>\n      <td>1</td>\n      <td>0</td>\n    </tr>\n    <tr>\n      <th>2</th>\n      <td>43000.0</td>\n      <td>2</td>\n      <td>50.35</td>\n      <td>0.0</td>\n      <td>0.0</td>\n      <td>0.0</td>\n      <td>0.0</td>\n      <td>Appartement</td>\n      <td>50.0</td>\n      <td>2.0</td>\n      <td>0</td>\n      <td>0.0</td>\n      <td>2018</td>\n      <td>12</td>\n      <td>5</td>\n      <td>0</td>\n      <td>1</td>\n      <td>0</td>\n      <td>0</td>\n    </tr>\n    <tr>\n      <th>3</th>\n      <td>139330.0</td>\n      <td>0</td>\n      <td>0.00</td>\n      <td>0.0</td>\n      <td>0.0</td>\n      <td>0.0</td>\n      <td>0.0</td>\n      <td>Maison</td>\n      <td>53.0</td>\n      <td>3.0</td>\n      <td>1</td>\n      <td>235.0</td>\n      <td>2018</td>\n      <td>8</td>\n      <td>9</td>\n      <td>0</td>\n      <td>1</td>\n      <td>0</td>\n      <td>0</td>\n    </tr>\n    <tr>\n      <th>4</th>\n      <td>665000.0</td>\n      <td>2</td>\n      <td>71.94</td>\n      <td>0.0</td>\n      <td>0.0</td>\n      <td>0.0</td>\n      <td>0.0</td>\n      <td>Appartement</td>\n      <td>75.0</td>\n      <td>4.0</td>\n      <td>0</td>\n      <td>0.0</td>\n      <td>2016</td>\n      <td>2</td>\n      <td>4</td>\n      <td>0</td>\n      <td>0</td>\n      <td>0</td>\n      <td>1</td>\n    </tr>\n  </tbody>\n</table>\n</div>"
     },
     "metadata": {},
     "execution_count": 369
    }
   ],
   "source": [
    "# Encoding categorical data\n",
    "dummies = pd.get_dummies(df_good['ville'], prefix='ville')\n",
    "df_good[dummies.columns] = dummies\n",
    "df_good = df_good.drop(['ville'], axis=1)\n",
    "df_good.head()"
   ]
  },
  {
   "cell_type": "code",
   "execution_count": 370,
   "metadata": {},
   "outputs": [
    {
     "output_type": "execute_result",
     "data": {
      "text/plain": [
       "        prix  nombre_lots  lot1_surface1  lot2_surface1  lot3_surface1  \\\n",
       "0   217000.0            0           0.00            0.0            0.0   \n",
       "1  1691000.0            1          65.09            0.0            0.0   \n",
       "2    43000.0            2          50.35            0.0            0.0   \n",
       "3   139330.0            0           0.00            0.0            0.0   \n",
       "4   665000.0            2          71.94            0.0            0.0   \n",
       "\n",
       "   lot4_surface1  lot5_surface1  surface2  nombre_pieces  nature_culture  ...  \\\n",
       "0            0.0            0.0     147.0            5.0               1  ...   \n",
       "1            0.0            0.0      71.0            2.0               0  ...   \n",
       "2            0.0            0.0      50.0            2.0               0  ...   \n",
       "3            0.0            0.0      53.0            3.0               1  ...   \n",
       "4            0.0            0.0      75.0            4.0               0  ...   \n",
       "\n",
       "   mois  jour  ville_A  ville_B  ville_C  ville_D  type_Appartement  \\\n",
       "0     1    16        0        1        0        0                 0   \n",
       "1     9     8        0        0        1        0                 1   \n",
       "2    12     5        0        1        0        0                 1   \n",
       "3     8     9        0        1        0        0                 0   \n",
       "4     2     4        0        0        0        1                 1   \n",
       "\n",
       "   type_Dépendance  type_Local industriel. commercial ou assimilé  type_Maison  \n",
       "0                0                                              0            1  \n",
       "1                0                                              0            0  \n",
       "2                0                                              0            0  \n",
       "3                0                                              0            1  \n",
       "4                0                                              0            0  \n",
       "\n",
       "[5 rows x 22 columns]"
      ],
      "text/html": "<div>\n<style scoped>\n    .dataframe tbody tr th:only-of-type {\n        vertical-align: middle;\n    }\n\n    .dataframe tbody tr th {\n        vertical-align: top;\n    }\n\n    .dataframe thead th {\n        text-align: right;\n    }\n</style>\n<table border=\"1\" class=\"dataframe\">\n  <thead>\n    <tr style=\"text-align: right;\">\n      <th></th>\n      <th>prix</th>\n      <th>nombre_lots</th>\n      <th>lot1_surface1</th>\n      <th>lot2_surface1</th>\n      <th>lot3_surface1</th>\n      <th>lot4_surface1</th>\n      <th>lot5_surface1</th>\n      <th>surface2</th>\n      <th>nombre_pieces</th>\n      <th>nature_culture</th>\n      <th>...</th>\n      <th>mois</th>\n      <th>jour</th>\n      <th>ville_A</th>\n      <th>ville_B</th>\n      <th>ville_C</th>\n      <th>ville_D</th>\n      <th>type_Appartement</th>\n      <th>type_Dépendance</th>\n      <th>type_Local industriel. commercial ou assimilé</th>\n      <th>type_Maison</th>\n    </tr>\n  </thead>\n  <tbody>\n    <tr>\n      <th>0</th>\n      <td>217000.0</td>\n      <td>0</td>\n      <td>0.00</td>\n      <td>0.0</td>\n      <td>0.0</td>\n      <td>0.0</td>\n      <td>0.0</td>\n      <td>147.0</td>\n      <td>5.0</td>\n      <td>1</td>\n      <td>...</td>\n      <td>1</td>\n      <td>16</td>\n      <td>0</td>\n      <td>1</td>\n      <td>0</td>\n      <td>0</td>\n      <td>0</td>\n      <td>0</td>\n      <td>0</td>\n      <td>1</td>\n    </tr>\n    <tr>\n      <th>1</th>\n      <td>1691000.0</td>\n      <td>1</td>\n      <td>65.09</td>\n      <td>0.0</td>\n      <td>0.0</td>\n      <td>0.0</td>\n      <td>0.0</td>\n      <td>71.0</td>\n      <td>2.0</td>\n      <td>0</td>\n      <td>...</td>\n      <td>9</td>\n      <td>8</td>\n      <td>0</td>\n      <td>0</td>\n      <td>1</td>\n      <td>0</td>\n      <td>1</td>\n      <td>0</td>\n      <td>0</td>\n      <td>0</td>\n    </tr>\n    <tr>\n      <th>2</th>\n      <td>43000.0</td>\n      <td>2</td>\n      <td>50.35</td>\n      <td>0.0</td>\n      <td>0.0</td>\n      <td>0.0</td>\n      <td>0.0</td>\n      <td>50.0</td>\n      <td>2.0</td>\n      <td>0</td>\n      <td>...</td>\n      <td>12</td>\n      <td>5</td>\n      <td>0</td>\n      <td>1</td>\n      <td>0</td>\n      <td>0</td>\n      <td>1</td>\n      <td>0</td>\n      <td>0</td>\n      <td>0</td>\n    </tr>\n    <tr>\n      <th>3</th>\n      <td>139330.0</td>\n      <td>0</td>\n      <td>0.00</td>\n      <td>0.0</td>\n      <td>0.0</td>\n      <td>0.0</td>\n      <td>0.0</td>\n      <td>53.0</td>\n      <td>3.0</td>\n      <td>1</td>\n      <td>...</td>\n      <td>8</td>\n      <td>9</td>\n      <td>0</td>\n      <td>1</td>\n      <td>0</td>\n      <td>0</td>\n      <td>0</td>\n      <td>0</td>\n      <td>0</td>\n      <td>1</td>\n    </tr>\n    <tr>\n      <th>4</th>\n      <td>665000.0</td>\n      <td>2</td>\n      <td>71.94</td>\n      <td>0.0</td>\n      <td>0.0</td>\n      <td>0.0</td>\n      <td>0.0</td>\n      <td>75.0</td>\n      <td>4.0</td>\n      <td>0</td>\n      <td>...</td>\n      <td>2</td>\n      <td>4</td>\n      <td>0</td>\n      <td>0</td>\n      <td>0</td>\n      <td>1</td>\n      <td>1</td>\n      <td>0</td>\n      <td>0</td>\n      <td>0</td>\n    </tr>\n  </tbody>\n</table>\n<p>5 rows × 22 columns</p>\n</div>"
     },
     "metadata": {},
     "execution_count": 370
    }
   ],
   "source": [
    "# Encoding categorical data\n",
    "dummies = pd.get_dummies(df_good['type'], prefix='type')\n",
    "df_good[dummies.columns] = dummies\n",
    "df_good = df_good.drop(['type'], axis=1)\n",
    "df_good.head()"
   ]
  },
  {
   "cell_type": "code",
   "execution_count": 371,
   "metadata": {},
   "outputs": [
    {
     "output_type": "execute_result",
     "data": {
      "text/plain": [
       "               prix   nombre_lots  lot1_surface1  lot2_surface1  \\\n",
       "count  1.019000e+03  1.019000e+03   1.019000e+03   1.019000e+03   \n",
       "mean   6.275647e-17 -5.229706e-17  -2.396949e-17   6.275647e-17   \n",
       "std    1.000491e+00  1.000491e+00   1.000491e+00   1.000491e+00   \n",
       "min   -5.017155e-01 -1.127080e+00  -6.704556e-01  -3.295574e-01   \n",
       "25%   -4.287038e-01 -3.043763e-01  -6.704556e-01  -3.295574e-01   \n",
       "50%   -3.031221e-01 -3.043763e-01  -4.929254e-01  -3.295574e-01   \n",
       "75%    6.534836e-02  5.183278e-01   4.184266e-01  -3.295574e-01   \n",
       "max    1.602348e+01  1.614971e+01   5.830248e+00   8.413801e+00   \n",
       "\n",
       "       lot3_surface1  lot4_surface1  lot5_surface1      surface2  \\\n",
       "count   1.019000e+03   1.019000e+03   1.019000e+03  1.019000e+03   \n",
       "mean    2.789177e-17   6.972941e-18   3.486471e-18 -4.881059e-17   \n",
       "std     1.000491e+00   1.000491e+00   1.000491e+00  1.000491e+00   \n",
       "min    -9.538664e-02  -5.586579e-02  -3.134196e-02 -9.714145e-01   \n",
       "25%    -9.538664e-02  -5.586579e-02  -3.134196e-02 -5.879002e-01   \n",
       "50%    -9.538664e-02  -5.586579e-02  -3.134196e-02 -2.043859e-01   \n",
       "75%    -9.538664e-02  -5.586579e-02  -3.134196e-02  2.976692e-01   \n",
       "max     1.832209e+01   2.431503e+01   3.190611e+01  8.316605e+00   \n",
       "\n",
       "       nombre_pieces  nature_culture  ...          mois          jour  \\\n",
       "count   1.019000e+03    1.019000e+03  ...  1.019000e+03  1.019000e+03   \n",
       "mean    1.394588e-17   -4.183765e-17  ...  2.702015e-17 -2.004721e-16   \n",
       "std     1.000491e+00    1.000491e+00  ...  1.000491e+00  1.000491e+00   \n",
       "min    -1.120234e+00   -4.474769e-01  ... -1.643860e+00 -1.796273e+00   \n",
       "25%    -6.489217e-01   -4.474769e-01  ... -7.775820e-01 -8.934854e-01   \n",
       "50%    -1.776094e-01   -4.474769e-01  ...  8.869648e-02  1.221510e-01   \n",
       "75%     7.650154e-01   -4.474769e-01  ...  9.549749e-01  9.120905e-01   \n",
       "max     6.420764e+00    2.234752e+00  ...  1.532494e+00  1.589181e+00   \n",
       "\n",
       "           ville_A      ville_B      ville_C      ville_D  type_Appartement  \\\n",
       "count  1019.000000  1019.000000  1019.000000  1019.000000       1019.000000   \n",
       "mean      0.052012     0.274779     0.206084     0.467125          0.612365   \n",
       "std       0.222160     0.446622     0.404690     0.499163          0.487450   \n",
       "min       0.000000     0.000000     0.000000     0.000000          0.000000   \n",
       "25%       0.000000     0.000000     0.000000     0.000000          0.000000   \n",
       "50%       0.000000     0.000000     0.000000     0.000000          1.000000   \n",
       "75%       0.000000     1.000000     0.000000     1.000000          1.000000   \n",
       "max       1.000000     1.000000     1.000000     1.000000          1.000000   \n",
       "\n",
       "       type_Dépendance  type_Local industriel. commercial ou assimilé  \\\n",
       "count      1019.000000                                     1019.00000   \n",
       "mean          0.156035                                        0.07262   \n",
       "std           0.363067                                        0.25964   \n",
       "min           0.000000                                        0.00000   \n",
       "25%           0.000000                                        0.00000   \n",
       "50%           0.000000                                        0.00000   \n",
       "75%           0.000000                                        0.00000   \n",
       "max           1.000000                                        1.00000   \n",
       "\n",
       "       type_Maison  \n",
       "count  1019.000000  \n",
       "mean      0.158979  \n",
       "std       0.365836  \n",
       "min       0.000000  \n",
       "25%       0.000000  \n",
       "50%       0.000000  \n",
       "75%       0.000000  \n",
       "max       1.000000  \n",
       "\n",
       "[8 rows x 22 columns]"
      ],
      "text/html": "<div>\n<style scoped>\n    .dataframe tbody tr th:only-of-type {\n        vertical-align: middle;\n    }\n\n    .dataframe tbody tr th {\n        vertical-align: top;\n    }\n\n    .dataframe thead th {\n        text-align: right;\n    }\n</style>\n<table border=\"1\" class=\"dataframe\">\n  <thead>\n    <tr style=\"text-align: right;\">\n      <th></th>\n      <th>prix</th>\n      <th>nombre_lots</th>\n      <th>lot1_surface1</th>\n      <th>lot2_surface1</th>\n      <th>lot3_surface1</th>\n      <th>lot4_surface1</th>\n      <th>lot5_surface1</th>\n      <th>surface2</th>\n      <th>nombre_pieces</th>\n      <th>nature_culture</th>\n      <th>...</th>\n      <th>mois</th>\n      <th>jour</th>\n      <th>ville_A</th>\n      <th>ville_B</th>\n      <th>ville_C</th>\n      <th>ville_D</th>\n      <th>type_Appartement</th>\n      <th>type_Dépendance</th>\n      <th>type_Local industriel. commercial ou assimilé</th>\n      <th>type_Maison</th>\n    </tr>\n  </thead>\n  <tbody>\n    <tr>\n      <th>count</th>\n      <td>1.019000e+03</td>\n      <td>1.019000e+03</td>\n      <td>1.019000e+03</td>\n      <td>1.019000e+03</td>\n      <td>1.019000e+03</td>\n      <td>1.019000e+03</td>\n      <td>1.019000e+03</td>\n      <td>1.019000e+03</td>\n      <td>1.019000e+03</td>\n      <td>1.019000e+03</td>\n      <td>...</td>\n      <td>1.019000e+03</td>\n      <td>1.019000e+03</td>\n      <td>1019.000000</td>\n      <td>1019.000000</td>\n      <td>1019.000000</td>\n      <td>1019.000000</td>\n      <td>1019.000000</td>\n      <td>1019.000000</td>\n      <td>1019.00000</td>\n      <td>1019.000000</td>\n    </tr>\n    <tr>\n      <th>mean</th>\n      <td>6.275647e-17</td>\n      <td>-5.229706e-17</td>\n      <td>-2.396949e-17</td>\n      <td>6.275647e-17</td>\n      <td>2.789177e-17</td>\n      <td>6.972941e-18</td>\n      <td>3.486471e-18</td>\n      <td>-4.881059e-17</td>\n      <td>1.394588e-17</td>\n      <td>-4.183765e-17</td>\n      <td>...</td>\n      <td>2.702015e-17</td>\n      <td>-2.004721e-16</td>\n      <td>0.052012</td>\n      <td>0.274779</td>\n      <td>0.206084</td>\n      <td>0.467125</td>\n      <td>0.612365</td>\n      <td>0.156035</td>\n      <td>0.07262</td>\n      <td>0.158979</td>\n    </tr>\n    <tr>\n      <th>std</th>\n      <td>1.000491e+00</td>\n      <td>1.000491e+00</td>\n      <td>1.000491e+00</td>\n      <td>1.000491e+00</td>\n      <td>1.000491e+00</td>\n      <td>1.000491e+00</td>\n      <td>1.000491e+00</td>\n      <td>1.000491e+00</td>\n      <td>1.000491e+00</td>\n      <td>1.000491e+00</td>\n      <td>...</td>\n      <td>1.000491e+00</td>\n      <td>1.000491e+00</td>\n      <td>0.222160</td>\n      <td>0.446622</td>\n      <td>0.404690</td>\n      <td>0.499163</td>\n      <td>0.487450</td>\n      <td>0.363067</td>\n      <td>0.25964</td>\n      <td>0.365836</td>\n    </tr>\n    <tr>\n      <th>min</th>\n      <td>-5.017155e-01</td>\n      <td>-1.127080e+00</td>\n      <td>-6.704556e-01</td>\n      <td>-3.295574e-01</td>\n      <td>-9.538664e-02</td>\n      <td>-5.586579e-02</td>\n      <td>-3.134196e-02</td>\n      <td>-9.714145e-01</td>\n      <td>-1.120234e+00</td>\n      <td>-4.474769e-01</td>\n      <td>...</td>\n      <td>-1.643860e+00</td>\n      <td>-1.796273e+00</td>\n      <td>0.000000</td>\n      <td>0.000000</td>\n      <td>0.000000</td>\n      <td>0.000000</td>\n      <td>0.000000</td>\n      <td>0.000000</td>\n      <td>0.00000</td>\n      <td>0.000000</td>\n    </tr>\n    <tr>\n      <th>25%</th>\n      <td>-4.287038e-01</td>\n      <td>-3.043763e-01</td>\n      <td>-6.704556e-01</td>\n      <td>-3.295574e-01</td>\n      <td>-9.538664e-02</td>\n      <td>-5.586579e-02</td>\n      <td>-3.134196e-02</td>\n      <td>-5.879002e-01</td>\n      <td>-6.489217e-01</td>\n      <td>-4.474769e-01</td>\n      <td>...</td>\n      <td>-7.775820e-01</td>\n      <td>-8.934854e-01</td>\n      <td>0.000000</td>\n      <td>0.000000</td>\n      <td>0.000000</td>\n      <td>0.000000</td>\n      <td>0.000000</td>\n      <td>0.000000</td>\n      <td>0.00000</td>\n      <td>0.000000</td>\n    </tr>\n    <tr>\n      <th>50%</th>\n      <td>-3.031221e-01</td>\n      <td>-3.043763e-01</td>\n      <td>-4.929254e-01</td>\n      <td>-3.295574e-01</td>\n      <td>-9.538664e-02</td>\n      <td>-5.586579e-02</td>\n      <td>-3.134196e-02</td>\n      <td>-2.043859e-01</td>\n      <td>-1.776094e-01</td>\n      <td>-4.474769e-01</td>\n      <td>...</td>\n      <td>8.869648e-02</td>\n      <td>1.221510e-01</td>\n      <td>0.000000</td>\n      <td>0.000000</td>\n      <td>0.000000</td>\n      <td>0.000000</td>\n      <td>1.000000</td>\n      <td>0.000000</td>\n      <td>0.00000</td>\n      <td>0.000000</td>\n    </tr>\n    <tr>\n      <th>75%</th>\n      <td>6.534836e-02</td>\n      <td>5.183278e-01</td>\n      <td>4.184266e-01</td>\n      <td>-3.295574e-01</td>\n      <td>-9.538664e-02</td>\n      <td>-5.586579e-02</td>\n      <td>-3.134196e-02</td>\n      <td>2.976692e-01</td>\n      <td>7.650154e-01</td>\n      <td>-4.474769e-01</td>\n      <td>...</td>\n      <td>9.549749e-01</td>\n      <td>9.120905e-01</td>\n      <td>0.000000</td>\n      <td>1.000000</td>\n      <td>0.000000</td>\n      <td>1.000000</td>\n      <td>1.000000</td>\n      <td>0.000000</td>\n      <td>0.00000</td>\n      <td>0.000000</td>\n    </tr>\n    <tr>\n      <th>max</th>\n      <td>1.602348e+01</td>\n      <td>1.614971e+01</td>\n      <td>5.830248e+00</td>\n      <td>8.413801e+00</td>\n      <td>1.832209e+01</td>\n      <td>2.431503e+01</td>\n      <td>3.190611e+01</td>\n      <td>8.316605e+00</td>\n      <td>6.420764e+00</td>\n      <td>2.234752e+00</td>\n      <td>...</td>\n      <td>1.532494e+00</td>\n      <td>1.589181e+00</td>\n      <td>1.000000</td>\n      <td>1.000000</td>\n      <td>1.000000</td>\n      <td>1.000000</td>\n      <td>1.000000</td>\n      <td>1.000000</td>\n      <td>1.00000</td>\n      <td>1.000000</td>\n    </tr>\n  </tbody>\n</table>\n<p>8 rows × 22 columns</p>\n</div>"
     },
     "metadata": {},
     "execution_count": 371
    }
   ],
   "source": [
    "from sklearn.preprocessing import StandardScaler\n",
    "sc = StandardScaler()\n",
    "to_normalize = ['prix', 'nombre_lots', 'lot1_surface1', 'lot2_surface1', 'lot3_surface1', 'lot4_surface1', 'lot5_surface1', 'surface2', 'nombre_pieces', 'nature_culture', 'surface_terrain', 'année', 'mois', 'jour']\n",
    "df_good[to_normalize] = sc.fit_transform(df_good[to_normalize])\n",
    "# prédiction : \n",
    "# y_pred = sc_y.inverse_transform(model.predict(sc_X.transform(np.array([[5.6]]))))\n",
    "df_good.describe()"
   ]
  },
  {
   "cell_type": "code",
   "execution_count": 372,
   "metadata": {},
   "outputs": [],
   "source": [
    "def process_dataframe(df_to_process):\n",
    "    # Replace sols with 1 and nan with 0\n",
    "    df_to_process[\"nature_culture\"].replace({\"sols\": 1, np.nan: 0}, inplace=True)\n",
    "    df_to_process['nature_culture'].unique()\n",
    "    # Taking care of missing data\n",
    "    from sklearn.impute import SimpleImputer\n",
    "    imp_zeros = SimpleImputer(missing_values=np.nan, strategy='constant', fill_value=0)\n",
    "    nan_to_zeros = ['lot1_surface1', 'lot2_surface1', 'lot3_surface1', 'lot3_surface1', 'lot4_surface1', 'lot5_surface1', 'surface2', 'surface_terrain']\n",
    "    df_to_process.loc[:, nan_to_zeros] = imp_zeros.fit_transform(df_to_process.loc[:, nan_to_zeros])\n",
    "    df_to_process[:].isna().sum()\n",
    "    # replace date\n",
    "    df_to_process['année'] = pd.to_datetime(df_to_process['date']).dt.year\n",
    "    df_to_process['mois'] = pd.to_datetime(df_to_process['date']).dt.month\n",
    "    df_to_process['jour'] = pd.to_datetime(df_to_process['date']).dt.day\n",
    "    df_to_process = df_to_process.drop(['date', 'id'], axis=1)\n",
    "    # Encoding categorical data\n",
    "    dummies = pd.get_dummies(df_to_process['ville'], prefix='ville')\n",
    "    df_to_process[dummies.columns] = dummies\n",
    "    df_to_process = df_to_process.drop(['ville'], axis=1)\n",
    "    df_to_process.head()\n",
    "    # Encoding categorical data\n",
    "    dummies = pd.get_dummies(df_to_process['type'], prefix='type')\n",
    "    df_to_process[dummies.columns] = dummies\n",
    "    df_to_process = df_to_process.drop(['type'], axis=1)\n",
    "    df_to_process.head()\n",
    "    # scale\n",
    "    from sklearn.preprocessing import StandardScaler\n",
    "    sc = StandardScaler()\n",
    "    to_normalize = ['prix', 'nombre_lots', 'lot1_surface1', 'lot2_surface1', 'lot3_surface1', 'lot4_surface1', 'lot5_surface1', 'surface2', 'nombre_pieces', 'nature_culture', 'surface_terrain', 'année', 'mois', 'jour']\n",
    "    df_to_process[to_normalize] = sc.fit_transform(df_to_process[to_normalize])\n",
    "    # prédiction : \n",
    "    # y_pred = sc_y.inverse_transform(model.predict(sc_X.transform(np.array([[5.6]]))))\n",
    "    df_to_process.describe()\n",
    "    return df_to_process"
   ]
  },
  {
   "cell_type": "code",
   "execution_count": 373,
   "metadata": {},
   "outputs": [],
   "source": [
    "df_eval_bis = process_dataframe(df_eval)"
   ]
  },
  {
   "cell_type": "code",
   "execution_count": 374,
   "metadata": {},
   "outputs": [
    {
     "output_type": "execute_result",
     "data": {
      "text/plain": [
       "prix                                             0\n",
       "nombre_lots                                      0\n",
       "lot1_surface1                                    0\n",
       "lot2_surface1                                    0\n",
       "lot3_surface1                                    0\n",
       "lot4_surface1                                    0\n",
       "lot5_surface1                                    0\n",
       "surface2                                         0\n",
       "nombre_pieces                                    0\n",
       "nature_culture                                   0\n",
       "surface_terrain                                  0\n",
       "année                                            0\n",
       "mois                                             0\n",
       "jour                                             0\n",
       "ville_A                                          0\n",
       "ville_B                                          0\n",
       "ville_C                                          0\n",
       "ville_D                                          0\n",
       "type_Appartement                                 0\n",
       "type_Dépendance                                  0\n",
       "type_Local industriel. commercial ou assimilé    0\n",
       "type_Maison                                      0\n",
       "dtype: int64"
      ]
     },
     "metadata": {},
     "execution_count": 374
    }
   ],
   "source": [
    "df_eval_bis[:].isna().sum()"
   ]
  },
  {
   "cell_type": "code",
   "execution_count": 375,
   "metadata": {},
   "outputs": [
    {
     "output_type": "execute_result",
     "data": {
      "text/plain": [
       "               prix   nombre_lots  lot1_surface1  lot2_surface1  \\\n",
       "count  1.019000e+03  1.019000e+03   1.019000e+03   1.019000e+03   \n",
       "mean   6.275647e-17 -5.229706e-17  -2.396949e-17   6.275647e-17   \n",
       "std    1.000491e+00  1.000491e+00   1.000491e+00   1.000491e+00   \n",
       "min   -5.017155e-01 -1.127080e+00  -6.704556e-01  -3.295574e-01   \n",
       "25%   -4.287038e-01 -3.043763e-01  -6.704556e-01  -3.295574e-01   \n",
       "50%   -3.031221e-01 -3.043763e-01  -4.929254e-01  -3.295574e-01   \n",
       "75%    6.534836e-02  5.183278e-01   4.184266e-01  -3.295574e-01   \n",
       "max    1.602348e+01  1.614971e+01   5.830248e+00   8.413801e+00   \n",
       "\n",
       "       lot3_surface1  lot4_surface1  lot5_surface1      surface2  \\\n",
       "count   1.019000e+03   1.019000e+03   1.019000e+03  1.019000e+03   \n",
       "mean    2.789177e-17   6.972941e-18   3.486471e-18 -4.881059e-17   \n",
       "std     1.000491e+00   1.000491e+00   1.000491e+00  1.000491e+00   \n",
       "min    -9.538664e-02  -5.586579e-02  -3.134196e-02 -9.714145e-01   \n",
       "25%    -9.538664e-02  -5.586579e-02  -3.134196e-02 -5.879002e-01   \n",
       "50%    -9.538664e-02  -5.586579e-02  -3.134196e-02 -2.043859e-01   \n",
       "75%    -9.538664e-02  -5.586579e-02  -3.134196e-02  2.976692e-01   \n",
       "max     1.832209e+01   2.431503e+01   3.190611e+01  8.316605e+00   \n",
       "\n",
       "       nombre_pieces  nature_culture  ...          mois          jour  \\\n",
       "count   1.019000e+03    1.019000e+03  ...  1.019000e+03  1.019000e+03   \n",
       "mean    1.394588e-17   -4.183765e-17  ...  2.702015e-17 -2.004721e-16   \n",
       "std     1.000491e+00    1.000491e+00  ...  1.000491e+00  1.000491e+00   \n",
       "min    -1.120234e+00   -4.474769e-01  ... -1.643860e+00 -1.796273e+00   \n",
       "25%    -6.489217e-01   -4.474769e-01  ... -7.775820e-01 -8.934854e-01   \n",
       "50%    -1.776094e-01   -4.474769e-01  ...  8.869648e-02  1.221510e-01   \n",
       "75%     7.650154e-01   -4.474769e-01  ...  9.549749e-01  9.120905e-01   \n",
       "max     6.420764e+00    2.234752e+00  ...  1.532494e+00  1.589181e+00   \n",
       "\n",
       "           ville_A      ville_B      ville_C      ville_D  type_Appartement  \\\n",
       "count  1019.000000  1019.000000  1019.000000  1019.000000       1019.000000   \n",
       "mean      0.052012     0.274779     0.206084     0.467125          0.612365   \n",
       "std       0.222160     0.446622     0.404690     0.499163          0.487450   \n",
       "min       0.000000     0.000000     0.000000     0.000000          0.000000   \n",
       "25%       0.000000     0.000000     0.000000     0.000000          0.000000   \n",
       "50%       0.000000     0.000000     0.000000     0.000000          1.000000   \n",
       "75%       0.000000     1.000000     0.000000     1.000000          1.000000   \n",
       "max       1.000000     1.000000     1.000000     1.000000          1.000000   \n",
       "\n",
       "       type_Dépendance  type_Local industriel. commercial ou assimilé  \\\n",
       "count      1019.000000                                     1019.00000   \n",
       "mean          0.156035                                        0.07262   \n",
       "std           0.363067                                        0.25964   \n",
       "min           0.000000                                        0.00000   \n",
       "25%           0.000000                                        0.00000   \n",
       "50%           0.000000                                        0.00000   \n",
       "75%           0.000000                                        0.00000   \n",
       "max           1.000000                                        1.00000   \n",
       "\n",
       "       type_Maison  \n",
       "count  1019.000000  \n",
       "mean      0.158979  \n",
       "std       0.365836  \n",
       "min       0.000000  \n",
       "25%       0.000000  \n",
       "50%       0.000000  \n",
       "75%       0.000000  \n",
       "max       1.000000  \n",
       "\n",
       "[8 rows x 22 columns]"
      ],
      "text/html": "<div>\n<style scoped>\n    .dataframe tbody tr th:only-of-type {\n        vertical-align: middle;\n    }\n\n    .dataframe tbody tr th {\n        vertical-align: top;\n    }\n\n    .dataframe thead th {\n        text-align: right;\n    }\n</style>\n<table border=\"1\" class=\"dataframe\">\n  <thead>\n    <tr style=\"text-align: right;\">\n      <th></th>\n      <th>prix</th>\n      <th>nombre_lots</th>\n      <th>lot1_surface1</th>\n      <th>lot2_surface1</th>\n      <th>lot3_surface1</th>\n      <th>lot4_surface1</th>\n      <th>lot5_surface1</th>\n      <th>surface2</th>\n      <th>nombre_pieces</th>\n      <th>nature_culture</th>\n      <th>...</th>\n      <th>mois</th>\n      <th>jour</th>\n      <th>ville_A</th>\n      <th>ville_B</th>\n      <th>ville_C</th>\n      <th>ville_D</th>\n      <th>type_Appartement</th>\n      <th>type_Dépendance</th>\n      <th>type_Local industriel. commercial ou assimilé</th>\n      <th>type_Maison</th>\n    </tr>\n  </thead>\n  <tbody>\n    <tr>\n      <th>count</th>\n      <td>1.019000e+03</td>\n      <td>1.019000e+03</td>\n      <td>1.019000e+03</td>\n      <td>1.019000e+03</td>\n      <td>1.019000e+03</td>\n      <td>1.019000e+03</td>\n      <td>1.019000e+03</td>\n      <td>1.019000e+03</td>\n      <td>1.019000e+03</td>\n      <td>1.019000e+03</td>\n      <td>...</td>\n      <td>1.019000e+03</td>\n      <td>1.019000e+03</td>\n      <td>1019.000000</td>\n      <td>1019.000000</td>\n      <td>1019.000000</td>\n      <td>1019.000000</td>\n      <td>1019.000000</td>\n      <td>1019.000000</td>\n      <td>1019.00000</td>\n      <td>1019.000000</td>\n    </tr>\n    <tr>\n      <th>mean</th>\n      <td>6.275647e-17</td>\n      <td>-5.229706e-17</td>\n      <td>-2.396949e-17</td>\n      <td>6.275647e-17</td>\n      <td>2.789177e-17</td>\n      <td>6.972941e-18</td>\n      <td>3.486471e-18</td>\n      <td>-4.881059e-17</td>\n      <td>1.394588e-17</td>\n      <td>-4.183765e-17</td>\n      <td>...</td>\n      <td>2.702015e-17</td>\n      <td>-2.004721e-16</td>\n      <td>0.052012</td>\n      <td>0.274779</td>\n      <td>0.206084</td>\n      <td>0.467125</td>\n      <td>0.612365</td>\n      <td>0.156035</td>\n      <td>0.07262</td>\n      <td>0.158979</td>\n    </tr>\n    <tr>\n      <th>std</th>\n      <td>1.000491e+00</td>\n      <td>1.000491e+00</td>\n      <td>1.000491e+00</td>\n      <td>1.000491e+00</td>\n      <td>1.000491e+00</td>\n      <td>1.000491e+00</td>\n      <td>1.000491e+00</td>\n      <td>1.000491e+00</td>\n      <td>1.000491e+00</td>\n      <td>1.000491e+00</td>\n      <td>...</td>\n      <td>1.000491e+00</td>\n      <td>1.000491e+00</td>\n      <td>0.222160</td>\n      <td>0.446622</td>\n      <td>0.404690</td>\n      <td>0.499163</td>\n      <td>0.487450</td>\n      <td>0.363067</td>\n      <td>0.25964</td>\n      <td>0.365836</td>\n    </tr>\n    <tr>\n      <th>min</th>\n      <td>-5.017155e-01</td>\n      <td>-1.127080e+00</td>\n      <td>-6.704556e-01</td>\n      <td>-3.295574e-01</td>\n      <td>-9.538664e-02</td>\n      <td>-5.586579e-02</td>\n      <td>-3.134196e-02</td>\n      <td>-9.714145e-01</td>\n      <td>-1.120234e+00</td>\n      <td>-4.474769e-01</td>\n      <td>...</td>\n      <td>-1.643860e+00</td>\n      <td>-1.796273e+00</td>\n      <td>0.000000</td>\n      <td>0.000000</td>\n      <td>0.000000</td>\n      <td>0.000000</td>\n      <td>0.000000</td>\n      <td>0.000000</td>\n      <td>0.00000</td>\n      <td>0.000000</td>\n    </tr>\n    <tr>\n      <th>25%</th>\n      <td>-4.287038e-01</td>\n      <td>-3.043763e-01</td>\n      <td>-6.704556e-01</td>\n      <td>-3.295574e-01</td>\n      <td>-9.538664e-02</td>\n      <td>-5.586579e-02</td>\n      <td>-3.134196e-02</td>\n      <td>-5.879002e-01</td>\n      <td>-6.489217e-01</td>\n      <td>-4.474769e-01</td>\n      <td>...</td>\n      <td>-7.775820e-01</td>\n      <td>-8.934854e-01</td>\n      <td>0.000000</td>\n      <td>0.000000</td>\n      <td>0.000000</td>\n      <td>0.000000</td>\n      <td>0.000000</td>\n      <td>0.000000</td>\n      <td>0.00000</td>\n      <td>0.000000</td>\n    </tr>\n    <tr>\n      <th>50%</th>\n      <td>-3.031221e-01</td>\n      <td>-3.043763e-01</td>\n      <td>-4.929254e-01</td>\n      <td>-3.295574e-01</td>\n      <td>-9.538664e-02</td>\n      <td>-5.586579e-02</td>\n      <td>-3.134196e-02</td>\n      <td>-2.043859e-01</td>\n      <td>-1.776094e-01</td>\n      <td>-4.474769e-01</td>\n      <td>...</td>\n      <td>8.869648e-02</td>\n      <td>1.221510e-01</td>\n      <td>0.000000</td>\n      <td>0.000000</td>\n      <td>0.000000</td>\n      <td>0.000000</td>\n      <td>1.000000</td>\n      <td>0.000000</td>\n      <td>0.00000</td>\n      <td>0.000000</td>\n    </tr>\n    <tr>\n      <th>75%</th>\n      <td>6.534836e-02</td>\n      <td>5.183278e-01</td>\n      <td>4.184266e-01</td>\n      <td>-3.295574e-01</td>\n      <td>-9.538664e-02</td>\n      <td>-5.586579e-02</td>\n      <td>-3.134196e-02</td>\n      <td>2.976692e-01</td>\n      <td>7.650154e-01</td>\n      <td>-4.474769e-01</td>\n      <td>...</td>\n      <td>9.549749e-01</td>\n      <td>9.120905e-01</td>\n      <td>0.000000</td>\n      <td>1.000000</td>\n      <td>0.000000</td>\n      <td>1.000000</td>\n      <td>1.000000</td>\n      <td>0.000000</td>\n      <td>0.00000</td>\n      <td>0.000000</td>\n    </tr>\n    <tr>\n      <th>max</th>\n      <td>1.602348e+01</td>\n      <td>1.614971e+01</td>\n      <td>5.830248e+00</td>\n      <td>8.413801e+00</td>\n      <td>1.832209e+01</td>\n      <td>2.431503e+01</td>\n      <td>3.190611e+01</td>\n      <td>8.316605e+00</td>\n      <td>6.420764e+00</td>\n      <td>2.234752e+00</td>\n      <td>...</td>\n      <td>1.532494e+00</td>\n      <td>1.589181e+00</td>\n      <td>1.000000</td>\n      <td>1.000000</td>\n      <td>1.000000</td>\n      <td>1.000000</td>\n      <td>1.000000</td>\n      <td>1.000000</td>\n      <td>1.00000</td>\n      <td>1.000000</td>\n    </tr>\n  </tbody>\n</table>\n<p>8 rows × 22 columns</p>\n</div>"
     },
     "metadata": {},
     "execution_count": 375
    }
   ],
   "source": [
    "df_good.describe()"
   ]
  },
  {
   "cell_type": "code",
   "execution_count": 376,
   "metadata": {},
   "outputs": [],
   "source": [
    "y = df_good['prix']\n",
    "X = df_good.drop(['prix'], axis=1)"
   ]
  },
  {
   "cell_type": "code",
   "execution_count": 377,
   "metadata": {},
   "outputs": [],
   "source": [
    "# Splitting the dataset into the Training set and Test set\n",
    "from sklearn.model_selection import train_test_split\n",
    "X_train, X_test, y_train, y_test = train_test_split(X, y, test_size = 0.2, random_state = 0)"
   ]
  },
  {
   "cell_type": "code",
   "execution_count": 378,
   "metadata": {},
   "outputs": [
    {
     "output_type": "stream",
     "name": "stdout",
     "text": [
      "train 0.6094145654409306\ntest 0.6010422812469354\nMSE 0.6387006353951878\n"
     ]
    }
   ],
   "source": [
    "# Fitting Simple Linear Regression to the Training set\n",
    "from sklearn.linear_model import LinearRegression\n",
    "from sklearn.metrics import mean_squared_error\n",
    "lin_reg = LinearRegression()\n",
    "lin_reg.fit(X_train, y_train)\n",
    "# Predicting the Test set results\n",
    "y_pred = lin_reg.predict(X_test)\n",
    "# Visualising the Training set results\n",
    "print(\"train\", lin_reg.score(X_train, y_train))\n",
    "print(\"test\", lin_reg.score(X_test, y_test))\n",
    "print(\"MSE\", mean_squared_error(y_pred, y_test))"
   ]
  },
  {
   "cell_type": "code",
   "execution_count": 379,
   "metadata": {},
   "outputs": [
    {
     "output_type": "stream",
     "name": "stdout",
     "text": [
      "train 0.6094145654409306\ntest 0.6010422812469354\nMSE 1.0671170993733896\n"
     ]
    }
   ],
   "source": [
    "# Fitting SVR to the dataset\n",
    "from sklearn.svm import SVR\n",
    "regressor = SVR(kernel = 'rbf')\n",
    "regressor.fit(X_train, y_train)\n",
    "y_pred = regressor.predict(X_test)\n",
    "# Visualising the Training set results\n",
    "print(\"train\", lin_reg.score(X_train, y_train))\n",
    "print(\"test\", lin_reg.score(X_test, y_test))\n",
    "print(\"MSE\", mean_squared_error(y_pred, y_test))"
   ]
  },
  {
   "cell_type": "code",
   "execution_count": 380,
   "metadata": {},
   "outputs": [
    {
     "output_type": "stream",
     "name": "stdout",
     "text": [
      "train 0.6094145654409306\ntest 0.6010422812469354\nMSE 0.5926411552866548\n"
     ]
    }
   ],
   "source": [
    "# Decision tree\n",
    "from sklearn.tree import DecisionTreeRegressor\n",
    "regressor = DecisionTreeRegressor()\n",
    "regressor.fit(X_train, y_train)\n",
    "y_pred = regressor.predict(X_test)\n",
    "# Visualising the Training set results\n",
    "print(\"train\", lin_reg.score(X_train, y_train))\n",
    "print(\"test\", lin_reg.score(X_test, y_test))\n",
    "print(\"MSE\", mean_squared_error(y_pred, y_test))"
   ]
  },
  {
   "cell_type": "code",
   "execution_count": 381,
   "metadata": {},
   "outputs": [
    {
     "output_type": "stream",
     "name": "stdout",
     "text": [
      "train 0.6094145654409306\ntest 0.6010422812469354\nMSE 0.4458085281824792\n"
     ]
    }
   ],
   "source": [
    "# Random forest \n",
    "from sklearn.ensemble import RandomForestRegressor\n",
    "regressor = RandomForestRegressor(n_estimators = 10)\n",
    "regressor.fit(X_train, y_train)\n",
    "y_pred = regressor.predict(X_test)\n",
    "# Visualising the Training set results\n",
    "print(\"train\", lin_reg.score(X_train, y_train))\n",
    "print(\"test\", lin_reg.score(X_test, y_test))\n",
    "print(\"MSE\", mean_squared_error(y_pred, y_test))"
   ]
  },
  {
   "cell_type": "code",
   "execution_count": 382,
   "metadata": {},
   "outputs": [],
   "source": [
    "# On fait avec eval\n",
    "X = df_good.drop(['prix'], axis=1)\n",
    "y = df_eval_bis['prix']"
   ]
  },
  {
   "cell_type": "code",
   "execution_count": 383,
   "metadata": {},
   "outputs": [],
   "source": [
    "y_pred = regressor.predict(X)"
   ]
  },
  {
   "cell_type": "code",
   "execution_count": 384,
   "metadata": {},
   "outputs": [
    {
     "output_type": "error",
     "ename": "ValueError",
     "evalue": "operands could not be broadcast together with shapes (1019,) (1000,) ",
     "traceback": [
      "\u001b[1;31m---------------------------------------------------------------------------\u001b[0m",
      "\u001b[1;31mValueError\u001b[0m                                Traceback (most recent call last)",
      "\u001b[1;32m<ipython-input-384-f99dc2ce3132>\u001b[0m in \u001b[0;36m<module>\u001b[1;34m\u001b[0m\n\u001b[1;32m----> 1\u001b[1;33m \u001b[0mecarts\u001b[0m \u001b[1;33m=\u001b[0m \u001b[1;33m(\u001b[0m\u001b[0my_pred\u001b[0m \u001b[1;33m-\u001b[0m \u001b[0my\u001b[0m\u001b[1;33m)\u001b[0m \u001b[1;33m**\u001b[0m \u001b[1;36m2\u001b[0m\u001b[1;33m\u001b[0m\u001b[1;33m\u001b[0m\u001b[0m\n\u001b[0m",
      "\u001b[1;32mC:\\Python38\\lib\\site-packages\\pandas\\core\\series.py\u001b[0m in \u001b[0;36m__array_ufunc__\u001b[1;34m(self, ufunc, method, *inputs, **kwargs)\u001b[0m\n\u001b[0;32m    680\u001b[0m \u001b[1;33m\u001b[0m\u001b[0m\n\u001b[0;32m    681\u001b[0m         \u001b[1;31m# for binary ops, use our custom dunder methods\u001b[0m\u001b[1;33m\u001b[0m\u001b[1;33m\u001b[0m\u001b[1;33m\u001b[0m\u001b[0m\n\u001b[1;32m--> 682\u001b[1;33m         result = ops.maybe_dispatch_ufunc_to_dunder_op(\n\u001b[0m\u001b[0;32m    683\u001b[0m             \u001b[0mself\u001b[0m\u001b[1;33m,\u001b[0m \u001b[0mufunc\u001b[0m\u001b[1;33m,\u001b[0m \u001b[0mmethod\u001b[0m\u001b[1;33m,\u001b[0m \u001b[1;33m*\u001b[0m\u001b[0minputs\u001b[0m\u001b[1;33m,\u001b[0m \u001b[1;33m**\u001b[0m\u001b[0mkwargs\u001b[0m\u001b[1;33m\u001b[0m\u001b[1;33m\u001b[0m\u001b[0m\n\u001b[0;32m    684\u001b[0m         )\n",
      "\u001b[1;32mpandas\\_libs\\ops_dispatch.pyx\u001b[0m in \u001b[0;36mpandas._libs.ops_dispatch.maybe_dispatch_ufunc_to_dunder_op\u001b[1;34m()\u001b[0m\n",
      "\u001b[1;32mC:\\Python38\\lib\\site-packages\\pandas\\core\\ops\\common.py\u001b[0m in \u001b[0;36mnew_method\u001b[1;34m(self, other)\u001b[0m\n\u001b[0;32m     63\u001b[0m         \u001b[0mother\u001b[0m \u001b[1;33m=\u001b[0m \u001b[0mitem_from_zerodim\u001b[0m\u001b[1;33m(\u001b[0m\u001b[0mother\u001b[0m\u001b[1;33m)\u001b[0m\u001b[1;33m\u001b[0m\u001b[1;33m\u001b[0m\u001b[0m\n\u001b[0;32m     64\u001b[0m \u001b[1;33m\u001b[0m\u001b[0m\n\u001b[1;32m---> 65\u001b[1;33m         \u001b[1;32mreturn\u001b[0m \u001b[0mmethod\u001b[0m\u001b[1;33m(\u001b[0m\u001b[0mself\u001b[0m\u001b[1;33m,\u001b[0m \u001b[0mother\u001b[0m\u001b[1;33m)\u001b[0m\u001b[1;33m\u001b[0m\u001b[1;33m\u001b[0m\u001b[0m\n\u001b[0m\u001b[0;32m     66\u001b[0m \u001b[1;33m\u001b[0m\u001b[0m\n\u001b[0;32m     67\u001b[0m     \u001b[1;32mreturn\u001b[0m \u001b[0mnew_method\u001b[0m\u001b[1;33m\u001b[0m\u001b[1;33m\u001b[0m\u001b[0m\n",
      "\u001b[1;32mC:\\Python38\\lib\\site-packages\\pandas\\core\\ops\\__init__.py\u001b[0m in \u001b[0;36mwrapper\u001b[1;34m(left, right)\u001b[0m\n\u001b[0;32m    341\u001b[0m         \u001b[0mlvalues\u001b[0m \u001b[1;33m=\u001b[0m \u001b[0mextract_array\u001b[0m\u001b[1;33m(\u001b[0m\u001b[0mleft\u001b[0m\u001b[1;33m,\u001b[0m \u001b[0mextract_numpy\u001b[0m\u001b[1;33m=\u001b[0m\u001b[1;32mTrue\u001b[0m\u001b[1;33m)\u001b[0m\u001b[1;33m\u001b[0m\u001b[1;33m\u001b[0m\u001b[0m\n\u001b[0;32m    342\u001b[0m         \u001b[0mrvalues\u001b[0m \u001b[1;33m=\u001b[0m \u001b[0mextract_array\u001b[0m\u001b[1;33m(\u001b[0m\u001b[0mright\u001b[0m\u001b[1;33m,\u001b[0m \u001b[0mextract_numpy\u001b[0m\u001b[1;33m=\u001b[0m\u001b[1;32mTrue\u001b[0m\u001b[1;33m)\u001b[0m\u001b[1;33m\u001b[0m\u001b[1;33m\u001b[0m\u001b[0m\n\u001b[1;32m--> 343\u001b[1;33m         \u001b[0mresult\u001b[0m \u001b[1;33m=\u001b[0m \u001b[0marithmetic_op\u001b[0m\u001b[1;33m(\u001b[0m\u001b[0mlvalues\u001b[0m\u001b[1;33m,\u001b[0m \u001b[0mrvalues\u001b[0m\u001b[1;33m,\u001b[0m \u001b[0mop\u001b[0m\u001b[1;33m)\u001b[0m\u001b[1;33m\u001b[0m\u001b[1;33m\u001b[0m\u001b[0m\n\u001b[0m\u001b[0;32m    344\u001b[0m \u001b[1;33m\u001b[0m\u001b[0m\n\u001b[0;32m    345\u001b[0m         \u001b[1;32mreturn\u001b[0m \u001b[0mleft\u001b[0m\u001b[1;33m.\u001b[0m\u001b[0m_construct_result\u001b[0m\u001b[1;33m(\u001b[0m\u001b[0mresult\u001b[0m\u001b[1;33m,\u001b[0m \u001b[0mname\u001b[0m\u001b[1;33m=\u001b[0m\u001b[0mres_name\u001b[0m\u001b[1;33m)\u001b[0m\u001b[1;33m\u001b[0m\u001b[1;33m\u001b[0m\u001b[0m\n",
      "\u001b[1;32mC:\\Python38\\lib\\site-packages\\pandas\\core\\ops\\array_ops.py\u001b[0m in \u001b[0;36marithmetic_op\u001b[1;34m(left, right, op)\u001b[0m\n\u001b[0;32m    188\u001b[0m     \u001b[1;32melse\u001b[0m\u001b[1;33m:\u001b[0m\u001b[1;33m\u001b[0m\u001b[1;33m\u001b[0m\u001b[0m\n\u001b[0;32m    189\u001b[0m         \u001b[1;32mwith\u001b[0m \u001b[0mnp\u001b[0m\u001b[1;33m.\u001b[0m\u001b[0merrstate\u001b[0m\u001b[1;33m(\u001b[0m\u001b[0mall\u001b[0m\u001b[1;33m=\u001b[0m\u001b[1;34m\"ignore\"\u001b[0m\u001b[1;33m)\u001b[0m\u001b[1;33m:\u001b[0m\u001b[1;33m\u001b[0m\u001b[1;33m\u001b[0m\u001b[0m\n\u001b[1;32m--> 190\u001b[1;33m             \u001b[0mres_values\u001b[0m \u001b[1;33m=\u001b[0m \u001b[0mna_arithmetic_op\u001b[0m\u001b[1;33m(\u001b[0m\u001b[0mlvalues\u001b[0m\u001b[1;33m,\u001b[0m \u001b[0mrvalues\u001b[0m\u001b[1;33m,\u001b[0m \u001b[0mop\u001b[0m\u001b[1;33m)\u001b[0m\u001b[1;33m\u001b[0m\u001b[1;33m\u001b[0m\u001b[0m\n\u001b[0m\u001b[0;32m    191\u001b[0m \u001b[1;33m\u001b[0m\u001b[0m\n\u001b[0;32m    192\u001b[0m     \u001b[1;32mreturn\u001b[0m \u001b[0mres_values\u001b[0m\u001b[1;33m\u001b[0m\u001b[1;33m\u001b[0m\u001b[0m\n",
      "\u001b[1;32mC:\\Python38\\lib\\site-packages\\pandas\\core\\ops\\array_ops.py\u001b[0m in \u001b[0;36mna_arithmetic_op\u001b[1;34m(left, right, op, is_cmp)\u001b[0m\n\u001b[0;32m    141\u001b[0m \u001b[1;33m\u001b[0m\u001b[0m\n\u001b[0;32m    142\u001b[0m     \u001b[1;32mtry\u001b[0m\u001b[1;33m:\u001b[0m\u001b[1;33m\u001b[0m\u001b[1;33m\u001b[0m\u001b[0m\n\u001b[1;32m--> 143\u001b[1;33m         \u001b[0mresult\u001b[0m \u001b[1;33m=\u001b[0m \u001b[0mexpressions\u001b[0m\u001b[1;33m.\u001b[0m\u001b[0mevaluate\u001b[0m\u001b[1;33m(\u001b[0m\u001b[0mop\u001b[0m\u001b[1;33m,\u001b[0m \u001b[0mleft\u001b[0m\u001b[1;33m,\u001b[0m \u001b[0mright\u001b[0m\u001b[1;33m)\u001b[0m\u001b[1;33m\u001b[0m\u001b[1;33m\u001b[0m\u001b[0m\n\u001b[0m\u001b[0;32m    144\u001b[0m     \u001b[1;32mexcept\u001b[0m \u001b[0mTypeError\u001b[0m\u001b[1;33m:\u001b[0m\u001b[1;33m\u001b[0m\u001b[1;33m\u001b[0m\u001b[0m\n\u001b[0;32m    145\u001b[0m         \u001b[1;32mif\u001b[0m \u001b[0mis_cmp\u001b[0m\u001b[1;33m:\u001b[0m\u001b[1;33m\u001b[0m\u001b[1;33m\u001b[0m\u001b[0m\n",
      "\u001b[1;32mC:\\Python38\\lib\\site-packages\\pandas\\core\\computation\\expressions.py\u001b[0m in \u001b[0;36mevaluate\u001b[1;34m(op, a, b, use_numexpr)\u001b[0m\n\u001b[0;32m    231\u001b[0m         \u001b[0muse_numexpr\u001b[0m \u001b[1;33m=\u001b[0m \u001b[0muse_numexpr\u001b[0m \u001b[1;32mand\u001b[0m \u001b[0m_bool_arith_check\u001b[0m\u001b[1;33m(\u001b[0m\u001b[0mop_str\u001b[0m\u001b[1;33m,\u001b[0m \u001b[0ma\u001b[0m\u001b[1;33m,\u001b[0m \u001b[0mb\u001b[0m\u001b[1;33m)\u001b[0m\u001b[1;33m\u001b[0m\u001b[1;33m\u001b[0m\u001b[0m\n\u001b[0;32m    232\u001b[0m         \u001b[1;32mif\u001b[0m \u001b[0muse_numexpr\u001b[0m\u001b[1;33m:\u001b[0m\u001b[1;33m\u001b[0m\u001b[1;33m\u001b[0m\u001b[0m\n\u001b[1;32m--> 233\u001b[1;33m             \u001b[1;32mreturn\u001b[0m \u001b[0m_evaluate\u001b[0m\u001b[1;33m(\u001b[0m\u001b[0mop\u001b[0m\u001b[1;33m,\u001b[0m \u001b[0mop_str\u001b[0m\u001b[1;33m,\u001b[0m \u001b[0ma\u001b[0m\u001b[1;33m,\u001b[0m \u001b[0mb\u001b[0m\u001b[1;33m)\u001b[0m  \u001b[1;31m# type: ignore\u001b[0m\u001b[1;33m\u001b[0m\u001b[1;33m\u001b[0m\u001b[0m\n\u001b[0m\u001b[0;32m    234\u001b[0m     \u001b[1;32mreturn\u001b[0m \u001b[0m_evaluate_standard\u001b[0m\u001b[1;33m(\u001b[0m\u001b[0mop\u001b[0m\u001b[1;33m,\u001b[0m \u001b[0mop_str\u001b[0m\u001b[1;33m,\u001b[0m \u001b[0ma\u001b[0m\u001b[1;33m,\u001b[0m \u001b[0mb\u001b[0m\u001b[1;33m)\u001b[0m\u001b[1;33m\u001b[0m\u001b[1;33m\u001b[0m\u001b[0m\n\u001b[0;32m    235\u001b[0m \u001b[1;33m\u001b[0m\u001b[0m\n",
      "\u001b[1;32mC:\\Python38\\lib\\site-packages\\pandas\\core\\computation\\expressions.py\u001b[0m in \u001b[0;36m_evaluate_standard\u001b[1;34m(op, op_str, a, b)\u001b[0m\n\u001b[0;32m     66\u001b[0m         \u001b[0m_store_test_result\u001b[0m\u001b[1;33m(\u001b[0m\u001b[1;32mFalse\u001b[0m\u001b[1;33m)\u001b[0m\u001b[1;33m\u001b[0m\u001b[1;33m\u001b[0m\u001b[0m\n\u001b[0;32m     67\u001b[0m     \u001b[1;32mwith\u001b[0m \u001b[0mnp\u001b[0m\u001b[1;33m.\u001b[0m\u001b[0merrstate\u001b[0m\u001b[1;33m(\u001b[0m\u001b[0mall\u001b[0m\u001b[1;33m=\u001b[0m\u001b[1;34m\"ignore\"\u001b[0m\u001b[1;33m)\u001b[0m\u001b[1;33m:\u001b[0m\u001b[1;33m\u001b[0m\u001b[1;33m\u001b[0m\u001b[0m\n\u001b[1;32m---> 68\u001b[1;33m         \u001b[1;32mreturn\u001b[0m \u001b[0mop\u001b[0m\u001b[1;33m(\u001b[0m\u001b[0ma\u001b[0m\u001b[1;33m,\u001b[0m \u001b[0mb\u001b[0m\u001b[1;33m)\u001b[0m\u001b[1;33m\u001b[0m\u001b[1;33m\u001b[0m\u001b[0m\n\u001b[0m\u001b[0;32m     69\u001b[0m \u001b[1;33m\u001b[0m\u001b[0m\n\u001b[0;32m     70\u001b[0m \u001b[1;33m\u001b[0m\u001b[0m\n",
      "\u001b[1;32mC:\\Python38\\lib\\site-packages\\pandas\\core\\ops\\roperator.py\u001b[0m in \u001b[0;36mrsub\u001b[1;34m(left, right)\u001b[0m\n\u001b[0;32m     11\u001b[0m \u001b[1;33m\u001b[0m\u001b[0m\n\u001b[0;32m     12\u001b[0m \u001b[1;32mdef\u001b[0m \u001b[0mrsub\u001b[0m\u001b[1;33m(\u001b[0m\u001b[0mleft\u001b[0m\u001b[1;33m,\u001b[0m \u001b[0mright\u001b[0m\u001b[1;33m)\u001b[0m\u001b[1;33m:\u001b[0m\u001b[1;33m\u001b[0m\u001b[1;33m\u001b[0m\u001b[0m\n\u001b[1;32m---> 13\u001b[1;33m     \u001b[1;32mreturn\u001b[0m \u001b[0mright\u001b[0m \u001b[1;33m-\u001b[0m \u001b[0mleft\u001b[0m\u001b[1;33m\u001b[0m\u001b[1;33m\u001b[0m\u001b[0m\n\u001b[0m\u001b[0;32m     14\u001b[0m \u001b[1;33m\u001b[0m\u001b[0m\n\u001b[0;32m     15\u001b[0m \u001b[1;33m\u001b[0m\u001b[0m\n",
      "\u001b[1;31mValueError\u001b[0m: operands could not be broadcast together with shapes (1019,) (1000,) "
     ]
    }
   ],
   "source": [
    "ecarts = (y_pred - y) ** 2"
   ]
  },
  {
   "cell_type": "code",
   "execution_count": 259,
   "metadata": {},
   "outputs": [
    {
     "output_type": "execute_result",
     "data": {
      "text/plain": [
       "array([522, 610, 750, 997, 458, 929, 732, 665,  24, 578, 437, 504, 991,\n",
       "       937, 664, 479, 947, 875, 374, 529, 521, 884, 440, 535, 622, 527,\n",
       "       930, 370, 436, 655, 876, 434, 774, 649, 352, 911, 192, 475, 523,\n",
       "       629, 418, 672, 915, 524, 694, 640, 900, 536, 872, 507], dtype=int64)"
      ]
     },
     "metadata": {},
     "execution_count": 259
    }
   ],
   "source": [
    "idx = np.array(ecarts).argsort()[-50:][::-1]\n",
    "idx"
   ]
  },
  {
   "cell_type": "code",
   "execution_count": 353,
   "metadata": {},
   "outputs": [
    {
     "output_type": "execute_result",
     "data": {
      "text/plain": [
       "     id        date      prix ville  nombre_lots  lot1_surface1  \\\n",
       "0  1020  2019-12-20  525000.0     A            0            0.0   \n",
       "1  1021  2019-04-19   78000.0     A            0            0.0   \n",
       "2  1022  2018-09-04   85000.0     A            0            0.0   \n",
       "3  1023  2018-03-23   45000.0     A            0            0.0   \n",
       "4  1024  2018-03-16   82500.0     A            0            0.0   \n",
       "\n",
       "   lot2_surface1  lot3_surface1  lot4_surface1  lot5_surface1    type  \\\n",
       "0            0.0            0.0            0.0            0.0  Maison   \n",
       "1            0.0            0.0            0.0            0.0  Maison   \n",
       "2            0.0            0.0            0.0            0.0  Maison   \n",
       "3            0.0            0.0            0.0            0.0  Maison   \n",
       "4            0.0            0.0            0.0            0.0  Maison   \n",
       "\n",
       "   surface2  nombre_pieces  nature_culture  surface_terrain  année  mois  \\\n",
       "0      77.0            4.0               1            455.0   2019    12   \n",
       "1      57.0            3.0               1            806.0   2019     4   \n",
       "2      72.0            3.0               1            459.0   2018     9   \n",
       "3      98.0            5.0               1            260.0   2018     3   \n",
       "4      70.0            4.0               1            160.0   2018     3   \n",
       "\n",
       "   jour   fake  \n",
       "0    20  False  \n",
       "1    19  False  \n",
       "2     4  False  \n",
       "3    23  False  \n",
       "4    16  False  "
      ],
      "text/html": "<div>\n<style scoped>\n    .dataframe tbody tr th:only-of-type {\n        vertical-align: middle;\n    }\n\n    .dataframe tbody tr th {\n        vertical-align: top;\n    }\n\n    .dataframe thead th {\n        text-align: right;\n    }\n</style>\n<table border=\"1\" class=\"dataframe\">\n  <thead>\n    <tr style=\"text-align: right;\">\n      <th></th>\n      <th>id</th>\n      <th>date</th>\n      <th>prix</th>\n      <th>ville</th>\n      <th>nombre_lots</th>\n      <th>lot1_surface1</th>\n      <th>lot2_surface1</th>\n      <th>lot3_surface1</th>\n      <th>lot4_surface1</th>\n      <th>lot5_surface1</th>\n      <th>type</th>\n      <th>surface2</th>\n      <th>nombre_pieces</th>\n      <th>nature_culture</th>\n      <th>surface_terrain</th>\n      <th>année</th>\n      <th>mois</th>\n      <th>jour</th>\n      <th>fake</th>\n    </tr>\n  </thead>\n  <tbody>\n    <tr>\n      <th>0</th>\n      <td>1020</td>\n      <td>2019-12-20</td>\n      <td>525000.0</td>\n      <td>A</td>\n      <td>0</td>\n      <td>0.0</td>\n      <td>0.0</td>\n      <td>0.0</td>\n      <td>0.0</td>\n      <td>0.0</td>\n      <td>Maison</td>\n      <td>77.0</td>\n      <td>4.0</td>\n      <td>1</td>\n      <td>455.0</td>\n      <td>2019</td>\n      <td>12</td>\n      <td>20</td>\n      <td>False</td>\n    </tr>\n    <tr>\n      <th>1</th>\n      <td>1021</td>\n      <td>2019-04-19</td>\n      <td>78000.0</td>\n      <td>A</td>\n      <td>0</td>\n      <td>0.0</td>\n      <td>0.0</td>\n      <td>0.0</td>\n      <td>0.0</td>\n      <td>0.0</td>\n      <td>Maison</td>\n      <td>57.0</td>\n      <td>3.0</td>\n      <td>1</td>\n      <td>806.0</td>\n      <td>2019</td>\n      <td>4</td>\n      <td>19</td>\n      <td>False</td>\n    </tr>\n    <tr>\n      <th>2</th>\n      <td>1022</td>\n      <td>2018-09-04</td>\n      <td>85000.0</td>\n      <td>A</td>\n      <td>0</td>\n      <td>0.0</td>\n      <td>0.0</td>\n      <td>0.0</td>\n      <td>0.0</td>\n      <td>0.0</td>\n      <td>Maison</td>\n      <td>72.0</td>\n      <td>3.0</td>\n      <td>1</td>\n      <td>459.0</td>\n      <td>2018</td>\n      <td>9</td>\n      <td>4</td>\n      <td>False</td>\n    </tr>\n    <tr>\n      <th>3</th>\n      <td>1023</td>\n      <td>2018-03-23</td>\n      <td>45000.0</td>\n      <td>A</td>\n      <td>0</td>\n      <td>0.0</td>\n      <td>0.0</td>\n      <td>0.0</td>\n      <td>0.0</td>\n      <td>0.0</td>\n      <td>Maison</td>\n      <td>98.0</td>\n      <td>5.0</td>\n      <td>1</td>\n      <td>260.0</td>\n      <td>2018</td>\n      <td>3</td>\n      <td>23</td>\n      <td>False</td>\n    </tr>\n    <tr>\n      <th>4</th>\n      <td>1024</td>\n      <td>2018-03-16</td>\n      <td>82500.0</td>\n      <td>A</td>\n      <td>0</td>\n      <td>0.0</td>\n      <td>0.0</td>\n      <td>0.0</td>\n      <td>0.0</td>\n      <td>0.0</td>\n      <td>Maison</td>\n      <td>70.0</td>\n      <td>4.0</td>\n      <td>1</td>\n      <td>160.0</td>\n      <td>2018</td>\n      <td>3</td>\n      <td>16</td>\n      <td>False</td>\n    </tr>\n  </tbody>\n</table>\n</div>"
     },
     "metadata": {},
     "execution_count": 353
    }
   ],
   "source": [
    "df_eval[\"fake\"] = False\n",
    "df.loc[idx,'fake'] = True\n",
    "df_eval.head()"
   ]
  },
  {
   "cell_type": "code",
   "execution_count": 358,
   "metadata": {},
   "outputs": [
    {
     "output_type": "execute_result",
     "data": {
      "text/plain": [
       "       id        date        prix ville  nombre_lots  lot1_surface1  \\\n",
       "24   1044  2018-12-14     40000.0     A            1         198.00   \n",
       "192  1212  2015-07-31    200000.0     B            1         121.91   \n",
       "352  1372  2018-12-21    280000.0     C            1         102.50   \n",
       "370  1390  2019-10-30    475000.0     C            5          37.73   \n",
       "374  1394  2018-10-30   2600000.0     C            2         209.74   \n",
       "418  1438  2017-02-02   2145000.0     C            3         242.44   \n",
       "434  1454  2019-09-20   4275000.0     C            2         280.26   \n",
       "436  1456  2019-06-20         1.0     C            1         117.84   \n",
       "437  1457  2019-05-27    120000.0     C            2           0.00   \n",
       "440  1460  2018-12-04   1538000.0     C            1         170.18   \n",
       "458  1478  2017-10-12    900000.0     C            1         166.85   \n",
       "475  1495  2015-01-21   4000000.0     C            3           0.00   \n",
       "479  1499  2019-09-16     27000.0     C            2           0.00   \n",
       "504  1524  2016-07-11   5500000.0     D            1         114.53   \n",
       "507  1527  2015-12-29   3255000.0     C            6           0.00   \n",
       "521  1541  2017-12-08     27000.0     C            1           0.00   \n",
       "522  1542  2017-09-21  79940000.0     C            0           0.00   \n",
       "523  1543  2017-05-31   3300000.0     C            2         242.16   \n",
       "524  1544  2016-12-22    124200.0     C            2           0.00   \n",
       "527  1547  2016-10-10   3380000.0     C            1         309.20   \n",
       "529  1549  2016-06-30    675000.0     C            2         155.10   \n",
       "535  1555  2019-06-28      1000.0     D            2           0.00   \n",
       "536  1556  2019-06-28   2933000.0     D            4         171.55   \n",
       "578  1598  2017-06-15   4713000.0     D            0           0.00   \n",
       "610  1630  2015-02-17   8400000.0     D            0           0.00   \n",
       "622  1642  2019-06-14   2600000.0     D            1           0.00   \n",
       "629  1649  2019-03-07    328364.4     D            2         139.60   \n",
       "640  1660  2018-07-18   1500000.0     D            1         149.43   \n",
       "649  1669  2018-03-09   2085000.0     D            0           0.00   \n",
       "655  1675  2017-12-14   1200000.0     D            2         268.59   \n",
       "664  1684  2017-07-04   3950000.0     D            0           0.00   \n",
       "665  1685  2017-06-26   3464960.0     D            7           0.00   \n",
       "672  1692  2017-05-15   1330000.0     D            4           0.00   \n",
       "694  1714  2016-08-26   1397600.0     D            1         162.42   \n",
       "732  1752  2019-07-30   7250000.0     D            2         111.01   \n",
       "750  1770  2018-12-28  16780000.0     D            5           0.00   \n",
       "774  1794  2017-10-23   1700000.0     D            1           0.00   \n",
       "872  1892  2018-10-30   1600000.0     D            2           0.00   \n",
       "875  1895  2018-09-28   1795000.0     D            1         167.20   \n",
       "876  1896  2018-09-17   1795000.0     D            1         159.00   \n",
       "884  1904  2018-03-20   1085000.0     D            1           0.00   \n",
       "900  1920  2017-04-07   1637400.0     D            3         190.79   \n",
       "911  1931  2016-08-22   2480000.0     D            1          52.61   \n",
       "915  1935  2016-04-15   1350000.0     D            2         173.28   \n",
       "929  1949  2019-11-28   3400900.0     D            4           0.00   \n",
       "930  1950  2019-10-25   4166667.0     D            1           0.00   \n",
       "937  1957  2019-07-29    118000.0     D            1          10.69   \n",
       "947  1967  2018-06-25   1690821.0     D            1         166.80   \n",
       "991  2011  2015-07-09   3630000.0     D            0           0.00   \n",
       "997  2017  2015-03-16   2046800.0     D            5           0.00   \n",
       "\n",
       "     lot2_surface1  lot3_surface1  lot4_surface1  lot5_surface1  \\\n",
       "24            0.00           0.00           0.00            0.0   \n",
       "192           0.00           0.00           0.00            0.0   \n",
       "352           0.00           0.00           0.00            0.0   \n",
       "370           0.00           0.00           0.00            0.0   \n",
       "374           0.00           0.00           0.00            0.0   \n",
       "418           0.00           0.00           0.00            0.0   \n",
       "434           0.00           0.00           0.00            0.0   \n",
       "436           0.00           0.00           0.00            0.0   \n",
       "437           0.00           0.00           0.00            0.0   \n",
       "440           0.00           0.00           0.00            0.0   \n",
       "458           0.00           0.00           0.00            0.0   \n",
       "475           0.00         203.88           0.00            0.0   \n",
       "479           0.00           0.00           0.00            0.0   \n",
       "504           0.00           0.00           0.00            0.0   \n",
       "507           0.00          12.61           8.63            0.0   \n",
       "521           0.00           0.00           0.00            0.0   \n",
       "522           0.00           0.00           0.00            0.0   \n",
       "523           0.00           0.00           0.00            0.0   \n",
       "524           0.00           0.00           0.00            0.0   \n",
       "527           0.00           0.00           0.00            0.0   \n",
       "529           0.00           0.00           0.00            0.0   \n",
       "535           0.00           0.00           0.00            0.0   \n",
       "536           0.00           0.00           0.00            0.0   \n",
       "578           0.00           0.00           0.00            0.0   \n",
       "610           0.00           0.00           0.00            0.0   \n",
       "622           0.00           0.00           0.00            0.0   \n",
       "629          20.70           0.00           0.00            0.0   \n",
       "640           0.00           0.00           0.00            0.0   \n",
       "649           0.00           0.00           0.00            0.0   \n",
       "655           0.00           0.00           0.00            0.0   \n",
       "664           0.00           0.00           0.00            0.0   \n",
       "665           0.00           0.00           0.00            0.0   \n",
       "672         156.03           0.00           0.00            0.0   \n",
       "694           0.00           0.00           0.00            0.0   \n",
       "732           0.00           0.00           0.00            0.0   \n",
       "750           0.00           0.00           0.00            0.0   \n",
       "774           0.00           0.00           0.00            0.0   \n",
       "872         155.31           0.00           0.00            0.0   \n",
       "875           0.00           0.00           0.00            0.0   \n",
       "876           0.00           0.00           0.00            0.0   \n",
       "884           0.00           0.00           0.00            0.0   \n",
       "900           0.00           0.00           0.00            0.0   \n",
       "911           0.00           0.00           0.00            0.0   \n",
       "915           0.00           0.00           0.00            0.0   \n",
       "929         237.05         237.05           0.00            0.0   \n",
       "930           0.00           0.00           0.00            0.0   \n",
       "937           0.00           0.00           0.00            0.0   \n",
       "947           0.00           0.00           0.00            0.0   \n",
       "991           0.00           0.00           0.00            0.0   \n",
       "997           0.00           0.00           0.00            0.0   \n",
       "\n",
       "                                         type  surface2  nombre_pieces  \\\n",
       "24   Local industriel. commercial ou assimilé     237.0            0.0   \n",
       "192  Local industriel. commercial ou assimilé     789.0            0.0   \n",
       "352                               Appartement     110.0            2.0   \n",
       "370                               Appartement     200.0            2.0   \n",
       "374                               Appartement     208.0            6.0   \n",
       "418                               Appartement     250.0            6.0   \n",
       "434  Local industriel. commercial ou assimilé     290.0            0.0   \n",
       "436  Local industriel. commercial ou assimilé     151.0            0.0   \n",
       "437  Local industriel. commercial ou assimilé     328.0            0.0   \n",
       "440  Local industriel. commercial ou assimilé     181.0            0.0   \n",
       "458  Local industriel. commercial ou assimilé     905.0            0.0   \n",
       "475                               Appartement     178.0            5.0   \n",
       "479                               Appartement     200.0            7.0   \n",
       "504  Local industriel. commercial ou assimilé     126.0            0.0   \n",
       "507  Local industriel. commercial ou assimilé     400.0            0.0   \n",
       "521                                Dépendance     300.0            0.0   \n",
       "522  Local industriel. commercial ou assimilé    4140.0            0.0   \n",
       "523                               Appartement     236.0            6.0   \n",
       "524                               Appartement     155.0            6.0   \n",
       "527  Local industriel. commercial ou assimilé     300.0            0.0   \n",
       "529                               Appartement     155.0            6.0   \n",
       "535                               Appartement     173.0            4.0   \n",
       "536                               Appartement     173.0            4.0   \n",
       "578                                    Maison     350.0           10.0   \n",
       "610                                    Maison     395.0           16.0   \n",
       "622                                Dépendance       0.0            0.0   \n",
       "629  Local industriel. commercial ou assimilé     135.0            0.0   \n",
       "640  Local industriel. commercial ou assimilé     146.0            0.0   \n",
       "649                                    Maison     140.0            5.0   \n",
       "655  Local industriel. commercial ou assimilé     259.0            0.0   \n",
       "664                                    Maison     338.0           10.0   \n",
       "665                                    Maison     290.0            9.0   \n",
       "672                               Appartement     156.0            7.0   \n",
       "694                               Appartement     158.0            5.0   \n",
       "732                               Appartement     113.0            4.0   \n",
       "750  Local industriel. commercial ou assimilé     300.0            0.0   \n",
       "774                                Dépendance       0.0            0.0   \n",
       "872  Local industriel. commercial ou assimilé     160.0            0.0   \n",
       "875                               Appartement     165.0            6.0   \n",
       "876                               Appartement     165.0            6.0   \n",
       "884                                Dépendance     300.0            0.0   \n",
       "900                               Appartement     197.0            5.0   \n",
       "911                               Appartement      57.0            2.0   \n",
       "915                               Appartement     175.0            6.0   \n",
       "929                               Appartement     278.0           10.0   \n",
       "930  Local industriel. commercial ou assimilé     179.0            0.0   \n",
       "937                                Dépendance     300.0            0.0   \n",
       "947                               Appartement     165.0            5.0   \n",
       "991                                Dépendance       0.0            0.0   \n",
       "997                               Appartement     460.0           10.0   \n",
       "\n",
       "     nature_culture  surface_terrain  année  mois  jour  fake  \n",
       "24                0              0.0   2018    12    14  True  \n",
       "192               0              0.0   2015     7    31  True  \n",
       "352               0              0.0   2018    12    21  True  \n",
       "370               0              0.0   2019    10    30  True  \n",
       "374               0              0.0   2018    10    30  True  \n",
       "418               0              0.0   2017     2     2  True  \n",
       "434               0              0.0   2019     9    20  True  \n",
       "436               0              0.0   2019     6    20  True  \n",
       "437               0              0.0   2019     5    27  True  \n",
       "440               0              0.0   2018    12     4  True  \n",
       "458               0              0.0   2017    10    12  True  \n",
       "475               0              0.0   2015     1    21  True  \n",
       "479               0              0.0   2019     9    16  True  \n",
       "504               0              0.0   2016     7    11  True  \n",
       "507               0              0.0   2015    12    29  True  \n",
       "521               0              0.0   2017    12     8  True  \n",
       "522               1            689.0   2017     9    21  True  \n",
       "523               0              0.0   2017     5    31  True  \n",
       "524               0              0.0   2016    12    22  True  \n",
       "527               0              0.0   2016    10    10  True  \n",
       "529               0              0.0   2016     6    30  True  \n",
       "535               0              0.0   2019     6    28  True  \n",
       "536               0              0.0   2019     6    28  True  \n",
       "578               1            470.0   2017     6    15  True  \n",
       "610               1            621.0   2015     2    17  True  \n",
       "622               0              0.0   2019     6    14  True  \n",
       "629               0              0.0   2019     3     7  True  \n",
       "640               0              0.0   2018     7    18  True  \n",
       "649               1            206.0   2018     3     9  True  \n",
       "655               0              0.0   2017    12    14  True  \n",
       "664               1            275.0   2017     7     4  True  \n",
       "665               0              0.0   2017     6    26  True  \n",
       "672               0              0.0   2017     5    15  True  \n",
       "694               0              0.0   2016     8    26  True  \n",
       "732               0              0.0   2019     7    30  True  \n",
       "750               0              0.0   2018    12    28  True  \n",
       "774               0              0.0   2017    10    23  True  \n",
       "872               0              0.0   2018    10    30  True  \n",
       "875               0              0.0   2018     9    28  True  \n",
       "876               0              0.0   2018     9    17  True  \n",
       "884               0              0.0   2018     3    20  True  \n",
       "900               0              0.0   2017     4     7  True  \n",
       "911               0              0.0   2016     8    22  True  \n",
       "915               0              0.0   2016     4    15  True  \n",
       "929               0              0.0   2019    11    28  True  \n",
       "930               0              0.0   2019    10    25  True  \n",
       "937               0              0.0   2019     7    29  True  \n",
       "947               0              0.0   2018     6    25  True  \n",
       "991               1            284.0   2015     7     9  True  \n",
       "997               0              0.0   2015     3    16  True  "
      ],
      "text/html": "<div>\n<style scoped>\n    .dataframe tbody tr th:only-of-type {\n        vertical-align: middle;\n    }\n\n    .dataframe tbody tr th {\n        vertical-align: top;\n    }\n\n    .dataframe thead th {\n        text-align: right;\n    }\n</style>\n<table border=\"1\" class=\"dataframe\">\n  <thead>\n    <tr style=\"text-align: right;\">\n      <th></th>\n      <th>id</th>\n      <th>date</th>\n      <th>prix</th>\n      <th>ville</th>\n      <th>nombre_lots</th>\n      <th>lot1_surface1</th>\n      <th>lot2_surface1</th>\n      <th>lot3_surface1</th>\n      <th>lot4_surface1</th>\n      <th>lot5_surface1</th>\n      <th>type</th>\n      <th>surface2</th>\n      <th>nombre_pieces</th>\n      <th>nature_culture</th>\n      <th>surface_terrain</th>\n      <th>année</th>\n      <th>mois</th>\n      <th>jour</th>\n      <th>fake</th>\n    </tr>\n  </thead>\n  <tbody>\n    <tr>\n      <th>24</th>\n      <td>1044</td>\n      <td>2018-12-14</td>\n      <td>40000.0</td>\n      <td>A</td>\n      <td>1</td>\n      <td>198.00</td>\n      <td>0.00</td>\n      <td>0.00</td>\n      <td>0.00</td>\n      <td>0.0</td>\n      <td>Local industriel. commercial ou assimilé</td>\n      <td>237.0</td>\n      <td>0.0</td>\n      <td>0</td>\n      <td>0.0</td>\n      <td>2018</td>\n      <td>12</td>\n      <td>14</td>\n      <td>True</td>\n    </tr>\n    <tr>\n      <th>192</th>\n      <td>1212</td>\n      <td>2015-07-31</td>\n      <td>200000.0</td>\n      <td>B</td>\n      <td>1</td>\n      <td>121.91</td>\n      <td>0.00</td>\n      <td>0.00</td>\n      <td>0.00</td>\n      <td>0.0</td>\n      <td>Local industriel. commercial ou assimilé</td>\n      <td>789.0</td>\n      <td>0.0</td>\n      <td>0</td>\n      <td>0.0</td>\n      <td>2015</td>\n      <td>7</td>\n      <td>31</td>\n      <td>True</td>\n    </tr>\n    <tr>\n      <th>352</th>\n      <td>1372</td>\n      <td>2018-12-21</td>\n      <td>280000.0</td>\n      <td>C</td>\n      <td>1</td>\n      <td>102.50</td>\n      <td>0.00</td>\n      <td>0.00</td>\n      <td>0.00</td>\n      <td>0.0</td>\n      <td>Appartement</td>\n      <td>110.0</td>\n      <td>2.0</td>\n      <td>0</td>\n      <td>0.0</td>\n      <td>2018</td>\n      <td>12</td>\n      <td>21</td>\n      <td>True</td>\n    </tr>\n    <tr>\n      <th>370</th>\n      <td>1390</td>\n      <td>2019-10-30</td>\n      <td>475000.0</td>\n      <td>C</td>\n      <td>5</td>\n      <td>37.73</td>\n      <td>0.00</td>\n      <td>0.00</td>\n      <td>0.00</td>\n      <td>0.0</td>\n      <td>Appartement</td>\n      <td>200.0</td>\n      <td>2.0</td>\n      <td>0</td>\n      <td>0.0</td>\n      <td>2019</td>\n      <td>10</td>\n      <td>30</td>\n      <td>True</td>\n    </tr>\n    <tr>\n      <th>374</th>\n      <td>1394</td>\n      <td>2018-10-30</td>\n      <td>2600000.0</td>\n      <td>C</td>\n      <td>2</td>\n      <td>209.74</td>\n      <td>0.00</td>\n      <td>0.00</td>\n      <td>0.00</td>\n      <td>0.0</td>\n      <td>Appartement</td>\n      <td>208.0</td>\n      <td>6.0</td>\n      <td>0</td>\n      <td>0.0</td>\n      <td>2018</td>\n      <td>10</td>\n      <td>30</td>\n      <td>True</td>\n    </tr>\n    <tr>\n      <th>418</th>\n      <td>1438</td>\n      <td>2017-02-02</td>\n      <td>2145000.0</td>\n      <td>C</td>\n      <td>3</td>\n      <td>242.44</td>\n      <td>0.00</td>\n      <td>0.00</td>\n      <td>0.00</td>\n      <td>0.0</td>\n      <td>Appartement</td>\n      <td>250.0</td>\n      <td>6.0</td>\n      <td>0</td>\n      <td>0.0</td>\n      <td>2017</td>\n      <td>2</td>\n      <td>2</td>\n      <td>True</td>\n    </tr>\n    <tr>\n      <th>434</th>\n      <td>1454</td>\n      <td>2019-09-20</td>\n      <td>4275000.0</td>\n      <td>C</td>\n      <td>2</td>\n      <td>280.26</td>\n      <td>0.00</td>\n      <td>0.00</td>\n      <td>0.00</td>\n      <td>0.0</td>\n      <td>Local industriel. commercial ou assimilé</td>\n      <td>290.0</td>\n      <td>0.0</td>\n      <td>0</td>\n      <td>0.0</td>\n      <td>2019</td>\n      <td>9</td>\n      <td>20</td>\n      <td>True</td>\n    </tr>\n    <tr>\n      <th>436</th>\n      <td>1456</td>\n      <td>2019-06-20</td>\n      <td>1.0</td>\n      <td>C</td>\n      <td>1</td>\n      <td>117.84</td>\n      <td>0.00</td>\n      <td>0.00</td>\n      <td>0.00</td>\n      <td>0.0</td>\n      <td>Local industriel. commercial ou assimilé</td>\n      <td>151.0</td>\n      <td>0.0</td>\n      <td>0</td>\n      <td>0.0</td>\n      <td>2019</td>\n      <td>6</td>\n      <td>20</td>\n      <td>True</td>\n    </tr>\n    <tr>\n      <th>437</th>\n      <td>1457</td>\n      <td>2019-05-27</td>\n      <td>120000.0</td>\n      <td>C</td>\n      <td>2</td>\n      <td>0.00</td>\n      <td>0.00</td>\n      <td>0.00</td>\n      <td>0.00</td>\n      <td>0.0</td>\n      <td>Local industriel. commercial ou assimilé</td>\n      <td>328.0</td>\n      <td>0.0</td>\n      <td>0</td>\n      <td>0.0</td>\n      <td>2019</td>\n      <td>5</td>\n      <td>27</td>\n      <td>True</td>\n    </tr>\n    <tr>\n      <th>440</th>\n      <td>1460</td>\n      <td>2018-12-04</td>\n      <td>1538000.0</td>\n      <td>C</td>\n      <td>1</td>\n      <td>170.18</td>\n      <td>0.00</td>\n      <td>0.00</td>\n      <td>0.00</td>\n      <td>0.0</td>\n      <td>Local industriel. commercial ou assimilé</td>\n      <td>181.0</td>\n      <td>0.0</td>\n      <td>0</td>\n      <td>0.0</td>\n      <td>2018</td>\n      <td>12</td>\n      <td>4</td>\n      <td>True</td>\n    </tr>\n    <tr>\n      <th>458</th>\n      <td>1478</td>\n      <td>2017-10-12</td>\n      <td>900000.0</td>\n      <td>C</td>\n      <td>1</td>\n      <td>166.85</td>\n      <td>0.00</td>\n      <td>0.00</td>\n      <td>0.00</td>\n      <td>0.0</td>\n      <td>Local industriel. commercial ou assimilé</td>\n      <td>905.0</td>\n      <td>0.0</td>\n      <td>0</td>\n      <td>0.0</td>\n      <td>2017</td>\n      <td>10</td>\n      <td>12</td>\n      <td>True</td>\n    </tr>\n    <tr>\n      <th>475</th>\n      <td>1495</td>\n      <td>2015-01-21</td>\n      <td>4000000.0</td>\n      <td>C</td>\n      <td>3</td>\n      <td>0.00</td>\n      <td>0.00</td>\n      <td>203.88</td>\n      <td>0.00</td>\n      <td>0.0</td>\n      <td>Appartement</td>\n      <td>178.0</td>\n      <td>5.0</td>\n      <td>0</td>\n      <td>0.0</td>\n      <td>2015</td>\n      <td>1</td>\n      <td>21</td>\n      <td>True</td>\n    </tr>\n    <tr>\n      <th>479</th>\n      <td>1499</td>\n      <td>2019-09-16</td>\n      <td>27000.0</td>\n      <td>C</td>\n      <td>2</td>\n      <td>0.00</td>\n      <td>0.00</td>\n      <td>0.00</td>\n      <td>0.00</td>\n      <td>0.0</td>\n      <td>Appartement</td>\n      <td>200.0</td>\n      <td>7.0</td>\n      <td>0</td>\n      <td>0.0</td>\n      <td>2019</td>\n      <td>9</td>\n      <td>16</td>\n      <td>True</td>\n    </tr>\n    <tr>\n      <th>504</th>\n      <td>1524</td>\n      <td>2016-07-11</td>\n      <td>5500000.0</td>\n      <td>D</td>\n      <td>1</td>\n      <td>114.53</td>\n      <td>0.00</td>\n      <td>0.00</td>\n      <td>0.00</td>\n      <td>0.0</td>\n      <td>Local industriel. commercial ou assimilé</td>\n      <td>126.0</td>\n      <td>0.0</td>\n      <td>0</td>\n      <td>0.0</td>\n      <td>2016</td>\n      <td>7</td>\n      <td>11</td>\n      <td>True</td>\n    </tr>\n    <tr>\n      <th>507</th>\n      <td>1527</td>\n      <td>2015-12-29</td>\n      <td>3255000.0</td>\n      <td>C</td>\n      <td>6</td>\n      <td>0.00</td>\n      <td>0.00</td>\n      <td>12.61</td>\n      <td>8.63</td>\n      <td>0.0</td>\n      <td>Local industriel. commercial ou assimilé</td>\n      <td>400.0</td>\n      <td>0.0</td>\n      <td>0</td>\n      <td>0.0</td>\n      <td>2015</td>\n      <td>12</td>\n      <td>29</td>\n      <td>True</td>\n    </tr>\n    <tr>\n      <th>521</th>\n      <td>1541</td>\n      <td>2017-12-08</td>\n      <td>27000.0</td>\n      <td>C</td>\n      <td>1</td>\n      <td>0.00</td>\n      <td>0.00</td>\n      <td>0.00</td>\n      <td>0.00</td>\n      <td>0.0</td>\n      <td>Dépendance</td>\n      <td>300.0</td>\n      <td>0.0</td>\n      <td>0</td>\n      <td>0.0</td>\n      <td>2017</td>\n      <td>12</td>\n      <td>8</td>\n      <td>True</td>\n    </tr>\n    <tr>\n      <th>522</th>\n      <td>1542</td>\n      <td>2017-09-21</td>\n      <td>79940000.0</td>\n      <td>C</td>\n      <td>0</td>\n      <td>0.00</td>\n      <td>0.00</td>\n      <td>0.00</td>\n      <td>0.00</td>\n      <td>0.0</td>\n      <td>Local industriel. commercial ou assimilé</td>\n      <td>4140.0</td>\n      <td>0.0</td>\n      <td>1</td>\n      <td>689.0</td>\n      <td>2017</td>\n      <td>9</td>\n      <td>21</td>\n      <td>True</td>\n    </tr>\n    <tr>\n      <th>523</th>\n      <td>1543</td>\n      <td>2017-05-31</td>\n      <td>3300000.0</td>\n      <td>C</td>\n      <td>2</td>\n      <td>242.16</td>\n      <td>0.00</td>\n      <td>0.00</td>\n      <td>0.00</td>\n      <td>0.0</td>\n      <td>Appartement</td>\n      <td>236.0</td>\n      <td>6.0</td>\n      <td>0</td>\n      <td>0.0</td>\n      <td>2017</td>\n      <td>5</td>\n      <td>31</td>\n      <td>True</td>\n    </tr>\n    <tr>\n      <th>524</th>\n      <td>1544</td>\n      <td>2016-12-22</td>\n      <td>124200.0</td>\n      <td>C</td>\n      <td>2</td>\n      <td>0.00</td>\n      <td>0.00</td>\n      <td>0.00</td>\n      <td>0.00</td>\n      <td>0.0</td>\n      <td>Appartement</td>\n      <td>155.0</td>\n      <td>6.0</td>\n      <td>0</td>\n      <td>0.0</td>\n      <td>2016</td>\n      <td>12</td>\n      <td>22</td>\n      <td>True</td>\n    </tr>\n    <tr>\n      <th>527</th>\n      <td>1547</td>\n      <td>2016-10-10</td>\n      <td>3380000.0</td>\n      <td>C</td>\n      <td>1</td>\n      <td>309.20</td>\n      <td>0.00</td>\n      <td>0.00</td>\n      <td>0.00</td>\n      <td>0.0</td>\n      <td>Local industriel. commercial ou assimilé</td>\n      <td>300.0</td>\n      <td>0.0</td>\n      <td>0</td>\n      <td>0.0</td>\n      <td>2016</td>\n      <td>10</td>\n      <td>10</td>\n      <td>True</td>\n    </tr>\n    <tr>\n      <th>529</th>\n      <td>1549</td>\n      <td>2016-06-30</td>\n      <td>675000.0</td>\n      <td>C</td>\n      <td>2</td>\n      <td>155.10</td>\n      <td>0.00</td>\n      <td>0.00</td>\n      <td>0.00</td>\n      <td>0.0</td>\n      <td>Appartement</td>\n      <td>155.0</td>\n      <td>6.0</td>\n      <td>0</td>\n      <td>0.0</td>\n      <td>2016</td>\n      <td>6</td>\n      <td>30</td>\n      <td>True</td>\n    </tr>\n    <tr>\n      <th>535</th>\n      <td>1555</td>\n      <td>2019-06-28</td>\n      <td>1000.0</td>\n      <td>D</td>\n      <td>2</td>\n      <td>0.00</td>\n      <td>0.00</td>\n      <td>0.00</td>\n      <td>0.00</td>\n      <td>0.0</td>\n      <td>Appartement</td>\n      <td>173.0</td>\n      <td>4.0</td>\n      <td>0</td>\n      <td>0.0</td>\n      <td>2019</td>\n      <td>6</td>\n      <td>28</td>\n      <td>True</td>\n    </tr>\n    <tr>\n      <th>536</th>\n      <td>1556</td>\n      <td>2019-06-28</td>\n      <td>2933000.0</td>\n      <td>D</td>\n      <td>4</td>\n      <td>171.55</td>\n      <td>0.00</td>\n      <td>0.00</td>\n      <td>0.00</td>\n      <td>0.0</td>\n      <td>Appartement</td>\n      <td>173.0</td>\n      <td>4.0</td>\n      <td>0</td>\n      <td>0.0</td>\n      <td>2019</td>\n      <td>6</td>\n      <td>28</td>\n      <td>True</td>\n    </tr>\n    <tr>\n      <th>578</th>\n      <td>1598</td>\n      <td>2017-06-15</td>\n      <td>4713000.0</td>\n      <td>D</td>\n      <td>0</td>\n      <td>0.00</td>\n      <td>0.00</td>\n      <td>0.00</td>\n      <td>0.00</td>\n      <td>0.0</td>\n      <td>Maison</td>\n      <td>350.0</td>\n      <td>10.0</td>\n      <td>1</td>\n      <td>470.0</td>\n      <td>2017</td>\n      <td>6</td>\n      <td>15</td>\n      <td>True</td>\n    </tr>\n    <tr>\n      <th>610</th>\n      <td>1630</td>\n      <td>2015-02-17</td>\n      <td>8400000.0</td>\n      <td>D</td>\n      <td>0</td>\n      <td>0.00</td>\n      <td>0.00</td>\n      <td>0.00</td>\n      <td>0.00</td>\n      <td>0.0</td>\n      <td>Maison</td>\n      <td>395.0</td>\n      <td>16.0</td>\n      <td>1</td>\n      <td>621.0</td>\n      <td>2015</td>\n      <td>2</td>\n      <td>17</td>\n      <td>True</td>\n    </tr>\n    <tr>\n      <th>622</th>\n      <td>1642</td>\n      <td>2019-06-14</td>\n      <td>2600000.0</td>\n      <td>D</td>\n      <td>1</td>\n      <td>0.00</td>\n      <td>0.00</td>\n      <td>0.00</td>\n      <td>0.00</td>\n      <td>0.0</td>\n      <td>Dépendance</td>\n      <td>0.0</td>\n      <td>0.0</td>\n      <td>0</td>\n      <td>0.0</td>\n      <td>2019</td>\n      <td>6</td>\n      <td>14</td>\n      <td>True</td>\n    </tr>\n    <tr>\n      <th>629</th>\n      <td>1649</td>\n      <td>2019-03-07</td>\n      <td>328364.4</td>\n      <td>D</td>\n      <td>2</td>\n      <td>139.60</td>\n      <td>20.70</td>\n      <td>0.00</td>\n      <td>0.00</td>\n      <td>0.0</td>\n      <td>Local industriel. commercial ou assimilé</td>\n      <td>135.0</td>\n      <td>0.0</td>\n      <td>0</td>\n      <td>0.0</td>\n      <td>2019</td>\n      <td>3</td>\n      <td>7</td>\n      <td>True</td>\n    </tr>\n    <tr>\n      <th>640</th>\n      <td>1660</td>\n      <td>2018-07-18</td>\n      <td>1500000.0</td>\n      <td>D</td>\n      <td>1</td>\n      <td>149.43</td>\n      <td>0.00</td>\n      <td>0.00</td>\n      <td>0.00</td>\n      <td>0.0</td>\n      <td>Local industriel. commercial ou assimilé</td>\n      <td>146.0</td>\n      <td>0.0</td>\n      <td>0</td>\n      <td>0.0</td>\n      <td>2018</td>\n      <td>7</td>\n      <td>18</td>\n      <td>True</td>\n    </tr>\n    <tr>\n      <th>649</th>\n      <td>1669</td>\n      <td>2018-03-09</td>\n      <td>2085000.0</td>\n      <td>D</td>\n      <td>0</td>\n      <td>0.00</td>\n      <td>0.00</td>\n      <td>0.00</td>\n      <td>0.00</td>\n      <td>0.0</td>\n      <td>Maison</td>\n      <td>140.0</td>\n      <td>5.0</td>\n      <td>1</td>\n      <td>206.0</td>\n      <td>2018</td>\n      <td>3</td>\n      <td>9</td>\n      <td>True</td>\n    </tr>\n    <tr>\n      <th>655</th>\n      <td>1675</td>\n      <td>2017-12-14</td>\n      <td>1200000.0</td>\n      <td>D</td>\n      <td>2</td>\n      <td>268.59</td>\n      <td>0.00</td>\n      <td>0.00</td>\n      <td>0.00</td>\n      <td>0.0</td>\n      <td>Local industriel. commercial ou assimilé</td>\n      <td>259.0</td>\n      <td>0.0</td>\n      <td>0</td>\n      <td>0.0</td>\n      <td>2017</td>\n      <td>12</td>\n      <td>14</td>\n      <td>True</td>\n    </tr>\n    <tr>\n      <th>664</th>\n      <td>1684</td>\n      <td>2017-07-04</td>\n      <td>3950000.0</td>\n      <td>D</td>\n      <td>0</td>\n      <td>0.00</td>\n      <td>0.00</td>\n      <td>0.00</td>\n      <td>0.00</td>\n      <td>0.0</td>\n      <td>Maison</td>\n      <td>338.0</td>\n      <td>10.0</td>\n      <td>1</td>\n      <td>275.0</td>\n      <td>2017</td>\n      <td>7</td>\n      <td>4</td>\n      <td>True</td>\n    </tr>\n    <tr>\n      <th>665</th>\n      <td>1685</td>\n      <td>2017-06-26</td>\n      <td>3464960.0</td>\n      <td>D</td>\n      <td>7</td>\n      <td>0.00</td>\n      <td>0.00</td>\n      <td>0.00</td>\n      <td>0.00</td>\n      <td>0.0</td>\n      <td>Maison</td>\n      <td>290.0</td>\n      <td>9.0</td>\n      <td>0</td>\n      <td>0.0</td>\n      <td>2017</td>\n      <td>6</td>\n      <td>26</td>\n      <td>True</td>\n    </tr>\n    <tr>\n      <th>672</th>\n      <td>1692</td>\n      <td>2017-05-15</td>\n      <td>1330000.0</td>\n      <td>D</td>\n      <td>4</td>\n      <td>0.00</td>\n      <td>156.03</td>\n      <td>0.00</td>\n      <td>0.00</td>\n      <td>0.0</td>\n      <td>Appartement</td>\n      <td>156.0</td>\n      <td>7.0</td>\n      <td>0</td>\n      <td>0.0</td>\n      <td>2017</td>\n      <td>5</td>\n      <td>15</td>\n      <td>True</td>\n    </tr>\n    <tr>\n      <th>694</th>\n      <td>1714</td>\n      <td>2016-08-26</td>\n      <td>1397600.0</td>\n      <td>D</td>\n      <td>1</td>\n      <td>162.42</td>\n      <td>0.00</td>\n      <td>0.00</td>\n      <td>0.00</td>\n      <td>0.0</td>\n      <td>Appartement</td>\n      <td>158.0</td>\n      <td>5.0</td>\n      <td>0</td>\n      <td>0.0</td>\n      <td>2016</td>\n      <td>8</td>\n      <td>26</td>\n      <td>True</td>\n    </tr>\n    <tr>\n      <th>732</th>\n      <td>1752</td>\n      <td>2019-07-30</td>\n      <td>7250000.0</td>\n      <td>D</td>\n      <td>2</td>\n      <td>111.01</td>\n      <td>0.00</td>\n      <td>0.00</td>\n      <td>0.00</td>\n      <td>0.0</td>\n      <td>Appartement</td>\n      <td>113.0</td>\n      <td>4.0</td>\n      <td>0</td>\n      <td>0.0</td>\n      <td>2019</td>\n      <td>7</td>\n      <td>30</td>\n      <td>True</td>\n    </tr>\n    <tr>\n      <th>750</th>\n      <td>1770</td>\n      <td>2018-12-28</td>\n      <td>16780000.0</td>\n      <td>D</td>\n      <td>5</td>\n      <td>0.00</td>\n      <td>0.00</td>\n      <td>0.00</td>\n      <td>0.00</td>\n      <td>0.0</td>\n      <td>Local industriel. commercial ou assimilé</td>\n      <td>300.0</td>\n      <td>0.0</td>\n      <td>0</td>\n      <td>0.0</td>\n      <td>2018</td>\n      <td>12</td>\n      <td>28</td>\n      <td>True</td>\n    </tr>\n    <tr>\n      <th>774</th>\n      <td>1794</td>\n      <td>2017-10-23</td>\n      <td>1700000.0</td>\n      <td>D</td>\n      <td>1</td>\n      <td>0.00</td>\n      <td>0.00</td>\n      <td>0.00</td>\n      <td>0.00</td>\n      <td>0.0</td>\n      <td>Dépendance</td>\n      <td>0.0</td>\n      <td>0.0</td>\n      <td>0</td>\n      <td>0.0</td>\n      <td>2017</td>\n      <td>10</td>\n      <td>23</td>\n      <td>True</td>\n    </tr>\n    <tr>\n      <th>872</th>\n      <td>1892</td>\n      <td>2018-10-30</td>\n      <td>1600000.0</td>\n      <td>D</td>\n      <td>2</td>\n      <td>0.00</td>\n      <td>155.31</td>\n      <td>0.00</td>\n      <td>0.00</td>\n      <td>0.0</td>\n      <td>Local industriel. commercial ou assimilé</td>\n      <td>160.0</td>\n      <td>0.0</td>\n      <td>0</td>\n      <td>0.0</td>\n      <td>2018</td>\n      <td>10</td>\n      <td>30</td>\n      <td>True</td>\n    </tr>\n    <tr>\n      <th>875</th>\n      <td>1895</td>\n      <td>2018-09-28</td>\n      <td>1795000.0</td>\n      <td>D</td>\n      <td>1</td>\n      <td>167.20</td>\n      <td>0.00</td>\n      <td>0.00</td>\n      <td>0.00</td>\n      <td>0.0</td>\n      <td>Appartement</td>\n      <td>165.0</td>\n      <td>6.0</td>\n      <td>0</td>\n      <td>0.0</td>\n      <td>2018</td>\n      <td>9</td>\n      <td>28</td>\n      <td>True</td>\n    </tr>\n    <tr>\n      <th>876</th>\n      <td>1896</td>\n      <td>2018-09-17</td>\n      <td>1795000.0</td>\n      <td>D</td>\n      <td>1</td>\n      <td>159.00</td>\n      <td>0.00</td>\n      <td>0.00</td>\n      <td>0.00</td>\n      <td>0.0</td>\n      <td>Appartement</td>\n      <td>165.0</td>\n      <td>6.0</td>\n      <td>0</td>\n      <td>0.0</td>\n      <td>2018</td>\n      <td>9</td>\n      <td>17</td>\n      <td>True</td>\n    </tr>\n    <tr>\n      <th>884</th>\n      <td>1904</td>\n      <td>2018-03-20</td>\n      <td>1085000.0</td>\n      <td>D</td>\n      <td>1</td>\n      <td>0.00</td>\n      <td>0.00</td>\n      <td>0.00</td>\n      <td>0.00</td>\n      <td>0.0</td>\n      <td>Dépendance</td>\n      <td>300.0</td>\n      <td>0.0</td>\n      <td>0</td>\n      <td>0.0</td>\n      <td>2018</td>\n      <td>3</td>\n      <td>20</td>\n      <td>True</td>\n    </tr>\n    <tr>\n      <th>900</th>\n      <td>1920</td>\n      <td>2017-04-07</td>\n      <td>1637400.0</td>\n      <td>D</td>\n      <td>3</td>\n      <td>190.79</td>\n      <td>0.00</td>\n      <td>0.00</td>\n      <td>0.00</td>\n      <td>0.0</td>\n      <td>Appartement</td>\n      <td>197.0</td>\n      <td>5.0</td>\n      <td>0</td>\n      <td>0.0</td>\n      <td>2017</td>\n      <td>4</td>\n      <td>7</td>\n      <td>True</td>\n    </tr>\n    <tr>\n      <th>911</th>\n      <td>1931</td>\n      <td>2016-08-22</td>\n      <td>2480000.0</td>\n      <td>D</td>\n      <td>1</td>\n      <td>52.61</td>\n      <td>0.00</td>\n      <td>0.00</td>\n      <td>0.00</td>\n      <td>0.0</td>\n      <td>Appartement</td>\n      <td>57.0</td>\n      <td>2.0</td>\n      <td>0</td>\n      <td>0.0</td>\n      <td>2016</td>\n      <td>8</td>\n      <td>22</td>\n      <td>True</td>\n    </tr>\n    <tr>\n      <th>915</th>\n      <td>1935</td>\n      <td>2016-04-15</td>\n      <td>1350000.0</td>\n      <td>D</td>\n      <td>2</td>\n      <td>173.28</td>\n      <td>0.00</td>\n      <td>0.00</td>\n      <td>0.00</td>\n      <td>0.0</td>\n      <td>Appartement</td>\n      <td>175.0</td>\n      <td>6.0</td>\n      <td>0</td>\n      <td>0.0</td>\n      <td>2016</td>\n      <td>4</td>\n      <td>15</td>\n      <td>True</td>\n    </tr>\n    <tr>\n      <th>929</th>\n      <td>1949</td>\n      <td>2019-11-28</td>\n      <td>3400900.0</td>\n      <td>D</td>\n      <td>4</td>\n      <td>0.00</td>\n      <td>237.05</td>\n      <td>237.05</td>\n      <td>0.00</td>\n      <td>0.0</td>\n      <td>Appartement</td>\n      <td>278.0</td>\n      <td>10.0</td>\n      <td>0</td>\n      <td>0.0</td>\n      <td>2019</td>\n      <td>11</td>\n      <td>28</td>\n      <td>True</td>\n    </tr>\n    <tr>\n      <th>930</th>\n      <td>1950</td>\n      <td>2019-10-25</td>\n      <td>4166667.0</td>\n      <td>D</td>\n      <td>1</td>\n      <td>0.00</td>\n      <td>0.00</td>\n      <td>0.00</td>\n      <td>0.00</td>\n      <td>0.0</td>\n      <td>Local industriel. commercial ou assimilé</td>\n      <td>179.0</td>\n      <td>0.0</td>\n      <td>0</td>\n      <td>0.0</td>\n      <td>2019</td>\n      <td>10</td>\n      <td>25</td>\n      <td>True</td>\n    </tr>\n    <tr>\n      <th>937</th>\n      <td>1957</td>\n      <td>2019-07-29</td>\n      <td>118000.0</td>\n      <td>D</td>\n      <td>1</td>\n      <td>10.69</td>\n      <td>0.00</td>\n      <td>0.00</td>\n      <td>0.00</td>\n      <td>0.0</td>\n      <td>Dépendance</td>\n      <td>300.0</td>\n      <td>0.0</td>\n      <td>0</td>\n      <td>0.0</td>\n      <td>2019</td>\n      <td>7</td>\n      <td>29</td>\n      <td>True</td>\n    </tr>\n    <tr>\n      <th>947</th>\n      <td>1967</td>\n      <td>2018-06-25</td>\n      <td>1690821.0</td>\n      <td>D</td>\n      <td>1</td>\n      <td>166.80</td>\n      <td>0.00</td>\n      <td>0.00</td>\n      <td>0.00</td>\n      <td>0.0</td>\n      <td>Appartement</td>\n      <td>165.0</td>\n      <td>5.0</td>\n      <td>0</td>\n      <td>0.0</td>\n      <td>2018</td>\n      <td>6</td>\n      <td>25</td>\n      <td>True</td>\n    </tr>\n    <tr>\n      <th>991</th>\n      <td>2011</td>\n      <td>2015-07-09</td>\n      <td>3630000.0</td>\n      <td>D</td>\n      <td>0</td>\n      <td>0.00</td>\n      <td>0.00</td>\n      <td>0.00</td>\n      <td>0.00</td>\n      <td>0.0</td>\n      <td>Dépendance</td>\n      <td>0.0</td>\n      <td>0.0</td>\n      <td>1</td>\n      <td>284.0</td>\n      <td>2015</td>\n      <td>7</td>\n      <td>9</td>\n      <td>True</td>\n    </tr>\n    <tr>\n      <th>997</th>\n      <td>2017</td>\n      <td>2015-03-16</td>\n      <td>2046800.0</td>\n      <td>D</td>\n      <td>5</td>\n      <td>0.00</td>\n      <td>0.00</td>\n      <td>0.00</td>\n      <td>0.00</td>\n      <td>0.0</td>\n      <td>Appartement</td>\n      <td>460.0</td>\n      <td>10.0</td>\n      <td>0</td>\n      <td>0.0</td>\n      <td>2015</td>\n      <td>3</td>\n      <td>16</td>\n      <td>True</td>\n    </tr>\n  </tbody>\n</table>\n</div>"
     },
     "metadata": {},
     "execution_count": 358
    }
   ],
   "source": [
    "df_eval[df_eval[\"fake\"] == True]"
   ]
  }
 ]
}